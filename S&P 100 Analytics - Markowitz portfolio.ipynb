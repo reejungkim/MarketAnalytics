{
 "cells": [
  {
   "cell_type": "code",
   "execution_count": 1,
   "metadata": {},
   "outputs": [],
   "source": [
    "import timeit\n",
    "import datetime as dt\n",
    "import os\n",
    "import subprocess \n",
    "\n",
    "import pandas as pd\n",
    "import numpy as np\n",
    "\n",
    "#for portofolio optimization \n",
    "import scipy.optimize as sco\n",
    "\n",
    "\n",
    "#visualization\n",
    "import matplotlib as mpl\n",
    "import matplotlib.pyplot as plt\n",
    "#import plotly.graph_objs as go\n",
    "%matplotlib inline\n",
    "#visualization with seaborn\n",
    "import seaborn as sns\n",
    "#visualization with plotly \n",
    "import plotly.graph_objects as go #for candle chart visualization\n",
    "import plotly.express as px #for html output\n",
    "\n",
    "\n",
    "#to get financial data\n",
    "from pandas_datareader import data as pdr\n",
    "\n",
    "\n",
    "#for webscraping \n",
    "import requests\n",
    "from bs4 import BeautifulSoup \n",
    "from selenium import webdriver\n",
    "from selenium.webdriver.common.keys import Keys\n",
    "import pandas as pd\n",
    "import requests\n",
    "\n",
    "\n",
    "#for pdf report generation\n",
    "from reportlab.pdfgen import canvas\n",
    "from reportlab.platypus import *\n",
    "from reportlab.lib import colors\n",
    "from reportlab.lib.pagesizes import letter, landscape\n",
    "from reportlab.lib.styles import getSampleStyleSheet, ParagraphStyle\n",
    "from reportlab.lib.units import inch\n",
    "from reportlab.platypus.tableofcontents import TableOfContents\n"
   ]
  },
  {
   "cell_type": "code",
   "execution_count": 2,
   "metadata": {},
   "outputs": [],
   "source": [
    "days_to_lookback =  20    #int (input('days to search financial data:'))"
   ]
  },
  {
   "cell_type": "code",
   "execution_count": 3,
   "metadata": {},
   "outputs": [],
   "source": [
    "riskfree = .0019"
   ]
  },
  {
   "cell_type": "code",
   "execution_count": 4,
   "metadata": {},
   "outputs": [],
   "source": [
    "date_end = dt.datetime.now() #.today()\n",
    "date_start = date_end - dt.timedelta(days_to_lookback)"
   ]
  },
  {
   "cell_type": "markdown",
   "metadata": {},
   "source": [
    "# Create timestamped folder to save reports created later"
   ]
  },
  {
   "cell_type": "code",
   "execution_count": 5,
   "metadata": {},
   "outputs": [
    {
     "data": {
      "text/plain": [
       "'2020-10-04 12-43-02'"
      ]
     },
     "execution_count": 5,
     "metadata": {},
     "output_type": "execute_result"
    }
   ],
   "source": [
    "#timestamp = str(dt.datetime.now()) <- '2020-06-26 20:26:08.775766'  \n",
    "timestamp =  dt.datetime.now().strftime('%Y-%m-%d %H-%M-%S')\n",
    "timestamp"
   ]
  },
  {
   "cell_type": "code",
   "execution_count": 6,
   "metadata": {},
   "outputs": [
    {
     "data": {
      "text/plain": [
       "'/Users/reejungkim/Documents/Git/S&P/Markowitz portflio output 2020-10-04 12-43-02'"
      ]
     },
     "execution_count": 6,
     "metadata": {},
     "output_type": "execute_result"
    }
   ],
   "source": [
    "path = os.getcwd() \n",
    "reportDir = os.path.join(path, \"Markowitz portflio output \" + timestamp)\n",
    "reportDir"
   ]
  },
  {
   "cell_type": "code",
   "execution_count": 7,
   "metadata": {},
   "outputs": [],
   "source": [
    "#create named folder\n",
    "os.makedirs(reportDir, exist_ok = False)"
   ]
  },
  {
   "cell_type": "code",
   "execution_count": 8,
   "metadata": {},
   "outputs": [],
   "source": [
    "os.chdir(reportDir)"
   ]
  },
  {
   "cell_type": "markdown",
   "metadata": {},
   "source": [
    "# Web scraping S&P100 companies from Wikipedia table"
   ]
  },
  {
   "cell_type": "code",
   "execution_count": 9,
   "metadata": {},
   "outputs": [],
   "source": [
    "website_url = requests.get(\"https://en.wikipedia.org/wiki/S%26P_100\").text\n",
    "\n",
    "soup = BeautifulSoup(website_url,'lxml')\n",
    "#print(soup.prettify())"
   ]
  },
  {
   "cell_type": "code",
   "execution_count": 10,
   "metadata": {},
   "outputs": [],
   "source": [
    "wiki_table = soup.find('table',{'class':'wikitable sortable'})"
   ]
  },
  {
   "cell_type": "code",
   "execution_count": 11,
   "metadata": {},
   "outputs": [],
   "source": [
    "data = []\n",
    "tHeader = []\n",
    "SP100_tickers = pd.DataFrame()\n",
    "\n",
    "for tr in wiki_table.find_all(\"tr\"):\n",
    "    for th in tr.find_all(\"th\")[:1]:\n",
    "        tHeader = th.get_text(strip=True)\n",
    "        SP100_tickers[tHeader] = []\n",
    "    for td in tr.find_all(\"td\")[:1]:\n",
    "        data.append( td.get_text(strip=True))\n",
    "        \n",
    "SP100_tickers[tHeader] = data"
   ]
  },
  {
   "cell_type": "markdown",
   "metadata": {
    "scrolled": true
   },
   "source": [
    "SP100_tickers.to_csv('S&P100 tickers.csv')"
   ]
  },
  {
   "cell_type": "markdown",
   "metadata": {},
   "source": [
    "# Use DataReader to get financial data of S&P100 companies from yahoo"
   ]
  },
  {
   "cell_type": "code",
   "execution_count": 12,
   "metadata": {
    "scrolled": true
   },
   "outputs": [
    {
     "name": "stdout",
     "output_type": "stream",
     "text": [
      "CPU times: user 6.83 s, sys: 834 ms, total: 7.66 s\n",
      "Wall time: 2min 21s\n"
     ]
    }
   ],
   "source": [
    "%%time\n",
    "\n",
    "df = pd.DataFrame()\n",
    "\n",
    "for i in data:\n",
    "    symbol = SP100_tickers.loc[SP100_tickers['Symbol']==i]\n",
    "    try:\n",
    "        symbol_data = pdr.DataReader(i, 'yahoo', date_start, date_end).reset_index()\n",
    "        #display(symbol_data)  \n",
    "    except (KeyError, ValueError):  # the error could possibly occur when there's \".\" in stock name \n",
    "        symbol_data = pdr.DataReader(i.replace('.','-'), 'yahoo', date_start, date_end).reset_index()\n",
    "        #symbol_data = pd.DataFrame()\n",
    "        pass\n",
    "    except:\n",
    "        print(i + \" - Error.\")\n",
    "        symbol_data = pd.DataFrame()\n",
    "        pass\n",
    "    single_table = pd.concat([symbol, symbol_data], axis=0, ignore_index=True) #axis=0 <- row. add frames by row and use fill down.\n",
    "    single_table['Symbol'].ffill(inplace=True)\n",
    "    df = df.append(single_table)\n",
    "    "
   ]
  },
  {
   "cell_type": "code",
   "execution_count": 13,
   "metadata": {
    "scrolled": true
   },
   "outputs": [],
   "source": [
    "df = df.loc[df['Date'].notnull()]\n",
    "\n",
    "df = df.reset_index(drop=True)"
   ]
  },
  {
   "cell_type": "markdown",
   "metadata": {
    "scrolled": true
   },
   "source": [
    "df.groupby(['Symbol']).describe().transpose()"
   ]
  },
  {
   "cell_type": "code",
   "execution_count": 14,
   "metadata": {},
   "outputs": [],
   "source": [
    "df_Flat = df"
   ]
  },
  {
   "cell_type": "markdown",
   "metadata": {},
   "source": [
    "# Prepare data frame to display volatility and to be normalized"
   ]
  },
  {
   "cell_type": "code",
   "execution_count": 15,
   "metadata": {
    "scrolled": true
   },
   "outputs": [],
   "source": [
    "d = df.pivot_table(values='Close', index='Date', columns='Symbol', aggfunc=np.sum, margins=False)"
   ]
  },
  {
   "cell_type": "code",
   "execution_count": 16,
   "metadata": {
    "scrolled": true
   },
   "outputs": [
    {
     "data": {
      "text/html": [
       "<div>\n",
       "<style scoped>\n",
       "    .dataframe tbody tr th:only-of-type {\n",
       "        vertical-align: middle;\n",
       "    }\n",
       "\n",
       "    .dataframe tbody tr th {\n",
       "        vertical-align: top;\n",
       "    }\n",
       "\n",
       "    .dataframe thead th {\n",
       "        text-align: right;\n",
       "    }\n",
       "</style>\n",
       "<table border=\"1\" class=\"dataframe\">\n",
       "  <thead>\n",
       "    <tr style=\"text-align: right;\">\n",
       "      <th>Symbol</th>\n",
       "      <th>AAPL</th>\n",
       "      <th>ABBV</th>\n",
       "      <th>ABT</th>\n",
       "      <th>ACN</th>\n",
       "      <th>ADBE</th>\n",
       "      <th>AIG</th>\n",
       "      <th>ALL</th>\n",
       "      <th>AMGN</th>\n",
       "      <th>AMT</th>\n",
       "      <th>AMZN</th>\n",
       "      <th>...</th>\n",
       "      <th>UNH</th>\n",
       "      <th>UNP</th>\n",
       "      <th>UPS</th>\n",
       "      <th>USB</th>\n",
       "      <th>V</th>\n",
       "      <th>VZ</th>\n",
       "      <th>WBA</th>\n",
       "      <th>WFC</th>\n",
       "      <th>WMT</th>\n",
       "      <th>XOM</th>\n",
       "    </tr>\n",
       "    <tr>\n",
       "      <th>Date</th>\n",
       "      <th></th>\n",
       "      <th></th>\n",
       "      <th></th>\n",
       "      <th></th>\n",
       "      <th></th>\n",
       "      <th></th>\n",
       "      <th></th>\n",
       "      <th></th>\n",
       "      <th></th>\n",
       "      <th></th>\n",
       "      <th></th>\n",
       "      <th></th>\n",
       "      <th></th>\n",
       "      <th></th>\n",
       "      <th></th>\n",
       "      <th></th>\n",
       "      <th></th>\n",
       "      <th></th>\n",
       "      <th></th>\n",
       "      <th></th>\n",
       "      <th></th>\n",
       "    </tr>\n",
       "  </thead>\n",
       "  <tbody>\n",
       "    <tr>\n",
       "      <th>2020-09-14</th>\n",
       "      <td>115.360001</td>\n",
       "      <td>90.489998</td>\n",
       "      <td>105.690002</td>\n",
       "      <td>238.830002</td>\n",
       "      <td>485.910004</td>\n",
       "      <td>29.400000</td>\n",
       "      <td>94.949997</td>\n",
       "      <td>246.750000</td>\n",
       "      <td>253.899994</td>\n",
       "      <td>3102.969971</td>\n",
       "      <td>...</td>\n",
       "      <td>308.570007</td>\n",
       "      <td>198.839996</td>\n",
       "      <td>160.139999</td>\n",
       "      <td>37.869999</td>\n",
       "      <td>204.979996</td>\n",
       "      <td>60.320000</td>\n",
       "      <td>35.110001</td>\n",
       "      <td>24.809999</td>\n",
       "      <td>137.320007</td>\n",
       "      <td>36.660000</td>\n",
       "    </tr>\n",
       "    <tr>\n",
       "      <th>2020-09-15</th>\n",
       "      <td>115.540001</td>\n",
       "      <td>90.910004</td>\n",
       "      <td>106.580002</td>\n",
       "      <td>240.199997</td>\n",
       "      <td>497.670013</td>\n",
       "      <td>28.930000</td>\n",
       "      <td>94.839996</td>\n",
       "      <td>248.350006</td>\n",
       "      <td>263.750000</td>\n",
       "      <td>3156.129883</td>\n",
       "      <td>...</td>\n",
       "      <td>307.230011</td>\n",
       "      <td>202.369995</td>\n",
       "      <td>161.529999</td>\n",
       "      <td>37.320000</td>\n",
       "      <td>205.389999</td>\n",
       "      <td>60.599998</td>\n",
       "      <td>35.270000</td>\n",
       "      <td>24.879999</td>\n",
       "      <td>137.360001</td>\n",
       "      <td>36.270000</td>\n",
       "    </tr>\n",
       "    <tr>\n",
       "      <th>2020-09-16</th>\n",
       "      <td>112.129997</td>\n",
       "      <td>89.779999</td>\n",
       "      <td>105.699997</td>\n",
       "      <td>239.419998</td>\n",
       "      <td>476.000000</td>\n",
       "      <td>29.770000</td>\n",
       "      <td>95.910004</td>\n",
       "      <td>247.759995</td>\n",
       "      <td>263.290009</td>\n",
       "      <td>3078.100098</td>\n",
       "      <td>...</td>\n",
       "      <td>306.519989</td>\n",
       "      <td>201.419998</td>\n",
       "      <td>159.869995</td>\n",
       "      <td>38.160000</td>\n",
       "      <td>205.130005</td>\n",
       "      <td>60.369999</td>\n",
       "      <td>36.279999</td>\n",
       "      <td>25.709999</td>\n",
       "      <td>136.259995</td>\n",
       "      <td>37.810001</td>\n",
       "    </tr>\n",
       "    <tr>\n",
       "      <th>2020-09-17</th>\n",
       "      <td>110.339996</td>\n",
       "      <td>89.629997</td>\n",
       "      <td>106.660004</td>\n",
       "      <td>236.820007</td>\n",
       "      <td>474.299988</td>\n",
       "      <td>28.700001</td>\n",
       "      <td>92.800003</td>\n",
       "      <td>248.080002</td>\n",
       "      <td>250.729996</td>\n",
       "      <td>3008.729980</td>\n",
       "      <td>...</td>\n",
       "      <td>304.980011</td>\n",
       "      <td>201.649994</td>\n",
       "      <td>159.750000</td>\n",
       "      <td>37.889999</td>\n",
       "      <td>205.270004</td>\n",
       "      <td>60.590000</td>\n",
       "      <td>37.209999</td>\n",
       "      <td>25.110001</td>\n",
       "      <td>136.690002</td>\n",
       "      <td>37.799999</td>\n",
       "    </tr>\n",
       "    <tr>\n",
       "      <th>2020-09-18</th>\n",
       "      <td>106.839996</td>\n",
       "      <td>90.110001</td>\n",
       "      <td>106.860001</td>\n",
       "      <td>236.179993</td>\n",
       "      <td>467.549988</td>\n",
       "      <td>27.990000</td>\n",
       "      <td>91.279999</td>\n",
       "      <td>247.720001</td>\n",
       "      <td>245.500000</td>\n",
       "      <td>2954.909912</td>\n",
       "      <td>...</td>\n",
       "      <td>308.019989</td>\n",
       "      <td>199.800003</td>\n",
       "      <td>159.660004</td>\n",
       "      <td>37.619999</td>\n",
       "      <td>202.610001</td>\n",
       "      <td>60.349998</td>\n",
       "      <td>36.930000</td>\n",
       "      <td>25.129999</td>\n",
       "      <td>135.289993</td>\n",
       "      <td>37.189999</td>\n",
       "    </tr>\n",
       "  </tbody>\n",
       "</table>\n",
       "<p>5 rows × 101 columns</p>\n",
       "</div>"
      ],
      "text/plain": [
       "Symbol            AAPL       ABBV         ABT         ACN        ADBE  \\\n",
       "Date                                                                    \n",
       "2020-09-14  115.360001  90.489998  105.690002  238.830002  485.910004   \n",
       "2020-09-15  115.540001  90.910004  106.580002  240.199997  497.670013   \n",
       "2020-09-16  112.129997  89.779999  105.699997  239.419998  476.000000   \n",
       "2020-09-17  110.339996  89.629997  106.660004  236.820007  474.299988   \n",
       "2020-09-18  106.839996  90.110001  106.860001  236.179993  467.549988   \n",
       "\n",
       "Symbol            AIG        ALL        AMGN         AMT         AMZN  ...  \\\n",
       "Date                                                                   ...   \n",
       "2020-09-14  29.400000  94.949997  246.750000  253.899994  3102.969971  ...   \n",
       "2020-09-15  28.930000  94.839996  248.350006  263.750000  3156.129883  ...   \n",
       "2020-09-16  29.770000  95.910004  247.759995  263.290009  3078.100098  ...   \n",
       "2020-09-17  28.700001  92.800003  248.080002  250.729996  3008.729980  ...   \n",
       "2020-09-18  27.990000  91.279999  247.720001  245.500000  2954.909912  ...   \n",
       "\n",
       "Symbol             UNH         UNP         UPS        USB           V  \\\n",
       "Date                                                                    \n",
       "2020-09-14  308.570007  198.839996  160.139999  37.869999  204.979996   \n",
       "2020-09-15  307.230011  202.369995  161.529999  37.320000  205.389999   \n",
       "2020-09-16  306.519989  201.419998  159.869995  38.160000  205.130005   \n",
       "2020-09-17  304.980011  201.649994  159.750000  37.889999  205.270004   \n",
       "2020-09-18  308.019989  199.800003  159.660004  37.619999  202.610001   \n",
       "\n",
       "Symbol             VZ        WBA        WFC         WMT        XOM  \n",
       "Date                                                                \n",
       "2020-09-14  60.320000  35.110001  24.809999  137.320007  36.660000  \n",
       "2020-09-15  60.599998  35.270000  24.879999  137.360001  36.270000  \n",
       "2020-09-16  60.369999  36.279999  25.709999  136.259995  37.810001  \n",
       "2020-09-17  60.590000  37.209999  25.110001  136.690002  37.799999  \n",
       "2020-09-18  60.349998  36.930000  25.129999  135.289993  37.189999  \n",
       "\n",
       "[5 rows x 101 columns]"
      ]
     },
     "execution_count": 16,
     "metadata": {},
     "output_type": "execute_result"
    }
   ],
   "source": [
    "d.head()"
   ]
  },
  {
   "cell_type": "code",
   "execution_count": 17,
   "metadata": {
    "scrolled": true
   },
   "outputs": [
    {
     "data": {
      "text/html": [
       "<div>\n",
       "<style scoped>\n",
       "    .dataframe tbody tr th:only-of-type {\n",
       "        vertical-align: middle;\n",
       "    }\n",
       "\n",
       "    .dataframe tbody tr th {\n",
       "        vertical-align: top;\n",
       "    }\n",
       "\n",
       "    .dataframe thead th {\n",
       "        text-align: right;\n",
       "    }\n",
       "</style>\n",
       "<table border=\"1\" class=\"dataframe\">\n",
       "  <thead>\n",
       "    <tr style=\"text-align: right;\">\n",
       "      <th>Symbol</th>\n",
       "      <th>AAPL</th>\n",
       "      <th>ABBV</th>\n",
       "      <th>ABT</th>\n",
       "      <th>ACN</th>\n",
       "      <th>ADBE</th>\n",
       "      <th>AIG</th>\n",
       "      <th>ALL</th>\n",
       "      <th>AMGN</th>\n",
       "      <th>AMT</th>\n",
       "      <th>AMZN</th>\n",
       "      <th>...</th>\n",
       "      <th>UNH</th>\n",
       "      <th>UNP</th>\n",
       "      <th>UPS</th>\n",
       "      <th>USB</th>\n",
       "      <th>V</th>\n",
       "      <th>VZ</th>\n",
       "      <th>WBA</th>\n",
       "      <th>WFC</th>\n",
       "      <th>WMT</th>\n",
       "      <th>XOM</th>\n",
       "    </tr>\n",
       "    <tr>\n",
       "      <th>Date</th>\n",
       "      <th></th>\n",
       "      <th></th>\n",
       "      <th></th>\n",
       "      <th></th>\n",
       "      <th></th>\n",
       "      <th></th>\n",
       "      <th></th>\n",
       "      <th></th>\n",
       "      <th></th>\n",
       "      <th></th>\n",
       "      <th></th>\n",
       "      <th></th>\n",
       "      <th></th>\n",
       "      <th></th>\n",
       "      <th></th>\n",
       "      <th></th>\n",
       "      <th></th>\n",
       "      <th></th>\n",
       "      <th></th>\n",
       "      <th></th>\n",
       "      <th></th>\n",
       "    </tr>\n",
       "  </thead>\n",
       "  <tbody>\n",
       "    <tr>\n",
       "      <th>2020-09-14</th>\n",
       "      <td>NaN</td>\n",
       "      <td>NaN</td>\n",
       "      <td>NaN</td>\n",
       "      <td>NaN</td>\n",
       "      <td>NaN</td>\n",
       "      <td>NaN</td>\n",
       "      <td>NaN</td>\n",
       "      <td>NaN</td>\n",
       "      <td>NaN</td>\n",
       "      <td>NaN</td>\n",
       "      <td>...</td>\n",
       "      <td>NaN</td>\n",
       "      <td>NaN</td>\n",
       "      <td>NaN</td>\n",
       "      <td>NaN</td>\n",
       "      <td>NaN</td>\n",
       "      <td>NaN</td>\n",
       "      <td>NaN</td>\n",
       "      <td>NaN</td>\n",
       "      <td>NaN</td>\n",
       "      <td>NaN</td>\n",
       "    </tr>\n",
       "    <tr>\n",
       "      <th>2020-09-15</th>\n",
       "      <td>0.001559</td>\n",
       "      <td>0.004631</td>\n",
       "      <td>0.008386</td>\n",
       "      <td>0.005720</td>\n",
       "      <td>0.023914</td>\n",
       "      <td>-0.016116</td>\n",
       "      <td>-0.001159</td>\n",
       "      <td>0.006463</td>\n",
       "      <td>0.038061</td>\n",
       "      <td>0.016987</td>\n",
       "      <td>...</td>\n",
       "      <td>-0.004352</td>\n",
       "      <td>0.017597</td>\n",
       "      <td>0.008642</td>\n",
       "      <td>-0.014630</td>\n",
       "      <td>0.001998</td>\n",
       "      <td>0.004631</td>\n",
       "      <td>0.004547</td>\n",
       "      <td>0.002817</td>\n",
       "      <td>0.000291</td>\n",
       "      <td>-0.010695</td>\n",
       "    </tr>\n",
       "    <tr>\n",
       "      <th>2020-09-16</th>\n",
       "      <td>-0.029958</td>\n",
       "      <td>-0.012508</td>\n",
       "      <td>-0.008291</td>\n",
       "      <td>-0.003253</td>\n",
       "      <td>-0.044519</td>\n",
       "      <td>0.028622</td>\n",
       "      <td>0.011219</td>\n",
       "      <td>-0.002379</td>\n",
       "      <td>-0.001746</td>\n",
       "      <td>-0.025034</td>\n",
       "      <td>...</td>\n",
       "      <td>-0.002314</td>\n",
       "      <td>-0.004705</td>\n",
       "      <td>-0.010330</td>\n",
       "      <td>0.022258</td>\n",
       "      <td>-0.001267</td>\n",
       "      <td>-0.003803</td>\n",
       "      <td>0.028234</td>\n",
       "      <td>0.032816</td>\n",
       "      <td>-0.008040</td>\n",
       "      <td>0.041583</td>\n",
       "    </tr>\n",
       "    <tr>\n",
       "      <th>2020-09-17</th>\n",
       "      <td>-0.016092</td>\n",
       "      <td>-0.001672</td>\n",
       "      <td>0.009041</td>\n",
       "      <td>-0.010919</td>\n",
       "      <td>-0.003578</td>\n",
       "      <td>-0.036604</td>\n",
       "      <td>-0.032964</td>\n",
       "      <td>0.001291</td>\n",
       "      <td>-0.048879</td>\n",
       "      <td>-0.022794</td>\n",
       "      <td>...</td>\n",
       "      <td>-0.005037</td>\n",
       "      <td>0.001141</td>\n",
       "      <td>-0.000751</td>\n",
       "      <td>-0.007101</td>\n",
       "      <td>0.000682</td>\n",
       "      <td>0.003638</td>\n",
       "      <td>0.025311</td>\n",
       "      <td>-0.023614</td>\n",
       "      <td>0.003151</td>\n",
       "      <td>-0.000265</td>\n",
       "    </tr>\n",
       "    <tr>\n",
       "      <th>2020-09-18</th>\n",
       "      <td>-0.032234</td>\n",
       "      <td>0.005341</td>\n",
       "      <td>0.001873</td>\n",
       "      <td>-0.002706</td>\n",
       "      <td>-0.014334</td>\n",
       "      <td>-0.025050</td>\n",
       "      <td>-0.016515</td>\n",
       "      <td>-0.001452</td>\n",
       "      <td>-0.021080</td>\n",
       "      <td>-0.018050</td>\n",
       "      <td>...</td>\n",
       "      <td>0.009918</td>\n",
       "      <td>-0.009217</td>\n",
       "      <td>-0.000564</td>\n",
       "      <td>-0.007151</td>\n",
       "      <td>-0.013043</td>\n",
       "      <td>-0.003969</td>\n",
       "      <td>-0.007553</td>\n",
       "      <td>0.000796</td>\n",
       "      <td>-0.010295</td>\n",
       "      <td>-0.016269</td>\n",
       "    </tr>\n",
       "  </tbody>\n",
       "</table>\n",
       "<p>5 rows × 101 columns</p>\n",
       "</div>"
      ],
      "text/plain": [
       "Symbol          AAPL      ABBV       ABT       ACN      ADBE       AIG  \\\n",
       "Date                                                                     \n",
       "2020-09-14       NaN       NaN       NaN       NaN       NaN       NaN   \n",
       "2020-09-15  0.001559  0.004631  0.008386  0.005720  0.023914 -0.016116   \n",
       "2020-09-16 -0.029958 -0.012508 -0.008291 -0.003253 -0.044519  0.028622   \n",
       "2020-09-17 -0.016092 -0.001672  0.009041 -0.010919 -0.003578 -0.036604   \n",
       "2020-09-18 -0.032234  0.005341  0.001873 -0.002706 -0.014334 -0.025050   \n",
       "\n",
       "Symbol           ALL      AMGN       AMT      AMZN  ...       UNH       UNP  \\\n",
       "Date                                                ...                       \n",
       "2020-09-14       NaN       NaN       NaN       NaN  ...       NaN       NaN   \n",
       "2020-09-15 -0.001159  0.006463  0.038061  0.016987  ... -0.004352  0.017597   \n",
       "2020-09-16  0.011219 -0.002379 -0.001746 -0.025034  ... -0.002314 -0.004705   \n",
       "2020-09-17 -0.032964  0.001291 -0.048879 -0.022794  ... -0.005037  0.001141   \n",
       "2020-09-18 -0.016515 -0.001452 -0.021080 -0.018050  ...  0.009918 -0.009217   \n",
       "\n",
       "Symbol           UPS       USB         V        VZ       WBA       WFC  \\\n",
       "Date                                                                     \n",
       "2020-09-14       NaN       NaN       NaN       NaN       NaN       NaN   \n",
       "2020-09-15  0.008642 -0.014630  0.001998  0.004631  0.004547  0.002817   \n",
       "2020-09-16 -0.010330  0.022258 -0.001267 -0.003803  0.028234  0.032816   \n",
       "2020-09-17 -0.000751 -0.007101  0.000682  0.003638  0.025311 -0.023614   \n",
       "2020-09-18 -0.000564 -0.007151 -0.013043 -0.003969 -0.007553  0.000796   \n",
       "\n",
       "Symbol           WMT       XOM  \n",
       "Date                            \n",
       "2020-09-14       NaN       NaN  \n",
       "2020-09-15  0.000291 -0.010695  \n",
       "2020-09-16 -0.008040  0.041583  \n",
       "2020-09-17  0.003151 -0.000265  \n",
       "2020-09-18 -0.010295 -0.016269  \n",
       "\n",
       "[5 rows x 101 columns]"
      ]
     },
     "execution_count": 17,
     "metadata": {},
     "output_type": "execute_result"
    }
   ],
   "source": [
    "logChange = np.log(d / d.shift(1)) # geometric brownian motion. - make the errors being normally distributed.\n",
    "# more standardly used than pct_change.  df_temp['Close'] in this case.\n",
    "logChange.head()"
   ]
  },
  {
   "cell_type": "markdown",
   "metadata": {},
   "source": [
    "# pick tickers to use for portfolio\n",
    "( highest growth rates)"
   ]
  },
  {
   "cell_type": "code",
   "execution_count": 18,
   "metadata": {
    "scrolled": true
   },
   "outputs": [
    {
     "data": {
      "text/plain": [
       "['PFE', 'PG', 'VZ', 'T', 'ORCL', 'CL', 'BMY', 'F', 'CMCSA', 'CVS']"
      ]
     },
     "execution_count": 18,
     "metadata": {},
     "output_type": "execute_result"
    }
   ],
   "source": [
    "tickers = pd.DataFrame((d.mean()/d.var()))\n",
    "tickers.columns =['sharp']\n",
    "tickers = tickers.sort_values(by='sharp', ascending=False).head(10)\n",
    "symbols = tickers.index.tolist()\n",
    "symbols"
   ]
  },
  {
   "cell_type": "markdown",
   "metadata": {},
   "source": [
    "tickers_bestPerformed = logChange.describe().transpose().sort_values(by='mean', ascending=False).head(5)\n",
    "symbols = tickers_bestPerformed.index.tolist()"
   ]
  },
  {
   "cell_type": "code",
   "execution_count": 19,
   "metadata": {
    "scrolled": true
   },
   "outputs": [
    {
     "data": {
      "text/html": [
       "<div>\n",
       "<style scoped>\n",
       "    .dataframe tbody tr th:only-of-type {\n",
       "        vertical-align: middle;\n",
       "    }\n",
       "\n",
       "    .dataframe tbody tr th {\n",
       "        vertical-align: top;\n",
       "    }\n",
       "\n",
       "    .dataframe thead th {\n",
       "        text-align: right;\n",
       "    }\n",
       "</style>\n",
       "<table border=\"1\" class=\"dataframe\">\n",
       "  <thead>\n",
       "    <tr style=\"text-align: right;\">\n",
       "      <th>Symbol</th>\n",
       "      <th>PFE</th>\n",
       "      <th>PG</th>\n",
       "      <th>VZ</th>\n",
       "      <th>T</th>\n",
       "      <th>ORCL</th>\n",
       "      <th>CL</th>\n",
       "      <th>BMY</th>\n",
       "      <th>F</th>\n",
       "      <th>CMCSA</th>\n",
       "      <th>CVS</th>\n",
       "    </tr>\n",
       "    <tr>\n",
       "      <th>Date</th>\n",
       "      <th></th>\n",
       "      <th></th>\n",
       "      <th></th>\n",
       "      <th></th>\n",
       "      <th></th>\n",
       "      <th></th>\n",
       "      <th></th>\n",
       "      <th></th>\n",
       "      <th></th>\n",
       "      <th></th>\n",
       "    </tr>\n",
       "  </thead>\n",
       "  <tbody>\n",
       "    <tr>\n",
       "      <th>2020-09-14</th>\n",
       "      <td>NaN</td>\n",
       "      <td>NaN</td>\n",
       "      <td>NaN</td>\n",
       "      <td>NaN</td>\n",
       "      <td>NaN</td>\n",
       "      <td>NaN</td>\n",
       "      <td>NaN</td>\n",
       "      <td>NaN</td>\n",
       "      <td>NaN</td>\n",
       "      <td>NaN</td>\n",
       "    </tr>\n",
       "    <tr>\n",
       "      <th>2020-09-15</th>\n",
       "      <td>-0.001352</td>\n",
       "      <td>0.000000</td>\n",
       "      <td>0.004631</td>\n",
       "      <td>-0.000687</td>\n",
       "      <td>0.024586</td>\n",
       "      <td>-0.002726</td>\n",
       "      <td>-0.002852</td>\n",
       "      <td>-0.011300</td>\n",
       "      <td>0.025947</td>\n",
       "      <td>-0.016874</td>\n",
       "    </tr>\n",
       "    <tr>\n",
       "      <th>2020-09-16</th>\n",
       "      <td>-0.004882</td>\n",
       "      <td>-0.006731</td>\n",
       "      <td>-0.003803</td>\n",
       "      <td>0.004112</td>\n",
       "      <td>-0.008404</td>\n",
       "      <td>-0.000390</td>\n",
       "      <td>-0.001345</td>\n",
       "      <td>-0.002845</td>\n",
       "      <td>0.007505</td>\n",
       "      <td>0.008386</td>\n",
       "    </tr>\n",
       "  </tbody>\n",
       "</table>\n",
       "</div>"
      ],
      "text/plain": [
       "Symbol           PFE        PG        VZ         T      ORCL        CL  \\\n",
       "Date                                                                     \n",
       "2020-09-14       NaN       NaN       NaN       NaN       NaN       NaN   \n",
       "2020-09-15 -0.001352  0.000000  0.004631 -0.000687  0.024586 -0.002726   \n",
       "2020-09-16 -0.004882 -0.006731 -0.003803  0.004112 -0.008404 -0.000390   \n",
       "\n",
       "Symbol           BMY         F     CMCSA       CVS  \n",
       "Date                                                \n",
       "2020-09-14       NaN       NaN       NaN       NaN  \n",
       "2020-09-15 -0.002852 -0.011300  0.025947 -0.016874  \n",
       "2020-09-16 -0.001345 -0.002845  0.007505  0.008386  "
      ]
     },
     "execution_count": 19,
     "metadata": {},
     "output_type": "execute_result"
    }
   ],
   "source": [
    "logChange = logChange[symbols]\n",
    "logChange.head(3)"
   ]
  },
  {
   "cell_type": "markdown",
   "metadata": {},
   "source": [
    "### expected return of each ticker picked"
   ]
  },
  {
   "cell_type": "code",
   "execution_count": 20,
   "metadata": {},
   "outputs": [
    {
     "data": {
      "text/plain": [
       "Symbol\n",
       "PFE     -0.309040\n",
       "PG      -0.066343\n",
       "VZ      -0.325201\n",
       "T       -0.286412\n",
       "ORCL    -0.191733\n",
       "CL       0.058234\n",
       "BMY     -0.297929\n",
       "F       -0.591060\n",
       "CMCSA   -0.047777\n",
       "CVS     -0.043523\n",
       "dtype: float64"
      ]
     },
     "execution_count": 20,
     "metadata": {},
     "output_type": "execute_result"
    }
   ],
   "source": [
    "logChange.mean()*252   #252 business days per year in general"
   ]
  },
  {
   "cell_type": "markdown",
   "metadata": {},
   "source": [
    "##### covariance across tickers"
   ]
  },
  {
   "cell_type": "code",
   "execution_count": 21,
   "metadata": {},
   "outputs": [
    {
     "data": {
      "text/html": [
       "<div>\n",
       "<style scoped>\n",
       "    .dataframe tbody tr th:only-of-type {\n",
       "        vertical-align: middle;\n",
       "    }\n",
       "\n",
       "    .dataframe tbody tr th {\n",
       "        vertical-align: top;\n",
       "    }\n",
       "\n",
       "    .dataframe thead th {\n",
       "        text-align: right;\n",
       "    }\n",
       "</style>\n",
       "<table border=\"1\" class=\"dataframe\">\n",
       "  <thead>\n",
       "    <tr style=\"text-align: right;\">\n",
       "      <th>Symbol</th>\n",
       "      <th>PFE</th>\n",
       "      <th>PG</th>\n",
       "      <th>VZ</th>\n",
       "      <th>T</th>\n",
       "      <th>ORCL</th>\n",
       "      <th>CL</th>\n",
       "      <th>BMY</th>\n",
       "      <th>F</th>\n",
       "      <th>CMCSA</th>\n",
       "      <th>CVS</th>\n",
       "    </tr>\n",
       "    <tr>\n",
       "      <th>Symbol</th>\n",
       "      <th></th>\n",
       "      <th></th>\n",
       "      <th></th>\n",
       "      <th></th>\n",
       "      <th></th>\n",
       "      <th></th>\n",
       "      <th></th>\n",
       "      <th></th>\n",
       "      <th></th>\n",
       "      <th></th>\n",
       "    </tr>\n",
       "  </thead>\n",
       "  <tbody>\n",
       "    <tr>\n",
       "      <th>PFE</th>\n",
       "      <td>0.018049</td>\n",
       "      <td>0.009485</td>\n",
       "      <td>0.008136</td>\n",
       "      <td>0.009512</td>\n",
       "      <td>-0.000744</td>\n",
       "      <td>0.012281</td>\n",
       "      <td>0.018262</td>\n",
       "      <td>0.021950</td>\n",
       "      <td>0.013332</td>\n",
       "      <td>0.013869</td>\n",
       "    </tr>\n",
       "    <tr>\n",
       "      <th>PG</th>\n",
       "      <td>0.009485</td>\n",
       "      <td>0.011767</td>\n",
       "      <td>0.008226</td>\n",
       "      <td>0.007375</td>\n",
       "      <td>0.010029</td>\n",
       "      <td>0.010278</td>\n",
       "      <td>0.009704</td>\n",
       "      <td>0.007122</td>\n",
       "      <td>0.019598</td>\n",
       "      <td>0.004586</td>\n",
       "    </tr>\n",
       "    <tr>\n",
       "      <th>VZ</th>\n",
       "      <td>0.008136</td>\n",
       "      <td>0.008226</td>\n",
       "      <td>0.009887</td>\n",
       "      <td>0.008859</td>\n",
       "      <td>0.009090</td>\n",
       "      <td>0.008782</td>\n",
       "      <td>0.007627</td>\n",
       "      <td>0.017191</td>\n",
       "      <td>0.014771</td>\n",
       "      <td>0.004311</td>\n",
       "    </tr>\n",
       "    <tr>\n",
       "      <th>T</th>\n",
       "      <td>0.009512</td>\n",
       "      <td>0.007375</td>\n",
       "      <td>0.008859</td>\n",
       "      <td>0.019151</td>\n",
       "      <td>0.007437</td>\n",
       "      <td>0.013220</td>\n",
       "      <td>-0.000211</td>\n",
       "      <td>0.027539</td>\n",
       "      <td>0.012855</td>\n",
       "      <td>0.009929</td>\n",
       "    </tr>\n",
       "    <tr>\n",
       "      <th>ORCL</th>\n",
       "      <td>-0.000744</td>\n",
       "      <td>0.010029</td>\n",
       "      <td>0.009090</td>\n",
       "      <td>0.007437</td>\n",
       "      <td>0.042138</td>\n",
       "      <td>0.004166</td>\n",
       "      <td>-0.005678</td>\n",
       "      <td>-0.022826</td>\n",
       "      <td>0.027249</td>\n",
       "      <td>-0.008750</td>\n",
       "    </tr>\n",
       "    <tr>\n",
       "      <th>CL</th>\n",
       "      <td>0.012281</td>\n",
       "      <td>0.010278</td>\n",
       "      <td>0.008782</td>\n",
       "      <td>0.013220</td>\n",
       "      <td>0.004166</td>\n",
       "      <td>0.016435</td>\n",
       "      <td>0.007316</td>\n",
       "      <td>0.019727</td>\n",
       "      <td>0.018316</td>\n",
       "      <td>0.002587</td>\n",
       "    </tr>\n",
       "    <tr>\n",
       "      <th>BMY</th>\n",
       "      <td>0.018262</td>\n",
       "      <td>0.009704</td>\n",
       "      <td>0.007627</td>\n",
       "      <td>-0.000211</td>\n",
       "      <td>-0.005678</td>\n",
       "      <td>0.007316</td>\n",
       "      <td>0.039381</td>\n",
       "      <td>0.001898</td>\n",
       "      <td>0.027106</td>\n",
       "      <td>0.011417</td>\n",
       "    </tr>\n",
       "    <tr>\n",
       "      <th>F</th>\n",
       "      <td>0.021950</td>\n",
       "      <td>0.007122</td>\n",
       "      <td>0.017191</td>\n",
       "      <td>0.027539</td>\n",
       "      <td>-0.022826</td>\n",
       "      <td>0.019727</td>\n",
       "      <td>0.001898</td>\n",
       "      <td>0.131536</td>\n",
       "      <td>-0.016199</td>\n",
       "      <td>0.033989</td>\n",
       "    </tr>\n",
       "    <tr>\n",
       "      <th>CMCSA</th>\n",
       "      <td>0.013332</td>\n",
       "      <td>0.019598</td>\n",
       "      <td>0.014771</td>\n",
       "      <td>0.012855</td>\n",
       "      <td>0.027249</td>\n",
       "      <td>0.018316</td>\n",
       "      <td>0.027106</td>\n",
       "      <td>-0.016199</td>\n",
       "      <td>0.084659</td>\n",
       "      <td>-0.014448</td>\n",
       "    </tr>\n",
       "    <tr>\n",
       "      <th>CVS</th>\n",
       "      <td>0.013869</td>\n",
       "      <td>0.004586</td>\n",
       "      <td>0.004311</td>\n",
       "      <td>0.009929</td>\n",
       "      <td>-0.008750</td>\n",
       "      <td>0.002587</td>\n",
       "      <td>0.011417</td>\n",
       "      <td>0.033989</td>\n",
       "      <td>-0.014448</td>\n",
       "      <td>0.042567</td>\n",
       "    </tr>\n",
       "  </tbody>\n",
       "</table>\n",
       "</div>"
      ],
      "text/plain": [
       "Symbol       PFE        PG        VZ         T      ORCL        CL       BMY  \\\n",
       "Symbol                                                                         \n",
       "PFE     0.018049  0.009485  0.008136  0.009512 -0.000744  0.012281  0.018262   \n",
       "PG      0.009485  0.011767  0.008226  0.007375  0.010029  0.010278  0.009704   \n",
       "VZ      0.008136  0.008226  0.009887  0.008859  0.009090  0.008782  0.007627   \n",
       "T       0.009512  0.007375  0.008859  0.019151  0.007437  0.013220 -0.000211   \n",
       "ORCL   -0.000744  0.010029  0.009090  0.007437  0.042138  0.004166 -0.005678   \n",
       "CL      0.012281  0.010278  0.008782  0.013220  0.004166  0.016435  0.007316   \n",
       "BMY     0.018262  0.009704  0.007627 -0.000211 -0.005678  0.007316  0.039381   \n",
       "F       0.021950  0.007122  0.017191  0.027539 -0.022826  0.019727  0.001898   \n",
       "CMCSA   0.013332  0.019598  0.014771  0.012855  0.027249  0.018316  0.027106   \n",
       "CVS     0.013869  0.004586  0.004311  0.009929 -0.008750  0.002587  0.011417   \n",
       "\n",
       "Symbol         F     CMCSA       CVS  \n",
       "Symbol                                \n",
       "PFE     0.021950  0.013332  0.013869  \n",
       "PG      0.007122  0.019598  0.004586  \n",
       "VZ      0.017191  0.014771  0.004311  \n",
       "T       0.027539  0.012855  0.009929  \n",
       "ORCL   -0.022826  0.027249 -0.008750  \n",
       "CL      0.019727  0.018316  0.002587  \n",
       "BMY     0.001898  0.027106  0.011417  \n",
       "F       0.131536 -0.016199  0.033989  \n",
       "CMCSA  -0.016199  0.084659 -0.014448  \n",
       "CVS     0.033989 -0.014448  0.042567  "
      ]
     },
     "execution_count": 21,
     "metadata": {},
     "output_type": "execute_result"
    }
   ],
   "source": [
    "logChange.cov()*252"
   ]
  },
  {
   "cell_type": "code",
   "execution_count": 22,
   "metadata": {
    "scrolled": true
   },
   "outputs": [
    {
     "data": {
      "text/plain": [
       "<AxesSubplot:xlabel='Symbol', ylabel='Symbol'>"
      ]
     },
     "execution_count": 22,
     "metadata": {},
     "output_type": "execute_result"
    },
    {
     "data": {
      "image/png": "[encoded data removed]",
      "text/plain": [
       "<Figure size 432x288 with 2 Axes>"
      ]
     },
     "metadata": {
      "needs_background": "light"
     },
     "output_type": "display_data"
    }
   ],
   "source": [
    "sns.heatmap(logChange.cov()*252)"
   ]
  },
  {
   "cell_type": "markdown",
   "metadata": {},
   "source": [
    "# Portfolio with randomly assinged weights"
   ]
  },
  {
   "cell_type": "markdown",
   "metadata": {},
   "source": [
    "#### get random portofolio weights to run simulations"
   ]
  },
  {
   "cell_type": "code",
   "execution_count": 23,
   "metadata": {
    "scrolled": true
   },
   "outputs": [
    {
     "data": {
      "text/plain": [
       "array([0.08912692, 0.11614624, 0.09788834, 0.08848864, 0.06880123,\n",
       "       0.10489274, 0.07106385, 0.14482329, 0.15649814, 0.06227063])"
      ]
     },
     "execution_count": 23,
     "metadata": {},
     "output_type": "execute_result"
    }
   ],
   "source": [
    "np.random.seed(0)\n",
    "weights = np.random.random(len(symbols))\n",
    "weights /= np.sum(weights)\n",
    "weights"
   ]
  },
  {
   "cell_type": "code",
   "execution_count": 24,
   "metadata": {
    "scrolled": true
   },
   "outputs": [
    {
     "data": {
      "text/plain": [
       "-0.21646834111224708"
      ]
     },
     "execution_count": 24,
     "metadata": {},
     "output_type": "execute_result"
    }
   ],
   "source": [
    "#expeced annual return of portfolio\n",
    "np.sum(logChange.mean()*weights)*252"
   ]
  },
  {
   "cell_type": "code",
   "execution_count": 25,
   "metadata": {},
   "outputs": [
    {
     "data": {
      "text/plain": [
       "0.014888741663566487"
      ]
     },
     "execution_count": 25,
     "metadata": {},
     "output_type": "execute_result"
    }
   ],
   "source": [
    "#expected annual variance of portfolio\n",
    "np.dot(weights.T, np.dot(logChange.cov() * 252, weights))"
   ]
  },
  {
   "cell_type": "code",
   "execution_count": 26,
   "metadata": {},
   "outputs": [
    {
     "data": {
      "text/plain": [
       "0.12201943149993155"
      ]
     },
     "execution_count": 26,
     "metadata": {},
     "output_type": "execute_result"
    }
   ],
   "source": [
    "#expected annual standard deviation of portfolio (volatility)\n",
    "np.sqrt(np.dot(weights.T, np.dot(logChange.cov() * 252, weights)))"
   ]
  },
  {
   "cell_type": "markdown",
   "metadata": {},
   "source": [
    "# Simulation of portfolios with random weights"
   ]
  },
  {
   "cell_type": "code",
   "execution_count": 27,
   "metadata": {},
   "outputs": [],
   "source": [
    "prets = []  #stores list of portfolio returns\n",
    "pvols = []  #stores list of portolfio volatilities\n",
    "\n",
    "for p in range (5000):\n",
    "    weights = np.random.random(len(symbols))\n",
    "    weights /= np.sum(weights)\n",
    "    prets.append(np.sum(logChange.mean() * weights) * 252)\n",
    "    pvols.append(np.sqrt(np.dot(weights.T, \n",
    "                        np.dot(logChange.cov() * 252, weights))))\n",
    "prets = np.array(prets)\n",
    "pvols = np.array(pvols)"
   ]
  },
  {
   "cell_type": "code",
   "execution_count": 28,
   "metadata": {
    "scrolled": true
   },
   "outputs": [
    {
     "data": {
      "image/png": "[encoded data removed]",
      "text/plain": [
       "<Figure size 432x288 with 2 Axes>"
      ]
     },
     "metadata": {
      "needs_background": "light"
     },
     "output_type": "display_data"
    }
   ],
   "source": [
    "\n",
    "plt.scatter(pvols, prets, c=prets/pvols, marker='o', cmap='coolwarm') # mpl.cm.jet)\n",
    "\n",
    "plt.grid(True)\n",
    "plt.xlabel('expected volatility')\n",
    "plt.ylabel('expected return')\n",
    "plt.colorbar(label='Sharpe ratio') #beta\n",
    "plt.show()"
   ]
  },
  {
   "cell_type": "code",
   "execution_count": 29,
   "metadata": {},
   "outputs": [],
   "source": [
    "def statistics(weights):\n",
    "    ''' Return portfolio statistics.\n",
    "    \n",
    "    Parameters\n",
    "    ==========\n",
    "    weights : array-like\n",
    "    \n",
    "    Returns\n",
    "    =======\n",
    "    pret : float  (portfolio return)\n",
    "    pvol : float   (portfoliio volatility)\n",
    "    pret / pvol : float      #sharp ratio (beta)\n",
    "\n",
    "    '''\n",
    "    riskfree = .0019   #risk free rate .19% (1 Year Treasury Rate is at 0.19%)\n",
    "    weights = np.array(weights)\n",
    "    pret = np.sum(logChange.mean() * weights) * 252\n",
    "    pvol = np.sqrt(np.dot(weights.T, np.dot(logChange.cov() * 252, weights)))\n",
    "    return np.array([pret, pvol, ((pret-riskfree )/ pvol)])"
   ]
  },
  {
   "cell_type": "markdown",
   "metadata": {},
   "source": [
    "### Sharp ratio optimization"
   ]
  },
  {
   "cell_type": "code",
   "execution_count": 30,
   "metadata": {},
   "outputs": [],
   "source": [
    "def min_func_sharpe(weights):\n",
    "    return -statistics(weights)[2]"
   ]
  },
  {
   "cell_type": "code",
   "execution_count": 31,
   "metadata": {},
   "outputs": [
    {
     "data": {
      "text/plain": [
       "{'type': 'eq', 'fun': <function __main__.<lambda>(x)>}"
      ]
     },
     "execution_count": 31,
     "metadata": {},
     "output_type": "execute_result"
    }
   ],
   "source": [
    "cons = ({'type': 'eq', 'fun': lambda x:  np.sum(x) - 1})\n",
    "cons"
   ]
  },
  {
   "cell_type": "code",
   "execution_count": 32,
   "metadata": {},
   "outputs": [
    {
     "data": {
      "text/plain": [
       "array([-0.21007834,  0.11118071, -1.9066107 ])"
      ]
     },
     "execution_count": 32,
     "metadata": {},
     "output_type": "execute_result"
    }
   ],
   "source": [
    "#return, volatility, and sharp ratio when portfolio is weighted equally\n",
    "w = len(symbols)*[1. /len(symbols),]\n",
    "statistics(w)"
   ]
  },
  {
   "cell_type": "code",
   "execution_count": 33,
   "metadata": {
    "scrolled": true
   },
   "outputs": [
    {
     "data": {
      "text/plain": [
       "((0, 1),\n",
       " (0, 1),\n",
       " (0, 1),\n",
       " (0, 1),\n",
       " (0, 1),\n",
       " (0, 1),\n",
       " (0, 1),\n",
       " (0, 1),\n",
       " (0, 1),\n",
       " (0, 1))"
      ]
     },
     "execution_count": 33,
     "metadata": {},
     "output_type": "execute_result"
    }
   ],
   "source": [
    "bnds = tuple((0, 1) for x in range(len(symbols)))\n",
    "bnds"
   ]
  },
  {
   "cell_type": "code",
   "execution_count": 74,
   "metadata": {
    "scrolled": true
   },
   "outputs": [
    {
     "data": {
      "text/plain": [
       "[0.1, 0.1, 0.1, 0.1, 0.1, 0.1, 0.1, 0.1, 0.1, 0.1]"
      ]
     },
     "execution_count": 74,
     "metadata": {},
     "output_type": "execute_result"
    }
   ],
   "source": [
    "#set initial point\n",
    "len(symbols)* [1./len(symbols),]"
   ]
  },
  {
   "cell_type": "markdown",
   "metadata": {},
   "source": [
    "#### Minimize a scalar function of one or more variables using Sequential Least Squares Programming (SLSQP)."
   ]
  },
  {
   "cell_type": "markdown",
   "metadata": {},
   "source": [
    "#### scipy.optimize.minimize(fun, x0, args=(), method=None, jac=None, hess=None, hessp=None, bounds=None, constraints=(), tol=None, callback=None, options=None)"
   ]
  },
  {
   "cell_type": "code",
   "execution_count": 73,
   "metadata": {
    "scrolled": true
   },
   "outputs": [
    {
     "name": "stdout",
     "output_type": "stream",
     "text": [
      "CPU times: user 71.5 ms, sys: 3.19 ms, total: 74.7 ms\n",
      "Wall time: 73.7 ms\n"
     ]
    }
   ],
   "source": [
    "%%time\n",
    "\n",
    "opts = sco.minimize(min_func_sharpe, len(symbols)* [1. / len(symbols),], method='SLSQP',\n",
    "                       bounds=bnds, constraints=cons)\n"
   ]
  },
  {
   "cell_type": "code",
   "execution_count": 36,
   "metadata": {
    "scrolled": true
   },
   "outputs": [
    {
     "data": {
      "text/plain": [
       "     fun: -0.4394279071508613\n",
       "     jac: array([ 2.73902548,  0.79231751,  2.77153464,  2.58762125,  1.60699385,\n",
       "       -0.01482087,  2.51958714,  5.13799665,  0.86242155,  0.40865864])\n",
       " message: 'Optimization terminated successfully.'\n",
       "    nfev: 48\n",
       "     nit: 4\n",
       "    njev: 4\n",
       "  status: 0\n",
       " success: True\n",
       "       x: array([1.11287613e-15, 0.00000000e+00, 9.97149850e-16, 7.15202457e-16,\n",
       "       0.00000000e+00, 1.00000000e+00, 6.73782911e-16, 8.18849182e-15,\n",
       "       3.59157148e-14, 0.00000000e+00])"
      ]
     },
     "execution_count": 36,
     "metadata": {},
     "output_type": "execute_result"
    }
   ],
   "source": [
    "opts"
   ]
  },
  {
   "cell_type": "code",
   "execution_count": 37,
   "metadata": {
    "scrolled": false
   },
   "outputs": [
    {
     "name": "stdout",
     "output_type": "stream",
     "text": [
      "exp return :0.058\n",
      "exp volatility :0.128\n",
      "exp sharp ratio :0.439\n"
     ]
    }
   ],
   "source": [
    "a=opts['x'].round(3)   #opt weights\n",
    "#print(\"exp return :\" + str( np.sum(logChange.mean()*a)*252  )  ).round(3)   #1yr exp return of portfolio with opt weights \n",
    "print(\"exp return :\" + str( statistics(opts['x'].round(3))[0].round(3) ) )\n",
    "print(\"exp volatility :\" + str( statistics(opts['x'].round(3))[1].round(3) )  )\n",
    "print(\"exp sharp ratio :\" + str( statistics(opts['x'].round(3))[2].round(3) )  )"
   ]
  },
  {
   "cell_type": "code",
   "execution_count": 38,
   "metadata": {
    "scrolled": true
   },
   "outputs": [
    {
     "data": {
      "image/png": "[encoded data removed]",
      "text/plain": [
       "<Figure size 432x288 with 2 Axes>"
      ]
     },
     "metadata": {
      "needs_background": "light"
     },
     "output_type": "display_data"
    }
   ],
   "source": [
    "plt.scatter(pvols, prets, c=prets/pvols, marker='o', cmap='RdYlBu')\n",
    "plt.grid(True)\n",
    "plt.xlabel('expected volatility')\n",
    "plt.ylabel('expected return')\n",
    "plt.colorbar(label='Sharpe ratio')\n",
    "\n",
    "#highest sharp ratio\n",
    "pt_opts = statistics(opts['x']).round(3)\n",
    "plt.scatter(pt_opts[1], pt_opts[0], marker=\"*\", s=500, alpha=0.5, color='b')\n",
    "\n",
    "\n",
    "#return, volatility, and sharp ratio when portfolio is weighted equally\n",
    "w = len(symbols)*[1. /len(symbols),]\n",
    "plt.scatter(statistics(w)[1], statistics(w)[0], marker=\"*\", s= 500, alpha=0.5, color='g')\n",
    "\n",
    "\n",
    "# add a red dot for maximum vol & maximum return\n",
    "plt.scatter(pvols.max(), prets.max(), c='black', s=500, alpha=0.5, edgecolors='black')\n",
    "\n",
    "\n",
    "\n",
    "plt.show()"
   ]
  },
  {
   "cell_type": "markdown",
   "metadata": {},
   "source": [
    "### Volatility Optimization"
   ]
  },
  {
   "cell_type": "code",
   "execution_count": 39,
   "metadata": {},
   "outputs": [],
   "source": [
    "def min_func_variance(weights):\n",
    "    return statistics(weights)[1] ** 2"
   ]
  },
  {
   "cell_type": "code",
   "execution_count": 40,
   "metadata": {},
   "outputs": [],
   "source": [
    "optv = sco.minimize(min_func_variance,  len(symbols) * [1. / len(symbols),], method='SLSQP',\n",
    "                       bounds=bnds, constraints=cons)"
   ]
  },
  {
   "cell_type": "code",
   "execution_count": 41,
   "metadata": {
    "scrolled": true
   },
   "outputs": [
    {
     "data": {
      "text/plain": [
       "     fun: 0.008594742976769197\n",
       "     jac: array([0.01857526, 0.01749948, 0.0169985 , 0.01779065, 0.01719308,\n",
       "       0.01730996, 0.01683471, 0.02786344, 0.02689027, 0.01740664])\n",
       " message: 'Optimization terminated successfully.'\n",
       "    nfev: 240\n",
       "     nit: 20\n",
       "    njev: 20\n",
       "  status: 0\n",
       " success: True\n",
       "       x: array([1.23427739e-18, 1.50458555e-01, 4.25445003e-01, 1.49344627e-17,\n",
       "       9.84069935e-02, 1.39345339e-01, 4.02009745e-02, 0.00000000e+00,\n",
       "       1.52971140e-17, 1.46143134e-01])"
      ]
     },
     "execution_count": 41,
     "metadata": {},
     "output_type": "execute_result"
    }
   ],
   "source": [
    "optv"
   ]
  },
  {
   "cell_type": "code",
   "execution_count": 42,
   "metadata": {},
   "outputs": [
    {
     "data": {
      "image/png": "[encoded data removed]",
      "text/plain": [
       "<Figure size 432x288 with 2 Axes>"
      ]
     },
     "metadata": {
      "needs_background": "light"
     },
     "output_type": "display_data"
    }
   ],
   "source": [
    "plt.scatter(pvols, prets, c=prets/pvols, marker='o', cmap='RdYlBu')\n",
    "plt.grid(True)\n",
    "plt.xlabel('expected volatility')\n",
    "plt.ylabel('expected return')\n",
    "plt.colorbar(label='Sharpe ratio')\n",
    "\n",
    "#highest sharp ratio\n",
    "pt_opts = statistics(opts['x']).round(3)\n",
    "plt.scatter(pt_opts[1], pt_opts[0], marker=\"*\", s=500, alpha=0.5, color='b')\n",
    "\n",
    "\n",
    "# Optimal (minimum) volatility\n",
    "pt_optv = statistics(optv['x']).round(3)\n",
    "plt.plot(pt_optv[1], pt_optv[0], marker=\"*\", markersize=20, alpha=0.5, color='r')\n",
    "#plt.plot(statistics(optv['x'])[1], statistics(optv['x'])[0], 'y*', markersize=20, color='r')\n",
    "           \n",
    "    \n",
    "plt.show()"
   ]
  },
  {
   "cell_type": "markdown",
   "metadata": {},
   "source": [
    "# Efficient Frontier"
   ]
  },
  {
   "cell_type": "markdown",
   "metadata": {},
   "source": [
    "## Minimum variance frontier"
   ]
  },
  {
   "cell_type": "code",
   "execution_count": 43,
   "metadata": {},
   "outputs": [],
   "source": [
    "cons = ({'type': 'eq', 'fun': lambda x:  statistics(x)[0] - tret},\n",
    "        {'type': 'eq', 'fun': lambda x:  np.sum(x) - 1})\n",
    "bnds = tuple((0, 1) for x in weights)"
   ]
  },
  {
   "cell_type": "code",
   "execution_count": 44,
   "metadata": {},
   "outputs": [],
   "source": [
    "def min_func_port(weights):\n",
    "    return statistics(weights)[1]"
   ]
  },
  {
   "cell_type": "code",
   "execution_count": 45,
   "metadata": {},
   "outputs": [
    {
     "data": {
      "text/plain": [
       "(-0.34219424513576685, -0.09374764942017084, 0.058)"
      ]
     },
     "execution_count": 45,
     "metadata": {},
     "output_type": "execute_result"
    }
   ],
   "source": [
    "prets.min(), prets.max(), pt_opts[0]"
   ]
  },
  {
   "cell_type": "code",
   "execution_count": 46,
   "metadata": {},
   "outputs": [
    {
     "name": "stdout",
     "output_type": "stream",
     "text": [
      "CPU times: user 12.5 s, sys: 47.1 ms, total: 12.6 s\n",
      "Wall time: 12.6 s\n"
     ]
    }
   ],
   "source": [
    "%%time\n",
    "\n",
    "\n",
    "trets = np.linspace( prets.min() , max(prets.max(), pt_opts[0].max()), 50)\n",
    "tvols = []\n",
    "for tret in trets:       #getting weight where minimum volatility occurs for each returned value\n",
    "    cons = ({'type': 'eq', 'fun': lambda x:  statistics(x)[0] - tret},\n",
    "            {'type': 'eq', 'fun': lambda x:  np.sum(x) - 1})\n",
    "    res = sco.minimize(min_func_port, len(symbols)* [1. / len(symbols),], method='SLSQP',\n",
    "                       bounds=bnds, constraints=cons)\n",
    "    tvols.append(res['fun'])\n",
    "tvols = np.array(tvols)"
   ]
  },
  {
   "cell_type": "code",
   "execution_count": 47,
   "metadata": {},
   "outputs": [
    {
     "data": {
      "text/plain": [
       "array([0.10571401, 0.10200861, 0.09896964, 0.0972823 , 0.09625879,\n",
       "       0.09542055, 0.09477193, 0.09431721, 0.09400592, 0.09373983,\n",
       "       0.09351813, 0.09334299, 0.09318217, 0.0930412 , 0.09291434,\n",
       "       0.09280352, 0.09271628, 0.09265735, 0.09262746, 0.09262693,\n",
       "       0.09265472, 0.09271183, 0.09279804, 0.09291304, 0.09305661,\n",
       "       0.09322903, 0.09342967, 0.09365834, 0.09391549, 0.09420026,\n",
       "       0.09451233, 0.094852  , 0.09521867, 0.09561215, 0.09603207,\n",
       "       0.09647882, 0.09694912, 0.09746199, 0.09810994, 0.09890418,\n",
       "       0.09987354, 0.10113385, 0.10268464, 0.1045191 , 0.10672411,\n",
       "       0.10931573, 0.1122677 , 0.11555145, 0.12047811, 0.12795052])"
      ]
     },
     "execution_count": 47,
     "metadata": {},
     "output_type": "execute_result"
    }
   ],
   "source": [
    "tvols"
   ]
  },
  {
   "cell_type": "code",
   "execution_count": 48,
   "metadata": {},
   "outputs": [
    {
     "data": {
      "image/png": "[encoded data removed]",
      "text/plain": [
       "<Figure size 432x288 with 2 Axes>"
      ]
     },
     "metadata": {
      "needs_background": "light"
     },
     "output_type": "display_data"
    }
   ],
   "source": [
    "# rangdomly weighted sample portfolio simulations\n",
    "plt.scatter(pvols, prets, c=prets / pvols, marker='o', cmap='RdYlBu')\n",
    "\n",
    "\n",
    "# Minimum variance frontier\n",
    "plt.scatter(tvols, trets, c=trets / tvols, marker='x', s=70, linewidth=2, cmap='plasma')\n",
    "            \n",
    "    \n",
    "#highest sharp ratio\n",
    "pt_opts = statistics(opts['x']).round(3)\n",
    "plt.scatter(pt_opts[1], pt_opts[0], marker=\"*\", s=500, alpha=0.5, color='b')\n",
    "\n",
    "\n",
    "# Optimal (minimum) volatility\n",
    "pt_optv = statistics(optv['x']).round(3)\n",
    "plt.plot(pt_optv[1], pt_optv[0], marker=\"*\", markersize=20, alpha=0.5, color='r')\n",
    "#plt.plot(statistics(optv['x'])[1], statistics(optv['x'])[0], 'y*', markersize=20, color='r')\n",
    "\n",
    " \n",
    "plt.grid(True)\n",
    "plt.xlabel('expected volatility')\n",
    "plt.ylabel('expected return')\n",
    "plt.colorbar(label='Sharpe ratio')\n",
    "plt.show()"
   ]
  },
  {
   "cell_type": "markdown",
   "metadata": {},
   "source": [
    "## Efficient frontier"
   ]
  },
  {
   "cell_type": "code",
   "execution_count": 49,
   "metadata": {},
   "outputs": [],
   "source": [
    "import scipy.interpolate as sci"
   ]
  },
  {
   "cell_type": "code",
   "execution_count": 50,
   "metadata": {},
   "outputs": [
    {
     "data": {
      "text/plain": [
       "19"
      ]
     },
     "execution_count": 50,
     "metadata": {},
     "output_type": "execute_result"
    }
   ],
   "source": [
    "np.argmin(tvols) #find index of minimum value of volatility \n"
   ]
  },
  {
   "cell_type": "code",
   "execution_count": 51,
   "metadata": {},
   "outputs": [],
   "source": [
    "ind = np.argmin(tvols)\n",
    "evols = tvols[ind:]    #include array only up to the index of minimum volatility\n",
    "erets = trets[ind:]\n"
   ]
  },
  {
   "cell_type": "code",
   "execution_count": 52,
   "metadata": {
    "scrolled": true
   },
   "outputs": [],
   "source": [
    "tck = sci.splrep(evols, erets)"
   ]
  },
  {
   "cell_type": "code",
   "execution_count": 53,
   "metadata": {},
   "outputs": [
    {
     "data": {
      "text/plain": [
       "array(-9795874.04916258)"
      ]
     },
     "execution_count": 53,
     "metadata": {},
     "output_type": "execute_result"
    }
   ],
   "source": [
    "def f(x):\n",
    "    ''' efficient frontier (spline) '''\n",
    "    return sci.splev(x, tck, der=0)\n",
    "\n",
    "def df(x):\n",
    "    ''' efficient frontier (first derivative)'''\n",
    "    return sci.splev(x, tck, der=1)\n",
    "f(0)"
   ]
  },
  {
   "cell_type": "code",
   "execution_count": 54,
   "metadata": {
    "scrolled": true
   },
   "outputs": [
    {
     "data": {
      "image/png": "[encoded data removed]",
      "text/plain": [
       "<Figure size 432x288 with 2 Axes>"
      ]
     },
     "metadata": {
      "needs_background": "light"
     },
     "output_type": "display_data"
    }
   ],
   "source": [
    "# rangdomly weighted sample portfolio simulations\n",
    "plt.scatter(pvols, prets, c=prets / pvols, marker='o', cmap='RdYlBu')\n",
    "\n",
    "\n",
    "# Efficient frontier\n",
    "plt.plot(evols, f(evols), lw=8, alpha=0.4, color='green')  \n",
    "\n",
    "# Minimum variance frontier\n",
    "plt.scatter(tvols, trets, c=trets / tvols, marker='x', s=70, linewidth=2, cmap='plasma')\n",
    "            \n",
    "#highest sharp ratio\n",
    "pt_opts = statistics(opts['x']).round(3)\n",
    "plt.scatter(pt_opts[1], pt_opts[0], marker=\"*\", s=500, alpha=0.5, color='b')\n",
    "\n",
    "# Optimal (minimum) volatility\n",
    "pt_optv = statistics(optv['x']).round(3)\n",
    "plt.plot(pt_optv[1], pt_optv[0], marker=\"*\", markersize=20, alpha=0.5, color='r')\n",
    "#plt.plot(statistics(optv['x'])[1], statistics(optv['x'])[0], 'y*', markersize=20, color='r')\n",
    " \n",
    "\n",
    "plt.grid(True)\n",
    "plt.xlabel('expected volatility')\n",
    "plt.ylabel('expected return')\n",
    "plt.colorbar(label='Sharpe ratio')\n",
    "plt.show()"
   ]
  },
  {
   "cell_type": "markdown",
   "metadata": {},
   "source": [
    "## Capital market line (CML)"
   ]
  },
  {
   "cell_type": "code",
   "execution_count": 55,
   "metadata": {},
   "outputs": [
    {
     "data": {
      "text/plain": [
       "0.0019"
      ]
     },
     "execution_count": 55,
     "metadata": {},
     "output_type": "execute_result"
    }
   ],
   "source": [
    "riskfree"
   ]
  },
  {
   "cell_type": "code",
   "execution_count": 56,
   "metadata": {},
   "outputs": [],
   "source": [
    "def equations(p, rf=riskfree):\n",
    "    eq1 = rf-p[0]\n",
    "    eq2 = rf + p[1] * p[2] - f(p[2])\n",
    "    eq3 = p[1] - df(p[2])\n",
    "    return eq1, eq2, eq3"
   ]
  },
  {
   "cell_type": "code",
   "execution_count": 57,
   "metadata": {},
   "outputs": [
    {
     "data": {
      "text/plain": [
       "(0.08335532593349594, -0.04687382471008542)"
      ]
     },
     "execution_count": 57,
     "metadata": {},
     "output_type": "execute_result"
    }
   ],
   "source": [
    "pvols.max()/2, prets.max()/2\n"
   ]
  },
  {
   "cell_type": "code",
   "execution_count": 58,
   "metadata": {},
   "outputs": [
    {
     "name": "stderr",
     "output_type": "stream",
     "text": [
      "/Users/reejungkim/opt/anaconda3/envs/myenv/lib/python3.7/site-packages/scipy/optimize/minpack.py:162: RuntimeWarning: The iteration is not making good progress, as measured by the \n",
      "  improvement from the last ten iterations.\n",
      "  warnings.warn(msg, RuntimeWarning)\n"
     ]
    },
    {
     "data": {
      "text/plain": [
       "array([0.0019    , 1.01433907, 0.12440319])"
      ]
     },
     "execution_count": 58,
     "metadata": {},
     "output_type": "execute_result"
    }
   ],
   "source": [
    "opt = sco.fsolve(equations,[ riskfree, pvols.max()/2, prets.max()/2])\n",
    "opt"
   ]
  },
  {
   "cell_type": "code",
   "execution_count": 59,
   "metadata": {},
   "outputs": [
    {
     "data": {
      "text/plain": [
       "array([ 0.        ,  0.07393853, -0.00919818])"
      ]
     },
     "execution_count": 59,
     "metadata": {},
     "output_type": "execute_result"
    }
   ],
   "source": [
    "np.round(equations(opt), 8)"
   ]
  },
  {
   "cell_type": "code",
   "execution_count": 81,
   "metadata": {},
   "outputs": [
    {
     "data": {
      "image/png": "[encoded data removed]",
      "text/plain": [
       "<Figure size 432x288 with 2 Axes>"
      ]
     },
     "metadata": {
      "needs_background": "light"
     },
     "output_type": "display_data"
    }
   ],
   "source": [
    "# rangdomly weighted sample portfolio simulations\n",
    "plt.scatter(pvols, prets, c=prets / pvols, marker='o', cmap='RdYlBu')\n",
    "\n",
    "\n",
    "# Efficient frontier\n",
    "plt.plot(evols, f(evols), lw=8, alpha=0.4, color='green')  \n",
    "\n",
    "# Minimum variance frontier\n",
    "plt.scatter(tvols, trets, c=trets / tvols, marker='x', s=70, linewidth=2, cmap='plasma')\n",
    "            \n",
    "#highest sharp ratio\n",
    "pt_opts = statistics(opts['x']).round(3)\n",
    "plt.scatter(pt_opts[1], pt_opts[0], marker=\"*\", s=500, alpha=0.5, color='b')\n",
    "\n",
    "# Optimal (minimum) volatility\n",
    "pt_optv = statistics(optv['x']).round(3)\n",
    "plt.plot(pt_optv[1], pt_optv[0], marker=\"*\", markersize=20, alpha=0.5, color='r')\n",
    "#plt.plot(statistics(optv['x'])[1], statistics(optv['x'])[0], 'y*', markersize=20, color='r')\n",
    " \n",
    "\n",
    "\n",
    " \n",
    "#Capital market line\n",
    "cx = np.linspace(0.0, 0.3 )   # (0.0, 0.3)\n",
    "plt.plot(cx, opt[1] + opt[2] * cx, lw=3, alpha=0.2, ) \n",
    "    \n",
    "    \n",
    "#optimal portfolio  \n",
    "plt.plot(opt[2], f(opt[2]), 'r*', markersize=25.0, color='black') \n",
    "\n",
    "\n",
    "plt.grid(True)\n",
    "plt.axhline(0.0, color='k', ls='--', lw=2.0)\n",
    "plt.axvline(0.0, color='k', ls='--', lw=2.0)\n",
    "plt.xlabel('expected volatility')\n",
    "plt.ylabel('expected return')\n",
    "plt.colorbar(label='Sharpe ratio')\n",
    "plt.show()"
   ]
  },
  {
   "cell_type": "markdown",
   "metadata": {},
   "source": [
    "#### Optimal portfolio weights"
   ]
  },
  {
   "cell_type": "code",
   "execution_count": 61,
   "metadata": {},
   "outputs": [
    {
     "data": {
      "text/plain": [
       "['PFE', 'PG', 'VZ', 'T', 'ORCL', 'CL', 'BMY', 'F', 'CMCSA', 'CVS']"
      ]
     },
     "execution_count": 61,
     "metadata": {},
     "output_type": "execute_result"
    }
   ],
   "source": [
    "symbols"
   ]
  },
  {
   "cell_type": "code",
   "execution_count": 62,
   "metadata": {},
   "outputs": [
    {
     "data": {
      "text/plain": [
       "array([0.  , 0.  , 0.  , 0.  , 0.  , 0.96, 0.  , 0.  , 0.  , 0.04])"
      ]
     },
     "execution_count": 62,
     "metadata": {},
     "output_type": "execute_result"
    }
   ],
   "source": [
    "cons = ({'type': 'eq', 'fun': lambda x:  statistics(x)[0] - f(opt[2])},\n",
    "        {'type': 'eq', 'fun': lambda x:  np.sum(x) - 1})\n",
    "res = sco.minimize(min_func_port, len(symbols) * [1. / len(symbols),], method='SLSQP',\n",
    "                       bounds=bnds, constraints=cons)\n",
    "res['x'].round(3)"
   ]
  },
  {
   "cell_type": "code",
   "execution_count": 63,
   "metadata": {},
   "outputs": [
    {
     "data": {
      "text/plain": [
       "array([0.05416336, 0.12414877, 0.42097365])"
      ]
     },
     "execution_count": 63,
     "metadata": {},
     "output_type": "execute_result"
    }
   ],
   "source": [
    "statistics(res['x'].round(3))"
   ]
  },
  {
   "cell_type": "markdown",
   "metadata": {},
   "source": [
    "#### return, volatility, and sharp ratio expected with the optimal weights"
   ]
  },
  {
   "cell_type": "code",
   "execution_count": 64,
   "metadata": {},
   "outputs": [
    {
     "data": {
      "text/plain": [
       "[('PFE', 0.0),\n",
       " ('PG', 0.0),\n",
       " ('VZ', 0.0),\n",
       " ('T', 0.0),\n",
       " ('ORCL', 0.0),\n",
       " ('CL', 0.96),\n",
       " ('BMY', 0.0),\n",
       " ('F', 0.0),\n",
       " ('CMCSA', 0.0),\n",
       " ('CVS', 0.04)]"
      ]
     },
     "execution_count": 64,
     "metadata": {},
     "output_type": "execute_result"
    }
   ],
   "source": [
    "portfolio = list(zip(symbols, res['x'].round(3)))\n",
    "portfolio"
   ]
  },
  {
   "cell_type": "code",
   "execution_count": 65,
   "metadata": {},
   "outputs": [],
   "source": [
    "def format_column_number(dataframe, listCols):\n",
    "    for col in listCols:\n",
    "        try:\n",
    "            dataframe[col]= pd.Series([round(val, 2 ) for val in dataframe[col]], index= dataframe.index)\n",
    "        except ValueError:  #skips error when the column is in format already\n",
    "            dataframe[col] = dataframe[col]\n",
    "            pass\n",
    "    return dataframe\n",
    "\n",
    "def format_column_percentage(dataframe, listCols):\n",
    "    for col in listCols:\n",
    "        try:\n",
    "            dataframe[col] = pd.Series([\"{0:.2f}%\".format(val*100) for val in dataframe[col]], index= dataframe.index)\n",
    "        except ValueError:  #skips error when the column is in format already\n",
    "            dataframe[col] = dataframe[col]\n",
    "        \n",
    "    return dataframe"
   ]
  },
  {
   "cell_type": "code",
   "execution_count": 66,
   "metadata": {},
   "outputs": [
    {
     "data": {
      "text/html": [
       "<div>\n",
       "<style scoped>\n",
       "    .dataframe tbody tr th:only-of-type {\n",
       "        vertical-align: middle;\n",
       "    }\n",
       "\n",
       "    .dataframe tbody tr th {\n",
       "        vertical-align: top;\n",
       "    }\n",
       "\n",
       "    .dataframe thead th {\n",
       "        text-align: right;\n",
       "    }\n",
       "</style>\n",
       "<table border=\"1\" class=\"dataframe\">\n",
       "  <thead>\n",
       "    <tr style=\"text-align: right;\">\n",
       "      <th></th>\n",
       "      <th>Exp return</th>\n",
       "      <th>Weight</th>\n",
       "    </tr>\n",
       "    <tr>\n",
       "      <th>Symbol</th>\n",
       "      <th></th>\n",
       "      <th></th>\n",
       "    </tr>\n",
       "  </thead>\n",
       "  <tbody>\n",
       "    <tr>\n",
       "      <th>BMY</th>\n",
       "      <td>0.00%</td>\n",
       "      <td>0.00%</td>\n",
       "    </tr>\n",
       "    <tr>\n",
       "      <th>CL</th>\n",
       "      <td>5.59%</td>\n",
       "      <td>96.00%</td>\n",
       "    </tr>\n",
       "    <tr>\n",
       "      <th>CMCSA</th>\n",
       "      <td>0.00%</td>\n",
       "      <td>0.00%</td>\n",
       "    </tr>\n",
       "    <tr>\n",
       "      <th>CVS</th>\n",
       "      <td>-0.17%</td>\n",
       "      <td>4.00%</td>\n",
       "    </tr>\n",
       "    <tr>\n",
       "      <th>F</th>\n",
       "      <td>0.00%</td>\n",
       "      <td>0.00%</td>\n",
       "    </tr>\n",
       "    <tr>\n",
       "      <th>ORCL</th>\n",
       "      <td>0.00%</td>\n",
       "      <td>0.00%</td>\n",
       "    </tr>\n",
       "    <tr>\n",
       "      <th>PFE</th>\n",
       "      <td>0.00%</td>\n",
       "      <td>0.00%</td>\n",
       "    </tr>\n",
       "    <tr>\n",
       "      <th>PG</th>\n",
       "      <td>0.00%</td>\n",
       "      <td>0.00%</td>\n",
       "    </tr>\n",
       "    <tr>\n",
       "      <th>T</th>\n",
       "      <td>0.00%</td>\n",
       "      <td>0.00%</td>\n",
       "    </tr>\n",
       "    <tr>\n",
       "      <th>VZ</th>\n",
       "      <td>0.00%</td>\n",
       "      <td>0.00%</td>\n",
       "    </tr>\n",
       "    <tr>\n",
       "      <th>All</th>\n",
       "      <td>5.42%</td>\n",
       "      <td>100.00%</td>\n",
       "    </tr>\n",
       "  </tbody>\n",
       "</table>\n",
       "</div>"
      ],
      "text/plain": [
       "       Exp return   Weight\n",
       "Symbol                    \n",
       "BMY         0.00%    0.00%\n",
       "CL          5.59%   96.00%\n",
       "CMCSA       0.00%    0.00%\n",
       "CVS        -0.17%    4.00%\n",
       "F           0.00%    0.00%\n",
       "ORCL        0.00%    0.00%\n",
       "PFE         0.00%    0.00%\n",
       "PG          0.00%    0.00%\n",
       "T           0.00%    0.00%\n",
       "VZ          0.00%    0.00%\n",
       "All         5.42%  100.00%"
      ]
     },
     "execution_count": 66,
     "metadata": {},
     "output_type": "execute_result"
    }
   ],
   "source": [
    "summary_output = pd.DataFrame({'Symbol': symbols})\n",
    "summary_output['Weight'] = res['x'].round(3)\n",
    "\n",
    "summary_output = pd.merge(summary_output , (logChange.mean()*252).reset_index(name='temp'))\n",
    "\n",
    "summary_output['Exp return'] = summary_output['Weight']*summary_output['temp']\n",
    "\n",
    "summary_output = summary_output.pivot_table(index='Symbol', values=['Weight', 'Exp return']  , aggfunc=np.sum, margins=True)\n",
    "\n",
    "\n",
    "format_column_percentage(summary_output, ['Exp return', 'Weight'])\n",
    "summary_output"
   ]
  },
  {
   "cell_type": "code",
   "execution_count": 67,
   "metadata": {},
   "outputs": [],
   "source": [
    "today = dt.datetime.today().strftime('%Y-%m-%d')\n",
    "pdf_file_name = \"Report \"+ today +\".pdf\""
   ]
  },
  {
   "cell_type": "code",
   "execution_count": 68,
   "metadata": {},
   "outputs": [],
   "source": [
    "def PrepareTableForReportLab(dataframe):\n",
    "    \n",
    "    data = dataframe\n",
    "\n",
    "    'handling grouped first index column'\n",
    "    a= []\n",
    "    for i in range(len(data)):\n",
    "        #print(i, data.index.get_level_values(0)[i])\n",
    "        if data.index.get_level_values(0)[i-1] == data.index.get_level_values(0)[i]:\n",
    "            a.append(i)\n",
    "    a.sort(reverse=True)\n",
    "\n",
    "    as_list = data.index.get_level_values(0).tolist()\n",
    "    for i in a:\n",
    "        as_list[i] = \"\"\n",
    "\n",
    "        \n",
    "    'flat dataframe'\n",
    "    data = data.reset_index()\n",
    "    'remove duplicated values from first column which was index before resetting index'\n",
    "    first_col_name = data.columns[0]\n",
    "    data[first_col_name] = as_list \n",
    "    \n",
    "    #data = dataframe.reset_index()\n",
    "    #colwidths = 800/len(data.columns) \n",
    "    data = [data.columns.to_list()] + data.values.tolist() \n",
    "\n",
    "    #tbl = Table(data) # \n",
    "    tbl = Table(data) #, colwidths ) #, rowheights)\n",
    "    tbl.setStyle(TableStyle([\n",
    "    ('INNERGRID', (0, 0), (-1, -1), 0.25, colors.black),\n",
    "    ('BOX', (0, 0), (-1, -1), 0.25, colors.black),\n",
    "    ('ALIGN', (1,1), (-1,-1), 'RIGHT'),\n",
    "    ('BACKGROUND', (0,0), (-1,0), colors.Color(0,0.7,0.7))\n",
    "    ]))\n",
    "    \n",
    "    return tbl"
   ]
  },
  {
   "cell_type": "code",
   "execution_count": 69,
   "metadata": {},
   "outputs": [],
   "source": [
    "story = []"
   ]
  },
  {
   "cell_type": "code",
   "execution_count": 70,
   "metadata": {
    "scrolled": true
   },
   "outputs": [],
   "source": [
    "story.append(Paragraph(\"Portfolio\", getSampleStyleSheet()['Heading1']))\n",
    "story.append(PrepareTableForReportLab(summary_output))\n",
    "\n",
    "story.append(PageBreak())"
   ]
  },
  {
   "cell_type": "code",
   "execution_count": 71,
   "metadata": {},
   "outputs": [],
   "source": [
    "doc = SimpleDocTemplate(pdf_file_name, pagesize = landscape(letter), topMargin = inch * .25, bottomMargin = inch * .25)\n",
    "doc.build(story)"
   ]
  },
  {
   "cell_type": "code",
   "execution_count": 72,
   "metadata": {
    "scrolled": true
   },
   "outputs": [
    {
     "data": {
      "text/plain": [
       "CompletedProcess(args=['open', 'Report 2020-10-04.pdf'], returncode=0)"
      ]
     },
     "execution_count": 72,
     "metadata": {},
     "output_type": "execute_result"
    }
   ],
   "source": [
    "#Open pdf file generated\n",
    "subprocess.run(['open', pdf_file_name], check=True)"
   ]
  },
  {
   "cell_type": "code",
   "execution_count": null,
   "metadata": {},
   "outputs": [],
   "source": []
  }
 ],
 "metadata": {
  "kernelspec": {
   "display_name": "Python 3",
   "language": "python",
   "name": "python3"
  },
  "language_info": {
   "codemirror_mode": {
    "name": "ipython",
    "version": 3
   },
   "file_extension": ".py",
   "mimetype": "text/x-python",
   "name": "python",
   "nbconvert_exporter": "python",
   "pygments_lexer": "ipython3",
   "version": "3.7.0"
  }
 },
 "nbformat": 4,
 "nbformat_minor": 4
}
