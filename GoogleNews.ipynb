{
 "cells": [
  {
   "cell_type": "code",
   "execution_count": 1,
   "metadata": {},
   "outputs": [],
   "source": [
    "from GoogleNews import GoogleNews\n",
    "\n",
    "import pandas as pd\n",
    "from pandas.io.json import json_normalize"
   ]
  },
  {
   "cell_type": "code",
   "execution_count": 9,
   "metadata": {},
   "outputs": [
    {
     "name": "stdout",
     "output_type": "stream",
     "text": [
      "10\n"
     ]
    }
   ],
   "source": [
    "googlenews = GoogleNews()\n",
    "googlenews.search('Trump')\n",
    "#googlenews.clear()\n",
    "#googlenews.getpage(8)\n",
    "result = googlenews.result()\n",
    "print(len(result))"
   ]
  },
  {
   "cell_type": "code",
   "execution_count": 10,
   "metadata": {
    "scrolled": true
   },
   "outputs": [
    {
     "data": {
      "text/plain": [
       "[{'title': \"Donald Trump's niece Mary set to publish explosive book ...\",\n",
       "  'media': 'The Guardian',\n",
       "  'date': '15 Jun 2020',\n",
       "  'desc': \"Donald Trump's niece, Mary Trump, will publish a “harrowing and salacious” book about the president next month, according to reports.\",\n",
       "  'link': 'https://www.theguardian.com/books/2020/jun/15/donald-trump-niece-book-about-her-family-mary-too-much-and-never-enough',\n",
       "  'img': 'https://encrypted-tbn0.gstatic.com/images?q=tbn:ANd9GcS1EJO_vhwxuEkXhwxCL3rAzwp91mZZFOpG7TCffoPBeZq547e-kOKJqW9qmkQr9BQs97r3WocQ&s'},\n",
       " {'title': \"Biden Proves an Elusive Target, Adding to Trump's Frustration\",\n",
       "  'media': 'The New York Times',\n",
       "  'date': '19 Jun 2020',\n",
       "  'desc': \"Trump's campaign took comfort in the expectation that Joseph R. Biden Jr.'s penchant for gaffes would at least offer them dependable fodder for\\xa0...\",\n",
       "  'link': 'https://www.nytimes.com/2020/06/19/us/politics/donald-trump-joe-biden-coronavirus.html',\n",
       "  'img': 'https://encrypted-tbn0.gstatic.com/images?q=tbn:ANd9GcSSBFAoT09y4xAU-qfC5TAosDo5aqj29ygdxufH30kt3NaPUtuhg2eWbKeBVq8o6N-OMBPnhLU2&s'},\n",
       " {'title': \"In Trump's must-win Florida, Covid-19 takes the lead\",\n",
       "  'media': 'Politico',\n",
       "  'date': '26 Jun 2020',\n",
       "  'desc': 'The spike in infections has framed Florida — a must-win election battleground for President Donald Trump — as a state that is losing control of\\xa0...',\n",
       "  'link': 'https://www.politico.com/states/florida/story/2020/06/26/in-trumps-must-win-florida-covid-19-takes-the-lead-1295317',\n",
       "  'img': 'https://encrypted-tbn0.gstatic.com/images?q=tbn:ANd9GcS41OrJVo6CTM_WtmpNSfXuePTo4QvtKZebYDs3Kz90gnoe-1IULWHGKCsxa5xAGrxQ1p4EnXTr&s'},\n",
       " {'title': \"Trump's dumbfounding refusal to encourage wearing masks\",\n",
       "  'media': 'Washington Post',\n",
       "  'date': '25 Jun 2020',\n",
       "  'desc': \"Trump's dumbfounding refusal to encourage wearing masks. As coronavirus cases surge, top Republicans urge masks. Trump, though, still\\xa0...\",\n",
       "  'link': 'https://www.washingtonpost.com/politics/2020/06/25/trumps-dumbfounding-refusal-encourage-wearing-masks/',\n",
       "  'img': 'data:image/gif;base64,R0lGODlhAQABAIAAAP///////yH5BAEKAAEALAAAAAABAAEAAAICTAEAOw=='},\n",
       " {'title': \"Johnson and May ignored claims Russia had 'likely hold' over ...\",\n",
       "  'media': 'The Guardian',\n",
       "  'date': '22 Jun 2020',\n",
       "  'desc': \"In 2016, he wrote a dossier on Trump's links with Russia on behalf of the Democratic party under Hillary Clinton. It alleged the Kremlin had been\\xa0...\",\n",
       "  'link': 'https://www.theguardian.com/world/2020/jun/22/boris-johnson-theres-may-ignored-claims-russia-had-likely-hold-over-donald-trump-ex-spy-christopher-steele-claims',\n",
       "  'img': 'data:image/gif;base64,R0lGODlhAQABAIAAAP///////yH5BAEKAAEALAAAAAABAAEAAAICTAEAOw=='},\n",
       " {'title': \"Trump's rally looked like his vision of America: Limited and ...\",\n",
       "  'media': 'Washington Post',\n",
       "  'date': '20 Jun 2020',\n",
       "  'desc': \"Trump's rally looked like his vision of America: Limited and pitiless. President Trump arrives onstage to speak to his crowd\\xa0...\",\n",
       "  'link': 'https://www.washingtonpost.com/lifestyle/2020/06/21/trumps-rally-looked-like-his-vision-america-limited-pitiless/',\n",
       "  'img': 'data:image/gif;base64,R0lGODlhAQABAIAAAP///////yH5BAEKAAEALAAAAAABAAEAAAICTAEAOw=='},\n",
       " {'title': \"Trump's wish for an end to the pandemic contradicts reality\",\n",
       "  'media': 'CNN',\n",
       "  'date': '15 Jun 2020',\n",
       "  'desc': \"In effect, it will be one of, if not the first, mass participation events indoors anywhere in the world in months. Trump's 20,000-strong crowd will be\\xa0...\",\n",
       "  'link': 'https://www.cnn.com/2020/06/16/politics/donald-trump-coronavirus-politics-oklahoma-election-2020/index.html',\n",
       "  'img': 'data:image/gif;base64,R0lGODlhAQABAIAAAP///////yH5BAEKAAEALAAAAAABAAEAAAICTAEAOw=='},\n",
       " {'title': \"What's Donald Trump's plan B?\",\n",
       "  'media': 'CNN',\n",
       "  'date': '21 Jun 2020',\n",
       "  'desc': \"What's Donald Trump's plan B? Analysis by Chris Cillizza, CNN Editor-at-large. Updated 10:34 AM ET, Mon June 22,\\xa0...\",\n",
       "  'link': 'https://www.cnn.com/2020/06/21/politics/us-election-2020-week-ahead/index.html',\n",
       "  'img': 'data:image/gif;base64,R0lGODlhAQABAIAAAP///////yH5BAEKAAEALAAAAAABAAEAAAICTAEAOw=='},\n",
       " {'title': \"Twitter labels Trump tweet 'manipulated media' for first time\",\n",
       "  'media': 'BBC News',\n",
       "  'date': '19 Jun 2020',\n",
       "  'desc': 'The media organisation has frequently found itself a target of Trump\\'s cries of \"fake news\". But in recent weeks, its journalists - and those from\\xa0...',\n",
       "  'link': 'https://www.bbc.co.uk/news/technology-53106029',\n",
       "  'img': 'data:image/gif;base64,R0lGODlhAQABAIAAAP///////yH5BAEKAAEALAAAAAABAAEAAAICTAEAOw=='},\n",
       " {'title': \"Trump's bid to end Obama-era immigration policy ruled unlawful\",\n",
       "  'media': 'BBC News',\n",
       "  'date': '18 Jun 2020',\n",
       "  'desc': \"The US Supreme Court has ruled against President Donald Trump's bid to end a major programme that protects young immigrants from\\xa0...\",\n",
       "  'link': 'https://www.bbc.co.uk/news/world-us-canada-53096887',\n",
       "  'img': 'data:image/gif;base64,R0lGODlhAQABAIAAAP///////yH5BAEKAAEALAAAAAABAAEAAAICTAEAOw=='}]"
      ]
     },
     "execution_count": 10,
     "metadata": {},
     "output_type": "execute_result"
    }
   ],
   "source": [
    "result"
   ]
  },
  {
   "cell_type": "markdown",
   "metadata": {},
   "source": [
    "for n in range(len(result)):\n",
    "    print(n)\n",
    "    for index in result[n]:\n",
    "        print(index, '\\n', result[n][index])\n",
    "\n",
    "    exit()"
   ]
  },
  {
   "cell_type": "code",
   "execution_count": 11,
   "metadata": {
    "scrolled": true
   },
   "outputs": [
    {
     "name": "stderr",
     "output_type": "stream",
     "text": [
      "/Users/reejungkim/opt/anaconda3/envs/myenv/lib/python3.7/site-packages/ipykernel_launcher.py:1: FutureWarning: pandas.io.json.json_normalize is deprecated, use pandas.json_normalize instead\n",
      "  \"\"\"Entry point for launching an IPython kernel.\n"
     ]
    }
   ],
   "source": [
    "df = pd.DataFrame.from_dict(json_normalize(result), orient='columns')"
   ]
  },
  {
   "cell_type": "code",
   "execution_count": 25,
   "metadata": {},
   "outputs": [
    {
     "data": {
      "text/html": [
       "<div>\n",
       "<style scoped>\n",
       "    .dataframe tbody tr th:only-of-type {\n",
       "        vertical-align: middle;\n",
       "    }\n",
       "\n",
       "    .dataframe tbody tr th {\n",
       "        vertical-align: top;\n",
       "    }\n",
       "\n",
       "    .dataframe thead th {\n",
       "        text-align: right;\n",
       "    }\n",
       "</style>\n",
       "<table border=\"1\" class=\"dataframe\">\n",
       "  <thead>\n",
       "    <tr style=\"text-align: right;\">\n",
       "      <th></th>\n",
       "      <th>title</th>\n",
       "      <th>media</th>\n",
       "      <th>date</th>\n",
       "      <th>desc</th>\n",
       "      <th>link</th>\n",
       "      <th>img</th>\n",
       "    </tr>\n",
       "  </thead>\n",
       "  <tbody>\n",
       "    <tr>\n",
       "      <th>1</th>\n",
       "      <td>Biden Proves an Elusive Target, Adding to Trum...</td>\n",
       "      <td>The New York Times</td>\n",
       "      <td>19 Jun 2020</td>\n",
       "      <td>Trump's campaign took comfort in the expectati...</td>\n",
       "      <td>https://www.nytimes.com/2020/06/19/us/politics...</td>\n",
       "      <td>https://encrypted-tbn0.gstatic.com/images?q=tb...</td>\n",
       "    </tr>\n",
       "    <tr>\n",
       "      <th>8</th>\n",
       "      <td>Twitter labels Trump tweet 'manipulated media'...</td>\n",
       "      <td>BBC News</td>\n",
       "      <td>19 Jun 2020</td>\n",
       "      <td>The media organisation has frequently found it...</td>\n",
       "      <td>https://www.bbc.co.uk/news/technology-53106029</td>\n",
       "      <td>data:image/gif;base64,R0lGODlhAQABAIAAAP//////...</td>\n",
       "    </tr>\n",
       "  </tbody>\n",
       "</table>\n",
       "</div>"
      ],
      "text/plain": [
       "                                               title               media  \\\n",
       "1  Biden Proves an Elusive Target, Adding to Trum...  The New York Times   \n",
       "8  Twitter labels Trump tweet 'manipulated media'...            BBC News   \n",
       "\n",
       "          date                                               desc  \\\n",
       "1  19 Jun 2020  Trump's campaign took comfort in the expectati...   \n",
       "8  19 Jun 2020  The media organisation has frequently found it...   \n",
       "\n",
       "                                                link  \\\n",
       "1  https://www.nytimes.com/2020/06/19/us/politics...   \n",
       "8     https://www.bbc.co.uk/news/technology-53106029   \n",
       "\n",
       "                                                 img  \n",
       "1  https://encrypted-tbn0.gstatic.com/images?q=tb...  \n",
       "8  data:image/gif;base64,R0lGODlhAQABAIAAAP//////...  "
      ]
     },
     "execution_count": 25,
     "metadata": {},
     "output_type": "execute_result"
    }
   ],
   "source": [
    "df.loc[df['date']==\"19 Jun 2020\"]"
   ]
  },
  {
   "cell_type": "code",
   "execution_count": null,
   "metadata": {},
   "outputs": [],
   "source": []
  }
 ],
 "metadata": {
  "kernelspec": {
   "display_name": "Python 3",
   "language": "python",
   "name": "python3"
  },
  "language_info": {
   "codemirror_mode": {
    "name": "ipython",
    "version": 3
   },
   "file_extension": ".py",
   "mimetype": "text/x-python",
   "name": "python",
   "nbconvert_exporter": "python",
   "pygments_lexer": "ipython3",
   "version": "3.7.7"
  }
 },
 "nbformat": 4,
 "nbformat_minor": 4
}
