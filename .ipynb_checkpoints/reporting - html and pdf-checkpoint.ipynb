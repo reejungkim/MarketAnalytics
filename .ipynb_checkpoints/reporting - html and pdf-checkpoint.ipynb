{
 "cells": [
  {
   "cell_type": "code",
   "execution_count": 2,
   "metadata": {},
   "outputs": [],
   "source": [
    "import timeit\n",
    "import datetime as dt\n",
    "import os\n",
    "import subprocess \n",
    "\n",
    "import pandas as pd\n",
    "import numpy as np\n",
    "\n",
    "#for portofolio optimization \n",
    "import scipy.optimize as sco\n",
    "\n",
    "\n",
    "#visualization\n",
    "import matplotlib as mpl\n",
    "import matplotlib.pyplot as plt\n",
    "#import plotly.graph_objs as go\n",
    "%matplotlib inline\n",
    "#visualization with seaborn\n",
    "import seaborn as sns\n",
    "#visualization with plotly \n",
    "import plotly.graph_objects as go #for candle chart visualization\n",
    "import plotly.express as px #for html output\n",
    "\n",
    "\n",
    "#to get financial data\n",
    "from pandas_datareader import data as pdr\n",
    "\n",
    "\n",
    "#for webscraping \n",
    "import requests\n",
    "from bs4 import BeautifulSoup \n",
    "from selenium import webdriver\n",
    "from selenium.webdriver.common.keys import Keys\n",
    "import pandas as pd\n",
    "import requests\n",
    "\n",
    "\n",
    "#for pdf report generation\n",
    "from reportlab.pdfgen import canvas\n",
    "from reportlab.platypus import *\n",
    "from reportlab.lib import colors\n",
    "from reportlab.lib.pagesizes import letter, landscape\n",
    "from reportlab.lib.styles import getSampleStyleSheet, ParagraphStyle\n",
    "from reportlab.lib.units import inch\n",
    "from reportlab.platypus.tableofcontents import TableOfContents\n"
   ]
  },
  {
   "cell_type": "code",
   "execution_count": 3,
   "metadata": {},
   "outputs": [],
   "source": [
    "days_to_lookback =  20    #int (input('days to search financial data:'))"
   ]
  },
  {
   "cell_type": "code",
   "execution_count": 4,
   "metadata": {},
   "outputs": [],
   "source": [
    "riskfree = .0019"
   ]
  },
  {
   "cell_type": "code",
   "execution_count": 5,
   "metadata": {},
   "outputs": [],
   "source": [
    "date_end = dt.datetime.now() #.today()\n",
    "date_start = date_end - dt.timedelta(days_to_lookback)"
   ]
  },
  {
   "cell_type": "markdown",
   "metadata": {},
   "source": [
    "# Create timestamped folder to save reports created later"
   ]
  },
  {
   "cell_type": "code",
   "execution_count": 6,
   "metadata": {},
   "outputs": [
    {
     "data": {
      "text/plain": [
       "'2020-09-26 11-50-07'"
      ]
     },
     "execution_count": 6,
     "metadata": {},
     "output_type": "execute_result"
    }
   ],
   "source": [
    "#timestamp = str(dt.datetime.now()) <- '2020-06-26 20:26:08.775766'  \n",
    "timestamp =  dt.datetime.now().strftime('%Y-%m-%d %H-%M-%S')\n",
    "timestamp"
   ]
  },
  {
   "cell_type": "code",
   "execution_count": 7,
   "metadata": {},
   "outputs": [
    {
     "data": {
      "text/plain": [
       "'/Users/reejungkim/Documents/Git/S&P/Markowitz portflio output 2020-09-26 11-50-07'"
      ]
     },
     "execution_count": 7,
     "metadata": {},
     "output_type": "execute_result"
    }
   ],
   "source": [
    "path = os.getcwd() \n",
    "reportDir = os.path.join(path, \"Markowitz portflio output \" + timestamp)\n",
    "reportDir"
   ]
  },
  {
   "cell_type": "code",
   "execution_count": 8,
   "metadata": {},
   "outputs": [],
   "source": [
    "#create named folder\n",
    "os.makedirs(reportDir, exist_ok = False)"
   ]
  },
  {
   "cell_type": "code",
   "execution_count": 9,
   "metadata": {},
   "outputs": [],
   "source": [
    "os.chdir(reportDir)"
   ]
  },
  {
   "cell_type": "markdown",
   "metadata": {},
   "source": [
    "# Web scraping S&P100 companies from Wikipedia table"
   ]
  },
  {
   "cell_type": "code",
   "execution_count": 10,
   "metadata": {},
   "outputs": [],
   "source": [
    "website_url = requests.get(\"https://en.wikipedia.org/wiki/S%26P_100\").text\n",
    "\n",
    "soup = BeautifulSoup(website_url,'lxml')\n",
    "#print(soup.prettify())"
   ]
  },
  {
   "cell_type": "code",
   "execution_count": 11,
   "metadata": {},
   "outputs": [],
   "source": [
    "wiki_table = soup.find('table',{'class':'wikitable sortable'})"
   ]
  },
  {
   "cell_type": "code",
   "execution_count": 12,
   "metadata": {},
   "outputs": [],
   "source": [
    "data = []\n",
    "tHeader = []\n",
    "SP100_tickers = pd.DataFrame()\n",
    "\n",
    "for tr in wiki_table.find_all(\"tr\"):\n",
    "    for th in tr.find_all(\"th\")[:1]:\n",
    "        tHeader = th.get_text(strip=True)\n",
    "        SP100_tickers[tHeader] = []\n",
    "    for td in tr.find_all(\"td\")[:1]:\n",
    "        data.append( td.get_text(strip=True))\n",
    "        \n",
    "SP100_tickers[tHeader] = data"
   ]
  },
  {
   "cell_type": "code",
   "execution_count": 13,
   "metadata": {
    "scrolled": true
   },
   "outputs": [
    {
     "data": {
      "text/html": [
       "<div>\n",
       "<style scoped>\n",
       "    .dataframe tbody tr th:only-of-type {\n",
       "        vertical-align: middle;\n",
       "    }\n",
       "\n",
       "    .dataframe tbody tr th {\n",
       "        vertical-align: top;\n",
       "    }\n",
       "\n",
       "    .dataframe thead th {\n",
       "        text-align: right;\n",
       "    }\n",
       "</style>\n",
       "<table border=\"1\" class=\"dataframe\">\n",
       "  <thead>\n",
       "    <tr style=\"text-align: right;\">\n",
       "      <th></th>\n",
       "      <th>Symbol</th>\n",
       "    </tr>\n",
       "  </thead>\n",
       "  <tbody>\n",
       "    <tr>\n",
       "      <th>0</th>\n",
       "      <td>AAPL</td>\n",
       "    </tr>\n",
       "    <tr>\n",
       "      <th>1</th>\n",
       "      <td>ABBV</td>\n",
       "    </tr>\n",
       "    <tr>\n",
       "      <th>2</th>\n",
       "      <td>ABT</td>\n",
       "    </tr>\n",
       "    <tr>\n",
       "      <th>3</th>\n",
       "      <td>ACN</td>\n",
       "    </tr>\n",
       "    <tr>\n",
       "      <th>4</th>\n",
       "      <td>ADBE</td>\n",
       "    </tr>\n",
       "    <tr>\n",
       "      <th>...</th>\n",
       "      <td>...</td>\n",
       "    </tr>\n",
       "    <tr>\n",
       "      <th>96</th>\n",
       "      <td>VZ</td>\n",
       "    </tr>\n",
       "    <tr>\n",
       "      <th>97</th>\n",
       "      <td>WBA</td>\n",
       "    </tr>\n",
       "    <tr>\n",
       "      <th>98</th>\n",
       "      <td>WFC</td>\n",
       "    </tr>\n",
       "    <tr>\n",
       "      <th>99</th>\n",
       "      <td>WMT</td>\n",
       "    </tr>\n",
       "    <tr>\n",
       "      <th>100</th>\n",
       "      <td>XOM</td>\n",
       "    </tr>\n",
       "  </tbody>\n",
       "</table>\n",
       "<p>101 rows × 1 columns</p>\n",
       "</div>"
      ],
      "text/plain": [
       "    Symbol\n",
       "0     AAPL\n",
       "1     ABBV\n",
       "2      ABT\n",
       "3      ACN\n",
       "4     ADBE\n",
       "..     ...\n",
       "96      VZ\n",
       "97     WBA\n",
       "98     WFC\n",
       "99     WMT\n",
       "100    XOM\n",
       "\n",
       "[101 rows x 1 columns]"
      ]
     },
     "execution_count": 13,
     "metadata": {},
     "output_type": "execute_result"
    }
   ],
   "source": [
    "SP100_tickers"
   ]
  },
  {
   "cell_type": "markdown",
   "metadata": {},
   "source": [
    "# Use DataReader to get financial data of S&P100 companies from yahoo"
   ]
  },
  {
   "cell_type": "code",
   "execution_count": 14,
   "metadata": {
    "scrolled": true
   },
   "outputs": [
    {
     "name": "stdout",
     "output_type": "stream",
     "text": [
      "CPU times: user 7.07 s, sys: 926 ms, total: 8 s\n",
      "Wall time: 2min 17s\n"
     ]
    }
   ],
   "source": [
    "%%time\n",
    "\n",
    "df = pd.DataFrame()\n",
    "\n",
    "for i in data:\n",
    "    symbol = SP100_tickers.loc[SP100_tickers['Symbol']==i]\n",
    "    try:\n",
    "        symbol_data = pdr.DataReader(i, 'yahoo', date_start, date_end).reset_index()\n",
    "        #display(symbol_data)  \n",
    "    except (KeyError, ValueError):  # the error could possibly occur when there's \".\" in stock name \n",
    "        symbol_data = pdr.DataReader(i.replace('.','-'), 'yahoo', date_start, date_end).reset_index()\n",
    "        #symbol_data = pd.DataFrame()\n",
    "        pass\n",
    "    except:\n",
    "        print(i + \" - Error.\")\n",
    "        symbol_data = pd.DataFrame()\n",
    "        pass\n",
    "    single_table = pd.concat([symbol, symbol_data], axis=0, ignore_index=True) #axis=0 <- row. add frames by row and use fill down.\n",
    "    single_table['Symbol'].ffill(inplace=True)\n",
    "    df = df.append(single_table)\n",
    "    "
   ]
  },
  {
   "cell_type": "code",
   "execution_count": 15,
   "metadata": {
    "scrolled": true
   },
   "outputs": [],
   "source": [
    "df = df.loc[df['Date'].notnull()]"
   ]
  },
  {
   "cell_type": "code",
   "execution_count": 16,
   "metadata": {},
   "outputs": [],
   "source": [
    "df = df.reset_index(drop=True)"
   ]
  },
  {
   "cell_type": "code",
   "execution_count": 17,
   "metadata": {},
   "outputs": [
    {
     "data": {
      "text/html": [
       "<div>\n",
       "<style scoped>\n",
       "    .dataframe tbody tr th:only-of-type {\n",
       "        vertical-align: middle;\n",
       "    }\n",
       "\n",
       "    .dataframe tbody tr th {\n",
       "        vertical-align: top;\n",
       "    }\n",
       "\n",
       "    .dataframe thead th {\n",
       "        text-align: right;\n",
       "    }\n",
       "</style>\n",
       "<table border=\"1\" class=\"dataframe\">\n",
       "  <thead>\n",
       "    <tr style=\"text-align: right;\">\n",
       "      <th></th>\n",
       "      <th>Symbol</th>\n",
       "      <th>Date</th>\n",
       "      <th>High</th>\n",
       "      <th>Low</th>\n",
       "      <th>Open</th>\n",
       "      <th>Close</th>\n",
       "      <th>Volume</th>\n",
       "      <th>Adj Close</th>\n",
       "    </tr>\n",
       "  </thead>\n",
       "  <tbody>\n",
       "    <tr>\n",
       "      <th>0</th>\n",
       "      <td>AAPL</td>\n",
       "      <td>2020-09-08</td>\n",
       "      <td>118.989998</td>\n",
       "      <td>112.680000</td>\n",
       "      <td>113.949997</td>\n",
       "      <td>112.820000</td>\n",
       "      <td>231366600.0</td>\n",
       "      <td>112.820000</td>\n",
       "    </tr>\n",
       "    <tr>\n",
       "      <th>1</th>\n",
       "      <td>AAPL</td>\n",
       "      <td>2020-09-09</td>\n",
       "      <td>119.139999</td>\n",
       "      <td>115.260002</td>\n",
       "      <td>117.260002</td>\n",
       "      <td>117.320000</td>\n",
       "      <td>176940500.0</td>\n",
       "      <td>117.320000</td>\n",
       "    </tr>\n",
       "    <tr>\n",
       "      <th>2</th>\n",
       "      <td>AAPL</td>\n",
       "      <td>2020-09-10</td>\n",
       "      <td>120.500000</td>\n",
       "      <td>112.500000</td>\n",
       "      <td>120.360001</td>\n",
       "      <td>113.489998</td>\n",
       "      <td>182274400.0</td>\n",
       "      <td>113.489998</td>\n",
       "    </tr>\n",
       "    <tr>\n",
       "      <th>3</th>\n",
       "      <td>AAPL</td>\n",
       "      <td>2020-09-11</td>\n",
       "      <td>115.230003</td>\n",
       "      <td>110.000000</td>\n",
       "      <td>114.570000</td>\n",
       "      <td>112.000000</td>\n",
       "      <td>180860300.0</td>\n",
       "      <td>112.000000</td>\n",
       "    </tr>\n",
       "    <tr>\n",
       "      <th>4</th>\n",
       "      <td>AAPL</td>\n",
       "      <td>2020-09-14</td>\n",
       "      <td>115.930000</td>\n",
       "      <td>112.800003</td>\n",
       "      <td>114.720001</td>\n",
       "      <td>115.360001</td>\n",
       "      <td>140150100.0</td>\n",
       "      <td>115.360001</td>\n",
       "    </tr>\n",
       "    <tr>\n",
       "      <th>...</th>\n",
       "      <td>...</td>\n",
       "      <td>...</td>\n",
       "      <td>...</td>\n",
       "      <td>...</td>\n",
       "      <td>...</td>\n",
       "      <td>...</td>\n",
       "      <td>...</td>\n",
       "      <td>...</td>\n",
       "    </tr>\n",
       "    <tr>\n",
       "      <th>1409</th>\n",
       "      <td>XOM</td>\n",
       "      <td>2020-09-21</td>\n",
       "      <td>36.709999</td>\n",
       "      <td>35.680000</td>\n",
       "      <td>36.430000</td>\n",
       "      <td>36.430000</td>\n",
       "      <td>35351800.0</td>\n",
       "      <td>36.430000</td>\n",
       "    </tr>\n",
       "    <tr>\n",
       "      <th>1410</th>\n",
       "      <td>XOM</td>\n",
       "      <td>2020-09-22</td>\n",
       "      <td>36.840000</td>\n",
       "      <td>35.470001</td>\n",
       "      <td>36.459999</td>\n",
       "      <td>35.529999</td>\n",
       "      <td>27303200.0</td>\n",
       "      <td>35.529999</td>\n",
       "    </tr>\n",
       "    <tr>\n",
       "      <th>1411</th>\n",
       "      <td>XOM</td>\n",
       "      <td>2020-09-23</td>\n",
       "      <td>35.790001</td>\n",
       "      <td>34.349998</td>\n",
       "      <td>35.650002</td>\n",
       "      <td>34.389999</td>\n",
       "      <td>31251400.0</td>\n",
       "      <td>34.389999</td>\n",
       "    </tr>\n",
       "    <tr>\n",
       "      <th>1412</th>\n",
       "      <td>XOM</td>\n",
       "      <td>2020-09-24</td>\n",
       "      <td>34.820000</td>\n",
       "      <td>33.759998</td>\n",
       "      <td>34.400002</td>\n",
       "      <td>34.320000</td>\n",
       "      <td>26796000.0</td>\n",
       "      <td>34.320000</td>\n",
       "    </tr>\n",
       "    <tr>\n",
       "      <th>1413</th>\n",
       "      <td>XOM</td>\n",
       "      <td>2020-09-25</td>\n",
       "      <td>34.939999</td>\n",
       "      <td>33.880001</td>\n",
       "      <td>34.000000</td>\n",
       "      <td>34.639999</td>\n",
       "      <td>23475300.0</td>\n",
       "      <td>34.639999</td>\n",
       "    </tr>\n",
       "  </tbody>\n",
       "</table>\n",
       "<p>1414 rows × 8 columns</p>\n",
       "</div>"
      ],
      "text/plain": [
       "     Symbol       Date        High         Low        Open       Close  \\\n",
       "0      AAPL 2020-09-08  118.989998  112.680000  113.949997  112.820000   \n",
       "1      AAPL 2020-09-09  119.139999  115.260002  117.260002  117.320000   \n",
       "2      AAPL 2020-09-10  120.500000  112.500000  120.360001  113.489998   \n",
       "3      AAPL 2020-09-11  115.230003  110.000000  114.570000  112.000000   \n",
       "4      AAPL 2020-09-14  115.930000  112.800003  114.720001  115.360001   \n",
       "...     ...        ...         ...         ...         ...         ...   \n",
       "1409    XOM 2020-09-21   36.709999   35.680000   36.430000   36.430000   \n",
       "1410    XOM 2020-09-22   36.840000   35.470001   36.459999   35.529999   \n",
       "1411    XOM 2020-09-23   35.790001   34.349998   35.650002   34.389999   \n",
       "1412    XOM 2020-09-24   34.820000   33.759998   34.400002   34.320000   \n",
       "1413    XOM 2020-09-25   34.939999   33.880001   34.000000   34.639999   \n",
       "\n",
       "           Volume   Adj Close  \n",
       "0     231366600.0  112.820000  \n",
       "1     176940500.0  117.320000  \n",
       "2     182274400.0  113.489998  \n",
       "3     180860300.0  112.000000  \n",
       "4     140150100.0  115.360001  \n",
       "...           ...         ...  \n",
       "1409   35351800.0   36.430000  \n",
       "1410   27303200.0   35.529999  \n",
       "1411   31251400.0   34.389999  \n",
       "1412   26796000.0   34.320000  \n",
       "1413   23475300.0   34.639999  \n",
       "\n",
       "[1414 rows x 8 columns]"
      ]
     },
     "execution_count": 17,
     "metadata": {},
     "output_type": "execute_result"
    }
   ],
   "source": [
    "df"
   ]
  },
  {
   "cell_type": "code",
   "execution_count": 46,
   "metadata": {
    "scrolled": false
   },
   "outputs": [
    {
     "data": {
      "image/png": "[encoded data removed]",
      "text/plain": [
       "<Figure size 421.5x360 with 1 Axes>"
      ]
     },
     "metadata": {
      "needs_background": "light"
     },
     "output_type": "display_data"
    }
   ],
   "source": [
    "sns.relplot(x='Date', y='Close', kind='line', hue ='Symbol',data=df.loc[df['Symbol']=='AAPL']).fig.autofmt_xdate()\n",
    "plt.grid(which=\"major\", color='k', linestyle='-.', linewidth=0.5)\n",
    "plt.title('AAPL', fontsize=16)\n",
    "plt.ylabel('Closing price', fontsize=14)\n",
    "plt.xlabel('Date', fontsize=14)"
   ]
  },
  {
   "cell_type": "code",
   "execution_count": 114,
   "metadata": {},
   "outputs": [
    {
     "data": {
      "image/png": "[encoded data removed]",
      "text/plain": [
       "<Figure size 421.5x360 with 1 Axes>"
      ]
     },
     "metadata": {
      "needs_background": "light"
     },
     "output_type": "display_data"
    }
   ],
   "source": [
    "fig = sns.relplot(x='Date', y='Close', kind='line', hue ='Symbol',data=df.loc[df['Symbol']=='AAPL']).fig.autofmt_xdate()\n",
    "plt.savefig('AAPL2.png', bbox_inches='tight')"
   ]
  },
  {
   "cell_type": "code",
   "execution_count": 115,
   "metadata": {},
   "outputs": [],
   "source": [
    "graph_url = '/Users/reejungkim/Documents/Git/S&P/Markowitz portflio output 2020-09-26 11-50-07/AAPL2.png'"
   ]
  },
  {
   "cell_type": "markdown",
   "metadata": {},
   "source": [
    "testDF = df.to_html('testDF.html')"
   ]
  },
  {
   "cell_type": "code",
   "execution_count": 130,
   "metadata": {},
   "outputs": [
    {
     "data": {
      "text/plain": [
       "'<a href=\"/Users/reejungkim/Documents/Git/S&P/Markowitz portflio output 2020-09-26 11-50-07/AAPL2.png\" target=\"_blank\"><img style=\"height: 400px;\" src=\"/Users/reejungkim/Documents/Git/S&P/Markowitz portflio output 2020-09-26 11-50-07/AAPL2.png\".png\"></a>{caption}<br><a href=\"/Users/reejungkim/Documents/Git/S&P/Markowitz portflio output 2020-09-26 11-50-07/AAPL2.png\" style=\"color: rgb(190,190,190); text-decoration: none; font-weight: 200;\" target=\"_blank\">Click to comment and see the interactive graph</a><br><hr>'"
      ]
     },
     "execution_count": 130,
     "metadata": {},
     "output_type": "execute_result"
    }
   ],
   "source": [
    "report_block = ('' +\n",
    "'<a href=\"'+graph_url+'\" target=\"_blank\">' # Open the interactive graph when you click on the image\n",
    "'<img style=\"height: 400px;\" src=\"'+graph_url+'\".png\">'\n",
    "'</a>' +\n",
    "'{caption}' + # Optional caption to include below the graph\n",
    "'<br>'      + # Line break\n",
    "'<a href=\"'+graph_url+'\" style=\"color: rgb(190,190,190); text-decoration: none; font-weight: 200;\" target=\"_blank\">'+\n",
    "'Click to comment and see the interactive graph' + # Direct readers to Plotly for commenting, interactive graph\n",
    "'</a>' +\n",
    "'<br>' +\n",
    "'<hr>') # horizontal line                       \n",
    "\n",
    "report_block"
   ]
  },
  {
   "cell_type": "code",
   "execution_count": 132,
   "metadata": {},
   "outputs": [],
   "source": [
    "from xhtml2pdf import pisa             # import python module\n",
    "\n",
    "# Utility function\n",
    "def convert_html_to_pdf(source_html, output_filename):\n",
    "    # open output file for writing (truncated binary)\n",
    "    result_file = open(output_filename, \"w+b\")\n",
    "\n",
    "    # convert HTML to PDF\n",
    "    pisa_status = pisa.CreatePDF(\n",
    "            source_html,                # the HTML to convert\n",
    "            dest=result_file)           # file handle to recieve result\n",
    "\n",
    "    # close output file\n",
    "    result_file.close()                 # close output file\n",
    "\n",
    "    # return True on success and False on errors\n",
    "    return pisa_status.err"
   ]
  },
  {
   "cell_type": "code",
   "execution_count": 133,
   "metadata": {},
   "outputs": [],
   "source": [
    "convert_html_to_pdf(report_block, 'report.pdf')\n",
    "!open report.pdf"
   ]
  }
 ],
 "metadata": {
  "kernelspec": {
   "display_name": "Python 3",
   "language": "python",
   "name": "python3"
  },
  "language_info": {
   "codemirror_mode": {
    "name": "ipython",
    "version": 3
   },
   "file_extension": ".py",
   "mimetype": "text/x-python",
   "name": "python",
   "nbconvert_exporter": "python",
   "pygments_lexer": "ipython3",
   "version": "3.7.0"
  }
 },
 "nbformat": 4,
 "nbformat_minor": 4
}
