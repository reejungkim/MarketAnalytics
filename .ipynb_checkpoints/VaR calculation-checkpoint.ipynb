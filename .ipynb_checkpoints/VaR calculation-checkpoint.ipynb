{
 "cells": [
  {
   "cell_type": "code",
   "execution_count": 34,
   "metadata": {},
   "outputs": [],
   "source": [
    "import datetime as dt\n",
    "import os\n",
    "import subprocess \n",
    "import numpy as np\n",
    "import pandas as pd\n",
    "\n",
    "#to get financial data\n",
    "from pandas_datareader import data as pdr\n",
    "\n",
    "#visualization\n",
    "import matplotlib as mpl\n",
    "import matplotlib.pyplot as plt\n",
    "#import plotly.graph_objs as go\n",
    "%matplotlib inline\n",
    "#visualization with seaborn\n",
    "import seaborn as sns\n"
   ]
  },
  {
   "cell_type": "code",
   "execution_count": 50,
   "metadata": {},
   "outputs": [],
   "source": [
    "tickers = ['GOOG', 'NKLA', 'FB']"
   ]
  },
  {
   "cell_type": "code",
   "execution_count": 51,
   "metadata": {},
   "outputs": [
    {
     "data": {
      "text/plain": [
       "datetime.date(2020, 7, 26)"
      ]
     },
     "execution_count": 51,
     "metadata": {},
     "output_type": "execute_result"
    }
   ],
   "source": [
    "dt.date.today()"
   ]
  },
  {
   "cell_type": "code",
   "execution_count": 54,
   "metadata": {},
   "outputs": [
    {
     "data": {
      "text/html": [
       "<div>\n",
       "<style scoped>\n",
       "    .dataframe tbody tr th:only-of-type {\n",
       "        vertical-align: middle;\n",
       "    }\n",
       "\n",
       "    .dataframe tbody tr th {\n",
       "        vertical-align: top;\n",
       "    }\n",
       "\n",
       "    .dataframe thead th {\n",
       "        text-align: right;\n",
       "    }\n",
       "</style>\n",
       "<table border=\"1\" class=\"dataframe\">\n",
       "  <thead>\n",
       "    <tr style=\"text-align: right;\">\n",
       "      <th>Symbols</th>\n",
       "      <th>GOOG</th>\n",
       "      <th>NKLA</th>\n",
       "      <th>FB</th>\n",
       "    </tr>\n",
       "    <tr>\n",
       "      <th>Date</th>\n",
       "      <th></th>\n",
       "      <th></th>\n",
       "      <th></th>\n",
       "    </tr>\n",
       "  </thead>\n",
       "  <tbody>\n",
       "    <tr>\n",
       "      <th>2020-06-03</th>\n",
       "      <td>1436.380005</td>\n",
       "      <td>33.970001</td>\n",
       "      <td>230.160004</td>\n",
       "    </tr>\n",
       "    <tr>\n",
       "      <th>2020-06-04</th>\n",
       "      <td>1412.180054</td>\n",
       "      <td>33.750000</td>\n",
       "      <td>226.289993</td>\n",
       "    </tr>\n",
       "    <tr>\n",
       "      <th>2020-06-05</th>\n",
       "      <td>1438.390015</td>\n",
       "      <td>35.970001</td>\n",
       "      <td>230.770004</td>\n",
       "    </tr>\n",
       "    <tr>\n",
       "      <th>2020-06-08</th>\n",
       "      <td>1446.609985</td>\n",
       "      <td>73.269997</td>\n",
       "      <td>231.399994</td>\n",
       "    </tr>\n",
       "    <tr>\n",
       "      <th>2020-06-09</th>\n",
       "      <td>1456.160034</td>\n",
       "      <td>79.730003</td>\n",
       "      <td>238.669998</td>\n",
       "    </tr>\n",
       "  </tbody>\n",
       "</table>\n",
       "</div>"
      ],
      "text/plain": [
       "Symbols            GOOG       NKLA          FB\n",
       "Date                                          \n",
       "2020-06-03  1436.380005  33.970001  230.160004\n",
       "2020-06-04  1412.180054  33.750000  226.289993\n",
       "2020-06-05  1438.390015  35.970001  230.770004\n",
       "2020-06-08  1446.609985  73.269997  231.399994\n",
       "2020-06-09  1456.160034  79.730003  238.669998"
      ]
     },
     "execution_count": 54,
     "metadata": {},
     "output_type": "execute_result"
    }
   ],
   "source": [
    "df = pdr.DataReader(tickers, 'yahoo', '2020-06-03',  dt.date.today())['Close']\n",
    "df.head()"
   ]
  },
  {
   "cell_type": "code",
   "execution_count": 59,
   "metadata": {
    "scrolled": true
   },
   "outputs": [
    {
     "data": {
      "text/html": [
       "<div>\n",
       "<style scoped>\n",
       "    .dataframe tbody tr th:only-of-type {\n",
       "        vertical-align: middle;\n",
       "    }\n",
       "\n",
       "    .dataframe tbody tr th {\n",
       "        vertical-align: top;\n",
       "    }\n",
       "\n",
       "    .dataframe thead th {\n",
       "        text-align: right;\n",
       "    }\n",
       "</style>\n",
       "<table border=\"1\" class=\"dataframe\">\n",
       "  <thead>\n",
       "    <tr style=\"text-align: right;\">\n",
       "      <th>Symbols</th>\n",
       "      <th>Date</th>\n",
       "      <th>GOOG</th>\n",
       "      <th>NKLA</th>\n",
       "      <th>FB</th>\n",
       "    </tr>\n",
       "  </thead>\n",
       "  <tbody>\n",
       "    <tr>\n",
       "      <th>0</th>\n",
       "      <td>2020-06-03</td>\n",
       "      <td>1436.380005</td>\n",
       "      <td>33.970001</td>\n",
       "      <td>230.160004</td>\n",
       "    </tr>\n",
       "    <tr>\n",
       "      <th>1</th>\n",
       "      <td>2020-06-04</td>\n",
       "      <td>1412.180054</td>\n",
       "      <td>33.750000</td>\n",
       "      <td>226.289993</td>\n",
       "    </tr>\n",
       "    <tr>\n",
       "      <th>2</th>\n",
       "      <td>2020-06-05</td>\n",
       "      <td>1438.390015</td>\n",
       "      <td>35.970001</td>\n",
       "      <td>230.770004</td>\n",
       "    </tr>\n",
       "    <tr>\n",
       "      <th>3</th>\n",
       "      <td>2020-06-08</td>\n",
       "      <td>1446.609985</td>\n",
       "      <td>73.269997</td>\n",
       "      <td>231.399994</td>\n",
       "    </tr>\n",
       "    <tr>\n",
       "      <th>4</th>\n",
       "      <td>2020-06-09</td>\n",
       "      <td>1456.160034</td>\n",
       "      <td>79.730003</td>\n",
       "      <td>238.669998</td>\n",
       "    </tr>\n",
       "  </tbody>\n",
       "</table>\n",
       "</div>"
      ],
      "text/plain": [
       "Symbols       Date         GOOG       NKLA          FB\n",
       "0       2020-06-03  1436.380005  33.970001  230.160004\n",
       "1       2020-06-04  1412.180054  33.750000  226.289993\n",
       "2       2020-06-05  1438.390015  35.970001  230.770004\n",
       "3       2020-06-08  1446.609985  73.269997  231.399994\n",
       "4       2020-06-09  1456.160034  79.730003  238.669998"
      ]
     },
     "execution_count": 59,
     "metadata": {},
     "output_type": "execute_result"
    }
   ],
   "source": [
    "df.reset_index().head()"
   ]
  },
  {
   "cell_type": "code",
   "execution_count": 66,
   "metadata": {},
   "outputs": [
    {
     "data": {
      "text/html": [
       "<div>\n",
       "<style scoped>\n",
       "    .dataframe tbody tr th:only-of-type {\n",
       "        vertical-align: middle;\n",
       "    }\n",
       "\n",
       "    .dataframe tbody tr th {\n",
       "        vertical-align: top;\n",
       "    }\n",
       "\n",
       "    .dataframe thead th {\n",
       "        text-align: right;\n",
       "    }\n",
       "</style>\n",
       "<table border=\"1\" class=\"dataframe\">\n",
       "  <thead>\n",
       "    <tr style=\"text-align: right;\">\n",
       "      <th></th>\n",
       "      <th>Date</th>\n",
       "      <th>Symbols</th>\n",
       "      <th>value</th>\n",
       "    </tr>\n",
       "  </thead>\n",
       "  <tbody>\n",
       "    <tr>\n",
       "      <th>0</th>\n",
       "      <td>2020-06-03</td>\n",
       "      <td>GOOG</td>\n",
       "      <td>1436.380005</td>\n",
       "    </tr>\n",
       "    <tr>\n",
       "      <th>1</th>\n",
       "      <td>2020-06-04</td>\n",
       "      <td>GOOG</td>\n",
       "      <td>1412.180054</td>\n",
       "    </tr>\n",
       "    <tr>\n",
       "      <th>2</th>\n",
       "      <td>2020-06-05</td>\n",
       "      <td>GOOG</td>\n",
       "      <td>1438.390015</td>\n",
       "    </tr>\n",
       "  </tbody>\n",
       "</table>\n",
       "</div>"
      ],
      "text/plain": [
       "        Date Symbols        value\n",
       "0 2020-06-03    GOOG  1436.380005\n",
       "1 2020-06-04    GOOG  1412.180054\n",
       "2 2020-06-05    GOOG  1438.390015"
      ]
     },
     "execution_count": 66,
     "metadata": {},
     "output_type": "execute_result"
    }
   ],
   "source": [
    "df_melt = df.reset_index().melt(id_vars='Date')\n",
    "df_melt.head(3)"
   ]
  },
  {
   "cell_type": "code",
   "execution_count": 68,
   "metadata": {},
   "outputs": [
    {
     "data": {
      "text/plain": [
       "Text(0.5, 20.80000000000002, 'Date')"
      ]
     },
     "execution_count": 68,
     "metadata": {},
     "output_type": "execute_result"
    },
    {
     "data": {
      "image/png": "[encoded data removed]",
      "text/plain": [
       "<Figure size 438.125x360 with 1 Axes>"
      ]
     },
     "metadata": {
      "needs_background": "light"
     },
     "output_type": "display_data"
    }
   ],
   "source": [
    "sns.relplot(x='Date', y='value', kind='line', hue ='Symbols',data=df_melt).fig.autofmt_xdate()\n",
    "plt.grid(which=\"major\", color='k', linestyle='-.', linewidth=0.5)\n",
    "plt.title('', fontsize=16)\n",
    "plt.ylabel('Closing price', fontsize=14)\n",
    "plt.xlabel('Date', fontsize=14)"
   ]
  },
  {
   "cell_type": "code",
   "execution_count": 3,
   "metadata": {
    "scrolled": true
   },
   "outputs": [],
   "source": [
    "#Returns computation \n",
    "df['returns'] = df.pct_change()\n",
    "percentage = df['returns']\n",
    "percentage = percentage.dropna()"
   ]
  },
  {
   "cell_type": "code",
   "execution_count": 28,
   "metadata": {},
   "outputs": [],
   "source": [
    "avg_returns = np.mean(df['returns'])\n",
    "std_dev = np.std(df['returns'])"
   ]
  },
  {
   "cell_type": "code",
   "execution_count": 31,
   "metadata": {
    "scrolled": true
   },
   "outputs": [
    {
     "data": {
      "text/plain": [
       "Date\n",
       "2020-06-03         NaN\n",
       "2020-06-04   -0.006476\n",
       "2020-06-05    0.065778\n",
       "2020-06-08    1.036975\n",
       "2020-06-09    0.088167\n",
       "2020-06-10   -0.184623\n",
       "2020-06-11   -0.069374\n",
       "2020-06-12    0.057851\n",
       "2020-06-15    0.064531\n",
       "2020-06-16   -0.076325\n",
       "2020-06-17    0.017956\n",
       "2020-06-18    0.057290\n",
       "2020-06-19   -0.027019\n",
       "2020-06-22    0.062215\n",
       "2020-06-23    0.072286\n",
       "2020-06-24   -0.011591\n",
       "2020-06-25   -0.041650\n",
       "2020-06-26   -0.106188\n",
       "2020-06-29    0.063257\n",
       "2020-06-30   -0.000592\n",
       "2020-07-01   -0.024137\n",
       "2020-07-02   -0.132170\n",
       "2020-07-06   -0.144606\n",
       "2020-07-07   -0.177637\n",
       "2020-07-08    0.343028\n",
       "2020-07-09    0.049861\n",
       "2020-07-10   -0.043791\n",
       "2020-07-13   -0.005347\n",
       "2020-07-14   -0.015014\n",
       "2020-07-15    0.027098\n",
       "2020-07-16   -0.037560\n",
       "2020-07-17   -0.070246\n",
       "2020-07-20   -0.212735\n",
       "2020-07-21    0.033810\n",
       "2020-07-22   -0.080000\n",
       "2020-07-23   -0.071917\n",
       "2020-07-24   -0.118444\n",
       "Name: returns, dtype: float64"
      ]
     },
     "execution_count": 31,
     "metadata": {},
     "output_type": "execute_result"
    }
   ],
   "source": [
    "df['returns']"
   ]
  },
  {
   "cell_type": "code",
   "execution_count": 5,
   "metadata": {},
   "outputs": [],
   "source": [
    "order_percentage = sorted(df['returns'])"
   ]
  },
  {
   "cell_type": "code",
   "execution_count": 6,
   "metadata": {},
   "outputs": [
    {
     "name": "stderr",
     "output_type": "stream",
     "text": [
      "/Users/reejungkim/opt/anaconda3/envs/myenv/lib/python3.7/site-packages/numpy/lib/histograms.py:839: RuntimeWarning: invalid value encountered in greater_equal\n",
      "  keep = (tmp_a >= first_edge)\n",
      "/Users/reejungkim/opt/anaconda3/envs/myenv/lib/python3.7/site-packages/numpy/lib/histograms.py:840: RuntimeWarning: invalid value encountered in less_equal\n",
      "  keep &= (tmp_a <= last_edge)\n"
     ]
    },
    {
     "data": {
      "image/png": "[encoded data removed]",
      "text/plain": [
       "<Figure size 432x288 with 1 Axes>"
      ]
     },
     "metadata": {
      "needs_background": "light"
     },
     "output_type": "display_data"
    }
   ],
   "source": [
    "plt.hist(order_percentage)\n",
    "plt.show()"
   ]
  },
  {
   "cell_type": "code",
   "execution_count": 84,
   "metadata": {},
   "outputs": [
    {
     "data": {
      "text/plain": [
       "-0.21175151770661835"
      ]
     },
     "execution_count": 84,
     "metadata": {},
     "output_type": "execute_result"
    }
   ],
   "source": [
    "np.percentile(percentage, 0.1)"
   ]
  },
  {
   "cell_type": "code",
   "execution_count": 8,
   "metadata": {},
   "outputs": [
    {
     "name": "stdout",
     "output_type": "stream",
     "text": [
      "99.99% Actual loss won't exceed:  -21.26%\n",
      "99% Actual loss won't exceed: -20.29%\n",
      "95% Actual loss won't exceed: -17.94%\n",
      "Losses expected to exceed -17.94% 1.8 out of 36 days\n"
     ]
    }
   ],
   "source": [
    "print (\"99.99% Actual loss won't exceed: \" , \"{0:.2f}%\".format(np.percentile(percentage, .01) * 100))\n",
    "print (\"99% Actual loss won't exceed: \" + \"{0:.2f}%\".format(np.percentile(percentage, 1) * 100))\n",
    "print (\"95% Actual loss won't exceed: \" + \"{0:.2f}%\".format(np.percentile(percentage, 5) * 100))\n",
    "print (\"Losses expected to exceed \" + \"{0:.2f}%\".format(np.percentile(percentage, 5) * 100) + \" \" + str(.05*len(percentage)) + \" out of \" + str(len(percentage)) + \" days\")\n",
    "varg = np.percentile(order_percentage, 5)"
   ]
  },
  {
   "cell_type": "code",
   "execution_count": null,
   "metadata": {},
   "outputs": [],
   "source": []
  }
 ],
 "metadata": {
  "kernelspec": {
   "display_name": "Python 3",
   "language": "python",
   "name": "python3"
  },
  "language_info": {
   "codemirror_mode": {
    "name": "ipython",
    "version": 3
   },
   "file_extension": ".py",
   "mimetype": "text/x-python",
   "name": "python",
   "nbconvert_exporter": "python",
   "pygments_lexer": "ipython3",
   "version": "3.7.7"
  }
 },
 "nbformat": 4,
 "nbformat_minor": 4
}
