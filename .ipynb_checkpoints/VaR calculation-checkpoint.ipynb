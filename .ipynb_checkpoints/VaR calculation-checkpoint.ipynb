{
 "cells": [
  {
   "cell_type": "code",
   "execution_count": 48,
   "metadata": {},
   "outputs": [],
   "source": [
    "import numpy as np\n",
    "import pandas as pd\n",
    "\n",
    "#to get financial data\n",
    "from pandas_datareader import data as pdr\n",
    "\n",
    "#visualization\n",
    "import matplotlib as mpl\n",
    "import matplotlib.pyplot as plt\n",
    "#import plotly.graph_objs as go\n",
    "%matplotlib inline\n",
    "#visualization with seaborn\n",
    "import seaborn as sns\n"
   ]
  },
  {
   "cell_type": "code",
   "execution_count": 73,
   "metadata": {},
   "outputs": [],
   "source": [
    "df = pdr.DataReader('NKLA', 'yahoo', '2020-05-01', '2020-07-24')\n",
    "df = df[['Close']]"
   ]
  },
  {
   "cell_type": "code",
   "execution_count": 75,
   "metadata": {
    "scrolled": true
   },
   "outputs": [],
   "source": [
    "#Returns computation \n",
    "df['returns'] = df.pct_change()\n",
    "percentage = df['returns']\n",
    "percentage = percentage.dropna()"
   ]
  },
  {
   "cell_type": "code",
   "execution_count": 77,
   "metadata": {},
   "outputs": [],
   "source": [
    "mean = np.mean(df['returns'])\n",
    "std_dev = np.std(df['returns'])"
   ]
  },
  {
   "cell_type": "code",
   "execution_count": 78,
   "metadata": {},
   "outputs": [],
   "source": [
    "order_percentage = sorted(df['returns'])"
   ]
  },
  {
   "cell_type": "code",
   "execution_count": 79,
   "metadata": {},
   "outputs": [
    {
     "name": "stderr",
     "output_type": "stream",
     "text": [
      "/Users/reejungkim/opt/anaconda3/envs/myenv/lib/python3.7/site-packages/numpy/lib/histograms.py:839: RuntimeWarning: invalid value encountered in greater_equal\n",
      "  keep = (tmp_a >= first_edge)\n",
      "/Users/reejungkim/opt/anaconda3/envs/myenv/lib/python3.7/site-packages/numpy/lib/histograms.py:840: RuntimeWarning: invalid value encountered in less_equal\n",
      "  keep &= (tmp_a <= last_edge)\n"
     ]
    },
    {
     "data": {
      "image/png": "[encoded data removed]",
      "text/plain": [
       "<Figure size 432x288 with 1 Axes>"
      ]
     },
     "metadata": {
      "needs_background": "light"
     },
     "output_type": "display_data"
    }
   ],
   "source": [
    "plt.hist(order_percentage)\n",
    "plt.show()"
   ]
  },
  {
   "cell_type": "code",
   "execution_count": 84,
   "metadata": {},
   "outputs": [
    {
     "data": {
      "text/plain": [
       "-0.21175151770661835"
      ]
     },
     "execution_count": 84,
     "metadata": {},
     "output_type": "execute_result"
    }
   ],
   "source": [
    "np.percentile(percentage, 0.1)"
   ]
  },
  {
   "cell_type": "code",
   "execution_count": 53,
   "metadata": {},
   "outputs": [
    {
     "name": "stdout",
     "output_type": "stream",
     "text": [
      "99.99% Actual loss won't exceed:  nan%\n",
      "99% Actual loss won't exceed: nan%\n",
      "95% Actual loss won't exceed: nan%\n",
      "Losses expected to exceed nan% 0.8 out of 16 days\n"
     ]
    }
   ],
   "source": [
    "print (\"99.99% Actual loss won't exceed: \" , \"{0:.2f}%\".format(np.percentile(order_percentage, .01) * 100))\n",
    "print (\"99% Actual loss won't exceed: \" + \"{0:.2f}%\".format(np.percentile(order_percentage, 1) * 100))\n",
    "print (\"95% Actual loss won't exceed: \" + \"{0:.2f}%\".format(np.percentile(order_percentage, 5) * 100))\n",
    "print (\"Losses expected to exceed \" + \"{0:.2f}%\".format(np.percentile(order_percentage, 5) * 100) + \" \" + str(.05*len(percentage)) + \" out of \" + str(len(percentage)) + \" days\")\n",
    "varg = np.percentile(order_percentage, 5)"
   ]
  },
  {
   "cell_type": "code",
   "execution_count": null,
   "metadata": {},
   "outputs": [],
   "source": []
  }
 ],
 "metadata": {
  "kernelspec": {
   "display_name": "Python 3",
   "language": "python",
   "name": "python3"
  },
  "language_info": {
   "codemirror_mode": {
    "name": "ipython",
    "version": 3
   },
   "file_extension": ".py",
   "mimetype": "text/x-python",
   "name": "python",
   "nbconvert_exporter": "python",
   "pygments_lexer": "ipython3",
   "version": "3.7.7"
  }
 },
 "nbformat": 4,
 "nbformat_minor": 4
}
