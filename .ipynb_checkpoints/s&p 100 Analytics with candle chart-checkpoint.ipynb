{
 "cells": [
  {
   "cell_type": "code",
   "execution_count": 1,
   "metadata": {},
   "outputs": [
    {
     "name": "stderr",
     "output_type": "stream",
     "text": [
      "/Users/reejungkim/opt/anaconda3/envs/myenv/lib/python3.7/site-packages/pandas_datareader/compat/__init__.py:7: FutureWarning: pandas.util.testing is deprecated. Use the functions in the public API at pandas.testing instead.\n",
      "  from pandas.util.testing import assert_frame_equal\n"
     ]
    }
   ],
   "source": [
    "import timeit\n",
    "import datetime as dt\n",
    "import os\n",
    "import subprocess \n",
    "\n",
    "import pandas as pd\n",
    "import numpy as np\n",
    "\n",
    "\n",
    "\n",
    "#visualization\n",
    "import matplotlib.pyplot as plt\n",
    "#import plotly.graph_objs as go\n",
    "%matplotlib inline\n",
    "import seaborn as sns\n",
    "\n",
    "#to get financial data\n",
    "from pandas_datareader import data as pdr\n",
    "\n",
    "\n",
    "#for webscraping \n",
    "import requests\n",
    "from bs4 import BeautifulSoup \n",
    "from selenium import webdriver\n",
    "from selenium.webdriver.common.keys import Keys\n",
    "import pandas as pd\n",
    "import requests\n",
    "\n",
    "\n",
    "#for pdf report generation\n",
    "from reportlab.pdfgen import canvas\n",
    "from reportlab.platypus import *\n",
    "from reportlab.lib import colors\n",
    "from reportlab.lib.pagesizes import letter, landscape\n",
    "from reportlab.lib.styles import getSampleStyleSheet, ParagraphStyle\n",
    "from reportlab.lib.units import inch\n",
    "from reportlab.platypus.tableofcontents import TableOfContents\n"
   ]
  },
  {
   "cell_type": "code",
   "execution_count": 2,
   "metadata": {},
   "outputs": [
    {
     "name": "stdout",
     "output_type": "stream",
     "text": [
      "days to search financial data:20\n"
     ]
    }
   ],
   "source": [
    "days_to_lookback = int (input('days to search financial data:'))"
   ]
  },
  {
   "cell_type": "code",
   "execution_count": 3,
   "metadata": {},
   "outputs": [],
   "source": [
    "date_end = dt.datetime.now() #.today()\n",
    "date_start = date_end - dt.timedelta(days_to_lookback)"
   ]
  },
  {
   "cell_type": "markdown",
   "metadata": {},
   "source": [
    "# Create timestamped folder to save reports created later"
   ]
  },
  {
   "cell_type": "code",
   "execution_count": 4,
   "metadata": {},
   "outputs": [
    {
     "data": {
      "text/plain": [
       "'2020-06-30 18-57-51'"
      ]
     },
     "execution_count": 4,
     "metadata": {},
     "output_type": "execute_result"
    }
   ],
   "source": [
    "#timestamp = str(dt.datetime.now()) <- '2020-06-26 20:26:08.775766'  \n",
    "timestamp =  dt.datetime.now().strftime('%Y-%m-%d %H-%M-%S')\n",
    "timestamp"
   ]
  },
  {
   "cell_type": "code",
   "execution_count": 5,
   "metadata": {},
   "outputs": [
    {
     "data": {
      "text/plain": [
       "'/Users/reejungkim/Documents/Git/reporting automation/2020-06-30 18-57-51'"
      ]
     },
     "execution_count": 5,
     "metadata": {},
     "output_type": "execute_result"
    }
   ],
   "source": [
    "path = os.getcwd() \n",
    "reportDir = os.path.join(path,timestamp)\n",
    "reportDir"
   ]
  },
  {
   "cell_type": "code",
   "execution_count": 6,
   "metadata": {},
   "outputs": [],
   "source": [
    "#create named folder\n",
    "os.makedirs(reportDir, exist_ok = False)"
   ]
  },
  {
   "cell_type": "code",
   "execution_count": 7,
   "metadata": {},
   "outputs": [],
   "source": [
    "os.chdir(reportDir)"
   ]
  },
  {
   "cell_type": "markdown",
   "metadata": {},
   "source": [
    "# Web scraping S&P100 companies from Wikipedia table"
   ]
  },
  {
   "cell_type": "code",
   "execution_count": 8,
   "metadata": {},
   "outputs": [],
   "source": [
    "website_url = requests.get(\"https://en.wikipedia.org/wiki/S%26P_100\").text\n",
    "\n",
    "soup = BeautifulSoup(website_url,'lxml')\n",
    "#print(soup.prettify())"
   ]
  },
  {
   "cell_type": "code",
   "execution_count": 9,
   "metadata": {},
   "outputs": [],
   "source": [
    "wiki_table = soup.find('table',{'class':'wikitable sortable'})"
   ]
  },
  {
   "cell_type": "code",
   "execution_count": 10,
   "metadata": {},
   "outputs": [],
   "source": [
    "data = []\n",
    "tHeader = []\n",
    "SP100_tickers = pd.DataFrame()\n",
    "\n",
    "for tr in wiki_table.find_all(\"tr\"):\n",
    "    for th in tr.find_all(\"th\")[:1]:\n",
    "        tHeader = th.get_text(strip=True)\n",
    "        SP100_tickers[tHeader] = []\n",
    "    for td in tr.find_all(\"td\")[:1]:\n",
    "        data.append( td.get_text(strip=True))\n",
    "        \n",
    "SP100_tickers[tHeader] = data"
   ]
  },
  {
   "cell_type": "code",
   "execution_count": 11,
   "metadata": {
    "scrolled": true
   },
   "outputs": [
    {
     "data": {
      "text/html": [
       "<div>\n",
       "<style scoped>\n",
       "    .dataframe tbody tr th:only-of-type {\n",
       "        vertical-align: middle;\n",
       "    }\n",
       "\n",
       "    .dataframe tbody tr th {\n",
       "        vertical-align: top;\n",
       "    }\n",
       "\n",
       "    .dataframe thead th {\n",
       "        text-align: right;\n",
       "    }\n",
       "</style>\n",
       "<table border=\"1\" class=\"dataframe\">\n",
       "  <thead>\n",
       "    <tr style=\"text-align: right;\">\n",
       "      <th></th>\n",
       "      <th>Symbol</th>\n",
       "    </tr>\n",
       "  </thead>\n",
       "  <tbody>\n",
       "    <tr>\n",
       "      <th>0</th>\n",
       "      <td>AAPL</td>\n",
       "    </tr>\n",
       "    <tr>\n",
       "      <th>1</th>\n",
       "      <td>ABBV</td>\n",
       "    </tr>\n",
       "    <tr>\n",
       "      <th>2</th>\n",
       "      <td>ABT</td>\n",
       "    </tr>\n",
       "    <tr>\n",
       "      <th>3</th>\n",
       "      <td>ACN</td>\n",
       "    </tr>\n",
       "    <tr>\n",
       "      <th>4</th>\n",
       "      <td>ADBE</td>\n",
       "    </tr>\n",
       "    <tr>\n",
       "      <th>...</th>\n",
       "      <td>...</td>\n",
       "    </tr>\n",
       "    <tr>\n",
       "      <th>96</th>\n",
       "      <td>VZ</td>\n",
       "    </tr>\n",
       "    <tr>\n",
       "      <th>97</th>\n",
       "      <td>WBA</td>\n",
       "    </tr>\n",
       "    <tr>\n",
       "      <th>98</th>\n",
       "      <td>WFC</td>\n",
       "    </tr>\n",
       "    <tr>\n",
       "      <th>99</th>\n",
       "      <td>WMT</td>\n",
       "    </tr>\n",
       "    <tr>\n",
       "      <th>100</th>\n",
       "      <td>XOM</td>\n",
       "    </tr>\n",
       "  </tbody>\n",
       "</table>\n",
       "<p>101 rows × 1 columns</p>\n",
       "</div>"
      ],
      "text/plain": [
       "    Symbol\n",
       "0     AAPL\n",
       "1     ABBV\n",
       "2      ABT\n",
       "3      ACN\n",
       "4     ADBE\n",
       "..     ...\n",
       "96      VZ\n",
       "97     WBA\n",
       "98     WFC\n",
       "99     WMT\n",
       "100    XOM\n",
       "\n",
       "[101 rows x 1 columns]"
      ]
     },
     "execution_count": 11,
     "metadata": {},
     "output_type": "execute_result"
    }
   ],
   "source": [
    "SP100_tickers"
   ]
  },
  {
   "cell_type": "markdown",
   "metadata": {},
   "source": [
    "# Use DataReader to get financial data of S&P100 companies from yahoo"
   ]
  },
  {
   "cell_type": "code",
   "execution_count": 12,
   "metadata": {
    "scrolled": true
   },
   "outputs": [
    {
     "name": "stdout",
     "output_type": "stream",
     "text": [
      "AAPL\n",
      "ABBV\n",
      "ABT\n",
      "ACN\n",
      "ADBE\n",
      "AIG\n",
      "ALL\n",
      "AMGN\n",
      "AMT\n",
      "AMZN\n",
      "AXP\n",
      "BA\n",
      "BAC\n",
      "BIIB\n",
      "BK\n",
      "BKNG\n",
      "BLK\n",
      "BMY\n",
      "BRK.B\n",
      "C\n",
      "CAT\n",
      "CHTR\n",
      "CL\n",
      "CMCSA\n",
      "COF\n",
      "COP\n",
      "COST\n",
      "CRM\n",
      "CSCO\n",
      "CVS\n",
      "CVX\n",
      "DD\n",
      "DHR\n",
      "DIS\n",
      "DOW\n",
      "DUK\n",
      "EMR\n",
      "EXC\n",
      "F\n",
      "FB\n",
      "FDX\n",
      "GD\n",
      "GE\n",
      "GILD\n",
      "GM\n",
      "GOOG\n",
      "GOOGL\n",
      "GS\n",
      "HD\n",
      "HON\n",
      "IBM\n",
      "INTC\n",
      "JNJ\n",
      "JPM\n",
      "KHC\n",
      "KMI\n",
      "KO\n",
      "LLY\n",
      "LMT\n",
      "LOW\n",
      "MA\n",
      "MCD\n",
      "MDLZ\n",
      "MDT\n",
      "MET\n",
      "MMM\n",
      "MO\n",
      "MRK\n",
      "MS\n",
      "MSFT\n",
      "NEE\n",
      "NFLX\n",
      "NKE\n",
      "NVDA\n",
      "ORCL\n",
      "OXY\n",
      "PEP\n",
      "PFE\n",
      "PG\n",
      "PM\n",
      "PYPL\n",
      "QCOM\n",
      "RTX\n",
      "SBUX\n",
      "SLB\n",
      "SO\n",
      "SPG\n",
      "T\n",
      "TGT\n",
      "TMO\n",
      "TXN\n",
      "UNH\n",
      "UNP\n",
      "UPS\n",
      "USB\n",
      "V\n",
      "VZ\n",
      "WBA\n",
      "WFC\n",
      "WMT\n",
      "XOM\n",
      "CPU times: user 7.61 s, sys: 632 ms, total: 8.25 s\n",
      "Wall time: 1min\n"
     ]
    }
   ],
   "source": [
    "%%time\n",
    "\n",
    "df = pd.DataFrame()\n",
    "\n",
    "for i in data:\n",
    "    symbol = SP100_tickers.loc[SP100_tickers['Symbol']==i]\n",
    "    try:\n",
    "        symbol_data = pdr.DataReader(i, 'yahoo', date_start, date_end).reset_index()\n",
    "        #display(symbol_data)  \n",
    "    except (KeyError, ValueError):  # the error could possibly occur when there's \".\" in stock name \n",
    "        symbol_data = pdr.DataReader(i.replace('.','-'), 'yahoo', date_start, date_end).reset_index()\n",
    "        #symbol_data = pd.DataFrame()\n",
    "        pass\n",
    "    except:\n",
    "        print(i + \" - Error.\")\n",
    "        symbol_data = pd.DataFrame()\n",
    "        pass\n",
    "    single_table = pd.concat([symbol, symbol_data], axis=0, ignore_index=True) #axis=0 <- row. add frames by row and use fill down.\n",
    "    single_table['Symbol'].ffill(inplace=True)\n",
    "    df = df.append(single_table)\n",
    "    "
   ]
  },
  {
   "cell_type": "code",
   "execution_count": 13,
   "metadata": {
    "scrolled": true
   },
   "outputs": [],
   "source": [
    "df = df.loc[df['Date'].notnull()]"
   ]
  },
  {
   "cell_type": "code",
   "execution_count": 14,
   "metadata": {},
   "outputs": [],
   "source": [
    "df = df.reset_index(drop=True)"
   ]
  },
  {
   "cell_type": "markdown",
   "metadata": {
    "scrolled": true
   },
   "source": [
    "df.groupby(['Symbol']).describe().transpose()"
   ]
  },
  {
   "cell_type": "code",
   "execution_count": 15,
   "metadata": {},
   "outputs": [],
   "source": [
    "df_Flat = df"
   ]
  },
  {
   "cell_type": "markdown",
   "metadata": {},
   "source": [
    "# Analytics"
   ]
  },
  {
   "cell_type": "markdown",
   "metadata": {},
   "source": [
    "###  main data frames to be used: \n",
    "#### 1. df_Flat\n",
    "#### 2. df  \n",
    "#### 3. df_Flat_pct_change"
   ]
  },
  {
   "cell_type": "code",
   "execution_count": 16,
   "metadata": {},
   "outputs": [
    {
     "data": {
      "text/html": [
       "<div>\n",
       "<style scoped>\n",
       "    .dataframe tbody tr th:only-of-type {\n",
       "        vertical-align: middle;\n",
       "    }\n",
       "\n",
       "    .dataframe tbody tr th {\n",
       "        vertical-align: top;\n",
       "    }\n",
       "\n",
       "    .dataframe thead th {\n",
       "        text-align: right;\n",
       "    }\n",
       "</style>\n",
       "<table border=\"1\" class=\"dataframe\">\n",
       "  <thead>\n",
       "    <tr style=\"text-align: right;\">\n",
       "      <th></th>\n",
       "      <th>Symbol</th>\n",
       "      <th>Date</th>\n",
       "      <th>High</th>\n",
       "      <th>Low</th>\n",
       "      <th>Open</th>\n",
       "      <th>Close</th>\n",
       "      <th>Volume</th>\n",
       "      <th>Adj Close</th>\n",
       "    </tr>\n",
       "  </thead>\n",
       "  <tbody>\n",
       "    <tr>\n",
       "      <th>0</th>\n",
       "      <td>AAPL</td>\n",
       "      <td>2020-06-10</td>\n",
       "      <td>354.769989</td>\n",
       "      <td>346.089996</td>\n",
       "      <td>347.899994</td>\n",
       "      <td>352.839996</td>\n",
       "      <td>41662900.0</td>\n",
       "      <td>352.839996</td>\n",
       "    </tr>\n",
       "    <tr>\n",
       "      <th>1</th>\n",
       "      <td>AAPL</td>\n",
       "      <td>2020-06-11</td>\n",
       "      <td>351.059998</td>\n",
       "      <td>335.480011</td>\n",
       "      <td>349.309998</td>\n",
       "      <td>335.899994</td>\n",
       "      <td>50415600.0</td>\n",
       "      <td>335.899994</td>\n",
       "    </tr>\n",
       "    <tr>\n",
       "      <th>2</th>\n",
       "      <td>AAPL</td>\n",
       "      <td>2020-06-12</td>\n",
       "      <td>347.799988</td>\n",
       "      <td>334.220001</td>\n",
       "      <td>344.720001</td>\n",
       "      <td>338.799988</td>\n",
       "      <td>50001500.0</td>\n",
       "      <td>338.799988</td>\n",
       "    </tr>\n",
       "    <tr>\n",
       "      <th>3</th>\n",
       "      <td>AAPL</td>\n",
       "      <td>2020-06-15</td>\n",
       "      <td>345.679993</td>\n",
       "      <td>332.579987</td>\n",
       "      <td>333.250000</td>\n",
       "      <td>342.989990</td>\n",
       "      <td>34702200.0</td>\n",
       "      <td>342.989990</td>\n",
       "    </tr>\n",
       "    <tr>\n",
       "      <th>4</th>\n",
       "      <td>AAPL</td>\n",
       "      <td>2020-06-16</td>\n",
       "      <td>353.200012</td>\n",
       "      <td>344.720001</td>\n",
       "      <td>351.459991</td>\n",
       "      <td>352.079987</td>\n",
       "      <td>41357200.0</td>\n",
       "      <td>352.079987</td>\n",
       "    </tr>\n",
       "    <tr>\n",
       "      <th>...</th>\n",
       "      <td>...</td>\n",
       "      <td>...</td>\n",
       "      <td>...</td>\n",
       "      <td>...</td>\n",
       "      <td>...</td>\n",
       "      <td>...</td>\n",
       "      <td>...</td>\n",
       "      <td>...</td>\n",
       "    </tr>\n",
       "    <tr>\n",
       "      <th>1510</th>\n",
       "      <td>XOM</td>\n",
       "      <td>2020-06-24</td>\n",
       "      <td>45.959999</td>\n",
       "      <td>44.250000</td>\n",
       "      <td>45.910000</td>\n",
       "      <td>44.500000</td>\n",
       "      <td>27626900.0</td>\n",
       "      <td>44.500000</td>\n",
       "    </tr>\n",
       "    <tr>\n",
       "      <th>1511</th>\n",
       "      <td>XOM</td>\n",
       "      <td>2020-06-25</td>\n",
       "      <td>45.240002</td>\n",
       "      <td>43.689999</td>\n",
       "      <td>44.049999</td>\n",
       "      <td>45.169998</td>\n",
       "      <td>19353600.0</td>\n",
       "      <td>45.169998</td>\n",
       "    </tr>\n",
       "    <tr>\n",
       "      <th>1512</th>\n",
       "      <td>XOM</td>\n",
       "      <td>2020-06-26</td>\n",
       "      <td>44.939999</td>\n",
       "      <td>43.500000</td>\n",
       "      <td>44.880001</td>\n",
       "      <td>43.619999</td>\n",
       "      <td>31518600.0</td>\n",
       "      <td>43.619999</td>\n",
       "    </tr>\n",
       "    <tr>\n",
       "      <th>1513</th>\n",
       "      <td>XOM</td>\n",
       "      <td>2020-06-29</td>\n",
       "      <td>44.580002</td>\n",
       "      <td>43.540001</td>\n",
       "      <td>43.810001</td>\n",
       "      <td>44.320000</td>\n",
       "      <td>17036500.0</td>\n",
       "      <td>44.320000</td>\n",
       "    </tr>\n",
       "    <tr>\n",
       "      <th>1514</th>\n",
       "      <td>XOM</td>\n",
       "      <td>2020-06-30</td>\n",
       "      <td>44.000000</td>\n",
       "      <td>43.169998</td>\n",
       "      <td>43.430000</td>\n",
       "      <td>43.970001</td>\n",
       "      <td>11303364.0</td>\n",
       "      <td>43.970001</td>\n",
       "    </tr>\n",
       "  </tbody>\n",
       "</table>\n",
       "<p>1515 rows × 8 columns</p>\n",
       "</div>"
      ],
      "text/plain": [
       "     Symbol       Date        High         Low        Open       Close  \\\n",
       "0      AAPL 2020-06-10  354.769989  346.089996  347.899994  352.839996   \n",
       "1      AAPL 2020-06-11  351.059998  335.480011  349.309998  335.899994   \n",
       "2      AAPL 2020-06-12  347.799988  334.220001  344.720001  338.799988   \n",
       "3      AAPL 2020-06-15  345.679993  332.579987  333.250000  342.989990   \n",
       "4      AAPL 2020-06-16  353.200012  344.720001  351.459991  352.079987   \n",
       "...     ...        ...         ...         ...         ...         ...   \n",
       "1510    XOM 2020-06-24   45.959999   44.250000   45.910000   44.500000   \n",
       "1511    XOM 2020-06-25   45.240002   43.689999   44.049999   45.169998   \n",
       "1512    XOM 2020-06-26   44.939999   43.500000   44.880001   43.619999   \n",
       "1513    XOM 2020-06-29   44.580002   43.540001   43.810001   44.320000   \n",
       "1514    XOM 2020-06-30   44.000000   43.169998   43.430000   43.970001   \n",
       "\n",
       "          Volume   Adj Close  \n",
       "0     41662900.0  352.839996  \n",
       "1     50415600.0  335.899994  \n",
       "2     50001500.0  338.799988  \n",
       "3     34702200.0  342.989990  \n",
       "4     41357200.0  352.079987  \n",
       "...          ...         ...  \n",
       "1510  27626900.0   44.500000  \n",
       "1511  19353600.0   45.169998  \n",
       "1512  31518600.0   43.619999  \n",
       "1513  17036500.0   44.320000  \n",
       "1514  11303364.0   43.970001  \n",
       "\n",
       "[1515 rows x 8 columns]"
      ]
     },
     "execution_count": 16,
     "metadata": {},
     "output_type": "execute_result"
    }
   ],
   "source": [
    "df_Flat"
   ]
  },
  {
   "cell_type": "code",
   "execution_count": 17,
   "metadata": {},
   "outputs": [
    {
     "data": {
      "text/html": [
       "<div>\n",
       "<style scoped>\n",
       "    .dataframe tbody tr th:only-of-type {\n",
       "        vertical-align: middle;\n",
       "    }\n",
       "\n",
       "    .dataframe tbody tr th {\n",
       "        vertical-align: top;\n",
       "    }\n",
       "\n",
       "    .dataframe thead th {\n",
       "        text-align: right;\n",
       "    }\n",
       "</style>\n",
       "<table border=\"1\" class=\"dataframe\">\n",
       "  <thead>\n",
       "    <tr style=\"text-align: right;\">\n",
       "      <th></th>\n",
       "      <th></th>\n",
       "      <th>High</th>\n",
       "      <th>Low</th>\n",
       "      <th>Open</th>\n",
       "      <th>Close</th>\n",
       "      <th>Volume</th>\n",
       "      <th>Adj Close</th>\n",
       "    </tr>\n",
       "    <tr>\n",
       "      <th>Symbol</th>\n",
       "      <th>Date</th>\n",
       "      <th></th>\n",
       "      <th></th>\n",
       "      <th></th>\n",
       "      <th></th>\n",
       "      <th></th>\n",
       "      <th></th>\n",
       "    </tr>\n",
       "  </thead>\n",
       "  <tbody>\n",
       "    <tr>\n",
       "      <th rowspan=\"5\" valign=\"top\">AAPL</th>\n",
       "      <th>2020-06-10</th>\n",
       "      <td>354.769989</td>\n",
       "      <td>346.089996</td>\n",
       "      <td>347.899994</td>\n",
       "      <td>352.839996</td>\n",
       "      <td>41662900.0</td>\n",
       "      <td>352.839996</td>\n",
       "    </tr>\n",
       "    <tr>\n",
       "      <th>2020-06-11</th>\n",
       "      <td>351.059998</td>\n",
       "      <td>335.480011</td>\n",
       "      <td>349.309998</td>\n",
       "      <td>335.899994</td>\n",
       "      <td>50415600.0</td>\n",
       "      <td>335.899994</td>\n",
       "    </tr>\n",
       "    <tr>\n",
       "      <th>2020-06-12</th>\n",
       "      <td>347.799988</td>\n",
       "      <td>334.220001</td>\n",
       "      <td>344.720001</td>\n",
       "      <td>338.799988</td>\n",
       "      <td>50001500.0</td>\n",
       "      <td>338.799988</td>\n",
       "    </tr>\n",
       "    <tr>\n",
       "      <th>2020-06-15</th>\n",
       "      <td>345.679993</td>\n",
       "      <td>332.579987</td>\n",
       "      <td>333.250000</td>\n",
       "      <td>342.989990</td>\n",
       "      <td>34702200.0</td>\n",
       "      <td>342.989990</td>\n",
       "    </tr>\n",
       "    <tr>\n",
       "      <th>2020-06-16</th>\n",
       "      <td>353.200012</td>\n",
       "      <td>344.720001</td>\n",
       "      <td>351.459991</td>\n",
       "      <td>352.079987</td>\n",
       "      <td>41357200.0</td>\n",
       "      <td>352.079987</td>\n",
       "    </tr>\n",
       "    <tr>\n",
       "      <th>...</th>\n",
       "      <th>...</th>\n",
       "      <td>...</td>\n",
       "      <td>...</td>\n",
       "      <td>...</td>\n",
       "      <td>...</td>\n",
       "      <td>...</td>\n",
       "      <td>...</td>\n",
       "    </tr>\n",
       "    <tr>\n",
       "      <th rowspan=\"5\" valign=\"top\">XOM</th>\n",
       "      <th>2020-06-24</th>\n",
       "      <td>45.959999</td>\n",
       "      <td>44.250000</td>\n",
       "      <td>45.910000</td>\n",
       "      <td>44.500000</td>\n",
       "      <td>27626900.0</td>\n",
       "      <td>44.500000</td>\n",
       "    </tr>\n",
       "    <tr>\n",
       "      <th>2020-06-25</th>\n",
       "      <td>45.240002</td>\n",
       "      <td>43.689999</td>\n",
       "      <td>44.049999</td>\n",
       "      <td>45.169998</td>\n",
       "      <td>19353600.0</td>\n",
       "      <td>45.169998</td>\n",
       "    </tr>\n",
       "    <tr>\n",
       "      <th>2020-06-26</th>\n",
       "      <td>44.939999</td>\n",
       "      <td>43.500000</td>\n",
       "      <td>44.880001</td>\n",
       "      <td>43.619999</td>\n",
       "      <td>31518600.0</td>\n",
       "      <td>43.619999</td>\n",
       "    </tr>\n",
       "    <tr>\n",
       "      <th>2020-06-29</th>\n",
       "      <td>44.580002</td>\n",
       "      <td>43.540001</td>\n",
       "      <td>43.810001</td>\n",
       "      <td>44.320000</td>\n",
       "      <td>17036500.0</td>\n",
       "      <td>44.320000</td>\n",
       "    </tr>\n",
       "    <tr>\n",
       "      <th>2020-06-30</th>\n",
       "      <td>44.000000</td>\n",
       "      <td>43.169998</td>\n",
       "      <td>43.430000</td>\n",
       "      <td>43.970001</td>\n",
       "      <td>11303364.0</td>\n",
       "      <td>43.970001</td>\n",
       "    </tr>\n",
       "  </tbody>\n",
       "</table>\n",
       "<p>1515 rows × 6 columns</p>\n",
       "</div>"
      ],
      "text/plain": [
       "                         High         Low        Open       Close      Volume  \\\n",
       "Symbol Date                                                                     \n",
       "AAPL   2020-06-10  354.769989  346.089996  347.899994  352.839996  41662900.0   \n",
       "       2020-06-11  351.059998  335.480011  349.309998  335.899994  50415600.0   \n",
       "       2020-06-12  347.799988  334.220001  344.720001  338.799988  50001500.0   \n",
       "       2020-06-15  345.679993  332.579987  333.250000  342.989990  34702200.0   \n",
       "       2020-06-16  353.200012  344.720001  351.459991  352.079987  41357200.0   \n",
       "...                       ...         ...         ...         ...         ...   \n",
       "XOM    2020-06-24   45.959999   44.250000   45.910000   44.500000  27626900.0   \n",
       "       2020-06-25   45.240002   43.689999   44.049999   45.169998  19353600.0   \n",
       "       2020-06-26   44.939999   43.500000   44.880001   43.619999  31518600.0   \n",
       "       2020-06-29   44.580002   43.540001   43.810001   44.320000  17036500.0   \n",
       "       2020-06-30   44.000000   43.169998   43.430000   43.970001  11303364.0   \n",
       "\n",
       "                    Adj Close  \n",
       "Symbol Date                    \n",
       "AAPL   2020-06-10  352.839996  \n",
       "       2020-06-11  335.899994  \n",
       "       2020-06-12  338.799988  \n",
       "       2020-06-15  342.989990  \n",
       "       2020-06-16  352.079987  \n",
       "...                       ...  \n",
       "XOM    2020-06-24   44.500000  \n",
       "       2020-06-25   45.169998  \n",
       "       2020-06-26   43.619999  \n",
       "       2020-06-29   44.320000  \n",
       "       2020-06-30   43.970001  \n",
       "\n",
       "[1515 rows x 6 columns]"
      ]
     },
     "execution_count": 17,
     "metadata": {},
     "output_type": "execute_result"
    }
   ],
   "source": [
    "df = df.groupby(['Symbol', 'Date']).sum()\n",
    "\n",
    "df"
   ]
  },
  {
   "cell_type": "code",
   "execution_count": 18,
   "metadata": {
    "scrolled": false
   },
   "outputs": [
    {
     "data": {
      "text/html": [
       "<div>\n",
       "<style scoped>\n",
       "    .dataframe tbody tr th:only-of-type {\n",
       "        vertical-align: middle;\n",
       "    }\n",
       "\n",
       "    .dataframe tbody tr th {\n",
       "        vertical-align: top;\n",
       "    }\n",
       "\n",
       "    .dataframe thead th {\n",
       "        text-align: right;\n",
       "    }\n",
       "</style>\n",
       "<table border=\"1\" class=\"dataframe\">\n",
       "  <thead>\n",
       "    <tr style=\"text-align: right;\">\n",
       "      <th></th>\n",
       "      <th>Symbol</th>\n",
       "      <th>Date</th>\n",
       "      <th>High</th>\n",
       "      <th>Low</th>\n",
       "      <th>Open</th>\n",
       "      <th>Close</th>\n",
       "      <th>Volume</th>\n",
       "      <th>Adj Close</th>\n",
       "    </tr>\n",
       "  </thead>\n",
       "  <tbody>\n",
       "    <tr>\n",
       "      <th>0</th>\n",
       "      <td>AAPL</td>\n",
       "      <td>2020-06-10</td>\n",
       "      <td>NaN</td>\n",
       "      <td>NaN</td>\n",
       "      <td>NaN</td>\n",
       "      <td>NaN</td>\n",
       "      <td>NaN</td>\n",
       "      <td>NaN</td>\n",
       "    </tr>\n",
       "    <tr>\n",
       "      <th>1</th>\n",
       "      <td>AAPL</td>\n",
       "      <td>2020-06-11</td>\n",
       "      <td>-0.010457</td>\n",
       "      <td>-0.030657</td>\n",
       "      <td>0.004053</td>\n",
       "      <td>-0.048010</td>\n",
       "      <td>0.210084</td>\n",
       "      <td>-0.048010</td>\n",
       "    </tr>\n",
       "    <tr>\n",
       "      <th>2</th>\n",
       "      <td>AAPL</td>\n",
       "      <td>2020-06-12</td>\n",
       "      <td>-0.009286</td>\n",
       "      <td>-0.003756</td>\n",
       "      <td>-0.013140</td>\n",
       "      <td>0.008634</td>\n",
       "      <td>-0.008214</td>\n",
       "      <td>0.008634</td>\n",
       "    </tr>\n",
       "    <tr>\n",
       "      <th>3</th>\n",
       "      <td>AAPL</td>\n",
       "      <td>2020-06-15</td>\n",
       "      <td>-0.006095</td>\n",
       "      <td>-0.004907</td>\n",
       "      <td>-0.033273</td>\n",
       "      <td>0.012367</td>\n",
       "      <td>-0.305977</td>\n",
       "      <td>0.012367</td>\n",
       "    </tr>\n",
       "    <tr>\n",
       "      <th>4</th>\n",
       "      <td>AAPL</td>\n",
       "      <td>2020-06-16</td>\n",
       "      <td>0.021754</td>\n",
       "      <td>0.036503</td>\n",
       "      <td>0.054644</td>\n",
       "      <td>0.026502</td>\n",
       "      <td>0.191775</td>\n",
       "      <td>0.026502</td>\n",
       "    </tr>\n",
       "    <tr>\n",
       "      <th>...</th>\n",
       "      <td>...</td>\n",
       "      <td>...</td>\n",
       "      <td>...</td>\n",
       "      <td>...</td>\n",
       "      <td>...</td>\n",
       "      <td>...</td>\n",
       "      <td>...</td>\n",
       "      <td>...</td>\n",
       "    </tr>\n",
       "    <tr>\n",
       "      <th>1510</th>\n",
       "      <td>XOM</td>\n",
       "      <td>2020-06-24</td>\n",
       "      <td>-0.026684</td>\n",
       "      <td>-0.048387</td>\n",
       "      <td>-0.021109</td>\n",
       "      <td>-0.047109</td>\n",
       "      <td>0.460458</td>\n",
       "      <td>-0.047109</td>\n",
       "    </tr>\n",
       "    <tr>\n",
       "      <th>1511</th>\n",
       "      <td>XOM</td>\n",
       "      <td>2020-06-25</td>\n",
       "      <td>-0.015666</td>\n",
       "      <td>-0.012655</td>\n",
       "      <td>-0.040514</td>\n",
       "      <td>0.015056</td>\n",
       "      <td>-0.299465</td>\n",
       "      <td>0.015056</td>\n",
       "    </tr>\n",
       "    <tr>\n",
       "      <th>1512</th>\n",
       "      <td>XOM</td>\n",
       "      <td>2020-06-26</td>\n",
       "      <td>-0.006631</td>\n",
       "      <td>-0.004349</td>\n",
       "      <td>0.018842</td>\n",
       "      <td>-0.034315</td>\n",
       "      <td>0.628565</td>\n",
       "      <td>-0.034315</td>\n",
       "    </tr>\n",
       "    <tr>\n",
       "      <th>1513</th>\n",
       "      <td>XOM</td>\n",
       "      <td>2020-06-29</td>\n",
       "      <td>-0.008011</td>\n",
       "      <td>0.000920</td>\n",
       "      <td>-0.023841</td>\n",
       "      <td>0.016048</td>\n",
       "      <td>-0.459478</td>\n",
       "      <td>0.016048</td>\n",
       "    </tr>\n",
       "    <tr>\n",
       "      <th>1514</th>\n",
       "      <td>XOM</td>\n",
       "      <td>2020-06-30</td>\n",
       "      <td>-0.013010</td>\n",
       "      <td>-0.008498</td>\n",
       "      <td>-0.008674</td>\n",
       "      <td>-0.007897</td>\n",
       "      <td>-0.336521</td>\n",
       "      <td>-0.007897</td>\n",
       "    </tr>\n",
       "  </tbody>\n",
       "</table>\n",
       "<p>1515 rows × 8 columns</p>\n",
       "</div>"
      ],
      "text/plain": [
       "     Symbol       Date      High       Low      Open     Close    Volume  \\\n",
       "0      AAPL 2020-06-10       NaN       NaN       NaN       NaN       NaN   \n",
       "1      AAPL 2020-06-11 -0.010457 -0.030657  0.004053 -0.048010  0.210084   \n",
       "2      AAPL 2020-06-12 -0.009286 -0.003756 -0.013140  0.008634 -0.008214   \n",
       "3      AAPL 2020-06-15 -0.006095 -0.004907 -0.033273  0.012367 -0.305977   \n",
       "4      AAPL 2020-06-16  0.021754  0.036503  0.054644  0.026502  0.191775   \n",
       "...     ...        ...       ...       ...       ...       ...       ...   \n",
       "1510    XOM 2020-06-24 -0.026684 -0.048387 -0.021109 -0.047109  0.460458   \n",
       "1511    XOM 2020-06-25 -0.015666 -0.012655 -0.040514  0.015056 -0.299465   \n",
       "1512    XOM 2020-06-26 -0.006631 -0.004349  0.018842 -0.034315  0.628565   \n",
       "1513    XOM 2020-06-29 -0.008011  0.000920 -0.023841  0.016048 -0.459478   \n",
       "1514    XOM 2020-06-30 -0.013010 -0.008498 -0.008674 -0.007897 -0.336521   \n",
       "\n",
       "      Adj Close  \n",
       "0           NaN  \n",
       "1     -0.048010  \n",
       "2      0.008634  \n",
       "3      0.012367  \n",
       "4      0.026502  \n",
       "...         ...  \n",
       "1510  -0.047109  \n",
       "1511   0.015056  \n",
       "1512  -0.034315  \n",
       "1513   0.016048  \n",
       "1514  -0.007897  \n",
       "\n",
       "[1515 rows x 8 columns]"
      ]
     },
     "execution_count": 18,
     "metadata": {},
     "output_type": "execute_result"
    }
   ],
   "source": [
    "df_Flat_pct_change = pd.DataFrame()\n",
    "\n",
    "for i in df_Flat.columns.tolist():\n",
    "    if i !=\"Symbol\" and i!=\"Date\" :\n",
    "        data = df_Flat.groupby('Symbol')[i].pct_change()\n",
    "        df_Flat_pct_change[i] = data\n",
    "\n",
    "df_Flat_pct_change['Symbol'] = df_Flat['Symbol']\n",
    "df_Flat_pct_change['Date'] = df_Flat['Date']\n",
    "\n",
    "df_Flat_pct_change\n",
    "cols = df_Flat.columns.tolist()\n",
    "df_Flat_pct_change = df_Flat_pct_change[cols]\n",
    "\n",
    "df_Flat_pct_change"
   ]
  },
  {
   "cell_type": "code",
   "execution_count": 19,
   "metadata": {
    "scrolled": true
   },
   "outputs": [
    {
     "data": {
      "text/html": [
       "<div>\n",
       "<style scoped>\n",
       "    .dataframe tbody tr th:only-of-type {\n",
       "        vertical-align: middle;\n",
       "    }\n",
       "\n",
       "    .dataframe tbody tr th {\n",
       "        vertical-align: top;\n",
       "    }\n",
       "\n",
       "    .dataframe thead tr th {\n",
       "        text-align: left;\n",
       "    }\n",
       "\n",
       "    .dataframe thead tr:last-of-type th {\n",
       "        text-align: right;\n",
       "    }\n",
       "</style>\n",
       "<table border=\"1\" class=\"dataframe\">\n",
       "  <thead>\n",
       "    <tr>\n",
       "      <th></th>\n",
       "      <th colspan=\"10\" halign=\"left\">High</th>\n",
       "      <th>...</th>\n",
       "      <th colspan=\"10\" halign=\"left\">Adj Close</th>\n",
       "    </tr>\n",
       "    <tr>\n",
       "      <th>Symbol</th>\n",
       "      <th>AAPL</th>\n",
       "      <th>ABBV</th>\n",
       "      <th>ABT</th>\n",
       "      <th>ACN</th>\n",
       "      <th>ADBE</th>\n",
       "      <th>AIG</th>\n",
       "      <th>ALL</th>\n",
       "      <th>AMGN</th>\n",
       "      <th>AMT</th>\n",
       "      <th>AMZN</th>\n",
       "      <th>...</th>\n",
       "      <th>UNH</th>\n",
       "      <th>UNP</th>\n",
       "      <th>UPS</th>\n",
       "      <th>USB</th>\n",
       "      <th>V</th>\n",
       "      <th>VZ</th>\n",
       "      <th>WBA</th>\n",
       "      <th>WFC</th>\n",
       "      <th>WMT</th>\n",
       "      <th>XOM</th>\n",
       "    </tr>\n",
       "    <tr>\n",
       "      <th>Date</th>\n",
       "      <th></th>\n",
       "      <th></th>\n",
       "      <th></th>\n",
       "      <th></th>\n",
       "      <th></th>\n",
       "      <th></th>\n",
       "      <th></th>\n",
       "      <th></th>\n",
       "      <th></th>\n",
       "      <th></th>\n",
       "      <th></th>\n",
       "      <th></th>\n",
       "      <th></th>\n",
       "      <th></th>\n",
       "      <th></th>\n",
       "      <th></th>\n",
       "      <th></th>\n",
       "      <th></th>\n",
       "      <th></th>\n",
       "      <th></th>\n",
       "      <th></th>\n",
       "    </tr>\n",
       "  </thead>\n",
       "  <tbody>\n",
       "    <tr>\n",
       "      <th>2020-06-10</th>\n",
       "      <td>NaN</td>\n",
       "      <td>NaN</td>\n",
       "      <td>NaN</td>\n",
       "      <td>NaN</td>\n",
       "      <td>NaN</td>\n",
       "      <td>NaN</td>\n",
       "      <td>NaN</td>\n",
       "      <td>NaN</td>\n",
       "      <td>NaN</td>\n",
       "      <td>NaN</td>\n",
       "      <td>...</td>\n",
       "      <td>NaN</td>\n",
       "      <td>NaN</td>\n",
       "      <td>NaN</td>\n",
       "      <td>NaN</td>\n",
       "      <td>NaN</td>\n",
       "      <td>NaN</td>\n",
       "      <td>NaN</td>\n",
       "      <td>NaN</td>\n",
       "      <td>NaN</td>\n",
       "      <td>NaN</td>\n",
       "    </tr>\n",
       "    <tr>\n",
       "      <th>2020-06-11</th>\n",
       "      <td>-0.010457</td>\n",
       "      <td>-0.024761</td>\n",
       "      <td>-0.002695</td>\n",
       "      <td>-0.023147</td>\n",
       "      <td>-0.014098</td>\n",
       "      <td>-0.091957</td>\n",
       "      <td>-0.036250</td>\n",
       "      <td>0.001264</td>\n",
       "      <td>-0.020221</td>\n",
       "      <td>-0.018723</td>\n",
       "      <td>...</td>\n",
       "      <td>-0.072020</td>\n",
       "      <td>-0.069201</td>\n",
       "      <td>-0.057770</td>\n",
       "      <td>-0.080875</td>\n",
       "      <td>-0.057861</td>\n",
       "      <td>-0.027562</td>\n",
       "      <td>-0.079720</td>\n",
       "      <td>-0.098283</td>\n",
       "      <td>-0.008831</td>\n",
       "      <td>-0.088253</td>\n",
       "    </tr>\n",
       "    <tr>\n",
       "      <th>2020-06-12</th>\n",
       "      <td>-0.009286</td>\n",
       "      <td>-0.022190</td>\n",
       "      <td>-0.024973</td>\n",
       "      <td>-0.017092</td>\n",
       "      <td>0.018605</td>\n",
       "      <td>-0.008562</td>\n",
       "      <td>-0.027237</td>\n",
       "      <td>-0.032335</td>\n",
       "      <td>-0.017413</td>\n",
       "      <td>-0.018679</td>\n",
       "      <td>...</td>\n",
       "      <td>0.005005</td>\n",
       "      <td>0.017699</td>\n",
       "      <td>0.010053</td>\n",
       "      <td>0.037908</td>\n",
       "      <td>0.017895</td>\n",
       "      <td>0.001417</td>\n",
       "      <td>0.015951</td>\n",
       "      <td>0.044046</td>\n",
       "      <td>-0.019569</td>\n",
       "      <td>0.021438</td>\n",
       "    </tr>\n",
       "    <tr>\n",
       "      <th>2020-06-15</th>\n",
       "      <td>-0.006095</td>\n",
       "      <td>-0.007494</td>\n",
       "      <td>0.001774</td>\n",
       "      <td>-0.008349</td>\n",
       "      <td>-0.013626</td>\n",
       "      <td>-0.000298</td>\n",
       "      <td>0.009333</td>\n",
       "      <td>-0.006072</td>\n",
       "      <td>0.015753</td>\n",
       "      <td>-0.014297</td>\n",
       "      <td>...</td>\n",
       "      <td>0.003963</td>\n",
       "      <td>0.010531</td>\n",
       "      <td>0.040993</td>\n",
       "      <td>0.033858</td>\n",
       "      <td>-0.002601</td>\n",
       "      <td>-0.006722</td>\n",
       "      <td>0.002174</td>\n",
       "      <td>0.008581</td>\n",
       "      <td>0.002888</td>\n",
       "      <td>-0.000636</td>\n",
       "    </tr>\n",
       "    <tr>\n",
       "      <th>2020-06-16</th>\n",
       "      <td>0.021754</td>\n",
       "      <td>0.023078</td>\n",
       "      <td>0.015606</td>\n",
       "      <td>0.030587</td>\n",
       "      <td>0.021103</td>\n",
       "      <td>0.057492</td>\n",
       "      <td>0.027131</td>\n",
       "      <td>0.035656</td>\n",
       "      <td>0.021742</td>\n",
       "      <td>0.013932</td>\n",
       "      <td>...</td>\n",
       "      <td>0.023474</td>\n",
       "      <td>0.018103</td>\n",
       "      <td>0.001799</td>\n",
       "      <td>0.014440</td>\n",
       "      <td>0.005841</td>\n",
       "      <td>0.013713</td>\n",
       "      <td>0.015907</td>\n",
       "      <td>0.010989</td>\n",
       "      <td>0.013296</td>\n",
       "      <td>0.022486</td>\n",
       "    </tr>\n",
       "    <tr>\n",
       "      <th>2020-06-17</th>\n",
       "      <td>0.006229</td>\n",
       "      <td>0.009356</td>\n",
       "      <td>-0.000981</td>\n",
       "      <td>-0.002659</td>\n",
       "      <td>0.006704</td>\n",
       "      <td>-0.061127</td>\n",
       "      <td>-0.014147</td>\n",
       "      <td>-0.000306</td>\n",
       "      <td>-0.001488</td>\n",
       "      <td>0.013359</td>\n",
       "      <td>...</td>\n",
       "      <td>-0.001365</td>\n",
       "      <td>0.001170</td>\n",
       "      <td>0.010961</td>\n",
       "      <td>-0.021098</td>\n",
       "      <td>0.003525</td>\n",
       "      <td>-0.004743</td>\n",
       "      <td>0.000000</td>\n",
       "      <td>-0.037518</td>\n",
       "      <td>-0.005182</td>\n",
       "      <td>-0.032573</td>\n",
       "    </tr>\n",
       "    <tr>\n",
       "      <th>2020-06-18</th>\n",
       "      <td>-0.005487</td>\n",
       "      <td>-0.006694</td>\n",
       "      <td>-0.003600</td>\n",
       "      <td>-0.015315</td>\n",
       "      <td>0.008097</td>\n",
       "      <td>-0.009901</td>\n",
       "      <td>-0.006322</td>\n",
       "      <td>0.011669</td>\n",
       "      <td>-0.023733</td>\n",
       "      <td>0.001748</td>\n",
       "      <td>...</td>\n",
       "      <td>-0.003828</td>\n",
       "      <td>-0.001869</td>\n",
       "      <td>0.005515</td>\n",
       "      <td>0.001558</td>\n",
       "      <td>0.001808</td>\n",
       "      <td>0.004237</td>\n",
       "      <td>-0.004033</td>\n",
       "      <td>0.003643</td>\n",
       "      <td>-0.008737</td>\n",
       "      <td>0.006219</td>\n",
       "    </tr>\n",
       "    <tr>\n",
       "      <th>2020-06-19</th>\n",
       "      <td>0.008799</td>\n",
       "      <td>0.018144</td>\n",
       "      <td>0.011605</td>\n",
       "      <td>0.025201</td>\n",
       "      <td>0.020031</td>\n",
       "      <td>0.010909</td>\n",
       "      <td>0.019996</td>\n",
       "      <td>0.032789</td>\n",
       "      <td>0.014655</td>\n",
       "      <td>0.014209</td>\n",
       "      <td>...</td>\n",
       "      <td>0.003480</td>\n",
       "      <td>-0.017559</td>\n",
       "      <td>0.001766</td>\n",
       "      <td>0.007778</td>\n",
       "      <td>-0.008819</td>\n",
       "      <td>-0.012832</td>\n",
       "      <td>0.051215</td>\n",
       "      <td>0.001815</td>\n",
       "      <td>0.015764</td>\n",
       "      <td>-0.020034</td>\n",
       "    </tr>\n",
       "    <tr>\n",
       "      <th>2020-06-22</th>\n",
       "      <td>0.008133</td>\n",
       "      <td>-0.009165</td>\n",
       "      <td>-0.018939</td>\n",
       "      <td>-0.020212</td>\n",
       "      <td>0.022550</td>\n",
       "      <td>-0.039269</td>\n",
       "      <td>-0.023960</td>\n",
       "      <td>-0.005940</td>\n",
       "      <td>0.003648</td>\n",
       "      <td>0.006514</td>\n",
       "      <td>...</td>\n",
       "      <td>0.004910</td>\n",
       "      <td>0.002085</td>\n",
       "      <td>-0.008073</td>\n",
       "      <td>-0.016722</td>\n",
       "      <td>0.014360</td>\n",
       "      <td>-0.008903</td>\n",
       "      <td>-0.020168</td>\n",
       "      <td>-0.009058</td>\n",
       "      <td>0.015269</td>\n",
       "      <td>0.009569</td>\n",
       "    </tr>\n",
       "    <tr>\n",
       "      <th>2020-06-23</th>\n",
       "      <td>0.035943</td>\n",
       "      <td>0.018499</td>\n",
       "      <td>0.018202</td>\n",
       "      <td>0.027440</td>\n",
       "      <td>0.016403</td>\n",
       "      <td>0.021217</td>\n",
       "      <td>0.007101</td>\n",
       "      <td>0.006396</td>\n",
       "      <td>-0.000075</td>\n",
       "      <td>0.025087</td>\n",
       "      <td>...</td>\n",
       "      <td>0.016845</td>\n",
       "      <td>0.006897</td>\n",
       "      <td>0.034705</td>\n",
       "      <td>0.009942</td>\n",
       "      <td>0.015439</td>\n",
       "      <td>-0.012936</td>\n",
       "      <td>-0.009945</td>\n",
       "      <td>-0.004388</td>\n",
       "      <td>-0.005013</td>\n",
       "      <td>0.006032</td>\n",
       "    </tr>\n",
       "    <tr>\n",
       "      <th>2020-06-24</th>\n",
       "      <td>-0.009641</td>\n",
       "      <td>-0.019576</td>\n",
       "      <td>-0.017010</td>\n",
       "      <td>-0.010874</td>\n",
       "      <td>-0.007800</td>\n",
       "      <td>-0.033303</td>\n",
       "      <td>-0.034045</td>\n",
       "      <td>-0.009073</td>\n",
       "      <td>-0.013642</td>\n",
       "      <td>0.004631</td>\n",
       "      <td>...</td>\n",
       "      <td>-0.028293</td>\n",
       "      <td>-0.022496</td>\n",
       "      <td>-0.010035</td>\n",
       "      <td>-0.044819</td>\n",
       "      <td>-0.033136</td>\n",
       "      <td>-0.018384</td>\n",
       "      <td>-0.038309</td>\n",
       "      <td>-0.040764</td>\n",
       "      <td>-0.006360</td>\n",
       "      <td>-0.047109</td>\n",
       "    </tr>\n",
       "    <tr>\n",
       "      <th>2020-06-25</th>\n",
       "      <td>-0.010277</td>\n",
       "      <td>-0.000926</td>\n",
       "      <td>-0.010140</td>\n",
       "      <td>0.050579</td>\n",
       "      <td>-0.010572</td>\n",
       "      <td>-0.009482</td>\n",
       "      <td>-0.000209</td>\n",
       "      <td>-0.006582</td>\n",
       "      <td>-0.027510</td>\n",
       "      <td>-0.014224</td>\n",
       "      <td>...</td>\n",
       "      <td>0.024345</td>\n",
       "      <td>0.008879</td>\n",
       "      <td>0.009315</td>\n",
       "      <td>0.032004</td>\n",
       "      <td>0.013427</td>\n",
       "      <td>0.006490</td>\n",
       "      <td>0.021132</td>\n",
       "      <td>0.047856</td>\n",
       "      <td>-0.004904</td>\n",
       "      <td>0.015056</td>\n",
       "    </tr>\n",
       "    <tr>\n",
       "      <th>2020-06-26</th>\n",
       "      <td>0.000877</td>\n",
       "      <td>-0.000412</td>\n",
       "      <td>0.001559</td>\n",
       "      <td>-0.004406</td>\n",
       "      <td>0.000434</td>\n",
       "      <td>-0.014678</td>\n",
       "      <td>-0.001877</td>\n",
       "      <td>0.006031</td>\n",
       "      <td>0.008400</td>\n",
       "      <td>0.009557</td>\n",
       "      <td>...</td>\n",
       "      <td>-0.031531</td>\n",
       "      <td>-0.026224</td>\n",
       "      <td>-0.028954</td>\n",
       "      <td>-0.052300</td>\n",
       "      <td>-0.024281</td>\n",
       "      <td>-0.020634</td>\n",
       "      <td>-0.020695</td>\n",
       "      <td>-0.074169</td>\n",
       "      <td>-0.011611</td>\n",
       "      <td>-0.034315</td>\n",
       "    </tr>\n",
       "    <tr>\n",
       "      <th>2020-06-29</th>\n",
       "      <td>-0.008623</td>\n",
       "      <td>0.003092</td>\n",
       "      <td>-0.002779</td>\n",
       "      <td>-0.016319</td>\n",
       "      <td>-0.022137</td>\n",
       "      <td>0.000324</td>\n",
       "      <td>0.001881</td>\n",
       "      <td>-0.011484</td>\n",
       "      <td>-0.014065</td>\n",
       "      <td>-0.030824</td>\n",
       "      <td>...</td>\n",
       "      <td>0.010039</td>\n",
       "      <td>0.017646</td>\n",
       "      <td>0.020127</td>\n",
       "      <td>0.019921</td>\n",
       "      <td>0.011148</td>\n",
       "      <td>0.028781</td>\n",
       "      <td>0.027933</td>\n",
       "      <td>0.014207</td>\n",
       "      <td>0.006254</td>\n",
       "      <td>0.016048</td>\n",
       "    </tr>\n",
       "    <tr>\n",
       "      <th>2020-06-30</th>\n",
       "      <td>0.010244</td>\n",
       "      <td>0.004726</td>\n",
       "      <td>0.008640</td>\n",
       "      <td>0.008388</td>\n",
       "      <td>0.009265</td>\n",
       "      <td>0.011331</td>\n",
       "      <td>0.010534</td>\n",
       "      <td>-0.001922</td>\n",
       "      <td>0.014265</td>\n",
       "      <td>0.017131</td>\n",
       "      <td>...</td>\n",
       "      <td>0.002968</td>\n",
       "      <td>0.011178</td>\n",
       "      <td>0.005024</td>\n",
       "      <td>0.006603</td>\n",
       "      <td>-0.000470</td>\n",
       "      <td>-0.001920</td>\n",
       "      <td>-0.010397</td>\n",
       "      <td>-0.005253</td>\n",
       "      <td>-0.001082</td>\n",
       "      <td>-0.007897</td>\n",
       "    </tr>\n",
       "  </tbody>\n",
       "</table>\n",
       "<p>15 rows × 606 columns</p>\n",
       "</div>"
      ],
      "text/plain": [
       "                High                                                    \\\n",
       "Symbol          AAPL      ABBV       ABT       ACN      ADBE       AIG   \n",
       "Date                                                                     \n",
       "2020-06-10       NaN       NaN       NaN       NaN       NaN       NaN   \n",
       "2020-06-11 -0.010457 -0.024761 -0.002695 -0.023147 -0.014098 -0.091957   \n",
       "2020-06-12 -0.009286 -0.022190 -0.024973 -0.017092  0.018605 -0.008562   \n",
       "2020-06-15 -0.006095 -0.007494  0.001774 -0.008349 -0.013626 -0.000298   \n",
       "2020-06-16  0.021754  0.023078  0.015606  0.030587  0.021103  0.057492   \n",
       "2020-06-17  0.006229  0.009356 -0.000981 -0.002659  0.006704 -0.061127   \n",
       "2020-06-18 -0.005487 -0.006694 -0.003600 -0.015315  0.008097 -0.009901   \n",
       "2020-06-19  0.008799  0.018144  0.011605  0.025201  0.020031  0.010909   \n",
       "2020-06-22  0.008133 -0.009165 -0.018939 -0.020212  0.022550 -0.039269   \n",
       "2020-06-23  0.035943  0.018499  0.018202  0.027440  0.016403  0.021217   \n",
       "2020-06-24 -0.009641 -0.019576 -0.017010 -0.010874 -0.007800 -0.033303   \n",
       "2020-06-25 -0.010277 -0.000926 -0.010140  0.050579 -0.010572 -0.009482   \n",
       "2020-06-26  0.000877 -0.000412  0.001559 -0.004406  0.000434 -0.014678   \n",
       "2020-06-29 -0.008623  0.003092 -0.002779 -0.016319 -0.022137  0.000324   \n",
       "2020-06-30  0.010244  0.004726  0.008640  0.008388  0.009265  0.011331   \n",
       "\n",
       "                                                    ... Adj Close            \\\n",
       "Symbol           ALL      AMGN       AMT      AMZN  ...       UNH       UNP   \n",
       "Date                                                ...                       \n",
       "2020-06-10       NaN       NaN       NaN       NaN  ...       NaN       NaN   \n",
       "2020-06-11 -0.036250  0.001264 -0.020221 -0.018723  ... -0.072020 -0.069201   \n",
       "2020-06-12 -0.027237 -0.032335 -0.017413 -0.018679  ...  0.005005  0.017699   \n",
       "2020-06-15  0.009333 -0.006072  0.015753 -0.014297  ...  0.003963  0.010531   \n",
       "2020-06-16  0.027131  0.035656  0.021742  0.013932  ...  0.023474  0.018103   \n",
       "2020-06-17 -0.014147 -0.000306 -0.001488  0.013359  ... -0.001365  0.001170   \n",
       "2020-06-18 -0.006322  0.011669 -0.023733  0.001748  ... -0.003828 -0.001869   \n",
       "2020-06-19  0.019996  0.032789  0.014655  0.014209  ...  0.003480 -0.017559   \n",
       "2020-06-22 -0.023960 -0.005940  0.003648  0.006514  ...  0.004910  0.002085   \n",
       "2020-06-23  0.007101  0.006396 -0.000075  0.025087  ...  0.016845  0.006897   \n",
       "2020-06-24 -0.034045 -0.009073 -0.013642  0.004631  ... -0.028293 -0.022496   \n",
       "2020-06-25 -0.000209 -0.006582 -0.027510 -0.014224  ...  0.024345  0.008879   \n",
       "2020-06-26 -0.001877  0.006031  0.008400  0.009557  ... -0.031531 -0.026224   \n",
       "2020-06-29  0.001881 -0.011484 -0.014065 -0.030824  ...  0.010039  0.017646   \n",
       "2020-06-30  0.010534 -0.001922  0.014265  0.017131  ...  0.002968  0.011178   \n",
       "\n",
       "                                                                        \\\n",
       "Symbol           UPS       USB         V        VZ       WBA       WFC   \n",
       "Date                                                                     \n",
       "2020-06-10       NaN       NaN       NaN       NaN       NaN       NaN   \n",
       "2020-06-11 -0.057770 -0.080875 -0.057861 -0.027562 -0.079720 -0.098283   \n",
       "2020-06-12  0.010053  0.037908  0.017895  0.001417  0.015951  0.044046   \n",
       "2020-06-15  0.040993  0.033858 -0.002601 -0.006722  0.002174  0.008581   \n",
       "2020-06-16  0.001799  0.014440  0.005841  0.013713  0.015907  0.010989   \n",
       "2020-06-17  0.010961 -0.021098  0.003525 -0.004743  0.000000 -0.037518   \n",
       "2020-06-18  0.005515  0.001558  0.001808  0.004237 -0.004033  0.003643   \n",
       "2020-06-19  0.001766  0.007778 -0.008819 -0.012832  0.051215  0.001815   \n",
       "2020-06-22 -0.008073 -0.016722  0.014360 -0.008903 -0.020168 -0.009058   \n",
       "2020-06-23  0.034705  0.009942  0.015439 -0.012936 -0.009945 -0.004388   \n",
       "2020-06-24 -0.010035 -0.044819 -0.033136 -0.018384 -0.038309 -0.040764   \n",
       "2020-06-25  0.009315  0.032004  0.013427  0.006490  0.021132  0.047856   \n",
       "2020-06-26 -0.028954 -0.052300 -0.024281 -0.020634 -0.020695 -0.074169   \n",
       "2020-06-29  0.020127  0.019921  0.011148  0.028781  0.027933  0.014207   \n",
       "2020-06-30  0.005024  0.006603 -0.000470 -0.001920 -0.010397 -0.005253   \n",
       "\n",
       "                                \n",
       "Symbol           WMT       XOM  \n",
       "Date                            \n",
       "2020-06-10       NaN       NaN  \n",
       "2020-06-11 -0.008831 -0.088253  \n",
       "2020-06-12 -0.019569  0.021438  \n",
       "2020-06-15  0.002888 -0.000636  \n",
       "2020-06-16  0.013296  0.022486  \n",
       "2020-06-17 -0.005182 -0.032573  \n",
       "2020-06-18 -0.008737  0.006219  \n",
       "2020-06-19  0.015764 -0.020034  \n",
       "2020-06-22  0.015269  0.009569  \n",
       "2020-06-23 -0.005013  0.006032  \n",
       "2020-06-24 -0.006360 -0.047109  \n",
       "2020-06-25 -0.004904  0.015056  \n",
       "2020-06-26 -0.011611 -0.034315  \n",
       "2020-06-29  0.006254  0.016048  \n",
       "2020-06-30 -0.001082 -0.007897  \n",
       "\n",
       "[15 rows x 606 columns]"
      ]
     },
     "execution_count": 19,
     "metadata": {},
     "output_type": "execute_result"
    }
   ],
   "source": [
    "df_temp = df.unstack(level=0).pct_change()  #df.groupby(['Symbol', 'Date']).sum().pct_change()\n",
    "\n",
    "df_temp"
   ]
  },
  {
   "cell_type": "markdown",
   "metadata": {},
   "source": [
    "## Functions defined"
   ]
  },
  {
   "cell_type": "code",
   "execution_count": 20,
   "metadata": {},
   "outputs": [],
   "source": [
    "def format_column_number(dataframe, listCols):\n",
    "    for col in listCols:\n",
    "        try:\n",
    "            dataframe[col]= pd.Series([round(val, 2 ) for val in dataframe[col]], index= dataframe.index)\n",
    "        except ValueError:  #skips error when the column is in format already\n",
    "            dataframe[col] = dataframe[col]\n",
    "            pass\n",
    "    return dataframe\n",
    "\n",
    "def format_column_percentage(dataframe, listCols):\n",
    "    for col in listCols:\n",
    "        try:\n",
    "            dataframe[col] = pd.Series([\"{0:.2f}%\".format(val*100) for val in dataframe[col]], index= dataframe.index)\n",
    "        except ValueError:  #skips error when the column is in format already\n",
    "            dataframe[col] = dataframe[col]\n",
    "        \n",
    "    return dataframe"
   ]
  },
  {
   "cell_type": "code",
   "execution_count": 21,
   "metadata": {},
   "outputs": [],
   "source": [
    "def CreatePctPlotAndSavefig(listTickers, stringTitle, stringYlabel, jpg_name):\n",
    "    sns.relplot(x='Date', y='Close', kind='line', hue ='Symbol',data=df_Flat_pct_change.groupby(['Symbol', 'Date']).sum().loc[listTickers].reset_index()).fig.autofmt_xdate()\n",
    "    plt.grid(which=\"major\", color='k', linestyle='-.', linewidth=0.5)\n",
    "    plt.title(stringTitle, fontsize=16)\n",
    "    plt.ylabel(stringYlabel, fontsize=14)\n",
    "    plt.xlabel('Date', fontsize=14)\n",
    "    #plt.tight_layout()\n",
    "\n",
    "    jpg_name = jpg_name + '.jpg'\n",
    "    plt.savefig(jpg_name, bbox_inches='tight')\n",
    "\n",
    "def CreatePlotAndSavefig(listTickers, stringTitle, stringYlabel, jpg_name):\n",
    "    sns.relplot(x='Date', y='Close', kind='line', hue ='Symbol',data=df.loc[listTickers].reset_index()).fig.autofmt_xdate()\n",
    "    plt.grid(which=\"major\", color='k', linestyle='-.', linewidth=0.5)\n",
    "    plt.title(stringTitle, fontsize=16)\n",
    "    plt.ylabel(stringYlabel, fontsize=14)\n",
    "    plt.xlabel('Date', fontsize=14)\n",
    "\n",
    "    jpg_name = jpg_name + '.jpg'\n",
    "    plt.savefig(jpg_name, bbox_inches='tight')"
   ]
  },
  {
   "cell_type": "markdown",
   "metadata": {},
   "source": [
    "### Best performed tickers based on percentage of of growth"
   ]
  },
  {
   "cell_type": "code",
   "execution_count": null,
   "metadata": {
    "scrolled": true
   },
   "outputs": [],
   "source": []
  },
  {
   "cell_type": "code",
   "execution_count": 22,
   "metadata": {},
   "outputs": [],
   "source": [
    "tickers_bestPerformed = df_temp['Close'].describe().transpose().sort_values(by='mean', ascending=False).head(5) #df_pct_change['Close'].describe().transpose().sort_values(by='mean', ascending=False).head(5)"
   ]
  },
  {
   "cell_type": "code",
   "execution_count": 23,
   "metadata": {},
   "outputs": [
    {
     "data": {
      "text/html": [
       "<div>\n",
       "<style scoped>\n",
       "    .dataframe tbody tr th:only-of-type {\n",
       "        vertical-align: middle;\n",
       "    }\n",
       "\n",
       "    .dataframe tbody tr th {\n",
       "        vertical-align: top;\n",
       "    }\n",
       "\n",
       "    .dataframe thead th {\n",
       "        text-align: right;\n",
       "    }\n",
       "</style>\n",
       "<table border=\"1\" class=\"dataframe\">\n",
       "  <thead>\n",
       "    <tr style=\"text-align: right;\">\n",
       "      <th></th>\n",
       "      <th>count</th>\n",
       "      <th>mean</th>\n",
       "      <th>std</th>\n",
       "      <th>min</th>\n",
       "      <th>25%</th>\n",
       "      <th>50%</th>\n",
       "      <th>75%</th>\n",
       "      <th>max</th>\n",
       "    </tr>\n",
       "    <tr>\n",
       "      <th>Symbol</th>\n",
       "      <th></th>\n",
       "      <th></th>\n",
       "      <th></th>\n",
       "      <th></th>\n",
       "      <th></th>\n",
       "      <th></th>\n",
       "      <th></th>\n",
       "      <th></th>\n",
       "    </tr>\n",
       "  </thead>\n",
       "  <tbody>\n",
       "    <tr>\n",
       "      <th>LLY</th>\n",
       "      <td>14.0</td>\n",
       "      <td>0.006428</td>\n",
       "      <td>0.046894</td>\n",
       "      <td>-0.045828</td>\n",
       "      <td>-0.012308</td>\n",
       "      <td>-0.002212</td>\n",
       "      <td>0.002837</td>\n",
       "      <td>0.156798</td>\n",
       "    </tr>\n",
       "    <tr>\n",
       "      <th>PYPL</th>\n",
       "      <td>14.0</td>\n",
       "      <td>0.005750</td>\n",
       "      <td>0.024343</td>\n",
       "      <td>-0.042962</td>\n",
       "      <td>-0.013423</td>\n",
       "      <td>0.014805</td>\n",
       "      <td>0.024802</td>\n",
       "      <td>0.035897</td>\n",
       "    </tr>\n",
       "    <tr>\n",
       "      <th>ADBE</th>\n",
       "      <td>14.0</td>\n",
       "      <td>0.004554</td>\n",
       "      <td>0.024542</td>\n",
       "      <td>-0.047072</td>\n",
       "      <td>-0.011186</td>\n",
       "      <td>0.008315</td>\n",
       "      <td>0.018015</td>\n",
       "      <td>0.048675</td>\n",
       "    </tr>\n",
       "    <tr>\n",
       "      <th>NFLX</th>\n",
       "      <td>14.0</td>\n",
       "      <td>0.003379</td>\n",
       "      <td>0.022534</td>\n",
       "      <td>-0.048314</td>\n",
       "      <td>-0.014151</td>\n",
       "      <td>0.008609</td>\n",
       "      <td>0.017730</td>\n",
       "      <td>0.031561</td>\n",
       "    </tr>\n",
       "    <tr>\n",
       "      <th>AMZN</th>\n",
       "      <td>14.0</td>\n",
       "      <td>0.002561</td>\n",
       "      <td>0.016146</td>\n",
       "      <td>-0.033802</td>\n",
       "      <td>-0.004954</td>\n",
       "      <td>0.007652</td>\n",
       "      <td>0.013598</td>\n",
       "      <td>0.021976</td>\n",
       "    </tr>\n",
       "  </tbody>\n",
       "</table>\n",
       "</div>"
      ],
      "text/plain": [
       "        count      mean       std       min       25%       50%       75%  \\\n",
       "Symbol                                                                      \n",
       "LLY      14.0  0.006428  0.046894 -0.045828 -0.012308 -0.002212  0.002837   \n",
       "PYPL     14.0  0.005750  0.024343 -0.042962 -0.013423  0.014805  0.024802   \n",
       "ADBE     14.0  0.004554  0.024542 -0.047072 -0.011186  0.008315  0.018015   \n",
       "NFLX     14.0  0.003379  0.022534 -0.048314 -0.014151  0.008609  0.017730   \n",
       "AMZN     14.0  0.002561  0.016146 -0.033802 -0.004954  0.007652  0.013598   \n",
       "\n",
       "             max  \n",
       "Symbol            \n",
       "LLY     0.156798  \n",
       "PYPL    0.035897  \n",
       "ADBE    0.048675  \n",
       "NFLX    0.031561  \n",
       "AMZN    0.021976  "
      ]
     },
     "execution_count": 23,
     "metadata": {},
     "output_type": "execute_result"
    }
   ],
   "source": [
    "tickers_bestPerformed"
   ]
  },
  {
   "cell_type": "code",
   "execution_count": 53,
   "metadata": {
    "scrolled": true
   },
   "outputs": [
    {
     "data": {
      "application/vnd.plotly.v1+json": {
       "config": {
        "plotlyServerURL": "https://plot.ly"
       },
       "data": [
        {
         "close": [
          352.8399963378906,
          335.8999938964844,
          338.79998779296875,
          342.989990234375,
          352.0799865722656,
          351.5899963378906,
          351.7300109863281,
          349.7200012207031,
          358.8699951171875,
          366.5299987792969,
          360.05999755859375,
          364.8399963378906,
          353.6300048828125,
          361.7799987792969,
          363.3080139160156
         ],
         "high": [
          354.7699890136719,
          351.05999755859375,
          347.79998779296875,
          345.67999267578125,
          353.20001220703125,
          355.3999938964844,
          353.45001220703125,
          356.55999755859375,
          359.4599914550781,
          372.3800048828125,
          368.7900085449219,
          365,
          365.32000732421875,
          362.1700134277344,
          365.8800048828125
         ],
         "low": [
          346.0899963378906,
          335.4800109863281,
          334.2200012207031,
          332.5799865722656,
          344.7200012207031,
          351.0899963378906,
          349.2200012207031,
          345.1499938964844,
          351.1499938964844,
          362.2699890136719,
          358.5199890136719,
          357.57000732421875,
          353.0199890136719,
          351.2799987792969,
          360
         ],
         "open": [
          347.8999938964844,
          349.30999755859375,
          344.7200012207031,
          333.25,
          351.4599914550781,
          355.1499938964844,
          351.4100036621094,
          354.6400146484375,
          351.3399963378906,
          364,
          365,
          360.70001220703125,
          364.4100036621094,
          353.25,
          360.0799865722656
         ],
         "type": "candlestick",
         "x": [
          "2020-06-10T00:00:00",
          "2020-06-11T00:00:00",
          "2020-06-12T00:00:00",
          "2020-06-15T00:00:00",
          "2020-06-16T00:00:00",
          "2020-06-17T00:00:00",
          "2020-06-18T00:00:00",
          "2020-06-19T00:00:00",
          "2020-06-22T00:00:00",
          "2020-06-23T00:00:00",
          "2020-06-24T00:00:00",
          "2020-06-25T00:00:00",
          "2020-06-26T00:00:00",
          "2020-06-29T00:00:00",
          "2020-06-30T00:00:00"
         ]
        }
       ],
       "layout": {
        "template": {
         "data": {
          "bar": [
           {
            "error_x": {
             "color": "#2a3f5f"
            },
            "error_y": {
             "color": "#2a3f5f"
            },
            "marker": {
             "line": {
              "color": "#E5ECF6",
              "width": 0.5
             }
            },
            "type": "bar"
           }
          ],
          "barpolar": [
           {
            "marker": {
             "line": {
              "color": "#E5ECF6",
              "width": 0.5
             }
            },
            "type": "barpolar"
           }
          ],
          "carpet": [
           {
            "aaxis": {
             "endlinecolor": "#2a3f5f",
             "gridcolor": "white",
             "linecolor": "white",
             "minorgridcolor": "white",
             "startlinecolor": "#2a3f5f"
            },
            "baxis": {
             "endlinecolor": "#2a3f5f",
             "gridcolor": "white",
             "linecolor": "white",
             "minorgridcolor": "white",
             "startlinecolor": "#2a3f5f"
            },
            "type": "carpet"
           }
          ],
          "choropleth": [
           {
            "colorbar": {
             "outlinewidth": 0,
             "ticks": ""
            },
            "type": "choropleth"
           }
          ],
          "contour": [
           {
            "colorbar": {
             "outlinewidth": 0,
             "ticks": ""
            },
            "colorscale": [
             [
              0,
              "#0d0887"
             ],
             [
              0.1111111111111111,
              "#46039f"
             ],
             [
              0.2222222222222222,
              "#7201a8"
             ],
             [
              0.3333333333333333,
              "#9c179e"
             ],
             [
              0.4444444444444444,
              "#bd3786"
             ],
             [
              0.5555555555555556,
              "#d8576b"
             ],
             [
              0.6666666666666666,
              "#ed7953"
             ],
             [
              0.7777777777777778,
              "#fb9f3a"
             ],
             [
              0.8888888888888888,
              "#fdca26"
             ],
             [
              1,
              "#f0f921"
             ]
            ],
            "type": "contour"
           }
          ],
          "contourcarpet": [
           {
            "colorbar": {
             "outlinewidth": 0,
             "ticks": ""
            },
            "type": "contourcarpet"
           }
          ],
          "heatmap": [
           {
            "colorbar": {
             "outlinewidth": 0,
             "ticks": ""
            },
            "colorscale": [
             [
              0,
              "#0d0887"
             ],
             [
              0.1111111111111111,
              "#46039f"
             ],
             [
              0.2222222222222222,
              "#7201a8"
             ],
             [
              0.3333333333333333,
              "#9c179e"
             ],
             [
              0.4444444444444444,
              "#bd3786"
             ],
             [
              0.5555555555555556,
              "#d8576b"
             ],
             [
              0.6666666666666666,
              "#ed7953"
             ],
             [
              0.7777777777777778,
              "#fb9f3a"
             ],
             [
              0.8888888888888888,
              "#fdca26"
             ],
             [
              1,
              "#f0f921"
             ]
            ],
            "type": "heatmap"
           }
          ],
          "heatmapgl": [
           {
            "colorbar": {
             "outlinewidth": 0,
             "ticks": ""
            },
            "colorscale": [
             [
              0,
              "#0d0887"
             ],
             [
              0.1111111111111111,
              "#46039f"
             ],
             [
              0.2222222222222222,
              "#7201a8"
             ],
             [
              0.3333333333333333,
              "#9c179e"
             ],
             [
              0.4444444444444444,
              "#bd3786"
             ],
             [
              0.5555555555555556,
              "#d8576b"
             ],
             [
              0.6666666666666666,
              "#ed7953"
             ],
             [
              0.7777777777777778,
              "#fb9f3a"
             ],
             [
              0.8888888888888888,
              "#fdca26"
             ],
             [
              1,
              "#f0f921"
             ]
            ],
            "type": "heatmapgl"
           }
          ],
          "histogram": [
           {
            "marker": {
             "colorbar": {
              "outlinewidth": 0,
              "ticks": ""
             }
            },
            "type": "histogram"
           }
          ],
          "histogram2d": [
           {
            "colorbar": {
             "outlinewidth": 0,
             "ticks": ""
            },
            "colorscale": [
             [
              0,
              "#0d0887"
             ],
             [
              0.1111111111111111,
              "#46039f"
             ],
             [
              0.2222222222222222,
              "#7201a8"
             ],
             [
              0.3333333333333333,
              "#9c179e"
             ],
             [
              0.4444444444444444,
              "#bd3786"
             ],
             [
              0.5555555555555556,
              "#d8576b"
             ],
             [
              0.6666666666666666,
              "#ed7953"
             ],
             [
              0.7777777777777778,
              "#fb9f3a"
             ],
             [
              0.8888888888888888,
              "#fdca26"
             ],
             [
              1,
              "#f0f921"
             ]
            ],
            "type": "histogram2d"
           }
          ],
          "histogram2dcontour": [
           {
            "colorbar": {
             "outlinewidth": 0,
             "ticks": ""
            },
            "colorscale": [
             [
              0,
              "#0d0887"
             ],
             [
              0.1111111111111111,
              "#46039f"
             ],
             [
              0.2222222222222222,
              "#7201a8"
             ],
             [
              0.3333333333333333,
              "#9c179e"
             ],
             [
              0.4444444444444444,
              "#bd3786"
             ],
             [
              0.5555555555555556,
              "#d8576b"
             ],
             [
              0.6666666666666666,
              "#ed7953"
             ],
             [
              0.7777777777777778,
              "#fb9f3a"
             ],
             [
              0.8888888888888888,
              "#fdca26"
             ],
             [
              1,
              "#f0f921"
             ]
            ],
            "type": "histogram2dcontour"
           }
          ],
          "mesh3d": [
           {
            "colorbar": {
             "outlinewidth": 0,
             "ticks": ""
            },
            "type": "mesh3d"
           }
          ],
          "parcoords": [
           {
            "line": {
             "colorbar": {
              "outlinewidth": 0,
              "ticks": ""
             }
            },
            "type": "parcoords"
           }
          ],
          "pie": [
           {
            "automargin": true,
            "type": "pie"
           }
          ],
          "scatter": [
           {
            "marker": {
             "colorbar": {
              "outlinewidth": 0,
              "ticks": ""
             }
            },
            "type": "scatter"
           }
          ],
          "scatter3d": [
           {
            "line": {
             "colorbar": {
              "outlinewidth": 0,
              "ticks": ""
             }
            },
            "marker": {
             "colorbar": {
              "outlinewidth": 0,
              "ticks": ""
             }
            },
            "type": "scatter3d"
           }
          ],
          "scattercarpet": [
           {
            "marker": {
             "colorbar": {
              "outlinewidth": 0,
              "ticks": ""
             }
            },
            "type": "scattercarpet"
           }
          ],
          "scattergeo": [
           {
            "marker": {
             "colorbar": {
              "outlinewidth": 0,
              "ticks": ""
             }
            },
            "type": "scattergeo"
           }
          ],
          "scattergl": [
           {
            "marker": {
             "colorbar": {
              "outlinewidth": 0,
              "ticks": ""
             }
            },
            "type": "scattergl"
           }
          ],
          "scattermapbox": [
           {
            "marker": {
             "colorbar": {
              "outlinewidth": 0,
              "ticks": ""
             }
            },
            "type": "scattermapbox"
           }
          ],
          "scatterpolar": [
           {
            "marker": {
             "colorbar": {
              "outlinewidth": 0,
              "ticks": ""
             }
            },
            "type": "scatterpolar"
           }
          ],
          "scatterpolargl": [
           {
            "marker": {
             "colorbar": {
              "outlinewidth": 0,
              "ticks": ""
             }
            },
            "type": "scatterpolargl"
           }
          ],
          "scatterternary": [
           {
            "marker": {
             "colorbar": {
              "outlinewidth": 0,
              "ticks": ""
             }
            },
            "type": "scatterternary"
           }
          ],
          "surface": [
           {
            "colorbar": {
             "outlinewidth": 0,
             "ticks": ""
            },
            "colorscale": [
             [
              0,
              "#0d0887"
             ],
             [
              0.1111111111111111,
              "#46039f"
             ],
             [
              0.2222222222222222,
              "#7201a8"
             ],
             [
              0.3333333333333333,
              "#9c179e"
             ],
             [
              0.4444444444444444,
              "#bd3786"
             ],
             [
              0.5555555555555556,
              "#d8576b"
             ],
             [
              0.6666666666666666,
              "#ed7953"
             ],
             [
              0.7777777777777778,
              "#fb9f3a"
             ],
             [
              0.8888888888888888,
              "#fdca26"
             ],
             [
              1,
              "#f0f921"
             ]
            ],
            "type": "surface"
           }
          ],
          "table": [
           {
            "cells": {
             "fill": {
              "color": "#EBF0F8"
             },
             "line": {
              "color": "white"
             }
            },
            "header": {
             "fill": {
              "color": "#C8D4E3"
             },
             "line": {
              "color": "white"
             }
            },
            "type": "table"
           }
          ]
         },
         "layout": {
          "annotationdefaults": {
           "arrowcolor": "#2a3f5f",
           "arrowhead": 0,
           "arrowwidth": 1
          },
          "coloraxis": {
           "colorbar": {
            "outlinewidth": 0,
            "ticks": ""
           }
          },
          "colorscale": {
           "diverging": [
            [
             0,
             "#8e0152"
            ],
            [
             0.1,
             "#c51b7d"
            ],
            [
             0.2,
             "#de77ae"
            ],
            [
             0.3,
             "#f1b6da"
            ],
            [
             0.4,
             "#fde0ef"
            ],
            [
             0.5,
             "#f7f7f7"
            ],
            [
             0.6,
             "#e6f5d0"
            ],
            [
             0.7,
             "#b8e186"
            ],
            [
             0.8,
             "#7fbc41"
            ],
            [
             0.9,
             "#4d9221"
            ],
            [
             1,
             "#276419"
            ]
           ],
           "sequential": [
            [
             0,
             "#0d0887"
            ],
            [
             0.1111111111111111,
             "#46039f"
            ],
            [
             0.2222222222222222,
             "#7201a8"
            ],
            [
             0.3333333333333333,
             "#9c179e"
            ],
            [
             0.4444444444444444,
             "#bd3786"
            ],
            [
             0.5555555555555556,
             "#d8576b"
            ],
            [
             0.6666666666666666,
             "#ed7953"
            ],
            [
             0.7777777777777778,
             "#fb9f3a"
            ],
            [
             0.8888888888888888,
             "#fdca26"
            ],
            [
             1,
             "#f0f921"
            ]
           ],
           "sequentialminus": [
            [
             0,
             "#0d0887"
            ],
            [
             0.1111111111111111,
             "#46039f"
            ],
            [
             0.2222222222222222,
             "#7201a8"
            ],
            [
             0.3333333333333333,
             "#9c179e"
            ],
            [
             0.4444444444444444,
             "#bd3786"
            ],
            [
             0.5555555555555556,
             "#d8576b"
            ],
            [
             0.6666666666666666,
             "#ed7953"
            ],
            [
             0.7777777777777778,
             "#fb9f3a"
            ],
            [
             0.8888888888888888,
             "#fdca26"
            ],
            [
             1,
             "#f0f921"
            ]
           ]
          },
          "colorway": [
           "#636efa",
           "#EF553B",
           "#00cc96",
           "#ab63fa",
           "#FFA15A",
           "#19d3f3",
           "#FF6692",
           "#B6E880",
           "#FF97FF",
           "#FECB52"
          ],
          "font": {
           "color": "#2a3f5f"
          },
          "geo": {
           "bgcolor": "white",
           "lakecolor": "white",
           "landcolor": "#E5ECF6",
           "showlakes": true,
           "showland": true,
           "subunitcolor": "white"
          },
          "hoverlabel": {
           "align": "left"
          },
          "hovermode": "closest",
          "mapbox": {
           "style": "light"
          },
          "paper_bgcolor": "white",
          "plot_bgcolor": "#E5ECF6",
          "polar": {
           "angularaxis": {
            "gridcolor": "white",
            "linecolor": "white",
            "ticks": ""
           },
           "bgcolor": "#E5ECF6",
           "radialaxis": {
            "gridcolor": "white",
            "linecolor": "white",
            "ticks": ""
           }
          },
          "scene": {
           "xaxis": {
            "backgroundcolor": "#E5ECF6",
            "gridcolor": "white",
            "gridwidth": 2,
            "linecolor": "white",
            "showbackground": true,
            "ticks": "",
            "zerolinecolor": "white"
           },
           "yaxis": {
            "backgroundcolor": "#E5ECF6",
            "gridcolor": "white",
            "gridwidth": 2,
            "linecolor": "white",
            "showbackground": true,
            "ticks": "",
            "zerolinecolor": "white"
           },
           "zaxis": {
            "backgroundcolor": "#E5ECF6",
            "gridcolor": "white",
            "gridwidth": 2,
            "linecolor": "white",
            "showbackground": true,
            "ticks": "",
            "zerolinecolor": "white"
           }
          },
          "shapedefaults": {
           "line": {
            "color": "#2a3f5f"
           }
          },
          "ternary": {
           "aaxis": {
            "gridcolor": "white",
            "linecolor": "white",
            "ticks": ""
           },
           "baxis": {
            "gridcolor": "white",
            "linecolor": "white",
            "ticks": ""
           },
           "bgcolor": "#E5ECF6",
           "caxis": {
            "gridcolor": "white",
            "linecolor": "white",
            "ticks": ""
           }
          },
          "title": {
           "x": 0.05
          },
          "xaxis": {
           "automargin": true,
           "gridcolor": "white",
           "linecolor": "white",
           "ticks": "",
           "title": {
            "standoff": 15
           },
           "zerolinecolor": "white",
           "zerolinewidth": 2
          },
          "yaxis": {
           "automargin": true,
           "gridcolor": "white",
           "linecolor": "white",
           "ticks": "",
           "title": {
            "standoff": 15
           },
           "zerolinecolor": "white",
           "zerolinewidth": 2
          }
         }
        },
        "xaxis": {
         "rangeslider": {
          "visible": false
         }
        }
       }
      },
      "text/html": [
       "<div>\n",
       "        \n",
       "        \n",
       "            <div id=\"57be5a1c-7eed-4f92-8ee1-54a46a22957f\" class=\"plotly-graph-div\" style=\"height:525px; width:100%;\"></div>\n",
       "            <script type=\"text/javascript\">\n",
       "                require([\"plotly\"], function(Plotly) {\n",
       "                    window.PLOTLYENV=window.PLOTLYENV || {};\n",
       "                    \n",
       "                if (document.getElementById(\"57be5a1c-7eed-4f92-8ee1-54a46a22957f\")) {\n",
       "                    Plotly.newPlot(\n",
       "                        '57be5a1c-7eed-4f92-8ee1-54a46a22957f',\n",
       "                        [{\"close\": [352.8399963378906, 335.8999938964844, 338.79998779296875, 342.989990234375, 352.0799865722656, 351.5899963378906, 351.7300109863281, 349.7200012207031, 358.8699951171875, 366.5299987792969, 360.05999755859375, 364.8399963378906, 353.6300048828125, 361.7799987792969, 363.3080139160156], \"high\": [354.7699890136719, 351.05999755859375, 347.79998779296875, 345.67999267578125, 353.20001220703125, 355.3999938964844, 353.45001220703125, 356.55999755859375, 359.4599914550781, 372.3800048828125, 368.7900085449219, 365.0, 365.32000732421875, 362.1700134277344, 365.8800048828125], \"low\": [346.0899963378906, 335.4800109863281, 334.2200012207031, 332.5799865722656, 344.7200012207031, 351.0899963378906, 349.2200012207031, 345.1499938964844, 351.1499938964844, 362.2699890136719, 358.5199890136719, 357.57000732421875, 353.0199890136719, 351.2799987792969, 360.0], \"open\": [347.8999938964844, 349.30999755859375, 344.7200012207031, 333.25, 351.4599914550781, 355.1499938964844, 351.4100036621094, 354.6400146484375, 351.3399963378906, 364.0, 365.0, 360.70001220703125, 364.4100036621094, 353.25, 360.0799865722656], \"type\": \"candlestick\", \"x\": [\"2020-06-10T00:00:00\", \"2020-06-11T00:00:00\", \"2020-06-12T00:00:00\", \"2020-06-15T00:00:00\", \"2020-06-16T00:00:00\", \"2020-06-17T00:00:00\", \"2020-06-18T00:00:00\", \"2020-06-19T00:00:00\", \"2020-06-22T00:00:00\", \"2020-06-23T00:00:00\", \"2020-06-24T00:00:00\", \"2020-06-25T00:00:00\", \"2020-06-26T00:00:00\", \"2020-06-29T00:00:00\", \"2020-06-30T00:00:00\"]}],\n",
       "                        {\"template\": {\"data\": {\"bar\": [{\"error_x\": {\"color\": \"#2a3f5f\"}, \"error_y\": {\"color\": \"#2a3f5f\"}, \"marker\": {\"line\": {\"color\": \"#E5ECF6\", \"width\": 0.5}}, \"type\": \"bar\"}], \"barpolar\": [{\"marker\": {\"line\": {\"color\": \"#E5ECF6\", \"width\": 0.5}}, \"type\": \"barpolar\"}], \"carpet\": [{\"aaxis\": {\"endlinecolor\": \"#2a3f5f\", \"gridcolor\": \"white\", \"linecolor\": \"white\", \"minorgridcolor\": \"white\", \"startlinecolor\": \"#2a3f5f\"}, \"baxis\": {\"endlinecolor\": \"#2a3f5f\", \"gridcolor\": \"white\", \"linecolor\": \"white\", \"minorgridcolor\": \"white\", \"startlinecolor\": \"#2a3f5f\"}, \"type\": \"carpet\"}], \"choropleth\": [{\"colorbar\": {\"outlinewidth\": 0, \"ticks\": \"\"}, \"type\": \"choropleth\"}], \"contour\": [{\"colorbar\": {\"outlinewidth\": 0, \"ticks\": \"\"}, \"colorscale\": [[0.0, \"#0d0887\"], [0.1111111111111111, \"#46039f\"], [0.2222222222222222, \"#7201a8\"], [0.3333333333333333, \"#9c179e\"], [0.4444444444444444, \"#bd3786\"], [0.5555555555555556, \"#d8576b\"], [0.6666666666666666, \"#ed7953\"], [0.7777777777777778, \"#fb9f3a\"], [0.8888888888888888, \"#fdca26\"], [1.0, \"#f0f921\"]], \"type\": \"contour\"}], \"contourcarpet\": [{\"colorbar\": {\"outlinewidth\": 0, \"ticks\": \"\"}, \"type\": \"contourcarpet\"}], \"heatmap\": [{\"colorbar\": {\"outlinewidth\": 0, \"ticks\": \"\"}, \"colorscale\": [[0.0, \"#0d0887\"], [0.1111111111111111, \"#46039f\"], [0.2222222222222222, \"#7201a8\"], [0.3333333333333333, \"#9c179e\"], [0.4444444444444444, \"#bd3786\"], [0.5555555555555556, \"#d8576b\"], [0.6666666666666666, \"#ed7953\"], [0.7777777777777778, \"#fb9f3a\"], [0.8888888888888888, \"#fdca26\"], [1.0, \"#f0f921\"]], \"type\": \"heatmap\"}], \"heatmapgl\": [{\"colorbar\": {\"outlinewidth\": 0, \"ticks\": \"\"}, \"colorscale\": [[0.0, \"#0d0887\"], [0.1111111111111111, \"#46039f\"], [0.2222222222222222, \"#7201a8\"], [0.3333333333333333, \"#9c179e\"], [0.4444444444444444, \"#bd3786\"], [0.5555555555555556, \"#d8576b\"], [0.6666666666666666, \"#ed7953\"], [0.7777777777777778, \"#fb9f3a\"], [0.8888888888888888, \"#fdca26\"], [1.0, \"#f0f921\"]], \"type\": \"heatmapgl\"}], \"histogram\": [{\"marker\": {\"colorbar\": {\"outlinewidth\": 0, \"ticks\": \"\"}}, \"type\": \"histogram\"}], \"histogram2d\": [{\"colorbar\": {\"outlinewidth\": 0, \"ticks\": \"\"}, \"colorscale\": [[0.0, \"#0d0887\"], [0.1111111111111111, \"#46039f\"], [0.2222222222222222, \"#7201a8\"], [0.3333333333333333, \"#9c179e\"], [0.4444444444444444, \"#bd3786\"], [0.5555555555555556, \"#d8576b\"], [0.6666666666666666, \"#ed7953\"], [0.7777777777777778, \"#fb9f3a\"], [0.8888888888888888, \"#fdca26\"], [1.0, \"#f0f921\"]], \"type\": \"histogram2d\"}], \"histogram2dcontour\": [{\"colorbar\": {\"outlinewidth\": 0, \"ticks\": \"\"}, \"colorscale\": [[0.0, \"#0d0887\"], [0.1111111111111111, \"#46039f\"], [0.2222222222222222, \"#7201a8\"], [0.3333333333333333, \"#9c179e\"], [0.4444444444444444, \"#bd3786\"], [0.5555555555555556, \"#d8576b\"], [0.6666666666666666, \"#ed7953\"], [0.7777777777777778, \"#fb9f3a\"], [0.8888888888888888, \"#fdca26\"], [1.0, \"#f0f921\"]], \"type\": \"histogram2dcontour\"}], \"mesh3d\": [{\"colorbar\": {\"outlinewidth\": 0, \"ticks\": \"\"}, \"type\": \"mesh3d\"}], \"parcoords\": [{\"line\": {\"colorbar\": {\"outlinewidth\": 0, \"ticks\": \"\"}}, \"type\": \"parcoords\"}], \"pie\": [{\"automargin\": true, \"type\": \"pie\"}], \"scatter\": [{\"marker\": {\"colorbar\": {\"outlinewidth\": 0, \"ticks\": \"\"}}, \"type\": \"scatter\"}], \"scatter3d\": [{\"line\": {\"colorbar\": {\"outlinewidth\": 0, \"ticks\": \"\"}}, \"marker\": {\"colorbar\": {\"outlinewidth\": 0, \"ticks\": \"\"}}, \"type\": \"scatter3d\"}], \"scattercarpet\": [{\"marker\": {\"colorbar\": {\"outlinewidth\": 0, \"ticks\": \"\"}}, \"type\": \"scattercarpet\"}], \"scattergeo\": [{\"marker\": {\"colorbar\": {\"outlinewidth\": 0, \"ticks\": \"\"}}, \"type\": \"scattergeo\"}], \"scattergl\": [{\"marker\": {\"colorbar\": {\"outlinewidth\": 0, \"ticks\": \"\"}}, \"type\": \"scattergl\"}], \"scattermapbox\": [{\"marker\": {\"colorbar\": {\"outlinewidth\": 0, \"ticks\": \"\"}}, \"type\": \"scattermapbox\"}], \"scatterpolar\": [{\"marker\": {\"colorbar\": {\"outlinewidth\": 0, \"ticks\": \"\"}}, \"type\": \"scatterpolar\"}], \"scatterpolargl\": [{\"marker\": {\"colorbar\": {\"outlinewidth\": 0, \"ticks\": \"\"}}, \"type\": \"scatterpolargl\"}], \"scatterternary\": [{\"marker\": {\"colorbar\": {\"outlinewidth\": 0, \"ticks\": \"\"}}, \"type\": \"scatterternary\"}], \"surface\": [{\"colorbar\": {\"outlinewidth\": 0, \"ticks\": \"\"}, \"colorscale\": [[0.0, \"#0d0887\"], [0.1111111111111111, \"#46039f\"], [0.2222222222222222, \"#7201a8\"], [0.3333333333333333, \"#9c179e\"], [0.4444444444444444, \"#bd3786\"], [0.5555555555555556, \"#d8576b\"], [0.6666666666666666, \"#ed7953\"], [0.7777777777777778, \"#fb9f3a\"], [0.8888888888888888, \"#fdca26\"], [1.0, \"#f0f921\"]], \"type\": \"surface\"}], \"table\": [{\"cells\": {\"fill\": {\"color\": \"#EBF0F8\"}, \"line\": {\"color\": \"white\"}}, \"header\": {\"fill\": {\"color\": \"#C8D4E3\"}, \"line\": {\"color\": \"white\"}}, \"type\": \"table\"}]}, \"layout\": {\"annotationdefaults\": {\"arrowcolor\": \"#2a3f5f\", \"arrowhead\": 0, \"arrowwidth\": 1}, \"coloraxis\": {\"colorbar\": {\"outlinewidth\": 0, \"ticks\": \"\"}}, \"colorscale\": {\"diverging\": [[0, \"#8e0152\"], [0.1, \"#c51b7d\"], [0.2, \"#de77ae\"], [0.3, \"#f1b6da\"], [0.4, \"#fde0ef\"], [0.5, \"#f7f7f7\"], [0.6, \"#e6f5d0\"], [0.7, \"#b8e186\"], [0.8, \"#7fbc41\"], [0.9, \"#4d9221\"], [1, \"#276419\"]], \"sequential\": [[0.0, \"#0d0887\"], [0.1111111111111111, \"#46039f\"], [0.2222222222222222, \"#7201a8\"], [0.3333333333333333, \"#9c179e\"], [0.4444444444444444, \"#bd3786\"], [0.5555555555555556, \"#d8576b\"], [0.6666666666666666, \"#ed7953\"], [0.7777777777777778, \"#fb9f3a\"], [0.8888888888888888, \"#fdca26\"], [1.0, \"#f0f921\"]], \"sequentialminus\": [[0.0, \"#0d0887\"], [0.1111111111111111, \"#46039f\"], [0.2222222222222222, \"#7201a8\"], [0.3333333333333333, \"#9c179e\"], [0.4444444444444444, \"#bd3786\"], [0.5555555555555556, \"#d8576b\"], [0.6666666666666666, \"#ed7953\"], [0.7777777777777778, \"#fb9f3a\"], [0.8888888888888888, \"#fdca26\"], [1.0, \"#f0f921\"]]}, \"colorway\": [\"#636efa\", \"#EF553B\", \"#00cc96\", \"#ab63fa\", \"#FFA15A\", \"#19d3f3\", \"#FF6692\", \"#B6E880\", \"#FF97FF\", \"#FECB52\"], \"font\": {\"color\": \"#2a3f5f\"}, \"geo\": {\"bgcolor\": \"white\", \"lakecolor\": \"white\", \"landcolor\": \"#E5ECF6\", \"showlakes\": true, \"showland\": true, \"subunitcolor\": \"white\"}, \"hoverlabel\": {\"align\": \"left\"}, \"hovermode\": \"closest\", \"mapbox\": {\"style\": \"light\"}, \"paper_bgcolor\": \"white\", \"plot_bgcolor\": \"#E5ECF6\", \"polar\": {\"angularaxis\": {\"gridcolor\": \"white\", \"linecolor\": \"white\", \"ticks\": \"\"}, \"bgcolor\": \"#E5ECF6\", \"radialaxis\": {\"gridcolor\": \"white\", \"linecolor\": \"white\", \"ticks\": \"\"}}, \"scene\": {\"xaxis\": {\"backgroundcolor\": \"#E5ECF6\", \"gridcolor\": \"white\", \"gridwidth\": 2, \"linecolor\": \"white\", \"showbackground\": true, \"ticks\": \"\", \"zerolinecolor\": \"white\"}, \"yaxis\": {\"backgroundcolor\": \"#E5ECF6\", \"gridcolor\": \"white\", \"gridwidth\": 2, \"linecolor\": \"white\", \"showbackground\": true, \"ticks\": \"\", \"zerolinecolor\": \"white\"}, \"zaxis\": {\"backgroundcolor\": \"#E5ECF6\", \"gridcolor\": \"white\", \"gridwidth\": 2, \"linecolor\": \"white\", \"showbackground\": true, \"ticks\": \"\", \"zerolinecolor\": \"white\"}}, \"shapedefaults\": {\"line\": {\"color\": \"#2a3f5f\"}}, \"ternary\": {\"aaxis\": {\"gridcolor\": \"white\", \"linecolor\": \"white\", \"ticks\": \"\"}, \"baxis\": {\"gridcolor\": \"white\", \"linecolor\": \"white\", \"ticks\": \"\"}, \"bgcolor\": \"#E5ECF6\", \"caxis\": {\"gridcolor\": \"white\", \"linecolor\": \"white\", \"ticks\": \"\"}}, \"title\": {\"x\": 0.05}, \"xaxis\": {\"automargin\": true, \"gridcolor\": \"white\", \"linecolor\": \"white\", \"ticks\": \"\", \"title\": {\"standoff\": 15}, \"zerolinecolor\": \"white\", \"zerolinewidth\": 2}, \"yaxis\": {\"automargin\": true, \"gridcolor\": \"white\", \"linecolor\": \"white\", \"ticks\": \"\", \"title\": {\"standoff\": 15}, \"zerolinecolor\": \"white\", \"zerolinewidth\": 2}}}, \"xaxis\": {\"rangeslider\": {\"visible\": false}}},\n",
       "                        {\"responsive\": true}\n",
       "                    ).then(function(){\n",
       "                            \n",
       "var gd = document.getElementById('57be5a1c-7eed-4f92-8ee1-54a46a22957f');\n",
       "var x = new MutationObserver(function (mutations, observer) {{\n",
       "        var display = window.getComputedStyle(gd).display;\n",
       "        if (!display || display === 'none') {{\n",
       "            console.log([gd, 'removed!']);\n",
       "            Plotly.purge(gd);\n",
       "            observer.disconnect();\n",
       "        }}\n",
       "}});\n",
       "\n",
       "// Listen for the removal of the full notebook cells\n",
       "var notebookContainer = gd.closest('#notebook-container');\n",
       "if (notebookContainer) {{\n",
       "    x.observe(notebookContainer, {childList: true});\n",
       "}}\n",
       "\n",
       "// Listen for the clearing of the current output cell\n",
       "var outputEl = gd.closest('.output');\n",
       "if (outputEl) {{\n",
       "    x.observe(outputEl, {childList: true});\n",
       "}}\n",
       "\n",
       "                        })\n",
       "                };\n",
       "                });\n",
       "            </script>\n",
       "        </div>"
      ]
     },
     "metadata": {},
     "output_type": "display_data"
    }
   ],
   "source": [
    "import plotly.graph_objects as go\n",
    "#df_Flat\n",
    "fig = go.Figure(data=[go.Candlestick(x= df_Flat.loc[df_Flat['Symbol']==tickers_bestPerformed.index[0]]['Date'],\n",
    "                open= df_Flat.loc[df_Flat['Symbol']=='AAPL']['Open'],\n",
    "                high= df_Flat.loc[df_Flat['Symbol']=='AAPL']['High'],\n",
    "                low= df_Flat.loc[df_Flat['Symbol']=='AAPL']['Low'],\n",
    "                close= df_Flat.loc[df_Flat['Symbol']=='AAPL']['Close'])])\n",
    "\n",
    "fig.update_layout(xaxis_rangeslider_visible=False)\n",
    "fig.show()"
   ]
  },
  {
   "cell_type": "code",
   "execution_count": 24,
   "metadata": {
    "scrolled": true
   },
   "outputs": [
    {
     "data": {
      "text/html": [
       "<div>\n",
       "<style scoped>\n",
       "    .dataframe tbody tr th:only-of-type {\n",
       "        vertical-align: middle;\n",
       "    }\n",
       "\n",
       "    .dataframe tbody tr th {\n",
       "        vertical-align: top;\n",
       "    }\n",
       "\n",
       "    .dataframe thead th {\n",
       "        text-align: right;\n",
       "    }\n",
       "</style>\n",
       "<table border=\"1\" class=\"dataframe\">\n",
       "  <thead>\n",
       "    <tr style=\"text-align: right;\">\n",
       "      <th></th>\n",
       "      <th>count</th>\n",
       "      <th>mean</th>\n",
       "      <th>std</th>\n",
       "      <th>min</th>\n",
       "      <th>25%</th>\n",
       "      <th>50%</th>\n",
       "      <th>75%</th>\n",
       "      <th>max</th>\n",
       "    </tr>\n",
       "    <tr>\n",
       "      <th>Symbol</th>\n",
       "      <th></th>\n",
       "      <th></th>\n",
       "      <th></th>\n",
       "      <th></th>\n",
       "      <th></th>\n",
       "      <th></th>\n",
       "      <th></th>\n",
       "      <th></th>\n",
       "    </tr>\n",
       "  </thead>\n",
       "  <tbody>\n",
       "    <tr>\n",
       "      <th>LLY</th>\n",
       "      <td>13.0</td>\n",
       "      <td>0.68%</td>\n",
       "      <td>4.88%</td>\n",
       "      <td>-4.58%</td>\n",
       "      <td>-1.41%</td>\n",
       "      <td>-0.37%</td>\n",
       "      <td>0.32%</td>\n",
       "      <td>15.68%</td>\n",
       "    </tr>\n",
       "    <tr>\n",
       "      <th>PYPL</th>\n",
       "      <td>13.0</td>\n",
       "      <td>0.42%</td>\n",
       "      <td>2.47%</td>\n",
       "      <td>-4.30%</td>\n",
       "      <td>-1.47%</td>\n",
       "      <td>1.47%</td>\n",
       "      <td>2.33%</td>\n",
       "      <td>3.59%</td>\n",
       "    </tr>\n",
       "    <tr>\n",
       "      <th>ADBE</th>\n",
       "      <td>13.0</td>\n",
       "      <td>0.35%</td>\n",
       "      <td>2.52%</td>\n",
       "      <td>-4.71%</td>\n",
       "      <td>-1.28%</td>\n",
       "      <td>0.44%</td>\n",
       "      <td>1.80%</td>\n",
       "      <td>4.87%</td>\n",
       "    </tr>\n",
       "    <tr>\n",
       "      <th>NFLX</th>\n",
       "      <td>13.0</td>\n",
       "      <td>0.25%</td>\n",
       "      <td>2.32%</td>\n",
       "      <td>-4.83%</td>\n",
       "      <td>-1.76%</td>\n",
       "      <td>0.86%</td>\n",
       "      <td>1.78%</td>\n",
       "      <td>3.16%</td>\n",
       "    </tr>\n",
       "    <tr>\n",
       "      <th>UPS</th>\n",
       "      <td>13.0</td>\n",
       "      <td>0.23%</td>\n",
       "      <td>2.57%</td>\n",
       "      <td>-5.78%</td>\n",
       "      <td>-0.81%</td>\n",
       "      <td>0.55%</td>\n",
       "      <td>1.10%</td>\n",
       "      <td>4.10%</td>\n",
       "    </tr>\n",
       "  </tbody>\n",
       "</table>\n",
       "</div>"
      ],
      "text/plain": [
       "        count   mean    std     min     25%     50%    75%     max\n",
       "Symbol                                                            \n",
       "LLY      13.0  0.68%  4.88%  -4.58%  -1.41%  -0.37%  0.32%  15.68%\n",
       "PYPL     13.0  0.42%  2.47%  -4.30%  -1.47%   1.47%  2.33%   3.59%\n",
       "ADBE     13.0  0.35%  2.52%  -4.71%  -1.28%   0.44%  1.80%   4.87%\n",
       "NFLX     13.0  0.25%  2.32%  -4.83%  -1.76%   0.86%  1.78%   3.16%\n",
       "UPS      13.0  0.23%  2.57%  -5.78%  -0.81%   0.55%  1.10%   4.10%"
      ]
     },
     "execution_count": 24,
     "metadata": {},
     "output_type": "execute_result"
    }
   ],
   "source": [
    "tickers_bestPerformed = format_column_percentage(tickers_bestPerformed, tickers_bestPerformed.columns[1:])\n",
    "tickers_bestPerformed"
   ]
  },
  {
   "cell_type": "code",
   "execution_count": null,
   "metadata": {},
   "outputs": [],
   "source": []
  },
  {
   "cell_type": "code",
   "execution_count": 25,
   "metadata": {
    "scrolled": true
   },
   "outputs": [
    {
     "data": {
      "image/png": "[encoded data removed]",
      "text/plain": [
       "<Figure size 432.875x360 with 1 Axes>"
      ]
     },
     "metadata": {
      "needs_background": "light"
     },
     "output_type": "display_data"
    }
   ],
   "source": [
    "CreatePlotAndSavefig(tickers_bestPerformed.index, 'Best performed companies based on % Changes in Close Price', 'change in closing price ($)', 'highest growth closing price')"
   ]
  },
  {
   "cell_type": "code",
   "execution_count": 26,
   "metadata": {},
   "outputs": [
    {
     "data": {
      "image/png": "[encoded data removed]",
      "text/plain": [
       "<Figure size 432.875x360 with 1 Axes>"
      ]
     },
     "metadata": {
      "needs_background": "light"
     },
     "output_type": "display_data"
    }
   ],
   "source": [
    "CreatePctPlotAndSavefig(tickers_bestPerformed.index, 'Best performed companies based on % Changes in Close Price', 'change in closing price (%)', 'highest growth closing pct change')"
   ]
  },
  {
   "cell_type": "code",
   "execution_count": null,
   "metadata": {},
   "outputs": [],
   "source": []
  },
  {
   "cell_type": "markdown",
   "metadata": {},
   "source": [
    "## Volatility"
   ]
  },
  {
   "cell_type": "markdown",
   "metadata": {},
   "source": [
    "### most volatiled companies. (based on the standard deviation of percentage change)"
   ]
  },
  {
   "cell_type": "markdown",
   "metadata": {},
   "source": [
    "#### Top 5 companies with highest volatillity rates among S&P 100"
   ]
  },
  {
   "cell_type": "code",
   "execution_count": 27,
   "metadata": {},
   "outputs": [],
   "source": [
    "tickers_volatile = df_temp['Close'].describe().transpose().sort_values(by='std', ascending=False).head(5)#.round(2)\n",
    "tickers_volatile = format_column_percentage(tickers_volatile, tickers_volatile.columns[1:])"
   ]
  },
  {
   "cell_type": "code",
   "execution_count": 28,
   "metadata": {},
   "outputs": [
    {
     "data": {
      "text/plain": [
       "Index(['BA', 'OXY', 'SPG', 'C', 'LLY'], dtype='object', name='Symbol')"
      ]
     },
     "execution_count": 28,
     "metadata": {},
     "output_type": "execute_result"
    }
   ],
   "source": [
    "tickers_volatile.index"
   ]
  },
  {
   "cell_type": "code",
   "execution_count": 29,
   "metadata": {
    "scrolled": true
   },
   "outputs": [
    {
     "data": {
      "image/png": "[encoded data removed]",
      "text/plain": [
       "<Figure size 432.875x360 with 1 Axes>"
      ]
     },
     "metadata": {
      "needs_background": "light"
     },
     "output_type": "display_data"
    }
   ],
   "source": [
    "CreatePlotAndSavefig(tickers_volatile.index, 'Most volatiled companies based on % Changes in Close Price', 'change in closing price ($)', '2')"
   ]
  },
  {
   "cell_type": "code",
   "execution_count": 30,
   "metadata": {},
   "outputs": [
    {
     "data": {
      "image/png": "[encoded data removed]",
      "text/plain": [
       "<Figure size 432.875x360 with 1 Axes>"
      ]
     },
     "metadata": {
      "needs_background": "light"
     },
     "output_type": "display_data"
    }
   ],
   "source": [
    "CreatePctPlotAndSavefig(tickers_volatile.index, 'Most volatiled companies based on % Changes in Close Price', 'change in closing price (%)', '1')"
   ]
  },
  {
   "cell_type": "code",
   "execution_count": null,
   "metadata": {},
   "outputs": [],
   "source": []
  },
  {
   "cell_type": "markdown",
   "metadata": {},
   "source": [
    "## Get date where highest drop and raise of closing price occured. "
   ]
  },
  {
   "cell_type": "code",
   "execution_count": 31,
   "metadata": {
    "scrolled": true
   },
   "outputs": [
    {
     "data": {
      "text/html": [
       "<div>\n",
       "<style scoped>\n",
       "    .dataframe tbody tr th:only-of-type {\n",
       "        vertical-align: middle;\n",
       "    }\n",
       "\n",
       "    .dataframe tbody tr th {\n",
       "        vertical-align: top;\n",
       "    }\n",
       "\n",
       "    .dataframe thead th {\n",
       "        text-align: right;\n",
       "    }\n",
       "</style>\n",
       "<table border=\"1\" class=\"dataframe\">\n",
       "  <thead>\n",
       "    <tr style=\"text-align: right;\">\n",
       "      <th></th>\n",
       "      <th>Symbol</th>\n",
       "      <th>Date</th>\n",
       "      <th>High</th>\n",
       "      <th>Low</th>\n",
       "      <th>Open</th>\n",
       "      <th>Close</th>\n",
       "      <th>Volume</th>\n",
       "      <th>Adj Close</th>\n",
       "    </tr>\n",
       "  </thead>\n",
       "  <tbody>\n",
       "    <tr>\n",
       "      <th>4</th>\n",
       "      <td>AAPL</td>\n",
       "      <td>2020-06-16</td>\n",
       "      <td>0.021754</td>\n",
       "      <td>0.036503</td>\n",
       "      <td>0.054644</td>\n",
       "      <td>0.026502</td>\n",
       "      <td>0.191775</td>\n",
       "      <td>0.026502</td>\n",
       "    </tr>\n",
       "    <tr>\n",
       "      <th>18</th>\n",
       "      <td>ABBV</td>\n",
       "      <td>2020-06-16</td>\n",
       "      <td>0.023078</td>\n",
       "      <td>0.029742</td>\n",
       "      <td>0.039334</td>\n",
       "      <td>0.032015</td>\n",
       "      <td>0.315427</td>\n",
       "      <td>0.032015</td>\n",
       "    </tr>\n",
       "    <tr>\n",
       "      <th>39</th>\n",
       "      <td>ABT</td>\n",
       "      <td>2020-06-25</td>\n",
       "      <td>-0.010140</td>\n",
       "      <td>-0.007602</td>\n",
       "      <td>-0.037405</td>\n",
       "      <td>0.026575</td>\n",
       "      <td>-0.058744</td>\n",
       "      <td>0.026575</td>\n",
       "    </tr>\n",
       "    <tr>\n",
       "      <th>53</th>\n",
       "      <td>ACN</td>\n",
       "      <td>2020-06-25</td>\n",
       "      <td>0.050579</td>\n",
       "      <td>0.054863</td>\n",
       "      <td>0.036446</td>\n",
       "      <td>0.076694</td>\n",
       "      <td>0.703236</td>\n",
       "      <td>0.076694</td>\n",
       "    </tr>\n",
       "    <tr>\n",
       "      <th>58</th>\n",
       "      <td>ADBE</td>\n",
       "      <td>2020-06-12</td>\n",
       "      <td>0.018605</td>\n",
       "      <td>0.020755</td>\n",
       "      <td>0.023250</td>\n",
       "      <td>0.048675</td>\n",
       "      <td>1.019837</td>\n",
       "      <td>0.048675</td>\n",
       "    </tr>\n",
       "    <tr>\n",
       "      <th>...</th>\n",
       "      <td>...</td>\n",
       "      <td>...</td>\n",
       "      <td>...</td>\n",
       "      <td>...</td>\n",
       "      <td>...</td>\n",
       "      <td>...</td>\n",
       "      <td>...</td>\n",
       "      <td>...</td>\n",
       "    </tr>\n",
       "    <tr>\n",
       "      <th>1357</th>\n",
       "      <td>VZ</td>\n",
       "      <td>2020-06-29</td>\n",
       "      <td>0.012024</td>\n",
       "      <td>0.008704</td>\n",
       "      <td>-0.013509</td>\n",
       "      <td>0.028781</td>\n",
       "      <td>-0.473026</td>\n",
       "      <td>0.028781</td>\n",
       "    </tr>\n",
       "    <tr>\n",
       "      <th>1365</th>\n",
       "      <td>WBA</td>\n",
       "      <td>2020-06-19</td>\n",
       "      <td>0.048292</td>\n",
       "      <td>0.019816</td>\n",
       "      <td>0.019194</td>\n",
       "      <td>0.051215</td>\n",
       "      <td>3.273216</td>\n",
       "      <td>0.051215</td>\n",
       "    </tr>\n",
       "    <tr>\n",
       "      <th>1383</th>\n",
       "      <td>WFC</td>\n",
       "      <td>2020-06-25</td>\n",
       "      <td>0.014058</td>\n",
       "      <td>-0.003848</td>\n",
       "      <td>-0.037092</td>\n",
       "      <td>0.047856</td>\n",
       "      <td>-0.213986</td>\n",
       "      <td>0.047856</td>\n",
       "    </tr>\n",
       "    <tr>\n",
       "      <th>1393</th>\n",
       "      <td>WMT</td>\n",
       "      <td>2020-06-19</td>\n",
       "      <td>0.010415</td>\n",
       "      <td>0.000765</td>\n",
       "      <td>0.002953</td>\n",
       "      <td>0.015764</td>\n",
       "      <td>0.996951</td>\n",
       "      <td>0.015764</td>\n",
       "    </tr>\n",
       "    <tr>\n",
       "      <th>1404</th>\n",
       "      <td>XOM</td>\n",
       "      <td>2020-06-16</td>\n",
       "      <td>0.041667</td>\n",
       "      <td>0.055642</td>\n",
       "      <td>0.093054</td>\n",
       "      <td>0.022486</td>\n",
       "      <td>-0.061795</td>\n",
       "      <td>0.022486</td>\n",
       "    </tr>\n",
       "  </tbody>\n",
       "</table>\n",
       "<p>101 rows × 8 columns</p>\n",
       "</div>"
      ],
      "text/plain": [
       "     Symbol       Date      High       Low      Open     Close    Volume  \\\n",
       "4      AAPL 2020-06-16  0.021754  0.036503  0.054644  0.026502  0.191775   \n",
       "18     ABBV 2020-06-16  0.023078  0.029742  0.039334  0.032015  0.315427   \n",
       "39      ABT 2020-06-25 -0.010140 -0.007602 -0.037405  0.026575 -0.058744   \n",
       "53      ACN 2020-06-25  0.050579  0.054863  0.036446  0.076694  0.703236   \n",
       "58     ADBE 2020-06-12  0.018605  0.020755  0.023250  0.048675  1.019837   \n",
       "...     ...        ...       ...       ...       ...       ...       ...   \n",
       "1357     VZ 2020-06-29  0.012024  0.008704 -0.013509  0.028781 -0.473026   \n",
       "1365    WBA 2020-06-19  0.048292  0.019816  0.019194  0.051215  3.273216   \n",
       "1383    WFC 2020-06-25  0.014058 -0.003848 -0.037092  0.047856 -0.213986   \n",
       "1393    WMT 2020-06-19  0.010415  0.000765  0.002953  0.015764  0.996951   \n",
       "1404    XOM 2020-06-16  0.041667  0.055642  0.093054  0.022486 -0.061795   \n",
       "\n",
       "      Adj Close  \n",
       "4      0.026502  \n",
       "18     0.032015  \n",
       "39     0.026575  \n",
       "53     0.076694  \n",
       "58     0.048675  \n",
       "...         ...  \n",
       "1357   0.028781  \n",
       "1365   0.051215  \n",
       "1383   0.047856  \n",
       "1393   0.015764  \n",
       "1404   0.022486  \n",
       "\n",
       "[101 rows x 8 columns]"
      ]
     },
     "execution_count": 31,
     "metadata": {},
     "output_type": "execute_result"
    }
   ],
   "source": [
    "highest_raise = df_Flat_pct_change.groupby(['Symbol'])['Close'].transform(max) == df_Flat_pct_change['Close']\n",
    "df_Flat_pct_change[highest_raise]"
   ]
  },
  {
   "cell_type": "code",
   "execution_count": 32,
   "metadata": {
    "scrolled": true
   },
   "outputs": [],
   "source": [
    "highest_drop = df_Flat_pct_change.groupby(['Symbol'])['Close'].transform(min) == df_Flat_pct_change['Close']\n",
    "drops = df_Flat_pct_change[highest_drop]"
   ]
  },
  {
   "cell_type": "code",
   "execution_count": 33,
   "metadata": {},
   "outputs": [
    {
     "data": {
      "text/html": [
       "<div>\n",
       "<style scoped>\n",
       "    .dataframe tbody tr th:only-of-type {\n",
       "        vertical-align: middle;\n",
       "    }\n",
       "\n",
       "    .dataframe tbody tr th {\n",
       "        vertical-align: top;\n",
       "    }\n",
       "\n",
       "    .dataframe thead th {\n",
       "        text-align: right;\n",
       "    }\n",
       "</style>\n",
       "<table border=\"1\" class=\"dataframe\">\n",
       "  <thead>\n",
       "    <tr style=\"text-align: right;\">\n",
       "      <th></th>\n",
       "      <th>Symbol</th>\n",
       "      <th>Date</th>\n",
       "      <th>High</th>\n",
       "      <th>Low</th>\n",
       "      <th>Open</th>\n",
       "      <th>Close</th>\n",
       "      <th>Volume</th>\n",
       "      <th>Adj Close</th>\n",
       "    </tr>\n",
       "  </thead>\n",
       "  <tbody>\n",
       "    <tr>\n",
       "      <th>1</th>\n",
       "      <td>AAPL</td>\n",
       "      <td>2020-06-11</td>\n",
       "      <td>-0.010457</td>\n",
       "      <td>-0.030657</td>\n",
       "      <td>0.004053</td>\n",
       "      <td>-0.048010</td>\n",
       "      <td>0.210084</td>\n",
       "      <td>-0.048010</td>\n",
       "    </tr>\n",
       "    <tr>\n",
       "      <th>15</th>\n",
       "      <td>ABBV</td>\n",
       "      <td>2020-06-11</td>\n",
       "      <td>-0.024761</td>\n",
       "      <td>-0.049277</td>\n",
       "      <td>-0.013403</td>\n",
       "      <td>-0.047884</td>\n",
       "      <td>0.129867</td>\n",
       "      <td>-0.047884</td>\n",
       "    </tr>\n",
       "    <tr>\n",
       "      <th>29</th>\n",
       "      <td>ABT</td>\n",
       "      <td>2020-06-11</td>\n",
       "      <td>-0.002695</td>\n",
       "      <td>-0.040821</td>\n",
       "      <td>0.014529</td>\n",
       "      <td>-0.047526</td>\n",
       "      <td>0.401297</td>\n",
       "      <td>-0.047526</td>\n",
       "    </tr>\n",
       "    <tr>\n",
       "      <th>43</th>\n",
       "      <td>ACN</td>\n",
       "      <td>2020-06-11</td>\n",
       "      <td>-0.023147</td>\n",
       "      <td>-0.048664</td>\n",
       "      <td>-0.008395</td>\n",
       "      <td>-0.064365</td>\n",
       "      <td>0.948103</td>\n",
       "      <td>-0.064365</td>\n",
       "    </tr>\n",
       "    <tr>\n",
       "      <th>57</th>\n",
       "      <td>ADBE</td>\n",
       "      <td>2020-06-11</td>\n",
       "      <td>-0.014098</td>\n",
       "      <td>-0.030339</td>\n",
       "      <td>0.001026</td>\n",
       "      <td>-0.047072</td>\n",
       "      <td>0.141793</td>\n",
       "      <td>-0.047072</td>\n",
       "    </tr>\n",
       "    <tr>\n",
       "      <th>...</th>\n",
       "      <td>...</td>\n",
       "      <td>...</td>\n",
       "      <td>...</td>\n",
       "      <td>...</td>\n",
       "      <td>...</td>\n",
       "      <td>...</td>\n",
       "      <td>...</td>\n",
       "      <td>...</td>\n",
       "    </tr>\n",
       "    <tr>\n",
       "      <th>1345</th>\n",
       "      <td>VZ</td>\n",
       "      <td>2020-06-11</td>\n",
       "      <td>-0.004980</td>\n",
       "      <td>-0.022530</td>\n",
       "      <td>-0.007254</td>\n",
       "      <td>-0.027562</td>\n",
       "      <td>0.715315</td>\n",
       "      <td>-0.027562</td>\n",
       "    </tr>\n",
       "    <tr>\n",
       "      <th>1359</th>\n",
       "      <td>WBA</td>\n",
       "      <td>2020-06-11</td>\n",
       "      <td>-0.053669</td>\n",
       "      <td>-0.078924</td>\n",
       "      <td>-0.051406</td>\n",
       "      <td>-0.079720</td>\n",
       "      <td>0.731859</td>\n",
       "      <td>-0.079720</td>\n",
       "    </tr>\n",
       "    <tr>\n",
       "      <th>1373</th>\n",
       "      <td>WFC</td>\n",
       "      <td>2020-06-11</td>\n",
       "      <td>-0.120631</td>\n",
       "      <td>-0.099494</td>\n",
       "      <td>-0.157895</td>\n",
       "      <td>-0.098283</td>\n",
       "      <td>-0.078800</td>\n",
       "      <td>-0.098283</td>\n",
       "    </tr>\n",
       "    <tr>\n",
       "      <th>1388</th>\n",
       "      <td>WMT</td>\n",
       "      <td>2020-06-12</td>\n",
       "      <td>-0.014929</td>\n",
       "      <td>-0.020254</td>\n",
       "      <td>-0.003967</td>\n",
       "      <td>-0.019569</td>\n",
       "      <td>-0.053260</td>\n",
       "      <td>-0.019569</td>\n",
       "    </tr>\n",
       "    <tr>\n",
       "      <th>1401</th>\n",
       "      <td>XOM</td>\n",
       "      <td>2020-06-11</td>\n",
       "      <td>-0.087103</td>\n",
       "      <td>-0.088933</td>\n",
       "      <td>-0.111589</td>\n",
       "      <td>-0.088253</td>\n",
       "      <td>0.257607</td>\n",
       "      <td>-0.088253</td>\n",
       "    </tr>\n",
       "  </tbody>\n",
       "</table>\n",
       "<p>101 rows × 8 columns</p>\n",
       "</div>"
      ],
      "text/plain": [
       "     Symbol       Date      High       Low      Open     Close    Volume  \\\n",
       "1      AAPL 2020-06-11 -0.010457 -0.030657  0.004053 -0.048010  0.210084   \n",
       "15     ABBV 2020-06-11 -0.024761 -0.049277 -0.013403 -0.047884  0.129867   \n",
       "29      ABT 2020-06-11 -0.002695 -0.040821  0.014529 -0.047526  0.401297   \n",
       "43      ACN 2020-06-11 -0.023147 -0.048664 -0.008395 -0.064365  0.948103   \n",
       "57     ADBE 2020-06-11 -0.014098 -0.030339  0.001026 -0.047072  0.141793   \n",
       "...     ...        ...       ...       ...       ...       ...       ...   \n",
       "1345     VZ 2020-06-11 -0.004980 -0.022530 -0.007254 -0.027562  0.715315   \n",
       "1359    WBA 2020-06-11 -0.053669 -0.078924 -0.051406 -0.079720  0.731859   \n",
       "1373    WFC 2020-06-11 -0.120631 -0.099494 -0.157895 -0.098283 -0.078800   \n",
       "1388    WMT 2020-06-12 -0.014929 -0.020254 -0.003967 -0.019569 -0.053260   \n",
       "1401    XOM 2020-06-11 -0.087103 -0.088933 -0.111589 -0.088253  0.257607   \n",
       "\n",
       "      Adj Close  \n",
       "1     -0.048010  \n",
       "15    -0.047884  \n",
       "29    -0.047526  \n",
       "43    -0.064365  \n",
       "57    -0.047072  \n",
       "...         ...  \n",
       "1345  -0.027562  \n",
       "1359  -0.079720  \n",
       "1373  -0.098283  \n",
       "1388  -0.019569  \n",
       "1401  -0.088253  \n",
       "\n",
       "[101 rows x 8 columns]"
      ]
     },
     "execution_count": 33,
     "metadata": {},
     "output_type": "execute_result"
    }
   ],
   "source": [
    "drops"
   ]
  },
  {
   "cell_type": "code",
   "execution_count": 34,
   "metadata": {
    "scrolled": true
   },
   "outputs": [
    {
     "name": "stderr",
     "output_type": "stream",
     "text": [
      "/Users/reejungkim/opt/anaconda3/envs/myenv/lib/python3.7/site-packages/ipykernel_launcher.py:1: SettingWithCopyWarning: \n",
      "A value is trying to be set on a copy of a slice from a DataFrame.\n",
      "Try using .loc[row_indexer,col_indexer] = value instead\n",
      "\n",
      "See the caveats in the documentation: https://pandas.pydata.org/pandas-docs/stable/user_guide/indexing.html#returning-a-view-versus-a-copy\n",
      "  \"\"\"Entry point for launching an IPython kernel.\n"
     ]
    }
   ],
   "source": [
    "drops['DateStr'] = drops['Date'].apply(lambda x: x.strftime('%Y/%m/%d'))"
   ]
  },
  {
   "cell_type": "code",
   "execution_count": 35,
   "metadata": {
    "scrolled": false
   },
   "outputs": [
    {
     "name": "stderr",
     "output_type": "stream",
     "text": [
      "/Users/reejungkim/opt/anaconda3/envs/myenv/lib/python3.7/site-packages/ipykernel_launcher.py:1: SettingWithCopyWarning: \n",
      "A value is trying to be set on a copy of a slice from a DataFrame.\n",
      "Try using .loc[row_indexer,col_indexer] = value instead\n",
      "\n",
      "See the caveats in the documentation: https://pandas.pydata.org/pandas-docs/stable/user_guide/indexing.html#returning-a-view-versus-a-copy\n",
      "  \"\"\"Entry point for launching an IPython kernel.\n"
     ]
    }
   ],
   "source": [
    "drops['search_key'] = drops['Symbol']  + ' ' + drops['DateStr']"
   ]
  },
  {
   "cell_type": "markdown",
   "metadata": {},
   "source": [
    "## Search and scrap what happened to the stock on the date"
   ]
  },
  {
   "cell_type": "code",
   "execution_count": 36,
   "metadata": {},
   "outputs": [],
   "source": [
    "search_list = drops.loc[drops['Symbol'].isin (tickers_bestPerformed.index)]['search_key'].tolist()"
   ]
  },
  {
   "cell_type": "code",
   "execution_count": 37,
   "metadata": {
    "scrolled": true
   },
   "outputs": [
    {
     "data": {
      "text/plain": [
       "['ADBE 2020/06/11',\n",
       " 'LLY 2020/06/11',\n",
       " 'NFLX 2020/06/26',\n",
       " 'PYPL 2020/06/11',\n",
       " 'UPS 2020/06/11']"
      ]
     },
     "execution_count": 37,
     "metadata": {},
     "output_type": "execute_result"
    }
   ],
   "source": [
    "search_list"
   ]
  },
  {
   "cell_type": "code",
   "execution_count": null,
   "metadata": {},
   "outputs": [],
   "source": []
  },
  {
   "cell_type": "code",
   "execution_count": 38,
   "metadata": {},
   "outputs": [],
   "source": [
    "driver = webdriver.Chrome('/Users/reejungkim/opt/anaconda3/libexec/chromedriver')  \n",
    "driver.get('https://news.google.com/topstories?hl=en-GB&tab=wn&gl=GB&ceid=GB:en')\n",
    "driver.implicitly_wait(3)"
   ]
  },
  {
   "cell_type": "code",
   "execution_count": 39,
   "metadata": {},
   "outputs": [],
   "source": [
    "xpath = '//*[@id=\"gb\"]/div[2]/div[2]/div/form/div[1]/div/div/div/div/div[1]/input[2]'\n",
    "search = driver.find_element_by_xpath(xpath)"
   ]
  },
  {
   "cell_type": "code",
   "execution_count": 40,
   "metadata": {
    "scrolled": true
   },
   "outputs": [],
   "source": [
    "titles = []\n",
    "links = []\n",
    "searched=[]\n",
    "\n",
    "for keyword in search_list:\n",
    "    driver.implicitly_wait(30)\n",
    "    search.clear()\n",
    "    search.send_keys(keyword)\n",
    "    search.send_keys(Keys.ENTER)\n",
    "    driver.implicitly_wait(30)\n",
    "\n",
    "    url = driver.current_url\n",
    "    resp = requests.get(url)\n",
    "    soup = BeautifulSoup(resp.text, 'lxml')\n",
    "\n",
    "    for link in soup.select('h3 >a')[:5]:\n",
    "        href = 'https://news.google.com' + link.get('href')[1:]\n",
    "        title = link.string\n",
    "        searched.append(keyword)\n",
    "        titles.append(title)\n",
    "        links.append(href)\n",
    "    \n",
    "    search.clear()"
   ]
  },
  {
   "cell_type": "code",
   "execution_count": 41,
   "metadata": {},
   "outputs": [],
   "source": [
    "news_data = { 'searched keyword': searched, 'title': titles, 'link': links}\n",
    "news_df = pd.DataFrame(news_data, columns=['searched keyword','title', 'link'])"
   ]
  },
  {
   "cell_type": "markdown",
   "metadata": {},
   "source": [
    "news_df['link'] = \"<a href=\" + \"\\\"{\" + news_df['link'] + \"}\" + \"\\\"\" + \">Click</a>\""
   ]
  },
  {
   "cell_type": "code",
   "execution_count": 42,
   "metadata": {
    "scrolled": true
   },
   "outputs": [
    {
     "data": {
      "text/html": [
       "<div>\n",
       "<style scoped>\n",
       "    .dataframe tbody tr th:only-of-type {\n",
       "        vertical-align: middle;\n",
       "    }\n",
       "\n",
       "    .dataframe tbody tr th {\n",
       "        vertical-align: top;\n",
       "    }\n",
       "\n",
       "    .dataframe thead th {\n",
       "        text-align: right;\n",
       "    }\n",
       "</style>\n",
       "<table border=\"1\" class=\"dataframe\">\n",
       "  <thead>\n",
       "    <tr style=\"text-align: right;\">\n",
       "      <th></th>\n",
       "      <th>searched keyword</th>\n",
       "      <th>title</th>\n",
       "      <th>link</th>\n",
       "    </tr>\n",
       "  </thead>\n",
       "  <tbody>\n",
       "    <tr>\n",
       "      <th>0</th>\n",
       "      <td>ADBE 2020/06/11</td>\n",
       "      <td>How Cloud Solutions Brought Adobe to the Top</td>\n",
       "      <td>https://news.google.com/articles/CBMiW2h0dHBzO...</td>\n",
       "    </tr>\n",
       "    <tr>\n",
       "      <th>1</th>\n",
       "      <td>ADBE 2020/06/11</td>\n",
       "      <td>Adobe stock rises as coronavirus work-from-hom...</td>\n",
       "      <td>https://news.google.com/articles/CAIiEEKuzfAQn...</td>\n",
       "    </tr>\n",
       "    <tr>\n",
       "      <th>2</th>\n",
       "      <td>ADBE 2020/06/11</td>\n",
       "      <td>7 Stocks To Watch For June 11, 2020</td>\n",
       "      <td>https://news.google.com/articles/CBMiWGh0dHBzO...</td>\n",
       "    </tr>\n",
       "    <tr>\n",
       "      <th>3</th>\n",
       "      <td>ADBE 2020/06/11</td>\n",
       "      <td>S&amp;P 500 Earnings Preview - Adobe Headlines Thu...</td>\n",
       "      <td>https://news.google.com/articles/CBMidGh0dHBzO...</td>\n",
       "    </tr>\n",
       "    <tr>\n",
       "      <th>4</th>\n",
       "      <td>ADBE 2020/06/11</td>\n",
       "      <td>After-Hours Stock Movers 06/11: (LPTX) (PLAY) ...</td>\n",
       "      <td>https://news.google.com/articles/CBMisAFodHRwc...</td>\n",
       "    </tr>\n",
       "    <tr>\n",
       "      <th>5</th>\n",
       "      <td>LLY 2020/06/11</td>\n",
       "      <td>Stocks making the biggest moves in the premark...</td>\n",
       "      <td>https://news.google.com/articles/CAIiEHgL8BRnh...</td>\n",
       "    </tr>\n",
       "    <tr>\n",
       "      <th>6</th>\n",
       "      <td>LLY 2020/06/11</td>\n",
       "      <td>Company News for Jun 11, 2020</td>\n",
       "      <td>https://news.google.com/articles/CBMiRmh0dHBzO...</td>\n",
       "    </tr>\n",
       "    <tr>\n",
       "      <th>7</th>\n",
       "      <td>LLY 2020/06/11</td>\n",
       "      <td>What to watch today: Dow set to sink on concer...</td>\n",
       "      <td>https://news.google.com/articles/CAIiEHktJmKSV...</td>\n",
       "    </tr>\n",
       "    <tr>\n",
       "      <th>8</th>\n",
       "      <td>LLY 2020/06/11</td>\n",
       "      <td>AbbVie Inks Deal With Genmab, Announces ADC Ca...</td>\n",
       "      <td>https://news.google.com/articles/CBMiT2h0dHBzO...</td>\n",
       "    </tr>\n",
       "    <tr>\n",
       "      <th>9</th>\n",
       "      <td>LLY 2020/06/11</td>\n",
       "      <td>Regeneron Begins Human Trials of a Potential C...</td>\n",
       "      <td>https://news.google.com/articles/CBMiYWh0dHBzO...</td>\n",
       "    </tr>\n",
       "    <tr>\n",
       "      <th>10</th>\n",
       "      <td>NFLX 2020/06/26</td>\n",
       "      <td>What’s New on Netflix UK Today: June 26th, 2020</td>\n",
       "      <td>https://news.google.com/articles/CAIiEFSE0insN...</td>\n",
       "    </tr>\n",
       "    <tr>\n",
       "      <th>11</th>\n",
       "      <td>NFLX 2020/06/26</td>\n",
       "      <td>New Releases on Netflix &amp; Top 10s: June 26th, ...</td>\n",
       "      <td>https://news.google.com/articles/CAIiEAbjrzXAm...</td>\n",
       "    </tr>\n",
       "    <tr>\n",
       "      <th>12</th>\n",
       "      <td>NFLX 2020/06/26</td>\n",
       "      <td>Sherlock Holmes is too nice in upcoming Netfli...</td>\n",
       "      <td>https://news.google.com/articles/CAIiEPguVv23a...</td>\n",
       "    </tr>\n",
       "    <tr>\n",
       "      <th>13</th>\n",
       "      <td>NFLX 2020/06/26</td>\n",
       "      <td>Sorry, Netflix, You Missed Your Marketing Move...</td>\n",
       "      <td>https://news.google.com/articles/CBMiZ2h0dHBzO...</td>\n",
       "    </tr>\n",
       "    <tr>\n",
       "      <th>14</th>\n",
       "      <td>NFLX 2020/06/26</td>\n",
       "      <td>What’s New on Netflix Canada This Week: June 2...</td>\n",
       "      <td>https://news.google.com/articles/CAIiEHq8fM9_l...</td>\n",
       "    </tr>\n",
       "    <tr>\n",
       "      <th>15</th>\n",
       "      <td>PYPL 2020/06/11</td>\n",
       "      <td>PayPal Holdings, Inc. (PYPL) Presents at RBC F...</td>\n",
       "      <td>https://news.google.com/articles/CAIiEE8q7sE__...</td>\n",
       "    </tr>\n",
       "    <tr>\n",
       "      <th>16</th>\n",
       "      <td>PYPL 2020/06/11</td>\n",
       "      <td>PayPal, Apple and YouTube collectively pledge ...</td>\n",
       "      <td>https://news.google.com/articles/CBMiZGh0dHBzO...</td>\n",
       "    </tr>\n",
       "    <tr>\n",
       "      <th>17</th>\n",
       "      <td>PYPL 2020/06/11</td>\n",
       "      <td>PayPal Holdings Inc. (PYPL) is predicted to po...</td>\n",
       "      <td>https://news.google.com/articles/CBMipgFodHRwc...</td>\n",
       "    </tr>\n",
       "    <tr>\n",
       "      <th>18</th>\n",
       "      <td>PYPL 2020/06/11</td>\n",
       "      <td>PayPal Commits $530 Mln To Support Black And M...</td>\n",
       "      <td>https://news.google.com/articles/CBMie2h0dHBzO...</td>\n",
       "    </tr>\n",
       "    <tr>\n",
       "      <th>19</th>\n",
       "      <td>PYPL 2020/06/11</td>\n",
       "      <td>The Zacks Analyst Blog Highlights: Tesla, PayP...</td>\n",
       "      <td>https://news.google.com/articles/CAIiEE9WmesT5...</td>\n",
       "    </tr>\n",
       "    <tr>\n",
       "      <th>20</th>\n",
       "      <td>UPS 2020/06/11</td>\n",
       "      <td>UPS grapples with Christmas-like shipping surg...</td>\n",
       "      <td>https://news.google.com/articles/CBMifWh0dHBzO...</td>\n",
       "    </tr>\n",
       "    <tr>\n",
       "      <th>21</th>\n",
       "      <td>UPS 2020/06/11</td>\n",
       "      <td>Stocks post their worst day since March</td>\n",
       "      <td>https://news.google.com/articles/CAIiEBkuf6OX3...</td>\n",
       "    </tr>\n",
       "    <tr>\n",
       "      <th>22</th>\n",
       "      <td>UPS 2020/06/11</td>\n",
       "      <td>Pandemic Ups The Ante For Digital Restaurant O...</td>\n",
       "      <td>https://news.google.com/articles/CBMibWh0dHBzO...</td>\n",
       "    </tr>\n",
       "    <tr>\n",
       "      <th>23</th>\n",
       "      <td>UPS 2020/06/11</td>\n",
       "      <td>Nigerian Start-ups For Online Final Competition</td>\n",
       "      <td>https://news.google.com/articles/CBMiYWh0dHBzO...</td>\n",
       "    </tr>\n",
       "    <tr>\n",
       "      <th>24</th>\n",
       "      <td>UPS 2020/06/11</td>\n",
       "      <td>EGBA ups GDPR commitment with code of conduct</td>\n",
       "      <td>https://news.google.com/articles/CBMiWmh0dHBzO...</td>\n",
       "    </tr>\n",
       "  </tbody>\n",
       "</table>\n",
       "</div>"
      ],
      "text/plain": [
       "   searched keyword                                              title  \\\n",
       "0   ADBE 2020/06/11       How Cloud Solutions Brought Adobe to the Top   \n",
       "1   ADBE 2020/06/11  Adobe stock rises as coronavirus work-from-hom...   \n",
       "2   ADBE 2020/06/11                7 Stocks To Watch For June 11, 2020   \n",
       "3   ADBE 2020/06/11  S&P 500 Earnings Preview - Adobe Headlines Thu...   \n",
       "4   ADBE 2020/06/11  After-Hours Stock Movers 06/11: (LPTX) (PLAY) ...   \n",
       "5    LLY 2020/06/11  Stocks making the biggest moves in the premark...   \n",
       "6    LLY 2020/06/11                      Company News for Jun 11, 2020   \n",
       "7    LLY 2020/06/11  What to watch today: Dow set to sink on concer...   \n",
       "8    LLY 2020/06/11  AbbVie Inks Deal With Genmab, Announces ADC Ca...   \n",
       "9    LLY 2020/06/11  Regeneron Begins Human Trials of a Potential C...   \n",
       "10  NFLX 2020/06/26    What’s New on Netflix UK Today: June 26th, 2020   \n",
       "11  NFLX 2020/06/26  New Releases on Netflix & Top 10s: June 26th, ...   \n",
       "12  NFLX 2020/06/26  Sherlock Holmes is too nice in upcoming Netfli...   \n",
       "13  NFLX 2020/06/26  Sorry, Netflix, You Missed Your Marketing Move...   \n",
       "14  NFLX 2020/06/26  What’s New on Netflix Canada This Week: June 2...   \n",
       "15  PYPL 2020/06/11  PayPal Holdings, Inc. (PYPL) Presents at RBC F...   \n",
       "16  PYPL 2020/06/11  PayPal, Apple and YouTube collectively pledge ...   \n",
       "17  PYPL 2020/06/11  PayPal Holdings Inc. (PYPL) is predicted to po...   \n",
       "18  PYPL 2020/06/11  PayPal Commits $530 Mln To Support Black And M...   \n",
       "19  PYPL 2020/06/11  The Zacks Analyst Blog Highlights: Tesla, PayP...   \n",
       "20   UPS 2020/06/11  UPS grapples with Christmas-like shipping surg...   \n",
       "21   UPS 2020/06/11            Stocks post their worst day since March   \n",
       "22   UPS 2020/06/11  Pandemic Ups The Ante For Digital Restaurant O...   \n",
       "23   UPS 2020/06/11    Nigerian Start-ups For Online Final Competition   \n",
       "24   UPS 2020/06/11      EGBA ups GDPR commitment with code of conduct   \n",
       "\n",
       "                                                 link  \n",
       "0   https://news.google.com/articles/CBMiW2h0dHBzO...  \n",
       "1   https://news.google.com/articles/CAIiEEKuzfAQn...  \n",
       "2   https://news.google.com/articles/CBMiWGh0dHBzO...  \n",
       "3   https://news.google.com/articles/CBMidGh0dHBzO...  \n",
       "4   https://news.google.com/articles/CBMisAFodHRwc...  \n",
       "5   https://news.google.com/articles/CAIiEHgL8BRnh...  \n",
       "6   https://news.google.com/articles/CBMiRmh0dHBzO...  \n",
       "7   https://news.google.com/articles/CAIiEHktJmKSV...  \n",
       "8   https://news.google.com/articles/CBMiT2h0dHBzO...  \n",
       "9   https://news.google.com/articles/CBMiYWh0dHBzO...  \n",
       "10  https://news.google.com/articles/CAIiEFSE0insN...  \n",
       "11  https://news.google.com/articles/CAIiEAbjrzXAm...  \n",
       "12  https://news.google.com/articles/CAIiEPguVv23a...  \n",
       "13  https://news.google.com/articles/CBMiZ2h0dHBzO...  \n",
       "14  https://news.google.com/articles/CAIiEHq8fM9_l...  \n",
       "15  https://news.google.com/articles/CAIiEE8q7sE__...  \n",
       "16  https://news.google.com/articles/CBMiZGh0dHBzO...  \n",
       "17  https://news.google.com/articles/CBMipgFodHRwc...  \n",
       "18  https://news.google.com/articles/CBMie2h0dHBzO...  \n",
       "19  https://news.google.com/articles/CAIiEE9WmesT5...  \n",
       "20  https://news.google.com/articles/CBMifWh0dHBzO...  \n",
       "21  https://news.google.com/articles/CAIiEBkuf6OX3...  \n",
       "22  https://news.google.com/articles/CBMibWh0dHBzO...  \n",
       "23  https://news.google.com/articles/CBMiYWh0dHBzO...  \n",
       "24  https://news.google.com/articles/CBMiWmh0dHBzO...  "
      ]
     },
     "execution_count": 42,
     "metadata": {},
     "output_type": "execute_result"
    }
   ],
   "source": [
    "news_df"
   ]
  },
  {
   "cell_type": "code",
   "execution_count": 43,
   "metadata": {},
   "outputs": [],
   "source": [
    "news_df.to_csv('./news.csv')"
   ]
  },
  {
   "cell_type": "markdown",
   "metadata": {},
   "source": [
    "#Open pdf file generated\n",
    "subprocess.run(['open', './news.csv'], check=True)"
   ]
  },
  {
   "cell_type": "code",
   "execution_count": null,
   "metadata": {},
   "outputs": [],
   "source": []
  },
  {
   "cell_type": "markdown",
   "metadata": {},
   "source": [
    "## S&P 100 total"
   ]
  },
  {
   "cell_type": "code",
   "execution_count": 44,
   "metadata": {},
   "outputs": [
    {
     "data": {
      "image/png": "[encoded data removed]",
      "text/plain": [
       "<Figure size 360x360 with 1 Axes>"
      ]
     },
     "metadata": {
      "needs_background": "light"
     },
     "output_type": "display_data"
    }
   ],
   "source": [
    "import matplotlib.pyplot as plt\n",
    "import seaborn as sns\n",
    "\n",
    "sns.relplot(x='Date', y='Close', kind='line', data=df_Flat).fig.autofmt_xdate()\n",
    "\n",
    "plt.grid(which=\"major\", color='k', linestyle='-.', linewidth=0.5)\n",
    "plt.title('S&P100 Total', fontsize=16)\n",
    "plt.ylabel('Close', fontsize=14)\n",
    "plt.xlabel('Date', fontsize=14)\n",
    "\n",
    "jpg_name = 'SP100_total.jpg'\n",
    "plt.savefig(jpg_name, bbox_inches='tight')"
   ]
  },
  {
   "cell_type": "code",
   "execution_count": null,
   "metadata": {},
   "outputs": [],
   "source": []
  },
  {
   "cell_type": "markdown",
   "metadata": {},
   "source": [
    "pd.options.display.float_format = '{:,.2%}'.format\n",
    "display(tickers_volatile), display(tickers_bestPerformed)"
   ]
  },
  {
   "cell_type": "code",
   "execution_count": 45,
   "metadata": {
    "scrolled": true
   },
   "outputs": [
    {
     "data": {
      "text/html": [
       "<div>\n",
       "<style scoped>\n",
       "    .dataframe tbody tr th:only-of-type {\n",
       "        vertical-align: middle;\n",
       "    }\n",
       "\n",
       "    .dataframe tbody tr th {\n",
       "        vertical-align: top;\n",
       "    }\n",
       "\n",
       "    .dataframe thead th {\n",
       "        text-align: right;\n",
       "    }\n",
       "</style>\n",
       "<table border=\"1\" class=\"dataframe\">\n",
       "  <thead>\n",
       "    <tr style=\"text-align: right;\">\n",
       "      <th></th>\n",
       "      <th></th>\n",
       "      <th>count</th>\n",
       "      <th>mean</th>\n",
       "      <th>std</th>\n",
       "      <th>min</th>\n",
       "      <th>25%</th>\n",
       "      <th>50%</th>\n",
       "      <th>75%</th>\n",
       "      <th>max</th>\n",
       "    </tr>\n",
       "    <tr>\n",
       "      <th>Symbol</th>\n",
       "      <th>Type</th>\n",
       "      <th></th>\n",
       "      <th></th>\n",
       "      <th></th>\n",
       "      <th></th>\n",
       "      <th></th>\n",
       "      <th></th>\n",
       "      <th></th>\n",
       "      <th></th>\n",
       "    </tr>\n",
       "  </thead>\n",
       "  <tbody>\n",
       "    <tr>\n",
       "      <th rowspan=\"6\" valign=\"top\">ADBE</th>\n",
       "      <th>Adj Close</th>\n",
       "      <td>14.0</td>\n",
       "      <td>419.64</td>\n",
       "      <td>15.64</td>\n",
       "      <td>387.67</td>\n",
       "      <td>408.03</td>\n",
       "      <td>422.33</td>\n",
       "      <td>430.76</td>\n",
       "      <td>440.55</td>\n",
       "    </tr>\n",
       "    <tr>\n",
       "      <th>Close</th>\n",
       "      <td>14.0</td>\n",
       "      <td>419.64</td>\n",
       "      <td>15.64</td>\n",
       "      <td>387.67</td>\n",
       "      <td>408.03</td>\n",
       "      <td>422.33</td>\n",
       "      <td>430.76</td>\n",
       "      <td>440.55</td>\n",
       "    </tr>\n",
       "    <tr>\n",
       "      <th>High</th>\n",
       "      <td>14.0</td>\n",
       "      <td>424.76</td>\n",
       "      <td>14.41</td>\n",
       "      <td>404.20</td>\n",
       "      <td>412.46</td>\n",
       "      <td>424.66</td>\n",
       "      <td>438.13</td>\n",
       "      <td>446.15</td>\n",
       "    </tr>\n",
       "    <tr>\n",
       "      <th>Low</th>\n",
       "      <td>14.0</td>\n",
       "      <td>413.51</td>\n",
       "      <td>14.79</td>\n",
       "      <td>387.37</td>\n",
       "      <td>400.99</td>\n",
       "      <td>414.51</td>\n",
       "      <td>426.78</td>\n",
       "      <td>436.01</td>\n",
       "    </tr>\n",
       "    <tr>\n",
       "      <th>Open</th>\n",
       "      <td>14.0</td>\n",
       "      <td>419.21</td>\n",
       "      <td>14.94</td>\n",
       "      <td>398.80</td>\n",
       "      <td>408.20</td>\n",
       "      <td>418.88</td>\n",
       "      <td>429.75</td>\n",
       "      <td>440.07</td>\n",
       "    </tr>\n",
       "    <tr>\n",
       "      <th>Volume</th>\n",
       "      <td>14.0</td>\n",
       "      <td>3607942.86</td>\n",
       "      <td>1503501.51</td>\n",
       "      <td>2111000.00</td>\n",
       "      <td>2733950.00</td>\n",
       "      <td>3470500.00</td>\n",
       "      <td>3817650.00</td>\n",
       "      <td>8329200.00</td>\n",
       "    </tr>\n",
       "    <tr>\n",
       "      <th rowspan=\"6\" valign=\"top\">LLY</th>\n",
       "      <th>Adj Close</th>\n",
       "      <td>14.0</td>\n",
       "      <td>156.43</td>\n",
       "      <td>7.93</td>\n",
       "      <td>141.52</td>\n",
       "      <td>152.51</td>\n",
       "      <td>159.96</td>\n",
       "      <td>162.31</td>\n",
       "      <td>163.71</td>\n",
       "    </tr>\n",
       "    <tr>\n",
       "      <th>Close</th>\n",
       "      <td>14.0</td>\n",
       "      <td>156.43</td>\n",
       "      <td>7.93</td>\n",
       "      <td>141.52</td>\n",
       "      <td>152.51</td>\n",
       "      <td>159.96</td>\n",
       "      <td>162.31</td>\n",
       "      <td>163.71</td>\n",
       "    </tr>\n",
       "    <tr>\n",
       "      <th>High</th>\n",
       "      <td>14.0</td>\n",
       "      <td>159.05</td>\n",
       "      <td>7.48</td>\n",
       "      <td>142.90</td>\n",
       "      <td>154.25</td>\n",
       "      <td>162.67</td>\n",
       "      <td>163.69</td>\n",
       "      <td>167.43</td>\n",
       "    </tr>\n",
       "    <tr>\n",
       "      <th>Low</th>\n",
       "      <td>14.0</td>\n",
       "      <td>154.07</td>\n",
       "      <td>7.41</td>\n",
       "      <td>139.68</td>\n",
       "      <td>151.13</td>\n",
       "      <td>157.46</td>\n",
       "      <td>158.94</td>\n",
       "      <td>161.03</td>\n",
       "    </tr>\n",
       "    <tr>\n",
       "      <th>Open</th>\n",
       "      <td>14.0</td>\n",
       "      <td>156.70</td>\n",
       "      <td>6.87</td>\n",
       "      <td>142.00</td>\n",
       "      <td>152.97</td>\n",
       "      <td>158.86</td>\n",
       "      <td>161.89</td>\n",
       "      <td>164.23</td>\n",
       "    </tr>\n",
       "    <tr>\n",
       "      <th>Volume</th>\n",
       "      <td>14.0</td>\n",
       "      <td>4766200.00</td>\n",
       "      <td>3126731.27</td>\n",
       "      <td>2640300.00</td>\n",
       "      <td>3229900.00</td>\n",
       "      <td>3854300.00</td>\n",
       "      <td>4882500.00</td>\n",
       "      <td>15029300.00</td>\n",
       "    </tr>\n",
       "    <tr>\n",
       "      <th rowspan=\"6\" valign=\"top\">NFLX</th>\n",
       "      <th>Adj Close</th>\n",
       "      <td>14.0</td>\n",
       "      <td>445.70</td>\n",
       "      <td>16.09</td>\n",
       "      <td>418.07</td>\n",
       "      <td>434.89</td>\n",
       "      <td>447.50</td>\n",
       "      <td>456.82</td>\n",
       "      <td>468.04</td>\n",
       "    </tr>\n",
       "    <tr>\n",
       "      <th>Close</th>\n",
       "      <td>14.0</td>\n",
       "      <td>445.70</td>\n",
       "      <td>16.09</td>\n",
       "      <td>418.07</td>\n",
       "      <td>434.89</td>\n",
       "      <td>447.50</td>\n",
       "      <td>456.82</td>\n",
       "      <td>468.04</td>\n",
       "    </tr>\n",
       "    <tr>\n",
       "      <th>High</th>\n",
       "      <td>14.0</td>\n",
       "      <td>452.76</td>\n",
       "      <td>15.28</td>\n",
       "      <td>426.49</td>\n",
       "      <td>441.16</td>\n",
       "      <td>451.61</td>\n",
       "      <td>467.78</td>\n",
       "      <td>474.01</td>\n",
       "    </tr>\n",
       "    <tr>\n",
       "      <th>Low</th>\n",
       "      <td>14.0</td>\n",
       "      <td>438.32</td>\n",
       "      <td>15.65</td>\n",
       "      <td>412.45</td>\n",
       "      <td>426.52</td>\n",
       "      <td>440.73</td>\n",
       "      <td>451.90</td>\n",
       "      <td>464.50</td>\n",
       "    </tr>\n",
       "    <tr>\n",
       "      <th>Open</th>\n",
       "      <td>14.0</td>\n",
       "      <td>445.75</td>\n",
       "      <td>16.04</td>\n",
       "      <td>421.40</td>\n",
       "      <td>430.75</td>\n",
       "      <td>446.98</td>\n",
       "      <td>457.90</td>\n",
       "      <td>468.54</td>\n",
       "    </tr>\n",
       "    <tr>\n",
       "      <th>Volume</th>\n",
       "      <td>14.0</td>\n",
       "      <td>5596750.00</td>\n",
       "      <td>1039530.53</td>\n",
       "      <td>4134500.00</td>\n",
       "      <td>4829925.00</td>\n",
       "      <td>5721200.00</td>\n",
       "      <td>6411075.00</td>\n",
       "      <td>7462900.00</td>\n",
       "    </tr>\n",
       "    <tr>\n",
       "      <th rowspan=\"6\" valign=\"top\">PYPL</th>\n",
       "      <th>Adj Close</th>\n",
       "      <td>14.0</td>\n",
       "      <td>164.71</td>\n",
       "      <td>6.46</td>\n",
       "      <td>153.04</td>\n",
       "      <td>160.24</td>\n",
       "      <td>166.18</td>\n",
       "      <td>169.78</td>\n",
       "      <td>172.79</td>\n",
       "    </tr>\n",
       "    <tr>\n",
       "      <th>Close</th>\n",
       "      <td>14.0</td>\n",
       "      <td>164.71</td>\n",
       "      <td>6.46</td>\n",
       "      <td>153.04</td>\n",
       "      <td>160.24</td>\n",
       "      <td>166.18</td>\n",
       "      <td>169.78</td>\n",
       "      <td>172.79</td>\n",
       "    </tr>\n",
       "    <tr>\n",
       "      <th>High</th>\n",
       "      <td>14.0</td>\n",
       "      <td>167.21</td>\n",
       "      <td>6.44</td>\n",
       "      <td>157.21</td>\n",
       "      <td>161.38</td>\n",
       "      <td>169.86</td>\n",
       "      <td>172.45</td>\n",
       "      <td>175.40</td>\n",
       "    </tr>\n",
       "    <tr>\n",
       "      <th>Low</th>\n",
       "      <td>14.0</td>\n",
       "      <td>161.82</td>\n",
       "      <td>6.24</td>\n",
       "      <td>151.89</td>\n",
       "      <td>157.78</td>\n",
       "      <td>164.15</td>\n",
       "      <td>165.56</td>\n",
       "      <td>170.40</td>\n",
       "    </tr>\n",
       "    <tr>\n",
       "      <th>Open</th>\n",
       "      <td>14.0</td>\n",
       "      <td>164.74</td>\n",
       "      <td>6.73</td>\n",
       "      <td>152.63</td>\n",
       "      <td>158.80</td>\n",
       "      <td>165.15</td>\n",
       "      <td>170.60</td>\n",
       "      <td>173.71</td>\n",
       "    </tr>\n",
       "    <tr>\n",
       "      <th>Volume</th>\n",
       "      <td>14.0</td>\n",
       "      <td>7411371.43</td>\n",
       "      <td>1730094.43</td>\n",
       "      <td>5115000.00</td>\n",
       "      <td>6045675.00</td>\n",
       "      <td>7364800.00</td>\n",
       "      <td>8477450.00</td>\n",
       "      <td>11332700.00</td>\n",
       "    </tr>\n",
       "    <tr>\n",
       "      <th rowspan=\"6\" valign=\"top\">UPS</th>\n",
       "      <th>Adj Close</th>\n",
       "      <td>14.0</td>\n",
       "      <td>106.91</td>\n",
       "      <td>2.98</td>\n",
       "      <td>100.47</td>\n",
       "      <td>106.03</td>\n",
       "      <td>107.15</td>\n",
       "      <td>109.05</td>\n",
       "      <td>110.61</td>\n",
       "    </tr>\n",
       "    <tr>\n",
       "      <th>Close</th>\n",
       "      <td>14.0</td>\n",
       "      <td>106.91</td>\n",
       "      <td>2.98</td>\n",
       "      <td>100.47</td>\n",
       "      <td>106.03</td>\n",
       "      <td>107.15</td>\n",
       "      <td>109.05</td>\n",
       "      <td>110.61</td>\n",
       "    </tr>\n",
       "    <tr>\n",
       "      <th>High</th>\n",
       "      <td>14.0</td>\n",
       "      <td>108.39</td>\n",
       "      <td>2.60</td>\n",
       "      <td>102.97</td>\n",
       "      <td>107.69</td>\n",
       "      <td>108.68</td>\n",
       "      <td>110.52</td>\n",
       "      <td>111.52</td>\n",
       "    </tr>\n",
       "    <tr>\n",
       "      <th>Low</th>\n",
       "      <td>14.0</td>\n",
       "      <td>105.25</td>\n",
       "      <td>3.12</td>\n",
       "      <td>99.59</td>\n",
       "      <td>104.20</td>\n",
       "      <td>106.19</td>\n",
       "      <td>107.67</td>\n",
       "      <td>108.47</td>\n",
       "    </tr>\n",
       "    <tr>\n",
       "      <th>Open</th>\n",
       "      <td>14.0</td>\n",
       "      <td>106.96</td>\n",
       "      <td>2.98</td>\n",
       "      <td>99.92</td>\n",
       "      <td>106.52</td>\n",
       "      <td>107.86</td>\n",
       "      <td>108.81</td>\n",
       "      <td>110.64</td>\n",
       "    </tr>\n",
       "    <tr>\n",
       "      <th>Volume</th>\n",
       "      <td>14.0</td>\n",
       "      <td>4792471.43</td>\n",
       "      <td>1614427.74</td>\n",
       "      <td>2987000.00</td>\n",
       "      <td>3494725.00</td>\n",
       "      <td>4398650.00</td>\n",
       "      <td>5484575.00</td>\n",
       "      <td>9027100.00</td>\n",
       "    </tr>\n",
       "  </tbody>\n",
       "</table>\n",
       "</div>"
      ],
      "text/plain": [
       "                  count        mean         std         min         25%  \\\n",
       "Symbol Type                                                               \n",
       "ADBE   Adj Close   14.0      419.64       15.64      387.67      408.03   \n",
       "       Close       14.0      419.64       15.64      387.67      408.03   \n",
       "       High        14.0      424.76       14.41      404.20      412.46   \n",
       "       Low         14.0      413.51       14.79      387.37      400.99   \n",
       "       Open        14.0      419.21       14.94      398.80      408.20   \n",
       "       Volume      14.0  3607942.86  1503501.51  2111000.00  2733950.00   \n",
       "LLY    Adj Close   14.0      156.43        7.93      141.52      152.51   \n",
       "       Close       14.0      156.43        7.93      141.52      152.51   \n",
       "       High        14.0      159.05        7.48      142.90      154.25   \n",
       "       Low         14.0      154.07        7.41      139.68      151.13   \n",
       "       Open        14.0      156.70        6.87      142.00      152.97   \n",
       "       Volume      14.0  4766200.00  3126731.27  2640300.00  3229900.00   \n",
       "NFLX   Adj Close   14.0      445.70       16.09      418.07      434.89   \n",
       "       Close       14.0      445.70       16.09      418.07      434.89   \n",
       "       High        14.0      452.76       15.28      426.49      441.16   \n",
       "       Low         14.0      438.32       15.65      412.45      426.52   \n",
       "       Open        14.0      445.75       16.04      421.40      430.75   \n",
       "       Volume      14.0  5596750.00  1039530.53  4134500.00  4829925.00   \n",
       "PYPL   Adj Close   14.0      164.71        6.46      153.04      160.24   \n",
       "       Close       14.0      164.71        6.46      153.04      160.24   \n",
       "       High        14.0      167.21        6.44      157.21      161.38   \n",
       "       Low         14.0      161.82        6.24      151.89      157.78   \n",
       "       Open        14.0      164.74        6.73      152.63      158.80   \n",
       "       Volume      14.0  7411371.43  1730094.43  5115000.00  6045675.00   \n",
       "UPS    Adj Close   14.0      106.91        2.98      100.47      106.03   \n",
       "       Close       14.0      106.91        2.98      100.47      106.03   \n",
       "       High        14.0      108.39        2.60      102.97      107.69   \n",
       "       Low         14.0      105.25        3.12       99.59      104.20   \n",
       "       Open        14.0      106.96        2.98       99.92      106.52   \n",
       "       Volume      14.0  4792471.43  1614427.74  2987000.00  3494725.00   \n",
       "\n",
       "                         50%         75%          max  \n",
       "Symbol Type                                            \n",
       "ADBE   Adj Close      422.33      430.76       440.55  \n",
       "       Close          422.33      430.76       440.55  \n",
       "       High           424.66      438.13       446.15  \n",
       "       Low            414.51      426.78       436.01  \n",
       "       Open           418.88      429.75       440.07  \n",
       "       Volume     3470500.00  3817650.00   8329200.00  \n",
       "LLY    Adj Close      159.96      162.31       163.71  \n",
       "       Close          159.96      162.31       163.71  \n",
       "       High           162.67      163.69       167.43  \n",
       "       Low            157.46      158.94       161.03  \n",
       "       Open           158.86      161.89       164.23  \n",
       "       Volume     3854300.00  4882500.00  15029300.00  \n",
       "NFLX   Adj Close      447.50      456.82       468.04  \n",
       "       Close          447.50      456.82       468.04  \n",
       "       High           451.61      467.78       474.01  \n",
       "       Low            440.73      451.90       464.50  \n",
       "       Open           446.98      457.90       468.54  \n",
       "       Volume     5721200.00  6411075.00   7462900.00  \n",
       "PYPL   Adj Close      166.18      169.78       172.79  \n",
       "       Close          166.18      169.78       172.79  \n",
       "       High           169.86      172.45       175.40  \n",
       "       Low            164.15      165.56       170.40  \n",
       "       Open           165.15      170.60       173.71  \n",
       "       Volume     7364800.00  8477450.00  11332700.00  \n",
       "UPS    Adj Close      107.15      109.05       110.61  \n",
       "       Close          107.15      109.05       110.61  \n",
       "       High           108.68      110.52       111.52  \n",
       "       Low            106.19      107.67       108.47  \n",
       "       Open           107.86      108.81       110.64  \n",
       "       Volume     4398650.00  5484575.00   9027100.00  "
      ]
     },
     "execution_count": 45,
     "metadata": {},
     "output_type": "execute_result"
    }
   ],
   "source": [
    "#pd.options.display.float_format = '{:,.2f}'.format\n",
    "dataToExport = df.loc[tickers_bestPerformed.index].unstack(0).describe()\n",
    "dataToExport = dataToExport.transpose().reset_index().groupby(['Symbol', 'level_0']).sum().round(2)\n",
    "\n",
    "dataToExport.rename_axis(index={\"level_0\":\"Type\"}, inplace=True)\n",
    "dataToExport"
   ]
  },
  {
   "cell_type": "code",
   "execution_count": 46,
   "metadata": {},
   "outputs": [],
   "source": [
    "#format_column_percentage(dataToExport, dataToExport.columns[1:])"
   ]
  },
  {
   "cell_type": "markdown",
   "metadata": {},
   "source": [
    "dataToExport2 = df.loc[tickers_bestPerformed.index].unstack(0).describe().stack(0)\n",
    "dataToExport2"
   ]
  },
  {
   "cell_type": "markdown",
   "metadata": {},
   "source": [
    "# Create PDF file"
   ]
  },
  {
   "cell_type": "code",
   "execution_count": 47,
   "metadata": {},
   "outputs": [],
   "source": [
    "today = dt.datetime.today().strftime('%Y-%m-%d')\n",
    "pdf_file_name = \"Report \"+ today +\".pdf\""
   ]
  },
  {
   "cell_type": "code",
   "execution_count": 48,
   "metadata": {},
   "outputs": [],
   "source": [
    "def PrepareTableForReportLab(dataframe):\n",
    "    \n",
    "    data = dataframe\n",
    "\n",
    "    'handling grouped first index column'\n",
    "    a= []\n",
    "    for i in range(len(data)):\n",
    "        #print(i, data.index.get_level_values(0)[i])\n",
    "        if data.index.get_level_values(0)[i-1] == data.index.get_level_values(0)[i]:\n",
    "            a.append(i)\n",
    "    a.sort(reverse=True)\n",
    "\n",
    "    as_list = data.index.get_level_values(0).tolist()\n",
    "    for i in a:\n",
    "        as_list[i] = \"\"\n",
    "\n",
    "        \n",
    "    'flat dataframe'\n",
    "    data = data.reset_index()\n",
    "    'remove duplicated values from first column which was index before resetting index'\n",
    "    first_col_name = data.columns[0]\n",
    "    data[first_col_name] = as_list \n",
    "    \n",
    "    #data = dataframe.reset_index()\n",
    "    #colwidths = 800/len(data.columns) \n",
    "    data = [data.columns.to_list()] + data.values.tolist() \n",
    "\n",
    "    #tbl = Table(data) # \n",
    "    tbl = Table(data) #, colwidths ) #, rowheights)\n",
    "    tbl.setStyle(TableStyle([\n",
    "    ('INNERGRID', (0, 0), (-1, -1), 0.25, colors.black),\n",
    "    ('BOX', (0, 0), (-1, -1), 0.25, colors.black),\n",
    "    ('ALIGN', (1,1), (-1,-1), 'RIGHT'),\n",
    "    ('BACKGROUND', (0,0), (-1,0), colors.Color(0,0.7,0.7))\n",
    "    ]))\n",
    "    \n",
    "    return tbl"
   ]
  },
  {
   "cell_type": "markdown",
   "metadata": {},
   "source": [
    "def PrepareTableForReportLab_News_df(dataframe):\n",
    "    \n",
    "    data = dataframe\n",
    "\n",
    "    'handling grouped first index column'\n",
    "    a= []\n",
    "    for i in range(len(data)):\n",
    "        #print(i, data.index.get_level_values(0)[i])\n",
    "        if data.index.get_level_values(0)[i-1] == data.index.get_level_values(0)[i]:\n",
    "            a.append(i)\n",
    "    a.sort(reverse=True)\n",
    "\n",
    "    as_list = data.index.get_level_values(0).tolist()\n",
    "    for i in a:\n",
    "        as_list[i] = \"\"\n",
    "\n",
    "        \n",
    "    'flat dataframe'\n",
    "    data = data.reset_index()\n",
    "    'remove duplicated values from first column which was index before resetting index'\n",
    "    first_col_name = data.columns[0]\n",
    "    data[first_col_name] = as_list \n",
    "    \n",
    "    #data = dataframe.reset_index()\n",
    "    colwidths = 800/len(data.columns) \n",
    "    rowheights = 1.5*inch\n",
    "    data = [data.columns.to_list()] + data.values.tolist() \n",
    "\n",
    "    #tbl = Table(data) # \n",
    "    tbl = Table(data , colwidths, rowheights)\n",
    "    tbl.setStyle(TableStyle([\n",
    "    ('INNERGRID', (0, 0), (-1, -1), 0.25, colors.black),\n",
    "    ('BOX', (0, 0), (-1, -1), 0.25, colors.black),\n",
    "    ('ALIGN', (1,1), (-1,-1), 'RIGHT'),\n",
    "    ('BACKGROUND', (0,0), (-1,0), colors.Color(0,0.7,0.7))\n",
    "    ]))\n",
    "    \n",
    "    return tbl"
   ]
  },
  {
   "cell_type": "code",
   "execution_count": 49,
   "metadata": {},
   "outputs": [],
   "source": [
    "story = []"
   ]
  },
  {
   "cell_type": "code",
   "execution_count": 50,
   "metadata": {
    "scrolled": true
   },
   "outputs": [],
   "source": [
    "story.append(Paragraph(\"Highest growth rates\", getSampleStyleSheet()['Heading1']))\n",
    "story.append(Paragraph(\"highest growth rates in past <i>\" + str(days_to_lookback) + \" days</i>.\",  getSampleStyleSheet()['Normal']))\n",
    "story.append(Spacer(1,20))\n",
    "story.append((PrepareTableForReportLab(dataToExport)))\n",
    "story.append(Spacer(1,20))\n",
    "story.append(PrepareTableForReportLab(tickers_bestPerformed))\n",
    "story.append(PageBreak())\n",
    "\n",
    "story.append(Paragraph(\"Volatility\", getSampleStyleSheet()['Heading1']))\n",
    "story.append(Paragraph(\"highest volatility rates in past <i>\" + str(days_to_lookback)  + \" days</i>.\",  getSampleStyleSheet()['Normal']))\n",
    "story.append(Spacer(1,20))\n",
    "story.append(PrepareTableForReportLab(tickers_volatile))\n",
    "story.append(PageBreak())"
   ]
  },
  {
   "cell_type": "markdown",
   "metadata": {},
   "source": [
    "#### Add graph images saved in the timestamped folder"
   ]
  },
  {
   "cell_type": "code",
   "execution_count": 51,
   "metadata": {},
   "outputs": [
    {
     "name": "stdout",
     "output_type": "stream",
     "text": [
      "image_highest growth closing price.jpg\n",
      "image_highest growth closing pct change.jpg\n",
      "image_2.jpg\n",
      "image_1.jpg\n",
      "image_SP100_total.jpg\n"
     ]
    }
   ],
   "source": [
    "for file in sorted(os.listdir(reportDir), key=os.path.getmtime):\n",
    "    if file.endswith('jpg'):\n",
    "        temp = file\n",
    "        temp = 'image_'+ temp\n",
    "        print(temp)\n",
    "        temp = Image(file)\n",
    "        #story.append(Spacer(1, 20))\n",
    "        story.append(temp)"
   ]
  },
  {
   "cell_type": "markdown",
   "metadata": {},
   "source": [
    "story.append(PageBreak())\n",
    "story.append(PrepareTableForReportLab_News_df(news_df))"
   ]
  },
  {
   "cell_type": "code",
   "execution_count": null,
   "metadata": {},
   "outputs": [],
   "source": []
  },
  {
   "cell_type": "code",
   "execution_count": 52,
   "metadata": {},
   "outputs": [],
   "source": [
    "doc = SimpleDocTemplate(pdf_file_name, pagesize = landscape(letter), topMargin = inch * .25, bottomMargin = inch * .25)\n",
    "doc.build(story)"
   ]
  },
  {
   "cell_type": "code",
   "execution_count": 53,
   "metadata": {},
   "outputs": [
    {
     "data": {
      "text/plain": [
       "CompletedProcess(args=['open', '/Users/reejungkim/Documents/Git/reporting automation/2020-06-30 13-28-50'], returncode=0)"
      ]
     },
     "execution_count": 53,
     "metadata": {},
     "output_type": "execute_result"
    }
   ],
   "source": [
    "#open folder\n",
    "subprocess.run(['open', reportDir], check=True)"
   ]
  },
  {
   "cell_type": "code",
   "execution_count": 54,
   "metadata": {
    "scrolled": true
   },
   "outputs": [
    {
     "data": {
      "text/plain": [
       "CompletedProcess(args=['open', 'Report 2020-06-30.pdf'], returncode=0)"
      ]
     },
     "execution_count": 54,
     "metadata": {},
     "output_type": "execute_result"
    }
   ],
   "source": [
    "#Open pdf file generated\n",
    "subprocess.run(['open', pdf_file_name], check=True)"
   ]
  },
  {
   "cell_type": "code",
   "execution_count": null,
   "metadata": {},
   "outputs": [],
   "source": []
  }
 ],
 "metadata": {
  "kernelspec": {
   "display_name": "Python 3",
   "language": "python",
   "name": "python3"
  },
  "language_info": {
   "codemirror_mode": {
    "name": "ipython",
    "version": 3
   },
   "file_extension": ".py",
   "mimetype": "text/x-python",
   "name": "python",
   "nbconvert_exporter": "python",
   "pygments_lexer": "ipython3",
   "version": "3.7.7"
  }
 },
 "nbformat": 4,
 "nbformat_minor": 4
}
