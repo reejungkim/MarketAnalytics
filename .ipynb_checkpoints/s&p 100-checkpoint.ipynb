{
 "cells": [
  {
   "cell_type": "code",
   "execution_count": 1,
   "metadata": {},
   "outputs": [
    {
     "name": "stderr",
     "output_type": "stream",
     "text": [
      "/Users/reejungkim/opt/anaconda3/envs/myenv/lib/python3.7/site-packages/pandas_datareader/compat/__init__.py:7: FutureWarning: pandas.util.testing is deprecated. Use the functions in the public API at pandas.testing instead.\n",
      "  from pandas.util.testing import assert_frame_equal\n"
     ]
    }
   ],
   "source": [
    "import timeit\n",
    "import datetime as dt\n",
    "import os\n",
    "import subprocess \n",
    "\n",
    "import pandas as pd\n",
    "import numpy as np\n",
    "\n",
    "#to get financial data\n",
    "from pandas_datareader import data as pdr\n",
    "#to get data using web scraping\n",
    "import requests\n",
    "from bs4 import BeautifulSoup\n",
    "\n",
    "#visualization\n",
    "import matplotlib.pyplot as plt\n",
    "#import plotly.graph_objs as go\n",
    "%matplotlib inline\n",
    "import seaborn as sns\n",
    "\n",
    "#from pylab import savefig\n",
    "\n",
    "#for pdf report generation\n",
    "#from matplotlib.backends.backend_pdf import PdfPages\n",
    "from reportlab.pdfgen import canvas\n",
    "from reportlab.platypus import *\n",
    "#from reportlab.platypus import Paragraph, Frame, KeepInFrame, Table, Spacer, TableStyle,  Image, pageBreak\n",
    "from reportlab.lib import colors\n",
    "from reportlab.lib.pagesizes import letter, landscape\n",
    "from reportlab.lib.styles import getSampleStyleSheet, ParagraphStyle\n",
    "from reportlab.lib.units import inch\n",
    "from reportlab.platypus.tableofcontents import TableOfContents\n"
   ]
  },
  {
   "cell_type": "code",
   "execution_count": 2,
   "metadata": {},
   "outputs": [],
   "source": [
    "days_to_lookback = 5"
   ]
  },
  {
   "cell_type": "code",
   "execution_count": 3,
   "metadata": {},
   "outputs": [],
   "source": [
    "date_end = dt.datetime.today()\n",
    "date_start = date_end - dt.timedelta(days_to_lookback)"
   ]
  },
  {
   "cell_type": "markdown",
   "metadata": {},
   "source": [
    "# Create timestamped folder to save reports created later"
   ]
  },
  {
   "cell_type": "code",
   "execution_count": 4,
   "metadata": {},
   "outputs": [
    {
     "data": {
      "text/plain": [
       "'2020-06-29 13-18-21'"
      ]
     },
     "execution_count": 4,
     "metadata": {},
     "output_type": "execute_result"
    }
   ],
   "source": [
    "#timestamp = str(dt.datetime.now()) <- '2020-06-26 20:26:08.775766'  \n",
    "timestamp =  dt.datetime.now().strftime('%Y-%m-%d %H-%M-%S')\n",
    "timestamp"
   ]
  },
  {
   "cell_type": "code",
   "execution_count": 5,
   "metadata": {},
   "outputs": [
    {
     "data": {
      "text/plain": [
       "'/Users/reejungkim/Documents/Git/reporting automation/2020-06-29 13-18-21'"
      ]
     },
     "execution_count": 5,
     "metadata": {},
     "output_type": "execute_result"
    }
   ],
   "source": [
    "path = os.getcwd() \n",
    "reportDir = os.path.join(path,timestamp)\n",
    "reportDir"
   ]
  },
  {
   "cell_type": "code",
   "execution_count": 6,
   "metadata": {},
   "outputs": [],
   "source": [
    "#create named folder\n",
    "os.makedirs(reportDir, exist_ok = False)"
   ]
  },
  {
   "cell_type": "code",
   "execution_count": 7,
   "metadata": {},
   "outputs": [],
   "source": [
    "os.chdir(reportDir)"
   ]
  },
  {
   "cell_type": "markdown",
   "metadata": {},
   "source": [
    "# Web scraping S&P100 companies from Wikipedia table"
   ]
  },
  {
   "cell_type": "code",
   "execution_count": 8,
   "metadata": {},
   "outputs": [],
   "source": [
    "website_url = requests.get(\"https://en.wikipedia.org/wiki/S%26P_100\").text\n",
    "\n",
    "soup = BeautifulSoup(website_url,'lxml')\n",
    "#print(soup.prettify())"
   ]
  },
  {
   "cell_type": "code",
   "execution_count": 9,
   "metadata": {},
   "outputs": [],
   "source": [
    "wiki_table = soup.find('table',{'class':'wikitable sortable'})"
   ]
  },
  {
   "cell_type": "code",
   "execution_count": 10,
   "metadata": {},
   "outputs": [],
   "source": [
    "data = []\n",
    "tHeader = []\n",
    "SP100_tickers = pd.DataFrame()\n",
    "\n",
    "for tr in wiki_table.find_all(\"tr\"):\n",
    "    for th in tr.find_all(\"th\")[:1]:\n",
    "        tHeader = th.get_text(strip=True)\n",
    "        SP100_tickers[tHeader] = []\n",
    "    for td in tr.find_all(\"td\")[:1]:\n",
    "        data.append( td.get_text(strip=True))\n",
    "        \n",
    "SP100_tickers[tHeader] = data"
   ]
  },
  {
   "cell_type": "code",
   "execution_count": 11,
   "metadata": {
    "scrolled": true
   },
   "outputs": [
    {
     "data": {
      "text/html": [
       "<div>\n",
       "<style scoped>\n",
       "    .dataframe tbody tr th:only-of-type {\n",
       "        vertical-align: middle;\n",
       "    }\n",
       "\n",
       "    .dataframe tbody tr th {\n",
       "        vertical-align: top;\n",
       "    }\n",
       "\n",
       "    .dataframe thead th {\n",
       "        text-align: right;\n",
       "    }\n",
       "</style>\n",
       "<table border=\"1\" class=\"dataframe\">\n",
       "  <thead>\n",
       "    <tr style=\"text-align: right;\">\n",
       "      <th></th>\n",
       "      <th>Symbol</th>\n",
       "    </tr>\n",
       "  </thead>\n",
       "  <tbody>\n",
       "    <tr>\n",
       "      <th>0</th>\n",
       "      <td>AAPL</td>\n",
       "    </tr>\n",
       "    <tr>\n",
       "      <th>1</th>\n",
       "      <td>ABBV</td>\n",
       "    </tr>\n",
       "    <tr>\n",
       "      <th>2</th>\n",
       "      <td>ABT</td>\n",
       "    </tr>\n",
       "    <tr>\n",
       "      <th>3</th>\n",
       "      <td>ACN</td>\n",
       "    </tr>\n",
       "    <tr>\n",
       "      <th>4</th>\n",
       "      <td>ADBE</td>\n",
       "    </tr>\n",
       "    <tr>\n",
       "      <th>...</th>\n",
       "      <td>...</td>\n",
       "    </tr>\n",
       "    <tr>\n",
       "      <th>96</th>\n",
       "      <td>VZ</td>\n",
       "    </tr>\n",
       "    <tr>\n",
       "      <th>97</th>\n",
       "      <td>WBA</td>\n",
       "    </tr>\n",
       "    <tr>\n",
       "      <th>98</th>\n",
       "      <td>WFC</td>\n",
       "    </tr>\n",
       "    <tr>\n",
       "      <th>99</th>\n",
       "      <td>WMT</td>\n",
       "    </tr>\n",
       "    <tr>\n",
       "      <th>100</th>\n",
       "      <td>XOM</td>\n",
       "    </tr>\n",
       "  </tbody>\n",
       "</table>\n",
       "<p>101 rows × 1 columns</p>\n",
       "</div>"
      ],
      "text/plain": [
       "    Symbol\n",
       "0     AAPL\n",
       "1     ABBV\n",
       "2      ABT\n",
       "3      ACN\n",
       "4     ADBE\n",
       "..     ...\n",
       "96      VZ\n",
       "97     WBA\n",
       "98     WFC\n",
       "99     WMT\n",
       "100    XOM\n",
       "\n",
       "[101 rows x 1 columns]"
      ]
     },
     "execution_count": 11,
     "metadata": {},
     "output_type": "execute_result"
    }
   ],
   "source": [
    "SP100_tickers"
   ]
  },
  {
   "cell_type": "markdown",
   "metadata": {},
   "source": [
    "# Use DataReader to get financial data of S&P100 companies from yahoo"
   ]
  },
  {
   "cell_type": "code",
   "execution_count": 12,
   "metadata": {
    "scrolled": true
   },
   "outputs": [
    {
     "name": "stdout",
     "output_type": "stream",
     "text": [
      "BRK.B - Err\n",
      "CPU times: user 7.79 s, sys: 583 ms, total: 8.37 s\n",
      "Wall time: 1min 3s\n"
     ]
    }
   ],
   "source": [
    "%%time\n",
    "\n",
    "df = pd.DataFrame()\n",
    "\n",
    "for i in data:\n",
    "    symbol = SP100_tickers.loc[SP100_tickers['Symbol']==i]\n",
    "    try:\n",
    "        symbol_data = pdr.DataReader(i, 'yahoo', date_start, date_end).reset_index()\n",
    "        #display(symbol_data)  \n",
    "    except: \n",
    "        print(i + \" - Err\")\n",
    "        symbol_data = pd.DataFrame()\n",
    "        pass\n",
    "    single_table = pd.concat([symbol, symbol_data], axis=0, ignore_index=True) #axis=0 <- row. add frames by row and use fill down.\n",
    "    single_table['Symbol'].ffill(inplace=True)\n",
    "    df = df.append(single_table)\n",
    "    "
   ]
  },
  {
   "cell_type": "code",
   "execution_count": 13,
   "metadata": {
    "scrolled": true
   },
   "outputs": [],
   "source": [
    "df = df.loc[df['Date'].notnull()]"
   ]
  },
  {
   "cell_type": "code",
   "execution_count": 14,
   "metadata": {},
   "outputs": [],
   "source": [
    "df = df.reset_index(drop=True)"
   ]
  },
  {
   "cell_type": "markdown",
   "metadata": {
    "scrolled": true
   },
   "source": [
    "df.groupby(['Symbol']).describe().transpose()"
   ]
  },
  {
   "cell_type": "code",
   "execution_count": 15,
   "metadata": {},
   "outputs": [],
   "source": [
    "df_Flat = df"
   ]
  },
  {
   "cell_type": "markdown",
   "metadata": {},
   "source": [
    "# Analytics"
   ]
  },
  {
   "cell_type": "markdown",
   "metadata": {},
   "source": [
    "###  main data frames to be used: \n",
    "#### 1. df_Flat\n",
    "#### 2. df  \n",
    "#### 3. df_Flat_pct_change"
   ]
  },
  {
   "cell_type": "code",
   "execution_count": 106,
   "metadata": {},
   "outputs": [
    {
     "data": {
      "text/html": [
       "<div>\n",
       "<style scoped>\n",
       "    .dataframe tbody tr th:only-of-type {\n",
       "        vertical-align: middle;\n",
       "    }\n",
       "\n",
       "    .dataframe tbody tr th {\n",
       "        vertical-align: top;\n",
       "    }\n",
       "\n",
       "    .dataframe thead th {\n",
       "        text-align: right;\n",
       "    }\n",
       "</style>\n",
       "<table border=\"1\" class=\"dataframe\">\n",
       "  <thead>\n",
       "    <tr style=\"text-align: right;\">\n",
       "      <th></th>\n",
       "      <th>Symbol</th>\n",
       "      <th>Date</th>\n",
       "      <th>High</th>\n",
       "      <th>Low</th>\n",
       "      <th>Open</th>\n",
       "      <th>Close</th>\n",
       "      <th>Volume</th>\n",
       "      <th>Adj Close</th>\n",
       "    </tr>\n",
       "  </thead>\n",
       "  <tbody>\n",
       "    <tr>\n",
       "      <th>0</th>\n",
       "      <td>AAPL</td>\n",
       "      <td>2020-06-24</td>\n",
       "      <td>368.790009</td>\n",
       "      <td>358.519989</td>\n",
       "      <td>365.000000</td>\n",
       "      <td>360.059998</td>\n",
       "      <td>48155800.0</td>\n",
       "      <td>360.059998</td>\n",
       "    </tr>\n",
       "    <tr>\n",
       "      <th>1</th>\n",
       "      <td>AAPL</td>\n",
       "      <td>2020-06-25</td>\n",
       "      <td>365.000000</td>\n",
       "      <td>357.570007</td>\n",
       "      <td>360.700012</td>\n",
       "      <td>364.839996</td>\n",
       "      <td>34380600.0</td>\n",
       "      <td>364.839996</td>\n",
       "    </tr>\n",
       "    <tr>\n",
       "      <th>2</th>\n",
       "      <td>AAPL</td>\n",
       "      <td>2020-06-26</td>\n",
       "      <td>365.320007</td>\n",
       "      <td>353.019989</td>\n",
       "      <td>364.410004</td>\n",
       "      <td>353.630005</td>\n",
       "      <td>51270100.0</td>\n",
       "      <td>353.630005</td>\n",
       "    </tr>\n",
       "    <tr>\n",
       "      <th>3</th>\n",
       "      <td>ABBV</td>\n",
       "      <td>2020-06-24</td>\n",
       "      <td>97.160004</td>\n",
       "      <td>94.349998</td>\n",
       "      <td>96.459999</td>\n",
       "      <td>95.139999</td>\n",
       "      <td>9025100.0</td>\n",
       "      <td>95.139999</td>\n",
       "    </tr>\n",
       "    <tr>\n",
       "      <th>4</th>\n",
       "      <td>ABBV</td>\n",
       "      <td>2020-06-25</td>\n",
       "      <td>97.070000</td>\n",
       "      <td>94.320000</td>\n",
       "      <td>95.180000</td>\n",
       "      <td>96.989998</td>\n",
       "      <td>6411700.0</td>\n",
       "      <td>96.989998</td>\n",
       "    </tr>\n",
       "    <tr>\n",
       "      <th>...</th>\n",
       "      <td>...</td>\n",
       "      <td>...</td>\n",
       "      <td>...</td>\n",
       "      <td>...</td>\n",
       "      <td>...</td>\n",
       "      <td>...</td>\n",
       "      <td>...</td>\n",
       "      <td>...</td>\n",
       "    </tr>\n",
       "    <tr>\n",
       "      <th>295</th>\n",
       "      <td>WMT</td>\n",
       "      <td>2020-06-25</td>\n",
       "      <td>120.160004</td>\n",
       "      <td>118.379997</td>\n",
       "      <td>119.760002</td>\n",
       "      <td>119.709999</td>\n",
       "      <td>6856600.0</td>\n",
       "      <td>119.709999</td>\n",
       "    </tr>\n",
       "    <tr>\n",
       "      <th>296</th>\n",
       "      <td>WMT</td>\n",
       "      <td>2020-06-26</td>\n",
       "      <td>120.839996</td>\n",
       "      <td>118.019997</td>\n",
       "      <td>119.599998</td>\n",
       "      <td>118.320000</td>\n",
       "      <td>8993300.0</td>\n",
       "      <td>118.320000</td>\n",
       "    </tr>\n",
       "    <tr>\n",
       "      <th>297</th>\n",
       "      <td>XOM</td>\n",
       "      <td>2020-06-24</td>\n",
       "      <td>45.959999</td>\n",
       "      <td>44.250000</td>\n",
       "      <td>45.910000</td>\n",
       "      <td>44.500000</td>\n",
       "      <td>27626900.0</td>\n",
       "      <td>44.500000</td>\n",
       "    </tr>\n",
       "    <tr>\n",
       "      <th>298</th>\n",
       "      <td>XOM</td>\n",
       "      <td>2020-06-25</td>\n",
       "      <td>45.240002</td>\n",
       "      <td>43.689999</td>\n",
       "      <td>44.049999</td>\n",
       "      <td>45.169998</td>\n",
       "      <td>19353600.0</td>\n",
       "      <td>45.169998</td>\n",
       "    </tr>\n",
       "    <tr>\n",
       "      <th>299</th>\n",
       "      <td>XOM</td>\n",
       "      <td>2020-06-26</td>\n",
       "      <td>44.939999</td>\n",
       "      <td>43.500000</td>\n",
       "      <td>44.880001</td>\n",
       "      <td>43.619999</td>\n",
       "      <td>31501700.0</td>\n",
       "      <td>43.619999</td>\n",
       "    </tr>\n",
       "  </tbody>\n",
       "</table>\n",
       "<p>300 rows × 8 columns</p>\n",
       "</div>"
      ],
      "text/plain": [
       "    Symbol       Date        High         Low        Open       Close  \\\n",
       "0     AAPL 2020-06-24  368.790009  358.519989  365.000000  360.059998   \n",
       "1     AAPL 2020-06-25  365.000000  357.570007  360.700012  364.839996   \n",
       "2     AAPL 2020-06-26  365.320007  353.019989  364.410004  353.630005   \n",
       "3     ABBV 2020-06-24   97.160004   94.349998   96.459999   95.139999   \n",
       "4     ABBV 2020-06-25   97.070000   94.320000   95.180000   96.989998   \n",
       "..     ...        ...         ...         ...         ...         ...   \n",
       "295    WMT 2020-06-25  120.160004  118.379997  119.760002  119.709999   \n",
       "296    WMT 2020-06-26  120.839996  118.019997  119.599998  118.320000   \n",
       "297    XOM 2020-06-24   45.959999   44.250000   45.910000   44.500000   \n",
       "298    XOM 2020-06-25   45.240002   43.689999   44.049999   45.169998   \n",
       "299    XOM 2020-06-26   44.939999   43.500000   44.880001   43.619999   \n",
       "\n",
       "         Volume   Adj Close  \n",
       "0    48155800.0  360.059998  \n",
       "1    34380600.0  364.839996  \n",
       "2    51270100.0  353.630005  \n",
       "3     9025100.0   95.139999  \n",
       "4     6411700.0   96.989998  \n",
       "..          ...         ...  \n",
       "295   6856600.0  119.709999  \n",
       "296   8993300.0  118.320000  \n",
       "297  27626900.0   44.500000  \n",
       "298  19353600.0   45.169998  \n",
       "299  31501700.0   43.619999  \n",
       "\n",
       "[300 rows x 8 columns]"
      ]
     },
     "execution_count": 106,
     "metadata": {},
     "output_type": "execute_result"
    }
   ],
   "source": [
    "df_Flat"
   ]
  },
  {
   "cell_type": "code",
   "execution_count": 107,
   "metadata": {},
   "outputs": [
    {
     "data": {
      "text/html": [
       "<div>\n",
       "<style scoped>\n",
       "    .dataframe tbody tr th:only-of-type {\n",
       "        vertical-align: middle;\n",
       "    }\n",
       "\n",
       "    .dataframe tbody tr th {\n",
       "        vertical-align: top;\n",
       "    }\n",
       "\n",
       "    .dataframe thead th {\n",
       "        text-align: right;\n",
       "    }\n",
       "</style>\n",
       "<table border=\"1\" class=\"dataframe\">\n",
       "  <thead>\n",
       "    <tr style=\"text-align: right;\">\n",
       "      <th></th>\n",
       "      <th></th>\n",
       "      <th>High</th>\n",
       "      <th>Low</th>\n",
       "      <th>Open</th>\n",
       "      <th>Close</th>\n",
       "      <th>Volume</th>\n",
       "      <th>Adj Close</th>\n",
       "    </tr>\n",
       "    <tr>\n",
       "      <th>Symbol</th>\n",
       "      <th>Date</th>\n",
       "      <th></th>\n",
       "      <th></th>\n",
       "      <th></th>\n",
       "      <th></th>\n",
       "      <th></th>\n",
       "      <th></th>\n",
       "    </tr>\n",
       "  </thead>\n",
       "  <tbody>\n",
       "    <tr>\n",
       "      <th rowspan=\"3\" valign=\"top\">AAPL</th>\n",
       "      <th>2020-06-24</th>\n",
       "      <td>368.790009</td>\n",
       "      <td>358.519989</td>\n",
       "      <td>365.000000</td>\n",
       "      <td>360.059998</td>\n",
       "      <td>48155800.0</td>\n",
       "      <td>360.059998</td>\n",
       "    </tr>\n",
       "    <tr>\n",
       "      <th>2020-06-25</th>\n",
       "      <td>365.000000</td>\n",
       "      <td>357.570007</td>\n",
       "      <td>360.700012</td>\n",
       "      <td>364.839996</td>\n",
       "      <td>34380600.0</td>\n",
       "      <td>364.839996</td>\n",
       "    </tr>\n",
       "    <tr>\n",
       "      <th>2020-06-26</th>\n",
       "      <td>365.320007</td>\n",
       "      <td>353.019989</td>\n",
       "      <td>364.410004</td>\n",
       "      <td>353.630005</td>\n",
       "      <td>51270100.0</td>\n",
       "      <td>353.630005</td>\n",
       "    </tr>\n",
       "    <tr>\n",
       "      <th rowspan=\"2\" valign=\"top\">ABBV</th>\n",
       "      <th>2020-06-24</th>\n",
       "      <td>97.160004</td>\n",
       "      <td>94.349998</td>\n",
       "      <td>96.459999</td>\n",
       "      <td>95.139999</td>\n",
       "      <td>9025100.0</td>\n",
       "      <td>95.139999</td>\n",
       "    </tr>\n",
       "    <tr>\n",
       "      <th>2020-06-25</th>\n",
       "      <td>97.070000</td>\n",
       "      <td>94.320000</td>\n",
       "      <td>95.180000</td>\n",
       "      <td>96.989998</td>\n",
       "      <td>6411700.0</td>\n",
       "      <td>96.989998</td>\n",
       "    </tr>\n",
       "    <tr>\n",
       "      <th>...</th>\n",
       "      <th>...</th>\n",
       "      <td>...</td>\n",
       "      <td>...</td>\n",
       "      <td>...</td>\n",
       "      <td>...</td>\n",
       "      <td>...</td>\n",
       "      <td>...</td>\n",
       "    </tr>\n",
       "    <tr>\n",
       "      <th rowspan=\"2\" valign=\"top\">WMT</th>\n",
       "      <th>2020-06-25</th>\n",
       "      <td>120.160004</td>\n",
       "      <td>118.379997</td>\n",
       "      <td>119.760002</td>\n",
       "      <td>119.709999</td>\n",
       "      <td>6856600.0</td>\n",
       "      <td>119.709999</td>\n",
       "    </tr>\n",
       "    <tr>\n",
       "      <th>2020-06-26</th>\n",
       "      <td>120.839996</td>\n",
       "      <td>118.019997</td>\n",
       "      <td>119.599998</td>\n",
       "      <td>118.320000</td>\n",
       "      <td>8993300.0</td>\n",
       "      <td>118.320000</td>\n",
       "    </tr>\n",
       "    <tr>\n",
       "      <th rowspan=\"3\" valign=\"top\">XOM</th>\n",
       "      <th>2020-06-24</th>\n",
       "      <td>45.959999</td>\n",
       "      <td>44.250000</td>\n",
       "      <td>45.910000</td>\n",
       "      <td>44.500000</td>\n",
       "      <td>27626900.0</td>\n",
       "      <td>44.500000</td>\n",
       "    </tr>\n",
       "    <tr>\n",
       "      <th>2020-06-25</th>\n",
       "      <td>45.240002</td>\n",
       "      <td>43.689999</td>\n",
       "      <td>44.049999</td>\n",
       "      <td>45.169998</td>\n",
       "      <td>19353600.0</td>\n",
       "      <td>45.169998</td>\n",
       "    </tr>\n",
       "    <tr>\n",
       "      <th>2020-06-26</th>\n",
       "      <td>44.939999</td>\n",
       "      <td>43.500000</td>\n",
       "      <td>44.880001</td>\n",
       "      <td>43.619999</td>\n",
       "      <td>31501700.0</td>\n",
       "      <td>43.619999</td>\n",
       "    </tr>\n",
       "  </tbody>\n",
       "</table>\n",
       "<p>300 rows × 6 columns</p>\n",
       "</div>"
      ],
      "text/plain": [
       "                         High         Low        Open       Close      Volume  \\\n",
       "Symbol Date                                                                     \n",
       "AAPL   2020-06-24  368.790009  358.519989  365.000000  360.059998  48155800.0   \n",
       "       2020-06-25  365.000000  357.570007  360.700012  364.839996  34380600.0   \n",
       "       2020-06-26  365.320007  353.019989  364.410004  353.630005  51270100.0   \n",
       "ABBV   2020-06-24   97.160004   94.349998   96.459999   95.139999   9025100.0   \n",
       "       2020-06-25   97.070000   94.320000   95.180000   96.989998   6411700.0   \n",
       "...                       ...         ...         ...         ...         ...   \n",
       "WMT    2020-06-25  120.160004  118.379997  119.760002  119.709999   6856600.0   \n",
       "       2020-06-26  120.839996  118.019997  119.599998  118.320000   8993300.0   \n",
       "XOM    2020-06-24   45.959999   44.250000   45.910000   44.500000  27626900.0   \n",
       "       2020-06-25   45.240002   43.689999   44.049999   45.169998  19353600.0   \n",
       "       2020-06-26   44.939999   43.500000   44.880001   43.619999  31501700.0   \n",
       "\n",
       "                    Adj Close  \n",
       "Symbol Date                    \n",
       "AAPL   2020-06-24  360.059998  \n",
       "       2020-06-25  364.839996  \n",
       "       2020-06-26  353.630005  \n",
       "ABBV   2020-06-24   95.139999  \n",
       "       2020-06-25   96.989998  \n",
       "...                       ...  \n",
       "WMT    2020-06-25  119.709999  \n",
       "       2020-06-26  118.320000  \n",
       "XOM    2020-06-24   44.500000  \n",
       "       2020-06-25   45.169998  \n",
       "       2020-06-26   43.619999  \n",
       "\n",
       "[300 rows x 6 columns]"
      ]
     },
     "execution_count": 107,
     "metadata": {},
     "output_type": "execute_result"
    }
   ],
   "source": [
    "df = df.groupby(['Symbol', 'Date']).sum()\n",
    "\n",
    "df"
   ]
  },
  {
   "cell_type": "code",
   "execution_count": 177,
   "metadata": {
    "scrolled": false
   },
   "outputs": [
    {
     "data": {
      "text/html": [
       "<div>\n",
       "<style scoped>\n",
       "    .dataframe tbody tr th:only-of-type {\n",
       "        vertical-align: middle;\n",
       "    }\n",
       "\n",
       "    .dataframe tbody tr th {\n",
       "        vertical-align: top;\n",
       "    }\n",
       "\n",
       "    .dataframe thead th {\n",
       "        text-align: right;\n",
       "    }\n",
       "</style>\n",
       "<table border=\"1\" class=\"dataframe\">\n",
       "  <thead>\n",
       "    <tr style=\"text-align: right;\">\n",
       "      <th></th>\n",
       "      <th>Symbol</th>\n",
       "      <th>Date</th>\n",
       "      <th>High</th>\n",
       "      <th>Low</th>\n",
       "      <th>Open</th>\n",
       "      <th>Close</th>\n",
       "      <th>Volume</th>\n",
       "      <th>Adj Close</th>\n",
       "    </tr>\n",
       "  </thead>\n",
       "  <tbody>\n",
       "    <tr>\n",
       "      <th>0</th>\n",
       "      <td>AAPL</td>\n",
       "      <td>2020-06-24</td>\n",
       "      <td>NaN</td>\n",
       "      <td>NaN</td>\n",
       "      <td>NaN</td>\n",
       "      <td>NaN</td>\n",
       "      <td>NaN</td>\n",
       "      <td>NaN</td>\n",
       "    </tr>\n",
       "    <tr>\n",
       "      <th>1</th>\n",
       "      <td>AAPL</td>\n",
       "      <td>2020-06-25</td>\n",
       "      <td>-0.010277</td>\n",
       "      <td>-0.002650</td>\n",
       "      <td>-0.011781</td>\n",
       "      <td>0.013276</td>\n",
       "      <td>-0.286055</td>\n",
       "      <td>0.013276</td>\n",
       "    </tr>\n",
       "    <tr>\n",
       "      <th>2</th>\n",
       "      <td>AAPL</td>\n",
       "      <td>2020-06-26</td>\n",
       "      <td>0.000877</td>\n",
       "      <td>-0.012725</td>\n",
       "      <td>0.010286</td>\n",
       "      <td>-0.030726</td>\n",
       "      <td>0.491251</td>\n",
       "      <td>-0.030726</td>\n",
       "    </tr>\n",
       "    <tr>\n",
       "      <th>3</th>\n",
       "      <td>ABBV</td>\n",
       "      <td>2020-06-24</td>\n",
       "      <td>NaN</td>\n",
       "      <td>NaN</td>\n",
       "      <td>NaN</td>\n",
       "      <td>NaN</td>\n",
       "      <td>NaN</td>\n",
       "      <td>NaN</td>\n",
       "    </tr>\n",
       "    <tr>\n",
       "      <th>4</th>\n",
       "      <td>ABBV</td>\n",
       "      <td>2020-06-25</td>\n",
       "      <td>-0.000926</td>\n",
       "      <td>-0.000318</td>\n",
       "      <td>-0.013270</td>\n",
       "      <td>0.019445</td>\n",
       "      <td>-0.289570</td>\n",
       "      <td>0.019445</td>\n",
       "    </tr>\n",
       "    <tr>\n",
       "      <th>...</th>\n",
       "      <td>...</td>\n",
       "      <td>...</td>\n",
       "      <td>...</td>\n",
       "      <td>...</td>\n",
       "      <td>...</td>\n",
       "      <td>...</td>\n",
       "      <td>...</td>\n",
       "      <td>...</td>\n",
       "    </tr>\n",
       "    <tr>\n",
       "      <th>295</th>\n",
       "      <td>WMT</td>\n",
       "      <td>2020-06-25</td>\n",
       "      <td>-0.007926</td>\n",
       "      <td>-0.010035</td>\n",
       "      <td>-0.008117</td>\n",
       "      <td>-0.004904</td>\n",
       "      <td>-0.002183</td>\n",
       "      <td>-0.004904</td>\n",
       "    </tr>\n",
       "    <tr>\n",
       "      <th>296</th>\n",
       "      <td>WMT</td>\n",
       "      <td>2020-06-26</td>\n",
       "      <td>0.005659</td>\n",
       "      <td>-0.003041</td>\n",
       "      <td>-0.001336</td>\n",
       "      <td>-0.011611</td>\n",
       "      <td>0.311627</td>\n",
       "      <td>-0.011611</td>\n",
       "    </tr>\n",
       "    <tr>\n",
       "      <th>297</th>\n",
       "      <td>XOM</td>\n",
       "      <td>2020-06-24</td>\n",
       "      <td>NaN</td>\n",
       "      <td>NaN</td>\n",
       "      <td>NaN</td>\n",
       "      <td>NaN</td>\n",
       "      <td>NaN</td>\n",
       "      <td>NaN</td>\n",
       "    </tr>\n",
       "    <tr>\n",
       "      <th>298</th>\n",
       "      <td>XOM</td>\n",
       "      <td>2020-06-25</td>\n",
       "      <td>-0.015666</td>\n",
       "      <td>-0.012655</td>\n",
       "      <td>-0.040514</td>\n",
       "      <td>0.015056</td>\n",
       "      <td>-0.299465</td>\n",
       "      <td>0.015056</td>\n",
       "    </tr>\n",
       "    <tr>\n",
       "      <th>299</th>\n",
       "      <td>XOM</td>\n",
       "      <td>2020-06-26</td>\n",
       "      <td>-0.006631</td>\n",
       "      <td>-0.004349</td>\n",
       "      <td>0.018842</td>\n",
       "      <td>-0.034315</td>\n",
       "      <td>0.627692</td>\n",
       "      <td>-0.034315</td>\n",
       "    </tr>\n",
       "  </tbody>\n",
       "</table>\n",
       "<p>300 rows × 8 columns</p>\n",
       "</div>"
      ],
      "text/plain": [
       "    Symbol       Date      High       Low      Open     Close    Volume  \\\n",
       "0     AAPL 2020-06-24       NaN       NaN       NaN       NaN       NaN   \n",
       "1     AAPL 2020-06-25 -0.010277 -0.002650 -0.011781  0.013276 -0.286055   \n",
       "2     AAPL 2020-06-26  0.000877 -0.012725  0.010286 -0.030726  0.491251   \n",
       "3     ABBV 2020-06-24       NaN       NaN       NaN       NaN       NaN   \n",
       "4     ABBV 2020-06-25 -0.000926 -0.000318 -0.013270  0.019445 -0.289570   \n",
       "..     ...        ...       ...       ...       ...       ...       ...   \n",
       "295    WMT 2020-06-25 -0.007926 -0.010035 -0.008117 -0.004904 -0.002183   \n",
       "296    WMT 2020-06-26  0.005659 -0.003041 -0.001336 -0.011611  0.311627   \n",
       "297    XOM 2020-06-24       NaN       NaN       NaN       NaN       NaN   \n",
       "298    XOM 2020-06-25 -0.015666 -0.012655 -0.040514  0.015056 -0.299465   \n",
       "299    XOM 2020-06-26 -0.006631 -0.004349  0.018842 -0.034315  0.627692   \n",
       "\n",
       "     Adj Close  \n",
       "0          NaN  \n",
       "1     0.013276  \n",
       "2    -0.030726  \n",
       "3          NaN  \n",
       "4     0.019445  \n",
       "..         ...  \n",
       "295  -0.004904  \n",
       "296  -0.011611  \n",
       "297        NaN  \n",
       "298   0.015056  \n",
       "299  -0.034315  \n",
       "\n",
       "[300 rows x 8 columns]"
      ]
     },
     "execution_count": 177,
     "metadata": {},
     "output_type": "execute_result"
    }
   ],
   "source": [
    "df_Flat_pct_change = pd.DataFrame()\n",
    "\n",
    "for i in df_Flat.columns.tolist():\n",
    "    if i !=\"Symbol\" and i!=\"Date\" :\n",
    "        data = df_Flat.groupby('Symbol')[i].pct_change()\n",
    "        df_Flat_pct_change[i] = data\n",
    "\n",
    "df_Flat_pct_change['Symbol'] = df_Flat['Symbol']\n",
    "df_Flat_pct_change['Date'] = df_Flat['Date']\n",
    "\n",
    "df_Flat_pct_change\n",
    "cols = df_Flat.columns.tolist()\n",
    "df_Flat_pct_change = df_Flat_pct_change[cols]\n",
    "\n",
    "df_Flat_pct_change"
   ]
  },
  {
   "cell_type": "code",
   "execution_count": 178,
   "metadata": {},
   "outputs": [
    {
     "data": {
      "text/html": [
       "<div>\n",
       "<style scoped>\n",
       "    .dataframe tbody tr th:only-of-type {\n",
       "        vertical-align: middle;\n",
       "    }\n",
       "\n",
       "    .dataframe tbody tr th {\n",
       "        vertical-align: top;\n",
       "    }\n",
       "\n",
       "    .dataframe thead tr th {\n",
       "        text-align: left;\n",
       "    }\n",
       "\n",
       "    .dataframe thead tr:last-of-type th {\n",
       "        text-align: right;\n",
       "    }\n",
       "</style>\n",
       "<table border=\"1\" class=\"dataframe\">\n",
       "  <thead>\n",
       "    <tr>\n",
       "      <th></th>\n",
       "      <th colspan=\"10\" halign=\"left\">High</th>\n",
       "      <th>...</th>\n",
       "      <th colspan=\"10\" halign=\"left\">Adj Close</th>\n",
       "    </tr>\n",
       "    <tr>\n",
       "      <th>Symbol</th>\n",
       "      <th>AAPL</th>\n",
       "      <th>ABBV</th>\n",
       "      <th>ABT</th>\n",
       "      <th>ACN</th>\n",
       "      <th>ADBE</th>\n",
       "      <th>AIG</th>\n",
       "      <th>ALL</th>\n",
       "      <th>AMGN</th>\n",
       "      <th>AMT</th>\n",
       "      <th>AMZN</th>\n",
       "      <th>...</th>\n",
       "      <th>UNH</th>\n",
       "      <th>UNP</th>\n",
       "      <th>UPS</th>\n",
       "      <th>USB</th>\n",
       "      <th>V</th>\n",
       "      <th>VZ</th>\n",
       "      <th>WBA</th>\n",
       "      <th>WFC</th>\n",
       "      <th>WMT</th>\n",
       "      <th>XOM</th>\n",
       "    </tr>\n",
       "    <tr>\n",
       "      <th>Date</th>\n",
       "      <th></th>\n",
       "      <th></th>\n",
       "      <th></th>\n",
       "      <th></th>\n",
       "      <th></th>\n",
       "      <th></th>\n",
       "      <th></th>\n",
       "      <th></th>\n",
       "      <th></th>\n",
       "      <th></th>\n",
       "      <th></th>\n",
       "      <th></th>\n",
       "      <th></th>\n",
       "      <th></th>\n",
       "      <th></th>\n",
       "      <th></th>\n",
       "      <th></th>\n",
       "      <th></th>\n",
       "      <th></th>\n",
       "      <th></th>\n",
       "      <th></th>\n",
       "    </tr>\n",
       "  </thead>\n",
       "  <tbody>\n",
       "    <tr>\n",
       "      <th>2020-06-24</th>\n",
       "      <td>NaN</td>\n",
       "      <td>NaN</td>\n",
       "      <td>NaN</td>\n",
       "      <td>NaN</td>\n",
       "      <td>NaN</td>\n",
       "      <td>NaN</td>\n",
       "      <td>NaN</td>\n",
       "      <td>NaN</td>\n",
       "      <td>NaN</td>\n",
       "      <td>NaN</td>\n",
       "      <td>...</td>\n",
       "      <td>NaN</td>\n",
       "      <td>NaN</td>\n",
       "      <td>NaN</td>\n",
       "      <td>NaN</td>\n",
       "      <td>NaN</td>\n",
       "      <td>NaN</td>\n",
       "      <td>NaN</td>\n",
       "      <td>NaN</td>\n",
       "      <td>NaN</td>\n",
       "      <td>NaN</td>\n",
       "    </tr>\n",
       "    <tr>\n",
       "      <th>2020-06-25</th>\n",
       "      <td>-0.010277</td>\n",
       "      <td>-0.000926</td>\n",
       "      <td>-0.010140</td>\n",
       "      <td>0.050579</td>\n",
       "      <td>-0.010572</td>\n",
       "      <td>-0.009482</td>\n",
       "      <td>-0.000209</td>\n",
       "      <td>-0.006582</td>\n",
       "      <td>-0.02751</td>\n",
       "      <td>-0.014224</td>\n",
       "      <td>...</td>\n",
       "      <td>0.024345</td>\n",
       "      <td>0.008879</td>\n",
       "      <td>0.009315</td>\n",
       "      <td>0.032004</td>\n",
       "      <td>0.013427</td>\n",
       "      <td>0.006490</td>\n",
       "      <td>0.021132</td>\n",
       "      <td>0.047856</td>\n",
       "      <td>-0.004904</td>\n",
       "      <td>0.015056</td>\n",
       "    </tr>\n",
       "    <tr>\n",
       "      <th>2020-06-26</th>\n",
       "      <td>0.000877</td>\n",
       "      <td>-0.000412</td>\n",
       "      <td>0.001559</td>\n",
       "      <td>-0.004406</td>\n",
       "      <td>0.000434</td>\n",
       "      <td>-0.014678</td>\n",
       "      <td>-0.001877</td>\n",
       "      <td>0.006031</td>\n",
       "      <td>0.00840</td>\n",
       "      <td>0.009557</td>\n",
       "      <td>...</td>\n",
       "      <td>-0.031531</td>\n",
       "      <td>-0.026224</td>\n",
       "      <td>-0.028954</td>\n",
       "      <td>-0.052300</td>\n",
       "      <td>-0.024281</td>\n",
       "      <td>-0.020634</td>\n",
       "      <td>-0.020695</td>\n",
       "      <td>-0.074169</td>\n",
       "      <td>-0.011611</td>\n",
       "      <td>-0.034315</td>\n",
       "    </tr>\n",
       "  </tbody>\n",
       "</table>\n",
       "<p>3 rows × 600 columns</p>\n",
       "</div>"
      ],
      "text/plain": [
       "                High                                                    \\\n",
       "Symbol          AAPL      ABBV       ABT       ACN      ADBE       AIG   \n",
       "Date                                                                     \n",
       "2020-06-24       NaN       NaN       NaN       NaN       NaN       NaN   \n",
       "2020-06-25 -0.010277 -0.000926 -0.010140  0.050579 -0.010572 -0.009482   \n",
       "2020-06-26  0.000877 -0.000412  0.001559 -0.004406  0.000434 -0.014678   \n",
       "\n",
       "                                                   ... Adj Close            \\\n",
       "Symbol           ALL      AMGN      AMT      AMZN  ...       UNH       UNP   \n",
       "Date                                               ...                       \n",
       "2020-06-24       NaN       NaN      NaN       NaN  ...       NaN       NaN   \n",
       "2020-06-25 -0.000209 -0.006582 -0.02751 -0.014224  ...  0.024345  0.008879   \n",
       "2020-06-26 -0.001877  0.006031  0.00840  0.009557  ... -0.031531 -0.026224   \n",
       "\n",
       "                                                                        \\\n",
       "Symbol           UPS       USB         V        VZ       WBA       WFC   \n",
       "Date                                                                     \n",
       "2020-06-24       NaN       NaN       NaN       NaN       NaN       NaN   \n",
       "2020-06-25  0.009315  0.032004  0.013427  0.006490  0.021132  0.047856   \n",
       "2020-06-26 -0.028954 -0.052300 -0.024281 -0.020634 -0.020695 -0.074169   \n",
       "\n",
       "                                \n",
       "Symbol           WMT       XOM  \n",
       "Date                            \n",
       "2020-06-24       NaN       NaN  \n",
       "2020-06-25 -0.004904  0.015056  \n",
       "2020-06-26 -0.011611 -0.034315  \n",
       "\n",
       "[3 rows x 600 columns]"
      ]
     },
     "execution_count": 178,
     "metadata": {},
     "output_type": "execute_result"
    }
   ],
   "source": [
    "df_temp = df.unstack(level=0).pct_change()  #df.groupby(['Symbol', 'Date']).sum().pct_change()\n",
    "\n",
    "df_temp"
   ]
  },
  {
   "cell_type": "markdown",
   "metadata": {},
   "source": [
    "## Functions defined"
   ]
  },
  {
   "cell_type": "code",
   "execution_count": 179,
   "metadata": {},
   "outputs": [],
   "source": [
    "def format_column_number(dataframe, listCols):\n",
    "    for col in listCols:\n",
    "        try:\n",
    "            dataframe[col]= pd.Series([round(val, 2 ) for val in dataframe[col]], index= dataframe.index)\n",
    "        except ValueError:  #skips error when the column is in format already\n",
    "            dataframe[col] = dataframe[col]\n",
    "            pass\n",
    "    return dataframe\n",
    "\n",
    "def format_column_percentage(dataframe, listCols):\n",
    "    for col in listCols:\n",
    "        try:\n",
    "            dataframe[col] = pd.Series([\"{0:.2f}%\".format(val*100) for val in dataframe[col]], index= dataframe.index)\n",
    "        except ValueError:  #skips error when the column is in format already\n",
    "            dataframe[col] = dataframe[col]\n",
    "        \n",
    "    return dataframe"
   ]
  },
  {
   "cell_type": "code",
   "execution_count": 180,
   "metadata": {},
   "outputs": [],
   "source": [
    "def CreatePctPlotAndSavefig(listTickers, stringTitle, stringYlabel, jpg_name):\n",
    "    sns.relplot(x='Date', y='Close', kind='line', hue ='Symbol',data=df_Flat_pct_change.groupby(['Symbol', 'Date']).sum().loc[listTickers].reset_index()).fig.autofmt_xdate()\n",
    "    plt.grid(which=\"major\", color='k', linestyle='-.', linewidth=0.5)\n",
    "    plt.title(stringTitle, fontsize=16)\n",
    "    plt.ylabel(stringYlabel, fontsize=14)\n",
    "    plt.xlabel('Date', fontsize=14)\n",
    "    #plt.tight_layout()\n",
    "\n",
    "    jpg_name = jpg_name + '.jpg'\n",
    "    plt.savefig(jpg_name, bbox_inches='tight')\n",
    "\n",
    "def CreatePlotAndSavefig(listTickers, stringTitle, stringYlabel, jpg_name):\n",
    "    sns.relplot(x='Date', y='Close', kind='line', hue ='Symbol',data=df.loc[listTickers].reset_index()).fig.autofmt_xdate()\n",
    "    plt.grid(which=\"major\", color='k', linestyle='-.', linewidth=0.5)\n",
    "    plt.title(stringTitle, fontsize=16)\n",
    "    plt.ylabel(stringYlabel, fontsize=14)\n",
    "    plt.xlabel('Date', fontsize=14)\n",
    "\n",
    "    jpg_name = jpg_name + '.jpg'\n",
    "    plt.savefig(jpg_name, bbox_inches='tight')"
   ]
  },
  {
   "cell_type": "markdown",
   "metadata": {},
   "source": [
    "### Best performed tickers based on percentage of of growth"
   ]
  },
  {
   "cell_type": "code",
   "execution_count": null,
   "metadata": {
    "scrolled": true
   },
   "outputs": [],
   "source": []
  },
  {
   "cell_type": "code",
   "execution_count": 181,
   "metadata": {},
   "outputs": [],
   "source": [
    "tickers_bestPerformed = df_temp['Close'].describe().transpose().sort_values(by='mean', ascending=False).head(5) #df_pct_change['Close'].describe().transpose().sort_values(by='mean', ascending=False).head(5)"
   ]
  },
  {
   "cell_type": "code",
   "execution_count": 182,
   "metadata": {},
   "outputs": [
    {
     "data": {
      "text/html": [
       "<div>\n",
       "<style scoped>\n",
       "    .dataframe tbody tr th:only-of-type {\n",
       "        vertical-align: middle;\n",
       "    }\n",
       "\n",
       "    .dataframe tbody tr th {\n",
       "        vertical-align: top;\n",
       "    }\n",
       "\n",
       "    .dataframe thead th {\n",
       "        text-align: right;\n",
       "    }\n",
       "</style>\n",
       "<table border=\"1\" class=\"dataframe\">\n",
       "  <thead>\n",
       "    <tr style=\"text-align: right;\">\n",
       "      <th></th>\n",
       "      <th>count</th>\n",
       "      <th>mean</th>\n",
       "      <th>std</th>\n",
       "      <th>min</th>\n",
       "      <th>25%</th>\n",
       "      <th>50%</th>\n",
       "      <th>75%</th>\n",
       "      <th>max</th>\n",
       "    </tr>\n",
       "    <tr>\n",
       "      <th>Symbol</th>\n",
       "      <th></th>\n",
       "      <th></th>\n",
       "      <th></th>\n",
       "      <th></th>\n",
       "      <th></th>\n",
       "      <th></th>\n",
       "      <th></th>\n",
       "      <th></th>\n",
       "    </tr>\n",
       "  </thead>\n",
       "  <tbody>\n",
       "    <tr>\n",
       "      <th>ACN</th>\n",
       "      <td>2.0</td>\n",
       "      <td>0.027189</td>\n",
       "      <td>0.070012</td>\n",
       "      <td>-0.022317</td>\n",
       "      <td>0.002436</td>\n",
       "      <td>0.027189</td>\n",
       "      <td>0.051942</td>\n",
       "      <td>0.076694</td>\n",
       "    </tr>\n",
       "    <tr>\n",
       "      <th>LLY</th>\n",
       "      <td>2.0</td>\n",
       "      <td>0.018471</td>\n",
       "      <td>0.026383</td>\n",
       "      <td>-0.000184</td>\n",
       "      <td>0.009144</td>\n",
       "      <td>0.018471</td>\n",
       "      <td>0.027799</td>\n",
       "      <td>0.037127</td>\n",
       "    </tr>\n",
       "    <tr>\n",
       "      <th>DOW</th>\n",
       "      <td>2.0</td>\n",
       "      <td>0.017645</td>\n",
       "      <td>0.031321</td>\n",
       "      <td>-0.004502</td>\n",
       "      <td>0.006571</td>\n",
       "      <td>0.017645</td>\n",
       "      <td>0.028718</td>\n",
       "      <td>0.039792</td>\n",
       "    </tr>\n",
       "    <tr>\n",
       "      <th>CSCO</th>\n",
       "      <td>2.0</td>\n",
       "      <td>0.017304</td>\n",
       "      <td>0.009618</td>\n",
       "      <td>0.010503</td>\n",
       "      <td>0.013903</td>\n",
       "      <td>0.017304</td>\n",
       "      <td>0.020704</td>\n",
       "      <td>0.024104</td>\n",
       "    </tr>\n",
       "    <tr>\n",
       "      <th>ALL</th>\n",
       "      <td>2.0</td>\n",
       "      <td>0.008970</td>\n",
       "      <td>0.031133</td>\n",
       "      <td>-0.013044</td>\n",
       "      <td>-0.002037</td>\n",
       "      <td>0.008970</td>\n",
       "      <td>0.019977</td>\n",
       "      <td>0.030984</td>\n",
       "    </tr>\n",
       "  </tbody>\n",
       "</table>\n",
       "</div>"
      ],
      "text/plain": [
       "        count      mean       std       min       25%       50%       75%  \\\n",
       "Symbol                                                                      \n",
       "ACN       2.0  0.027189  0.070012 -0.022317  0.002436  0.027189  0.051942   \n",
       "LLY       2.0  0.018471  0.026383 -0.000184  0.009144  0.018471  0.027799   \n",
       "DOW       2.0  0.017645  0.031321 -0.004502  0.006571  0.017645  0.028718   \n",
       "CSCO      2.0  0.017304  0.009618  0.010503  0.013903  0.017304  0.020704   \n",
       "ALL       2.0  0.008970  0.031133 -0.013044 -0.002037  0.008970  0.019977   \n",
       "\n",
       "             max  \n",
       "Symbol            \n",
       "ACN     0.076694  \n",
       "LLY     0.037127  \n",
       "DOW     0.039792  \n",
       "CSCO    0.024104  \n",
       "ALL     0.030984  "
      ]
     },
     "execution_count": 182,
     "metadata": {},
     "output_type": "execute_result"
    }
   ],
   "source": [
    "tickers_bestPerformed"
   ]
  },
  {
   "cell_type": "code",
   "execution_count": 183,
   "metadata": {
    "scrolled": true
   },
   "outputs": [
    {
     "data": {
      "text/html": [
       "<div>\n",
       "<style scoped>\n",
       "    .dataframe tbody tr th:only-of-type {\n",
       "        vertical-align: middle;\n",
       "    }\n",
       "\n",
       "    .dataframe tbody tr th {\n",
       "        vertical-align: top;\n",
       "    }\n",
       "\n",
       "    .dataframe thead th {\n",
       "        text-align: right;\n",
       "    }\n",
       "</style>\n",
       "<table border=\"1\" class=\"dataframe\">\n",
       "  <thead>\n",
       "    <tr style=\"text-align: right;\">\n",
       "      <th></th>\n",
       "      <th>count</th>\n",
       "      <th>mean</th>\n",
       "      <th>std</th>\n",
       "      <th>min</th>\n",
       "      <th>25%</th>\n",
       "      <th>50%</th>\n",
       "      <th>75%</th>\n",
       "      <th>max</th>\n",
       "    </tr>\n",
       "    <tr>\n",
       "      <th>Symbol</th>\n",
       "      <th></th>\n",
       "      <th></th>\n",
       "      <th></th>\n",
       "      <th></th>\n",
       "      <th></th>\n",
       "      <th></th>\n",
       "      <th></th>\n",
       "      <th></th>\n",
       "    </tr>\n",
       "  </thead>\n",
       "  <tbody>\n",
       "    <tr>\n",
       "      <th>ACN</th>\n",
       "      <td>2.0</td>\n",
       "      <td>2.72%</td>\n",
       "      <td>7.00%</td>\n",
       "      <td>-2.23%</td>\n",
       "      <td>0.24%</td>\n",
       "      <td>2.72%</td>\n",
       "      <td>5.19%</td>\n",
       "      <td>7.67%</td>\n",
       "    </tr>\n",
       "    <tr>\n",
       "      <th>LLY</th>\n",
       "      <td>2.0</td>\n",
       "      <td>1.85%</td>\n",
       "      <td>2.64%</td>\n",
       "      <td>-0.02%</td>\n",
       "      <td>0.91%</td>\n",
       "      <td>1.85%</td>\n",
       "      <td>2.78%</td>\n",
       "      <td>3.71%</td>\n",
       "    </tr>\n",
       "    <tr>\n",
       "      <th>DOW</th>\n",
       "      <td>2.0</td>\n",
       "      <td>1.76%</td>\n",
       "      <td>3.13%</td>\n",
       "      <td>-0.45%</td>\n",
       "      <td>0.66%</td>\n",
       "      <td>1.76%</td>\n",
       "      <td>2.87%</td>\n",
       "      <td>3.98%</td>\n",
       "    </tr>\n",
       "    <tr>\n",
       "      <th>CSCO</th>\n",
       "      <td>2.0</td>\n",
       "      <td>1.73%</td>\n",
       "      <td>0.96%</td>\n",
       "      <td>1.05%</td>\n",
       "      <td>1.39%</td>\n",
       "      <td>1.73%</td>\n",
       "      <td>2.07%</td>\n",
       "      <td>2.41%</td>\n",
       "    </tr>\n",
       "    <tr>\n",
       "      <th>ALL</th>\n",
       "      <td>2.0</td>\n",
       "      <td>0.90%</td>\n",
       "      <td>3.11%</td>\n",
       "      <td>-1.30%</td>\n",
       "      <td>-0.20%</td>\n",
       "      <td>0.90%</td>\n",
       "      <td>2.00%</td>\n",
       "      <td>3.10%</td>\n",
       "    </tr>\n",
       "  </tbody>\n",
       "</table>\n",
       "</div>"
      ],
      "text/plain": [
       "        count   mean    std     min     25%    50%    75%    max\n",
       "Symbol                                                          \n",
       "ACN       2.0  2.72%  7.00%  -2.23%   0.24%  2.72%  5.19%  7.67%\n",
       "LLY       2.0  1.85%  2.64%  -0.02%   0.91%  1.85%  2.78%  3.71%\n",
       "DOW       2.0  1.76%  3.13%  -0.45%   0.66%  1.76%  2.87%  3.98%\n",
       "CSCO      2.0  1.73%  0.96%   1.05%   1.39%  1.73%  2.07%  2.41%\n",
       "ALL       2.0  0.90%  3.11%  -1.30%  -0.20%  0.90%  2.00%  3.10%"
      ]
     },
     "execution_count": 183,
     "metadata": {},
     "output_type": "execute_result"
    }
   ],
   "source": [
    "tickers_bestPerformed = format_column_percentage(tickers_bestPerformed, tickers_bestPerformed.columns[1:])\n",
    "tickers_bestPerformed"
   ]
  },
  {
   "cell_type": "code",
   "execution_count": null,
   "metadata": {},
   "outputs": [],
   "source": []
  },
  {
   "cell_type": "code",
   "execution_count": 184,
   "metadata": {
    "scrolled": true
   },
   "outputs": [
    {
     "data": {
      "image/png": "[encoded data removed]",
      "text/plain": [
       "<Figure size 432.875x360 with 1 Axes>"
      ]
     },
     "metadata": {
      "needs_background": "light"
     },
     "output_type": "display_data"
    }
   ],
   "source": [
    "CreatePlotAndSavefig(tickers_bestPerformed.index, 'Best performed companies based on % Changes in Close Price', 'change in closing price ($)', 'highest growth closing price')"
   ]
  },
  {
   "cell_type": "code",
   "execution_count": 185,
   "metadata": {},
   "outputs": [
    {
     "data": {
      "image/png": "[encoded data removed]",
      "text/plain": [
       "<Figure size 432.875x360 with 1 Axes>"
      ]
     },
     "metadata": {
      "needs_background": "light"
     },
     "output_type": "display_data"
    }
   ],
   "source": [
    "CreatePctPlotAndSavefig(tickers_bestPerformed.index, 'Best performed companies based on % Changes in Close Price', 'change in closing price (%)', 'highest growth closing pct change')"
   ]
  },
  {
   "cell_type": "code",
   "execution_count": null,
   "metadata": {},
   "outputs": [],
   "source": []
  },
  {
   "cell_type": "markdown",
   "metadata": {},
   "source": [
    "## Volatility"
   ]
  },
  {
   "cell_type": "markdown",
   "metadata": {},
   "source": [
    "### most volatiled companies. (based on the standard deviation of percentage change)"
   ]
  },
  {
   "cell_type": "markdown",
   "metadata": {},
   "source": [
    "#### Top 5 companies with highest volatillity rates among S&P 100"
   ]
  },
  {
   "cell_type": "code",
   "execution_count": 186,
   "metadata": {},
   "outputs": [],
   "source": [
    "tickers_volatile = df_temp['Close'].describe().transpose().sort_values(by='std', ascending=False).head(5)#.round(2)\n",
    "tickers_volatile = format_column_percentage(tickers_volatile, tickers_volatile.columns[1:])"
   ]
  },
  {
   "cell_type": "code",
   "execution_count": 187,
   "metadata": {},
   "outputs": [
    {
     "data": {
      "text/plain": [
       "Index(['GS', 'WFC', 'COF', 'BAC', 'ACN'], dtype='object', name='Symbol')"
      ]
     },
     "execution_count": 187,
     "metadata": {},
     "output_type": "execute_result"
    }
   ],
   "source": [
    "tickers_volatile.index"
   ]
  },
  {
   "cell_type": "code",
   "execution_count": 188,
   "metadata": {},
   "outputs": [
    {
     "data": {
      "image/png": "[encoded data removed]",
      "text/plain": [
       "<Figure size 432.875x360 with 1 Axes>"
      ]
     },
     "metadata": {
      "needs_background": "light"
     },
     "output_type": "display_data"
    }
   ],
   "source": [
    "CreatePctPlotAndSavefig(tickers_volatile.index, 'Most volatiled companies based on % Changes in Close Price', 'change in closing price (%)', '1')"
   ]
  },
  {
   "cell_type": "code",
   "execution_count": 189,
   "metadata": {
    "scrolled": true
   },
   "outputs": [
    {
     "data": {
      "image/png": "[encoded data removed]",
      "text/plain": [
       "<Figure size 432.875x360 with 1 Axes>"
      ]
     },
     "metadata": {
      "needs_background": "light"
     },
     "output_type": "display_data"
    }
   ],
   "source": [
    "CreatePlotAndSavefig(tickers_volatile.index, 'Most volatiled companies based on % Changes in Close Price', 'change in closing price ($)', '2')"
   ]
  },
  {
   "cell_type": "code",
   "execution_count": null,
   "metadata": {},
   "outputs": [],
   "source": []
  },
  {
   "cell_type": "markdown",
   "metadata": {},
   "source": [
    "## Get date where highest drop and raise of closing price occured. "
   ]
  },
  {
   "cell_type": "code",
   "execution_count": 190,
   "metadata": {
    "scrolled": true
   },
   "outputs": [
    {
     "data": {
      "text/html": [
       "<div>\n",
       "<style scoped>\n",
       "    .dataframe tbody tr th:only-of-type {\n",
       "        vertical-align: middle;\n",
       "    }\n",
       "\n",
       "    .dataframe tbody tr th {\n",
       "        vertical-align: top;\n",
       "    }\n",
       "\n",
       "    .dataframe thead th {\n",
       "        text-align: right;\n",
       "    }\n",
       "</style>\n",
       "<table border=\"1\" class=\"dataframe\">\n",
       "  <thead>\n",
       "    <tr style=\"text-align: right;\">\n",
       "      <th></th>\n",
       "      <th>Symbol</th>\n",
       "      <th>Date</th>\n",
       "      <th>High</th>\n",
       "      <th>Low</th>\n",
       "      <th>Open</th>\n",
       "      <th>Close</th>\n",
       "      <th>Volume</th>\n",
       "      <th>Adj Close</th>\n",
       "    </tr>\n",
       "  </thead>\n",
       "  <tbody>\n",
       "    <tr>\n",
       "      <th>1</th>\n",
       "      <td>AAPL</td>\n",
       "      <td>2020-06-25</td>\n",
       "      <td>-0.010277</td>\n",
       "      <td>-0.002650</td>\n",
       "      <td>-0.011781</td>\n",
       "      <td>0.013276</td>\n",
       "      <td>-0.286055</td>\n",
       "      <td>0.013276</td>\n",
       "    </tr>\n",
       "    <tr>\n",
       "      <th>4</th>\n",
       "      <td>ABBV</td>\n",
       "      <td>2020-06-25</td>\n",
       "      <td>-0.000926</td>\n",
       "      <td>-0.000318</td>\n",
       "      <td>-0.013270</td>\n",
       "      <td>0.019445</td>\n",
       "      <td>-0.289570</td>\n",
       "      <td>0.019445</td>\n",
       "    </tr>\n",
       "    <tr>\n",
       "      <th>7</th>\n",
       "      <td>ABT</td>\n",
       "      <td>2020-06-25</td>\n",
       "      <td>-0.010140</td>\n",
       "      <td>-0.007602</td>\n",
       "      <td>-0.037405</td>\n",
       "      <td>0.026575</td>\n",
       "      <td>-0.058744</td>\n",
       "      <td>0.026575</td>\n",
       "    </tr>\n",
       "    <tr>\n",
       "      <th>10</th>\n",
       "      <td>ACN</td>\n",
       "      <td>2020-06-25</td>\n",
       "      <td>0.050579</td>\n",
       "      <td>0.054863</td>\n",
       "      <td>0.036446</td>\n",
       "      <td>0.076694</td>\n",
       "      <td>0.703236</td>\n",
       "      <td>0.076694</td>\n",
       "    </tr>\n",
       "    <tr>\n",
       "      <th>13</th>\n",
       "      <td>ADBE</td>\n",
       "      <td>2020-06-25</td>\n",
       "      <td>-0.010572</td>\n",
       "      <td>0.000257</td>\n",
       "      <td>-0.022705</td>\n",
       "      <td>0.012208</td>\n",
       "      <td>-0.316634</td>\n",
       "      <td>0.012208</td>\n",
       "    </tr>\n",
       "    <tr>\n",
       "      <th>...</th>\n",
       "      <td>...</td>\n",
       "      <td>...</td>\n",
       "      <td>...</td>\n",
       "      <td>...</td>\n",
       "      <td>...</td>\n",
       "      <td>...</td>\n",
       "      <td>...</td>\n",
       "      <td>...</td>\n",
       "    </tr>\n",
       "    <tr>\n",
       "      <th>286</th>\n",
       "      <td>VZ</td>\n",
       "      <td>2020-06-25</td>\n",
       "      <td>-0.003116</td>\n",
       "      <td>-0.002245</td>\n",
       "      <td>-0.011551</td>\n",
       "      <td>0.006490</td>\n",
       "      <td>-0.309426</td>\n",
       "      <td>0.006490</td>\n",
       "    </tr>\n",
       "    <tr>\n",
       "      <th>289</th>\n",
       "      <td>WBA</td>\n",
       "      <td>2020-06-25</td>\n",
       "      <td>-0.009606</td>\n",
       "      <td>-0.003182</td>\n",
       "      <td>-0.036551</td>\n",
       "      <td>0.021132</td>\n",
       "      <td>0.071182</td>\n",
       "      <td>0.021132</td>\n",
       "    </tr>\n",
       "    <tr>\n",
       "      <th>292</th>\n",
       "      <td>WFC</td>\n",
       "      <td>2020-06-25</td>\n",
       "      <td>0.014058</td>\n",
       "      <td>-0.003848</td>\n",
       "      <td>-0.037092</td>\n",
       "      <td>0.047856</td>\n",
       "      <td>-0.213986</td>\n",
       "      <td>0.047856</td>\n",
       "    </tr>\n",
       "    <tr>\n",
       "      <th>295</th>\n",
       "      <td>WMT</td>\n",
       "      <td>2020-06-25</td>\n",
       "      <td>-0.007926</td>\n",
       "      <td>-0.010035</td>\n",
       "      <td>-0.008117</td>\n",
       "      <td>-0.004904</td>\n",
       "      <td>-0.002183</td>\n",
       "      <td>-0.004904</td>\n",
       "    </tr>\n",
       "    <tr>\n",
       "      <th>298</th>\n",
       "      <td>XOM</td>\n",
       "      <td>2020-06-25</td>\n",
       "      <td>-0.015666</td>\n",
       "      <td>-0.012655</td>\n",
       "      <td>-0.040514</td>\n",
       "      <td>0.015056</td>\n",
       "      <td>-0.299465</td>\n",
       "      <td>0.015056</td>\n",
       "    </tr>\n",
       "  </tbody>\n",
       "</table>\n",
       "<p>100 rows × 8 columns</p>\n",
       "</div>"
      ],
      "text/plain": [
       "    Symbol       Date      High       Low      Open     Close    Volume  \\\n",
       "1     AAPL 2020-06-25 -0.010277 -0.002650 -0.011781  0.013276 -0.286055   \n",
       "4     ABBV 2020-06-25 -0.000926 -0.000318 -0.013270  0.019445 -0.289570   \n",
       "7      ABT 2020-06-25 -0.010140 -0.007602 -0.037405  0.026575 -0.058744   \n",
       "10     ACN 2020-06-25  0.050579  0.054863  0.036446  0.076694  0.703236   \n",
       "13    ADBE 2020-06-25 -0.010572  0.000257 -0.022705  0.012208 -0.316634   \n",
       "..     ...        ...       ...       ...       ...       ...       ...   \n",
       "286     VZ 2020-06-25 -0.003116 -0.002245 -0.011551  0.006490 -0.309426   \n",
       "289    WBA 2020-06-25 -0.009606 -0.003182 -0.036551  0.021132  0.071182   \n",
       "292    WFC 2020-06-25  0.014058 -0.003848 -0.037092  0.047856 -0.213986   \n",
       "295    WMT 2020-06-25 -0.007926 -0.010035 -0.008117 -0.004904 -0.002183   \n",
       "298    XOM 2020-06-25 -0.015666 -0.012655 -0.040514  0.015056 -0.299465   \n",
       "\n",
       "     Adj Close  \n",
       "1     0.013276  \n",
       "4     0.019445  \n",
       "7     0.026575  \n",
       "10    0.076694  \n",
       "13    0.012208  \n",
       "..         ...  \n",
       "286   0.006490  \n",
       "289   0.021132  \n",
       "292   0.047856  \n",
       "295  -0.004904  \n",
       "298   0.015056  \n",
       "\n",
       "[100 rows x 8 columns]"
      ]
     },
     "execution_count": 190,
     "metadata": {},
     "output_type": "execute_result"
    }
   ],
   "source": [
    "highest_raise = df_Flat_pct_change.groupby(['Symbol'])['Close'].transform(max) == df_Flat_pct_change['Close']\n",
    "df_Flat_pct_change[highest_raise]"
   ]
  },
  {
   "cell_type": "code",
   "execution_count": 191,
   "metadata": {
    "scrolled": true
   },
   "outputs": [],
   "source": [
    "highest_drop = df_Flat_pct_change.groupby(['Symbol'])['Close'].transform(min) == df_Flat_pct_change['Close']\n",
    "drops = df_Flat_pct_change[highest_drop]"
   ]
  },
  {
   "cell_type": "code",
   "execution_count": 192,
   "metadata": {},
   "outputs": [
    {
     "data": {
      "text/html": [
       "<div>\n",
       "<style scoped>\n",
       "    .dataframe tbody tr th:only-of-type {\n",
       "        vertical-align: middle;\n",
       "    }\n",
       "\n",
       "    .dataframe tbody tr th {\n",
       "        vertical-align: top;\n",
       "    }\n",
       "\n",
       "    .dataframe thead th {\n",
       "        text-align: right;\n",
       "    }\n",
       "</style>\n",
       "<table border=\"1\" class=\"dataframe\">\n",
       "  <thead>\n",
       "    <tr style=\"text-align: right;\">\n",
       "      <th></th>\n",
       "      <th>Symbol</th>\n",
       "      <th>Date</th>\n",
       "      <th>High</th>\n",
       "      <th>Low</th>\n",
       "      <th>Open</th>\n",
       "      <th>Close</th>\n",
       "      <th>Volume</th>\n",
       "      <th>Adj Close</th>\n",
       "    </tr>\n",
       "  </thead>\n",
       "  <tbody>\n",
       "    <tr>\n",
       "      <th>2</th>\n",
       "      <td>AAPL</td>\n",
       "      <td>2020-06-26</td>\n",
       "      <td>0.000877</td>\n",
       "      <td>-0.012725</td>\n",
       "      <td>0.010286</td>\n",
       "      <td>-0.030726</td>\n",
       "      <td>0.491251</td>\n",
       "      <td>-0.030726</td>\n",
       "    </tr>\n",
       "    <tr>\n",
       "      <th>5</th>\n",
       "      <td>ABBV</td>\n",
       "      <td>2020-06-26</td>\n",
       "      <td>-0.000412</td>\n",
       "      <td>0.007634</td>\n",
       "      <td>0.017966</td>\n",
       "      <td>-0.008867</td>\n",
       "      <td>1.271956</td>\n",
       "      <td>-0.008867</td>\n",
       "    </tr>\n",
       "    <tr>\n",
       "      <th>8</th>\n",
       "      <td>ABT</td>\n",
       "      <td>2020-06-26</td>\n",
       "      <td>0.001559</td>\n",
       "      <td>0.020659</td>\n",
       "      <td>0.029574</td>\n",
       "      <td>-0.010154</td>\n",
       "      <td>0.474097</td>\n",
       "      <td>-0.010154</td>\n",
       "    </tr>\n",
       "    <tr>\n",
       "      <th>11</th>\n",
       "      <td>ACN</td>\n",
       "      <td>2020-06-26</td>\n",
       "      <td>-0.004406</td>\n",
       "      <td>-0.002033</td>\n",
       "      <td>0.017746</td>\n",
       "      <td>-0.022317</td>\n",
       "      <td>-0.286086</td>\n",
       "      <td>-0.022317</td>\n",
       "    </tr>\n",
       "    <tr>\n",
       "      <th>14</th>\n",
       "      <td>ADBE</td>\n",
       "      <td>2020-06-26</td>\n",
       "      <td>0.000434</td>\n",
       "      <td>-0.006712</td>\n",
       "      <td>0.013930</td>\n",
       "      <td>-0.022955</td>\n",
       "      <td>0.682929</td>\n",
       "      <td>-0.022955</td>\n",
       "    </tr>\n",
       "    <tr>\n",
       "      <th>...</th>\n",
       "      <td>...</td>\n",
       "      <td>...</td>\n",
       "      <td>...</td>\n",
       "      <td>...</td>\n",
       "      <td>...</td>\n",
       "      <td>...</td>\n",
       "      <td>...</td>\n",
       "      <td>...</td>\n",
       "    </tr>\n",
       "    <tr>\n",
       "      <th>287</th>\n",
       "      <td>VZ</td>\n",
       "      <td>2020-06-26</td>\n",
       "      <td>-0.006067</td>\n",
       "      <td>-0.009186</td>\n",
       "      <td>0.002411</td>\n",
       "      <td>-0.020634</td>\n",
       "      <td>0.764001</td>\n",
       "      <td>-0.020634</td>\n",
       "    </tr>\n",
       "    <tr>\n",
       "      <th>290</th>\n",
       "      <td>WBA</td>\n",
       "      <td>2020-06-26</td>\n",
       "      <td>-0.008044</td>\n",
       "      <td>0.000737</td>\n",
       "      <td>0.018239</td>\n",
       "      <td>-0.020695</td>\n",
       "      <td>0.056527</td>\n",
       "      <td>-0.020695</td>\n",
       "    </tr>\n",
       "    <tr>\n",
       "      <th>293</th>\n",
       "      <td>WFC</td>\n",
       "      <td>2020-06-26</td>\n",
       "      <td>-0.036848</td>\n",
       "      <td>-0.024720</td>\n",
       "      <td>0.005393</td>\n",
       "      <td>-0.074169</td>\n",
       "      <td>0.797850</td>\n",
       "      <td>-0.074169</td>\n",
       "    </tr>\n",
       "    <tr>\n",
       "      <th>296</th>\n",
       "      <td>WMT</td>\n",
       "      <td>2020-06-26</td>\n",
       "      <td>0.005659</td>\n",
       "      <td>-0.003041</td>\n",
       "      <td>-0.001336</td>\n",
       "      <td>-0.011611</td>\n",
       "      <td>0.311627</td>\n",
       "      <td>-0.011611</td>\n",
       "    </tr>\n",
       "    <tr>\n",
       "      <th>299</th>\n",
       "      <td>XOM</td>\n",
       "      <td>2020-06-26</td>\n",
       "      <td>-0.006631</td>\n",
       "      <td>-0.004349</td>\n",
       "      <td>0.018842</td>\n",
       "      <td>-0.034315</td>\n",
       "      <td>0.627692</td>\n",
       "      <td>-0.034315</td>\n",
       "    </tr>\n",
       "  </tbody>\n",
       "</table>\n",
       "<p>100 rows × 8 columns</p>\n",
       "</div>"
      ],
      "text/plain": [
       "    Symbol       Date      High       Low      Open     Close    Volume  \\\n",
       "2     AAPL 2020-06-26  0.000877 -0.012725  0.010286 -0.030726  0.491251   \n",
       "5     ABBV 2020-06-26 -0.000412  0.007634  0.017966 -0.008867  1.271956   \n",
       "8      ABT 2020-06-26  0.001559  0.020659  0.029574 -0.010154  0.474097   \n",
       "11     ACN 2020-06-26 -0.004406 -0.002033  0.017746 -0.022317 -0.286086   \n",
       "14    ADBE 2020-06-26  0.000434 -0.006712  0.013930 -0.022955  0.682929   \n",
       "..     ...        ...       ...       ...       ...       ...       ...   \n",
       "287     VZ 2020-06-26 -0.006067 -0.009186  0.002411 -0.020634  0.764001   \n",
       "290    WBA 2020-06-26 -0.008044  0.000737  0.018239 -0.020695  0.056527   \n",
       "293    WFC 2020-06-26 -0.036848 -0.024720  0.005393 -0.074169  0.797850   \n",
       "296    WMT 2020-06-26  0.005659 -0.003041 -0.001336 -0.011611  0.311627   \n",
       "299    XOM 2020-06-26 -0.006631 -0.004349  0.018842 -0.034315  0.627692   \n",
       "\n",
       "     Adj Close  \n",
       "2    -0.030726  \n",
       "5    -0.008867  \n",
       "8    -0.010154  \n",
       "11   -0.022317  \n",
       "14   -0.022955  \n",
       "..         ...  \n",
       "287  -0.020634  \n",
       "290  -0.020695  \n",
       "293  -0.074169  \n",
       "296  -0.011611  \n",
       "299  -0.034315  \n",
       "\n",
       "[100 rows x 8 columns]"
      ]
     },
     "execution_count": 192,
     "metadata": {},
     "output_type": "execute_result"
    }
   ],
   "source": [
    "drops"
   ]
  },
  {
   "cell_type": "code",
   "execution_count": 193,
   "metadata": {
    "scrolled": true
   },
   "outputs": [
    {
     "name": "stderr",
     "output_type": "stream",
     "text": [
      "/Users/reejungkim/opt/anaconda3/envs/myenv/lib/python3.7/site-packages/ipykernel_launcher.py:1: SettingWithCopyWarning: \n",
      "A value is trying to be set on a copy of a slice from a DataFrame.\n",
      "Try using .loc[row_indexer,col_indexer] = value instead\n",
      "\n",
      "See the caveats in the documentation: https://pandas.pydata.org/pandas-docs/stable/user_guide/indexing.html#returning-a-view-versus-a-copy\n",
      "  \"\"\"Entry point for launching an IPython kernel.\n"
     ]
    }
   ],
   "source": [
    "drops['DateStr'] = drops['Date'].apply(lambda x: x.strftime('%Y/%m/%d'))"
   ]
  },
  {
   "cell_type": "code",
   "execution_count": 194,
   "metadata": {
    "scrolled": true
   },
   "outputs": [
    {
     "name": "stderr",
     "output_type": "stream",
     "text": [
      "/Users/reejungkim/opt/anaconda3/envs/myenv/lib/python3.7/site-packages/ipykernel_launcher.py:1: SettingWithCopyWarning: \n",
      "A value is trying to be set on a copy of a slice from a DataFrame.\n",
      "Try using .loc[row_indexer,col_indexer] = value instead\n",
      "\n",
      "See the caveats in the documentation: https://pandas.pydata.org/pandas-docs/stable/user_guide/indexing.html#returning-a-view-versus-a-copy\n",
      "  \"\"\"Entry point for launching an IPython kernel.\n"
     ]
    }
   ],
   "source": [
    "drops['search_key'] = drops['Symbol']  + ' ' + drops['DateStr']"
   ]
  },
  {
   "cell_type": "markdown",
   "metadata": {},
   "source": [
    "## Use GoogleNews to search what happened to the stock on the date"
   ]
  },
  {
   "cell_type": "code",
   "execution_count": 204,
   "metadata": {},
   "outputs": [],
   "source": [
    "search = drops.loc[drops['Symbol'].isin (tickers_bestPerformed.index)]['search_key'].tolist()"
   ]
  },
  {
   "cell_type": "code",
   "execution_count": 205,
   "metadata": {},
   "outputs": [
    {
     "data": {
      "text/plain": [
       "['ACN 2020/06/26',\n",
       " 'ALL 2020/06/26',\n",
       " 'CSCO 2020/06/25',\n",
       " 'DOW 2020/06/26',\n",
       " 'LLY 2020/06/26']"
      ]
     },
     "execution_count": 205,
     "metadata": {},
     "output_type": "execute_result"
    }
   ],
   "source": [
    "search"
   ]
  },
  {
   "cell_type": "code",
   "execution_count": 253,
   "metadata": {},
   "outputs": [],
   "source": [
    "from GoogleNews import GoogleNews\n",
    "\n",
    "import pandas as pd\n",
    "from pandas import json_normalize\n",
    "#from pandas.io.json import json_normalize\n",
    "googlenews = GoogleNews(lang='en')"
   ]
  },
  {
   "cell_type": "code",
   "execution_count": 254,
   "metadata": {},
   "outputs": [],
   "source": [
    "googlenews.clear()\n",
    "news_df = pd.DataFrame"
   ]
  },
  {
   "cell_type": "code",
   "execution_count": 274,
   "metadata": {},
   "outputs": [
    {
     "data": {
      "text/plain": [
       "11   2020-06-26\n",
       "Name: Date, dtype: datetime64[ns]"
      ]
     },
     "execution_count": 274,
     "metadata": {},
     "output_type": "execute_result"
    }
   ],
   "source": [
    "d"
   ]
  },
  {
   "cell_type": "code",
   "execution_count": 279,
   "metadata": {},
   "outputs": [
    {
     "name": "stdout",
     "output_type": "stream",
     "text": [
      "ACN\n"
     ]
    },
    {
     "data": {
      "text/plain": [
       "[]"
      ]
     },
     "metadata": {},
     "output_type": "display_data"
    },
    {
     "name": "stdout",
     "output_type": "stream",
     "text": [
      "LLY\n"
     ]
    },
    {
     "data": {
      "text/plain": [
       "[]"
      ]
     },
     "metadata": {},
     "output_type": "display_data"
    },
    {
     "name": "stdout",
     "output_type": "stream",
     "text": [
      "DOW\n"
     ]
    },
    {
     "data": {
      "text/plain": [
       "[]"
      ]
     },
     "metadata": {},
     "output_type": "display_data"
    },
    {
     "name": "stdout",
     "output_type": "stream",
     "text": [
      "CSCO\n"
     ]
    },
    {
     "data": {
      "text/plain": [
       "[]"
      ]
     },
     "metadata": {},
     "output_type": "display_data"
    },
    {
     "name": "stdout",
     "output_type": "stream",
     "text": [
      "ALL\n"
     ]
    },
    {
     "data": {
      "text/plain": [
       "[]"
      ]
     },
     "metadata": {},
     "output_type": "display_data"
    }
   ],
   "source": [
    "for i in tickers_bestPerformed.index:\n",
    "    print(i)\n",
    "    googlenews.clear()\n",
    "    googlenews = GoogleNews(lang='en')  \n",
    "    #d = drops['Date'].loc[drops['Symbol']==i]\n",
    "    #googlenews.setperiod(d)\n",
    "    googlenews.search(i)\n",
    "    result = googlenews.result()[:3]\n",
    "    display(result)\n",
    "    news_result = pd.DataFrame.from_dict(json_normalize(result), orient='columns')\n",
    "    #news_df = news_df.append(result)\n",
    "    #display(news_df)"
   ]
  },
  {
   "cell_type": "markdown",
   "metadata": {},
   "source": [
    "for i in search:\n",
    "    print(i)\n",
    "    googlenews.clear()\n",
    "    googlenews.search(i)\n",
    "    result = googlenews.result()[:3]\n",
    "    display(result)\n",
    "    #news_result = pd.DataFrame.from_dict(json_normalize(result), orient='columns')\n",
    "    #news_df = news_df.append(result)\n",
    "    display(news_df)\n",
    "    "
   ]
  },
  {
   "cell_type": "code",
   "execution_count": 259,
   "metadata": {
    "scrolled": true
   },
   "outputs": [
    {
     "data": {
      "text/plain": [
       "[]"
      ]
     },
     "execution_count": 259,
     "metadata": {},
     "output_type": "execute_result"
    }
   ],
   "source": [
    "news_df"
   ]
  },
  {
   "cell_type": "code",
   "execution_count": null,
   "metadata": {},
   "outputs": [],
   "source": []
  },
  {
   "cell_type": "markdown",
   "metadata": {},
   "source": [
    "## S&P 100 total"
   ]
  },
  {
   "cell_type": "code",
   "execution_count": 31,
   "metadata": {},
   "outputs": [
    {
     "data": {
      "image/png": "[encoded data removed]",
      "text/plain": [
       "<Figure size 360x360 with 1 Axes>"
      ]
     },
     "metadata": {
      "needs_background": "light"
     },
     "output_type": "display_data"
    }
   ],
   "source": [
    "import matplotlib.pyplot as plt\n",
    "import seaborn as sns\n",
    "\n",
    "sns.relplot(x='Date', y='Close', kind='line', data=df_Flat).fig.autofmt_xdate()\n",
    "\n",
    "plt.grid(which=\"major\", color='k', linestyle='-.', linewidth=0.5)\n",
    "plt.title('S&P100 Total', fontsize=16)\n",
    "plt.ylabel('Close', fontsize=14)\n",
    "plt.xlabel('Date', fontsize=14)\n",
    "\n",
    "jpg_name = 'SP100_total.jpg'\n",
    "plt.savefig(jpg_name, bbox_inches='tight')"
   ]
  },
  {
   "cell_type": "code",
   "execution_count": null,
   "metadata": {},
   "outputs": [],
   "source": []
  },
  {
   "cell_type": "markdown",
   "metadata": {},
   "source": [
    "pd.options.display.float_format = '{:,.2%}'.format\n",
    "display(tickers_volatile), display(tickers_bestPerformed)"
   ]
  },
  {
   "cell_type": "code",
   "execution_count": 32,
   "metadata": {
    "scrolled": true
   },
   "outputs": [
    {
     "data": {
      "text/html": [
       "<div>\n",
       "<style scoped>\n",
       "    .dataframe tbody tr th:only-of-type {\n",
       "        vertical-align: middle;\n",
       "    }\n",
       "\n",
       "    .dataframe tbody tr th {\n",
       "        vertical-align: top;\n",
       "    }\n",
       "\n",
       "    .dataframe thead th {\n",
       "        text-align: right;\n",
       "    }\n",
       "</style>\n",
       "<table border=\"1\" class=\"dataframe\">\n",
       "  <thead>\n",
       "    <tr style=\"text-align: right;\">\n",
       "      <th></th>\n",
       "      <th></th>\n",
       "      <th>count</th>\n",
       "      <th>mean</th>\n",
       "      <th>std</th>\n",
       "      <th>min</th>\n",
       "      <th>25%</th>\n",
       "      <th>50%</th>\n",
       "      <th>75%</th>\n",
       "      <th>max</th>\n",
       "    </tr>\n",
       "    <tr>\n",
       "      <th>Symbol</th>\n",
       "      <th>Type</th>\n",
       "      <th></th>\n",
       "      <th></th>\n",
       "      <th></th>\n",
       "      <th></th>\n",
       "      <th></th>\n",
       "      <th></th>\n",
       "      <th></th>\n",
       "      <th></th>\n",
       "    </tr>\n",
       "  </thead>\n",
       "  <tbody>\n",
       "    <tr>\n",
       "      <th rowspan=\"6\" valign=\"top\">ACN</th>\n",
       "      <th>Adj Close</th>\n",
       "      <td>3.0</td>\n",
       "      <td>210.54</td>\n",
       "      <td>7.92</td>\n",
       "      <td>201.84</td>\n",
       "      <td>207.15</td>\n",
       "      <td>212.47</td>\n",
       "      <td>214.90</td>\n",
       "      <td>2.173200e+02</td>\n",
       "    </tr>\n",
       "    <tr>\n",
       "      <th>Close</th>\n",
       "      <td>3.0</td>\n",
       "      <td>210.54</td>\n",
       "      <td>7.92</td>\n",
       "      <td>201.84</td>\n",
       "      <td>207.15</td>\n",
       "      <td>212.47</td>\n",
       "      <td>214.90</td>\n",
       "      <td>2.173200e+02</td>\n",
       "    </tr>\n",
       "    <tr>\n",
       "      <th>High</th>\n",
       "      <td>3.0</td>\n",
       "      <td>214.07</td>\n",
       "      <td>5.80</td>\n",
       "      <td>207.40</td>\n",
       "      <td>212.16</td>\n",
       "      <td>216.93</td>\n",
       "      <td>217.41</td>\n",
       "      <td>2.178900e+02</td>\n",
       "    </tr>\n",
       "    <tr>\n",
       "      <th>Low</th>\n",
       "      <td>3.0</td>\n",
       "      <td>207.69</td>\n",
       "      <td>6.23</td>\n",
       "      <td>200.50</td>\n",
       "      <td>205.79</td>\n",
       "      <td>211.07</td>\n",
       "      <td>211.29</td>\n",
       "      <td>2.115000e+02</td>\n",
       "    </tr>\n",
       "    <tr>\n",
       "      <th>Open</th>\n",
       "      <td>3.0</td>\n",
       "      <td>211.76</td>\n",
       "      <td>5.74</td>\n",
       "      <td>205.51</td>\n",
       "      <td>209.25</td>\n",
       "      <td>213.00</td>\n",
       "      <td>214.89</td>\n",
       "      <td>2.167800e+02</td>\n",
       "    </tr>\n",
       "    <tr>\n",
       "      <th>Volume</th>\n",
       "      <td>3.0</td>\n",
       "      <td>3597433.33</td>\n",
       "      <td>991978.46</td>\n",
       "      <td>2753700.00</td>\n",
       "      <td>3051050.00</td>\n",
       "      <td>3348400.00</td>\n",
       "      <td>4019300.00</td>\n",
       "      <td>4.690200e+06</td>\n",
       "    </tr>\n",
       "    <tr>\n",
       "      <th rowspan=\"6\" valign=\"top\">ALL</th>\n",
       "      <th>Adj Close</th>\n",
       "      <td>3.0</td>\n",
       "      <td>94.45</td>\n",
       "      <td>1.44</td>\n",
       "      <td>92.95</td>\n",
       "      <td>93.76</td>\n",
       "      <td>94.58</td>\n",
       "      <td>95.21</td>\n",
       "      <td>9.583000e+01</td>\n",
       "    </tr>\n",
       "    <tr>\n",
       "      <th>Close</th>\n",
       "      <td>3.0</td>\n",
       "      <td>94.45</td>\n",
       "      <td>1.44</td>\n",
       "      <td>92.95</td>\n",
       "      <td>93.76</td>\n",
       "      <td>94.58</td>\n",
       "      <td>95.21</td>\n",
       "      <td>9.583000e+01</td>\n",
       "    </tr>\n",
       "    <tr>\n",
       "      <th>High</th>\n",
       "      <td>3.0</td>\n",
       "      <td>95.83</td>\n",
       "      <td>0.11</td>\n",
       "      <td>95.70</td>\n",
       "      <td>95.79</td>\n",
       "      <td>95.88</td>\n",
       "      <td>95.89</td>\n",
       "      <td>9.590000e+01</td>\n",
       "    </tr>\n",
       "    <tr>\n",
       "      <th>Low</th>\n",
       "      <td>3.0</td>\n",
       "      <td>93.28</td>\n",
       "      <td>0.42</td>\n",
       "      <td>92.88</td>\n",
       "      <td>93.06</td>\n",
       "      <td>93.25</td>\n",
       "      <td>93.48</td>\n",
       "      <td>9.371000e+01</td>\n",
       "    </tr>\n",
       "    <tr>\n",
       "      <th>Open</th>\n",
       "      <td>3.0</td>\n",
       "      <td>94.56</td>\n",
       "      <td>1.22</td>\n",
       "      <td>93.37</td>\n",
       "      <td>93.94</td>\n",
       "      <td>94.50</td>\n",
       "      <td>95.15</td>\n",
       "      <td>9.580000e+01</td>\n",
       "    </tr>\n",
       "    <tr>\n",
       "      <th>Volume</th>\n",
       "      <td>3.0</td>\n",
       "      <td>2271433.33</td>\n",
       "      <td>560229.17</td>\n",
       "      <td>1652400.00</td>\n",
       "      <td>2035350.00</td>\n",
       "      <td>2418300.00</td>\n",
       "      <td>2580950.00</td>\n",
       "      <td>2.743600e+06</td>\n",
       "    </tr>\n",
       "    <tr>\n",
       "      <th rowspan=\"6\" valign=\"top\">CSCO</th>\n",
       "      <th>Adj Close</th>\n",
       "      <td>3.0</td>\n",
       "      <td>45.43</td>\n",
       "      <td>0.80</td>\n",
       "      <td>44.75</td>\n",
       "      <td>44.99</td>\n",
       "      <td>45.22</td>\n",
       "      <td>45.77</td>\n",
       "      <td>4.631000e+01</td>\n",
       "    </tr>\n",
       "    <tr>\n",
       "      <th>Close</th>\n",
       "      <td>3.0</td>\n",
       "      <td>45.43</td>\n",
       "      <td>0.80</td>\n",
       "      <td>44.75</td>\n",
       "      <td>44.99</td>\n",
       "      <td>45.22</td>\n",
       "      <td>45.77</td>\n",
       "      <td>4.631000e+01</td>\n",
       "    </tr>\n",
       "    <tr>\n",
       "      <th>High</th>\n",
       "      <td>3.0</td>\n",
       "      <td>45.77</td>\n",
       "      <td>0.65</td>\n",
       "      <td>45.32</td>\n",
       "      <td>45.40</td>\n",
       "      <td>45.47</td>\n",
       "      <td>45.99</td>\n",
       "      <td>4.651000e+01</td>\n",
       "    </tr>\n",
       "    <tr>\n",
       "      <th>Low</th>\n",
       "      <td>3.0</td>\n",
       "      <td>44.41</td>\n",
       "      <td>0.22</td>\n",
       "      <td>44.20</td>\n",
       "      <td>44.30</td>\n",
       "      <td>44.39</td>\n",
       "      <td>44.51</td>\n",
       "      <td>4.463000e+01</td>\n",
       "    </tr>\n",
       "    <tr>\n",
       "      <th>Open</th>\n",
       "      <td>3.0</td>\n",
       "      <td>45.06</td>\n",
       "      <td>0.27</td>\n",
       "      <td>44.77</td>\n",
       "      <td>44.94</td>\n",
       "      <td>45.12</td>\n",
       "      <td>45.20</td>\n",
       "      <td>4.529000e+01</td>\n",
       "    </tr>\n",
       "    <tr>\n",
       "      <th>Volume</th>\n",
       "      <td>3.0</td>\n",
       "      <td>49626166.67</td>\n",
       "      <td>49655891.74</td>\n",
       "      <td>19114900.00</td>\n",
       "      <td>20977500.00</td>\n",
       "      <td>22840100.00</td>\n",
       "      <td>64881800.00</td>\n",
       "      <td>1.069235e+08</td>\n",
       "    </tr>\n",
       "    <tr>\n",
       "      <th rowspan=\"6\" valign=\"top\">DOW</th>\n",
       "      <th>Adj Close</th>\n",
       "      <td>3.0</td>\n",
       "      <td>39.41</td>\n",
       "      <td>0.84</td>\n",
       "      <td>38.45</td>\n",
       "      <td>39.12</td>\n",
       "      <td>39.80</td>\n",
       "      <td>39.89</td>\n",
       "      <td>3.998000e+01</td>\n",
       "    </tr>\n",
       "    <tr>\n",
       "      <th>Close</th>\n",
       "      <td>3.0</td>\n",
       "      <td>39.41</td>\n",
       "      <td>0.84</td>\n",
       "      <td>38.45</td>\n",
       "      <td>39.12</td>\n",
       "      <td>39.80</td>\n",
       "      <td>39.89</td>\n",
       "      <td>3.998000e+01</td>\n",
       "    </tr>\n",
       "    <tr>\n",
       "      <th>High</th>\n",
       "      <td>3.0</td>\n",
       "      <td>40.25</td>\n",
       "      <td>0.41</td>\n",
       "      <td>40.00</td>\n",
       "      <td>40.01</td>\n",
       "      <td>40.03</td>\n",
       "      <td>40.38</td>\n",
       "      <td>4.072000e+01</td>\n",
       "    </tr>\n",
       "    <tr>\n",
       "      <th>Low</th>\n",
       "      <td>3.0</td>\n",
       "      <td>38.24</td>\n",
       "      <td>0.53</td>\n",
       "      <td>37.68</td>\n",
       "      <td>38.00</td>\n",
       "      <td>38.32</td>\n",
       "      <td>38.52</td>\n",
       "      <td>3.873000e+01</td>\n",
       "    </tr>\n",
       "    <tr>\n",
       "      <th>Open</th>\n",
       "      <td>3.0</td>\n",
       "      <td>39.39</td>\n",
       "      <td>1.31</td>\n",
       "      <td>38.00</td>\n",
       "      <td>38.78</td>\n",
       "      <td>39.56</td>\n",
       "      <td>40.08</td>\n",
       "      <td>4.060000e+01</td>\n",
       "    </tr>\n",
       "    <tr>\n",
       "      <th>Volume</th>\n",
       "      <td>3.0</td>\n",
       "      <td>7342300.00</td>\n",
       "      <td>1214773.93</td>\n",
       "      <td>5986900.00</td>\n",
       "      <td>6847050.00</td>\n",
       "      <td>7707200.00</td>\n",
       "      <td>8020000.00</td>\n",
       "      <td>8.332800e+06</td>\n",
       "    </tr>\n",
       "    <tr>\n",
       "      <th rowspan=\"6\" valign=\"top\">LLY</th>\n",
       "      <th>Adj Close</th>\n",
       "      <td>3.0</td>\n",
       "      <td>160.91</td>\n",
       "      <td>3.36</td>\n",
       "      <td>157.03</td>\n",
       "      <td>159.93</td>\n",
       "      <td>162.83</td>\n",
       "      <td>162.85</td>\n",
       "      <td>1.628600e+02</td>\n",
       "    </tr>\n",
       "    <tr>\n",
       "      <th>Close</th>\n",
       "      <td>3.0</td>\n",
       "      <td>160.91</td>\n",
       "      <td>3.36</td>\n",
       "      <td>157.03</td>\n",
       "      <td>159.93</td>\n",
       "      <td>162.83</td>\n",
       "      <td>162.85</td>\n",
       "      <td>1.628600e+02</td>\n",
       "    </tr>\n",
       "    <tr>\n",
       "      <th>High</th>\n",
       "      <td>3.0</td>\n",
       "      <td>162.32</td>\n",
       "      <td>2.20</td>\n",
       "      <td>159.79</td>\n",
       "      <td>161.59</td>\n",
       "      <td>163.39</td>\n",
       "      <td>163.59</td>\n",
       "      <td>1.637900e+02</td>\n",
       "    </tr>\n",
       "    <tr>\n",
       "      <th>Low</th>\n",
       "      <td>3.0</td>\n",
       "      <td>157.74</td>\n",
       "      <td>2.12</td>\n",
       "      <td>156.33</td>\n",
       "      <td>156.52</td>\n",
       "      <td>156.71</td>\n",
       "      <td>158.44</td>\n",
       "      <td>1.601800e+02</td>\n",
       "    </tr>\n",
       "    <tr>\n",
       "      <th>Open</th>\n",
       "      <td>3.0</td>\n",
       "      <td>159.51</td>\n",
       "      <td>2.49</td>\n",
       "      <td>157.64</td>\n",
       "      <td>158.10</td>\n",
       "      <td>158.55</td>\n",
       "      <td>160.44</td>\n",
       "      <td>1.623300e+02</td>\n",
       "    </tr>\n",
       "    <tr>\n",
       "      <th>Volume</th>\n",
       "      <td>3.0</td>\n",
       "      <td>4040600.00</td>\n",
       "      <td>1128586.78</td>\n",
       "      <td>3096000.00</td>\n",
       "      <td>3415700.00</td>\n",
       "      <td>3735400.00</td>\n",
       "      <td>4512900.00</td>\n",
       "      <td>5.290400e+06</td>\n",
       "    </tr>\n",
       "  </tbody>\n",
       "</table>\n",
       "</div>"
      ],
      "text/plain": [
       "                  count         mean          std          min          25%  \\\n",
       "Symbol Type                                                                   \n",
       "ACN    Adj Close    3.0       210.54         7.92       201.84       207.15   \n",
       "       Close        3.0       210.54         7.92       201.84       207.15   \n",
       "       High         3.0       214.07         5.80       207.40       212.16   \n",
       "       Low          3.0       207.69         6.23       200.50       205.79   \n",
       "       Open         3.0       211.76         5.74       205.51       209.25   \n",
       "       Volume       3.0   3597433.33    991978.46   2753700.00   3051050.00   \n",
       "ALL    Adj Close    3.0        94.45         1.44        92.95        93.76   \n",
       "       Close        3.0        94.45         1.44        92.95        93.76   \n",
       "       High         3.0        95.83         0.11        95.70        95.79   \n",
       "       Low          3.0        93.28         0.42        92.88        93.06   \n",
       "       Open         3.0        94.56         1.22        93.37        93.94   \n",
       "       Volume       3.0   2271433.33    560229.17   1652400.00   2035350.00   \n",
       "CSCO   Adj Close    3.0        45.43         0.80        44.75        44.99   \n",
       "       Close        3.0        45.43         0.80        44.75        44.99   \n",
       "       High         3.0        45.77         0.65        45.32        45.40   \n",
       "       Low          3.0        44.41         0.22        44.20        44.30   \n",
       "       Open         3.0        45.06         0.27        44.77        44.94   \n",
       "       Volume       3.0  49626166.67  49655891.74  19114900.00  20977500.00   \n",
       "DOW    Adj Close    3.0        39.41         0.84        38.45        39.12   \n",
       "       Close        3.0        39.41         0.84        38.45        39.12   \n",
       "       High         3.0        40.25         0.41        40.00        40.01   \n",
       "       Low          3.0        38.24         0.53        37.68        38.00   \n",
       "       Open         3.0        39.39         1.31        38.00        38.78   \n",
       "       Volume       3.0   7342300.00   1214773.93   5986900.00   6847050.00   \n",
       "LLY    Adj Close    3.0       160.91         3.36       157.03       159.93   \n",
       "       Close        3.0       160.91         3.36       157.03       159.93   \n",
       "       High         3.0       162.32         2.20       159.79       161.59   \n",
       "       Low          3.0       157.74         2.12       156.33       156.52   \n",
       "       Open         3.0       159.51         2.49       157.64       158.10   \n",
       "       Volume       3.0   4040600.00   1128586.78   3096000.00   3415700.00   \n",
       "\n",
       "                          50%          75%           max  \n",
       "Symbol Type                                               \n",
       "ACN    Adj Close       212.47       214.90  2.173200e+02  \n",
       "       Close           212.47       214.90  2.173200e+02  \n",
       "       High            216.93       217.41  2.178900e+02  \n",
       "       Low             211.07       211.29  2.115000e+02  \n",
       "       Open            213.00       214.89  2.167800e+02  \n",
       "       Volume      3348400.00   4019300.00  4.690200e+06  \n",
       "ALL    Adj Close        94.58        95.21  9.583000e+01  \n",
       "       Close            94.58        95.21  9.583000e+01  \n",
       "       High             95.88        95.89  9.590000e+01  \n",
       "       Low              93.25        93.48  9.371000e+01  \n",
       "       Open             94.50        95.15  9.580000e+01  \n",
       "       Volume      2418300.00   2580950.00  2.743600e+06  \n",
       "CSCO   Adj Close        45.22        45.77  4.631000e+01  \n",
       "       Close            45.22        45.77  4.631000e+01  \n",
       "       High             45.47        45.99  4.651000e+01  \n",
       "       Low              44.39        44.51  4.463000e+01  \n",
       "       Open             45.12        45.20  4.529000e+01  \n",
       "       Volume     22840100.00  64881800.00  1.069235e+08  \n",
       "DOW    Adj Close        39.80        39.89  3.998000e+01  \n",
       "       Close            39.80        39.89  3.998000e+01  \n",
       "       High             40.03        40.38  4.072000e+01  \n",
       "       Low              38.32        38.52  3.873000e+01  \n",
       "       Open             39.56        40.08  4.060000e+01  \n",
       "       Volume      7707200.00   8020000.00  8.332800e+06  \n",
       "LLY    Adj Close       162.83       162.85  1.628600e+02  \n",
       "       Close           162.83       162.85  1.628600e+02  \n",
       "       High            163.39       163.59  1.637900e+02  \n",
       "       Low             156.71       158.44  1.601800e+02  \n",
       "       Open            158.55       160.44  1.623300e+02  \n",
       "       Volume      3735400.00   4512900.00  5.290400e+06  "
      ]
     },
     "execution_count": 32,
     "metadata": {},
     "output_type": "execute_result"
    }
   ],
   "source": [
    "#pd.options.display.float_format = '{:,.2f}'.format\n",
    "dataToExport = df.loc[tickers_bestPerformed.index].unstack(0).describe()\n",
    "dataToExport = dataToExport.transpose().reset_index().groupby(['Symbol', 'level_0']).sum().round(2)\n",
    "\n",
    "dataToExport.rename_axis(index={\"level_0\":\"Type\"}, inplace=True)\n",
    "dataToExport"
   ]
  },
  {
   "cell_type": "code",
   "execution_count": 33,
   "metadata": {},
   "outputs": [],
   "source": [
    "#format_column_percentage(dataToExport, dataToExport.columns[1:])"
   ]
  },
  {
   "cell_type": "markdown",
   "metadata": {},
   "source": [
    "dataToExport2 = df.loc[tickers_bestPerformed.index].unstack(0).describe().stack(0)\n",
    "dataToExport2"
   ]
  },
  {
   "cell_type": "markdown",
   "metadata": {},
   "source": [
    "# Create PDF file"
   ]
  },
  {
   "cell_type": "code",
   "execution_count": 34,
   "metadata": {},
   "outputs": [],
   "source": [
    "today = dt.datetime.today().strftime('%Y-%m-%d')\n",
    "pdf_file_name = \"Report \"+ today +\".pdf\""
   ]
  },
  {
   "cell_type": "code",
   "execution_count": 35,
   "metadata": {},
   "outputs": [],
   "source": [
    "def PrepareTableForReportLab(dataframe):\n",
    "    \n",
    "    data = dataframe\n",
    "\n",
    "    'handling grouped first index column'\n",
    "    a= []\n",
    "    for i in range(len(data)):\n",
    "        #print(i, data.index.get_level_values(0)[i])\n",
    "        if data.index.get_level_values(0)[i-1] == data.index.get_level_values(0)[i]:\n",
    "            a.append(i)\n",
    "    a.sort(reverse=True)\n",
    "\n",
    "    as_list = data.index.get_level_values(0).tolist()\n",
    "    for i in a:\n",
    "        as_list[i] = \"\"\n",
    "\n",
    "        \n",
    "    'flat dataframe'\n",
    "    data = data.reset_index()\n",
    "    'remove duplicated values from first column which was index before resetting index'\n",
    "    first_col_name = data.columns[0]\n",
    "    data[first_col_name] = as_list \n",
    "    \n",
    "    #data = dataframe.reset_index()\n",
    "    #colwidths = 800/len(data.columns) \n",
    "    data = [data.columns.to_list()] + data.values.tolist() \n",
    "\n",
    "    #tbl = Table(data) # \n",
    "    tbl = Table(data) #, colwidths ) #, rowheights)\n",
    "    tbl.setStyle(TableStyle([\n",
    "    ('INNERGRID', (0, 0), (-1, -1), 0.25, colors.black),\n",
    "    ('BOX', (0, 0), (-1, -1), 0.25, colors.black),\n",
    "    ('ALIGN', (1,1), (-1,-1), 'RIGHT'),\n",
    "    ('BACKGROUND', (0,0), (-1,0), colors.Color(0,0.7,0.7))\n",
    "    ]))\n",
    "    \n",
    "    return tbl"
   ]
  },
  {
   "cell_type": "code",
   "execution_count": 36,
   "metadata": {},
   "outputs": [],
   "source": [
    "story = []"
   ]
  },
  {
   "cell_type": "code",
   "execution_count": 37,
   "metadata": {
    "scrolled": true
   },
   "outputs": [],
   "source": [
    "story.append(Paragraph(\"Highest growth rates\", getSampleStyleSheet()['Heading1']))\n",
    "story.append(Paragraph(\"highest growth rates in past <i>\" + str(days_to_lookback) + \" days</i>.\",  getSampleStyleSheet()['Normal']))\n",
    "story.append(Spacer(1,20))\n",
    "story.append((PrepareTableForReportLab(dataToExport)))\n",
    "story.append(Spacer(1,20))\n",
    "story.append(PrepareTableForReportLab(tickers_bestPerformed))\n",
    "story.append(PageBreak())\n",
    "\n",
    "story.append(Paragraph(\"Volatility\", getSampleStyleSheet()['Heading1']))\n",
    "story.append(Paragraph(\"highest volatility rates in past <i>\" + str(days_to_lookback)  + \" days</i>.\",  getSampleStyleSheet()['Normal']))\n",
    "story.append(Spacer(1,20))\n",
    "story.append(PrepareTableForReportLab(tickers_volatile))\n",
    "story.append(PageBreak())"
   ]
  },
  {
   "cell_type": "markdown",
   "metadata": {},
   "source": [
    "#### Add graph images saved in the timestamped folder"
   ]
  },
  {
   "cell_type": "code",
   "execution_count": 38,
   "metadata": {},
   "outputs": [
    {
     "name": "stdout",
     "output_type": "stream",
     "text": [
      "image_highest growth closing price.jpg\n",
      "image_highest growth closing pct change.jpg\n",
      "image_1.jpg\n",
      "image_2.jpg\n",
      "image_SP100_total.jpg\n"
     ]
    }
   ],
   "source": [
    "for file in sorted(os.listdir(reportDir), key=os.path.getmtime):\n",
    "    if file.endswith('jpg'):\n",
    "        temp = file\n",
    "        temp = 'image_'+ temp\n",
    "        print(temp)\n",
    "        temp = Image(file)\n",
    "        #story.append(Spacer(1, 20))\n",
    "        story.append(temp)"
   ]
  },
  {
   "cell_type": "code",
   "execution_count": 39,
   "metadata": {},
   "outputs": [],
   "source": [
    "doc = SimpleDocTemplate(pdf_file_name, pagesize = landscape(letter), topMargin = inch * .25, bottomMargin = inch * .25)\n",
    "doc.build(story)"
   ]
  },
  {
   "cell_type": "code",
   "execution_count": 40,
   "metadata": {
    "scrolled": true
   },
   "outputs": [
    {
     "data": {
      "text/plain": [
       "CompletedProcess(args=['open', 'Report 2020-06-29.pdf'], returncode=0)"
      ]
     },
     "execution_count": 40,
     "metadata": {},
     "output_type": "execute_result"
    }
   ],
   "source": [
    "#Open pdf file generated\n",
    "subprocess.run(['open', pdf_file_name], check=True)"
   ]
  },
  {
   "cell_type": "code",
   "execution_count": null,
   "metadata": {},
   "outputs": [],
   "source": []
  },
  {
   "cell_type": "code",
   "execution_count": null,
   "metadata": {},
   "outputs": [],
   "source": []
  },
  {
   "cell_type": "code",
   "execution_count": null,
   "metadata": {},
   "outputs": [],
   "source": []
  }
 ],
 "metadata": {
  "kernelspec": {
   "display_name": "Python 3",
   "language": "python",
   "name": "python3"
  },
  "language_info": {
   "codemirror_mode": {
    "name": "ipython",
    "version": 3
   },
   "file_extension": ".py",
   "mimetype": "text/x-python",
   "name": "python",
   "nbconvert_exporter": "python",
   "pygments_lexer": "ipython3",
   "version": "3.7.7"
  }
 },
 "nbformat": 4,
 "nbformat_minor": 4
}
