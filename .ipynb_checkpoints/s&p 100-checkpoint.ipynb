{
 "cells": [
  {
   "cell_type": "code",
   "execution_count": 1,
   "metadata": {},
   "outputs": [
    {
     "name": "stderr",
     "output_type": "stream",
     "text": [
      "/Users/reejungkim/opt/anaconda3/envs/myenv/lib/python3.7/site-packages/pandas_datareader/compat/__init__.py:7: FutureWarning: pandas.util.testing is deprecated. Use the functions in the public API at pandas.testing instead.\n",
      "  from pandas.util.testing import assert_frame_equal\n"
     ]
    }
   ],
   "source": [
    "import timeit\n",
    "import datetime as dt\n",
    "import os\n",
    "import subprocess \n",
    "\n",
    "import pandas as pd\n",
    "import numpy as np\n",
    "\n",
    "#to get financial data\n",
    "from pandas_datareader import data as pdr\n",
    "#to get data using web scraping\n",
    "import requests\n",
    "from bs4 import BeautifulSoup\n",
    "\n",
    "#visualization\n",
    "import matplotlib.pyplot as plt\n",
    "#import plotly.graph_objs as go\n",
    "%matplotlib inline\n",
    "import seaborn as sns\n",
    "\n",
    "#from pylab import savefig\n",
    "\n",
    "#for pdf report generation\n",
    "#from matplotlib.backends.backend_pdf import PdfPages\n",
    "from reportlab.pdfgen import canvas\n",
    "from reportlab.platypus import *\n",
    "#from reportlab.platypus import Paragraph, Frame, KeepInFrame, Table, Spacer, TableStyle,  Image, pageBreak\n",
    "from reportlab.lib import colors\n",
    "from reportlab.lib.pagesizes import letter, landscape\n",
    "from reportlab.lib.styles import getSampleStyleSheet, ParagraphStyle\n",
    "from reportlab.lib.units import inch\n",
    "from reportlab.platypus.tableofcontents import TableOfContents\n"
   ]
  },
  {
   "cell_type": "code",
   "execution_count": 2,
   "metadata": {},
   "outputs": [],
   "source": [
    "days_to_lookback = 5"
   ]
  },
  {
   "cell_type": "code",
   "execution_count": 3,
   "metadata": {},
   "outputs": [],
   "source": [
    "date_end = dt.datetime.today()\n",
    "date_start = date_end - dt.timedelta(days_to_lookback)"
   ]
  },
  {
   "cell_type": "markdown",
   "metadata": {},
   "source": [
    "# Create timestamped folder to save reports created later"
   ]
  },
  {
   "cell_type": "code",
   "execution_count": 4,
   "metadata": {},
   "outputs": [
    {
     "data": {
      "text/plain": [
       "'2020-06-28 23-26-24'"
      ]
     },
     "execution_count": 4,
     "metadata": {},
     "output_type": "execute_result"
    }
   ],
   "source": [
    "#timestamp = str(dt.datetime.now()) <- '2020-06-26 20:26:08.775766'  \n",
    "timestamp =  dt.datetime.now().strftime('%Y-%m-%d %H-%M-%S')\n",
    "timestamp"
   ]
  },
  {
   "cell_type": "code",
   "execution_count": 5,
   "metadata": {},
   "outputs": [
    {
     "data": {
      "text/plain": [
       "'/Users/reejungkim/Documents/Git/reporting automation/2020-06-28 23-26-24'"
      ]
     },
     "execution_count": 5,
     "metadata": {},
     "output_type": "execute_result"
    }
   ],
   "source": [
    "path = os.getcwd() \n",
    "reportDir = os.path.join(path,timestamp)\n",
    "reportDir"
   ]
  },
  {
   "cell_type": "code",
   "execution_count": 7,
   "metadata": {},
   "outputs": [],
   "source": [
    "#create named folder\n",
    "os.makedirs(reportDir, exist_ok = False)"
   ]
  },
  {
   "cell_type": "code",
   "execution_count": 8,
   "metadata": {},
   "outputs": [],
   "source": [
    "os.chdir(reportDir)"
   ]
  },
  {
   "cell_type": "markdown",
   "metadata": {},
   "source": [
    "# Web scraping S&P100 companies from Wikipedia table"
   ]
  },
  {
   "cell_type": "code",
   "execution_count": 9,
   "metadata": {},
   "outputs": [],
   "source": [
    "website_url = requests.get(\"https://en.wikipedia.org/wiki/S%26P_100\").text\n",
    "\n",
    "soup = BeautifulSoup(website_url,'lxml')\n",
    "#print(soup.prettify())"
   ]
  },
  {
   "cell_type": "code",
   "execution_count": 10,
   "metadata": {},
   "outputs": [],
   "source": [
    "wiki_table = soup.find('table',{'class':'wikitable sortable'})"
   ]
  },
  {
   "cell_type": "code",
   "execution_count": 11,
   "metadata": {},
   "outputs": [],
   "source": [
    "data = []\n",
    "tHeader = []\n",
    "SP100_tickers = pd.DataFrame()\n",
    "\n",
    "for tr in wiki_table.find_all(\"tr\"):\n",
    "    for th in tr.find_all(\"th\")[:1]:\n",
    "        tHeader = th.get_text(strip=True)\n",
    "        SP100_tickers[tHeader] = []\n",
    "    for td in tr.find_all(\"td\")[:1]:\n",
    "        data.append( td.get_text(strip=True))\n",
    "        \n",
    "SP100_tickers[tHeader] = data"
   ]
  },
  {
   "cell_type": "code",
   "execution_count": 12,
   "metadata": {
    "scrolled": true
   },
   "outputs": [
    {
     "data": {
      "text/html": [
       "<div>\n",
       "<style scoped>\n",
       "    .dataframe tbody tr th:only-of-type {\n",
       "        vertical-align: middle;\n",
       "    }\n",
       "\n",
       "    .dataframe tbody tr th {\n",
       "        vertical-align: top;\n",
       "    }\n",
       "\n",
       "    .dataframe thead th {\n",
       "        text-align: right;\n",
       "    }\n",
       "</style>\n",
       "<table border=\"1\" class=\"dataframe\">\n",
       "  <thead>\n",
       "    <tr style=\"text-align: right;\">\n",
       "      <th></th>\n",
       "      <th>Symbol</th>\n",
       "    </tr>\n",
       "  </thead>\n",
       "  <tbody>\n",
       "    <tr>\n",
       "      <th>0</th>\n",
       "      <td>AAPL</td>\n",
       "    </tr>\n",
       "    <tr>\n",
       "      <th>1</th>\n",
       "      <td>ABBV</td>\n",
       "    </tr>\n",
       "    <tr>\n",
       "      <th>2</th>\n",
       "      <td>ABT</td>\n",
       "    </tr>\n",
       "    <tr>\n",
       "      <th>3</th>\n",
       "      <td>ACN</td>\n",
       "    </tr>\n",
       "    <tr>\n",
       "      <th>4</th>\n",
       "      <td>ADBE</td>\n",
       "    </tr>\n",
       "    <tr>\n",
       "      <th>...</th>\n",
       "      <td>...</td>\n",
       "    </tr>\n",
       "    <tr>\n",
       "      <th>96</th>\n",
       "      <td>VZ</td>\n",
       "    </tr>\n",
       "    <tr>\n",
       "      <th>97</th>\n",
       "      <td>WBA</td>\n",
       "    </tr>\n",
       "    <tr>\n",
       "      <th>98</th>\n",
       "      <td>WFC</td>\n",
       "    </tr>\n",
       "    <tr>\n",
       "      <th>99</th>\n",
       "      <td>WMT</td>\n",
       "    </tr>\n",
       "    <tr>\n",
       "      <th>100</th>\n",
       "      <td>XOM</td>\n",
       "    </tr>\n",
       "  </tbody>\n",
       "</table>\n",
       "<p>101 rows × 1 columns</p>\n",
       "</div>"
      ],
      "text/plain": [
       "    Symbol\n",
       "0     AAPL\n",
       "1     ABBV\n",
       "2      ABT\n",
       "3      ACN\n",
       "4     ADBE\n",
       "..     ...\n",
       "96      VZ\n",
       "97     WBA\n",
       "98     WFC\n",
       "99     WMT\n",
       "100    XOM\n",
       "\n",
       "[101 rows x 1 columns]"
      ]
     },
     "execution_count": 12,
     "metadata": {},
     "output_type": "execute_result"
    }
   ],
   "source": [
    "SP100_tickers"
   ]
  },
  {
   "cell_type": "markdown",
   "metadata": {},
   "source": [
    "# Use DataReader to get financial data of S&P100 companies from yahoo"
   ]
  },
  {
   "cell_type": "code",
   "execution_count": 57,
   "metadata": {
    "scrolled": true
   },
   "outputs": [
    {
     "name": "stdout",
     "output_type": "stream",
     "text": [
      "BRK.B - Err\n",
      "CPU times: user 8.98 s, sys: 701 ms, total: 9.68 s\n",
      "Wall time: 1min 1s\n"
     ]
    }
   ],
   "source": [
    "%%time\n",
    "\n",
    "df = pd.DataFrame()\n",
    "\n",
    "for i in data:\n",
    "    symbol = SP100_tickers.loc[SP100_tickers['Symbol']==i]\n",
    "    try:\n",
    "        symbol_data = pdr.DataReader(i, 'yahoo', date_start, date_end).reset_index()\n",
    "        #display(symbol_data)  \n",
    "    except: \n",
    "        print(i + \" - Err\")\n",
    "        symbol_data = pd.DataFrame()\n",
    "        pass\n",
    "    single_table = pd.concat([symbol, symbol_data], axis=0, ignore_index=True) #axis=0 <- row. add frames by row and use fill down.\n",
    "    single_table['Symbol'].ffill(inplace=True)\n",
    "    df = df.append(single_table)\n",
    "    "
   ]
  },
  {
   "cell_type": "code",
   "execution_count": 58,
   "metadata": {
    "scrolled": true
   },
   "outputs": [],
   "source": [
    "df = df.loc[df['Date'].notnull()]"
   ]
  },
  {
   "cell_type": "code",
   "execution_count": 59,
   "metadata": {},
   "outputs": [],
   "source": [
    "df = df.reset_index(drop=True)"
   ]
  },
  {
   "cell_type": "markdown",
   "metadata": {
    "scrolled": true
   },
   "source": [
    "df.groupby(['Symbol']).describe().transpose()"
   ]
  },
  {
   "cell_type": "code",
   "execution_count": 60,
   "metadata": {},
   "outputs": [],
   "source": [
    "df_Flat = df"
   ]
  },
  {
   "cell_type": "markdown",
   "metadata": {},
   "source": [
    "# Analytics"
   ]
  },
  {
   "cell_type": "markdown",
   "metadata": {},
   "source": [
    "### Four main data frames to be used: \n",
    "#### 1. df\n",
    "#### 2. df.pct_change()\n",
    "#### 3. df_Flat \n",
    "#### 4. df_Flat_pct_change"
   ]
  },
  {
   "cell_type": "code",
   "execution_count": 111,
   "metadata": {},
   "outputs": [
    {
     "data": {
      "text/html": [
       "<div>\n",
       "<style scoped>\n",
       "    .dataframe tbody tr th:only-of-type {\n",
       "        vertical-align: middle;\n",
       "    }\n",
       "\n",
       "    .dataframe tbody tr th {\n",
       "        vertical-align: top;\n",
       "    }\n",
       "\n",
       "    .dataframe thead th {\n",
       "        text-align: right;\n",
       "    }\n",
       "</style>\n",
       "<table border=\"1\" class=\"dataframe\">\n",
       "  <thead>\n",
       "    <tr style=\"text-align: right;\">\n",
       "      <th></th>\n",
       "      <th>Symbol</th>\n",
       "      <th>Date</th>\n",
       "      <th>High</th>\n",
       "      <th>Low</th>\n",
       "      <th>Open</th>\n",
       "      <th>Close</th>\n",
       "      <th>Volume</th>\n",
       "      <th>Adj Close</th>\n",
       "    </tr>\n",
       "  </thead>\n",
       "  <tbody>\n",
       "    <tr>\n",
       "      <th>0</th>\n",
       "      <td>AAPL</td>\n",
       "      <td>2020-06-24</td>\n",
       "      <td>368.790009</td>\n",
       "      <td>358.519989</td>\n",
       "      <td>365.000000</td>\n",
       "      <td>360.059998</td>\n",
       "      <td>48155800.0</td>\n",
       "      <td>360.059998</td>\n",
       "    </tr>\n",
       "    <tr>\n",
       "      <th>1</th>\n",
       "      <td>AAPL</td>\n",
       "      <td>2020-06-25</td>\n",
       "      <td>365.000000</td>\n",
       "      <td>357.570007</td>\n",
       "      <td>360.700012</td>\n",
       "      <td>364.839996</td>\n",
       "      <td>34380600.0</td>\n",
       "      <td>364.839996</td>\n",
       "    </tr>\n",
       "    <tr>\n",
       "      <th>2</th>\n",
       "      <td>AAPL</td>\n",
       "      <td>2020-06-26</td>\n",
       "      <td>365.320007</td>\n",
       "      <td>353.019989</td>\n",
       "      <td>364.410004</td>\n",
       "      <td>353.630005</td>\n",
       "      <td>51270100.0</td>\n",
       "      <td>353.630005</td>\n",
       "    </tr>\n",
       "    <tr>\n",
       "      <th>3</th>\n",
       "      <td>ABBV</td>\n",
       "      <td>2020-06-24</td>\n",
       "      <td>97.160004</td>\n",
       "      <td>94.349998</td>\n",
       "      <td>96.459999</td>\n",
       "      <td>95.139999</td>\n",
       "      <td>9025100.0</td>\n",
       "      <td>95.139999</td>\n",
       "    </tr>\n",
       "    <tr>\n",
       "      <th>4</th>\n",
       "      <td>ABBV</td>\n",
       "      <td>2020-06-25</td>\n",
       "      <td>97.070000</td>\n",
       "      <td>94.320000</td>\n",
       "      <td>95.180000</td>\n",
       "      <td>96.989998</td>\n",
       "      <td>6411700.0</td>\n",
       "      <td>96.989998</td>\n",
       "    </tr>\n",
       "    <tr>\n",
       "      <th>...</th>\n",
       "      <td>...</td>\n",
       "      <td>...</td>\n",
       "      <td>...</td>\n",
       "      <td>...</td>\n",
       "      <td>...</td>\n",
       "      <td>...</td>\n",
       "      <td>...</td>\n",
       "      <td>...</td>\n",
       "    </tr>\n",
       "    <tr>\n",
       "      <th>295</th>\n",
       "      <td>WMT</td>\n",
       "      <td>2020-06-25</td>\n",
       "      <td>120.160004</td>\n",
       "      <td>118.379997</td>\n",
       "      <td>119.760002</td>\n",
       "      <td>119.709999</td>\n",
       "      <td>6856600.0</td>\n",
       "      <td>119.709999</td>\n",
       "    </tr>\n",
       "    <tr>\n",
       "      <th>296</th>\n",
       "      <td>WMT</td>\n",
       "      <td>2020-06-26</td>\n",
       "      <td>120.839996</td>\n",
       "      <td>118.019997</td>\n",
       "      <td>119.599998</td>\n",
       "      <td>118.320000</td>\n",
       "      <td>8993300.0</td>\n",
       "      <td>118.320000</td>\n",
       "    </tr>\n",
       "    <tr>\n",
       "      <th>297</th>\n",
       "      <td>XOM</td>\n",
       "      <td>2020-06-24</td>\n",
       "      <td>45.959999</td>\n",
       "      <td>44.250000</td>\n",
       "      <td>45.910000</td>\n",
       "      <td>44.500000</td>\n",
       "      <td>27626900.0</td>\n",
       "      <td>44.500000</td>\n",
       "    </tr>\n",
       "    <tr>\n",
       "      <th>298</th>\n",
       "      <td>XOM</td>\n",
       "      <td>2020-06-25</td>\n",
       "      <td>45.240002</td>\n",
       "      <td>43.689999</td>\n",
       "      <td>44.049999</td>\n",
       "      <td>45.169998</td>\n",
       "      <td>19353600.0</td>\n",
       "      <td>45.169998</td>\n",
       "    </tr>\n",
       "    <tr>\n",
       "      <th>299</th>\n",
       "      <td>XOM</td>\n",
       "      <td>2020-06-26</td>\n",
       "      <td>44.939999</td>\n",
       "      <td>43.500000</td>\n",
       "      <td>44.880001</td>\n",
       "      <td>43.619999</td>\n",
       "      <td>31501700.0</td>\n",
       "      <td>43.619999</td>\n",
       "    </tr>\n",
       "  </tbody>\n",
       "</table>\n",
       "<p>300 rows × 8 columns</p>\n",
       "</div>"
      ],
      "text/plain": [
       "    Symbol       Date        High         Low        Open       Close  \\\n",
       "0     AAPL 2020-06-24  368.790009  358.519989  365.000000  360.059998   \n",
       "1     AAPL 2020-06-25  365.000000  357.570007  360.700012  364.839996   \n",
       "2     AAPL 2020-06-26  365.320007  353.019989  364.410004  353.630005   \n",
       "3     ABBV 2020-06-24   97.160004   94.349998   96.459999   95.139999   \n",
       "4     ABBV 2020-06-25   97.070000   94.320000   95.180000   96.989998   \n",
       "..     ...        ...         ...         ...         ...         ...   \n",
       "295    WMT 2020-06-25  120.160004  118.379997  119.760002  119.709999   \n",
       "296    WMT 2020-06-26  120.839996  118.019997  119.599998  118.320000   \n",
       "297    XOM 2020-06-24   45.959999   44.250000   45.910000   44.500000   \n",
       "298    XOM 2020-06-25   45.240002   43.689999   44.049999   45.169998   \n",
       "299    XOM 2020-06-26   44.939999   43.500000   44.880001   43.619999   \n",
       "\n",
       "         Volume   Adj Close  \n",
       "0    48155800.0  360.059998  \n",
       "1    34380600.0  364.839996  \n",
       "2    51270100.0  353.630005  \n",
       "3     9025100.0   95.139999  \n",
       "4     6411700.0   96.989998  \n",
       "..          ...         ...  \n",
       "295   6856600.0  119.709999  \n",
       "296   8993300.0  118.320000  \n",
       "297  27626900.0   44.500000  \n",
       "298  19353600.0   45.169998  \n",
       "299  31501700.0   43.619999  \n",
       "\n",
       "[300 rows x 8 columns]"
      ]
     },
     "execution_count": 111,
     "metadata": {},
     "output_type": "execute_result"
    }
   ],
   "source": [
    "df_Flat"
   ]
  },
  {
   "cell_type": "code",
   "execution_count": 63,
   "metadata": {},
   "outputs": [],
   "source": [
    "df = df.groupby(['Symbol', 'Date']).sum()"
   ]
  },
  {
   "cell_type": "code",
   "execution_count": 89,
   "metadata": {},
   "outputs": [
    {
     "data": {
      "text/html": [
       "<div>\n",
       "<style scoped>\n",
       "    .dataframe tbody tr th:only-of-type {\n",
       "        vertical-align: middle;\n",
       "    }\n",
       "\n",
       "    .dataframe tbody tr th {\n",
       "        vertical-align: top;\n",
       "    }\n",
       "\n",
       "    .dataframe thead th {\n",
       "        text-align: right;\n",
       "    }\n",
       "</style>\n",
       "<table border=\"1\" class=\"dataframe\">\n",
       "  <thead>\n",
       "    <tr style=\"text-align: right;\">\n",
       "      <th></th>\n",
       "      <th></th>\n",
       "      <th>High</th>\n",
       "      <th>Low</th>\n",
       "      <th>Open</th>\n",
       "      <th>Close</th>\n",
       "      <th>Volume</th>\n",
       "      <th>Adj Close</th>\n",
       "    </tr>\n",
       "    <tr>\n",
       "      <th>Symbol</th>\n",
       "      <th>Date</th>\n",
       "      <th></th>\n",
       "      <th></th>\n",
       "      <th></th>\n",
       "      <th></th>\n",
       "      <th></th>\n",
       "      <th></th>\n",
       "    </tr>\n",
       "  </thead>\n",
       "  <tbody>\n",
       "    <tr>\n",
       "      <th rowspan=\"3\" valign=\"top\">AAPL</th>\n",
       "      <th>2020-06-24</th>\n",
       "      <td>368.790009</td>\n",
       "      <td>358.519989</td>\n",
       "      <td>365.000000</td>\n",
       "      <td>360.059998</td>\n",
       "      <td>48155800.0</td>\n",
       "      <td>360.059998</td>\n",
       "    </tr>\n",
       "    <tr>\n",
       "      <th>2020-06-25</th>\n",
       "      <td>365.000000</td>\n",
       "      <td>357.570007</td>\n",
       "      <td>360.700012</td>\n",
       "      <td>364.839996</td>\n",
       "      <td>34380600.0</td>\n",
       "      <td>364.839996</td>\n",
       "    </tr>\n",
       "    <tr>\n",
       "      <th>2020-06-26</th>\n",
       "      <td>365.320007</td>\n",
       "      <td>353.019989</td>\n",
       "      <td>364.410004</td>\n",
       "      <td>353.630005</td>\n",
       "      <td>51270100.0</td>\n",
       "      <td>353.630005</td>\n",
       "    </tr>\n",
       "    <tr>\n",
       "      <th rowspan=\"2\" valign=\"top\">ABBV</th>\n",
       "      <th>2020-06-24</th>\n",
       "      <td>97.160004</td>\n",
       "      <td>94.349998</td>\n",
       "      <td>96.459999</td>\n",
       "      <td>95.139999</td>\n",
       "      <td>9025100.0</td>\n",
       "      <td>95.139999</td>\n",
       "    </tr>\n",
       "    <tr>\n",
       "      <th>2020-06-25</th>\n",
       "      <td>97.070000</td>\n",
       "      <td>94.320000</td>\n",
       "      <td>95.180000</td>\n",
       "      <td>96.989998</td>\n",
       "      <td>6411700.0</td>\n",
       "      <td>96.989998</td>\n",
       "    </tr>\n",
       "    <tr>\n",
       "      <th>...</th>\n",
       "      <th>...</th>\n",
       "      <td>...</td>\n",
       "      <td>...</td>\n",
       "      <td>...</td>\n",
       "      <td>...</td>\n",
       "      <td>...</td>\n",
       "      <td>...</td>\n",
       "    </tr>\n",
       "    <tr>\n",
       "      <th rowspan=\"2\" valign=\"top\">WMT</th>\n",
       "      <th>2020-06-25</th>\n",
       "      <td>120.160004</td>\n",
       "      <td>118.379997</td>\n",
       "      <td>119.760002</td>\n",
       "      <td>119.709999</td>\n",
       "      <td>6856600.0</td>\n",
       "      <td>119.709999</td>\n",
       "    </tr>\n",
       "    <tr>\n",
       "      <th>2020-06-26</th>\n",
       "      <td>120.839996</td>\n",
       "      <td>118.019997</td>\n",
       "      <td>119.599998</td>\n",
       "      <td>118.320000</td>\n",
       "      <td>8993300.0</td>\n",
       "      <td>118.320000</td>\n",
       "    </tr>\n",
       "    <tr>\n",
       "      <th rowspan=\"3\" valign=\"top\">XOM</th>\n",
       "      <th>2020-06-24</th>\n",
       "      <td>45.959999</td>\n",
       "      <td>44.250000</td>\n",
       "      <td>45.910000</td>\n",
       "      <td>44.500000</td>\n",
       "      <td>27626900.0</td>\n",
       "      <td>44.500000</td>\n",
       "    </tr>\n",
       "    <tr>\n",
       "      <th>2020-06-25</th>\n",
       "      <td>45.240002</td>\n",
       "      <td>43.689999</td>\n",
       "      <td>44.049999</td>\n",
       "      <td>45.169998</td>\n",
       "      <td>19353600.0</td>\n",
       "      <td>45.169998</td>\n",
       "    </tr>\n",
       "    <tr>\n",
       "      <th>2020-06-26</th>\n",
       "      <td>44.939999</td>\n",
       "      <td>43.500000</td>\n",
       "      <td>44.880001</td>\n",
       "      <td>43.619999</td>\n",
       "      <td>31501700.0</td>\n",
       "      <td>43.619999</td>\n",
       "    </tr>\n",
       "  </tbody>\n",
       "</table>\n",
       "<p>300 rows × 6 columns</p>\n",
       "</div>"
      ],
      "text/plain": [
       "                         High         Low        Open       Close      Volume  \\\n",
       "Symbol Date                                                                     \n",
       "AAPL   2020-06-24  368.790009  358.519989  365.000000  360.059998  48155800.0   \n",
       "       2020-06-25  365.000000  357.570007  360.700012  364.839996  34380600.0   \n",
       "       2020-06-26  365.320007  353.019989  364.410004  353.630005  51270100.0   \n",
       "ABBV   2020-06-24   97.160004   94.349998   96.459999   95.139999   9025100.0   \n",
       "       2020-06-25   97.070000   94.320000   95.180000   96.989998   6411700.0   \n",
       "...                       ...         ...         ...         ...         ...   \n",
       "WMT    2020-06-25  120.160004  118.379997  119.760002  119.709999   6856600.0   \n",
       "       2020-06-26  120.839996  118.019997  119.599998  118.320000   8993300.0   \n",
       "XOM    2020-06-24   45.959999   44.250000   45.910000   44.500000  27626900.0   \n",
       "       2020-06-25   45.240002   43.689999   44.049999   45.169998  19353600.0   \n",
       "       2020-06-26   44.939999   43.500000   44.880001   43.619999  31501700.0   \n",
       "\n",
       "                    Adj Close  \n",
       "Symbol Date                    \n",
       "AAPL   2020-06-24  360.059998  \n",
       "       2020-06-25  364.839996  \n",
       "       2020-06-26  353.630005  \n",
       "ABBV   2020-06-24   95.139999  \n",
       "       2020-06-25   96.989998  \n",
       "...                       ...  \n",
       "WMT    2020-06-25  119.709999  \n",
       "       2020-06-26  118.320000  \n",
       "XOM    2020-06-24   44.500000  \n",
       "       2020-06-25   45.169998  \n",
       "       2020-06-26   43.619999  \n",
       "\n",
       "[300 rows x 6 columns]"
      ]
     },
     "execution_count": 89,
     "metadata": {},
     "output_type": "execute_result"
    }
   ],
   "source": [
    "df"
   ]
  },
  {
   "cell_type": "code",
   "execution_count": 151,
   "metadata": {
    "scrolled": true
   },
   "outputs": [
    {
     "name": "stdout",
     "output_type": "stream",
     "text": [
      "High\n",
      "Low\n",
      "Open\n",
      "Close\n",
      "Volume\n",
      "Adj Close\n",
      "%_close_groupby\n"
     ]
    }
   ],
   "source": [
    "df_Flat_pct_change = []\n",
    "\n",
    "for i in df_Flat.columns:\n",
    "    if i !=\"Symbol\" and i!=\"Date\" :\n",
    "        #print (i)\n",
    "        df_Flat_pct_change[i] = df_Flat.groupby('Symbol')[i].pct_change()"
   ]
  },
  {
   "cell_type": "code",
   "execution_count": 153,
   "metadata": {},
   "outputs": [
    {
     "data": {
      "text/html": [
       "<div>\n",
       "<style scoped>\n",
       "    .dataframe tbody tr th:only-of-type {\n",
       "        vertical-align: middle;\n",
       "    }\n",
       "\n",
       "    .dataframe tbody tr th {\n",
       "        vertical-align: top;\n",
       "    }\n",
       "\n",
       "    .dataframe thead th {\n",
       "        text-align: right;\n",
       "    }\n",
       "</style>\n",
       "<table border=\"1\" class=\"dataframe\">\n",
       "  <thead>\n",
       "    <tr style=\"text-align: right;\">\n",
       "      <th></th>\n",
       "      <th>Symbol</th>\n",
       "      <th>Date</th>\n",
       "      <th>High</th>\n",
       "      <th>Low</th>\n",
       "      <th>Open</th>\n",
       "      <th>Close</th>\n",
       "      <th>Volume</th>\n",
       "      <th>Adj Close</th>\n",
       "      <th>%_close_groupby</th>\n",
       "    </tr>\n",
       "  </thead>\n",
       "  <tbody>\n",
       "    <tr>\n",
       "      <th>0</th>\n",
       "      <td>AAPL</td>\n",
       "      <td>2020-06-24</td>\n",
       "      <td>NaN</td>\n",
       "      <td>NaN</td>\n",
       "      <td>NaN</td>\n",
       "      <td>NaN</td>\n",
       "      <td>NaN</td>\n",
       "      <td>NaN</td>\n",
       "      <td>NaN</td>\n",
       "    </tr>\n",
       "    <tr>\n",
       "      <th>1</th>\n",
       "      <td>AAPL</td>\n",
       "      <td>2020-06-25</td>\n",
       "      <td>-0.010277</td>\n",
       "      <td>-0.002650</td>\n",
       "      <td>-0.011781</td>\n",
       "      <td>0.013276</td>\n",
       "      <td>-0.286055</td>\n",
       "      <td>0.013276</td>\n",
       "      <td>NaN</td>\n",
       "    </tr>\n",
       "    <tr>\n",
       "      <th>2</th>\n",
       "      <td>AAPL</td>\n",
       "      <td>2020-06-26</td>\n",
       "      <td>0.000877</td>\n",
       "      <td>-0.012725</td>\n",
       "      <td>0.010286</td>\n",
       "      <td>-0.030726</td>\n",
       "      <td>0.491251</td>\n",
       "      <td>-0.030726</td>\n",
       "      <td>NaN</td>\n",
       "    </tr>\n",
       "    <tr>\n",
       "      <th>3</th>\n",
       "      <td>ABBV</td>\n",
       "      <td>2020-06-24</td>\n",
       "      <td>NaN</td>\n",
       "      <td>NaN</td>\n",
       "      <td>NaN</td>\n",
       "      <td>NaN</td>\n",
       "      <td>NaN</td>\n",
       "      <td>NaN</td>\n",
       "      <td>NaN</td>\n",
       "    </tr>\n",
       "    <tr>\n",
       "      <th>4</th>\n",
       "      <td>ABBV</td>\n",
       "      <td>2020-06-25</td>\n",
       "      <td>-0.000926</td>\n",
       "      <td>-0.000318</td>\n",
       "      <td>-0.013270</td>\n",
       "      <td>0.019445</td>\n",
       "      <td>-0.289570</td>\n",
       "      <td>0.019445</td>\n",
       "      <td>NaN</td>\n",
       "    </tr>\n",
       "    <tr>\n",
       "      <th>...</th>\n",
       "      <td>...</td>\n",
       "      <td>...</td>\n",
       "      <td>...</td>\n",
       "      <td>...</td>\n",
       "      <td>...</td>\n",
       "      <td>...</td>\n",
       "      <td>...</td>\n",
       "      <td>...</td>\n",
       "      <td>...</td>\n",
       "    </tr>\n",
       "    <tr>\n",
       "      <th>295</th>\n",
       "      <td>WMT</td>\n",
       "      <td>2020-06-25</td>\n",
       "      <td>-0.007926</td>\n",
       "      <td>-0.010035</td>\n",
       "      <td>-0.008117</td>\n",
       "      <td>-0.004904</td>\n",
       "      <td>-0.002183</td>\n",
       "      <td>-0.004904</td>\n",
       "      <td>NaN</td>\n",
       "    </tr>\n",
       "    <tr>\n",
       "      <th>296</th>\n",
       "      <td>WMT</td>\n",
       "      <td>2020-06-26</td>\n",
       "      <td>0.005659</td>\n",
       "      <td>-0.003041</td>\n",
       "      <td>-0.001336</td>\n",
       "      <td>-0.011611</td>\n",
       "      <td>0.311627</td>\n",
       "      <td>-0.011611</td>\n",
       "      <td>NaN</td>\n",
       "    </tr>\n",
       "    <tr>\n",
       "      <th>297</th>\n",
       "      <td>XOM</td>\n",
       "      <td>2020-06-24</td>\n",
       "      <td>NaN</td>\n",
       "      <td>NaN</td>\n",
       "      <td>NaN</td>\n",
       "      <td>NaN</td>\n",
       "      <td>NaN</td>\n",
       "      <td>NaN</td>\n",
       "      <td>NaN</td>\n",
       "    </tr>\n",
       "    <tr>\n",
       "      <th>298</th>\n",
       "      <td>XOM</td>\n",
       "      <td>2020-06-25</td>\n",
       "      <td>-0.015666</td>\n",
       "      <td>-0.012655</td>\n",
       "      <td>-0.040514</td>\n",
       "      <td>0.015056</td>\n",
       "      <td>-0.299465</td>\n",
       "      <td>0.015056</td>\n",
       "      <td>NaN</td>\n",
       "    </tr>\n",
       "    <tr>\n",
       "      <th>299</th>\n",
       "      <td>XOM</td>\n",
       "      <td>2020-06-26</td>\n",
       "      <td>-0.006631</td>\n",
       "      <td>-0.004349</td>\n",
       "      <td>0.018842</td>\n",
       "      <td>-0.034315</td>\n",
       "      <td>0.627692</td>\n",
       "      <td>-0.034315</td>\n",
       "      <td>NaN</td>\n",
       "    </tr>\n",
       "  </tbody>\n",
       "</table>\n",
       "<p>300 rows × 9 columns</p>\n",
       "</div>"
      ],
      "text/plain": [
       "    Symbol       Date      High       Low      Open     Close    Volume  \\\n",
       "0     AAPL 2020-06-24       NaN       NaN       NaN       NaN       NaN   \n",
       "1     AAPL 2020-06-25 -0.010277 -0.002650 -0.011781  0.013276 -0.286055   \n",
       "2     AAPL 2020-06-26  0.000877 -0.012725  0.010286 -0.030726  0.491251   \n",
       "3     ABBV 2020-06-24       NaN       NaN       NaN       NaN       NaN   \n",
       "4     ABBV 2020-06-25 -0.000926 -0.000318 -0.013270  0.019445 -0.289570   \n",
       "..     ...        ...       ...       ...       ...       ...       ...   \n",
       "295    WMT 2020-06-25 -0.007926 -0.010035 -0.008117 -0.004904 -0.002183   \n",
       "296    WMT 2020-06-26  0.005659 -0.003041 -0.001336 -0.011611  0.311627   \n",
       "297    XOM 2020-06-24       NaN       NaN       NaN       NaN       NaN   \n",
       "298    XOM 2020-06-25 -0.015666 -0.012655 -0.040514  0.015056 -0.299465   \n",
       "299    XOM 2020-06-26 -0.006631 -0.004349  0.018842 -0.034315  0.627692   \n",
       "\n",
       "     Adj Close  %_close_groupby  \n",
       "0          NaN              NaN  \n",
       "1     0.013276              NaN  \n",
       "2    -0.030726              NaN  \n",
       "3          NaN              NaN  \n",
       "4     0.019445              NaN  \n",
       "..         ...              ...  \n",
       "295  -0.004904              NaN  \n",
       "296  -0.011611              NaN  \n",
       "297        NaN              NaN  \n",
       "298   0.015056              NaN  \n",
       "299  -0.034315              NaN  \n",
       "\n",
       "[300 rows x 9 columns]"
      ]
     },
     "execution_count": 153,
     "metadata": {},
     "output_type": "execute_result"
    }
   ],
   "source": [
    "df_Flat_pct_change"
   ]
  },
  {
   "cell_type": "code",
   "execution_count": null,
   "metadata": {},
   "outputs": [],
   "source": []
  },
  {
   "cell_type": "code",
   "execution_count": 154,
   "metadata": {},
   "outputs": [],
   "source": [
    "df_temp = df.unstack(level=0).pct_change()  #df.groupby(['Symbol', 'Date']).sum().pct_change()"
   ]
  },
  {
   "cell_type": "code",
   "execution_count": 155,
   "metadata": {
    "scrolled": true
   },
   "outputs": [
    {
     "data": {
      "text/html": [
       "<div>\n",
       "<style scoped>\n",
       "    .dataframe tbody tr th:only-of-type {\n",
       "        vertical-align: middle;\n",
       "    }\n",
       "\n",
       "    .dataframe tbody tr th {\n",
       "        vertical-align: top;\n",
       "    }\n",
       "\n",
       "    .dataframe thead tr th {\n",
       "        text-align: left;\n",
       "    }\n",
       "\n",
       "    .dataframe thead tr:last-of-type th {\n",
       "        text-align: right;\n",
       "    }\n",
       "</style>\n",
       "<table border=\"1\" class=\"dataframe\">\n",
       "  <thead>\n",
       "    <tr>\n",
       "      <th></th>\n",
       "      <th colspan=\"10\" halign=\"left\">High</th>\n",
       "      <th>...</th>\n",
       "      <th colspan=\"10\" halign=\"left\">%_close_groupby</th>\n",
       "    </tr>\n",
       "    <tr>\n",
       "      <th>Symbol</th>\n",
       "      <th>AAPL</th>\n",
       "      <th>ABBV</th>\n",
       "      <th>ABT</th>\n",
       "      <th>ACN</th>\n",
       "      <th>ADBE</th>\n",
       "      <th>AIG</th>\n",
       "      <th>ALL</th>\n",
       "      <th>AMGN</th>\n",
       "      <th>AMT</th>\n",
       "      <th>AMZN</th>\n",
       "      <th>...</th>\n",
       "      <th>UNH</th>\n",
       "      <th>UNP</th>\n",
       "      <th>UPS</th>\n",
       "      <th>USB</th>\n",
       "      <th>V</th>\n",
       "      <th>VZ</th>\n",
       "      <th>WBA</th>\n",
       "      <th>WFC</th>\n",
       "      <th>WMT</th>\n",
       "      <th>XOM</th>\n",
       "    </tr>\n",
       "    <tr>\n",
       "      <th>Date</th>\n",
       "      <th></th>\n",
       "      <th></th>\n",
       "      <th></th>\n",
       "      <th></th>\n",
       "      <th></th>\n",
       "      <th></th>\n",
       "      <th></th>\n",
       "      <th></th>\n",
       "      <th></th>\n",
       "      <th></th>\n",
       "      <th></th>\n",
       "      <th></th>\n",
       "      <th></th>\n",
       "      <th></th>\n",
       "      <th></th>\n",
       "      <th></th>\n",
       "      <th></th>\n",
       "      <th></th>\n",
       "      <th></th>\n",
       "      <th></th>\n",
       "      <th></th>\n",
       "    </tr>\n",
       "  </thead>\n",
       "  <tbody>\n",
       "    <tr>\n",
       "      <th>2020-06-24</th>\n",
       "      <td>NaN</td>\n",
       "      <td>NaN</td>\n",
       "      <td>NaN</td>\n",
       "      <td>NaN</td>\n",
       "      <td>NaN</td>\n",
       "      <td>NaN</td>\n",
       "      <td>NaN</td>\n",
       "      <td>NaN</td>\n",
       "      <td>NaN</td>\n",
       "      <td>NaN</td>\n",
       "      <td>...</td>\n",
       "      <td>NaN</td>\n",
       "      <td>NaN</td>\n",
       "      <td>NaN</td>\n",
       "      <td>NaN</td>\n",
       "      <td>NaN</td>\n",
       "      <td>NaN</td>\n",
       "      <td>NaN</td>\n",
       "      <td>NaN</td>\n",
       "      <td>NaN</td>\n",
       "      <td>NaN</td>\n",
       "    </tr>\n",
       "    <tr>\n",
       "      <th>2020-06-25</th>\n",
       "      <td>-0.010277</td>\n",
       "      <td>-0.000926</td>\n",
       "      <td>-0.010140</td>\n",
       "      <td>0.050579</td>\n",
       "      <td>-0.010572</td>\n",
       "      <td>-0.009482</td>\n",
       "      <td>-0.000209</td>\n",
       "      <td>-0.006582</td>\n",
       "      <td>-0.02751</td>\n",
       "      <td>-0.014224</td>\n",
       "      <td>...</td>\n",
       "      <td>NaN</td>\n",
       "      <td>NaN</td>\n",
       "      <td>NaN</td>\n",
       "      <td>NaN</td>\n",
       "      <td>NaN</td>\n",
       "      <td>NaN</td>\n",
       "      <td>NaN</td>\n",
       "      <td>NaN</td>\n",
       "      <td>NaN</td>\n",
       "      <td>NaN</td>\n",
       "    </tr>\n",
       "    <tr>\n",
       "      <th>2020-06-26</th>\n",
       "      <td>0.000877</td>\n",
       "      <td>-0.000412</td>\n",
       "      <td>0.001559</td>\n",
       "      <td>-0.004406</td>\n",
       "      <td>0.000434</td>\n",
       "      <td>-0.014678</td>\n",
       "      <td>-0.001877</td>\n",
       "      <td>0.006031</td>\n",
       "      <td>0.00840</td>\n",
       "      <td>0.009557</td>\n",
       "      <td>...</td>\n",
       "      <td>NaN</td>\n",
       "      <td>NaN</td>\n",
       "      <td>NaN</td>\n",
       "      <td>NaN</td>\n",
       "      <td>NaN</td>\n",
       "      <td>NaN</td>\n",
       "      <td>NaN</td>\n",
       "      <td>NaN</td>\n",
       "      <td>NaN</td>\n",
       "      <td>NaN</td>\n",
       "    </tr>\n",
       "  </tbody>\n",
       "</table>\n",
       "<p>3 rows × 700 columns</p>\n",
       "</div>"
      ],
      "text/plain": [
       "                High                                                    \\\n",
       "Symbol          AAPL      ABBV       ABT       ACN      ADBE       AIG   \n",
       "Date                                                                     \n",
       "2020-06-24       NaN       NaN       NaN       NaN       NaN       NaN   \n",
       "2020-06-25 -0.010277 -0.000926 -0.010140  0.050579 -0.010572 -0.009482   \n",
       "2020-06-26  0.000877 -0.000412  0.001559 -0.004406  0.000434 -0.014678   \n",
       "\n",
       "                                                   ... %_close_groupby      \\\n",
       "Symbol           ALL      AMGN      AMT      AMZN  ...             UNH UNP   \n",
       "Date                                               ...                       \n",
       "2020-06-24       NaN       NaN      NaN       NaN  ...             NaN NaN   \n",
       "2020-06-25 -0.000209 -0.006582 -0.02751 -0.014224  ...             NaN NaN   \n",
       "2020-06-26 -0.001877  0.006031  0.00840  0.009557  ...             NaN NaN   \n",
       "\n",
       "                                            \n",
       "Symbol     UPS USB   V  VZ WBA WFC WMT XOM  \n",
       "Date                                        \n",
       "2020-06-24 NaN NaN NaN NaN NaN NaN NaN NaN  \n",
       "2020-06-25 NaN NaN NaN NaN NaN NaN NaN NaN  \n",
       "2020-06-26 NaN NaN NaN NaN NaN NaN NaN NaN  \n",
       "\n",
       "[3 rows x 700 columns]"
      ]
     },
     "execution_count": 155,
     "metadata": {},
     "output_type": "execute_result"
    }
   ],
   "source": [
    "df_temp"
   ]
  },
  {
   "cell_type": "markdown",
   "metadata": {},
   "source": [
    "## Functions defined"
   ]
  },
  {
   "cell_type": "code",
   "execution_count": 25,
   "metadata": {},
   "outputs": [],
   "source": [
    "def CreatePctPlotAndSavefig(listTickers, stringTitle, stringYlabel, jpg_name):\n",
    "    sns.relplot(x='Date', y='Close', kind='line', hue ='Symbol',data=df.pct_change().loc[listTickers].reset_index()).fig.autofmt_xdate()\n",
    "    plt.grid(which=\"major\", color='k', linestyle='-.', linewidth=0.5)\n",
    "    plt.title(stringTitle, fontsize=16)\n",
    "    plt.ylabel(stringYlabel, fontsize=14)\n",
    "    plt.xlabel('Date', fontsize=14)\n",
    "    #plt.tight_layout()\n",
    "\n",
    "    jpg_name = jpg_name + '.jpg'\n",
    "    plt.savefig(jpg_name, bbox_inches='tight')"
   ]
  },
  {
   "cell_type": "code",
   "execution_count": 26,
   "metadata": {},
   "outputs": [],
   "source": [
    "def CreatePlotAndSavefig(listTickers, stringTitle, stringYlabel, jpg_name):\n",
    "    sns.relplot(x='Date', y='Close', kind='line', hue ='Symbol',data=df.loc[listTickers].reset_index()).fig.autofmt_xdate()\n",
    "    plt.grid(which=\"major\", color='k', linestyle='-.', linewidth=0.5)\n",
    "    plt.title(stringTitle, fontsize=16)\n",
    "    plt.ylabel(stringYlabel, fontsize=14)\n",
    "    plt.xlabel('Date', fontsize=14)\n",
    "\n",
    "    jpg_name = jpg_name + '.jpg'\n",
    "    plt.savefig(jpg_name, bbox_inches='tight')"
   ]
  },
  {
   "cell_type": "markdown",
   "metadata": {},
   "source": [
    "### Best performed tickers based on percentage of of growth"
   ]
  },
  {
   "cell_type": "code",
   "execution_count": 31,
   "metadata": {},
   "outputs": [],
   "source": [
    "tickers_bestPerformed = df_temp['Close'].describe().transpose().sort_values(by='mean', ascending=False).head(5).round(2) #df_pct_change['Close'].describe().transpose().sort_values(by='mean', ascending=False).head(5)"
   ]
  },
  {
   "cell_type": "code",
   "execution_count": 32,
   "metadata": {},
   "outputs": [
    {
     "data": {
      "text/html": [
       "<div>\n",
       "<style scoped>\n",
       "    .dataframe tbody tr th:only-of-type {\n",
       "        vertical-align: middle;\n",
       "    }\n",
       "\n",
       "    .dataframe tbody tr th {\n",
       "        vertical-align: top;\n",
       "    }\n",
       "\n",
       "    .dataframe thead th {\n",
       "        text-align: right;\n",
       "    }\n",
       "</style>\n",
       "<table border=\"1\" class=\"dataframe\">\n",
       "  <thead>\n",
       "    <tr style=\"text-align: right;\">\n",
       "      <th></th>\n",
       "      <th>count</th>\n",
       "      <th>mean</th>\n",
       "      <th>std</th>\n",
       "      <th>min</th>\n",
       "      <th>25%</th>\n",
       "      <th>50%</th>\n",
       "      <th>75%</th>\n",
       "      <th>max</th>\n",
       "    </tr>\n",
       "    <tr>\n",
       "      <th>Symbol</th>\n",
       "      <th></th>\n",
       "      <th></th>\n",
       "      <th></th>\n",
       "      <th></th>\n",
       "      <th></th>\n",
       "      <th></th>\n",
       "      <th></th>\n",
       "      <th></th>\n",
       "    </tr>\n",
       "  </thead>\n",
       "  <tbody>\n",
       "    <tr>\n",
       "      <th>ACN</th>\n",
       "      <td>2.0</td>\n",
       "      <td>0.03</td>\n",
       "      <td>0.07</td>\n",
       "      <td>-0.02</td>\n",
       "      <td>0.00</td>\n",
       "      <td>0.03</td>\n",
       "      <td>0.05</td>\n",
       "      <td>0.08</td>\n",
       "    </tr>\n",
       "    <tr>\n",
       "      <th>LLY</th>\n",
       "      <td>2.0</td>\n",
       "      <td>0.02</td>\n",
       "      <td>0.03</td>\n",
       "      <td>-0.00</td>\n",
       "      <td>0.01</td>\n",
       "      <td>0.02</td>\n",
       "      <td>0.03</td>\n",
       "      <td>0.04</td>\n",
       "    </tr>\n",
       "    <tr>\n",
       "      <th>DOW</th>\n",
       "      <td>2.0</td>\n",
       "      <td>0.02</td>\n",
       "      <td>0.03</td>\n",
       "      <td>-0.00</td>\n",
       "      <td>0.01</td>\n",
       "      <td>0.02</td>\n",
       "      <td>0.03</td>\n",
       "      <td>0.04</td>\n",
       "    </tr>\n",
       "    <tr>\n",
       "      <th>CSCO</th>\n",
       "      <td>2.0</td>\n",
       "      <td>0.02</td>\n",
       "      <td>0.01</td>\n",
       "      <td>0.01</td>\n",
       "      <td>0.01</td>\n",
       "      <td>0.02</td>\n",
       "      <td>0.02</td>\n",
       "      <td>0.02</td>\n",
       "    </tr>\n",
       "    <tr>\n",
       "      <th>ALL</th>\n",
       "      <td>2.0</td>\n",
       "      <td>0.01</td>\n",
       "      <td>0.03</td>\n",
       "      <td>-0.01</td>\n",
       "      <td>-0.00</td>\n",
       "      <td>0.01</td>\n",
       "      <td>0.02</td>\n",
       "      <td>0.03</td>\n",
       "    </tr>\n",
       "  </tbody>\n",
       "</table>\n",
       "</div>"
      ],
      "text/plain": [
       "        count  mean   std   min   25%   50%   75%   max\n",
       "Symbol                                                 \n",
       "ACN       2.0  0.03  0.07 -0.02  0.00  0.03  0.05  0.08\n",
       "LLY       2.0  0.02  0.03 -0.00  0.01  0.02  0.03  0.04\n",
       "DOW       2.0  0.02  0.03 -0.00  0.01  0.02  0.03  0.04\n",
       "CSCO      2.0  0.02  0.01  0.01  0.01  0.02  0.02  0.02\n",
       "ALL       2.0  0.01  0.03 -0.01 -0.00  0.01  0.02  0.03"
      ]
     },
     "execution_count": 32,
     "metadata": {},
     "output_type": "execute_result"
    }
   ],
   "source": [
    "tickers_bestPerformed"
   ]
  },
  {
   "cell_type": "code",
   "execution_count": null,
   "metadata": {},
   "outputs": [],
   "source": []
  },
  {
   "cell_type": "code",
   "execution_count": 33,
   "metadata": {},
   "outputs": [
    {
     "data": {
      "image/png": "[encoded data removed]",
      "text/plain": [
       "<Figure size 432.875x360 with 1 Axes>"
      ]
     },
     "metadata": {
      "needs_background": "light"
     },
     "output_type": "display_data"
    }
   ],
   "source": [
    "CreatePctPlotAndSavefig(tickers_bestPerformed.index, 'Best performed companies based on % Changes in Close Price', 'change in closing price (%)', '3')"
   ]
  },
  {
   "cell_type": "code",
   "execution_count": 34,
   "metadata": {
    "scrolled": true
   },
   "outputs": [
    {
     "data": {
      "image/png": "[encoded data removed]",
      "text/plain": [
       "<Figure size 432.875x360 with 1 Axes>"
      ]
     },
     "metadata": {
      "needs_background": "light"
     },
     "output_type": "display_data"
    }
   ],
   "source": [
    "CreatePlotAndSavefig(tickers_volatile.index, 'Best performed companies based on % Changes in Close Price', 'change in closing price ($)', '4')"
   ]
  },
  {
   "cell_type": "code",
   "execution_count": null,
   "metadata": {},
   "outputs": [],
   "source": []
  },
  {
   "cell_type": "markdown",
   "metadata": {},
   "source": [
    "## Volatility"
   ]
  },
  {
   "cell_type": "markdown",
   "metadata": {},
   "source": [
    "### most volatiled companies. (based on the standard deviation of percentage change)"
   ]
  },
  {
   "cell_type": "markdown",
   "metadata": {},
   "source": [
    "#### Top 5 companies with highest volatillity rates among S&P 100"
   ]
  },
  {
   "cell_type": "code",
   "execution_count": 27,
   "metadata": {},
   "outputs": [
    {
     "data": {
      "text/html": [
       "<div>\n",
       "<style scoped>\n",
       "    .dataframe tbody tr th:only-of-type {\n",
       "        vertical-align: middle;\n",
       "    }\n",
       "\n",
       "    .dataframe tbody tr th {\n",
       "        vertical-align: top;\n",
       "    }\n",
       "\n",
       "    .dataframe thead th {\n",
       "        text-align: right;\n",
       "    }\n",
       "</style>\n",
       "<table border=\"1\" class=\"dataframe\">\n",
       "  <thead>\n",
       "    <tr style=\"text-align: right;\">\n",
       "      <th></th>\n",
       "      <th>count</th>\n",
       "      <th>mean</th>\n",
       "      <th>std</th>\n",
       "      <th>min</th>\n",
       "      <th>25%</th>\n",
       "      <th>50%</th>\n",
       "      <th>75%</th>\n",
       "      <th>max</th>\n",
       "    </tr>\n",
       "    <tr>\n",
       "      <th>Symbol</th>\n",
       "      <th></th>\n",
       "      <th></th>\n",
       "      <th></th>\n",
       "      <th></th>\n",
       "      <th></th>\n",
       "      <th></th>\n",
       "      <th></th>\n",
       "      <th></th>\n",
       "    </tr>\n",
       "  </thead>\n",
       "  <tbody>\n",
       "    <tr>\n",
       "      <th>GS</th>\n",
       "      <td>2.0</td>\n",
       "      <td>-0.02</td>\n",
       "      <td>0.09</td>\n",
       "      <td>-0.09</td>\n",
       "      <td>-0.05</td>\n",
       "      <td>-0.02</td>\n",
       "      <td>0.01</td>\n",
       "      <td>0.05</td>\n",
       "    </tr>\n",
       "    <tr>\n",
       "      <th>WFC</th>\n",
       "      <td>2.0</td>\n",
       "      <td>-0.01</td>\n",
       "      <td>0.09</td>\n",
       "      <td>-0.07</td>\n",
       "      <td>-0.04</td>\n",
       "      <td>-0.01</td>\n",
       "      <td>0.02</td>\n",
       "      <td>0.05</td>\n",
       "    </tr>\n",
       "    <tr>\n",
       "      <th>COF</th>\n",
       "      <td>2.0</td>\n",
       "      <td>-0.03</td>\n",
       "      <td>0.08</td>\n",
       "      <td>-0.09</td>\n",
       "      <td>-0.06</td>\n",
       "      <td>-0.03</td>\n",
       "      <td>-0.00</td>\n",
       "      <td>0.02</td>\n",
       "    </tr>\n",
       "    <tr>\n",
       "      <th>BAC</th>\n",
       "      <td>2.0</td>\n",
       "      <td>-0.01</td>\n",
       "      <td>0.07</td>\n",
       "      <td>-0.06</td>\n",
       "      <td>-0.04</td>\n",
       "      <td>-0.01</td>\n",
       "      <td>0.01</td>\n",
       "      <td>0.04</td>\n",
       "    </tr>\n",
       "    <tr>\n",
       "      <th>ACN</th>\n",
       "      <td>2.0</td>\n",
       "      <td>0.03</td>\n",
       "      <td>0.07</td>\n",
       "      <td>-0.02</td>\n",
       "      <td>0.00</td>\n",
       "      <td>0.03</td>\n",
       "      <td>0.05</td>\n",
       "      <td>0.08</td>\n",
       "    </tr>\n",
       "  </tbody>\n",
       "</table>\n",
       "</div>"
      ],
      "text/plain": [
       "        count  mean   std   min   25%   50%   75%   max\n",
       "Symbol                                                 \n",
       "GS        2.0 -0.02  0.09 -0.09 -0.05 -0.02  0.01  0.05\n",
       "WFC       2.0 -0.01  0.09 -0.07 -0.04 -0.01  0.02  0.05\n",
       "COF       2.0 -0.03  0.08 -0.09 -0.06 -0.03 -0.00  0.02\n",
       "BAC       2.0 -0.01  0.07 -0.06 -0.04 -0.01  0.01  0.04\n",
       "ACN       2.0  0.03  0.07 -0.02  0.00  0.03  0.05  0.08"
      ]
     },
     "execution_count": 27,
     "metadata": {},
     "output_type": "execute_result"
    }
   ],
   "source": [
    "tickers_volatile = df_temp['Close'].describe().transpose().sort_values(by='std', ascending=False).head(5).round(2)\n",
    "tickers_volatile"
   ]
  },
  {
   "cell_type": "code",
   "execution_count": 47,
   "metadata": {},
   "outputs": [
    {
     "data": {
      "text/plain": [
       "Index(['GS', 'WFC', 'COF', 'BAC', 'ACN'], dtype='object', name='Symbol')"
      ]
     },
     "execution_count": 47,
     "metadata": {},
     "output_type": "execute_result"
    }
   ],
   "source": [
    "tickers_volatile.index"
   ]
  },
  {
   "cell_type": "code",
   "execution_count": 50,
   "metadata": {},
   "outputs": [
    {
     "data": {
      "image/png": "[encoded data removed]",
      "text/plain": [
       "<Figure size 432.875x360 with 1 Axes>"
      ]
     },
     "metadata": {
      "needs_background": "light"
     },
     "output_type": "display_data"
    }
   ],
   "source": [
    "CreatePctPlotAndSavefig(tickers_volatile.index, 'Most volatiled companies based on % Changes in Close Price', 'change in closing price (%)', '1')"
   ]
  },
  {
   "cell_type": "code",
   "execution_count": 30,
   "metadata": {
    "scrolled": true
   },
   "outputs": [
    {
     "data": {
      "image/png": "[encoded data removed]",
      "text/plain": [
       "<Figure size 432.875x360 with 1 Axes>"
      ]
     },
     "metadata": {
      "needs_background": "light"
     },
     "output_type": "display_data"
    }
   ],
   "source": [
    "CreatePlotAndSavefig(tickers_volatile.index, 'Most volatiled companies based on % Changes in Close Price', 'change in closing price ($)', '2')"
   ]
  },
  {
   "cell_type": "markdown",
   "metadata": {},
   "source": [
    "## S&P 100 total"
   ]
  },
  {
   "cell_type": "code",
   "execution_count": 35,
   "metadata": {},
   "outputs": [
    {
     "data": {
      "text/plain": [
       "Text(0.5, 6.79999999999999, 'Date')"
      ]
     },
     "execution_count": 35,
     "metadata": {},
     "output_type": "execute_result"
    },
    {
     "data": {
      "image/png": "[encoded data removed]",
      "text/plain": [
       "<Figure size 360x360 with 1 Axes>"
      ]
     },
     "metadata": {
      "needs_background": "light"
     },
     "output_type": "display_data"
    }
   ],
   "source": [
    "import matplotlib.pyplot as plt\n",
    "import seaborn as sns\n",
    "\n",
    "sns.relplot(x='Date', y='Close', kind='line', data=df_Flat).fig.autofmt_xdate()\n",
    "\n",
    "plt.grid(which=\"major\", color='k', linestyle='-.', linewidth=0.5)\n",
    "plt.title('S&P100 Total', fontsize=16)\n",
    "plt.ylabel('Close', fontsize=14)\n",
    "plt.xlabel('Date', fontsize=14)\n",
    "\n",
    "#jpg_name = 'SP100_total.jpg'\n",
    "#plt.savefig(jpg_name, bbox_inches='tight')"
   ]
  },
  {
   "cell_type": "code",
   "execution_count": null,
   "metadata": {},
   "outputs": [],
   "source": []
  },
  {
   "cell_type": "markdown",
   "metadata": {},
   "source": [
    "pd.options.display.float_format = '{:,.2%}'.format\n",
    "display(tickers_volatile), display(tickers_bestPerformed)"
   ]
  },
  {
   "cell_type": "code",
   "execution_count": 36,
   "metadata": {},
   "outputs": [],
   "source": [
    "#pd.options.display.float_format = '{:,.2f}'.format\n",
    "dataToExport = df.loc[tickers_bestPerformed.index].unstack(0).describe()\n",
    "dataToExport = dataToExport.transpose().reset_index().groupby(['Symbol', 'level_0']).sum().round(2)"
   ]
  },
  {
   "cell_type": "code",
   "execution_count": 37,
   "metadata": {
    "scrolled": true
   },
   "outputs": [],
   "source": [
    "dataToExport.rename_axis(index={\"level_0\":\"Type\"}, inplace=True)"
   ]
  },
  {
   "cell_type": "markdown",
   "metadata": {},
   "source": [
    "# Create PDF file"
   ]
  },
  {
   "cell_type": "code",
   "execution_count": 38,
   "metadata": {},
   "outputs": [],
   "source": [
    "today = dt.datetime.today().strftime('%Y-%m-%d')\n",
    "pdf_file_name = \"Report \"+ today +\".pdf\""
   ]
  },
  {
   "cell_type": "code",
   "execution_count": 39,
   "metadata": {},
   "outputs": [],
   "source": [
    "def PrepareTableForReportLab(dataframe):\n",
    "    \n",
    "    data = dataframe\n",
    "\n",
    "    'handling grouped first index column'\n",
    "    a= []\n",
    "    for i in range(len(data)):\n",
    "        #print(i, data.index.get_level_values(0)[i])\n",
    "        if data.index.get_level_values(0)[i-1] == data.index.get_level_values(0)[i]:\n",
    "            a.append(i)\n",
    "    a.sort(reverse=True)\n",
    "\n",
    "    as_list = data.index.get_level_values(0).tolist()\n",
    "    for i in a:\n",
    "        as_list[i] = \"\"\n",
    "\n",
    "        \n",
    "    'flat dataframe'\n",
    "    data = data.reset_index()\n",
    "    'remove duplicated values from first column which was index before resetting index'\n",
    "    first_col_name = data.columns[0]\n",
    "    data[first_col_name] = as_list \n",
    "    \n",
    "    #data = dataframe.reset_index()\n",
    "    #colwidths = 800/len(data.columns) \n",
    "    data = [data.columns.to_list()] + data.values.tolist() \n",
    "\n",
    "    #tbl = Table(data) # \n",
    "    tbl = Table(data) #, colwidths ) #, rowheights)\n",
    "    tbl.setStyle(TableStyle([\n",
    "    ('INNERGRID', (0, 0), (-1, -1), 0.25, colors.black),\n",
    "    ('BOX', (0, 0), (-1, -1), 0.25, colors.black),\n",
    "    ('ALIGN', (1,1), (-1,-1), 'RIGHT'),\n",
    "    ('BACKGROUND', (0,0), (-1,0), colors.Color(0,0.7,0.7))\n",
    "    ]))\n",
    "    \n",
    "    return tbl"
   ]
  },
  {
   "cell_type": "code",
   "execution_count": 51,
   "metadata": {},
   "outputs": [],
   "source": [
    "story = []"
   ]
  },
  {
   "cell_type": "code",
   "execution_count": 52,
   "metadata": {
    "scrolled": true
   },
   "outputs": [],
   "source": [
    "story.append(Paragraph(\"Highest growth rates\", getSampleStyleSheet()['Heading1']))\n",
    "story.append(Paragraph(\"highest growth rates in past <i>\" + str(days_to_lookback) + \" days</i>.\",  getSampleStyleSheet()['Normal']))\n",
    "story.append(Spacer(1,20))\n",
    "story.append((PrepareTableForReportLab(dataToExport)))\n",
    "story.append(Spacer(1,20))\n",
    "story.append(PrepareTableForReportLab(tickers_bestPerformed))\n",
    "story.append(PageBreak())\n",
    "\n",
    "story.append(Paragraph(\"Volatility\", getSampleStyleSheet()['Heading1']))\n",
    "story.append(Paragraph(\"highest volatility rates in past <i>\" + str(days_to_lookback)  + \" days</i>.\",  getSampleStyleSheet()['Normal']))\n",
    "story.append(Spacer(1,20))\n",
    "story.append(PrepareTableForReportLab(tickers_volatile))\n",
    "story.append(PageBreak())"
   ]
  },
  {
   "cell_type": "markdown",
   "metadata": {},
   "source": [
    "#### Add graph images saved in the timestamped folder"
   ]
  },
  {
   "cell_type": "code",
   "execution_count": 53,
   "metadata": {},
   "outputs": [
    {
     "name": "stdout",
     "output_type": "stream",
     "text": [
      "image_2.jpg\n",
      "image_3.jpg\n",
      "image_4.jpg\n",
      "image_1.jpg\n"
     ]
    }
   ],
   "source": [
    "for file in sorted(os.listdir(reportDir), key=os.path.getmtime):\n",
    "    if file.endswith('jpg'):\n",
    "        #print(file)\n",
    "        temp = file\n",
    "        temp = 'image_'+ temp\n",
    "        print(temp)\n",
    "        temp = Image(file)\n",
    "        #story.append(Spacer(1, 20))\n",
    "        story.append(temp)"
   ]
  },
  {
   "cell_type": "code",
   "execution_count": 54,
   "metadata": {},
   "outputs": [],
   "source": [
    "doc = SimpleDocTemplate(pdf_file_name, pagesize = landscape(letter), topMargin = inch * .25, bottomMargin = inch * .25)\n",
    "doc.build(story)"
   ]
  },
  {
   "cell_type": "code",
   "execution_count": 55,
   "metadata": {
    "scrolled": true
   },
   "outputs": [
    {
     "data": {
      "text/plain": [
       "CompletedProcess(args=['open', 'Report 2020-06-28.pdf'], returncode=0)"
      ]
     },
     "execution_count": 55,
     "metadata": {},
     "output_type": "execute_result"
    }
   ],
   "source": [
    "#Open generated pdf file\n",
    "subprocess.run(['open', pdf_file_name], check=True)"
   ]
  },
  {
   "cell_type": "code",
   "execution_count": null,
   "metadata": {},
   "outputs": [],
   "source": []
  },
  {
   "cell_type": "code",
   "execution_count": null,
   "metadata": {},
   "outputs": [],
   "source": []
  },
  {
   "cell_type": "code",
   "execution_count": null,
   "metadata": {},
   "outputs": [],
   "source": []
  }
 ],
 "metadata": {
  "kernelspec": {
   "display_name": "Python 3",
   "language": "python",
   "name": "python3"
  },
  "language_info": {
   "codemirror_mode": {
    "name": "ipython",
    "version": 3
   },
   "file_extension": ".py",
   "mimetype": "text/x-python",
   "name": "python",
   "nbconvert_exporter": "python",
   "pygments_lexer": "ipython3",
   "version": "3.7.7"
  }
 },
 "nbformat": 4,
 "nbformat_minor": 4
}
