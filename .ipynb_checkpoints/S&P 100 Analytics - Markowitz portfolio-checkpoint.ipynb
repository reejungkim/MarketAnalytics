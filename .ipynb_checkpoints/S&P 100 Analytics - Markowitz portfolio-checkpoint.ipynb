{
 "cells": [
  {
   "cell_type": "code",
   "execution_count": 1,
   "metadata": {},
   "outputs": [
    {
     "name": "stderr",
     "output_type": "stream",
     "text": [
      "/Users/reejungkim/opt/anaconda3/envs/myenv/lib/python3.7/site-packages/pandas_datareader/compat/__init__.py:7: FutureWarning: pandas.util.testing is deprecated. Use the functions in the public API at pandas.testing instead.\n",
      "  from pandas.util.testing import assert_frame_equal\n"
     ]
    }
   ],
   "source": [
    "import timeit\n",
    "import datetime as dt\n",
    "import os\n",
    "import subprocess \n",
    "\n",
    "import pandas as pd\n",
    "import numpy as np\n",
    "\n",
    "#for portofolio optimization \n",
    "import scipy.optimize as sco\n",
    "\n",
    "\n",
    "#visualization\n",
    "import matplotlib as mpl\n",
    "import matplotlib.pyplot as plt\n",
    "#import plotly.graph_objs as go\n",
    "%matplotlib inline\n",
    "#visualization with seaborn\n",
    "import seaborn as sns\n",
    "#visualization with plotly \n",
    "import plotly.graph_objects as go #for candle chart visualization\n",
    "import plotly.express as px #for html output\n",
    "\n",
    "\n",
    "#to get financial data\n",
    "from pandas_datareader import data as pdr\n",
    "\n",
    "\n",
    "#for webscraping \n",
    "import requests\n",
    "from bs4 import BeautifulSoup \n",
    "from selenium import webdriver\n",
    "from selenium.webdriver.common.keys import Keys\n",
    "import pandas as pd\n",
    "import requests\n",
    "\n",
    "\n",
    "#for pdf report generation\n",
    "from reportlab.pdfgen import canvas\n",
    "from reportlab.platypus import *\n",
    "from reportlab.lib import colors\n",
    "from reportlab.lib.pagesizes import letter, landscape\n",
    "from reportlab.lib.styles import getSampleStyleSheet, ParagraphStyle\n",
    "from reportlab.lib.units import inch\n",
    "from reportlab.platypus.tableofcontents import TableOfContents\n"
   ]
  },
  {
   "cell_type": "code",
   "execution_count": 2,
   "metadata": {},
   "outputs": [
    {
     "name": "stdout",
     "output_type": "stream",
     "text": [
      "days to search financial data:30\n"
     ]
    }
   ],
   "source": [
    "days_to_lookback = int (input('days to search financial data:'))"
   ]
  },
  {
   "cell_type": "code",
   "execution_count": 3,
   "metadata": {},
   "outputs": [],
   "source": [
    "riskfree = .0019"
   ]
  },
  {
   "cell_type": "code",
   "execution_count": 4,
   "metadata": {},
   "outputs": [],
   "source": [
    "date_end = dt.datetime.now() #.today()\n",
    "date_start = date_end - dt.timedelta(days_to_lookback)"
   ]
  },
  {
   "cell_type": "markdown",
   "metadata": {},
   "source": [
    "# Create timestamped folder to save reports created later"
   ]
  },
  {
   "cell_type": "code",
   "execution_count": 5,
   "metadata": {},
   "outputs": [
    {
     "data": {
      "text/plain": [
       "'2020-07-04 21-43-25'"
      ]
     },
     "execution_count": 5,
     "metadata": {},
     "output_type": "execute_result"
    }
   ],
   "source": [
    "#timestamp = str(dt.datetime.now()) <- '2020-06-26 20:26:08.775766'  \n",
    "timestamp =  dt.datetime.now().strftime('%Y-%m-%d %H-%M-%S')\n",
    "timestamp"
   ]
  },
  {
   "cell_type": "code",
   "execution_count": 6,
   "metadata": {},
   "outputs": [
    {
     "data": {
      "text/plain": [
       "'/Users/reejungkim/Documents/Git/reporting automation/2020-07-04 21-43-25'"
      ]
     },
     "execution_count": 6,
     "metadata": {},
     "output_type": "execute_result"
    }
   ],
   "source": [
    "path = os.getcwd() \n",
    "reportDir = os.path.join(path,timestamp)\n",
    "reportDir"
   ]
  },
  {
   "cell_type": "code",
   "execution_count": 7,
   "metadata": {},
   "outputs": [],
   "source": [
    "#create named folder\n",
    "os.makedirs(reportDir, exist_ok = False)"
   ]
  },
  {
   "cell_type": "code",
   "execution_count": 8,
   "metadata": {},
   "outputs": [],
   "source": [
    "os.chdir(reportDir)"
   ]
  },
  {
   "cell_type": "markdown",
   "metadata": {},
   "source": [
    "# Web scraping S&P100 companies from Wikipedia table"
   ]
  },
  {
   "cell_type": "code",
   "execution_count": 9,
   "metadata": {},
   "outputs": [],
   "source": [
    "website_url = requests.get(\"https://en.wikipedia.org/wiki/S%26P_100\").text\n",
    "\n",
    "soup = BeautifulSoup(website_url,'lxml')\n",
    "#print(soup.prettify())"
   ]
  },
  {
   "cell_type": "code",
   "execution_count": 10,
   "metadata": {},
   "outputs": [],
   "source": [
    "wiki_table = soup.find('table',{'class':'wikitable sortable'})"
   ]
  },
  {
   "cell_type": "code",
   "execution_count": 11,
   "metadata": {},
   "outputs": [],
   "source": [
    "data = []\n",
    "tHeader = []\n",
    "SP100_tickers = pd.DataFrame()\n",
    "\n",
    "for tr in wiki_table.find_all(\"tr\"):\n",
    "    for th in tr.find_all(\"th\")[:1]:\n",
    "        tHeader = th.get_text(strip=True)\n",
    "        SP100_tickers[tHeader] = []\n",
    "    for td in tr.find_all(\"td\")[:1]:\n",
    "        data.append( td.get_text(strip=True))\n",
    "        \n",
    "SP100_tickers[tHeader] = data"
   ]
  },
  {
   "cell_type": "code",
   "execution_count": 12,
   "metadata": {
    "scrolled": true
   },
   "outputs": [
    {
     "data": {
      "text/html": [
       "<div>\n",
       "<style scoped>\n",
       "    .dataframe tbody tr th:only-of-type {\n",
       "        vertical-align: middle;\n",
       "    }\n",
       "\n",
       "    .dataframe tbody tr th {\n",
       "        vertical-align: top;\n",
       "    }\n",
       "\n",
       "    .dataframe thead th {\n",
       "        text-align: right;\n",
       "    }\n",
       "</style>\n",
       "<table border=\"1\" class=\"dataframe\">\n",
       "  <thead>\n",
       "    <tr style=\"text-align: right;\">\n",
       "      <th></th>\n",
       "      <th>Symbol</th>\n",
       "    </tr>\n",
       "  </thead>\n",
       "  <tbody>\n",
       "    <tr>\n",
       "      <th>0</th>\n",
       "      <td>AAPL</td>\n",
       "    </tr>\n",
       "    <tr>\n",
       "      <th>1</th>\n",
       "      <td>ABBV</td>\n",
       "    </tr>\n",
       "    <tr>\n",
       "      <th>2</th>\n",
       "      <td>ABT</td>\n",
       "    </tr>\n",
       "    <tr>\n",
       "      <th>3</th>\n",
       "      <td>ACN</td>\n",
       "    </tr>\n",
       "    <tr>\n",
       "      <th>4</th>\n",
       "      <td>ADBE</td>\n",
       "    </tr>\n",
       "    <tr>\n",
       "      <th>...</th>\n",
       "      <td>...</td>\n",
       "    </tr>\n",
       "    <tr>\n",
       "      <th>96</th>\n",
       "      <td>VZ</td>\n",
       "    </tr>\n",
       "    <tr>\n",
       "      <th>97</th>\n",
       "      <td>WBA</td>\n",
       "    </tr>\n",
       "    <tr>\n",
       "      <th>98</th>\n",
       "      <td>WFC</td>\n",
       "    </tr>\n",
       "    <tr>\n",
       "      <th>99</th>\n",
       "      <td>WMT</td>\n",
       "    </tr>\n",
       "    <tr>\n",
       "      <th>100</th>\n",
       "      <td>XOM</td>\n",
       "    </tr>\n",
       "  </tbody>\n",
       "</table>\n",
       "<p>101 rows × 1 columns</p>\n",
       "</div>"
      ],
      "text/plain": [
       "    Symbol\n",
       "0     AAPL\n",
       "1     ABBV\n",
       "2      ABT\n",
       "3      ACN\n",
       "4     ADBE\n",
       "..     ...\n",
       "96      VZ\n",
       "97     WBA\n",
       "98     WFC\n",
       "99     WMT\n",
       "100    XOM\n",
       "\n",
       "[101 rows x 1 columns]"
      ]
     },
     "execution_count": 12,
     "metadata": {},
     "output_type": "execute_result"
    }
   ],
   "source": [
    "SP100_tickers"
   ]
  },
  {
   "cell_type": "markdown",
   "metadata": {},
   "source": [
    "# Use DataReader to get financial data of S&P100 companies from yahoo"
   ]
  },
  {
   "cell_type": "code",
   "execution_count": 13,
   "metadata": {
    "scrolled": true
   },
   "outputs": [
    {
     "name": "stdout",
     "output_type": "stream",
     "text": [
      "CPU times: user 7.18 s, sys: 629 ms, total: 7.81 s\n",
      "Wall time: 1min 1s\n"
     ]
    }
   ],
   "source": [
    "%%time\n",
    "\n",
    "df = pd.DataFrame()\n",
    "\n",
    "for i in data:\n",
    "    symbol = SP100_tickers.loc[SP100_tickers['Symbol']==i]\n",
    "    try:\n",
    "        symbol_data = pdr.DataReader(i, 'yahoo', date_start, date_end).reset_index()\n",
    "        #display(symbol_data)  \n",
    "    except (KeyError, ValueError):  # the error could possibly occur when there's \".\" in stock name \n",
    "        symbol_data = pdr.DataReader(i.replace('.','-'), 'yahoo', date_start, date_end).reset_index()\n",
    "        #symbol_data = pd.DataFrame()\n",
    "        pass\n",
    "    except:\n",
    "        print(i + \" - Error.\")\n",
    "        symbol_data = pd.DataFrame()\n",
    "        pass\n",
    "    single_table = pd.concat([symbol, symbol_data], axis=0, ignore_index=True) #axis=0 <- row. add frames by row and use fill down.\n",
    "    single_table['Symbol'].ffill(inplace=True)\n",
    "    df = df.append(single_table)\n",
    "    "
   ]
  },
  {
   "cell_type": "code",
   "execution_count": 14,
   "metadata": {
    "scrolled": true
   },
   "outputs": [],
   "source": [
    "df = df.loc[df['Date'].notnull()]"
   ]
  },
  {
   "cell_type": "code",
   "execution_count": 15,
   "metadata": {},
   "outputs": [],
   "source": [
    "df = df.reset_index(drop=True)"
   ]
  },
  {
   "cell_type": "markdown",
   "metadata": {
    "scrolled": true
   },
   "source": [
    "df.groupby(['Symbol']).describe().transpose()"
   ]
  },
  {
   "cell_type": "code",
   "execution_count": 16,
   "metadata": {},
   "outputs": [],
   "source": [
    "df_Flat = df"
   ]
  },
  {
   "cell_type": "markdown",
   "metadata": {},
   "source": [
    "### volatility"
   ]
  },
  {
   "cell_type": "code",
   "execution_count": 283,
   "metadata": {
    "scrolled": true
   },
   "outputs": [],
   "source": [
    "d = df.pivot_table(values='Close', index='Date', columns='Symbol', aggfunc=np.sum, margins=False)"
   ]
  },
  {
   "cell_type": "code",
   "execution_count": 284,
   "metadata": {
    "scrolled": true
   },
   "outputs": [
    {
     "data": {
      "text/html": [
       "<div>\n",
       "<style scoped>\n",
       "    .dataframe tbody tr th:only-of-type {\n",
       "        vertical-align: middle;\n",
       "    }\n",
       "\n",
       "    .dataframe tbody tr th {\n",
       "        vertical-align: top;\n",
       "    }\n",
       "\n",
       "    .dataframe thead th {\n",
       "        text-align: right;\n",
       "    }\n",
       "</style>\n",
       "<table border=\"1\" class=\"dataframe\">\n",
       "  <thead>\n",
       "    <tr style=\"text-align: right;\">\n",
       "      <th>Symbol</th>\n",
       "      <th>AAPL</th>\n",
       "      <th>ABBV</th>\n",
       "      <th>ABT</th>\n",
       "      <th>ACN</th>\n",
       "      <th>ADBE</th>\n",
       "      <th>AIG</th>\n",
       "      <th>ALL</th>\n",
       "      <th>AMGN</th>\n",
       "      <th>AMT</th>\n",
       "      <th>AMZN</th>\n",
       "      <th>...</th>\n",
       "      <th>UNH</th>\n",
       "      <th>UNP</th>\n",
       "      <th>UPS</th>\n",
       "      <th>USB</th>\n",
       "      <th>V</th>\n",
       "      <th>VZ</th>\n",
       "      <th>WBA</th>\n",
       "      <th>WFC</th>\n",
       "      <th>WMT</th>\n",
       "      <th>XOM</th>\n",
       "    </tr>\n",
       "    <tr>\n",
       "      <th>Date</th>\n",
       "      <th></th>\n",
       "      <th></th>\n",
       "      <th></th>\n",
       "      <th></th>\n",
       "      <th></th>\n",
       "      <th></th>\n",
       "      <th></th>\n",
       "      <th></th>\n",
       "      <th></th>\n",
       "      <th></th>\n",
       "      <th></th>\n",
       "      <th></th>\n",
       "      <th></th>\n",
       "      <th></th>\n",
       "      <th></th>\n",
       "      <th></th>\n",
       "      <th></th>\n",
       "      <th></th>\n",
       "      <th></th>\n",
       "      <th></th>\n",
       "      <th></th>\n",
       "    </tr>\n",
       "  </thead>\n",
       "  <tbody>\n",
       "    <tr>\n",
       "      <th>2020-06-05</th>\n",
       "      <td>NaN</td>\n",
       "      <td>NaN</td>\n",
       "      <td>NaN</td>\n",
       "      <td>NaN</td>\n",
       "      <td>NaN</td>\n",
       "      <td>NaN</td>\n",
       "      <td>NaN</td>\n",
       "      <td>NaN</td>\n",
       "      <td>NaN</td>\n",
       "      <td>NaN</td>\n",
       "      <td>...</td>\n",
       "      <td>NaN</td>\n",
       "      <td>NaN</td>\n",
       "      <td>NaN</td>\n",
       "      <td>NaN</td>\n",
       "      <td>NaN</td>\n",
       "      <td>NaN</td>\n",
       "      <td>NaN</td>\n",
       "      <td>NaN</td>\n",
       "      <td>NaN</td>\n",
       "      <td>NaN</td>\n",
       "    </tr>\n",
       "    <tr>\n",
       "      <th>2020-06-08</th>\n",
       "      <td>0.005895</td>\n",
       "      <td>0.007854</td>\n",
       "      <td>0.029604</td>\n",
       "      <td>0.013293</td>\n",
       "      <td>0.012344</td>\n",
       "      <td>0.081311</td>\n",
       "      <td>0.014309</td>\n",
       "      <td>0.000354</td>\n",
       "      <td>0.007484</td>\n",
       "      <td>0.016401</td>\n",
       "      <td>...</td>\n",
       "      <td>-0.007629</td>\n",
       "      <td>-0.017300</td>\n",
       "      <td>0.035010</td>\n",
       "      <td>0.026550</td>\n",
       "      <td>-0.000050</td>\n",
       "      <td>0.006043</td>\n",
       "      <td>0.036163</td>\n",
       "      <td>0.050788</td>\n",
       "      <td>-0.002636</td>\n",
       "      <td>0.030794</td>\n",
       "    </tr>\n",
       "    <tr>\n",
       "      <th>2020-06-09</th>\n",
       "      <td>0.031090</td>\n",
       "      <td>0.016566</td>\n",
       "      <td>-0.025052</td>\n",
       "      <td>-0.018824</td>\n",
       "      <td>-0.001560</td>\n",
       "      <td>-0.044060</td>\n",
       "      <td>-0.035970</td>\n",
       "      <td>-0.003772</td>\n",
       "      <td>-0.004205</td>\n",
       "      <td>0.029973</td>\n",
       "      <td>...</td>\n",
       "      <td>-0.000873</td>\n",
       "      <td>-0.019455</td>\n",
       "      <td>-0.024007</td>\n",
       "      <td>-0.032943</td>\n",
       "      <td>-0.002609</td>\n",
       "      <td>-0.003967</td>\n",
       "      <td>-0.037708</td>\n",
       "      <td>-0.020926</td>\n",
       "      <td>0.000907</td>\n",
       "      <td>-0.022539</td>\n",
       "    </tr>\n",
       "    <tr>\n",
       "      <th>2020-06-10</th>\n",
       "      <td>0.025402</td>\n",
       "      <td>0.007562</td>\n",
       "      <td>0.020721</td>\n",
       "      <td>0.010030</td>\n",
       "      <td>0.024032</td>\n",
       "      <td>-0.070812</td>\n",
       "      <td>-0.011989</td>\n",
       "      <td>0.009823</td>\n",
       "      <td>-0.001582</td>\n",
       "      <td>0.017755</td>\n",
       "      <td>...</td>\n",
       "      <td>-0.011253</td>\n",
       "      <td>-0.015442</td>\n",
       "      <td>-0.011191</td>\n",
       "      <td>-0.068314</td>\n",
       "      <td>0.007008</td>\n",
       "      <td>0.003278</td>\n",
       "      <td>-0.022332</td>\n",
       "      <td>-0.093748</td>\n",
       "      <td>-0.001567</td>\n",
       "      <td>-0.055116</td>\n",
       "    </tr>\n",
       "    <tr>\n",
       "      <th>2020-06-11</th>\n",
       "      <td>-0.049201</td>\n",
       "      <td>-0.049069</td>\n",
       "      <td>-0.048693</td>\n",
       "      <td>-0.066530</td>\n",
       "      <td>-0.048216</td>\n",
       "      <td>-0.106436</td>\n",
       "      <td>-0.073113</td>\n",
       "      <td>-0.036864</td>\n",
       "      <td>-0.053529</td>\n",
       "      <td>-0.034387</td>\n",
       "      <td>...</td>\n",
       "      <td>-0.074745</td>\n",
       "      <td>-0.071712</td>\n",
       "      <td>-0.059506</td>\n",
       "      <td>-0.084333</td>\n",
       "      <td>-0.059603</td>\n",
       "      <td>-0.027949</td>\n",
       "      <td>-0.083077</td>\n",
       "      <td>-0.103455</td>\n",
       "      <td>-0.008871</td>\n",
       "      <td>-0.092392</td>\n",
       "    </tr>\n",
       "    <tr>\n",
       "      <th>2020-06-12</th>\n",
       "      <td>0.008596</td>\n",
       "      <td>0.002165</td>\n",
       "      <td>0.014027</td>\n",
       "      <td>0.028376</td>\n",
       "      <td>0.047528</td>\n",
       "      <td>0.044245</td>\n",
       "      <td>0.009554</td>\n",
       "      <td>-0.004579</td>\n",
       "      <td>0.025787</td>\n",
       "      <td>-0.005072</td>\n",
       "      <td>...</td>\n",
       "      <td>0.004992</td>\n",
       "      <td>0.017544</td>\n",
       "      <td>0.010003</td>\n",
       "      <td>0.037207</td>\n",
       "      <td>0.017737</td>\n",
       "      <td>0.001416</td>\n",
       "      <td>0.015825</td>\n",
       "      <td>0.043104</td>\n",
       "      <td>-0.019763</td>\n",
       "      <td>0.021211</td>\n",
       "    </tr>\n",
       "    <tr>\n",
       "      <th>2020-06-15</th>\n",
       "      <td>0.012291</td>\n",
       "      <td>0.006683</td>\n",
       "      <td>0.005936</td>\n",
       "      <td>-0.008969</td>\n",
       "      <td>-0.012873</td>\n",
       "      <td>0.004530</td>\n",
       "      <td>0.022013</td>\n",
       "      <td>0.008591</td>\n",
       "      <td>0.016943</td>\n",
       "      <td>0.010810</td>\n",
       "      <td>...</td>\n",
       "      <td>0.003955</td>\n",
       "      <td>0.010476</td>\n",
       "      <td>0.040175</td>\n",
       "      <td>0.033297</td>\n",
       "      <td>-0.002604</td>\n",
       "      <td>-0.006745</td>\n",
       "      <td>0.002172</td>\n",
       "      <td>0.008544</td>\n",
       "      <td>0.002884</td>\n",
       "      <td>-0.000636</td>\n",
       "    </tr>\n",
       "    <tr>\n",
       "      <th>2020-06-16</th>\n",
       "      <td>0.026157</td>\n",
       "      <td>0.031514</td>\n",
       "      <td>0.002119</td>\n",
       "      <td>0.022812</td>\n",
       "      <td>0.025413</td>\n",
       "      <td>0.003008</td>\n",
       "      <td>0.013100</td>\n",
       "      <td>0.031750</td>\n",
       "      <td>0.008686</td>\n",
       "      <td>0.016419</td>\n",
       "      <td>...</td>\n",
       "      <td>0.023202</td>\n",
       "      <td>0.017941</td>\n",
       "      <td>0.001797</td>\n",
       "      <td>0.014337</td>\n",
       "      <td>0.005824</td>\n",
       "      <td>0.013620</td>\n",
       "      <td>0.015782</td>\n",
       "      <td>0.010929</td>\n",
       "      <td>0.013208</td>\n",
       "      <td>0.022237</td>\n",
       "    </tr>\n",
       "    <tr>\n",
       "      <th>2020-06-17</th>\n",
       "      <td>-0.001393</td>\n",
       "      <td>-0.003337</td>\n",
       "      <td>0.012843</td>\n",
       "      <td>0.003906</td>\n",
       "      <td>0.004411</td>\n",
       "      <td>-0.030809</td>\n",
       "      <td>-0.011874</td>\n",
       "      <td>-0.003975</td>\n",
       "      <td>-0.003064</td>\n",
       "      <td>0.009783</td>\n",
       "      <td>...</td>\n",
       "      <td>-0.001366</td>\n",
       "      <td>0.001169</td>\n",
       "      <td>0.010901</td>\n",
       "      <td>-0.021324</td>\n",
       "      <td>0.003519</td>\n",
       "      <td>-0.004755</td>\n",
       "      <td>0.000000</td>\n",
       "      <td>-0.038239</td>\n",
       "      <td>-0.005195</td>\n",
       "      <td>-0.033115</td>\n",
       "    </tr>\n",
       "    <tr>\n",
       "      <th>2020-06-18</th>\n",
       "      <td>0.000398</td>\n",
       "      <td>0.005105</td>\n",
       "      <td>-0.006844</td>\n",
       "      <td>-0.011124</td>\n",
       "      <td>0.016716</td>\n",
       "      <td>0.005869</td>\n",
       "      <td>0.008134</td>\n",
       "      <td>0.019067</td>\n",
       "      <td>-0.024427</td>\n",
       "      <td>0.004910</td>\n",
       "      <td>...</td>\n",
       "      <td>-0.003835</td>\n",
       "      <td>-0.001871</td>\n",
       "      <td>0.005499</td>\n",
       "      <td>0.001557</td>\n",
       "      <td>0.001807</td>\n",
       "      <td>0.004228</td>\n",
       "      <td>-0.004041</td>\n",
       "      <td>0.003636</td>\n",
       "      <td>-0.008776</td>\n",
       "      <td>0.006200</td>\n",
       "    </tr>\n",
       "    <tr>\n",
       "      <th>2020-06-19</th>\n",
       "      <td>-0.005731</td>\n",
       "      <td>0.004976</td>\n",
       "      <td>0.004421</td>\n",
       "      <td>-0.006824</td>\n",
       "      <td>0.017797</td>\n",
       "      <td>-0.020536</td>\n",
       "      <td>-0.000203</td>\n",
       "      <td>0.035738</td>\n",
       "      <td>0.030583</td>\n",
       "      <td>0.007893</td>\n",
       "      <td>...</td>\n",
       "      <td>-0.000824</td>\n",
       "      <td>-0.017715</td>\n",
       "      <td>0.001765</td>\n",
       "      <td>0.007748</td>\n",
       "      <td>-0.008858</td>\n",
       "      <td>-0.012915</td>\n",
       "      <td>0.049947</td>\n",
       "      <td>0.001813</td>\n",
       "      <td>0.015641</td>\n",
       "      <td>-0.020237</td>\n",
       "    </tr>\n",
       "    <tr>\n",
       "      <th>2020-06-22</th>\n",
       "      <td>0.025827</td>\n",
       "      <td>0.005774</td>\n",
       "      <td>-0.003757</td>\n",
       "      <td>0.005196</td>\n",
       "      <td>0.024532</td>\n",
       "      <td>-0.000629</td>\n",
       "      <td>-0.016030</td>\n",
       "      <td>-0.019075</td>\n",
       "      <td>-0.003772</td>\n",
       "      <td>0.014404</td>\n",
       "      <td>...</td>\n",
       "      <td>0.004898</td>\n",
       "      <td>0.002083</td>\n",
       "      <td>-0.008105</td>\n",
       "      <td>-0.016864</td>\n",
       "      <td>0.014258</td>\n",
       "      <td>-0.008943</td>\n",
       "      <td>-0.020374</td>\n",
       "      <td>-0.009099</td>\n",
       "      <td>0.015154</td>\n",
       "      <td>0.009524</td>\n",
       "    </tr>\n",
       "    <tr>\n",
       "      <th>2020-06-23</th>\n",
       "      <td>0.021120</td>\n",
       "      <td>0.000411</td>\n",
       "      <td>0.010571</td>\n",
       "      <td>0.023416</td>\n",
       "      <td>0.004345</td>\n",
       "      <td>0.008145</td>\n",
       "      <td>-0.005159</td>\n",
       "      <td>0.006639</td>\n",
       "      <td>-0.000378</td>\n",
       "      <td>0.018470</td>\n",
       "      <td>...</td>\n",
       "      <td>0.016705</td>\n",
       "      <td>0.006873</td>\n",
       "      <td>0.034117</td>\n",
       "      <td>0.009893</td>\n",
       "      <td>0.015321</td>\n",
       "      <td>-0.013020</td>\n",
       "      <td>-0.009994</td>\n",
       "      <td>-0.004397</td>\n",
       "      <td>-0.005026</td>\n",
       "      <td>0.006014</td>\n",
       "    </tr>\n",
       "    <tr>\n",
       "      <th>2020-06-24</th>\n",
       "      <td>-0.017810</td>\n",
       "      <td>-0.022552</td>\n",
       "      <td>-0.044800</td>\n",
       "      <td>-0.027174</td>\n",
       "      <td>-0.020339</td>\n",
       "      <td>-0.056149</td>\n",
       "      <td>-0.039138</td>\n",
       "      <td>-0.013839</td>\n",
       "      <td>-0.039799</td>\n",
       "      <td>-0.010915</td>\n",
       "      <td>...</td>\n",
       "      <td>-0.028701</td>\n",
       "      <td>-0.022753</td>\n",
       "      <td>-0.010086</td>\n",
       "      <td>-0.045854</td>\n",
       "      <td>-0.033698</td>\n",
       "      <td>-0.018555</td>\n",
       "      <td>-0.039062</td>\n",
       "      <td>-0.041618</td>\n",
       "      <td>-0.006380</td>\n",
       "      <td>-0.048255</td>\n",
       "    </tr>\n",
       "    <tr>\n",
       "      <th>2020-06-25</th>\n",
       "      <td>0.013188</td>\n",
       "      <td>0.019258</td>\n",
       "      <td>0.026228</td>\n",
       "      <td>0.073896</td>\n",
       "      <td>0.012134</td>\n",
       "      <td>0.031192</td>\n",
       "      <td>0.030514</td>\n",
       "      <td>0.011120</td>\n",
       "      <td>0.000708</td>\n",
       "      <td>0.007353</td>\n",
       "      <td>...</td>\n",
       "      <td>0.024053</td>\n",
       "      <td>0.008840</td>\n",
       "      <td>0.009272</td>\n",
       "      <td>0.031503</td>\n",
       "      <td>0.013337</td>\n",
       "      <td>0.006469</td>\n",
       "      <td>0.020912</td>\n",
       "      <td>0.046746</td>\n",
       "      <td>-0.004917</td>\n",
       "      <td>0.014944</td>\n",
       "    </tr>\n",
       "    <tr>\n",
       "      <th>2020-06-26</th>\n",
       "      <td>-0.031208</td>\n",
       "      <td>-0.008906</td>\n",
       "      <td>-0.010206</td>\n",
       "      <td>-0.022570</td>\n",
       "      <td>-0.023222</td>\n",
       "      <td>-0.050856</td>\n",
       "      <td>-0.013130</td>\n",
       "      <td>-0.009702</td>\n",
       "      <td>-0.031470</td>\n",
       "      <td>-0.022657</td>\n",
       "      <td>...</td>\n",
       "      <td>-0.032038</td>\n",
       "      <td>-0.026574</td>\n",
       "      <td>-0.029381</td>\n",
       "      <td>-0.053717</td>\n",
       "      <td>-0.024580</td>\n",
       "      <td>-0.020850</td>\n",
       "      <td>-0.020912</td>\n",
       "      <td>-0.077063</td>\n",
       "      <td>-0.011679</td>\n",
       "      <td>-0.034917</td>\n",
       "    </tr>\n",
       "    <tr>\n",
       "      <th>2020-06-29</th>\n",
       "      <td>0.022785</td>\n",
       "      <td>0.003220</td>\n",
       "      <td>0.003376</td>\n",
       "      <td>0.001176</td>\n",
       "      <td>-0.006392</td>\n",
       "      <td>0.032127</td>\n",
       "      <td>0.009052</td>\n",
       "      <td>-0.005512</td>\n",
       "      <td>0.029266</td>\n",
       "      <td>-0.004649</td>\n",
       "      <td>...</td>\n",
       "      <td>0.009989</td>\n",
       "      <td>0.017492</td>\n",
       "      <td>0.019927</td>\n",
       "      <td>0.008010</td>\n",
       "      <td>0.011086</td>\n",
       "      <td>0.028375</td>\n",
       "      <td>0.027550</td>\n",
       "      <td>0.014107</td>\n",
       "      <td>0.006235</td>\n",
       "      <td>0.015920</td>\n",
       "    </tr>\n",
       "    <tr>\n",
       "      <th>2020-06-30</th>\n",
       "      <td>0.008313</td>\n",
       "      <td>0.017881</td>\n",
       "      <td>0.026825</td>\n",
       "      <td>0.009358</td>\n",
       "      <td>0.025853</td>\n",
       "      <td>0.016166</td>\n",
       "      <td>0.016110</td>\n",
       "      <td>0.018399</td>\n",
       "      <td>0.018504</td>\n",
       "      <td>0.028845</td>\n",
       "      <td>...</td>\n",
       "      <td>0.017753</td>\n",
       "      <td>0.021281</td>\n",
       "      <td>0.015409</td>\n",
       "      <td>0.012847</td>\n",
       "      <td>0.009310</td>\n",
       "      <td>0.008013</td>\n",
       "      <td>0.001653</td>\n",
       "      <td>-0.003899</td>\n",
       "      <td>0.006029</td>\n",
       "      <td>0.008985</td>\n",
       "    </tr>\n",
       "    <tr>\n",
       "      <th>2020-07-01</th>\n",
       "      <td>-0.001893</td>\n",
       "      <td>0.009730</td>\n",
       "      <td>0.002294</td>\n",
       "      <td>-0.000606</td>\n",
       "      <td>0.010284</td>\n",
       "      <td>-0.052678</td>\n",
       "      <td>-0.015168</td>\n",
       "      <td>0.078496</td>\n",
       "      <td>0.026150</td>\n",
       "      <td>0.042536</td>\n",
       "      <td>...</td>\n",
       "      <td>0.009381</td>\n",
       "      <td>-0.013038</td>\n",
       "      <td>0.028725</td>\n",
       "      <td>-0.023078</td>\n",
       "      <td>0.003153</td>\n",
       "      <td>-0.008379</td>\n",
       "      <td>-0.036271</td>\n",
       "      <td>-0.020123</td>\n",
       "      <td>-0.000752</td>\n",
       "      <td>-0.022844</td>\n",
       "    </tr>\n",
       "    <tr>\n",
       "      <th>2020-07-02</th>\n",
       "      <td>0.000000</td>\n",
       "      <td>-0.002626</td>\n",
       "      <td>0.006418</td>\n",
       "      <td>0.005252</td>\n",
       "      <td>0.007114</td>\n",
       "      <td>0.011429</td>\n",
       "      <td>-0.015189</td>\n",
       "      <td>0.012155</td>\n",
       "      <td>-0.004456</td>\n",
       "      <td>0.004022</td>\n",
       "      <td>...</td>\n",
       "      <td>0.001779</td>\n",
       "      <td>0.013097</td>\n",
       "      <td>-0.000525</td>\n",
       "      <td>-0.002505</td>\n",
       "      <td>0.009706</td>\n",
       "      <td>0.002193</td>\n",
       "      <td>0.026552</td>\n",
       "      <td>0.009915</td>\n",
       "      <td>-0.004018</td>\n",
       "      <td>0.008429</td>\n",
       "    </tr>\n",
       "  </tbody>\n",
       "</table>\n",
       "<p>20 rows × 101 columns</p>\n",
       "</div>"
      ],
      "text/plain": [
       "Symbol          AAPL      ABBV       ABT       ACN      ADBE       AIG  \\\n",
       "Date                                                                     \n",
       "2020-06-05       NaN       NaN       NaN       NaN       NaN       NaN   \n",
       "2020-06-08  0.005895  0.007854  0.029604  0.013293  0.012344  0.081311   \n",
       "2020-06-09  0.031090  0.016566 -0.025052 -0.018824 -0.001560 -0.044060   \n",
       "2020-06-10  0.025402  0.007562  0.020721  0.010030  0.024032 -0.070812   \n",
       "2020-06-11 -0.049201 -0.049069 -0.048693 -0.066530 -0.048216 -0.106436   \n",
       "2020-06-12  0.008596  0.002165  0.014027  0.028376  0.047528  0.044245   \n",
       "2020-06-15  0.012291  0.006683  0.005936 -0.008969 -0.012873  0.004530   \n",
       "2020-06-16  0.026157  0.031514  0.002119  0.022812  0.025413  0.003008   \n",
       "2020-06-17 -0.001393 -0.003337  0.012843  0.003906  0.004411 -0.030809   \n",
       "2020-06-18  0.000398  0.005105 -0.006844 -0.011124  0.016716  0.005869   \n",
       "2020-06-19 -0.005731  0.004976  0.004421 -0.006824  0.017797 -0.020536   \n",
       "2020-06-22  0.025827  0.005774 -0.003757  0.005196  0.024532 -0.000629   \n",
       "2020-06-23  0.021120  0.000411  0.010571  0.023416  0.004345  0.008145   \n",
       "2020-06-24 -0.017810 -0.022552 -0.044800 -0.027174 -0.020339 -0.056149   \n",
       "2020-06-25  0.013188  0.019258  0.026228  0.073896  0.012134  0.031192   \n",
       "2020-06-26 -0.031208 -0.008906 -0.010206 -0.022570 -0.023222 -0.050856   \n",
       "2020-06-29  0.022785  0.003220  0.003376  0.001176 -0.006392  0.032127   \n",
       "2020-06-30  0.008313  0.017881  0.026825  0.009358  0.025853  0.016166   \n",
       "2020-07-01 -0.001893  0.009730  0.002294 -0.000606  0.010284 -0.052678   \n",
       "2020-07-02  0.000000 -0.002626  0.006418  0.005252  0.007114  0.011429   \n",
       "\n",
       "Symbol           ALL      AMGN       AMT      AMZN  ...       UNH       UNP  \\\n",
       "Date                                                ...                       \n",
       "2020-06-05       NaN       NaN       NaN       NaN  ...       NaN       NaN   \n",
       "2020-06-08  0.014309  0.000354  0.007484  0.016401  ... -0.007629 -0.017300   \n",
       "2020-06-09 -0.035970 -0.003772 -0.004205  0.029973  ... -0.000873 -0.019455   \n",
       "2020-06-10 -0.011989  0.009823 -0.001582  0.017755  ... -0.011253 -0.015442   \n",
       "2020-06-11 -0.073113 -0.036864 -0.053529 -0.034387  ... -0.074745 -0.071712   \n",
       "2020-06-12  0.009554 -0.004579  0.025787 -0.005072  ...  0.004992  0.017544   \n",
       "2020-06-15  0.022013  0.008591  0.016943  0.010810  ...  0.003955  0.010476   \n",
       "2020-06-16  0.013100  0.031750  0.008686  0.016419  ...  0.023202  0.017941   \n",
       "2020-06-17 -0.011874 -0.003975 -0.003064  0.009783  ... -0.001366  0.001169   \n",
       "2020-06-18  0.008134  0.019067 -0.024427  0.004910  ... -0.003835 -0.001871   \n",
       "2020-06-19 -0.000203  0.035738  0.030583  0.007893  ... -0.000824 -0.017715   \n",
       "2020-06-22 -0.016030 -0.019075 -0.003772  0.014404  ...  0.004898  0.002083   \n",
       "2020-06-23 -0.005159  0.006639 -0.000378  0.018470  ...  0.016705  0.006873   \n",
       "2020-06-24 -0.039138 -0.013839 -0.039799 -0.010915  ... -0.028701 -0.022753   \n",
       "2020-06-25  0.030514  0.011120  0.000708  0.007353  ...  0.024053  0.008840   \n",
       "2020-06-26 -0.013130 -0.009702 -0.031470 -0.022657  ... -0.032038 -0.026574   \n",
       "2020-06-29  0.009052 -0.005512  0.029266 -0.004649  ...  0.009989  0.017492   \n",
       "2020-06-30  0.016110  0.018399  0.018504  0.028845  ...  0.017753  0.021281   \n",
       "2020-07-01 -0.015168  0.078496  0.026150  0.042536  ...  0.009381 -0.013038   \n",
       "2020-07-02 -0.015189  0.012155 -0.004456  0.004022  ...  0.001779  0.013097   \n",
       "\n",
       "Symbol           UPS       USB         V        VZ       WBA       WFC  \\\n",
       "Date                                                                     \n",
       "2020-06-05       NaN       NaN       NaN       NaN       NaN       NaN   \n",
       "2020-06-08  0.035010  0.026550 -0.000050  0.006043  0.036163  0.050788   \n",
       "2020-06-09 -0.024007 -0.032943 -0.002609 -0.003967 -0.037708 -0.020926   \n",
       "2020-06-10 -0.011191 -0.068314  0.007008  0.003278 -0.022332 -0.093748   \n",
       "2020-06-11 -0.059506 -0.084333 -0.059603 -0.027949 -0.083077 -0.103455   \n",
       "2020-06-12  0.010003  0.037207  0.017737  0.001416  0.015825  0.043104   \n",
       "2020-06-15  0.040175  0.033297 -0.002604 -0.006745  0.002172  0.008544   \n",
       "2020-06-16  0.001797  0.014337  0.005824  0.013620  0.015782  0.010929   \n",
       "2020-06-17  0.010901 -0.021324  0.003519 -0.004755  0.000000 -0.038239   \n",
       "2020-06-18  0.005499  0.001557  0.001807  0.004228 -0.004041  0.003636   \n",
       "2020-06-19  0.001765  0.007748 -0.008858 -0.012915  0.049947  0.001813   \n",
       "2020-06-22 -0.008105 -0.016864  0.014258 -0.008943 -0.020374 -0.009099   \n",
       "2020-06-23  0.034117  0.009893  0.015321 -0.013020 -0.009994 -0.004397   \n",
       "2020-06-24 -0.010086 -0.045854 -0.033698 -0.018555 -0.039062 -0.041618   \n",
       "2020-06-25  0.009272  0.031503  0.013337  0.006469  0.020912  0.046746   \n",
       "2020-06-26 -0.029381 -0.053717 -0.024580 -0.020850 -0.020912 -0.077063   \n",
       "2020-06-29  0.019927  0.008010  0.011086  0.028375  0.027550  0.014107   \n",
       "2020-06-30  0.015409  0.012847  0.009310  0.008013  0.001653 -0.003899   \n",
       "2020-07-01  0.028725 -0.023078  0.003153 -0.008379 -0.036271 -0.020123   \n",
       "2020-07-02 -0.000525 -0.002505  0.009706  0.002193  0.026552  0.009915   \n",
       "\n",
       "Symbol           WMT       XOM  \n",
       "Date                            \n",
       "2020-06-05       NaN       NaN  \n",
       "2020-06-08 -0.002636  0.030794  \n",
       "2020-06-09  0.000907 -0.022539  \n",
       "2020-06-10 -0.001567 -0.055116  \n",
       "2020-06-11 -0.008871 -0.092392  \n",
       "2020-06-12 -0.019763  0.021211  \n",
       "2020-06-15  0.002884 -0.000636  \n",
       "2020-06-16  0.013208  0.022237  \n",
       "2020-06-17 -0.005195 -0.033115  \n",
       "2020-06-18 -0.008776  0.006200  \n",
       "2020-06-19  0.015641 -0.020237  \n",
       "2020-06-22  0.015154  0.009524  \n",
       "2020-06-23 -0.005026  0.006014  \n",
       "2020-06-24 -0.006380 -0.048255  \n",
       "2020-06-25 -0.004917  0.014944  \n",
       "2020-06-26 -0.011679 -0.034917  \n",
       "2020-06-29  0.006235  0.015920  \n",
       "2020-06-30  0.006029  0.008985  \n",
       "2020-07-01 -0.000752 -0.022844  \n",
       "2020-07-02 -0.004018  0.008429  \n",
       "\n",
       "[20 rows x 101 columns]"
      ]
     },
     "execution_count": 284,
     "metadata": {},
     "output_type": "execute_result"
    }
   ],
   "source": [
    "logChange = np.log(d / d.shift(1)) # geometric brownian motion. - make the errors being normally distributed.\n",
    "# more standardly used than pct_change.  df_temp['Close'] in this case.\n",
    "logChange"
   ]
  },
  {
   "cell_type": "markdown",
   "metadata": {},
   "source": [
    "#### pick five tickers with highest growth rates"
   ]
  },
  {
   "cell_type": "code",
   "execution_count": 270,
   "metadata": {},
   "outputs": [],
   "source": [
    "tickers_bestPerformed = logChange.describe().transpose().sort_values(by='mean', ascending=False).head(5)\n",
    "symbols = tickers_bestPerformed.index.tolist()"
   ]
  },
  {
   "cell_type": "markdown",
   "metadata": {},
   "source": [
    "#### -------------------------------------------------------------------------------------------------------"
   ]
  },
  {
   "cell_type": "code",
   "execution_count": 285,
   "metadata": {},
   "outputs": [],
   "source": [
    "\n",
    "import random\n",
    "symbols = random.choices(logChange.columns, k=5)\n"
   ]
  },
  {
   "cell_type": "markdown",
   "metadata": {},
   "source": [
    "### ------------------------------------------------------------------------------------"
   ]
  },
  {
   "cell_type": "code",
   "execution_count": 287,
   "metadata": {
    "scrolled": true
   },
   "outputs": [
    {
     "data": {
      "text/html": [
       "<div>\n",
       "<style scoped>\n",
       "    .dataframe tbody tr th:only-of-type {\n",
       "        vertical-align: middle;\n",
       "    }\n",
       "\n",
       "    .dataframe tbody tr th {\n",
       "        vertical-align: top;\n",
       "    }\n",
       "\n",
       "    .dataframe thead th {\n",
       "        text-align: right;\n",
       "    }\n",
       "</style>\n",
       "<table border=\"1\" class=\"dataframe\">\n",
       "  <thead>\n",
       "    <tr style=\"text-align: right;\">\n",
       "      <th>Symbol</th>\n",
       "      <th>JPM</th>\n",
       "      <th>GM</th>\n",
       "      <th>BMY</th>\n",
       "      <th>NVDA</th>\n",
       "      <th>QCOM</th>\n",
       "    </tr>\n",
       "    <tr>\n",
       "      <th>Date</th>\n",
       "      <th></th>\n",
       "      <th></th>\n",
       "      <th></th>\n",
       "      <th></th>\n",
       "      <th></th>\n",
       "    </tr>\n",
       "  </thead>\n",
       "  <tbody>\n",
       "    <tr>\n",
       "      <th>2020-06-05</th>\n",
       "      <td>NaN</td>\n",
       "      <td>NaN</td>\n",
       "      <td>NaN</td>\n",
       "      <td>NaN</td>\n",
       "      <td>NaN</td>\n",
       "    </tr>\n",
       "    <tr>\n",
       "      <th>2020-06-08</th>\n",
       "      <td>0.019762</td>\n",
       "      <td>0.002284</td>\n",
       "      <td>0.001629</td>\n",
       "      <td>-0.012976</td>\n",
       "      <td>0.031350</td>\n",
       "    </tr>\n",
       "    <tr>\n",
       "      <th>2020-06-09</th>\n",
       "      <td>-0.025985</td>\n",
       "      <td>-0.027091</td>\n",
       "      <td>-0.008173</td>\n",
       "      <td>0.027003</td>\n",
       "      <td>-0.017889</td>\n",
       "    </tr>\n",
       "    <tr>\n",
       "      <th>2020-06-10</th>\n",
       "      <td>-0.041373</td>\n",
       "      <td>-0.037882</td>\n",
       "      <td>-0.012718</td>\n",
       "      <td>0.034844</td>\n",
       "      <td>0.013941</td>\n",
       "    </tr>\n",
       "    <tr>\n",
       "      <th>2020-06-11</th>\n",
       "      <td>-0.087131</td>\n",
       "      <td>-0.081493</td>\n",
       "      <td>-0.059057</td>\n",
       "      <td>-0.062841</td>\n",
       "      <td>-0.079915</td>\n",
       "    </tr>\n",
       "    <tr>\n",
       "      <th>2020-06-12</th>\n",
       "      <td>0.026996</td>\n",
       "      <td>0.053630</td>\n",
       "      <td>-0.009568</td>\n",
       "      <td>0.015371</td>\n",
       "      <td>0.014416</td>\n",
       "    </tr>\n",
       "    <tr>\n",
       "      <th>2020-06-15</th>\n",
       "      <td>0.013723</td>\n",
       "      <td>-0.006819</td>\n",
       "      <td>-0.019233</td>\n",
       "      <td>0.026650</td>\n",
       "      <td>0.013401</td>\n",
       "    </tr>\n",
       "    <tr>\n",
       "      <th>2020-06-16</th>\n",
       "      <td>0.007968</td>\n",
       "      <td>0.000360</td>\n",
       "      <td>0.034954</td>\n",
       "      <td>-0.011539</td>\n",
       "      <td>0.035590</td>\n",
       "    </tr>\n",
       "    <tr>\n",
       "      <th>2020-06-17</th>\n",
       "      <td>-0.025604</td>\n",
       "      <td>-0.022571</td>\n",
       "      <td>-0.001930</td>\n",
       "      <td>0.018302</td>\n",
       "      <td>0.004681</td>\n",
       "    </tr>\n",
       "    <tr>\n",
       "      <th>2020-06-18</th>\n",
       "      <td>-0.005443</td>\n",
       "      <td>-0.002581</td>\n",
       "      <td>-0.017358</td>\n",
       "      <td>-0.001951</td>\n",
       "      <td>-0.000222</td>\n",
       "    </tr>\n",
       "    <tr>\n",
       "      <th>2020-06-19</th>\n",
       "      <td>-0.011487</td>\n",
       "      <td>-0.018629</td>\n",
       "      <td>0.007831</td>\n",
       "      <td>0.004681</td>\n",
       "      <td>-0.012421</td>\n",
       "    </tr>\n",
       "    <tr>\n",
       "      <th>2020-06-22</th>\n",
       "      <td>-0.010896</td>\n",
       "      <td>-0.008308</td>\n",
       "      <td>0.020181</td>\n",
       "      <td>0.028265</td>\n",
       "      <td>0.003597</td>\n",
       "    </tr>\n",
       "    <tr>\n",
       "      <th>2020-06-23</th>\n",
       "      <td>0.012123</td>\n",
       "      <td>-0.004561</td>\n",
       "      <td>0.014145</td>\n",
       "      <td>-0.008089</td>\n",
       "      <td>0.002465</td>\n",
       "    </tr>\n",
       "    <tr>\n",
       "      <th>2020-06-24</th>\n",
       "      <td>-0.033961</td>\n",
       "      <td>-0.037652</td>\n",
       "      <td>-0.010677</td>\n",
       "      <td>-0.022960</td>\n",
       "      <td>-0.002353</td>\n",
       "    </tr>\n",
       "    <tr>\n",
       "      <th>2020-06-25</th>\n",
       "      <td>0.034268</td>\n",
       "      <td>-0.001980</td>\n",
       "      <td>0.007245</td>\n",
       "      <td>0.027184</td>\n",
       "      <td>-0.002021</td>\n",
       "    </tr>\n",
       "    <tr>\n",
       "      <th>2020-06-26</th>\n",
       "      <td>-0.056378</td>\n",
       "      <td>-0.030995</td>\n",
       "      <td>-0.011061</td>\n",
       "      <td>-0.035938</td>\n",
       "      <td>-0.010623</td>\n",
       "    </tr>\n",
       "    <tr>\n",
       "      <th>2020-06-29</th>\n",
       "      <td>0.004418</td>\n",
       "      <td>0.033765</td>\n",
       "      <td>0.004508</td>\n",
       "      <td>0.004903</td>\n",
       "      <td>0.011185</td>\n",
       "    </tr>\n",
       "    <tr>\n",
       "      <th>2020-06-30</th>\n",
       "      <td>0.011333</td>\n",
       "      <td>0.000000</td>\n",
       "      <td>0.017153</td>\n",
       "      <td>0.031851</td>\n",
       "      <td>0.024416</td>\n",
       "    </tr>\n",
       "    <tr>\n",
       "      <th>2020-07-01</th>\n",
       "      <td>-0.008542</td>\n",
       "      <td>-0.013530</td>\n",
       "      <td>0.010657</td>\n",
       "      <td>0.003390</td>\n",
       "      <td>-0.015802</td>\n",
       "    </tr>\n",
       "    <tr>\n",
       "      <th>2020-07-02</th>\n",
       "      <td>-0.006454</td>\n",
       "      <td>0.011156</td>\n",
       "      <td>-0.004892</td>\n",
       "      <td>0.008594</td>\n",
       "      <td>0.023012</td>\n",
       "    </tr>\n",
       "  </tbody>\n",
       "</table>\n",
       "</div>"
      ],
      "text/plain": [
       "Symbol           JPM        GM       BMY      NVDA      QCOM\n",
       "Date                                                        \n",
       "2020-06-05       NaN       NaN       NaN       NaN       NaN\n",
       "2020-06-08  0.019762  0.002284  0.001629 -0.012976  0.031350\n",
       "2020-06-09 -0.025985 -0.027091 -0.008173  0.027003 -0.017889\n",
       "2020-06-10 -0.041373 -0.037882 -0.012718  0.034844  0.013941\n",
       "2020-06-11 -0.087131 -0.081493 -0.059057 -0.062841 -0.079915\n",
       "2020-06-12  0.026996  0.053630 -0.009568  0.015371  0.014416\n",
       "2020-06-15  0.013723 -0.006819 -0.019233  0.026650  0.013401\n",
       "2020-06-16  0.007968  0.000360  0.034954 -0.011539  0.035590\n",
       "2020-06-17 -0.025604 -0.022571 -0.001930  0.018302  0.004681\n",
       "2020-06-18 -0.005443 -0.002581 -0.017358 -0.001951 -0.000222\n",
       "2020-06-19 -0.011487 -0.018629  0.007831  0.004681 -0.012421\n",
       "2020-06-22 -0.010896 -0.008308  0.020181  0.028265  0.003597\n",
       "2020-06-23  0.012123 -0.004561  0.014145 -0.008089  0.002465\n",
       "2020-06-24 -0.033961 -0.037652 -0.010677 -0.022960 -0.002353\n",
       "2020-06-25  0.034268 -0.001980  0.007245  0.027184 -0.002021\n",
       "2020-06-26 -0.056378 -0.030995 -0.011061 -0.035938 -0.010623\n",
       "2020-06-29  0.004418  0.033765  0.004508  0.004903  0.011185\n",
       "2020-06-30  0.011333  0.000000  0.017153  0.031851  0.024416\n",
       "2020-07-01 -0.008542 -0.013530  0.010657  0.003390 -0.015802\n",
       "2020-07-02 -0.006454  0.011156 -0.004892  0.008594  0.023012"
      ]
     },
     "execution_count": 287,
     "metadata": {},
     "output_type": "execute_result"
    }
   ],
   "source": [
    "logChange = logChange[symbols]\n",
    "logChange"
   ]
  },
  {
   "cell_type": "markdown",
   "metadata": {},
   "source": [
    "### expected return of each ticker picked"
   ]
  },
  {
   "cell_type": "code",
   "execution_count": 288,
   "metadata": {},
   "outputs": [
    {
     "data": {
      "text/plain": [
       "Symbol\n",
       "JPM    -2.422691\n",
       "GM     -2.558420\n",
       "BMY    -0.482270\n",
       "NVDA    0.991320\n",
       "QCOM    0.488179\n",
       "dtype: float64"
      ]
     },
     "execution_count": 288,
     "metadata": {},
     "output_type": "execute_result"
    }
   ],
   "source": [
    "logChange.mean()*252 #252 business days per year in general"
   ]
  },
  {
   "cell_type": "markdown",
   "metadata": {},
   "source": [
    "### covariance across tickers"
   ]
  },
  {
   "cell_type": "code",
   "execution_count": 289,
   "metadata": {},
   "outputs": [
    {
     "data": {
      "text/html": [
       "<div>\n",
       "<style scoped>\n",
       "    .dataframe tbody tr th:only-of-type {\n",
       "        vertical-align: middle;\n",
       "    }\n",
       "\n",
       "    .dataframe tbody tr th {\n",
       "        vertical-align: top;\n",
       "    }\n",
       "\n",
       "    .dataframe thead th {\n",
       "        text-align: right;\n",
       "    }\n",
       "</style>\n",
       "<table border=\"1\" class=\"dataframe\">\n",
       "  <thead>\n",
       "    <tr style=\"text-align: right;\">\n",
       "      <th>Symbol</th>\n",
       "      <th>JPM</th>\n",
       "      <th>GM</th>\n",
       "      <th>BMY</th>\n",
       "      <th>NVDA</th>\n",
       "      <th>QCOM</th>\n",
       "    </tr>\n",
       "    <tr>\n",
       "      <th>Symbol</th>\n",
       "      <th></th>\n",
       "      <th></th>\n",
       "      <th></th>\n",
       "      <th></th>\n",
       "      <th></th>\n",
       "    </tr>\n",
       "  </thead>\n",
       "  <tbody>\n",
       "    <tr>\n",
       "      <th>JPM</th>\n",
       "      <td>0.230235</td>\n",
       "      <td>0.180765</td>\n",
       "      <td>0.094053</td>\n",
       "      <td>0.106412</td>\n",
       "      <td>0.134653</td>\n",
       "    </tr>\n",
       "    <tr>\n",
       "      <th>GM</th>\n",
       "      <td>0.180765</td>\n",
       "      <td>0.203877</td>\n",
       "      <td>0.072455</td>\n",
       "      <td>0.082379</td>\n",
       "      <td>0.125497</td>\n",
       "    </tr>\n",
       "    <tr>\n",
       "      <th>BMY</th>\n",
       "      <td>0.094053</td>\n",
       "      <td>0.072455</td>\n",
       "      <td>0.098661</td>\n",
       "      <td>0.055995</td>\n",
       "      <td>0.083713</td>\n",
       "    </tr>\n",
       "    <tr>\n",
       "      <th>NVDA</th>\n",
       "      <td>0.106412</td>\n",
       "      <td>0.082379</td>\n",
       "      <td>0.055995</td>\n",
       "      <td>0.164539</td>\n",
       "      <td>0.085516</td>\n",
       "    </tr>\n",
       "    <tr>\n",
       "      <th>QCOM</th>\n",
       "      <td>0.134653</td>\n",
       "      <td>0.125497</td>\n",
       "      <td>0.083713</td>\n",
       "      <td>0.085516</td>\n",
       "      <td>0.157983</td>\n",
       "    </tr>\n",
       "  </tbody>\n",
       "</table>\n",
       "</div>"
      ],
      "text/plain": [
       "Symbol       JPM        GM       BMY      NVDA      QCOM\n",
       "Symbol                                                  \n",
       "JPM     0.230235  0.180765  0.094053  0.106412  0.134653\n",
       "GM      0.180765  0.203877  0.072455  0.082379  0.125497\n",
       "BMY     0.094053  0.072455  0.098661  0.055995  0.083713\n",
       "NVDA    0.106412  0.082379  0.055995  0.164539  0.085516\n",
       "QCOM    0.134653  0.125497  0.083713  0.085516  0.157983"
      ]
     },
     "execution_count": 289,
     "metadata": {},
     "output_type": "execute_result"
    }
   ],
   "source": [
    "logChange.cov()*252"
   ]
  },
  {
   "cell_type": "code",
   "execution_count": 290,
   "metadata": {
    "scrolled": true
   },
   "outputs": [
    {
     "data": {
      "text/plain": [
       "<matplotlib.axes._subplots.AxesSubplot at 0x7f9c5aefe690>"
      ]
     },
     "execution_count": 290,
     "metadata": {},
     "output_type": "execute_result"
    },
    {
     "data": {
      "image/png": "[encoded data removed]",
      "text/plain": [
       "<Figure size 432x288 with 2 Axes>"
      ]
     },
     "metadata": {
      "needs_background": "light"
     },
     "output_type": "display_data"
    }
   ],
   "source": [
    "sns.heatmap(logChange.cov()*252)"
   ]
  },
  {
   "cell_type": "markdown",
   "metadata": {},
   "source": [
    "#### get random portofolio weights to run simulations"
   ]
  },
  {
   "cell_type": "code",
   "execution_count": 291,
   "metadata": {
    "scrolled": true
   },
   "outputs": [
    {
     "data": {
      "text/plain": [
       "array([0.19356424, 0.25224431, 0.21259213, 0.19217803, 0.14942128])"
      ]
     },
     "execution_count": 291,
     "metadata": {},
     "output_type": "execute_result"
    }
   ],
   "source": [
    "np.random.seed(0)\n",
    "weights = np.random.random(len(symbols))\n",
    "weights /= np.sum(weights)\n",
    "weights"
   ]
  },
  {
   "attachments": {
    "Screenshot%202020-07-03%20at%2009.20.58.png": {
     "image/png": "[encoded data removed]"
    }
   },
   "cell_type": "markdown",
   "metadata": {},
   "source": [
    "#### Expected return:\n",
    "![Screenshot%202020-07-03%20at%2009.20.58.png](attachment:Screenshot%202020-07-03%20at%2009.20.58.png)"
   ]
  },
  {
   "cell_type": "markdown",
   "metadata": {},
   "source": [
    "### expected return and volatility of porfolio with randomly assinged weights"
   ]
  },
  {
   "cell_type": "code",
   "execution_count": 292,
   "metadata": {
    "scrolled": true
   },
   "outputs": [
    {
     "data": {
      "text/plain": [
       "-0.9533658485094507"
      ]
     },
     "execution_count": 292,
     "metadata": {},
     "output_type": "execute_result"
    }
   ],
   "source": [
    "#return of portfolio\n",
    "np.sum(logChange.mean()*weights)*252"
   ]
  },
  {
   "cell_type": "code",
   "execution_count": 293,
   "metadata": {},
   "outputs": [
    {
     "data": {
      "text/plain": [
       "0.11678255650890189"
      ]
     },
     "execution_count": 293,
     "metadata": {},
     "output_type": "execute_result"
    }
   ],
   "source": [
    "#variance of portfolio\n",
    "np.dot(weights.T, np.dot(logChange.cov() * 252, weights))"
   ]
  },
  {
   "cell_type": "code",
   "execution_count": 294,
   "metadata": {},
   "outputs": [
    {
     "data": {
      "text/plain": [
       "0.341734628782191"
      ]
     },
     "execution_count": 294,
     "metadata": {},
     "output_type": "execute_result"
    }
   ],
   "source": [
    "#standard deviation of portfolio (volatility)\n",
    "np.sqrt(np.dot(weights.T, np.dot(logChange.cov() * 252, weights)))"
   ]
  },
  {
   "cell_type": "markdown",
   "metadata": {},
   "source": [
    "## simulation of portfolios with different weight combinations"
   ]
  },
  {
   "cell_type": "code",
   "execution_count": 295,
   "metadata": {},
   "outputs": [],
   "source": [
    "prets = []  #stores list of returns\n",
    "pvols = []  #stores list of volatilities\n",
    "\n",
    "for p in range (5000):\n",
    "    weights = np.random.random(len(symbols))\n",
    "    weights /= np.sum(weights)\n",
    "    prets.append(np.sum(logChange.mean() * weights) * 252)\n",
    "    pvols.append(np.sqrt(np.dot(weights.T, \n",
    "                        np.dot(logChange.cov() * 252, weights))))\n",
    "prets = np.array(prets)\n",
    "pvols = np.array(pvols)"
   ]
  },
  {
   "cell_type": "code",
   "execution_count": 298,
   "metadata": {
    "scrolled": true
   },
   "outputs": [
    {
     "data": {
      "image/png": "[encoded data removed]",
      "text/plain": [
       "<Figure size 432x288 with 2 Axes>"
      ]
     },
     "metadata": {
      "needs_background": "light"
     },
     "output_type": "display_data"
    }
   ],
   "source": [
    "\n",
    "plt.scatter(pvols, prets, c=prets/pvols, marker='o', cmap='coolwarm') # mpl.cm.jet)\n",
    "\n",
    "plt.grid(True)\n",
    "plt.xlabel('expected volatility')\n",
    "plt.ylabel('expected return')\n",
    "plt.colorbar(label='Sharpe ratio') #beta\n",
    "plt.show()"
   ]
  },
  {
   "cell_type": "code",
   "execution_count": 299,
   "metadata": {},
   "outputs": [],
   "source": [
    "def statistics(weights):\n",
    "    ''' Return portfolio statistics.\n",
    "    \n",
    "    Parameters\n",
    "    ==========\n",
    "    weights : array-like\n",
    "    \n",
    "    Returns\n",
    "    =======\n",
    "    pret : float\n",
    "    pvol : float\n",
    "    pret / pvol : float      #sharp ratio (beta)\n",
    "\n",
    "    '''\n",
    "    riskfree = .0019   #risk free rate .19% (1 Year Treasury Rate is at 0.19%)\n",
    "    weights = np.array(weights)\n",
    "    pret = np.sum(logChange.mean() * weights) * 252\n",
    "    pvol = np.sqrt(np.dot(weights.T, np.dot(logChange.cov() * 252, weights)))\n",
    "    return np.array([pret, pvol, ((pret-riskfree )/ pvol)])"
   ]
  },
  {
   "cell_type": "markdown",
   "metadata": {},
   "source": [
    "### Sharp ratio optimization"
   ]
  },
  {
   "cell_type": "code",
   "execution_count": 300,
   "metadata": {},
   "outputs": [],
   "source": [
    "def min_func_sharpe(weights):\n",
    "    return -statistics(weights)[2]"
   ]
  },
  {
   "cell_type": "code",
   "execution_count": 301,
   "metadata": {},
   "outputs": [
    {
     "data": {
      "text/plain": [
       "{'type': 'eq', 'fun': <function __main__.<lambda>(x)>}"
      ]
     },
     "execution_count": 301,
     "metadata": {},
     "output_type": "execute_result"
    }
   ],
   "source": [
    "cons = ({'type': 'eq', 'fun': lambda x:  np.sum(x) - 1})\n",
    "cons"
   ]
  },
  {
   "cell_type": "code",
   "execution_count": 302,
   "metadata": {},
   "outputs": [
    {
     "data": {
      "text/plain": [
       "array([-0.79677645,  0.34048026, -2.34573494])"
      ]
     },
     "execution_count": 302,
     "metadata": {},
     "output_type": "execute_result"
    }
   ],
   "source": [
    "#return, volatility, and sharp ratio when portfolio is weighted equally\n",
    "w = len(symbols)*[1. /len(symbols),]\n",
    "statistics(w)"
   ]
  },
  {
   "cell_type": "code",
   "execution_count": 303,
   "metadata": {
    "scrolled": true
   },
   "outputs": [
    {
     "data": {
      "text/plain": [
       "((0, 1), (0, 1), (0, 1), (0, 1), (0, 1))"
      ]
     },
     "execution_count": 303,
     "metadata": {},
     "output_type": "execute_result"
    }
   ],
   "source": [
    "bnds = tuple((0, 1) for x in range(len(symbols)))\n",
    "bnds"
   ]
  },
  {
   "cell_type": "code",
   "execution_count": 304,
   "metadata": {
    "scrolled": true
   },
   "outputs": [
    {
     "data": {
      "text/plain": [
       "[0.2, 0.2, 0.2, 0.2, 0.2]"
      ]
     },
     "execution_count": 304,
     "metadata": {},
     "output_type": "execute_result"
    }
   ],
   "source": [
    "#set initial point\n",
    "len(symbols)* [1./len(symbols),]"
   ]
  },
  {
   "cell_type": "markdown",
   "metadata": {},
   "source": [
    "#### Minimize a scalar function of one or more variables using Sequential Least Squares Programming (SLSQP)."
   ]
  },
  {
   "cell_type": "markdown",
   "metadata": {},
   "source": [
    "#### scipy.optimize.minimize(fun, x0, args=(), method=None, jac=None, hess=None, hessp=None, bounds=None, constraints=(), tol=None, callback=None, options=None)"
   ]
  },
  {
   "cell_type": "code",
   "execution_count": 305,
   "metadata": {
    "scrolled": true
   },
   "outputs": [
    {
     "name": "stdout",
     "output_type": "stream",
     "text": [
      "CPU times: user 18.4 ms, sys: 2.79 ms, total: 21.2 ms\n",
      "Wall time: 18.5 ms\n"
     ]
    }
   ],
   "source": [
    "%%time\n",
    "\n",
    "opts = sco.minimize(min_func_sharpe, len(symbols)* [1. / len(symbols),], method='SLSQP',\n",
    "                       bounds=bnds, constraints=cons)\n"
   ]
  },
  {
   "cell_type": "code",
   "execution_count": 306,
   "metadata": {
    "scrolled": true
   },
   "outputs": [
    {
     "data": {
      "text/plain": [
       "     fun: -2.4391961601814183\n",
       "     jac: array([ 7.55011043e+00,  7.52843440e+00,  2.01903012e+00, -4.68403101e-03,\n",
       "        6.42280579e-02])\n",
       " message: 'Optimization terminated successfully.'\n",
       "    nfev: 14\n",
       "     nit: 2\n",
       "    njev: 2\n",
       "  status: 0\n",
       " success: True\n",
       "       x: array([3.71924713e-15, 6.57807142e-15, 0.00000000e+00, 1.00000000e+00,\n",
       "       0.00000000e+00])"
      ]
     },
     "execution_count": 306,
     "metadata": {},
     "output_type": "execute_result"
    }
   ],
   "source": [
    "opts"
   ]
  },
  {
   "cell_type": "code",
   "execution_count": 307,
   "metadata": {
    "scrolled": false
   },
   "outputs": [
    {
     "name": "stdout",
     "output_type": "stream",
     "text": [
      "exp return :0.991\n",
      "exp volatility :0.406\n",
      "exp sharp ratio :2.439\n"
     ]
    }
   ],
   "source": [
    "a=opts['x'].round(3)   #opt weights\n",
    "#print(\"exp return :\" + str( np.sum(logChange.mean()*a)*252  )  ).round(3)   #1yr exp return of portfolio with opt weights \n",
    "print(\"exp return :\" + str( statistics(opts['x'].round(3))[0].round(3) ) )\n",
    "print(\"exp volatility :\" + str( statistics(opts['x'].round(3))[1].round(3) )  )\n",
    "print(\"exp sharp ratio :\" + str( statistics(opts['x'].round(3))[2].round(3) )  )"
   ]
  },
  {
   "cell_type": "code",
   "execution_count": 308,
   "metadata": {
    "scrolled": true
   },
   "outputs": [
    {
     "data": {
      "image/png": "[encoded data removed]",
      "text/plain": [
       "<Figure size 432x288 with 2 Axes>"
      ]
     },
     "metadata": {
      "needs_background": "light"
     },
     "output_type": "display_data"
    }
   ],
   "source": [
    "plt.scatter(pvols, prets, c=prets/pvols, marker='o', cmap='RdYlBu')\n",
    "plt.grid(True)\n",
    "plt.xlabel('expected volatility')\n",
    "plt.ylabel('expected return')\n",
    "plt.colorbar(label='Sharpe ratio')\n",
    "\n",
    "#highest sharp ratio\n",
    "pt_opts = statistics(opts['x']).round(3)\n",
    "plt.scatter(pt_opts[1], pt_opts[0], marker=\"*\", s=500, alpha=0.5, color='b')\n",
    "\n",
    "\n",
    "#return, volatility, and sharp ratio when portfolio is weighted equally\n",
    "w = len(symbols)*[1. /len(symbols),]\n",
    "plt.scatter(statistics(w)[1], statistics(w)[0], marker=\"*\", s= 500, alpha=0.5, color='g')\n",
    "\n",
    "\n",
    "# add a red dot for max_sr_vol & max_sr_ret\n",
    "plt.scatter(pvols.max(), prets.max(), c='red', s=500, alpha=0.5, edgecolors='black')\n",
    "\n",
    "\n",
    "\n",
    "plt.show()"
   ]
  },
  {
   "cell_type": "markdown",
   "metadata": {},
   "source": [
    "### Volatility Optimization"
   ]
  },
  {
   "cell_type": "code",
   "execution_count": 309,
   "metadata": {},
   "outputs": [],
   "source": [
    "def min_func_variance(weights):\n",
    "    return statistics(weights)[1] ** 2"
   ]
  },
  {
   "cell_type": "code",
   "execution_count": 310,
   "metadata": {},
   "outputs": [],
   "source": [
    "optv = sco.minimize(min_func_variance,  len(symbols) * [1. / len(symbols),], method='SLSQP',\n",
    "                       bounds=bnds, constraints=cons)"
   ]
  },
  {
   "cell_type": "code",
   "execution_count": 311,
   "metadata": {
    "scrolled": true
   },
   "outputs": [
    {
     "data": {
      "text/plain": [
       "     fun: 0.08569486370894164\n",
       "     jac: array([0.20864865, 0.17158043, 0.1713784 , 0.17135747, 0.17522054])\n",
       " message: 'Optimization terminated successfully.'\n",
       "    nfev: 77\n",
       "     nit: 11\n",
       "    njev: 11\n",
       "  status: 0\n",
       " success: True\n",
       "       x: array([2.10337151e-17, 8.23304099e-02, 6.64210547e-01, 2.53459043e-01,\n",
       "       9.29324905e-18])"
      ]
     },
     "execution_count": 311,
     "metadata": {},
     "output_type": "execute_result"
    }
   ],
   "source": [
    "optv"
   ]
  },
  {
   "cell_type": "code",
   "execution_count": 312,
   "metadata": {},
   "outputs": [
    {
     "data": {
      "image/png": "[encoded data removed]",
      "text/plain": [
       "<Figure size 432x288 with 2 Axes>"
      ]
     },
     "metadata": {
      "needs_background": "light"
     },
     "output_type": "display_data"
    }
   ],
   "source": [
    "plt.scatter(pvols, prets, c=prets/pvols, marker='o', cmap='RdYlBu')\n",
    "plt.grid(True)\n",
    "plt.xlabel('expected volatility')\n",
    "plt.ylabel('expected return')\n",
    "plt.colorbar(label='Sharpe ratio')\n",
    "\n",
    "#highest sharp ratio\n",
    "pt_opts = statistics(opts['x']).round(3)\n",
    "plt.scatter(pt_opts[1], pt_opts[0], marker=\"*\", s=500, alpha=0.5, color='b')\n",
    "\n",
    "    \n",
    "plt.plot(statistics(optv['x'])[1], statistics(optv['x'])[0], 'y*', markersize=20, color='r')\n",
    "            # Optimal (minimum) volatility\n",
    "    \n",
    "plt.show()"
   ]
  },
  {
   "cell_type": "markdown",
   "metadata": {},
   "source": [
    "### Efficient Frontier"
   ]
  },
  {
   "cell_type": "code",
   "execution_count": 313,
   "metadata": {},
   "outputs": [],
   "source": [
    "cons = ({'type': 'eq', 'fun': lambda x:  statistics(x)[0] - tret},\n",
    "        {'type': 'eq', 'fun': lambda x:  np.sum(x) - 1})\n",
    "bnds = tuple((0, 1) for x in weights)"
   ]
  },
  {
   "cell_type": "code",
   "execution_count": 314,
   "metadata": {},
   "outputs": [],
   "source": [
    "def min_func_port(weights):\n",
    "    return statistics(weights)[1]"
   ]
  },
  {
   "cell_type": "code",
   "execution_count": 315,
   "metadata": {},
   "outputs": [
    {
     "data": {
      "text/plain": [
       "(-2.2126294326902647, 0.6720507780850319)"
      ]
     },
     "execution_count": 315,
     "metadata": {},
     "output_type": "execute_result"
    }
   ],
   "source": [
    "prets.min(), prets.max()"
   ]
  },
  {
   "cell_type": "code",
   "execution_count": 316,
   "metadata": {},
   "outputs": [
    {
     "name": "stdout",
     "output_type": "stream",
     "text": [
      "CPU times: user 3.24 s, sys: 7.88 ms, total: 3.25 s\n",
      "Wall time: 3.25 s\n"
     ]
    }
   ],
   "source": [
    "%%time\n",
    "trets = np.linspace(prets.min(), max(prets.max(), pt_opts[0])  , 50)\n",
    "tvols = []\n",
    "for tret in trets:\n",
    "    cons = ({'type': 'eq', 'fun': lambda x:  statistics(x)[0] - tret},\n",
    "            {'type': 'eq', 'fun': lambda x:  np.sum(x) - 1})\n",
    "    res = sco.minimize(min_func_port, len(symbols)* [1. / len(symbols),], method='SLSQP',\n",
    "                       bounds=bnds, constraints=cons)\n",
    "    tvols.append(res['fun'])\n",
    "tvols = np.array(tvols)"
   ]
  },
  {
   "cell_type": "code",
   "execution_count": 317,
   "metadata": {},
   "outputs": [
    {
     "data": {
      "image/png": "[encoded data removed]",
      "text/plain": [
       "<Figure size 432x288 with 2 Axes>"
      ]
     },
     "metadata": {
      "needs_background": "light"
     },
     "output_type": "display_data"
    }
   ],
   "source": [
    "plt.scatter(pvols, prets,\n",
    "            c=prets / pvols, marker='o', cmap='RdYlBu')\n",
    "            # rangdomly weighted sample portfolio simulations\n",
    "    \n",
    "plt.scatter(tvols, trets,\n",
    "            c=trets / tvols, marker='x', s=70, linewidth=2, cmap='plasma')\n",
    "            # Efficient frontier\n",
    "    \n",
    "#highest sharp ratio\n",
    "pt_opts = statistics(opts['x']).round(3)\n",
    "plt.scatter(pt_opts[1], pt_opts[0], marker=\"*\", s=500, alpha=0.5, color='b')\n",
    "\n",
    "    \n",
    "plt.plot(statistics(optv['x'])[1], statistics(optv['x'])[0],\n",
    "         'y*', markersize=30, color='r')\n",
    "            # Optimal (minimum) volatility\n",
    "    \n",
    "plt.grid(True)\n",
    "plt.xlabel('expected volatility')\n",
    "plt.ylabel('expected return')\n",
    "plt.colorbar(label='Sharpe ratio')\n",
    "plt.show()"
   ]
  },
  {
   "cell_type": "markdown",
   "metadata": {},
   "source": [
    "### Capital Market Line\n",
    "Capital Asset Pricing Model, CAPM)"
   ]
  },
  {
   "cell_type": "code",
   "execution_count": 318,
   "metadata": {},
   "outputs": [],
   "source": [
    "import scipy.interpolate as sci"
   ]
  },
  {
   "cell_type": "code",
   "execution_count": 319,
   "metadata": {},
   "outputs": [
    {
     "data": {
      "text/plain": [
       "30"
      ]
     },
     "execution_count": 319,
     "metadata": {},
     "output_type": "execute_result"
    }
   ],
   "source": [
    "np.argmin(tvols) #find index of minimum value of volatility "
   ]
  },
  {
   "cell_type": "code",
   "execution_count": 320,
   "metadata": {},
   "outputs": [],
   "source": [
    "ind = np.argmin(tvols)\n",
    "evols = tvols[ind:]    #include array only up to the index of minimum volatility\n",
    "erets = trets[ind:]"
   ]
  },
  {
   "cell_type": "code",
   "execution_count": 321,
   "metadata": {
    "scrolled": true
   },
   "outputs": [],
   "source": [
    "tck = sci.splrep(evols, erets)"
   ]
  },
  {
   "cell_type": "code",
   "execution_count": 322,
   "metadata": {},
   "outputs": [],
   "source": [
    "def f(x):\n",
    "    ''' efficient frontier (spline) '''\n",
    "    return sci.splev(x, tck, der=0)\n",
    "\n",
    "def df(x):\n",
    "    ''' efficient frontier (first derivative)'''\n",
    "    return sci.splev(x, tck, der=1)"
   ]
  },
  {
   "cell_type": "code",
   "execution_count": 352,
   "metadata": {},
   "outputs": [
    {
     "data": {
      "image/png": "[encoded data removed]",
      "text/plain": [
       "<Figure size 432x288 with 2 Axes>"
      ]
     },
     "metadata": {
      "needs_background": "light"
     },
     "output_type": "display_data"
    }
   ],
   "source": [
    "plt.scatter(pvols, prets,\n",
    "            c=prets / pvols, marker='o', cmap='RdYlBu')\n",
    "            # randomly weighted sample portfolios \n",
    "\n",
    "plt.plot(evols, f(evols), lw=4, alpha=0.5)    \n",
    "\n",
    "plt.grid(True)\n",
    "plt.xlabel('expected volatility')\n",
    "plt.ylabel('expected return')\n",
    "plt.colorbar(label='Sharpe ratio')\n",
    "plt.show()"
   ]
  },
  {
   "cell_type": "code",
   "execution_count": 324,
   "metadata": {},
   "outputs": [],
   "source": [
    "def equations(p, rf=0.01):\n",
    "    eq1 = rf - p[0]\n",
    "    eq2 = rf + p[1] * p[2] - f(p[2])\n",
    "    eq3 = p[1] - df(p[2])\n",
    "    return eq1, eq2, eq3"
   ]
  },
  {
   "cell_type": "code",
   "execution_count": 325,
   "metadata": {},
   "outputs": [
    {
     "name": "stderr",
     "output_type": "stream",
     "text": [
      "/Users/reejungkim/opt/anaconda3/envs/myenv/lib/python3.7/site-packages/scipy/optimize/minpack.py:162: RuntimeWarning: The iteration is not making good progress, as measured by the \n",
      "  improvement from the last ten iterations.\n",
      "  warnings.warn(msg, RuntimeWarning)\n"
     ]
    },
    {
     "data": {
      "text/plain": [
       "array([0.01      , 2.66511906, 0.39165558])"
      ]
     },
     "execution_count": 325,
     "metadata": {},
     "output_type": "execute_result"
    }
   ],
   "source": [
    "opt = sco.fsolve(equations, [0.01, 1.0, 0.1])\n",
    "opt"
   ]
  },
  {
   "cell_type": "code",
   "execution_count": 326,
   "metadata": {},
   "outputs": [
    {
     "data": {
      "text/plain": [
       "array([ 0.      ,  0.103256, -0.040441])"
      ]
     },
     "execution_count": 326,
     "metadata": {},
     "output_type": "execute_result"
    }
   ],
   "source": [
    "np.round(equations(opt), 6)"
   ]
  },
  {
   "cell_type": "code",
   "execution_count": 355,
   "metadata": {},
   "outputs": [
    {
     "data": {
      "text/plain": [
       "(array([-0.25122366, -0.18584347, -0.12046327, -0.05508308,  0.01029711,\n",
       "         0.0756773 ,  0.1410575 ,  0.20643769,  0.27181788,  0.33719807,\n",
       "         0.40257827,  0.46795846,  0.53333865,  0.59871884,  0.66409904,\n",
       "         0.72947923,  0.79485942,  0.86023961,  0.92561981,  0.991     ]),\n",
       " array([-0.25122366, -0.18584347, -0.12046327, -0.05508308,  0.01029711,\n",
       "         0.0756773 ,  0.1410575 ,  0.20643769,  0.27181788,  0.33719807,\n",
       "         0.40257827,  0.46795846,  0.53333865,  0.59871884,  0.66409904,\n",
       "         0.72947923,  0.79485942,  0.86023961,  0.92561981,  0.991     ]))"
      ]
     },
     "execution_count": 355,
     "metadata": {},
     "output_type": "execute_result"
    }
   ],
   "source": [
    "erets, f(evols)"
   ]
  },
  {
   "cell_type": "code",
   "execution_count": 350,
   "metadata": {},
   "outputs": [
    {
     "data": {
      "image/png": "[encoded data removed]",
      "text/plain": [
       "<Figure size 432x288 with 2 Axes>"
      ]
     },
     "metadata": {
      "needs_background": "light"
     },
     "output_type": "display_data"
    }
   ],
   "source": [
    "\n",
    "plt.scatter(pvols, prets,\n",
    "            c= prets/pvols, marker='o', cmap='RdYlBu')\n",
    "            # random sample portoflios\n",
    "\n",
    "# efficient frontier\n",
    "plt.plot(evols, erets, 'g', lw=2, alpha=.8)    \n",
    "plt.plot(evols, f(evols), 'b', lw=8, alpha=0.2, )     \n",
    "\n",
    "\n",
    "#Capital market line\n",
    "cx = np.linspace(riskfree, 0.36 )   # (0.0, 0.3)\n",
    "plt.plot(cx, opt[0] + opt[1] * cx, lw=3, alpha=0.2, ) \n",
    "    \n",
    "    \n",
    "plt.plot(opt[2], f(opt[2]), 'r*', markersize=25.0) \n",
    "\n",
    "\n",
    "plt.grid(True)\n",
    "plt.axhline(0.0, color='k', ls='--', lw=2.0)\n",
    "plt.axvline(0.0, color='k', ls='--', lw=2.0)\n",
    "plt.xlabel('expected volatility')\n",
    "plt.ylabel('expected return')\n",
    "plt.colorbar(label='Sharpe ratio')\n",
    "plt.show()"
   ]
  },
  {
   "cell_type": "markdown",
   "metadata": {},
   "source": [
    "#### Optimal portfolio weights"
   ]
  },
  {
   "cell_type": "code",
   "execution_count": 330,
   "metadata": {},
   "outputs": [
    {
     "data": {
      "text/plain": [
       "array([0.   , 0.   , 0.   , 0.919, 0.081])"
      ]
     },
     "execution_count": 330,
     "metadata": {},
     "output_type": "execute_result"
    }
   ],
   "source": [
    "cons = ({'type': 'eq', 'fun': lambda x:  statistics(x)[0] - f(opt[2])},\n",
    "        {'type': 'eq', 'fun': lambda x:  np.sum(x) - 1})\n",
    "res = sco.minimize(min_func_port, len(symbols) * [1. / len(symbols),], method='SLSQP',\n",
    "                       bounds=bnds, constraints=cons)\n",
    "res['x'].round(3)"
   ]
  },
  {
   "cell_type": "markdown",
   "metadata": {},
   "source": [
    "#### return, volatility, and sharp ratio expected with the optimal weights"
   ]
  },
  {
   "cell_type": "code",
   "execution_count": 331,
   "metadata": {},
   "outputs": [
    {
     "data": {
      "text/plain": [
       "array([0.9505657 , 0.39080802, 2.42744683])"
      ]
     },
     "execution_count": 331,
     "metadata": {},
     "output_type": "execute_result"
    }
   ],
   "source": [
    "statistics(res['x'].round(3))"
   ]
  },
  {
   "cell_type": "code",
   "execution_count": 332,
   "metadata": {},
   "outputs": [
    {
     "data": {
      "text/plain": [
       "['JPM', 'GM', 'BMY', 'NVDA', 'QCOM']"
      ]
     },
     "execution_count": 332,
     "metadata": {},
     "output_type": "execute_result"
    }
   ],
   "source": [
    "symbols"
   ]
  },
  {
   "cell_type": "code",
   "execution_count": 333,
   "metadata": {},
   "outputs": [],
   "source": [
    "summary_output = pd.DataFrame({'Symbol': symbols})\n",
    "summary_output['Weight'] = res['x'].round(3)"
   ]
  },
  {
   "cell_type": "code",
   "execution_count": 334,
   "metadata": {},
   "outputs": [],
   "source": [
    "summary_output = pd.merge(summary_output , (logChange.mean()*252).reset_index(name='temp'))"
   ]
  },
  {
   "cell_type": "code",
   "execution_count": 335,
   "metadata": {},
   "outputs": [],
   "source": [
    "summary_output['Exp return'] = summary_output['Weight']*summary_output['temp']"
   ]
  },
  {
   "cell_type": "code",
   "execution_count": 336,
   "metadata": {},
   "outputs": [],
   "source": [
    "summary_output = summary_output.pivot_table(index='Symbol', values=['Weight', 'Exp return']  , aggfunc=np.sum, margins=True)\n",
    "\n"
   ]
  },
  {
   "cell_type": "code",
   "execution_count": 337,
   "metadata": {},
   "outputs": [
    {
     "data": {
      "text/html": [
       "<div>\n",
       "<style scoped>\n",
       "    .dataframe tbody tr th:only-of-type {\n",
       "        vertical-align: middle;\n",
       "    }\n",
       "\n",
       "    .dataframe tbody tr th {\n",
       "        vertical-align: top;\n",
       "    }\n",
       "\n",
       "    .dataframe thead th {\n",
       "        text-align: right;\n",
       "    }\n",
       "</style>\n",
       "<table border=\"1\" class=\"dataframe\">\n",
       "  <thead>\n",
       "    <tr style=\"text-align: right;\">\n",
       "      <th></th>\n",
       "      <th>Exp return</th>\n",
       "      <th>Weight</th>\n",
       "    </tr>\n",
       "    <tr>\n",
       "      <th>Symbol</th>\n",
       "      <th></th>\n",
       "      <th></th>\n",
       "    </tr>\n",
       "  </thead>\n",
       "  <tbody>\n",
       "    <tr>\n",
       "      <th>BMY</th>\n",
       "      <td>0.000000</td>\n",
       "      <td>0.000</td>\n",
       "    </tr>\n",
       "    <tr>\n",
       "      <th>GM</th>\n",
       "      <td>0.000000</td>\n",
       "      <td>0.000</td>\n",
       "    </tr>\n",
       "    <tr>\n",
       "      <th>JPM</th>\n",
       "      <td>0.000000</td>\n",
       "      <td>0.000</td>\n",
       "    </tr>\n",
       "    <tr>\n",
       "      <th>NVDA</th>\n",
       "      <td>0.911023</td>\n",
       "      <td>0.919</td>\n",
       "    </tr>\n",
       "    <tr>\n",
       "      <th>QCOM</th>\n",
       "      <td>0.039543</td>\n",
       "      <td>0.081</td>\n",
       "    </tr>\n",
       "    <tr>\n",
       "      <th>All</th>\n",
       "      <td>0.950566</td>\n",
       "      <td>1.000</td>\n",
       "    </tr>\n",
       "  </tbody>\n",
       "</table>\n",
       "</div>"
      ],
      "text/plain": [
       "        Exp return  Weight\n",
       "Symbol                    \n",
       "BMY       0.000000   0.000\n",
       "GM        0.000000   0.000\n",
       "JPM       0.000000   0.000\n",
       "NVDA      0.911023   0.919\n",
       "QCOM      0.039543   0.081\n",
       "All       0.950566   1.000"
      ]
     },
     "execution_count": 337,
     "metadata": {},
     "output_type": "execute_result"
    }
   ],
   "source": [
    "summary_output"
   ]
  },
  {
   "cell_type": "code",
   "execution_count": null,
   "metadata": {},
   "outputs": [],
   "source": []
  },
  {
   "cell_type": "code",
   "execution_count": 68,
   "metadata": {},
   "outputs": [],
   "source": [
    "today = dt.datetime.today().strftime('%Y-%m-%d')\n",
    "pdf_file_name = \"Report \"+ today +\".pdf\""
   ]
  },
  {
   "cell_type": "code",
   "execution_count": 69,
   "metadata": {},
   "outputs": [],
   "source": [
    "def PrepareTableForReportLab(dataframe):\n",
    "    \n",
    "    data = dataframe\n",
    "\n",
    "    'handling grouped first index column'\n",
    "    a= []\n",
    "    for i in range(len(data)):\n",
    "        #print(i, data.index.get_level_values(0)[i])\n",
    "        if data.index.get_level_values(0)[i-1] == data.index.get_level_values(0)[i]:\n",
    "            a.append(i)\n",
    "    a.sort(reverse=True)\n",
    "\n",
    "    as_list = data.index.get_level_values(0).tolist()\n",
    "    for i in a:\n",
    "        as_list[i] = \"\"\n",
    "\n",
    "        \n",
    "    'flat dataframe'\n",
    "    data = data.reset_index()\n",
    "    'remove duplicated values from first column which was index before resetting index'\n",
    "    first_col_name = data.columns[0]\n",
    "    data[first_col_name] = as_list \n",
    "    \n",
    "    #data = dataframe.reset_index()\n",
    "    #colwidths = 800/len(data.columns) \n",
    "    data = [data.columns.to_list()] + data.values.tolist() \n",
    "\n",
    "    #tbl = Table(data) # \n",
    "    tbl = Table(data) #, colwidths ) #, rowheights)\n",
    "    tbl.setStyle(TableStyle([\n",
    "    ('INNERGRID', (0, 0), (-1, -1), 0.25, colors.black),\n",
    "    ('BOX', (0, 0), (-1, -1), 0.25, colors.black),\n",
    "    ('ALIGN', (1,1), (-1,-1), 'RIGHT'),\n",
    "    ('BACKGROUND', (0,0), (-1,0), colors.Color(0,0.7,0.7))\n",
    "    ]))\n",
    "    \n",
    "    return tbl"
   ]
  },
  {
   "cell_type": "code",
   "execution_count": 70,
   "metadata": {},
   "outputs": [],
   "source": [
    "story = []"
   ]
  },
  {
   "cell_type": "code",
   "execution_count": 71,
   "metadata": {
    "scrolled": true
   },
   "outputs": [],
   "source": [
    "story.append(Paragraph(\"Portfolio\", getSampleStyleSheet()['Heading1']))\n",
    "story.append(PrepareTableForReportLab(summary_output))\n",
    "\n",
    "story.append(PageBreak())"
   ]
  },
  {
   "cell_type": "code",
   "execution_count": null,
   "metadata": {},
   "outputs": [],
   "source": []
  },
  {
   "cell_type": "code",
   "execution_count": 72,
   "metadata": {},
   "outputs": [],
   "source": [
    "doc = SimpleDocTemplate(pdf_file_name, pagesize = landscape(letter), topMargin = inch * .25, bottomMargin = inch * .25)\n",
    "doc.build(story)"
   ]
  },
  {
   "cell_type": "code",
   "execution_count": 73,
   "metadata": {},
   "outputs": [
    {
     "data": {
      "text/plain": [
       "CompletedProcess(args=['open', '/Users/reejungkim/Documents/Git/reporting automation/2020-07-04 21-43-25'], returncode=0)"
      ]
     },
     "execution_count": 73,
     "metadata": {},
     "output_type": "execute_result"
    }
   ],
   "source": [
    "#open folder\n",
    "subprocess.run(['open', reportDir], check=True)"
   ]
  },
  {
   "cell_type": "code",
   "execution_count": 74,
   "metadata": {
    "scrolled": true
   },
   "outputs": [
    {
     "data": {
      "text/plain": [
       "CompletedProcess(args=['open', 'Report 2020-07-04.pdf'], returncode=0)"
      ]
     },
     "execution_count": 74,
     "metadata": {},
     "output_type": "execute_result"
    }
   ],
   "source": [
    "#Open pdf file generated\n",
    "subprocess.run(['open', pdf_file_name], check=True)"
   ]
  },
  {
   "cell_type": "code",
   "execution_count": null,
   "metadata": {},
   "outputs": [],
   "source": []
  }
 ],
 "metadata": {
  "kernelspec": {
   "display_name": "Python 3",
   "language": "python",
   "name": "python3"
  },
  "language_info": {
   "codemirror_mode": {
    "name": "ipython",
    "version": 3
   },
   "file_extension": ".py",
   "mimetype": "text/x-python",
   "name": "python",
   "nbconvert_exporter": "python",
   "pygments_lexer": "ipython3",
   "version": "3.7.7"
  }
 },
 "nbformat": 4,
 "nbformat_minor": 4
}
