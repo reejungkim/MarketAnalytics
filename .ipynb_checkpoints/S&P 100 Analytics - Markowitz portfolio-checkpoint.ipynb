{
 "cells": [
  {
   "cell_type": "code",
   "execution_count": 1,
   "metadata": {},
   "outputs": [
    {
     "name": "stderr",
     "output_type": "stream",
     "text": [
      "/Users/reejungkim/opt/anaconda3/envs/myenv/lib/python3.7/site-packages/pandas_datareader/compat/__init__.py:7: FutureWarning: pandas.util.testing is deprecated. Use the functions in the public API at pandas.testing instead.\n",
      "  from pandas.util.testing import assert_frame_equal\n"
     ]
    }
   ],
   "source": [
    "import timeit\n",
    "import datetime as dt\n",
    "import os\n",
    "import subprocess \n",
    "\n",
    "import pandas as pd\n",
    "import numpy as np\n",
    "\n",
    "#for portofolio optimization \n",
    "import scipy.optimize as sco\n",
    "\n",
    "\n",
    "#visualization\n",
    "import matplotlib as mpl\n",
    "import matplotlib.pyplot as plt\n",
    "#import plotly.graph_objs as go\n",
    "%matplotlib inline\n",
    "#visualization with seaborn\n",
    "import seaborn as sns\n",
    "#visualization with plotly \n",
    "import plotly.graph_objects as go #for candle chart visualization\n",
    "import plotly.express as px #for html output\n",
    "\n",
    "\n",
    "#to get financial data\n",
    "from pandas_datareader import data as pdr\n",
    "\n",
    "\n",
    "#for webscraping \n",
    "import requests\n",
    "from bs4 import BeautifulSoup \n",
    "from selenium import webdriver\n",
    "from selenium.webdriver.common.keys import Keys\n",
    "import pandas as pd\n",
    "import requests\n",
    "\n",
    "\n",
    "#for pdf report generation\n",
    "from reportlab.pdfgen import canvas\n",
    "from reportlab.platypus import *\n",
    "from reportlab.lib import colors\n",
    "from reportlab.lib.pagesizes import letter, landscape\n",
    "from reportlab.lib.styles import getSampleStyleSheet, ParagraphStyle\n",
    "from reportlab.lib.units import inch\n",
    "from reportlab.platypus.tableofcontents import TableOfContents\n"
   ]
  },
  {
   "cell_type": "code",
   "execution_count": 2,
   "metadata": {},
   "outputs": [],
   "source": [
    "days_to_lookback =  20    #int (input('days to search financial data:'))"
   ]
  },
  {
   "cell_type": "code",
   "execution_count": 3,
   "metadata": {},
   "outputs": [],
   "source": [
    "riskfree = .0019"
   ]
  },
  {
   "cell_type": "code",
   "execution_count": 4,
   "metadata": {},
   "outputs": [],
   "source": [
    "date_end = dt.datetime.now() #.today()\n",
    "date_start = date_end - dt.timedelta(days_to_lookback)"
   ]
  },
  {
   "cell_type": "markdown",
   "metadata": {},
   "source": [
    "# Create timestamped folder to save reports created later"
   ]
  },
  {
   "cell_type": "code",
   "execution_count": 5,
   "metadata": {},
   "outputs": [
    {
     "data": {
      "text/plain": [
       "'2020-08-09 17-24-02'"
      ]
     },
     "execution_count": 5,
     "metadata": {},
     "output_type": "execute_result"
    }
   ],
   "source": [
    "#timestamp = str(dt.datetime.now()) <- '2020-06-26 20:26:08.775766'  \n",
    "timestamp =  dt.datetime.now().strftime('%Y-%m-%d %H-%M-%S')\n",
    "timestamp"
   ]
  },
  {
   "cell_type": "code",
   "execution_count": 6,
   "metadata": {},
   "outputs": [
    {
     "data": {
      "text/plain": [
       "'/Users/reejungkim/Documents/Git/reporting automation/Markowitz portflio output 2020-08-09 17-24-02'"
      ]
     },
     "execution_count": 6,
     "metadata": {},
     "output_type": "execute_result"
    }
   ],
   "source": [
    "path = os.getcwd() \n",
    "reportDir = os.path.join(path, \"Markowitz portflio output \" + timestamp)\n",
    "reportDir"
   ]
  },
  {
   "cell_type": "code",
   "execution_count": 7,
   "metadata": {},
   "outputs": [],
   "source": [
    "#create named folder\n",
    "os.makedirs(reportDir, exist_ok = False)"
   ]
  },
  {
   "cell_type": "code",
   "execution_count": 8,
   "metadata": {},
   "outputs": [],
   "source": [
    "os.chdir(reportDir)"
   ]
  },
  {
   "cell_type": "markdown",
   "metadata": {},
   "source": [
    "# Web scraping S&P100 companies from Wikipedia table"
   ]
  },
  {
   "cell_type": "code",
   "execution_count": 9,
   "metadata": {},
   "outputs": [],
   "source": [
    "website_url = requests.get(\"https://en.wikipedia.org/wiki/S%26P_100\").text\n",
    "\n",
    "soup = BeautifulSoup(website_url,'lxml')\n",
    "#print(soup.prettify())"
   ]
  },
  {
   "cell_type": "code",
   "execution_count": 10,
   "metadata": {},
   "outputs": [],
   "source": [
    "wiki_table = soup.find('table',{'class':'wikitable sortable'})"
   ]
  },
  {
   "cell_type": "code",
   "execution_count": 11,
   "metadata": {},
   "outputs": [],
   "source": [
    "data = []\n",
    "tHeader = []\n",
    "SP100_tickers = pd.DataFrame()\n",
    "\n",
    "for tr in wiki_table.find_all(\"tr\"):\n",
    "    for th in tr.find_all(\"th\")[:1]:\n",
    "        tHeader = th.get_text(strip=True)\n",
    "        SP100_tickers[tHeader] = []\n",
    "    for td in tr.find_all(\"td\")[:1]:\n",
    "        data.append( td.get_text(strip=True))\n",
    "        \n",
    "SP100_tickers[tHeader] = data"
   ]
  },
  {
   "cell_type": "code",
   "execution_count": 12,
   "metadata": {
    "scrolled": true
   },
   "outputs": [
    {
     "data": {
      "text/html": [
       "<div>\n",
       "<style scoped>\n",
       "    .dataframe tbody tr th:only-of-type {\n",
       "        vertical-align: middle;\n",
       "    }\n",
       "\n",
       "    .dataframe tbody tr th {\n",
       "        vertical-align: top;\n",
       "    }\n",
       "\n",
       "    .dataframe thead th {\n",
       "        text-align: right;\n",
       "    }\n",
       "</style>\n",
       "<table border=\"1\" class=\"dataframe\">\n",
       "  <thead>\n",
       "    <tr style=\"text-align: right;\">\n",
       "      <th></th>\n",
       "      <th>Symbol</th>\n",
       "    </tr>\n",
       "  </thead>\n",
       "  <tbody>\n",
       "    <tr>\n",
       "      <th>0</th>\n",
       "      <td>AAPL</td>\n",
       "    </tr>\n",
       "    <tr>\n",
       "      <th>1</th>\n",
       "      <td>ABBV</td>\n",
       "    </tr>\n",
       "    <tr>\n",
       "      <th>2</th>\n",
       "      <td>ABT</td>\n",
       "    </tr>\n",
       "    <tr>\n",
       "      <th>3</th>\n",
       "      <td>ACN</td>\n",
       "    </tr>\n",
       "    <tr>\n",
       "      <th>4</th>\n",
       "      <td>ADBE</td>\n",
       "    </tr>\n",
       "    <tr>\n",
       "      <th>...</th>\n",
       "      <td>...</td>\n",
       "    </tr>\n",
       "    <tr>\n",
       "      <th>96</th>\n",
       "      <td>VZ</td>\n",
       "    </tr>\n",
       "    <tr>\n",
       "      <th>97</th>\n",
       "      <td>WBA</td>\n",
       "    </tr>\n",
       "    <tr>\n",
       "      <th>98</th>\n",
       "      <td>WFC</td>\n",
       "    </tr>\n",
       "    <tr>\n",
       "      <th>99</th>\n",
       "      <td>WMT</td>\n",
       "    </tr>\n",
       "    <tr>\n",
       "      <th>100</th>\n",
       "      <td>XOM</td>\n",
       "    </tr>\n",
       "  </tbody>\n",
       "</table>\n",
       "<p>101 rows × 1 columns</p>\n",
       "</div>"
      ],
      "text/plain": [
       "    Symbol\n",
       "0     AAPL\n",
       "1     ABBV\n",
       "2      ABT\n",
       "3      ACN\n",
       "4     ADBE\n",
       "..     ...\n",
       "96      VZ\n",
       "97     WBA\n",
       "98     WFC\n",
       "99     WMT\n",
       "100    XOM\n",
       "\n",
       "[101 rows x 1 columns]"
      ]
     },
     "execution_count": 12,
     "metadata": {},
     "output_type": "execute_result"
    }
   ],
   "source": [
    "SP100_tickers"
   ]
  },
  {
   "cell_type": "markdown",
   "metadata": {},
   "source": [
    "# Use DataReader to get financial data of S&P100 companies from yahoo"
   ]
  },
  {
   "cell_type": "code",
   "execution_count": 13,
   "metadata": {
    "scrolled": true
   },
   "outputs": [
    {
     "name": "stdout",
     "output_type": "stream",
     "text": [
      "CPU times: user 7.03 s, sys: 687 ms, total: 7.72 s\n",
      "Wall time: 1min 9s\n"
     ]
    }
   ],
   "source": [
    "%%time\n",
    "\n",
    "df = pd.DataFrame()\n",
    "\n",
    "for i in data:\n",
    "    symbol = SP100_tickers.loc[SP100_tickers['Symbol']==i]\n",
    "    try:\n",
    "        symbol_data = pdr.DataReader(i, 'yahoo', date_start, date_end).reset_index()\n",
    "        #display(symbol_data)  \n",
    "    except (KeyError, ValueError):  # the error could possibly occur when there's \".\" in stock name \n",
    "        symbol_data = pdr.DataReader(i.replace('.','-'), 'yahoo', date_start, date_end).reset_index()\n",
    "        #symbol_data = pd.DataFrame()\n",
    "        pass\n",
    "    except:\n",
    "        print(i + \" - Error.\")\n",
    "        symbol_data = pd.DataFrame()\n",
    "        pass\n",
    "    single_table = pd.concat([symbol, symbol_data], axis=0, ignore_index=True) #axis=0 <- row. add frames by row and use fill down.\n",
    "    single_table['Symbol'].ffill(inplace=True)\n",
    "    df = df.append(single_table)\n",
    "    "
   ]
  },
  {
   "cell_type": "code",
   "execution_count": 14,
   "metadata": {
    "scrolled": true
   },
   "outputs": [],
   "source": [
    "df = df.loc[df['Date'].notnull()]"
   ]
  },
  {
   "cell_type": "code",
   "execution_count": 15,
   "metadata": {},
   "outputs": [],
   "source": [
    "df = df.reset_index(drop=True)"
   ]
  },
  {
   "cell_type": "markdown",
   "metadata": {
    "scrolled": true
   },
   "source": [
    "df.groupby(['Symbol']).describe().transpose()"
   ]
  },
  {
   "cell_type": "code",
   "execution_count": 16,
   "metadata": {},
   "outputs": [],
   "source": [
    "df_Flat = df"
   ]
  },
  {
   "cell_type": "markdown",
   "metadata": {},
   "source": [
    "# Prepare data frame to display volatility and to be normalized"
   ]
  },
  {
   "cell_type": "code",
   "execution_count": 17,
   "metadata": {
    "scrolled": true
   },
   "outputs": [],
   "source": [
    "d = df.pivot_table(values='Close', index='Date', columns='Symbol', aggfunc=np.sum, margins=False)"
   ]
  },
  {
   "cell_type": "code",
   "execution_count": 18,
   "metadata": {
    "scrolled": true
   },
   "outputs": [
    {
     "data": {
      "text/html": [
       "<div>\n",
       "<style scoped>\n",
       "    .dataframe tbody tr th:only-of-type {\n",
       "        vertical-align: middle;\n",
       "    }\n",
       "\n",
       "    .dataframe tbody tr th {\n",
       "        vertical-align: top;\n",
       "    }\n",
       "\n",
       "    .dataframe thead th {\n",
       "        text-align: right;\n",
       "    }\n",
       "</style>\n",
       "<table border=\"1\" class=\"dataframe\">\n",
       "  <thead>\n",
       "    <tr style=\"text-align: right;\">\n",
       "      <th>Symbol</th>\n",
       "      <th>AAPL</th>\n",
       "      <th>ABBV</th>\n",
       "      <th>ABT</th>\n",
       "      <th>ACN</th>\n",
       "      <th>ADBE</th>\n",
       "      <th>AIG</th>\n",
       "      <th>ALL</th>\n",
       "      <th>AMGN</th>\n",
       "      <th>AMT</th>\n",
       "      <th>AMZN</th>\n",
       "      <th>...</th>\n",
       "      <th>UNH</th>\n",
       "      <th>UNP</th>\n",
       "      <th>UPS</th>\n",
       "      <th>USB</th>\n",
       "      <th>V</th>\n",
       "      <th>VZ</th>\n",
       "      <th>WBA</th>\n",
       "      <th>WFC</th>\n",
       "      <th>WMT</th>\n",
       "      <th>XOM</th>\n",
       "    </tr>\n",
       "    <tr>\n",
       "      <th>Date</th>\n",
       "      <th></th>\n",
       "      <th></th>\n",
       "      <th></th>\n",
       "      <th></th>\n",
       "      <th></th>\n",
       "      <th></th>\n",
       "      <th></th>\n",
       "      <th></th>\n",
       "      <th></th>\n",
       "      <th></th>\n",
       "      <th></th>\n",
       "      <th></th>\n",
       "      <th></th>\n",
       "      <th></th>\n",
       "      <th></th>\n",
       "      <th></th>\n",
       "      <th></th>\n",
       "      <th></th>\n",
       "      <th></th>\n",
       "      <th></th>\n",
       "      <th></th>\n",
       "    </tr>\n",
       "  </thead>\n",
       "  <tbody>\n",
       "    <tr>\n",
       "      <th>2020-07-20</th>\n",
       "      <td>393.429993</td>\n",
       "      <td>99.540001</td>\n",
       "      <td>99.080002</td>\n",
       "      <td>223.429993</td>\n",
       "      <td>455.269989</td>\n",
       "      <td>31.410000</td>\n",
       "      <td>90.930000</td>\n",
       "      <td>260.950012</td>\n",
       "      <td>260.529999</td>\n",
       "      <td>3196.840088</td>\n",
       "      <td>...</td>\n",
       "      <td>303.459991</td>\n",
       "      <td>177.389999</td>\n",
       "      <td>118.349998</td>\n",
       "      <td>35.570000</td>\n",
       "      <td>198.470001</td>\n",
       "      <td>55.869999</td>\n",
       "      <td>40.459999</td>\n",
       "      <td>24.570000</td>\n",
       "      <td>131.470001</td>\n",
       "      <td>42.500000</td>\n",
       "    </tr>\n",
       "    <tr>\n",
       "      <th>2020-07-21</th>\n",
       "      <td>388.000000</td>\n",
       "      <td>97.400002</td>\n",
       "      <td>98.190002</td>\n",
       "      <td>222.750000</td>\n",
       "      <td>444.279999</td>\n",
       "      <td>31.959999</td>\n",
       "      <td>91.860001</td>\n",
       "      <td>257.910004</td>\n",
       "      <td>259.209991</td>\n",
       "      <td>3138.290039</td>\n",
       "      <td>...</td>\n",
       "      <td>305.109985</td>\n",
       "      <td>178.660004</td>\n",
       "      <td>119.040001</td>\n",
       "      <td>36.599998</td>\n",
       "      <td>196.479996</td>\n",
       "      <td>55.840000</td>\n",
       "      <td>40.410000</td>\n",
       "      <td>26.200001</td>\n",
       "      <td>132.330002</td>\n",
       "      <td>44.650002</td>\n",
       "    </tr>\n",
       "    <tr>\n",
       "      <th>2020-07-22</th>\n",
       "      <td>389.089996</td>\n",
       "      <td>97.699997</td>\n",
       "      <td>100.190002</td>\n",
       "      <td>224.229996</td>\n",
       "      <td>445.049988</td>\n",
       "      <td>32.189999</td>\n",
       "      <td>93.519997</td>\n",
       "      <td>256.980011</td>\n",
       "      <td>259.040009</td>\n",
       "      <td>3099.909912</td>\n",
       "      <td>...</td>\n",
       "      <td>306.709991</td>\n",
       "      <td>179.380005</td>\n",
       "      <td>118.720001</td>\n",
       "      <td>36.259998</td>\n",
       "      <td>198.860001</td>\n",
       "      <td>55.750000</td>\n",
       "      <td>40.689999</td>\n",
       "      <td>26.260000</td>\n",
       "      <td>132.660004</td>\n",
       "      <td>43.610001</td>\n",
       "    </tr>\n",
       "    <tr>\n",
       "      <th>2020-07-23</th>\n",
       "      <td>371.380005</td>\n",
       "      <td>98.029999</td>\n",
       "      <td>100.820000</td>\n",
       "      <td>222.300003</td>\n",
       "      <td>431.739990</td>\n",
       "      <td>31.870001</td>\n",
       "      <td>94.669998</td>\n",
       "      <td>252.240005</td>\n",
       "      <td>257.899994</td>\n",
       "      <td>2986.550049</td>\n",
       "      <td>...</td>\n",
       "      <td>302.970001</td>\n",
       "      <td>175.000000</td>\n",
       "      <td>118.139999</td>\n",
       "      <td>36.770000</td>\n",
       "      <td>197.429993</td>\n",
       "      <td>55.849998</td>\n",
       "      <td>40.340000</td>\n",
       "      <td>26.350000</td>\n",
       "      <td>131.639999</td>\n",
       "      <td>43.700001</td>\n",
       "    </tr>\n",
       "    <tr>\n",
       "      <th>2020-07-24</th>\n",
       "      <td>370.459991</td>\n",
       "      <td>97.110001</td>\n",
       "      <td>98.949997</td>\n",
       "      <td>221.440002</td>\n",
       "      <td>430.309998</td>\n",
       "      <td>31.309999</td>\n",
       "      <td>94.360001</td>\n",
       "      <td>247.979996</td>\n",
       "      <td>256.329987</td>\n",
       "      <td>3008.909912</td>\n",
       "      <td>...</td>\n",
       "      <td>300.790009</td>\n",
       "      <td>176.119995</td>\n",
       "      <td>118.349998</td>\n",
       "      <td>36.919998</td>\n",
       "      <td>195.149994</td>\n",
       "      <td>56.849998</td>\n",
       "      <td>40.509998</td>\n",
       "      <td>26.260000</td>\n",
       "      <td>131.240005</td>\n",
       "      <td>43.430000</td>\n",
       "    </tr>\n",
       "  </tbody>\n",
       "</table>\n",
       "<p>5 rows × 101 columns</p>\n",
       "</div>"
      ],
      "text/plain": [
       "Symbol            AAPL       ABBV         ABT         ACN        ADBE  \\\n",
       "Date                                                                    \n",
       "2020-07-20  393.429993  99.540001   99.080002  223.429993  455.269989   \n",
       "2020-07-21  388.000000  97.400002   98.190002  222.750000  444.279999   \n",
       "2020-07-22  389.089996  97.699997  100.190002  224.229996  445.049988   \n",
       "2020-07-23  371.380005  98.029999  100.820000  222.300003  431.739990   \n",
       "2020-07-24  370.459991  97.110001   98.949997  221.440002  430.309998   \n",
       "\n",
       "Symbol            AIG        ALL        AMGN         AMT         AMZN  ...  \\\n",
       "Date                                                                   ...   \n",
       "2020-07-20  31.410000  90.930000  260.950012  260.529999  3196.840088  ...   \n",
       "2020-07-21  31.959999  91.860001  257.910004  259.209991  3138.290039  ...   \n",
       "2020-07-22  32.189999  93.519997  256.980011  259.040009  3099.909912  ...   \n",
       "2020-07-23  31.870001  94.669998  252.240005  257.899994  2986.550049  ...   \n",
       "2020-07-24  31.309999  94.360001  247.979996  256.329987  3008.909912  ...   \n",
       "\n",
       "Symbol             UNH         UNP         UPS        USB           V  \\\n",
       "Date                                                                    \n",
       "2020-07-20  303.459991  177.389999  118.349998  35.570000  198.470001   \n",
       "2020-07-21  305.109985  178.660004  119.040001  36.599998  196.479996   \n",
       "2020-07-22  306.709991  179.380005  118.720001  36.259998  198.860001   \n",
       "2020-07-23  302.970001  175.000000  118.139999  36.770000  197.429993   \n",
       "2020-07-24  300.790009  176.119995  118.349998  36.919998  195.149994   \n",
       "\n",
       "Symbol             VZ        WBA        WFC         WMT        XOM  \n",
       "Date                                                                \n",
       "2020-07-20  55.869999  40.459999  24.570000  131.470001  42.500000  \n",
       "2020-07-21  55.840000  40.410000  26.200001  132.330002  44.650002  \n",
       "2020-07-22  55.750000  40.689999  26.260000  132.660004  43.610001  \n",
       "2020-07-23  55.849998  40.340000  26.350000  131.639999  43.700001  \n",
       "2020-07-24  56.849998  40.509998  26.260000  131.240005  43.430000  \n",
       "\n",
       "[5 rows x 101 columns]"
      ]
     },
     "execution_count": 18,
     "metadata": {},
     "output_type": "execute_result"
    }
   ],
   "source": [
    "d.head()"
   ]
  },
  {
   "cell_type": "code",
   "execution_count": 19,
   "metadata": {
    "scrolled": true
   },
   "outputs": [
    {
     "data": {
      "text/html": [
       "<div>\n",
       "<style scoped>\n",
       "    .dataframe tbody tr th:only-of-type {\n",
       "        vertical-align: middle;\n",
       "    }\n",
       "\n",
       "    .dataframe tbody tr th {\n",
       "        vertical-align: top;\n",
       "    }\n",
       "\n",
       "    .dataframe thead th {\n",
       "        text-align: right;\n",
       "    }\n",
       "</style>\n",
       "<table border=\"1\" class=\"dataframe\">\n",
       "  <thead>\n",
       "    <tr style=\"text-align: right;\">\n",
       "      <th>Symbol</th>\n",
       "      <th>AAPL</th>\n",
       "      <th>ABBV</th>\n",
       "      <th>ABT</th>\n",
       "      <th>ACN</th>\n",
       "      <th>ADBE</th>\n",
       "      <th>AIG</th>\n",
       "      <th>ALL</th>\n",
       "      <th>AMGN</th>\n",
       "      <th>AMT</th>\n",
       "      <th>AMZN</th>\n",
       "      <th>...</th>\n",
       "      <th>UNH</th>\n",
       "      <th>UNP</th>\n",
       "      <th>UPS</th>\n",
       "      <th>USB</th>\n",
       "      <th>V</th>\n",
       "      <th>VZ</th>\n",
       "      <th>WBA</th>\n",
       "      <th>WFC</th>\n",
       "      <th>WMT</th>\n",
       "      <th>XOM</th>\n",
       "    </tr>\n",
       "    <tr>\n",
       "      <th>Date</th>\n",
       "      <th></th>\n",
       "      <th></th>\n",
       "      <th></th>\n",
       "      <th></th>\n",
       "      <th></th>\n",
       "      <th></th>\n",
       "      <th></th>\n",
       "      <th></th>\n",
       "      <th></th>\n",
       "      <th></th>\n",
       "      <th></th>\n",
       "      <th></th>\n",
       "      <th></th>\n",
       "      <th></th>\n",
       "      <th></th>\n",
       "      <th></th>\n",
       "      <th></th>\n",
       "      <th></th>\n",
       "      <th></th>\n",
       "      <th></th>\n",
       "      <th></th>\n",
       "    </tr>\n",
       "  </thead>\n",
       "  <tbody>\n",
       "    <tr>\n",
       "      <th>2020-07-20</th>\n",
       "      <td>NaN</td>\n",
       "      <td>NaN</td>\n",
       "      <td>NaN</td>\n",
       "      <td>NaN</td>\n",
       "      <td>NaN</td>\n",
       "      <td>NaN</td>\n",
       "      <td>NaN</td>\n",
       "      <td>NaN</td>\n",
       "      <td>NaN</td>\n",
       "      <td>NaN</td>\n",
       "      <td>...</td>\n",
       "      <td>NaN</td>\n",
       "      <td>NaN</td>\n",
       "      <td>NaN</td>\n",
       "      <td>NaN</td>\n",
       "      <td>NaN</td>\n",
       "      <td>NaN</td>\n",
       "      <td>NaN</td>\n",
       "      <td>NaN</td>\n",
       "      <td>NaN</td>\n",
       "      <td>NaN</td>\n",
       "    </tr>\n",
       "    <tr>\n",
       "      <th>2020-07-21</th>\n",
       "      <td>-0.013898</td>\n",
       "      <td>-0.021733</td>\n",
       "      <td>-0.009023</td>\n",
       "      <td>-0.003048</td>\n",
       "      <td>-0.024436</td>\n",
       "      <td>0.017359</td>\n",
       "      <td>0.010176</td>\n",
       "      <td>-0.011718</td>\n",
       "      <td>-0.005080</td>\n",
       "      <td>-0.018485</td>\n",
       "      <td>...</td>\n",
       "      <td>0.005423</td>\n",
       "      <td>0.007134</td>\n",
       "      <td>0.005813</td>\n",
       "      <td>0.028546</td>\n",
       "      <td>-0.010077</td>\n",
       "      <td>-0.000537</td>\n",
       "      <td>-0.001237</td>\n",
       "      <td>0.064233</td>\n",
       "      <td>0.006520</td>\n",
       "      <td>0.049350</td>\n",
       "    </tr>\n",
       "    <tr>\n",
       "      <th>2020-07-22</th>\n",
       "      <td>0.002805</td>\n",
       "      <td>0.003075</td>\n",
       "      <td>0.020164</td>\n",
       "      <td>0.006622</td>\n",
       "      <td>0.001732</td>\n",
       "      <td>0.007171</td>\n",
       "      <td>0.017910</td>\n",
       "      <td>-0.003612</td>\n",
       "      <td>-0.000656</td>\n",
       "      <td>-0.012305</td>\n",
       "      <td>...</td>\n",
       "      <td>0.005230</td>\n",
       "      <td>0.004022</td>\n",
       "      <td>-0.002692</td>\n",
       "      <td>-0.009333</td>\n",
       "      <td>0.012040</td>\n",
       "      <td>-0.001613</td>\n",
       "      <td>0.006905</td>\n",
       "      <td>0.002287</td>\n",
       "      <td>0.002491</td>\n",
       "      <td>-0.023568</td>\n",
       "    </tr>\n",
       "    <tr>\n",
       "      <th>2020-07-23</th>\n",
       "      <td>-0.046585</td>\n",
       "      <td>0.003372</td>\n",
       "      <td>0.006268</td>\n",
       "      <td>-0.008644</td>\n",
       "      <td>-0.030363</td>\n",
       "      <td>-0.009991</td>\n",
       "      <td>0.012222</td>\n",
       "      <td>-0.018617</td>\n",
       "      <td>-0.004411</td>\n",
       "      <td>-0.037254</td>\n",
       "      <td>...</td>\n",
       "      <td>-0.012269</td>\n",
       "      <td>-0.024721</td>\n",
       "      <td>-0.004897</td>\n",
       "      <td>0.013967</td>\n",
       "      <td>-0.007217</td>\n",
       "      <td>0.001792</td>\n",
       "      <td>-0.008639</td>\n",
       "      <td>0.003421</td>\n",
       "      <td>-0.007719</td>\n",
       "      <td>0.002062</td>\n",
       "    </tr>\n",
       "    <tr>\n",
       "      <th>2020-07-24</th>\n",
       "      <td>-0.002480</td>\n",
       "      <td>-0.009429</td>\n",
       "      <td>-0.018722</td>\n",
       "      <td>-0.003876</td>\n",
       "      <td>-0.003318</td>\n",
       "      <td>-0.017728</td>\n",
       "      <td>-0.003280</td>\n",
       "      <td>-0.017033</td>\n",
       "      <td>-0.006106</td>\n",
       "      <td>0.007459</td>\n",
       "      <td>...</td>\n",
       "      <td>-0.007221</td>\n",
       "      <td>0.006380</td>\n",
       "      <td>0.001776</td>\n",
       "      <td>0.004071</td>\n",
       "      <td>-0.011616</td>\n",
       "      <td>0.017747</td>\n",
       "      <td>0.004205</td>\n",
       "      <td>-0.003421</td>\n",
       "      <td>-0.003043</td>\n",
       "      <td>-0.006198</td>\n",
       "    </tr>\n",
       "  </tbody>\n",
       "</table>\n",
       "<p>5 rows × 101 columns</p>\n",
       "</div>"
      ],
      "text/plain": [
       "Symbol          AAPL      ABBV       ABT       ACN      ADBE       AIG  \\\n",
       "Date                                                                     \n",
       "2020-07-20       NaN       NaN       NaN       NaN       NaN       NaN   \n",
       "2020-07-21 -0.013898 -0.021733 -0.009023 -0.003048 -0.024436  0.017359   \n",
       "2020-07-22  0.002805  0.003075  0.020164  0.006622  0.001732  0.007171   \n",
       "2020-07-23 -0.046585  0.003372  0.006268 -0.008644 -0.030363 -0.009991   \n",
       "2020-07-24 -0.002480 -0.009429 -0.018722 -0.003876 -0.003318 -0.017728   \n",
       "\n",
       "Symbol           ALL      AMGN       AMT      AMZN  ...       UNH       UNP  \\\n",
       "Date                                                ...                       \n",
       "2020-07-20       NaN       NaN       NaN       NaN  ...       NaN       NaN   \n",
       "2020-07-21  0.010176 -0.011718 -0.005080 -0.018485  ...  0.005423  0.007134   \n",
       "2020-07-22  0.017910 -0.003612 -0.000656 -0.012305  ...  0.005230  0.004022   \n",
       "2020-07-23  0.012222 -0.018617 -0.004411 -0.037254  ... -0.012269 -0.024721   \n",
       "2020-07-24 -0.003280 -0.017033 -0.006106  0.007459  ... -0.007221  0.006380   \n",
       "\n",
       "Symbol           UPS       USB         V        VZ       WBA       WFC  \\\n",
       "Date                                                                     \n",
       "2020-07-20       NaN       NaN       NaN       NaN       NaN       NaN   \n",
       "2020-07-21  0.005813  0.028546 -0.010077 -0.000537 -0.001237  0.064233   \n",
       "2020-07-22 -0.002692 -0.009333  0.012040 -0.001613  0.006905  0.002287   \n",
       "2020-07-23 -0.004897  0.013967 -0.007217  0.001792 -0.008639  0.003421   \n",
       "2020-07-24  0.001776  0.004071 -0.011616  0.017747  0.004205 -0.003421   \n",
       "\n",
       "Symbol           WMT       XOM  \n",
       "Date                            \n",
       "2020-07-20       NaN       NaN  \n",
       "2020-07-21  0.006520  0.049350  \n",
       "2020-07-22  0.002491 -0.023568  \n",
       "2020-07-23 -0.007719  0.002062  \n",
       "2020-07-24 -0.003043 -0.006198  \n",
       "\n",
       "[5 rows x 101 columns]"
      ]
     },
     "execution_count": 19,
     "metadata": {},
     "output_type": "execute_result"
    }
   ],
   "source": [
    "logChange = np.log(d / d.shift(1)) # geometric brownian motion. - make the errors being normally distributed.\n",
    "# more standardly used than pct_change.  df_temp['Close'] in this case.\n",
    "logChange.head()"
   ]
  },
  {
   "cell_type": "markdown",
   "metadata": {},
   "source": [
    "# pick tickers to use for portfolio\n",
    "( highest growth rates)"
   ]
  },
  {
   "cell_type": "code",
   "execution_count": 20,
   "metadata": {
    "scrolled": true
   },
   "outputs": [
    {
     "data": {
      "text/plain": [
       "['ORCL', 'T', 'F', 'WBA', 'CSCO', 'KHC', 'MO', 'EXC', 'KMI', 'CMCSA']"
      ]
     },
     "execution_count": 20,
     "metadata": {},
     "output_type": "execute_result"
    }
   ],
   "source": [
    "tickers = pd.DataFrame((d.mean()/d.var()))\n",
    "tickers.columns =['sharp']\n",
    "tickers = tickers.sort_values(by='sharp', ascending=False).head(10)\n",
    "symbols = tickers.index.tolist()\n",
    "symbols"
   ]
  },
  {
   "cell_type": "markdown",
   "metadata": {},
   "source": [
    "tickers_bestPerformed = logChange.describe().transpose().sort_values(by='mean', ascending=False).head(5)\n",
    "symbols = tickers_bestPerformed.index.tolist()"
   ]
  },
  {
   "cell_type": "code",
   "execution_count": 21,
   "metadata": {
    "scrolled": true
   },
   "outputs": [
    {
     "data": {
      "text/html": [
       "<div>\n",
       "<style scoped>\n",
       "    .dataframe tbody tr th:only-of-type {\n",
       "        vertical-align: middle;\n",
       "    }\n",
       "\n",
       "    .dataframe tbody tr th {\n",
       "        vertical-align: top;\n",
       "    }\n",
       "\n",
       "    .dataframe thead th {\n",
       "        text-align: right;\n",
       "    }\n",
       "</style>\n",
       "<table border=\"1\" class=\"dataframe\">\n",
       "  <thead>\n",
       "    <tr style=\"text-align: right;\">\n",
       "      <th>Symbol</th>\n",
       "      <th>ORCL</th>\n",
       "      <th>T</th>\n",
       "      <th>F</th>\n",
       "      <th>WBA</th>\n",
       "      <th>CSCO</th>\n",
       "      <th>KHC</th>\n",
       "      <th>MO</th>\n",
       "      <th>EXC</th>\n",
       "      <th>KMI</th>\n",
       "      <th>CMCSA</th>\n",
       "    </tr>\n",
       "    <tr>\n",
       "      <th>Date</th>\n",
       "      <th></th>\n",
       "      <th></th>\n",
       "      <th></th>\n",
       "      <th></th>\n",
       "      <th></th>\n",
       "      <th></th>\n",
       "      <th></th>\n",
       "      <th></th>\n",
       "      <th></th>\n",
       "      <th></th>\n",
       "    </tr>\n",
       "  </thead>\n",
       "  <tbody>\n",
       "    <tr>\n",
       "      <th>2020-07-20</th>\n",
       "      <td>NaN</td>\n",
       "      <td>NaN</td>\n",
       "      <td>NaN</td>\n",
       "      <td>NaN</td>\n",
       "      <td>NaN</td>\n",
       "      <td>NaN</td>\n",
       "      <td>NaN</td>\n",
       "      <td>NaN</td>\n",
       "      <td>NaN</td>\n",
       "      <td>NaN</td>\n",
       "    </tr>\n",
       "    <tr>\n",
       "      <th>2020-07-21</th>\n",
       "      <td>0.009164</td>\n",
       "      <td>0.013311</td>\n",
       "      <td>0.002999</td>\n",
       "      <td>-0.001237</td>\n",
       "      <td>0.001064</td>\n",
       "      <td>0.011945</td>\n",
       "      <td>0.008527</td>\n",
       "      <td>0.010643</td>\n",
       "      <td>0.039884</td>\n",
       "      <td>0.014671</td>\n",
       "    </tr>\n",
       "    <tr>\n",
       "      <th>2020-07-22</th>\n",
       "      <td>0.001787</td>\n",
       "      <td>-0.002980</td>\n",
       "      <td>0.023670</td>\n",
       "      <td>0.006905</td>\n",
       "      <td>-0.002555</td>\n",
       "      <td>0.010658</td>\n",
       "      <td>0.002907</td>\n",
       "      <td>0.006691</td>\n",
       "      <td>-0.013342</td>\n",
       "      <td>0.000000</td>\n",
       "    </tr>\n",
       "  </tbody>\n",
       "</table>\n",
       "</div>"
      ],
      "text/plain": [
       "Symbol          ORCL         T         F       WBA      CSCO       KHC  \\\n",
       "Date                                                                     \n",
       "2020-07-20       NaN       NaN       NaN       NaN       NaN       NaN   \n",
       "2020-07-21  0.009164  0.013311  0.002999 -0.001237  0.001064  0.011945   \n",
       "2020-07-22  0.001787 -0.002980  0.023670  0.006905 -0.002555  0.010658   \n",
       "\n",
       "Symbol            MO       EXC       KMI     CMCSA  \n",
       "Date                                                \n",
       "2020-07-20       NaN       NaN       NaN       NaN  \n",
       "2020-07-21  0.008527  0.010643  0.039884  0.014671  \n",
       "2020-07-22  0.002907  0.006691 -0.013342  0.000000  "
      ]
     },
     "execution_count": 21,
     "metadata": {},
     "output_type": "execute_result"
    }
   ],
   "source": [
    "logChange = logChange[symbols]\n",
    "logChange.head(3)"
   ]
  },
  {
   "cell_type": "markdown",
   "metadata": {},
   "source": [
    "### expected return of each ticker picked"
   ]
  },
  {
   "cell_type": "code",
   "execution_count": 22,
   "metadata": {},
   "outputs": [
    {
     "data": {
      "text/plain": [
       "Symbol\n",
       "ORCL    -0.055320\n",
       "T        0.102222\n",
       "F        0.532584\n",
       "WBA      0.465506\n",
       "CSCO     0.175425\n",
       "KHC      0.667990\n",
       "MO       0.563630\n",
       "EXC      0.284278\n",
       "KMI     -0.224847\n",
       "CMCSA    0.365279\n",
       "dtype: float64"
      ]
     },
     "execution_count": 22,
     "metadata": {},
     "output_type": "execute_result"
    }
   ],
   "source": [
    "logChange.mean()*252   #252 business days per year in general"
   ]
  },
  {
   "cell_type": "markdown",
   "metadata": {},
   "source": [
    "##### covariance across tickers"
   ]
  },
  {
   "cell_type": "code",
   "execution_count": 23,
   "metadata": {},
   "outputs": [
    {
     "data": {
      "text/html": [
       "<div>\n",
       "<style scoped>\n",
       "    .dataframe tbody tr th:only-of-type {\n",
       "        vertical-align: middle;\n",
       "    }\n",
       "\n",
       "    .dataframe tbody tr th {\n",
       "        vertical-align: top;\n",
       "    }\n",
       "\n",
       "    .dataframe thead th {\n",
       "        text-align: right;\n",
       "    }\n",
       "</style>\n",
       "<table border=\"1\" class=\"dataframe\">\n",
       "  <thead>\n",
       "    <tr style=\"text-align: right;\">\n",
       "      <th>Symbol</th>\n",
       "      <th>ORCL</th>\n",
       "      <th>T</th>\n",
       "      <th>F</th>\n",
       "      <th>WBA</th>\n",
       "      <th>CSCO</th>\n",
       "      <th>KHC</th>\n",
       "      <th>MO</th>\n",
       "      <th>EXC</th>\n",
       "      <th>KMI</th>\n",
       "      <th>CMCSA</th>\n",
       "    </tr>\n",
       "    <tr>\n",
       "      <th>Symbol</th>\n",
       "      <th></th>\n",
       "      <th></th>\n",
       "      <th></th>\n",
       "      <th></th>\n",
       "      <th></th>\n",
       "      <th></th>\n",
       "      <th></th>\n",
       "      <th></th>\n",
       "      <th></th>\n",
       "      <th></th>\n",
       "    </tr>\n",
       "  </thead>\n",
       "  <tbody>\n",
       "    <tr>\n",
       "      <th>ORCL</th>\n",
       "      <td>0.008682</td>\n",
       "      <td>0.005163</td>\n",
       "      <td>0.001118</td>\n",
       "      <td>0.007884</td>\n",
       "      <td>0.002129</td>\n",
       "      <td>0.011451</td>\n",
       "      <td>-0.003651</td>\n",
       "      <td>0.007986</td>\n",
       "      <td>0.015390</td>\n",
       "      <td>0.006004</td>\n",
       "    </tr>\n",
       "    <tr>\n",
       "      <th>T</th>\n",
       "      <td>0.005163</td>\n",
       "      <td>0.017711</td>\n",
       "      <td>0.005382</td>\n",
       "      <td>0.008499</td>\n",
       "      <td>-0.003193</td>\n",
       "      <td>0.008358</td>\n",
       "      <td>0.007466</td>\n",
       "      <td>0.021451</td>\n",
       "      <td>0.024735</td>\n",
       "      <td>-0.000924</td>\n",
       "    </tr>\n",
       "    <tr>\n",
       "      <th>F</th>\n",
       "      <td>0.001118</td>\n",
       "      <td>0.005382</td>\n",
       "      <td>0.070873</td>\n",
       "      <td>-0.000989</td>\n",
       "      <td>0.006268</td>\n",
       "      <td>0.025867</td>\n",
       "      <td>0.017698</td>\n",
       "      <td>-0.004287</td>\n",
       "      <td>0.009293</td>\n",
       "      <td>-0.003864</td>\n",
       "    </tr>\n",
       "    <tr>\n",
       "      <th>WBA</th>\n",
       "      <td>0.007884</td>\n",
       "      <td>0.008499</td>\n",
       "      <td>-0.000989</td>\n",
       "      <td>0.028126</td>\n",
       "      <td>-0.015512</td>\n",
       "      <td>0.016797</td>\n",
       "      <td>-0.002071</td>\n",
       "      <td>0.015477</td>\n",
       "      <td>0.006406</td>\n",
       "      <td>0.001381</td>\n",
       "    </tr>\n",
       "    <tr>\n",
       "      <th>CSCO</th>\n",
       "      <td>0.002129</td>\n",
       "      <td>-0.003193</td>\n",
       "      <td>0.006268</td>\n",
       "      <td>-0.015512</td>\n",
       "      <td>0.036234</td>\n",
       "      <td>0.008826</td>\n",
       "      <td>-0.009506</td>\n",
       "      <td>0.009782</td>\n",
       "      <td>0.011811</td>\n",
       "      <td>0.001090</td>\n",
       "    </tr>\n",
       "    <tr>\n",
       "      <th>KHC</th>\n",
       "      <td>0.011451</td>\n",
       "      <td>0.008358</td>\n",
       "      <td>0.025867</td>\n",
       "      <td>0.016797</td>\n",
       "      <td>0.008826</td>\n",
       "      <td>0.040019</td>\n",
       "      <td>0.001611</td>\n",
       "      <td>0.018652</td>\n",
       "      <td>0.024682</td>\n",
       "      <td>0.014226</td>\n",
       "    </tr>\n",
       "    <tr>\n",
       "      <th>MO</th>\n",
       "      <td>-0.003651</td>\n",
       "      <td>0.007466</td>\n",
       "      <td>0.017698</td>\n",
       "      <td>-0.002071</td>\n",
       "      <td>-0.009506</td>\n",
       "      <td>0.001611</td>\n",
       "      <td>0.023591</td>\n",
       "      <td>0.005028</td>\n",
       "      <td>0.001727</td>\n",
       "      <td>0.001011</td>\n",
       "    </tr>\n",
       "    <tr>\n",
       "      <th>EXC</th>\n",
       "      <td>0.007986</td>\n",
       "      <td>0.021451</td>\n",
       "      <td>-0.004287</td>\n",
       "      <td>0.015477</td>\n",
       "      <td>0.009782</td>\n",
       "      <td>0.018652</td>\n",
       "      <td>0.005028</td>\n",
       "      <td>0.062486</td>\n",
       "      <td>0.042245</td>\n",
       "      <td>0.009895</td>\n",
       "    </tr>\n",
       "    <tr>\n",
       "      <th>KMI</th>\n",
       "      <td>0.015390</td>\n",
       "      <td>0.024735</td>\n",
       "      <td>0.009293</td>\n",
       "      <td>0.006406</td>\n",
       "      <td>0.011811</td>\n",
       "      <td>0.024682</td>\n",
       "      <td>0.001727</td>\n",
       "      <td>0.042245</td>\n",
       "      <td>0.103085</td>\n",
       "      <td>0.026902</td>\n",
       "    </tr>\n",
       "    <tr>\n",
       "      <th>CMCSA</th>\n",
       "      <td>0.006004</td>\n",
       "      <td>-0.000924</td>\n",
       "      <td>-0.003864</td>\n",
       "      <td>0.001381</td>\n",
       "      <td>0.001090</td>\n",
       "      <td>0.014226</td>\n",
       "      <td>0.001011</td>\n",
       "      <td>0.009895</td>\n",
       "      <td>0.026902</td>\n",
       "      <td>0.040238</td>\n",
       "    </tr>\n",
       "  </tbody>\n",
       "</table>\n",
       "</div>"
      ],
      "text/plain": [
       "Symbol      ORCL         T         F       WBA      CSCO       KHC        MO  \\\n",
       "Symbol                                                                         \n",
       "ORCL    0.008682  0.005163  0.001118  0.007884  0.002129  0.011451 -0.003651   \n",
       "T       0.005163  0.017711  0.005382  0.008499 -0.003193  0.008358  0.007466   \n",
       "F       0.001118  0.005382  0.070873 -0.000989  0.006268  0.025867  0.017698   \n",
       "WBA     0.007884  0.008499 -0.000989  0.028126 -0.015512  0.016797 -0.002071   \n",
       "CSCO    0.002129 -0.003193  0.006268 -0.015512  0.036234  0.008826 -0.009506   \n",
       "KHC     0.011451  0.008358  0.025867  0.016797  0.008826  0.040019  0.001611   \n",
       "MO     -0.003651  0.007466  0.017698 -0.002071 -0.009506  0.001611  0.023591   \n",
       "EXC     0.007986  0.021451 -0.004287  0.015477  0.009782  0.018652  0.005028   \n",
       "KMI     0.015390  0.024735  0.009293  0.006406  0.011811  0.024682  0.001727   \n",
       "CMCSA   0.006004 -0.000924 -0.003864  0.001381  0.001090  0.014226  0.001011   \n",
       "\n",
       "Symbol       EXC       KMI     CMCSA  \n",
       "Symbol                                \n",
       "ORCL    0.007986  0.015390  0.006004  \n",
       "T       0.021451  0.024735 -0.000924  \n",
       "F      -0.004287  0.009293 -0.003864  \n",
       "WBA     0.015477  0.006406  0.001381  \n",
       "CSCO    0.009782  0.011811  0.001090  \n",
       "KHC     0.018652  0.024682  0.014226  \n",
       "MO      0.005028  0.001727  0.001011  \n",
       "EXC     0.062486  0.042245  0.009895  \n",
       "KMI     0.042245  0.103085  0.026902  \n",
       "CMCSA   0.009895  0.026902  0.040238  "
      ]
     },
     "execution_count": 23,
     "metadata": {},
     "output_type": "execute_result"
    }
   ],
   "source": [
    "logChange.cov()*252"
   ]
  },
  {
   "cell_type": "code",
   "execution_count": 24,
   "metadata": {
    "scrolled": true
   },
   "outputs": [
    {
     "data": {
      "text/plain": [
       "<matplotlib.axes._subplots.AxesSubplot at 0x7fde5ae129d0>"
      ]
     },
     "execution_count": 24,
     "metadata": {},
     "output_type": "execute_result"
    },
    {
     "data": {
      "image/png": "[encoded data removed]",
      "text/plain": [
       "<Figure size 432x288 with 2 Axes>"
      ]
     },
     "metadata": {
      "needs_background": "light"
     },
     "output_type": "display_data"
    }
   ],
   "source": [
    "sns.heatmap(logChange.cov()*252)"
   ]
  },
  {
   "cell_type": "markdown",
   "metadata": {},
   "source": [
    "# Portfolio with randomly assinged weights"
   ]
  },
  {
   "cell_type": "markdown",
   "metadata": {},
   "source": [
    "#### get random portofolio weights to run simulations"
   ]
  },
  {
   "cell_type": "code",
   "execution_count": 25,
   "metadata": {
    "scrolled": true
   },
   "outputs": [
    {
     "data": {
      "text/plain": [
       "array([0.08912692, 0.11614624, 0.09788834, 0.08848864, 0.06880123,\n",
       "       0.10489274, 0.07106385, 0.14482329, 0.15649814, 0.06227063])"
      ]
     },
     "execution_count": 25,
     "metadata": {},
     "output_type": "execute_result"
    }
   ],
   "source": [
    "np.random.seed(0)\n",
    "weights = np.random.random(len(symbols))\n",
    "weights /= np.sum(weights)\n",
    "weights"
   ]
  },
  {
   "cell_type": "code",
   "execution_count": 26,
   "metadata": {
    "scrolled": true
   },
   "outputs": [
    {
     "data": {
      "text/plain": [
       "0.251186452537646"
      ]
     },
     "execution_count": 26,
     "metadata": {},
     "output_type": "execute_result"
    }
   ],
   "source": [
    "#expeced annual return of portfolio\n",
    "np.sum(logChange.mean()*weights)*252"
   ]
  },
  {
   "cell_type": "code",
   "execution_count": 27,
   "metadata": {},
   "outputs": [
    {
     "data": {
      "text/plain": [
       "0.015752249976907915"
      ]
     },
     "execution_count": 27,
     "metadata": {},
     "output_type": "execute_result"
    }
   ],
   "source": [
    "#expected annual variance of portfolio\n",
    "np.dot(weights.T, np.dot(logChange.cov() * 252, weights))"
   ]
  },
  {
   "cell_type": "code",
   "execution_count": 28,
   "metadata": {},
   "outputs": [
    {
     "data": {
      "text/plain": [
       "0.12550796778255918"
      ]
     },
     "execution_count": 28,
     "metadata": {},
     "output_type": "execute_result"
    }
   ],
   "source": [
    "#expected annual standard deviation of portfolio (volatility)\n",
    "np.sqrt(np.dot(weights.T, np.dot(logChange.cov() * 252, weights)))"
   ]
  },
  {
   "cell_type": "markdown",
   "metadata": {},
   "source": [
    "# Simulation of portfolios with random weights"
   ]
  },
  {
   "cell_type": "code",
   "execution_count": 29,
   "metadata": {},
   "outputs": [],
   "source": [
    "prets = []  #stores list of portfolio returns\n",
    "pvols = []  #stores list of portolfio volatilities\n",
    "\n",
    "for p in range (5000):\n",
    "    weights = np.random.random(len(symbols))\n",
    "    weights /= np.sum(weights)\n",
    "    prets.append(np.sum(logChange.mean() * weights) * 252)\n",
    "    pvols.append(np.sqrt(np.dot(weights.T, \n",
    "                        np.dot(logChange.cov() * 252, weights))))\n",
    "prets = np.array(prets)\n",
    "pvols = np.array(pvols)"
   ]
  },
  {
   "cell_type": "code",
   "execution_count": 30,
   "metadata": {
    "scrolled": true
   },
   "outputs": [
    {
     "data": {
      "image/png": "[encoded data removed]",
      "text/plain": [
       "<Figure size 432x288 with 2 Axes>"
      ]
     },
     "metadata": {
      "needs_background": "light"
     },
     "output_type": "display_data"
    }
   ],
   "source": [
    "\n",
    "plt.scatter(pvols, prets, c=prets/pvols, marker='o', cmap='coolwarm') # mpl.cm.jet)\n",
    "\n",
    "plt.grid(True)\n",
    "plt.xlabel('expected volatility')\n",
    "plt.ylabel('expected return')\n",
    "plt.colorbar(label='Sharpe ratio') #beta\n",
    "plt.show()"
   ]
  },
  {
   "cell_type": "code",
   "execution_count": 31,
   "metadata": {},
   "outputs": [],
   "source": [
    "def statistics(weights):\n",
    "    ''' Return portfolio statistics.\n",
    "    \n",
    "    Parameters\n",
    "    ==========\n",
    "    weights : array-like\n",
    "    \n",
    "    Returns\n",
    "    =======\n",
    "    pret : float  (portfolio return)\n",
    "    pvol : float   (portfoliio volatility)\n",
    "    pret / pvol : float      #sharp ratio (beta)\n",
    "\n",
    "    '''\n",
    "    riskfree = .0019   #risk free rate .19% (1 Year Treasury Rate is at 0.19%)\n",
    "    weights = np.array(weights)\n",
    "    pret = np.sum(logChange.mean() * weights) * 252\n",
    "    pvol = np.sqrt(np.dot(weights.T, np.dot(logChange.cov() * 252, weights)))\n",
    "    return np.array([pret, pvol, ((pret-riskfree )/ pvol)])"
   ]
  },
  {
   "cell_type": "markdown",
   "metadata": {},
   "source": [
    "### Sharp ratio optimization"
   ]
  },
  {
   "cell_type": "code",
   "execution_count": 32,
   "metadata": {},
   "outputs": [],
   "source": [
    "def min_func_sharpe(weights):\n",
    "    return -statistics(weights)[2]"
   ]
  },
  {
   "cell_type": "code",
   "execution_count": 33,
   "metadata": {},
   "outputs": [
    {
     "data": {
      "text/plain": [
       "{'type': 'eq', 'fun': <function __main__.<lambda>(x)>}"
      ]
     },
     "execution_count": 33,
     "metadata": {},
     "output_type": "execute_result"
    }
   ],
   "source": [
    "cons = ({'type': 'eq', 'fun': lambda x:  np.sum(x) - 1})\n",
    "cons"
   ]
  },
  {
   "cell_type": "code",
   "execution_count": 34,
   "metadata": {},
   "outputs": [
    {
     "data": {
      "text/plain": [
       "array([0.28767464, 0.10781599, 2.65057742])"
      ]
     },
     "execution_count": 34,
     "metadata": {},
     "output_type": "execute_result"
    }
   ],
   "source": [
    "#return, volatility, and sharp ratio when portfolio is weighted equally\n",
    "w = len(symbols)*[1. /len(symbols),]\n",
    "statistics(w)"
   ]
  },
  {
   "cell_type": "code",
   "execution_count": 35,
   "metadata": {
    "scrolled": true
   },
   "outputs": [
    {
     "data": {
      "text/plain": [
       "((0, 1),\n",
       " (0, 1),\n",
       " (0, 1),\n",
       " (0, 1),\n",
       " (0, 1),\n",
       " (0, 1),\n",
       " (0, 1),\n",
       " (0, 1),\n",
       " (0, 1),\n",
       " (0, 1))"
      ]
     },
     "execution_count": 35,
     "metadata": {},
     "output_type": "execute_result"
    }
   ],
   "source": [
    "bnds = tuple((0, 1) for x in range(len(symbols)))\n",
    "bnds"
   ]
  },
  {
   "cell_type": "code",
   "execution_count": 36,
   "metadata": {
    "scrolled": true
   },
   "outputs": [
    {
     "data": {
      "text/plain": [
       "[0.1, 0.1, 0.1, 0.1, 0.1, 0.1, 0.1, 0.1, 0.1, 0.1]"
      ]
     },
     "execution_count": 36,
     "metadata": {},
     "output_type": "execute_result"
    }
   ],
   "source": [
    "#set initial point\n",
    "len(symbols)* [1./len(symbols),]"
   ]
  },
  {
   "cell_type": "markdown",
   "metadata": {},
   "source": [
    "#### Minimize a scalar function of one or more variables using Sequential Least Squares Programming (SLSQP)."
   ]
  },
  {
   "cell_type": "markdown",
   "metadata": {},
   "source": [
    "#### scipy.optimize.minimize(fun, x0, args=(), method=None, jac=None, hess=None, hessp=None, bounds=None, constraints=(), tol=None, callback=None, options=None)"
   ]
  },
  {
   "cell_type": "code",
   "execution_count": 37,
   "metadata": {
    "scrolled": true
   },
   "outputs": [
    {
     "name": "stdout",
     "output_type": "stream",
     "text": [
      "CPU times: user 149 ms, sys: 2.79 ms, total: 152 ms\n",
      "Wall time: 150 ms\n"
     ]
    }
   ],
   "source": [
    "%%time\n",
    "\n",
    "opts = sco.minimize(min_func_sharpe, len(symbols)* [1. / len(symbols),], method='SLSQP',\n",
    "                       bounds=bnds, constraints=cons)\n"
   ]
  },
  {
   "cell_type": "code",
   "execution_count": 38,
   "metadata": {
    "scrolled": true
   },
   "outputs": [
    {
     "data": {
      "text/plain": [
       "     fun: -6.7590089360271834\n",
       "     jac: array([ 4.81096631,  6.34581685,  4.62907171, -0.0311029 , -0.03109038,\n",
       "        5.6052739 , -0.03097939, 13.31313574, 16.93226445, -0.03079879])\n",
       " message: 'Optimization terminated successfully.'\n",
       "    nfev: 161\n",
       "     nit: 13\n",
       "    njev: 13\n",
       "  status: 0\n",
       " success: True\n",
       "       x: array([0.00000000e+00, 0.00000000e+00, 0.00000000e+00, 3.22410455e-01,\n",
       "       2.71888684e-01, 1.18666395e-11, 3.51173048e-01, 2.35577801e-12,\n",
       "       2.38740891e-12, 5.45278123e-02])"
      ]
     },
     "execution_count": 38,
     "metadata": {},
     "output_type": "execute_result"
    }
   ],
   "source": [
    "opts"
   ]
  },
  {
   "cell_type": "code",
   "execution_count": 39,
   "metadata": {
    "scrolled": false
   },
   "outputs": [
    {
     "name": "stdout",
     "output_type": "stream",
     "text": [
      "exp return :0.416\n",
      "exp volatility :0.061\n",
      "exp sharp ratio :6.759\n"
     ]
    }
   ],
   "source": [
    "a=opts['x'].round(3)   #opt weights\n",
    "#print(\"exp return :\" + str( np.sum(logChange.mean()*a)*252  )  ).round(3)   #1yr exp return of portfolio with opt weights \n",
    "print(\"exp return :\" + str( statistics(opts['x'].round(3))[0].round(3) ) )\n",
    "print(\"exp volatility :\" + str( statistics(opts['x'].round(3))[1].round(3) )  )\n",
    "print(\"exp sharp ratio :\" + str( statistics(opts['x'].round(3))[2].round(3) )  )"
   ]
  },
  {
   "cell_type": "code",
   "execution_count": 40,
   "metadata": {
    "scrolled": true
   },
   "outputs": [
    {
     "data": {
      "image/png": "[encoded data removed]",
      "text/plain": [
       "<Figure size 432x288 with 2 Axes>"
      ]
     },
     "metadata": {
      "needs_background": "light"
     },
     "output_type": "display_data"
    }
   ],
   "source": [
    "plt.scatter(pvols, prets, c=prets/pvols, marker='o', cmap='RdYlBu')\n",
    "plt.grid(True)\n",
    "plt.xlabel('expected volatility')\n",
    "plt.ylabel('expected return')\n",
    "plt.colorbar(label='Sharpe ratio')\n",
    "\n",
    "#highest sharp ratio\n",
    "pt_opts = statistics(opts['x']).round(3)\n",
    "plt.scatter(pt_opts[1], pt_opts[0], marker=\"*\", s=500, alpha=0.5, color='b')\n",
    "\n",
    "\n",
    "#return, volatility, and sharp ratio when portfolio is weighted equally\n",
    "w = len(symbols)*[1. /len(symbols),]\n",
    "plt.scatter(statistics(w)[1], statistics(w)[0], marker=\"*\", s= 500, alpha=0.5, color='g')\n",
    "\n",
    "\n",
    "# add a red dot for maximum vol & maximum return\n",
    "plt.scatter(pvols.max(), prets.max(), c='black', s=500, alpha=0.5, edgecolors='black')\n",
    "\n",
    "\n",
    "\n",
    "plt.show()"
   ]
  },
  {
   "cell_type": "markdown",
   "metadata": {},
   "source": [
    "### Volatility Optimization"
   ]
  },
  {
   "cell_type": "code",
   "execution_count": 41,
   "metadata": {},
   "outputs": [],
   "source": [
    "def min_func_variance(weights):\n",
    "    return statistics(weights)[1] ** 2"
   ]
  },
  {
   "cell_type": "code",
   "execution_count": 42,
   "metadata": {},
   "outputs": [],
   "source": [
    "optv = sco.minimize(min_func_variance,  len(symbols) * [1. / len(symbols),], method='SLSQP',\n",
    "                       bounds=bnds, constraints=cons)"
   ]
  },
  {
   "cell_type": "code",
   "execution_count": 43,
   "metadata": {
    "scrolled": true
   },
   "outputs": [
    {
     "data": {
      "text/plain": [
       "     fun: 0.0033148148195430416\n",
       "     jac: array([0.00641366, 0.00859447, 0.01322269, 0.00679661, 0.00671447,\n",
       "       0.01838296, 0.00658333, 0.01854906, 0.01779616, 0.00666749])\n",
       " message: 'Optimization terminated successfully.'\n",
       "    nfev: 168\n",
       "     nit: 14\n",
       "    njev: 14\n",
       "  status: 0\n",
       " success: True\n",
       "       x: array([0.21055891, 0.        , 0.        , 0.219378  , 0.24956333,\n",
       "       0.        , 0.29066586, 0.        , 0.        , 0.0298339 ])"
      ]
     },
     "execution_count": 43,
     "metadata": {},
     "output_type": "execute_result"
    }
   ],
   "source": [
    "optv"
   ]
  },
  {
   "cell_type": "code",
   "execution_count": 44,
   "metadata": {},
   "outputs": [
    {
     "data": {
      "image/png": "[encoded data removed]",
      "text/plain": [
       "<Figure size 432x288 with 2 Axes>"
      ]
     },
     "metadata": {
      "needs_background": "light"
     },
     "output_type": "display_data"
    }
   ],
   "source": [
    "plt.scatter(pvols, prets, c=prets/pvols, marker='o', cmap='RdYlBu')\n",
    "plt.grid(True)\n",
    "plt.xlabel('expected volatility')\n",
    "plt.ylabel('expected return')\n",
    "plt.colorbar(label='Sharpe ratio')\n",
    "\n",
    "#highest sharp ratio\n",
    "pt_opts = statistics(opts['x']).round(3)\n",
    "plt.scatter(pt_opts[1], pt_opts[0], marker=\"*\", s=500, alpha=0.5, color='b')\n",
    "\n",
    "\n",
    "# Optimal (minimum) volatility\n",
    "pt_optv = statistics(optv['x']).round(3)\n",
    "plt.plot(pt_optv[1], pt_optv[0], marker=\"*\", markersize=20, alpha=0.5, color='r')\n",
    "#plt.plot(statistics(optv['x'])[1], statistics(optv['x'])[0], 'y*', markersize=20, color='r')\n",
    "           \n",
    "    \n",
    "plt.show()"
   ]
  },
  {
   "cell_type": "markdown",
   "metadata": {},
   "source": [
    "# Efficient Frontier"
   ]
  },
  {
   "cell_type": "markdown",
   "metadata": {},
   "source": [
    "## Minimum variance frontier"
   ]
  },
  {
   "cell_type": "code",
   "execution_count": 45,
   "metadata": {},
   "outputs": [],
   "source": [
    "cons = ({'type': 'eq', 'fun': lambda x:  statistics(x)[0] - tret},\n",
    "        {'type': 'eq', 'fun': lambda x:  np.sum(x) - 1})\n",
    "bnds = tuple((0, 1) for x in weights)"
   ]
  },
  {
   "cell_type": "code",
   "execution_count": 46,
   "metadata": {},
   "outputs": [],
   "source": [
    "def min_func_port(weights):\n",
    "    return statistics(weights)[1]"
   ]
  },
  {
   "cell_type": "code",
   "execution_count": 47,
   "metadata": {},
   "outputs": [
    {
     "data": {
      "text/plain": [
       "(0.08476465172226266, 0.4719539385489902, 0.416)"
      ]
     },
     "execution_count": 47,
     "metadata": {},
     "output_type": "execute_result"
    }
   ],
   "source": [
    "prets.min(), prets.max(), pt_opts[0]"
   ]
  },
  {
   "cell_type": "code",
   "execution_count": 48,
   "metadata": {},
   "outputs": [
    {
     "name": "stdout",
     "output_type": "stream",
     "text": [
      "CPU times: user 9.38 s, sys: 34.4 ms, total: 9.41 s\n",
      "Wall time: 9.44 s\n"
     ]
    }
   ],
   "source": [
    "%%time\n",
    "\n",
    "\n",
    "trets = np.linspace( prets.min() , max(prets.max(), pt_opts[0].max()), 50)\n",
    "tvols = []\n",
    "for tret in trets:       #getting weight where minimum volatility occurs for each returned value\n",
    "    cons = ({'type': 'eq', 'fun': lambda x:  statistics(x)[0] - tret},\n",
    "            {'type': 'eq', 'fun': lambda x:  np.sum(x) - 1})\n",
    "    res = sco.minimize(min_func_port, len(symbols)* [1. / len(symbols),], method='SLSQP',\n",
    "                       bounds=bnds, constraints=cons)\n",
    "    tvols.append(res['fun'])\n",
    "tvols = np.array(tvols)"
   ]
  },
  {
   "cell_type": "code",
   "execution_count": 49,
   "metadata": {},
   "outputs": [
    {
     "data": {
      "text/plain": [
       "array([0.06744196, 0.06653994, 0.06571338, 0.064964  , 0.06429568,\n",
       "       0.06370529, 0.06314875, 0.06261606, 0.06210757, 0.06162412,\n",
       "       0.06116682, 0.06073485, 0.06032983, 0.05995238, 0.05960299,\n",
       "       0.05928184, 0.05898909, 0.05872536, 0.05848793, 0.05827616,\n",
       "       0.05809024, 0.05792965, 0.0577958 , 0.05768837, 0.05760752,\n",
       "       0.05755335, 0.05752595, 0.05752534, 0.05755152, 0.05760443,\n",
       "       0.05768399, 0.05779044, 0.05792277, 0.0580816 , 0.05826648,\n",
       "       0.05847734, 0.05871366, 0.05897516, 0.05926148, 0.05957224,\n",
       "       0.05990652, 0.06038655, 0.06136536, 0.06284309, 0.06478598,\n",
       "       0.06707979, 0.06945021, 0.07187075, 0.07433625, 0.07684239])"
      ]
     },
     "execution_count": 49,
     "metadata": {},
     "output_type": "execute_result"
    }
   ],
   "source": [
    "tvols"
   ]
  },
  {
   "cell_type": "code",
   "execution_count": 50,
   "metadata": {},
   "outputs": [
    {
     "data": {
      "image/png": "[encoded data removed]",
      "text/plain": [
       "<Figure size 432x288 with 2 Axes>"
      ]
     },
     "metadata": {
      "needs_background": "light"
     },
     "output_type": "display_data"
    }
   ],
   "source": [
    "# rangdomly weighted sample portfolio simulations\n",
    "plt.scatter(pvols, prets, c=prets / pvols, marker='o', cmap='RdYlBu')\n",
    "\n",
    "\n",
    "# Minimum variance frontier\n",
    "plt.scatter(tvols, trets, c=trets / tvols, marker='x', s=70, linewidth=2, cmap='plasma')\n",
    "            \n",
    "    \n",
    "#highest sharp ratio\n",
    "pt_opts = statistics(opts['x']).round(3)\n",
    "plt.scatter(pt_opts[1], pt_opts[0], marker=\"*\", s=500, alpha=0.5, color='b')\n",
    "\n",
    "\n",
    "# Optimal (minimum) volatility\n",
    "pt_optv = statistics(optv['x']).round(3)\n",
    "plt.plot(pt_optv[1], pt_optv[0], marker=\"*\", markersize=20, alpha=0.5, color='r')\n",
    "#plt.plot(statistics(optv['x'])[1], statistics(optv['x'])[0], 'y*', markersize=20, color='r')\n",
    "\n",
    " \n",
    "plt.grid(True)\n",
    "plt.xlabel('expected volatility')\n",
    "plt.ylabel('expected return')\n",
    "plt.colorbar(label='Sharpe ratio')\n",
    "plt.show()"
   ]
  },
  {
   "cell_type": "markdown",
   "metadata": {},
   "source": [
    "## Efficient frontier"
   ]
  },
  {
   "cell_type": "code",
   "execution_count": 51,
   "metadata": {},
   "outputs": [],
   "source": [
    "import scipy.interpolate as sci"
   ]
  },
  {
   "cell_type": "code",
   "execution_count": 52,
   "metadata": {},
   "outputs": [
    {
     "data": {
      "text/plain": [
       "27"
      ]
     },
     "execution_count": 52,
     "metadata": {},
     "output_type": "execute_result"
    }
   ],
   "source": [
    "np.argmin(tvols) #find index of minimum value of volatility \n"
   ]
  },
  {
   "cell_type": "code",
   "execution_count": 53,
   "metadata": {},
   "outputs": [],
   "source": [
    "ind = np.argmin(tvols)\n",
    "evols = tvols[ind:]    #include array only up to the index of minimum volatility\n",
    "erets = trets[ind:]\n"
   ]
  },
  {
   "cell_type": "code",
   "execution_count": 54,
   "metadata": {
    "scrolled": true
   },
   "outputs": [],
   "source": [
    "tck = sci.splrep(evols, erets)"
   ]
  },
  {
   "cell_type": "code",
   "execution_count": 55,
   "metadata": {},
   "outputs": [
    {
     "data": {
      "text/plain": [
       "array(-2716354.92965154)"
      ]
     },
     "execution_count": 55,
     "metadata": {},
     "output_type": "execute_result"
    }
   ],
   "source": [
    "def f(x):\n",
    "    ''' efficient frontier (spline) '''\n",
    "    return sci.splev(x, tck, der=0)\n",
    "\n",
    "def df(x):\n",
    "    ''' efficient frontier (first derivative)'''\n",
    "    return sci.splev(x, tck, der=1)\n",
    "f(0)"
   ]
  },
  {
   "cell_type": "code",
   "execution_count": 56,
   "metadata": {
    "scrolled": true
   },
   "outputs": [
    {
     "data": {
      "image/png": "[encoded data removed]",
      "text/plain": [
       "<Figure size 432x288 with 2 Axes>"
      ]
     },
     "metadata": {
      "needs_background": "light"
     },
     "output_type": "display_data"
    }
   ],
   "source": [
    "# rangdomly weighted sample portfolio simulations\n",
    "plt.scatter(pvols, prets, c=prets / pvols, marker='o', cmap='RdYlBu')\n",
    "\n",
    "\n",
    "# Efficient frontier\n",
    "plt.plot(evols, f(evols), lw=8, alpha=0.4, color='green')  \n",
    "\n",
    "# Minimum variance frontier\n",
    "plt.scatter(tvols, trets, c=trets / tvols, marker='x', s=70, linewidth=2, cmap='plasma')\n",
    "            \n",
    "#highest sharp ratio\n",
    "pt_opts = statistics(opts['x']).round(3)\n",
    "plt.scatter(pt_opts[1], pt_opts[0], marker=\"*\", s=500, alpha=0.5, color='b')\n",
    "\n",
    "# Optimal (minimum) volatility\n",
    "pt_optv = statistics(optv['x']).round(3)\n",
    "plt.plot(pt_optv[1], pt_optv[0], marker=\"*\", markersize=20, alpha=0.5, color='r')\n",
    "#plt.plot(statistics(optv['x'])[1], statistics(optv['x'])[0], 'y*', markersize=20, color='r')\n",
    " \n",
    "\n",
    "plt.grid(True)\n",
    "plt.xlabel('expected volatility')\n",
    "plt.ylabel('expected return')\n",
    "plt.colorbar(label='Sharpe ratio')\n",
    "plt.show()"
   ]
  },
  {
   "cell_type": "markdown",
   "metadata": {},
   "source": [
    "## Capital market line (CML)"
   ]
  },
  {
   "cell_type": "code",
   "execution_count": 57,
   "metadata": {},
   "outputs": [
    {
     "data": {
      "text/plain": [
       "0.0019"
      ]
     },
     "execution_count": 57,
     "metadata": {},
     "output_type": "execute_result"
    }
   ],
   "source": [
    "riskfree"
   ]
  },
  {
   "cell_type": "code",
   "execution_count": 58,
   "metadata": {},
   "outputs": [],
   "source": [
    "def equations(p, rf=riskfree):\n",
    "    eq1 = rf-p[0]\n",
    "    eq2 = rf + p[1] * p[2] - f(p[2])\n",
    "    eq3 = p[1] - df(p[2])\n",
    "    return eq1, eq2, eq3"
   ]
  },
  {
   "cell_type": "code",
   "execution_count": 59,
   "metadata": {},
   "outputs": [
    {
     "data": {
      "text/plain": [
       "(0.07841159208385894, 0.2359769692744951)"
      ]
     },
     "execution_count": 59,
     "metadata": {},
     "output_type": "execute_result"
    }
   ],
   "source": [
    "pvols.max()/2, prets.max()/2\n"
   ]
  },
  {
   "cell_type": "code",
   "execution_count": 60,
   "metadata": {},
   "outputs": [
    {
     "data": {
      "text/plain": [
       "array([1.90000000e-03, 4.54441926e+00, 1.73349571e-01])"
      ]
     },
     "execution_count": 60,
     "metadata": {},
     "output_type": "execute_result"
    }
   ],
   "source": [
    "opt = sco.fsolve(equations,[ riskfree, pvols.max()/2, prets.max()/2])\n",
    "opt"
   ]
  },
  {
   "cell_type": "code",
   "execution_count": 61,
   "metadata": {},
   "outputs": [
    {
     "data": {
      "text/plain": [
       "array([ 0., -0.,  0.])"
      ]
     },
     "execution_count": 61,
     "metadata": {},
     "output_type": "execute_result"
    }
   ],
   "source": [
    "np.round(equations(opt), 8)"
   ]
  },
  {
   "cell_type": "code",
   "execution_count": 62,
   "metadata": {},
   "outputs": [
    {
     "data": {
      "image/png": "[encoded data removed]",
      "text/plain": [
       "<Figure size 432x288 with 2 Axes>"
      ]
     },
     "metadata": {
      "needs_background": "light"
     },
     "output_type": "display_data"
    }
   ],
   "source": [
    "# rangdomly weighted sample portfolio simulations\n",
    "plt.scatter(pvols, prets, c=prets / pvols, marker='o', cmap='RdYlBu')\n",
    "\n",
    "\n",
    "# Efficient frontier\n",
    "plt.plot(evols, f(evols), lw=8, alpha=0.4, color='green')  \n",
    "\n",
    "# Minimum variance frontier\n",
    "plt.scatter(tvols, trets, c=trets / tvols, marker='x', s=70, linewidth=2, cmap='plasma')\n",
    "            \n",
    "#highest sharp ratio\n",
    "pt_opts = statistics(opts['x']).round(3)\n",
    "plt.scatter(pt_opts[1], pt_opts[0], marker=\"*\", s=500, alpha=0.5, color='b')\n",
    "\n",
    "# Optimal (minimum) volatility\n",
    "pt_optv = statistics(optv['x']).round(3)\n",
    "plt.plot(pt_optv[1], pt_optv[0], marker=\"*\", markersize=20, alpha=0.5, color='r')\n",
    "#plt.plot(statistics(optv['x'])[1], statistics(optv['x'])[0], 'y*', markersize=20, color='r')\n",
    " \n",
    "\n",
    "\n",
    " \n",
    "#Capital market line\n",
    "cx = np.linspace(riskfree, 0.3 )   # (0.0, 0.3)\n",
    "plt.plot(cx, opt[0] + opt[1] * cx, lw=3, alpha=0.2, ) \n",
    "    \n",
    "    \n",
    "#optimal portfolio  \n",
    "plt.plot(opt[2], f(opt[2]), 'r*', markersize=25.0, color='black') \n",
    "\n",
    "\n",
    "plt.grid(True)\n",
    "plt.axhline(0.0, color='k', ls='--', lw=2.0)\n",
    "plt.axvline(0.0, color='k', ls='--', lw=2.0)\n",
    "plt.xlabel('expected volatility')\n",
    "plt.ylabel('expected return')\n",
    "plt.colorbar(label='Sharpe ratio')\n",
    "plt.show()"
   ]
  },
  {
   "cell_type": "markdown",
   "metadata": {},
   "source": [
    "#### Optimal portfolio weights"
   ]
  },
  {
   "cell_type": "code",
   "execution_count": 63,
   "metadata": {},
   "outputs": [
    {
     "data": {
      "text/plain": [
       "['ORCL', 'T', 'F', 'WBA', 'CSCO', 'KHC', 'MO', 'EXC', 'KMI', 'CMCSA']"
      ]
     },
     "execution_count": 63,
     "metadata": {},
     "output_type": "execute_result"
    }
   ],
   "source": [
    "symbols"
   ]
  },
  {
   "cell_type": "code",
   "execution_count": 64,
   "metadata": {},
   "outputs": [
    {
     "data": {
      "text/plain": [
       "array([0., 0., 0., 0., 0., 1., 0., 0., 0., 0.])"
      ]
     },
     "execution_count": 64,
     "metadata": {},
     "output_type": "execute_result"
    }
   ],
   "source": [
    "cons = ({'type': 'eq', 'fun': lambda x:  statistics(x)[0] - f(opt[2])},\n",
    "        {'type': 'eq', 'fun': lambda x:  np.sum(x) - 1})\n",
    "res = sco.minimize(min_func_port, len(symbols) * [1. / len(symbols),], method='SLSQP',\n",
    "                       bounds=bnds, constraints=cons)\n",
    "res['x'].round(3)"
   ]
  },
  {
   "cell_type": "code",
   "execution_count": 65,
   "metadata": {},
   "outputs": [
    {
     "data": {
      "text/plain": [
       "array([0.66799027, 0.20004853, 3.32964338])"
      ]
     },
     "execution_count": 65,
     "metadata": {},
     "output_type": "execute_result"
    }
   ],
   "source": [
    "statistics(res['x'].round(3))"
   ]
  },
  {
   "cell_type": "markdown",
   "metadata": {},
   "source": [
    "#### return, volatility, and sharp ratio expected with the optimal weights"
   ]
  },
  {
   "cell_type": "code",
   "execution_count": 66,
   "metadata": {},
   "outputs": [
    {
     "data": {
      "text/plain": [
       "[('ORCL', 0.0),\n",
       " ('T', 0.0),\n",
       " ('F', 0.0),\n",
       " ('WBA', 0.0),\n",
       " ('CSCO', 0.0),\n",
       " ('KHC', 1.0),\n",
       " ('MO', 0.0),\n",
       " ('EXC', 0.0),\n",
       " ('KMI', 0.0),\n",
       " ('CMCSA', 0.0)]"
      ]
     },
     "execution_count": 66,
     "metadata": {},
     "output_type": "execute_result"
    }
   ],
   "source": [
    "portfolio = list(zip(symbols, res['x'].round(3)))\n",
    "portfolio"
   ]
  },
  {
   "cell_type": "code",
   "execution_count": 67,
   "metadata": {},
   "outputs": [],
   "source": [
    "def format_column_number(dataframe, listCols):\n",
    "    for col in listCols:\n",
    "        try:\n",
    "            dataframe[col]= pd.Series([round(val, 2 ) for val in dataframe[col]], index= dataframe.index)\n",
    "        except ValueError:  #skips error when the column is in format already\n",
    "            dataframe[col] = dataframe[col]\n",
    "            pass\n",
    "    return dataframe\n",
    "\n",
    "def format_column_percentage(dataframe, listCols):\n",
    "    for col in listCols:\n",
    "        try:\n",
    "            dataframe[col] = pd.Series([\"{0:.2f}%\".format(val*100) for val in dataframe[col]], index= dataframe.index)\n",
    "        except ValueError:  #skips error when the column is in format already\n",
    "            dataframe[col] = dataframe[col]\n",
    "        \n",
    "    return dataframe"
   ]
  },
  {
   "cell_type": "code",
   "execution_count": 68,
   "metadata": {},
   "outputs": [
    {
     "data": {
      "text/html": [
       "<div>\n",
       "<style scoped>\n",
       "    .dataframe tbody tr th:only-of-type {\n",
       "        vertical-align: middle;\n",
       "    }\n",
       "\n",
       "    .dataframe tbody tr th {\n",
       "        vertical-align: top;\n",
       "    }\n",
       "\n",
       "    .dataframe thead th {\n",
       "        text-align: right;\n",
       "    }\n",
       "</style>\n",
       "<table border=\"1\" class=\"dataframe\">\n",
       "  <thead>\n",
       "    <tr style=\"text-align: right;\">\n",
       "      <th></th>\n",
       "      <th>Exp return</th>\n",
       "      <th>Weight</th>\n",
       "    </tr>\n",
       "    <tr>\n",
       "      <th>Symbol</th>\n",
       "      <th></th>\n",
       "      <th></th>\n",
       "    </tr>\n",
       "  </thead>\n",
       "  <tbody>\n",
       "    <tr>\n",
       "      <th>CMCSA</th>\n",
       "      <td>0.00%</td>\n",
       "      <td>0.00%</td>\n",
       "    </tr>\n",
       "    <tr>\n",
       "      <th>CSCO</th>\n",
       "      <td>0.00%</td>\n",
       "      <td>0.00%</td>\n",
       "    </tr>\n",
       "    <tr>\n",
       "      <th>EXC</th>\n",
       "      <td>0.00%</td>\n",
       "      <td>0.00%</td>\n",
       "    </tr>\n",
       "    <tr>\n",
       "      <th>F</th>\n",
       "      <td>0.00%</td>\n",
       "      <td>0.00%</td>\n",
       "    </tr>\n",
       "    <tr>\n",
       "      <th>KHC</th>\n",
       "      <td>66.80%</td>\n",
       "      <td>100.00%</td>\n",
       "    </tr>\n",
       "    <tr>\n",
       "      <th>KMI</th>\n",
       "      <td>0.00%</td>\n",
       "      <td>0.00%</td>\n",
       "    </tr>\n",
       "    <tr>\n",
       "      <th>MO</th>\n",
       "      <td>0.00%</td>\n",
       "      <td>0.00%</td>\n",
       "    </tr>\n",
       "    <tr>\n",
       "      <th>ORCL</th>\n",
       "      <td>0.00%</td>\n",
       "      <td>0.00%</td>\n",
       "    </tr>\n",
       "    <tr>\n",
       "      <th>T</th>\n",
       "      <td>0.00%</td>\n",
       "      <td>0.00%</td>\n",
       "    </tr>\n",
       "    <tr>\n",
       "      <th>WBA</th>\n",
       "      <td>0.00%</td>\n",
       "      <td>0.00%</td>\n",
       "    </tr>\n",
       "    <tr>\n",
       "      <th>All</th>\n",
       "      <td>66.80%</td>\n",
       "      <td>100.00%</td>\n",
       "    </tr>\n",
       "  </tbody>\n",
       "</table>\n",
       "</div>"
      ],
      "text/plain": [
       "       Exp return   Weight\n",
       "Symbol                    \n",
       "CMCSA       0.00%    0.00%\n",
       "CSCO        0.00%    0.00%\n",
       "EXC         0.00%    0.00%\n",
       "F           0.00%    0.00%\n",
       "KHC        66.80%  100.00%\n",
       "KMI         0.00%    0.00%\n",
       "MO          0.00%    0.00%\n",
       "ORCL        0.00%    0.00%\n",
       "T           0.00%    0.00%\n",
       "WBA         0.00%    0.00%\n",
       "All        66.80%  100.00%"
      ]
     },
     "execution_count": 68,
     "metadata": {},
     "output_type": "execute_result"
    }
   ],
   "source": [
    "summary_output = pd.DataFrame({'Symbol': symbols})\n",
    "summary_output['Weight'] = res['x'].round(3)\n",
    "\n",
    "summary_output = pd.merge(summary_output , (logChange.mean()*252).reset_index(name='temp'))\n",
    "\n",
    "summary_output['Exp return'] = summary_output['Weight']*summary_output['temp']\n",
    "\n",
    "summary_output = summary_output.pivot_table(index='Symbol', values=['Weight', 'Exp return']  , aggfunc=np.sum, margins=True)\n",
    "\n",
    "\n",
    "format_column_percentage(summary_output, ['Exp return', 'Weight'])\n",
    "summary_output"
   ]
  },
  {
   "cell_type": "code",
   "execution_count": 69,
   "metadata": {},
   "outputs": [],
   "source": [
    "today = dt.datetime.today().strftime('%Y-%m-%d')\n",
    "pdf_file_name = \"Report \"+ today +\".pdf\""
   ]
  },
  {
   "cell_type": "code",
   "execution_count": 70,
   "metadata": {},
   "outputs": [],
   "source": [
    "def PrepareTableForReportLab(dataframe):\n",
    "    \n",
    "    data = dataframe\n",
    "\n",
    "    'handling grouped first index column'\n",
    "    a= []\n",
    "    for i in range(len(data)):\n",
    "        #print(i, data.index.get_level_values(0)[i])\n",
    "        if data.index.get_level_values(0)[i-1] == data.index.get_level_values(0)[i]:\n",
    "            a.append(i)\n",
    "    a.sort(reverse=True)\n",
    "\n",
    "    as_list = data.index.get_level_values(0).tolist()\n",
    "    for i in a:\n",
    "        as_list[i] = \"\"\n",
    "\n",
    "        \n",
    "    'flat dataframe'\n",
    "    data = data.reset_index()\n",
    "    'remove duplicated values from first column which was index before resetting index'\n",
    "    first_col_name = data.columns[0]\n",
    "    data[first_col_name] = as_list \n",
    "    \n",
    "    #data = dataframe.reset_index()\n",
    "    #colwidths = 800/len(data.columns) \n",
    "    data = [data.columns.to_list()] + data.values.tolist() \n",
    "\n",
    "    #tbl = Table(data) # \n",
    "    tbl = Table(data) #, colwidths ) #, rowheights)\n",
    "    tbl.setStyle(TableStyle([\n",
    "    ('INNERGRID', (0, 0), (-1, -1), 0.25, colors.black),\n",
    "    ('BOX', (0, 0), (-1, -1), 0.25, colors.black),\n",
    "    ('ALIGN', (1,1), (-1,-1), 'RIGHT'),\n",
    "    ('BACKGROUND', (0,0), (-1,0), colors.Color(0,0.7,0.7))\n",
    "    ]))\n",
    "    \n",
    "    return tbl"
   ]
  },
  {
   "cell_type": "code",
   "execution_count": 71,
   "metadata": {},
   "outputs": [],
   "source": [
    "story = []"
   ]
  },
  {
   "cell_type": "code",
   "execution_count": 72,
   "metadata": {
    "scrolled": true
   },
   "outputs": [],
   "source": [
    "story.append(Paragraph(\"Portfolio\", getSampleStyleSheet()['Heading1']))\n",
    "story.append(PrepareTableForReportLab(summary_output))\n",
    "\n",
    "story.append(PageBreak())"
   ]
  },
  {
   "cell_type": "code",
   "execution_count": 73,
   "metadata": {},
   "outputs": [],
   "source": [
    "doc = SimpleDocTemplate(pdf_file_name, pagesize = landscape(letter), topMargin = inch * .25, bottomMargin = inch * .25)\n",
    "doc.build(story)"
   ]
  },
  {
   "cell_type": "code",
   "execution_count": 74,
   "metadata": {
    "scrolled": true
   },
   "outputs": [
    {
     "data": {
      "text/plain": [
       "CompletedProcess(args=['open', 'Report 2020-08-09.pdf'], returncode=0)"
      ]
     },
     "execution_count": 74,
     "metadata": {},
     "output_type": "execute_result"
    }
   ],
   "source": [
    "#Open pdf file generated\n",
    "subprocess.run(['open', pdf_file_name], check=True)"
   ]
  },
  {
   "cell_type": "code",
   "execution_count": null,
   "metadata": {},
   "outputs": [],
   "source": []
  }
 ],
 "metadata": {
  "kernelspec": {
   "display_name": "Python 3",
   "language": "python",
   "name": "python3"
  },
  "language_info": {
   "codemirror_mode": {
    "name": "ipython",
    "version": 3
   },
   "file_extension": ".py",
   "mimetype": "text/x-python",
   "name": "python",
   "nbconvert_exporter": "python",
   "pygments_lexer": "ipython3",
   "version": "3.7.7"
  }
 },
 "nbformat": 4,
 "nbformat_minor": 4
}
