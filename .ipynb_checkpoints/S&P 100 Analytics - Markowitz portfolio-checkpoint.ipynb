{
 "cells": [
  {
   "cell_type": "code",
   "execution_count": 1,
   "metadata": {},
   "outputs": [
    {
     "name": "stderr",
     "output_type": "stream",
     "text": [
      "/Users/reejungkim/opt/anaconda3/envs/myenv/lib/python3.7/site-packages/pandas_datareader/compat/__init__.py:7: FutureWarning: pandas.util.testing is deprecated. Use the functions in the public API at pandas.testing instead.\n",
      "  from pandas.util.testing import assert_frame_equal\n"
     ]
    }
   ],
   "source": [
    "import timeit\n",
    "import datetime as dt\n",
    "import os\n",
    "import subprocess \n",
    "\n",
    "import pandas as pd\n",
    "import numpy as np\n",
    "\n",
    "#for portofolio optimization \n",
    "import scipy.optimize as sco\n",
    "\n",
    "\n",
    "#visualization\n",
    "import matplotlib as mpl\n",
    "import matplotlib.pyplot as plt\n",
    "#import plotly.graph_objs as go\n",
    "%matplotlib inline\n",
    "#visualization with seaborn\n",
    "import seaborn as sns\n",
    "#visualization with plotly \n",
    "import plotly.graph_objects as go #for candle chart visualization\n",
    "import plotly.express as px #for html output\n",
    "\n",
    "\n",
    "#to get financial data\n",
    "from pandas_datareader import data as pdr\n",
    "\n",
    "\n",
    "#for webscraping \n",
    "import requests\n",
    "from bs4 import BeautifulSoup \n",
    "from selenium import webdriver\n",
    "from selenium.webdriver.common.keys import Keys\n",
    "import pandas as pd\n",
    "import requests\n",
    "\n",
    "\n",
    "#for pdf report generation\n",
    "from reportlab.pdfgen import canvas\n",
    "from reportlab.platypus import *\n",
    "from reportlab.lib import colors\n",
    "from reportlab.lib.pagesizes import letter, landscape\n",
    "from reportlab.lib.styles import getSampleStyleSheet, ParagraphStyle\n",
    "from reportlab.lib.units import inch\n",
    "from reportlab.platypus.tableofcontents import TableOfContents\n"
   ]
  },
  {
   "cell_type": "code",
   "execution_count": 2,
   "metadata": {},
   "outputs": [],
   "source": [
    "days_to_lookback =  20    #int (input('days to search financial data:'))"
   ]
  },
  {
   "cell_type": "code",
   "execution_count": 3,
   "metadata": {},
   "outputs": [],
   "source": [
    "riskfree = .0019"
   ]
  },
  {
   "cell_type": "code",
   "execution_count": 4,
   "metadata": {},
   "outputs": [],
   "source": [
    "date_end = dt.datetime.now() #.today()\n",
    "date_start = date_end - dt.timedelta(days_to_lookback)"
   ]
  },
  {
   "cell_type": "markdown",
   "metadata": {},
   "source": [
    "# Create timestamped folder to save reports created later"
   ]
  },
  {
   "cell_type": "code",
   "execution_count": 5,
   "metadata": {},
   "outputs": [
    {
     "data": {
      "text/plain": [
       "'2020-07-22 22-38-20'"
      ]
     },
     "execution_count": 5,
     "metadata": {},
     "output_type": "execute_result"
    }
   ],
   "source": [
    "#timestamp = str(dt.datetime.now()) <- '2020-06-26 20:26:08.775766'  \n",
    "timestamp =  dt.datetime.now().strftime('%Y-%m-%d %H-%M-%S')\n",
    "timestamp"
   ]
  },
  {
   "cell_type": "code",
   "execution_count": 6,
   "metadata": {},
   "outputs": [
    {
     "data": {
      "text/plain": [
       "'/Users/reejungkim/Documents/Git/reporting automation/Markowitz portflio output 2020-07-22 22-38-20'"
      ]
     },
     "execution_count": 6,
     "metadata": {},
     "output_type": "execute_result"
    }
   ],
   "source": [
    "path = os.getcwd() \n",
    "reportDir = os.path.join(path, \"Markowitz portflio output \" + timestamp)\n",
    "reportDir"
   ]
  },
  {
   "cell_type": "code",
   "execution_count": 7,
   "metadata": {},
   "outputs": [],
   "source": [
    "#create named folder\n",
    "os.makedirs(reportDir, exist_ok = False)"
   ]
  },
  {
   "cell_type": "code",
   "execution_count": 8,
   "metadata": {},
   "outputs": [],
   "source": [
    "os.chdir(reportDir)"
   ]
  },
  {
   "cell_type": "markdown",
   "metadata": {},
   "source": [
    "# Web scraping S&P100 companies from Wikipedia table"
   ]
  },
  {
   "cell_type": "code",
   "execution_count": 9,
   "metadata": {},
   "outputs": [],
   "source": [
    "website_url = requests.get(\"https://en.wikipedia.org/wiki/S%26P_100\").text\n",
    "\n",
    "soup = BeautifulSoup(website_url,'lxml')\n",
    "#print(soup.prettify())"
   ]
  },
  {
   "cell_type": "code",
   "execution_count": 10,
   "metadata": {},
   "outputs": [],
   "source": [
    "wiki_table = soup.find('table',{'class':'wikitable sortable'})"
   ]
  },
  {
   "cell_type": "code",
   "execution_count": 11,
   "metadata": {},
   "outputs": [],
   "source": [
    "data = []\n",
    "tHeader = []\n",
    "SP100_tickers = pd.DataFrame()\n",
    "\n",
    "for tr in wiki_table.find_all(\"tr\"):\n",
    "    for th in tr.find_all(\"th\")[:1]:\n",
    "        tHeader = th.get_text(strip=True)\n",
    "        SP100_tickers[tHeader] = []\n",
    "    for td in tr.find_all(\"td\")[:1]:\n",
    "        data.append( td.get_text(strip=True))\n",
    "        \n",
    "SP100_tickers[tHeader] = data"
   ]
  },
  {
   "cell_type": "code",
   "execution_count": 12,
   "metadata": {
    "scrolled": true
   },
   "outputs": [
    {
     "data": {
      "text/html": [
       "<div>\n",
       "<style scoped>\n",
       "    .dataframe tbody tr th:only-of-type {\n",
       "        vertical-align: middle;\n",
       "    }\n",
       "\n",
       "    .dataframe tbody tr th {\n",
       "        vertical-align: top;\n",
       "    }\n",
       "\n",
       "    .dataframe thead th {\n",
       "        text-align: right;\n",
       "    }\n",
       "</style>\n",
       "<table border=\"1\" class=\"dataframe\">\n",
       "  <thead>\n",
       "    <tr style=\"text-align: right;\">\n",
       "      <th></th>\n",
       "      <th>Symbol</th>\n",
       "    </tr>\n",
       "  </thead>\n",
       "  <tbody>\n",
       "    <tr>\n",
       "      <th>0</th>\n",
       "      <td>AAPL</td>\n",
       "    </tr>\n",
       "    <tr>\n",
       "      <th>1</th>\n",
       "      <td>ABBV</td>\n",
       "    </tr>\n",
       "    <tr>\n",
       "      <th>2</th>\n",
       "      <td>ABT</td>\n",
       "    </tr>\n",
       "    <tr>\n",
       "      <th>3</th>\n",
       "      <td>ACN</td>\n",
       "    </tr>\n",
       "    <tr>\n",
       "      <th>4</th>\n",
       "      <td>ADBE</td>\n",
       "    </tr>\n",
       "    <tr>\n",
       "      <th>...</th>\n",
       "      <td>...</td>\n",
       "    </tr>\n",
       "    <tr>\n",
       "      <th>96</th>\n",
       "      <td>VZ</td>\n",
       "    </tr>\n",
       "    <tr>\n",
       "      <th>97</th>\n",
       "      <td>WBA</td>\n",
       "    </tr>\n",
       "    <tr>\n",
       "      <th>98</th>\n",
       "      <td>WFC</td>\n",
       "    </tr>\n",
       "    <tr>\n",
       "      <th>99</th>\n",
       "      <td>WMT</td>\n",
       "    </tr>\n",
       "    <tr>\n",
       "      <th>100</th>\n",
       "      <td>XOM</td>\n",
       "    </tr>\n",
       "  </tbody>\n",
       "</table>\n",
       "<p>101 rows × 1 columns</p>\n",
       "</div>"
      ],
      "text/plain": [
       "    Symbol\n",
       "0     AAPL\n",
       "1     ABBV\n",
       "2      ABT\n",
       "3      ACN\n",
       "4     ADBE\n",
       "..     ...\n",
       "96      VZ\n",
       "97     WBA\n",
       "98     WFC\n",
       "99     WMT\n",
       "100    XOM\n",
       "\n",
       "[101 rows x 1 columns]"
      ]
     },
     "execution_count": 12,
     "metadata": {},
     "output_type": "execute_result"
    }
   ],
   "source": [
    "SP100_tickers"
   ]
  },
  {
   "cell_type": "markdown",
   "metadata": {},
   "source": [
    "# Use DataReader to get financial data of S&P100 companies from yahoo"
   ]
  },
  {
   "cell_type": "code",
   "execution_count": 13,
   "metadata": {
    "scrolled": true
   },
   "outputs": [
    {
     "name": "stdout",
     "output_type": "stream",
     "text": [
      "CPU times: user 7.34 s, sys: 701 ms, total: 8.04 s\n",
      "Wall time: 1min 15s\n"
     ]
    }
   ],
   "source": [
    "%%time\n",
    "\n",
    "df = pd.DataFrame()\n",
    "\n",
    "for i in data:\n",
    "    symbol = SP100_tickers.loc[SP100_tickers['Symbol']==i]\n",
    "    try:\n",
    "        symbol_data = pdr.DataReader(i, 'yahoo', date_start, date_end).reset_index()\n",
    "        #display(symbol_data)  \n",
    "    except (KeyError, ValueError):  # the error could possibly occur when there's \".\" in stock name \n",
    "        symbol_data = pdr.DataReader(i.replace('.','-'), 'yahoo', date_start, date_end).reset_index()\n",
    "        #symbol_data = pd.DataFrame()\n",
    "        pass\n",
    "    except:\n",
    "        print(i + \" - Error.\")\n",
    "        symbol_data = pd.DataFrame()\n",
    "        pass\n",
    "    single_table = pd.concat([symbol, symbol_data], axis=0, ignore_index=True) #axis=0 <- row. add frames by row and use fill down.\n",
    "    single_table['Symbol'].ffill(inplace=True)\n",
    "    df = df.append(single_table)\n",
    "    "
   ]
  },
  {
   "cell_type": "code",
   "execution_count": 14,
   "metadata": {
    "scrolled": true
   },
   "outputs": [],
   "source": [
    "df = df.loc[df['Date'].notnull()]"
   ]
  },
  {
   "cell_type": "code",
   "execution_count": 15,
   "metadata": {},
   "outputs": [],
   "source": [
    "df = df.reset_index(drop=True)"
   ]
  },
  {
   "cell_type": "markdown",
   "metadata": {
    "scrolled": true
   },
   "source": [
    "df.groupby(['Symbol']).describe().transpose()"
   ]
  },
  {
   "cell_type": "code",
   "execution_count": 16,
   "metadata": {},
   "outputs": [],
   "source": [
    "df_Flat = df"
   ]
  },
  {
   "cell_type": "markdown",
   "metadata": {},
   "source": [
    "# Prepare data frame to display volatility and to be normalized"
   ]
  },
  {
   "cell_type": "code",
   "execution_count": 17,
   "metadata": {
    "scrolled": true
   },
   "outputs": [],
   "source": [
    "d = df.pivot_table(values='Close', index='Date', columns='Symbol', aggfunc=np.sum, margins=False)"
   ]
  },
  {
   "cell_type": "code",
   "execution_count": 20,
   "metadata": {
    "scrolled": true
   },
   "outputs": [
    {
     "data": {
      "text/html": [
       "<div>\n",
       "<style scoped>\n",
       "    .dataframe tbody tr th:only-of-type {\n",
       "        vertical-align: middle;\n",
       "    }\n",
       "\n",
       "    .dataframe tbody tr th {\n",
       "        vertical-align: top;\n",
       "    }\n",
       "\n",
       "    .dataframe thead th {\n",
       "        text-align: right;\n",
       "    }\n",
       "</style>\n",
       "<table border=\"1\" class=\"dataframe\">\n",
       "  <thead>\n",
       "    <tr style=\"text-align: right;\">\n",
       "      <th>Symbol</th>\n",
       "      <th>AAPL</th>\n",
       "      <th>ABBV</th>\n",
       "      <th>ABT</th>\n",
       "      <th>ACN</th>\n",
       "      <th>ADBE</th>\n",
       "      <th>AIG</th>\n",
       "      <th>ALL</th>\n",
       "      <th>AMGN</th>\n",
       "      <th>AMT</th>\n",
       "      <th>AMZN</th>\n",
       "      <th>...</th>\n",
       "      <th>UNH</th>\n",
       "      <th>UNP</th>\n",
       "      <th>UPS</th>\n",
       "      <th>USB</th>\n",
       "      <th>V</th>\n",
       "      <th>VZ</th>\n",
       "      <th>WBA</th>\n",
       "      <th>WFC</th>\n",
       "      <th>WMT</th>\n",
       "      <th>XOM</th>\n",
       "    </tr>\n",
       "    <tr>\n",
       "      <th>Date</th>\n",
       "      <th></th>\n",
       "      <th></th>\n",
       "      <th></th>\n",
       "      <th></th>\n",
       "      <th></th>\n",
       "      <th></th>\n",
       "      <th></th>\n",
       "      <th></th>\n",
       "      <th></th>\n",
       "      <th></th>\n",
       "      <th></th>\n",
       "      <th></th>\n",
       "      <th></th>\n",
       "      <th></th>\n",
       "      <th></th>\n",
       "      <th></th>\n",
       "      <th></th>\n",
       "      <th></th>\n",
       "      <th></th>\n",
       "      <th></th>\n",
       "      <th></th>\n",
       "    </tr>\n",
       "  </thead>\n",
       "  <tbody>\n",
       "    <tr>\n",
       "      <th>2020-07-06</th>\n",
       "      <td>373.850006</td>\n",
       "      <td>99.010002</td>\n",
       "      <td>92.970001</td>\n",
       "      <td>217.550003</td>\n",
       "      <td>452.589996</td>\n",
       "      <td>30.74</td>\n",
       "      <td>95.639999</td>\n",
       "      <td>256.250000</td>\n",
       "      <td>265.970001</td>\n",
       "      <td>3057.040039</td>\n",
       "      <td>...</td>\n",
       "      <td>302.809998</td>\n",
       "      <td>172.160004</td>\n",
       "      <td>115.360001</td>\n",
       "      <td>36.830002</td>\n",
       "      <td>197.759995</td>\n",
       "      <td>55.240002</td>\n",
       "      <td>43.160000</td>\n",
       "      <td>25.490000</td>\n",
       "      <td>118.889999</td>\n",
       "      <td>44.389999</td>\n",
       "    </tr>\n",
       "    <tr>\n",
       "      <th>2020-07-07</th>\n",
       "      <td>372.690002</td>\n",
       "      <td>99.349998</td>\n",
       "      <td>92.459999</td>\n",
       "      <td>216.330002</td>\n",
       "      <td>449.359985</td>\n",
       "      <td>29.17</td>\n",
       "      <td>92.650002</td>\n",
       "      <td>253.149994</td>\n",
       "      <td>265.970001</td>\n",
       "      <td>3000.120117</td>\n",
       "      <td>...</td>\n",
       "      <td>296.649994</td>\n",
       "      <td>169.779999</td>\n",
       "      <td>114.449997</td>\n",
       "      <td>35.580002</td>\n",
       "      <td>194.199997</td>\n",
       "      <td>55.040001</td>\n",
       "      <td>42.220001</td>\n",
       "      <td>24.459999</td>\n",
       "      <td>126.949997</td>\n",
       "      <td>43.240002</td>\n",
       "    </tr>\n",
       "    <tr>\n",
       "      <th>2020-07-08</th>\n",
       "      <td>381.369995</td>\n",
       "      <td>99.279999</td>\n",
       "      <td>92.580002</td>\n",
       "      <td>218.889999</td>\n",
       "      <td>457.679993</td>\n",
       "      <td>29.85</td>\n",
       "      <td>88.220001</td>\n",
       "      <td>251.589996</td>\n",
       "      <td>264.700012</td>\n",
       "      <td>3081.110107</td>\n",
       "      <td>...</td>\n",
       "      <td>298.359985</td>\n",
       "      <td>169.039993</td>\n",
       "      <td>114.470001</td>\n",
       "      <td>35.509998</td>\n",
       "      <td>195.070007</td>\n",
       "      <td>55.380001</td>\n",
       "      <td>42.290001</td>\n",
       "      <td>24.549999</td>\n",
       "      <td>124.440002</td>\n",
       "      <td>43.139999</td>\n",
       "    </tr>\n",
       "    <tr>\n",
       "      <th>2020-07-09</th>\n",
       "      <td>383.010010</td>\n",
       "      <td>97.940002</td>\n",
       "      <td>93.669998</td>\n",
       "      <td>219.309998</td>\n",
       "      <td>460.839996</td>\n",
       "      <td>28.00</td>\n",
       "      <td>85.820000</td>\n",
       "      <td>251.660004</td>\n",
       "      <td>265.600006</td>\n",
       "      <td>3182.629883</td>\n",
       "      <td>...</td>\n",
       "      <td>291.160004</td>\n",
       "      <td>165.990005</td>\n",
       "      <td>114.449997</td>\n",
       "      <td>34.220001</td>\n",
       "      <td>192.210007</td>\n",
       "      <td>53.939999</td>\n",
       "      <td>39.009998</td>\n",
       "      <td>24.040001</td>\n",
       "      <td>127.750000</td>\n",
       "      <td>41.360001</td>\n",
       "    </tr>\n",
       "    <tr>\n",
       "      <th>2020-07-10</th>\n",
       "      <td>383.679993</td>\n",
       "      <td>96.830002</td>\n",
       "      <td>93.040001</td>\n",
       "      <td>220.259995</td>\n",
       "      <td>466.200012</td>\n",
       "      <td>30.10</td>\n",
       "      <td>86.970001</td>\n",
       "      <td>249.039993</td>\n",
       "      <td>264.350006</td>\n",
       "      <td>3200.000000</td>\n",
       "      <td>...</td>\n",
       "      <td>291.230011</td>\n",
       "      <td>166.389999</td>\n",
       "      <td>115.070000</td>\n",
       "      <td>36.439999</td>\n",
       "      <td>192.550003</td>\n",
       "      <td>54.490002</td>\n",
       "      <td>40.119999</td>\n",
       "      <td>25.469999</td>\n",
       "      <td>130.679993</td>\n",
       "      <td>42.650002</td>\n",
       "    </tr>\n",
       "  </tbody>\n",
       "</table>\n",
       "<p>5 rows × 101 columns</p>\n",
       "</div>"
      ],
      "text/plain": [
       "Symbol            AAPL       ABBV        ABT         ACN        ADBE    AIG  \\\n",
       "Date                                                                          \n",
       "2020-07-06  373.850006  99.010002  92.970001  217.550003  452.589996  30.74   \n",
       "2020-07-07  372.690002  99.349998  92.459999  216.330002  449.359985  29.17   \n",
       "2020-07-08  381.369995  99.279999  92.580002  218.889999  457.679993  29.85   \n",
       "2020-07-09  383.010010  97.940002  93.669998  219.309998  460.839996  28.00   \n",
       "2020-07-10  383.679993  96.830002  93.040001  220.259995  466.200012  30.10   \n",
       "\n",
       "Symbol            ALL        AMGN         AMT         AMZN  ...         UNH  \\\n",
       "Date                                                        ...               \n",
       "2020-07-06  95.639999  256.250000  265.970001  3057.040039  ...  302.809998   \n",
       "2020-07-07  92.650002  253.149994  265.970001  3000.120117  ...  296.649994   \n",
       "2020-07-08  88.220001  251.589996  264.700012  3081.110107  ...  298.359985   \n",
       "2020-07-09  85.820000  251.660004  265.600006  3182.629883  ...  291.160004   \n",
       "2020-07-10  86.970001  249.039993  264.350006  3200.000000  ...  291.230011   \n",
       "\n",
       "Symbol             UNP         UPS        USB           V         VZ  \\\n",
       "Date                                                                   \n",
       "2020-07-06  172.160004  115.360001  36.830002  197.759995  55.240002   \n",
       "2020-07-07  169.779999  114.449997  35.580002  194.199997  55.040001   \n",
       "2020-07-08  169.039993  114.470001  35.509998  195.070007  55.380001   \n",
       "2020-07-09  165.990005  114.449997  34.220001  192.210007  53.939999   \n",
       "2020-07-10  166.389999  115.070000  36.439999  192.550003  54.490002   \n",
       "\n",
       "Symbol            WBA        WFC         WMT        XOM  \n",
       "Date                                                     \n",
       "2020-07-06  43.160000  25.490000  118.889999  44.389999  \n",
       "2020-07-07  42.220001  24.459999  126.949997  43.240002  \n",
       "2020-07-08  42.290001  24.549999  124.440002  43.139999  \n",
       "2020-07-09  39.009998  24.040001  127.750000  41.360001  \n",
       "2020-07-10  40.119999  25.469999  130.679993  42.650002  \n",
       "\n",
       "[5 rows x 101 columns]"
      ]
     },
     "execution_count": 20,
     "metadata": {},
     "output_type": "execute_result"
    }
   ],
   "source": [
    "d.head()"
   ]
  },
  {
   "cell_type": "code",
   "execution_count": 53,
   "metadata": {
    "scrolled": true
   },
   "outputs": [
    {
     "data": {
      "text/html": [
       "<div>\n",
       "<style scoped>\n",
       "    .dataframe tbody tr th:only-of-type {\n",
       "        vertical-align: middle;\n",
       "    }\n",
       "\n",
       "    .dataframe tbody tr th {\n",
       "        vertical-align: top;\n",
       "    }\n",
       "\n",
       "    .dataframe thead th {\n",
       "        text-align: right;\n",
       "    }\n",
       "</style>\n",
       "<table border=\"1\" class=\"dataframe\">\n",
       "  <thead>\n",
       "    <tr style=\"text-align: right;\">\n",
       "      <th>Symbol</th>\n",
       "      <th>AAPL</th>\n",
       "      <th>ABBV</th>\n",
       "      <th>ABT</th>\n",
       "      <th>ACN</th>\n",
       "      <th>ADBE</th>\n",
       "      <th>AIG</th>\n",
       "      <th>ALL</th>\n",
       "      <th>AMGN</th>\n",
       "      <th>AMT</th>\n",
       "      <th>AMZN</th>\n",
       "      <th>...</th>\n",
       "      <th>UNH</th>\n",
       "      <th>UNP</th>\n",
       "      <th>UPS</th>\n",
       "      <th>USB</th>\n",
       "      <th>V</th>\n",
       "      <th>VZ</th>\n",
       "      <th>WBA</th>\n",
       "      <th>WFC</th>\n",
       "      <th>WMT</th>\n",
       "      <th>XOM</th>\n",
       "    </tr>\n",
       "    <tr>\n",
       "      <th>Date</th>\n",
       "      <th></th>\n",
       "      <th></th>\n",
       "      <th></th>\n",
       "      <th></th>\n",
       "      <th></th>\n",
       "      <th></th>\n",
       "      <th></th>\n",
       "      <th></th>\n",
       "      <th></th>\n",
       "      <th></th>\n",
       "      <th></th>\n",
       "      <th></th>\n",
       "      <th></th>\n",
       "      <th></th>\n",
       "      <th></th>\n",
       "      <th></th>\n",
       "      <th></th>\n",
       "      <th></th>\n",
       "      <th></th>\n",
       "      <th></th>\n",
       "      <th></th>\n",
       "    </tr>\n",
       "  </thead>\n",
       "  <tbody>\n",
       "    <tr>\n",
       "      <th>2020-07-06</th>\n",
       "      <td>NaN</td>\n",
       "      <td>NaN</td>\n",
       "      <td>NaN</td>\n",
       "      <td>NaN</td>\n",
       "      <td>NaN</td>\n",
       "      <td>NaN</td>\n",
       "      <td>NaN</td>\n",
       "      <td>NaN</td>\n",
       "      <td>NaN</td>\n",
       "      <td>NaN</td>\n",
       "      <td>...</td>\n",
       "      <td>NaN</td>\n",
       "      <td>NaN</td>\n",
       "      <td>NaN</td>\n",
       "      <td>NaN</td>\n",
       "      <td>NaN</td>\n",
       "      <td>NaN</td>\n",
       "      <td>NaN</td>\n",
       "      <td>NaN</td>\n",
       "      <td>NaN</td>\n",
       "      <td>NaN</td>\n",
       "    </tr>\n",
       "    <tr>\n",
       "      <th>2020-07-07</th>\n",
       "      <td>-0.003108</td>\n",
       "      <td>0.003428</td>\n",
       "      <td>-0.005501</td>\n",
       "      <td>-0.005624</td>\n",
       "      <td>-0.007162</td>\n",
       "      <td>-0.052424</td>\n",
       "      <td>-0.031762</td>\n",
       "      <td>-0.012171</td>\n",
       "      <td>0.000000</td>\n",
       "      <td>-0.018795</td>\n",
       "      <td>...</td>\n",
       "      <td>-0.020553</td>\n",
       "      <td>-0.013921</td>\n",
       "      <td>-0.007920</td>\n",
       "      <td>-0.034529</td>\n",
       "      <td>-0.018166</td>\n",
       "      <td>-0.003627</td>\n",
       "      <td>-0.022020</td>\n",
       "      <td>-0.041247</td>\n",
       "      <td>0.065595</td>\n",
       "      <td>-0.026248</td>\n",
       "    </tr>\n",
       "    <tr>\n",
       "      <th>2020-07-08</th>\n",
       "      <td>0.023023</td>\n",
       "      <td>-0.000705</td>\n",
       "      <td>0.001297</td>\n",
       "      <td>0.011764</td>\n",
       "      <td>0.018346</td>\n",
       "      <td>0.023044</td>\n",
       "      <td>-0.048995</td>\n",
       "      <td>-0.006181</td>\n",
       "      <td>-0.004786</td>\n",
       "      <td>0.026638</td>\n",
       "      <td>...</td>\n",
       "      <td>0.005748</td>\n",
       "      <td>-0.004368</td>\n",
       "      <td>0.000175</td>\n",
       "      <td>-0.001969</td>\n",
       "      <td>0.004470</td>\n",
       "      <td>0.006158</td>\n",
       "      <td>0.001657</td>\n",
       "      <td>0.003673</td>\n",
       "      <td>-0.019970</td>\n",
       "      <td>-0.002315</td>\n",
       "    </tr>\n",
       "    <tr>\n",
       "      <th>2020-07-09</th>\n",
       "      <td>0.004291</td>\n",
       "      <td>-0.013589</td>\n",
       "      <td>0.011705</td>\n",
       "      <td>0.001917</td>\n",
       "      <td>0.006881</td>\n",
       "      <td>-0.063980</td>\n",
       "      <td>-0.027582</td>\n",
       "      <td>0.000278</td>\n",
       "      <td>0.003394</td>\n",
       "      <td>0.032418</td>\n",
       "      <td>...</td>\n",
       "      <td>-0.024428</td>\n",
       "      <td>-0.018208</td>\n",
       "      <td>-0.000175</td>\n",
       "      <td>-0.037004</td>\n",
       "      <td>-0.014770</td>\n",
       "      <td>-0.026346</td>\n",
       "      <td>-0.080733</td>\n",
       "      <td>-0.020993</td>\n",
       "      <td>0.026252</td>\n",
       "      <td>-0.042136</td>\n",
       "    </tr>\n",
       "    <tr>\n",
       "      <th>2020-07-10</th>\n",
       "      <td>0.001748</td>\n",
       "      <td>-0.011398</td>\n",
       "      <td>-0.006748</td>\n",
       "      <td>0.004322</td>\n",
       "      <td>0.011564</td>\n",
       "      <td>0.072321</td>\n",
       "      <td>0.013311</td>\n",
       "      <td>-0.010465</td>\n",
       "      <td>-0.004717</td>\n",
       "      <td>0.005443</td>\n",
       "      <td>...</td>\n",
       "      <td>0.000240</td>\n",
       "      <td>0.002407</td>\n",
       "      <td>0.005403</td>\n",
       "      <td>0.062857</td>\n",
       "      <td>0.001767</td>\n",
       "      <td>0.010145</td>\n",
       "      <td>0.028057</td>\n",
       "      <td>0.057782</td>\n",
       "      <td>0.022676</td>\n",
       "      <td>0.030713</td>\n",
       "    </tr>\n",
       "  </tbody>\n",
       "</table>\n",
       "<p>5 rows × 101 columns</p>\n",
       "</div>"
      ],
      "text/plain": [
       "Symbol          AAPL      ABBV       ABT       ACN      ADBE       AIG  \\\n",
       "Date                                                                     \n",
       "2020-07-06       NaN       NaN       NaN       NaN       NaN       NaN   \n",
       "2020-07-07 -0.003108  0.003428 -0.005501 -0.005624 -0.007162 -0.052424   \n",
       "2020-07-08  0.023023 -0.000705  0.001297  0.011764  0.018346  0.023044   \n",
       "2020-07-09  0.004291 -0.013589  0.011705  0.001917  0.006881 -0.063980   \n",
       "2020-07-10  0.001748 -0.011398 -0.006748  0.004322  0.011564  0.072321   \n",
       "\n",
       "Symbol           ALL      AMGN       AMT      AMZN  ...       UNH       UNP  \\\n",
       "Date                                                ...                       \n",
       "2020-07-06       NaN       NaN       NaN       NaN  ...       NaN       NaN   \n",
       "2020-07-07 -0.031762 -0.012171  0.000000 -0.018795  ... -0.020553 -0.013921   \n",
       "2020-07-08 -0.048995 -0.006181 -0.004786  0.026638  ...  0.005748 -0.004368   \n",
       "2020-07-09 -0.027582  0.000278  0.003394  0.032418  ... -0.024428 -0.018208   \n",
       "2020-07-10  0.013311 -0.010465 -0.004717  0.005443  ...  0.000240  0.002407   \n",
       "\n",
       "Symbol           UPS       USB         V        VZ       WBA       WFC  \\\n",
       "Date                                                                     \n",
       "2020-07-06       NaN       NaN       NaN       NaN       NaN       NaN   \n",
       "2020-07-07 -0.007920 -0.034529 -0.018166 -0.003627 -0.022020 -0.041247   \n",
       "2020-07-08  0.000175 -0.001969  0.004470  0.006158  0.001657  0.003673   \n",
       "2020-07-09 -0.000175 -0.037004 -0.014770 -0.026346 -0.080733 -0.020993   \n",
       "2020-07-10  0.005403  0.062857  0.001767  0.010145  0.028057  0.057782   \n",
       "\n",
       "Symbol           WMT       XOM  \n",
       "Date                            \n",
       "2020-07-06       NaN       NaN  \n",
       "2020-07-07  0.065595 -0.026248  \n",
       "2020-07-08 -0.019970 -0.002315  \n",
       "2020-07-09  0.026252 -0.042136  \n",
       "2020-07-10  0.022676  0.030713  \n",
       "\n",
       "[5 rows x 101 columns]"
      ]
     },
     "execution_count": 53,
     "metadata": {},
     "output_type": "execute_result"
    }
   ],
   "source": [
    "logChange = np.log(d / d.shift(1)) # geometric brownian motion. - make the errors being normally distributed.\n",
    "# more standardly used than pct_change.  df_temp['Close'] in this case.\n",
    "logChange.head()"
   ]
  },
  {
   "cell_type": "markdown",
   "metadata": {},
   "source": [
    "# pick tickers to use for portfolio\n",
    "( highest growth rates)"
   ]
  },
  {
   "cell_type": "code",
   "execution_count": 52,
   "metadata": {
    "scrolled": true
   },
   "outputs": [
    {
     "data": {
      "text/plain": [
       "['T', 'GE', 'QCOM', 'CSCO', 'CL', 'PEP', 'VZ', 'GILD', 'KMI', 'ORCL']"
      ]
     },
     "execution_count": 52,
     "metadata": {},
     "output_type": "execute_result"
    }
   ],
   "source": [
    "tickers = pd.DataFrame((d.mean()/d.var()))\n",
    "tickers.columns =['sharp']\n",
    "tickers = tickers.sort_values(by='sharp', ascending=False).head(10)\n",
    "symbols = tickers.index.tolist()\n",
    "symbols"
   ]
  },
  {
   "cell_type": "markdown",
   "metadata": {},
   "source": [
    "tickers_bestPerformed = logChange.describe().transpose().sort_values(by='mean', ascending=False).head(5)\n",
    "symbols = tickers_bestPerformed.index.tolist()"
   ]
  },
  {
   "cell_type": "code",
   "execution_count": 55,
   "metadata": {
    "scrolled": true
   },
   "outputs": [
    {
     "data": {
      "text/html": [
       "<div>\n",
       "<style scoped>\n",
       "    .dataframe tbody tr th:only-of-type {\n",
       "        vertical-align: middle;\n",
       "    }\n",
       "\n",
       "    .dataframe tbody tr th {\n",
       "        vertical-align: top;\n",
       "    }\n",
       "\n",
       "    .dataframe thead th {\n",
       "        text-align: right;\n",
       "    }\n",
       "</style>\n",
       "<table border=\"1\" class=\"dataframe\">\n",
       "  <thead>\n",
       "    <tr style=\"text-align: right;\">\n",
       "      <th>Symbol</th>\n",
       "      <th>T</th>\n",
       "      <th>GE</th>\n",
       "      <th>QCOM</th>\n",
       "      <th>CSCO</th>\n",
       "      <th>CL</th>\n",
       "      <th>PEP</th>\n",
       "      <th>VZ</th>\n",
       "      <th>GILD</th>\n",
       "      <th>KMI</th>\n",
       "      <th>ORCL</th>\n",
       "    </tr>\n",
       "    <tr>\n",
       "      <th>Date</th>\n",
       "      <th></th>\n",
       "      <th></th>\n",
       "      <th></th>\n",
       "      <th></th>\n",
       "      <th></th>\n",
       "      <th></th>\n",
       "      <th></th>\n",
       "      <th></th>\n",
       "      <th></th>\n",
       "      <th></th>\n",
       "    </tr>\n",
       "  </thead>\n",
       "  <tbody>\n",
       "    <tr>\n",
       "      <th>2020-07-06</th>\n",
       "      <td>NaN</td>\n",
       "      <td>NaN</td>\n",
       "      <td>NaN</td>\n",
       "      <td>NaN</td>\n",
       "      <td>NaN</td>\n",
       "      <td>NaN</td>\n",
       "      <td>NaN</td>\n",
       "      <td>NaN</td>\n",
       "      <td>NaN</td>\n",
       "      <td>NaN</td>\n",
       "    </tr>\n",
       "    <tr>\n",
       "      <th>2020-07-07</th>\n",
       "      <td>-0.005591</td>\n",
       "      <td>-0.034887</td>\n",
       "      <td>-0.008430</td>\n",
       "      <td>-0.017165</td>\n",
       "      <td>0.007055</td>\n",
       "      <td>0.002023</td>\n",
       "      <td>-0.003627</td>\n",
       "      <td>-0.004439</td>\n",
       "      <td>-0.034833</td>\n",
       "      <td>-0.005137</td>\n",
       "    </tr>\n",
       "    <tr>\n",
       "      <th>2020-07-08</th>\n",
       "      <td>0.004607</td>\n",
       "      <td>0.014685</td>\n",
       "      <td>0.014973</td>\n",
       "      <td>0.003937</td>\n",
       "      <td>0.007005</td>\n",
       "      <td>0.004855</td>\n",
       "      <td>0.006158</td>\n",
       "      <td>-0.010656</td>\n",
       "      <td>-0.010278</td>\n",
       "      <td>0.006196</td>\n",
       "    </tr>\n",
       "  </tbody>\n",
       "</table>\n",
       "</div>"
      ],
      "text/plain": [
       "Symbol             T        GE      QCOM      CSCO        CL       PEP  \\\n",
       "Date                                                                     \n",
       "2020-07-06       NaN       NaN       NaN       NaN       NaN       NaN   \n",
       "2020-07-07 -0.005591 -0.034887 -0.008430 -0.017165  0.007055  0.002023   \n",
       "2020-07-08  0.004607  0.014685  0.014973  0.003937  0.007005  0.004855   \n",
       "\n",
       "Symbol            VZ      GILD       KMI      ORCL  \n",
       "Date                                                \n",
       "2020-07-06       NaN       NaN       NaN       NaN  \n",
       "2020-07-07 -0.003627 -0.004439 -0.034833 -0.005137  \n",
       "2020-07-08  0.006158 -0.010656 -0.010278  0.006196  "
      ]
     },
     "execution_count": 55,
     "metadata": {},
     "output_type": "execute_result"
    }
   ],
   "source": [
    "logChange = logChange[symbols]\n",
    "logChange.head(3)"
   ]
  },
  {
   "cell_type": "markdown",
   "metadata": {},
   "source": [
    "### expected return of each ticker picked"
   ]
  },
  {
   "cell_type": "code",
   "execution_count": 56,
   "metadata": {},
   "outputs": [
    {
     "data": {
      "text/plain": [
       "Symbol\n",
       "T      -0.228527\n",
       "GE      0.179233\n",
       "QCOM   -0.072445\n",
       "CSCO    0.216034\n",
       "CL      0.196357\n",
       "PEP     0.422649\n",
       "VZ      0.192991\n",
       "GILD   -0.139992\n",
       "KMI    -0.418896\n",
       "ORCL   -0.220054\n",
       "dtype: float64"
      ]
     },
     "execution_count": 56,
     "metadata": {},
     "output_type": "execute_result"
    }
   ],
   "source": [
    "logChange.mean()*252   #252 business days per year in general"
   ]
  },
  {
   "cell_type": "markdown",
   "metadata": {},
   "source": [
    "##### covariance across tickers"
   ]
  },
  {
   "cell_type": "code",
   "execution_count": 57,
   "metadata": {},
   "outputs": [
    {
     "data": {
      "text/html": [
       "<div>\n",
       "<style scoped>\n",
       "    .dataframe tbody tr th:only-of-type {\n",
       "        vertical-align: middle;\n",
       "    }\n",
       "\n",
       "    .dataframe tbody tr th {\n",
       "        vertical-align: top;\n",
       "    }\n",
       "\n",
       "    .dataframe thead th {\n",
       "        text-align: right;\n",
       "    }\n",
       "</style>\n",
       "<table border=\"1\" class=\"dataframe\">\n",
       "  <thead>\n",
       "    <tr style=\"text-align: right;\">\n",
       "      <th>Symbol</th>\n",
       "      <th>T</th>\n",
       "      <th>GE</th>\n",
       "      <th>QCOM</th>\n",
       "      <th>CSCO</th>\n",
       "      <th>CL</th>\n",
       "      <th>PEP</th>\n",
       "      <th>VZ</th>\n",
       "      <th>GILD</th>\n",
       "      <th>KMI</th>\n",
       "      <th>ORCL</th>\n",
       "    </tr>\n",
       "    <tr>\n",
       "      <th>Symbol</th>\n",
       "      <th></th>\n",
       "      <th></th>\n",
       "      <th></th>\n",
       "      <th></th>\n",
       "      <th></th>\n",
       "      <th></th>\n",
       "      <th></th>\n",
       "      <th></th>\n",
       "      <th></th>\n",
       "      <th></th>\n",
       "    </tr>\n",
       "  </thead>\n",
       "  <tbody>\n",
       "    <tr>\n",
       "      <th>T</th>\n",
       "      <td>0.048511</td>\n",
       "      <td>0.060104</td>\n",
       "      <td>-0.005015</td>\n",
       "      <td>-0.012431</td>\n",
       "      <td>0.021152</td>\n",
       "      <td>0.019320</td>\n",
       "      <td>0.032170</td>\n",
       "      <td>0.008682</td>\n",
       "      <td>0.072495</td>\n",
       "      <td>-0.011150</td>\n",
       "    </tr>\n",
       "    <tr>\n",
       "      <th>GE</th>\n",
       "      <td>0.060104</td>\n",
       "      <td>0.163048</td>\n",
       "      <td>0.013076</td>\n",
       "      <td>0.005170</td>\n",
       "      <td>0.029748</td>\n",
       "      <td>0.020626</td>\n",
       "      <td>0.040362</td>\n",
       "      <td>0.003925</td>\n",
       "      <td>0.152650</td>\n",
       "      <td>-0.013635</td>\n",
       "    </tr>\n",
       "    <tr>\n",
       "      <th>QCOM</th>\n",
       "      <td>-0.005015</td>\n",
       "      <td>0.013076</td>\n",
       "      <td>0.027635</td>\n",
       "      <td>0.020811</td>\n",
       "      <td>0.003889</td>\n",
       "      <td>-0.003511</td>\n",
       "      <td>0.003707</td>\n",
       "      <td>0.001865</td>\n",
       "      <td>-0.007439</td>\n",
       "      <td>0.005645</td>\n",
       "    </tr>\n",
       "    <tr>\n",
       "      <th>CSCO</th>\n",
       "      <td>-0.012431</td>\n",
       "      <td>0.005170</td>\n",
       "      <td>0.020811</td>\n",
       "      <td>0.037379</td>\n",
       "      <td>-0.006753</td>\n",
       "      <td>-0.006742</td>\n",
       "      <td>-0.007557</td>\n",
       "      <td>0.000366</td>\n",
       "      <td>-0.003097</td>\n",
       "      <td>0.009286</td>\n",
       "    </tr>\n",
       "    <tr>\n",
       "      <th>CL</th>\n",
       "      <td>0.021152</td>\n",
       "      <td>0.029748</td>\n",
       "      <td>0.003889</td>\n",
       "      <td>-0.006753</td>\n",
       "      <td>0.021543</td>\n",
       "      <td>0.012635</td>\n",
       "      <td>0.023161</td>\n",
       "      <td>0.006410</td>\n",
       "      <td>0.027148</td>\n",
       "      <td>-0.008622</td>\n",
       "    </tr>\n",
       "    <tr>\n",
       "      <th>PEP</th>\n",
       "      <td>0.019320</td>\n",
       "      <td>0.020626</td>\n",
       "      <td>-0.003511</td>\n",
       "      <td>-0.006742</td>\n",
       "      <td>0.012635</td>\n",
       "      <td>0.020930</td>\n",
       "      <td>0.017123</td>\n",
       "      <td>0.005505</td>\n",
       "      <td>0.022295</td>\n",
       "      <td>-0.003347</td>\n",
       "    </tr>\n",
       "    <tr>\n",
       "      <th>VZ</th>\n",
       "      <td>0.032170</td>\n",
       "      <td>0.040362</td>\n",
       "      <td>0.003707</td>\n",
       "      <td>-0.007557</td>\n",
       "      <td>0.023161</td>\n",
       "      <td>0.017123</td>\n",
       "      <td>0.035055</td>\n",
       "      <td>0.016465</td>\n",
       "      <td>0.043790</td>\n",
       "      <td>-0.014727</td>\n",
       "    </tr>\n",
       "    <tr>\n",
       "      <th>GILD</th>\n",
       "      <td>0.008682</td>\n",
       "      <td>0.003925</td>\n",
       "      <td>0.001865</td>\n",
       "      <td>0.000366</td>\n",
       "      <td>0.006410</td>\n",
       "      <td>0.005505</td>\n",
       "      <td>0.016465</td>\n",
       "      <td>0.031017</td>\n",
       "      <td>0.008747</td>\n",
       "      <td>-0.011607</td>\n",
       "    </tr>\n",
       "    <tr>\n",
       "      <th>KMI</th>\n",
       "      <td>0.072495</td>\n",
       "      <td>0.152650</td>\n",
       "      <td>-0.007439</td>\n",
       "      <td>-0.003097</td>\n",
       "      <td>0.027148</td>\n",
       "      <td>0.022295</td>\n",
       "      <td>0.043790</td>\n",
       "      <td>0.008747</td>\n",
       "      <td>0.176396</td>\n",
       "      <td>-0.015068</td>\n",
       "    </tr>\n",
       "    <tr>\n",
       "      <th>ORCL</th>\n",
       "      <td>-0.011150</td>\n",
       "      <td>-0.013635</td>\n",
       "      <td>0.005645</td>\n",
       "      <td>0.009286</td>\n",
       "      <td>-0.008622</td>\n",
       "      <td>-0.003347</td>\n",
       "      <td>-0.014727</td>\n",
       "      <td>-0.011607</td>\n",
       "      <td>-0.015068</td>\n",
       "      <td>0.025220</td>\n",
       "    </tr>\n",
       "  </tbody>\n",
       "</table>\n",
       "</div>"
      ],
      "text/plain": [
       "Symbol         T        GE      QCOM      CSCO        CL       PEP        VZ  \\\n",
       "Symbol                                                                         \n",
       "T       0.048511  0.060104 -0.005015 -0.012431  0.021152  0.019320  0.032170   \n",
       "GE      0.060104  0.163048  0.013076  0.005170  0.029748  0.020626  0.040362   \n",
       "QCOM   -0.005015  0.013076  0.027635  0.020811  0.003889 -0.003511  0.003707   \n",
       "CSCO   -0.012431  0.005170  0.020811  0.037379 -0.006753 -0.006742 -0.007557   \n",
       "CL      0.021152  0.029748  0.003889 -0.006753  0.021543  0.012635  0.023161   \n",
       "PEP     0.019320  0.020626 -0.003511 -0.006742  0.012635  0.020930  0.017123   \n",
       "VZ      0.032170  0.040362  0.003707 -0.007557  0.023161  0.017123  0.035055   \n",
       "GILD    0.008682  0.003925  0.001865  0.000366  0.006410  0.005505  0.016465   \n",
       "KMI     0.072495  0.152650 -0.007439 -0.003097  0.027148  0.022295  0.043790   \n",
       "ORCL   -0.011150 -0.013635  0.005645  0.009286 -0.008622 -0.003347 -0.014727   \n",
       "\n",
       "Symbol      GILD       KMI      ORCL  \n",
       "Symbol                                \n",
       "T       0.008682  0.072495 -0.011150  \n",
       "GE      0.003925  0.152650 -0.013635  \n",
       "QCOM    0.001865 -0.007439  0.005645  \n",
       "CSCO    0.000366 -0.003097  0.009286  \n",
       "CL      0.006410  0.027148 -0.008622  \n",
       "PEP     0.005505  0.022295 -0.003347  \n",
       "VZ      0.016465  0.043790 -0.014727  \n",
       "GILD    0.031017  0.008747 -0.011607  \n",
       "KMI     0.008747  0.176396 -0.015068  \n",
       "ORCL   -0.011607 -0.015068  0.025220  "
      ]
     },
     "execution_count": 57,
     "metadata": {},
     "output_type": "execute_result"
    }
   ],
   "source": [
    "logChange.cov()*252"
   ]
  },
  {
   "cell_type": "code",
   "execution_count": 58,
   "metadata": {
    "scrolled": true
   },
   "outputs": [
    {
     "data": {
      "text/plain": [
       "<matplotlib.axes._subplots.AxesSubplot at 0x7ff3b66dab50>"
      ]
     },
     "execution_count": 58,
     "metadata": {},
     "output_type": "execute_result"
    },
    {
     "data": {
      "image/png": "[encoded data removed]",
      "text/plain": [
       "<Figure size 432x288 with 2 Axes>"
      ]
     },
     "metadata": {
      "needs_background": "light"
     },
     "output_type": "display_data"
    }
   ],
   "source": [
    "sns.heatmap(logChange.cov()*252)"
   ]
  },
  {
   "cell_type": "markdown",
   "metadata": {},
   "source": [
    "# Portfolio with randomly assinged weights"
   ]
  },
  {
   "cell_type": "markdown",
   "metadata": {},
   "source": [
    "#### get random portofolio weights to run simulations"
   ]
  },
  {
   "cell_type": "code",
   "execution_count": 59,
   "metadata": {
    "scrolled": true
   },
   "outputs": [
    {
     "data": {
      "text/plain": [
       "array([0.08912692, 0.11614624, 0.09788834, 0.08848864, 0.06880123,\n",
       "       0.10489274, 0.07106385, 0.14482329, 0.15649814, 0.06227063])"
      ]
     },
     "execution_count": 59,
     "metadata": {},
     "output_type": "execute_result"
    }
   ],
   "source": [
    "np.random.seed(0)\n",
    "weights = np.random.random(len(symbols))\n",
    "weights /= np.sum(weights)\n",
    "weights"
   ]
  },
  {
   "cell_type": "code",
   "execution_count": 60,
   "metadata": {
    "scrolled": true
   },
   "outputs": [
    {
     "data": {
      "text/plain": [
       "-0.015501928224894353"
      ]
     },
     "execution_count": 60,
     "metadata": {},
     "output_type": "execute_result"
    }
   ],
   "source": [
    "#expeced annual return of portfolio\n",
    "np.sum(logChange.mean()*weights)*252"
   ]
  },
  {
   "cell_type": "code",
   "execution_count": 61,
   "metadata": {},
   "outputs": [
    {
     "data": {
      "text/plain": [
       "0.023607666484119924"
      ]
     },
     "execution_count": 61,
     "metadata": {},
     "output_type": "execute_result"
    }
   ],
   "source": [
    "#expected annual variance of portfolio\n",
    "np.dot(weights.T, np.dot(logChange.cov() * 252, weights))"
   ]
  },
  {
   "cell_type": "code",
   "execution_count": 62,
   "metadata": {},
   "outputs": [
    {
     "data": {
      "text/plain": [
       "0.1536478652117234"
      ]
     },
     "execution_count": 62,
     "metadata": {},
     "output_type": "execute_result"
    }
   ],
   "source": [
    "#expected annual standard deviation of portfolio (volatility)\n",
    "np.sqrt(np.dot(weights.T, np.dot(logChange.cov() * 252, weights)))"
   ]
  },
  {
   "cell_type": "markdown",
   "metadata": {},
   "source": [
    "# Simulation of portfolios with random weights"
   ]
  },
  {
   "cell_type": "code",
   "execution_count": 63,
   "metadata": {},
   "outputs": [],
   "source": [
    "prets = []  #stores list of portfolio returns\n",
    "pvols = []  #stores list of portolfio volatilities\n",
    "\n",
    "for p in range (5000):\n",
    "    weights = np.random.random(len(symbols))\n",
    "    weights /= np.sum(weights)\n",
    "    prets.append(np.sum(logChange.mean() * weights) * 252)\n",
    "    pvols.append(np.sqrt(np.dot(weights.T, \n",
    "                        np.dot(logChange.cov() * 252, weights))))\n",
    "prets = np.array(prets)\n",
    "pvols = np.array(pvols)"
   ]
  },
  {
   "cell_type": "code",
   "execution_count": 64,
   "metadata": {
    "scrolled": true
   },
   "outputs": [
    {
     "data": {
      "image/png": "[encoded data removed]",
      "text/plain": [
       "<Figure size 432x288 with 2 Axes>"
      ]
     },
     "metadata": {
      "needs_background": "light"
     },
     "output_type": "display_data"
    }
   ],
   "source": [
    "\n",
    "plt.scatter(pvols, prets, c=prets/pvols, marker='o', cmap='coolwarm') # mpl.cm.jet)\n",
    "\n",
    "plt.grid(True)\n",
    "plt.xlabel('expected volatility')\n",
    "plt.ylabel('expected return')\n",
    "plt.colorbar(label='Sharpe ratio') #beta\n",
    "plt.show()"
   ]
  },
  {
   "cell_type": "code",
   "execution_count": 65,
   "metadata": {},
   "outputs": [],
   "source": [
    "def statistics(weights):\n",
    "    ''' Return portfolio statistics.\n",
    "    \n",
    "    Parameters\n",
    "    ==========\n",
    "    weights : array-like\n",
    "    \n",
    "    Returns\n",
    "    =======\n",
    "    pret : float  (portfolio return)\n",
    "    pvol : float   (portfoliio volatility)\n",
    "    pret / pvol : float      #sharp ratio (beta)\n",
    "\n",
    "    '''\n",
    "    riskfree = .0019   #risk free rate .19% (1 Year Treasury Rate is at 0.19%)\n",
    "    weights = np.array(weights)\n",
    "    pret = np.sum(logChange.mean() * weights) * 252\n",
    "    pvol = np.sqrt(np.dot(weights.T, np.dot(logChange.cov() * 252, weights)))\n",
    "    return np.array([pret, pvol, ((pret-riskfree )/ pvol)])"
   ]
  },
  {
   "cell_type": "markdown",
   "metadata": {},
   "source": [
    "### Sharp ratio optimization"
   ]
  },
  {
   "cell_type": "code",
   "execution_count": 66,
   "metadata": {},
   "outputs": [],
   "source": [
    "def min_func_sharpe(weights):\n",
    "    return -statistics(weights)[2]"
   ]
  },
  {
   "cell_type": "code",
   "execution_count": 67,
   "metadata": {},
   "outputs": [
    {
     "data": {
      "text/plain": [
       "{'type': 'eq', 'fun': <function __main__.<lambda>(x)>}"
      ]
     },
     "execution_count": 67,
     "metadata": {},
     "output_type": "execute_result"
    }
   ],
   "source": [
    "cons = ({'type': 'eq', 'fun': lambda x:  np.sum(x) - 1})\n",
    "cons"
   ]
  },
  {
   "cell_type": "code",
   "execution_count": 68,
   "metadata": {},
   "outputs": [
    {
     "data": {
      "text/plain": [
       "array([0.01273507, 0.13198426, 0.08209366])"
      ]
     },
     "execution_count": 68,
     "metadata": {},
     "output_type": "execute_result"
    }
   ],
   "source": [
    "#return, volatility, and sharp ratio when portfolio is weighted equally\n",
    "w = len(symbols)*[1. /len(symbols),]\n",
    "statistics(w)"
   ]
  },
  {
   "cell_type": "code",
   "execution_count": 69,
   "metadata": {
    "scrolled": true
   },
   "outputs": [
    {
     "data": {
      "text/plain": [
       "((0, 1),\n",
       " (0, 1),\n",
       " (0, 1),\n",
       " (0, 1),\n",
       " (0, 1),\n",
       " (0, 1),\n",
       " (0, 1),\n",
       " (0, 1),\n",
       " (0, 1),\n",
       " (0, 1))"
      ]
     },
     "execution_count": 69,
     "metadata": {},
     "output_type": "execute_result"
    }
   ],
   "source": [
    "bnds = tuple((0, 1) for x in range(len(symbols)))\n",
    "bnds"
   ]
  },
  {
   "cell_type": "code",
   "execution_count": 70,
   "metadata": {
    "scrolled": true
   },
   "outputs": [
    {
     "data": {
      "text/plain": [
       "[0.1, 0.1, 0.1, 0.1, 0.1, 0.1, 0.1, 0.1, 0.1, 0.1]"
      ]
     },
     "execution_count": 70,
     "metadata": {},
     "output_type": "execute_result"
    }
   ],
   "source": [
    "#set initial point\n",
    "len(symbols)* [1./len(symbols),]"
   ]
  },
  {
   "cell_type": "markdown",
   "metadata": {},
   "source": [
    "#### Minimize a scalar function of one or more variables using Sequential Least Squares Programming (SLSQP)."
   ]
  },
  {
   "cell_type": "markdown",
   "metadata": {},
   "source": [
    "#### scipy.optimize.minimize(fun, x0, args=(), method=None, jac=None, hess=None, hessp=None, bounds=None, constraints=(), tol=None, callback=None, options=None)"
   ]
  },
  {
   "cell_type": "code",
   "execution_count": 71,
   "metadata": {
    "scrolled": true
   },
   "outputs": [
    {
     "name": "stdout",
     "output_type": "stream",
     "text": [
      "CPU times: user 118 ms, sys: 3.49 ms, total: 122 ms\n",
      "Wall time: 119 ms\n"
     ]
    }
   ],
   "source": [
    "%%time\n",
    "\n",
    "opts = sco.minimize(min_func_sharpe, len(symbols)* [1. / len(symbols),], method='SLSQP',\n",
    "                       bounds=bnds, constraints=cons)\n"
   ]
  },
  {
   "cell_type": "code",
   "execution_count": 72,
   "metadata": {
    "scrolled": true
   },
   "outputs": [
    {
     "data": {
      "text/plain": [
       "     fun: -3.454153107430797\n",
       "     jac: array([ 5.34248221,  3.39404589,  1.89861748, -0.01834503,  0.29829845,\n",
       "       -0.01825339,  1.26006672,  2.6160959 ,  8.73296815,  2.25421643])\n",
       " message: 'Optimization terminated successfully.'\n",
       "    nfev: 73\n",
       "     nit: 6\n",
       "    njev: 6\n",
       "  status: 0\n",
       " success: True\n",
       "       x: array([1.69896015e-13, 1.36569954e-13, 0.00000000e+00, 2.98837676e-01,\n",
       "       2.28110803e-14, 7.01162324e-01, 7.10592546e-14, 3.90419992e-14,\n",
       "       2.66907972e-13, 0.00000000e+00])"
      ]
     },
     "execution_count": 72,
     "metadata": {},
     "output_type": "execute_result"
    }
   ],
   "source": [
    "opts"
   ]
  },
  {
   "cell_type": "code",
   "execution_count": 73,
   "metadata": {
    "scrolled": false
   },
   "outputs": [
    {
     "name": "stdout",
     "output_type": "stream",
     "text": [
      "exp return :0.361\n",
      "exp volatility :0.104\n",
      "exp sharp ratio :3.454\n"
     ]
    }
   ],
   "source": [
    "a=opts['x'].round(3)   #opt weights\n",
    "#print(\"exp return :\" + str( np.sum(logChange.mean()*a)*252  )  ).round(3)   #1yr exp return of portfolio with opt weights \n",
    "print(\"exp return :\" + str( statistics(opts['x'].round(3))[0].round(3) ) )\n",
    "print(\"exp volatility :\" + str( statistics(opts['x'].round(3))[1].round(3) )  )\n",
    "print(\"exp sharp ratio :\" + str( statistics(opts['x'].round(3))[2].round(3) )  )"
   ]
  },
  {
   "cell_type": "code",
   "execution_count": 74,
   "metadata": {
    "scrolled": true
   },
   "outputs": [
    {
     "data": {
      "image/png": "[encoded data removed]",
      "text/plain": [
       "<Figure size 432x288 with 2 Axes>"
      ]
     },
     "metadata": {
      "needs_background": "light"
     },
     "output_type": "display_data"
    }
   ],
   "source": [
    "plt.scatter(pvols, prets, c=prets/pvols, marker='o', cmap='RdYlBu')\n",
    "plt.grid(True)\n",
    "plt.xlabel('expected volatility')\n",
    "plt.ylabel('expected return')\n",
    "plt.colorbar(label='Sharpe ratio')\n",
    "\n",
    "#highest sharp ratio\n",
    "pt_opts = statistics(opts['x']).round(3)\n",
    "plt.scatter(pt_opts[1], pt_opts[0], marker=\"*\", s=500, alpha=0.5, color='b')\n",
    "\n",
    "\n",
    "#return, volatility, and sharp ratio when portfolio is weighted equally\n",
    "w = len(symbols)*[1. /len(symbols),]\n",
    "plt.scatter(statistics(w)[1], statistics(w)[0], marker=\"*\", s= 500, alpha=0.5, color='g')\n",
    "\n",
    "\n",
    "# add a red dot for maximum vol & maximum return\n",
    "plt.scatter(pvols.max(), prets.max(), c='black', s=500, alpha=0.5, edgecolors='black')\n",
    "\n",
    "\n",
    "\n",
    "plt.show()"
   ]
  },
  {
   "cell_type": "markdown",
   "metadata": {},
   "source": [
    "### Volatility Optimization"
   ]
  },
  {
   "cell_type": "code",
   "execution_count": 75,
   "metadata": {},
   "outputs": [],
   "source": [
    "def min_func_variance(weights):\n",
    "    return statistics(weights)[1] ** 2"
   ]
  },
  {
   "cell_type": "code",
   "execution_count": 76,
   "metadata": {},
   "outputs": [],
   "source": [
    "optv = sco.minimize(min_func_variance,  len(symbols) * [1. / len(symbols),], method='SLSQP',\n",
    "                       bounds=bnds, constraints=cons)"
   ]
  },
  {
   "cell_type": "code",
   "execution_count": 77,
   "metadata": {
    "scrolled": true
   },
   "outputs": [
    {
     "data": {
      "text/plain": [
       "     fun: 0.004558826149537474\n",
       "     jac: array([0.0093635 , 0.01438813, 0.00994485, 0.00900327, 0.00920104,\n",
       "       0.00934825, 0.01096223, 0.00910001, 0.01316655, 0.00902991])\n",
       " message: 'Optimization terminated successfully.'\n",
       "    nfev: 265\n",
       "     nit: 22\n",
       "    njev: 22\n",
       "  status: 0\n",
       " success: True\n",
       "       x: array([1.95308189e-02, 4.26904605e-18, 0.00000000e+00, 1.03793768e-01,\n",
       "       2.52718219e-01, 8.45319554e-02, 0.00000000e+00, 1.99658516e-01,\n",
       "       0.00000000e+00, 3.39766723e-01])"
      ]
     },
     "execution_count": 77,
     "metadata": {},
     "output_type": "execute_result"
    }
   ],
   "source": [
    "optv"
   ]
  },
  {
   "cell_type": "code",
   "execution_count": 78,
   "metadata": {},
   "outputs": [
    {
     "data": {
      "image/png": "[encoded data removed]",
      "text/plain": [
       "<Figure size 432x288 with 2 Axes>"
      ]
     },
     "metadata": {
      "needs_background": "light"
     },
     "output_type": "display_data"
    }
   ],
   "source": [
    "plt.scatter(pvols, prets, c=prets/pvols, marker='o', cmap='RdYlBu')\n",
    "plt.grid(True)\n",
    "plt.xlabel('expected volatility')\n",
    "plt.ylabel('expected return')\n",
    "plt.colorbar(label='Sharpe ratio')\n",
    "\n",
    "#highest sharp ratio\n",
    "pt_opts = statistics(opts['x']).round(3)\n",
    "plt.scatter(pt_opts[1], pt_opts[0], marker=\"*\", s=500, alpha=0.5, color='b')\n",
    "\n",
    "\n",
    "# Optimal (minimum) volatility\n",
    "pt_optv = statistics(optv['x']).round(3)\n",
    "plt.plot(pt_optv[1], pt_optv[0], marker=\"*\", markersize=20, alpha=0.5, color='r')\n",
    "#plt.plot(statistics(optv['x'])[1], statistics(optv['x'])[0], 'y*', markersize=20, color='r')\n",
    "           \n",
    "    \n",
    "plt.show()"
   ]
  },
  {
   "cell_type": "markdown",
   "metadata": {},
   "source": [
    "# Efficient Frontier"
   ]
  },
  {
   "cell_type": "markdown",
   "metadata": {},
   "source": [
    "## Minimum variance frontier"
   ]
  },
  {
   "cell_type": "code",
   "execution_count": 79,
   "metadata": {},
   "outputs": [],
   "source": [
    "cons = ({'type': 'eq', 'fun': lambda x:  statistics(x)[0] - tret},\n",
    "        {'type': 'eq', 'fun': lambda x:  np.sum(x) - 1})\n",
    "bnds = tuple((0, 1) for x in weights)"
   ]
  },
  {
   "cell_type": "code",
   "execution_count": 80,
   "metadata": {},
   "outputs": [],
   "source": [
    "def min_func_port(weights):\n",
    "    return statistics(weights)[1]"
   ]
  },
  {
   "cell_type": "code",
   "execution_count": 81,
   "metadata": {},
   "outputs": [
    {
     "data": {
      "text/plain": [
       "(-0.15516056652774401, 0.1795509240397122, 0.361)"
      ]
     },
     "execution_count": 81,
     "metadata": {},
     "output_type": "execute_result"
    }
   ],
   "source": [
    "prets.min(), prets.max(), pt_opts[0]"
   ]
  },
  {
   "cell_type": "code",
   "execution_count": 82,
   "metadata": {},
   "outputs": [
    {
     "name": "stdout",
     "output_type": "stream",
     "text": [
      "CPU times: user 8.12 s, sys: 10 ms, total: 8.13 s\n",
      "Wall time: 8.13 s\n"
     ]
    }
   ],
   "source": [
    "%%time\n",
    "\n",
    "\n",
    "trets = np.linspace( prets.min() , max(prets.max(), pt_opts[0].max()), 50)\n",
    "tvols = []\n",
    "for tret in trets:       #getting weight where minimum volatility occurs for each returned value\n",
    "    cons = ({'type': 'eq', 'fun': lambda x:  statistics(x)[0] - tret},\n",
    "            {'type': 'eq', 'fun': lambda x:  np.sum(x) - 1})\n",
    "    res = sco.minimize(min_func_port, len(symbols)* [1. / len(symbols),], method='SLSQP',\n",
    "                       bounds=bnds, constraints=cons)\n",
    "    tvols.append(res['fun'])\n",
    "tvols = np.array(tvols)"
   ]
  },
  {
   "cell_type": "code",
   "execution_count": 83,
   "metadata": {},
   "outputs": [
    {
     "data": {
      "text/plain": [
       "array([0.07333975, 0.07248003, 0.07172498, 0.07102898, 0.07039637,\n",
       "       0.06982739, 0.06932362, 0.06888647, 0.06851919, 0.06823618,\n",
       "       0.06800085, 0.0678116 , 0.06766886, 0.06757306, 0.06752399,\n",
       "       0.06752256, 0.06756761, 0.0676596 , 0.06780616, 0.06802749,\n",
       "       0.06832408, 0.06869531, 0.06913866, 0.06965407, 0.07023956,\n",
       "       0.07089336, 0.07161388, 0.07239891, 0.07324546, 0.07415285,\n",
       "       0.07511831, 0.07613965, 0.07721463, 0.07834103, 0.07951666,\n",
       "       0.08073935, 0.08200802, 0.08331799, 0.08467096, 0.08606024,\n",
       "       0.08748749, 0.08895856, 0.09049211, 0.09209415, 0.09376109,\n",
       "       0.09548449, 0.09726634, 0.09917557, 0.10139124, 0.10396188])"
      ]
     },
     "execution_count": 83,
     "metadata": {},
     "output_type": "execute_result"
    }
   ],
   "source": [
    "tvols"
   ]
  },
  {
   "cell_type": "code",
   "execution_count": 84,
   "metadata": {},
   "outputs": [
    {
     "data": {
      "image/png": "[encoded data removed]",
      "text/plain": [
       "<Figure size 432x288 with 2 Axes>"
      ]
     },
     "metadata": {
      "needs_background": "light"
     },
     "output_type": "display_data"
    }
   ],
   "source": [
    "# rangdomly weighted sample portfolio simulations\n",
    "plt.scatter(pvols, prets, c=prets / pvols, marker='o', cmap='RdYlBu')\n",
    "\n",
    "\n",
    "# Minimum variance frontier\n",
    "plt.scatter(tvols, trets, c=trets / tvols, marker='x', s=70, linewidth=2, cmap='plasma')\n",
    "            \n",
    "    \n",
    "#highest sharp ratio\n",
    "pt_opts = statistics(opts['x']).round(3)\n",
    "plt.scatter(pt_opts[1], pt_opts[0], marker=\"*\", s=500, alpha=0.5, color='b')\n",
    "\n",
    "\n",
    "# Optimal (minimum) volatility\n",
    "pt_optv = statistics(optv['x']).round(3)\n",
    "plt.plot(pt_optv[1], pt_optv[0], marker=\"*\", markersize=20, alpha=0.5, color='r')\n",
    "#plt.plot(statistics(optv['x'])[1], statistics(optv['x'])[0], 'y*', markersize=20, color='r')\n",
    "\n",
    " \n",
    "plt.grid(True)\n",
    "plt.xlabel('expected volatility')\n",
    "plt.ylabel('expected return')\n",
    "plt.colorbar(label='Sharpe ratio')\n",
    "plt.show()"
   ]
  },
  {
   "cell_type": "markdown",
   "metadata": {},
   "source": [
    "## Efficient frontier"
   ]
  },
  {
   "cell_type": "code",
   "execution_count": 85,
   "metadata": {},
   "outputs": [],
   "source": [
    "import scipy.interpolate as sci"
   ]
  },
  {
   "cell_type": "code",
   "execution_count": 86,
   "metadata": {},
   "outputs": [
    {
     "data": {
      "text/plain": [
       "15"
      ]
     },
     "execution_count": 86,
     "metadata": {},
     "output_type": "execute_result"
    }
   ],
   "source": [
    "np.argmin(tvols) #find index of minimum value of volatility \n"
   ]
  },
  {
   "cell_type": "code",
   "execution_count": 87,
   "metadata": {},
   "outputs": [],
   "source": [
    "ind = np.argmin(tvols)\n",
    "evols = tvols[ind:]    #include array only up to the index of minimum volatility\n",
    "erets = trets[ind:]\n"
   ]
  },
  {
   "cell_type": "code",
   "execution_count": 88,
   "metadata": {
    "scrolled": true
   },
   "outputs": [],
   "source": [
    "tck = sci.splrep(evols, erets)"
   ]
  },
  {
   "cell_type": "code",
   "execution_count": 89,
   "metadata": {},
   "outputs": [
    {
     "data": {
      "text/plain": [
       "array(-1122127.79817494)"
      ]
     },
     "execution_count": 89,
     "metadata": {},
     "output_type": "execute_result"
    }
   ],
   "source": [
    "def f(x):\n",
    "    ''' efficient frontier (spline) '''\n",
    "    return sci.splev(x, tck, der=0)\n",
    "\n",
    "def df(x):\n",
    "    ''' efficient frontier (first derivative)'''\n",
    "    return sci.splev(x, tck, der=1)\n",
    "f(0)"
   ]
  },
  {
   "cell_type": "code",
   "execution_count": 90,
   "metadata": {
    "scrolled": true
   },
   "outputs": [
    {
     "data": {
      "image/png": "[encoded data removed]",
      "text/plain": [
       "<Figure size 432x288 with 2 Axes>"
      ]
     },
     "metadata": {
      "needs_background": "light"
     },
     "output_type": "display_data"
    }
   ],
   "source": [
    "# rangdomly weighted sample portfolio simulations\n",
    "plt.scatter(pvols, prets, c=prets / pvols, marker='o', cmap='RdYlBu')\n",
    "\n",
    "\n",
    "# Efficient frontier\n",
    "plt.plot(evols, f(evols), lw=8, alpha=0.4, color='green')  \n",
    "\n",
    "# Minimum variance frontier\n",
    "plt.scatter(tvols, trets, c=trets / tvols, marker='x', s=70, linewidth=2, cmap='plasma')\n",
    "            \n",
    "#highest sharp ratio\n",
    "pt_opts = statistics(opts['x']).round(3)\n",
    "plt.scatter(pt_opts[1], pt_opts[0], marker=\"*\", s=500, alpha=0.5, color='b')\n",
    "\n",
    "# Optimal (minimum) volatility\n",
    "pt_optv = statistics(optv['x']).round(3)\n",
    "plt.plot(pt_optv[1], pt_optv[0], marker=\"*\", markersize=20, alpha=0.5, color='r')\n",
    "#plt.plot(statistics(optv['x'])[1], statistics(optv['x'])[0], 'y*', markersize=20, color='r')\n",
    " \n",
    "\n",
    "plt.grid(True)\n",
    "plt.xlabel('expected volatility')\n",
    "plt.ylabel('expected return')\n",
    "plt.colorbar(label='Sharpe ratio')\n",
    "plt.show()"
   ]
  },
  {
   "cell_type": "markdown",
   "metadata": {},
   "source": [
    "## Capital market line (CML)"
   ]
  },
  {
   "cell_type": "code",
   "execution_count": 91,
   "metadata": {},
   "outputs": [
    {
     "data": {
      "text/plain": [
       "0.0019"
      ]
     },
     "execution_count": 91,
     "metadata": {},
     "output_type": "execute_result"
    }
   ],
   "source": [
    "riskfree"
   ]
  },
  {
   "cell_type": "code",
   "execution_count": 92,
   "metadata": {},
   "outputs": [],
   "source": [
    "def equations(p, rf=riskfree):\n",
    "    eq1 = rf-p[0]\n",
    "    eq2 = rf + p[1] * p[2] - f(p[2])\n",
    "    eq3 = p[1] - df(p[2])\n",
    "    return eq1, eq2, eq3"
   ]
  },
  {
   "cell_type": "code",
   "execution_count": 93,
   "metadata": {},
   "outputs": [
    {
     "data": {
      "text/plain": [
       "(0.12139113113180552, 0.0897754620198561)"
      ]
     },
     "execution_count": 93,
     "metadata": {},
     "output_type": "execute_result"
    }
   ],
   "source": [
    "pvols.max()/2, prets.max()/2\n"
   ]
  },
  {
   "cell_type": "code",
   "execution_count": 94,
   "metadata": {},
   "outputs": [
    {
     "name": "stderr",
     "output_type": "stream",
     "text": [
      "/Users/reejungkim/opt/anaconda3/envs/myenv/lib/python3.7/site-packages/scipy/optimize/minpack.py:162: RuntimeWarning: The iteration is not making good progress, as measured by the \n",
      "  improvement from the last ten iterations.\n",
      "  warnings.warn(msg, RuntimeWarning)\n"
     ]
    },
    {
     "data": {
      "text/plain": [
       "array([1.90000000e-03, 3.80571112e+00, 1.05461923e-01])"
      ]
     },
     "execution_count": 94,
     "metadata": {},
     "output_type": "execute_result"
    }
   ],
   "source": [
    "opt = sco.fsolve(equations,[ riskfree, pvols.max()/2, prets.max()/2])\n",
    "opt"
   ]
  },
  {
   "cell_type": "code",
   "execution_count": 95,
   "metadata": {},
   "outputs": [
    {
     "data": {
      "text/plain": [
       "array([ 0.        ,  0.03650414, -0.00384767])"
      ]
     },
     "execution_count": 95,
     "metadata": {},
     "output_type": "execute_result"
    }
   ],
   "source": [
    "np.round(equations(opt), 8)"
   ]
  },
  {
   "cell_type": "code",
   "execution_count": 96,
   "metadata": {},
   "outputs": [
    {
     "data": {
      "image/png": "[encoded data removed]",
      "text/plain": [
       "<Figure size 432x288 with 2 Axes>"
      ]
     },
     "metadata": {
      "needs_background": "light"
     },
     "output_type": "display_data"
    }
   ],
   "source": [
    "# rangdomly weighted sample portfolio simulations\n",
    "plt.scatter(pvols, prets, c=prets / pvols, marker='o', cmap='RdYlBu')\n",
    "\n",
    "\n",
    "# Efficient frontier\n",
    "plt.plot(evols, f(evols), lw=8, alpha=0.4, color='green')  \n",
    "\n",
    "# Minimum variance frontier\n",
    "plt.scatter(tvols, trets, c=trets / tvols, marker='x', s=70, linewidth=2, cmap='plasma')\n",
    "            \n",
    "#highest sharp ratio\n",
    "pt_opts = statistics(opts['x']).round(3)\n",
    "plt.scatter(pt_opts[1], pt_opts[0], marker=\"*\", s=500, alpha=0.5, color='b')\n",
    "\n",
    "# Optimal (minimum) volatility\n",
    "pt_optv = statistics(optv['x']).round(3)\n",
    "plt.plot(pt_optv[1], pt_optv[0], marker=\"*\", markersize=20, alpha=0.5, color='r')\n",
    "#plt.plot(statistics(optv['x'])[1], statistics(optv['x'])[0], 'y*', markersize=20, color='r')\n",
    " \n",
    "\n",
    "\n",
    " \n",
    "#Capital market line\n",
    "cx = np.linspace(riskfree, 0.3 )   # (0.0, 0.3)\n",
    "plt.plot(cx, opt[0] + opt[1] * cx, lw=3, alpha=0.2, ) \n",
    "    \n",
    "    \n",
    "#optimal portfolio  \n",
    "plt.plot(opt[2], f(opt[2]), 'r*', markersize=25.0, color='black') \n",
    "\n",
    "\n",
    "plt.grid(True)\n",
    "plt.axhline(0.0, color='k', ls='--', lw=2.0)\n",
    "plt.axvline(0.0, color='k', ls='--', lw=2.0)\n",
    "plt.xlabel('expected volatility')\n",
    "plt.ylabel('expected return')\n",
    "plt.colorbar(label='Sharpe ratio')\n",
    "plt.show()"
   ]
  },
  {
   "cell_type": "markdown",
   "metadata": {},
   "source": [
    "#### Optimal portfolio weights"
   ]
  },
  {
   "cell_type": "code",
   "execution_count": 97,
   "metadata": {},
   "outputs": [
    {
     "data": {
      "text/plain": [
       "['T', 'GE', 'QCOM', 'CSCO', 'CL', 'PEP', 'VZ', 'GILD', 'KMI', 'ORCL']"
      ]
     },
     "execution_count": 97,
     "metadata": {},
     "output_type": "execute_result"
    }
   ],
   "source": [
    "symbols"
   ]
  },
  {
   "cell_type": "code",
   "execution_count": 98,
   "metadata": {},
   "outputs": [
    {
     "data": {
      "text/plain": [
       "array([0.   , 0.   , 0.   , 0.271, 0.   , 0.729, 0.   , 0.   , 0.   ,\n",
       "       0.   ])"
      ]
     },
     "execution_count": 98,
     "metadata": {},
     "output_type": "execute_result"
    }
   ],
   "source": [
    "cons = ({'type': 'eq', 'fun': lambda x:  statistics(x)[0] - f(opt[2])},\n",
    "        {'type': 'eq', 'fun': lambda x:  np.sum(x) - 1})\n",
    "res = sco.minimize(min_func_port, len(symbols) * [1. / len(symbols),], method='SLSQP',\n",
    "                       bounds=bnds, constraints=cons)\n",
    "res['x'].round(3)"
   ]
  },
  {
   "cell_type": "code",
   "execution_count": 99,
   "metadata": {},
   "outputs": [
    {
     "data": {
      "text/plain": [
       "array([0.36665609, 0.10584936, 3.44599255])"
      ]
     },
     "execution_count": 99,
     "metadata": {},
     "output_type": "execute_result"
    }
   ],
   "source": [
    "statistics(res['x'].round(3))"
   ]
  },
  {
   "cell_type": "markdown",
   "metadata": {},
   "source": [
    "#### return, volatility, and sharp ratio expected with the optimal weights"
   ]
  },
  {
   "cell_type": "code",
   "execution_count": 100,
   "metadata": {},
   "outputs": [
    {
     "data": {
      "text/plain": [
       "[('T', 0.0),\n",
       " ('GE', 0.0),\n",
       " ('QCOM', 0.0),\n",
       " ('CSCO', 0.271),\n",
       " ('CL', 0.0),\n",
       " ('PEP', 0.729),\n",
       " ('VZ', 0.0),\n",
       " ('GILD', 0.0),\n",
       " ('KMI', 0.0),\n",
       " ('ORCL', 0.0)]"
      ]
     },
     "execution_count": 100,
     "metadata": {},
     "output_type": "execute_result"
    }
   ],
   "source": [
    "portfolio = list(zip(symbols, res['x'].round(3)))\n",
    "portfolio"
   ]
  },
  {
   "cell_type": "code",
   "execution_count": 101,
   "metadata": {},
   "outputs": [],
   "source": [
    "def format_column_number(dataframe, listCols):\n",
    "    for col in listCols:\n",
    "        try:\n",
    "            dataframe[col]= pd.Series([round(val, 2 ) for val in dataframe[col]], index= dataframe.index)\n",
    "        except ValueError:  #skips error when the column is in format already\n",
    "            dataframe[col] = dataframe[col]\n",
    "            pass\n",
    "    return dataframe\n",
    "\n",
    "def format_column_percentage(dataframe, listCols):\n",
    "    for col in listCols:\n",
    "        try:\n",
    "            dataframe[col] = pd.Series([\"{0:.2f}%\".format(val*100) for val in dataframe[col]], index= dataframe.index)\n",
    "        except ValueError:  #skips error when the column is in format already\n",
    "            dataframe[col] = dataframe[col]\n",
    "        \n",
    "    return dataframe"
   ]
  },
  {
   "cell_type": "code",
   "execution_count": 102,
   "metadata": {},
   "outputs": [
    {
     "data": {
      "text/html": [
       "<div>\n",
       "<style scoped>\n",
       "    .dataframe tbody tr th:only-of-type {\n",
       "        vertical-align: middle;\n",
       "    }\n",
       "\n",
       "    .dataframe tbody tr th {\n",
       "        vertical-align: top;\n",
       "    }\n",
       "\n",
       "    .dataframe thead th {\n",
       "        text-align: right;\n",
       "    }\n",
       "</style>\n",
       "<table border=\"1\" class=\"dataframe\">\n",
       "  <thead>\n",
       "    <tr style=\"text-align: right;\">\n",
       "      <th></th>\n",
       "      <th>Exp return</th>\n",
       "      <th>Weight</th>\n",
       "    </tr>\n",
       "    <tr>\n",
       "      <th>Symbol</th>\n",
       "      <th></th>\n",
       "      <th></th>\n",
       "    </tr>\n",
       "  </thead>\n",
       "  <tbody>\n",
       "    <tr>\n",
       "      <th>CL</th>\n",
       "      <td>0.00%</td>\n",
       "      <td>0.00%</td>\n",
       "    </tr>\n",
       "    <tr>\n",
       "      <th>CSCO</th>\n",
       "      <td>5.85%</td>\n",
       "      <td>27.10%</td>\n",
       "    </tr>\n",
       "    <tr>\n",
       "      <th>GE</th>\n",
       "      <td>0.00%</td>\n",
       "      <td>0.00%</td>\n",
       "    </tr>\n",
       "    <tr>\n",
       "      <th>GILD</th>\n",
       "      <td>0.00%</td>\n",
       "      <td>0.00%</td>\n",
       "    </tr>\n",
       "    <tr>\n",
       "      <th>KMI</th>\n",
       "      <td>0.00%</td>\n",
       "      <td>0.00%</td>\n",
       "    </tr>\n",
       "    <tr>\n",
       "      <th>ORCL</th>\n",
       "      <td>0.00%</td>\n",
       "      <td>0.00%</td>\n",
       "    </tr>\n",
       "    <tr>\n",
       "      <th>PEP</th>\n",
       "      <td>30.81%</td>\n",
       "      <td>72.90%</td>\n",
       "    </tr>\n",
       "    <tr>\n",
       "      <th>QCOM</th>\n",
       "      <td>0.00%</td>\n",
       "      <td>0.00%</td>\n",
       "    </tr>\n",
       "    <tr>\n",
       "      <th>T</th>\n",
       "      <td>0.00%</td>\n",
       "      <td>0.00%</td>\n",
       "    </tr>\n",
       "    <tr>\n",
       "      <th>VZ</th>\n",
       "      <td>0.00%</td>\n",
       "      <td>0.00%</td>\n",
       "    </tr>\n",
       "    <tr>\n",
       "      <th>All</th>\n",
       "      <td>36.67%</td>\n",
       "      <td>100.00%</td>\n",
       "    </tr>\n",
       "  </tbody>\n",
       "</table>\n",
       "</div>"
      ],
      "text/plain": [
       "       Exp return   Weight\n",
       "Symbol                    \n",
       "CL          0.00%    0.00%\n",
       "CSCO        5.85%   27.10%\n",
       "GE          0.00%    0.00%\n",
       "GILD        0.00%    0.00%\n",
       "KMI         0.00%    0.00%\n",
       "ORCL        0.00%    0.00%\n",
       "PEP        30.81%   72.90%\n",
       "QCOM        0.00%    0.00%\n",
       "T           0.00%    0.00%\n",
       "VZ          0.00%    0.00%\n",
       "All        36.67%  100.00%"
      ]
     },
     "execution_count": 102,
     "metadata": {},
     "output_type": "execute_result"
    }
   ],
   "source": [
    "summary_output = pd.DataFrame({'Symbol': symbols})\n",
    "summary_output['Weight'] = res['x'].round(3)\n",
    "\n",
    "summary_output = pd.merge(summary_output , (logChange.mean()*252).reset_index(name='temp'))\n",
    "\n",
    "summary_output['Exp return'] = summary_output['Weight']*summary_output['temp']\n",
    "\n",
    "summary_output = summary_output.pivot_table(index='Symbol', values=['Weight', 'Exp return']  , aggfunc=np.sum, margins=True)\n",
    "\n",
    "\n",
    "format_column_percentage(summary_output, ['Exp return', 'Weight'])\n",
    "summary_output"
   ]
  },
  {
   "cell_type": "code",
   "execution_count": 270,
   "metadata": {},
   "outputs": [],
   "source": [
    "today = dt.datetime.today().strftime('%Y-%m-%d')\n",
    "pdf_file_name = \"Report \"+ today +\".pdf\""
   ]
  },
  {
   "cell_type": "code",
   "execution_count": 271,
   "metadata": {},
   "outputs": [],
   "source": [
    "def PrepareTableForReportLab(dataframe):\n",
    "    \n",
    "    data = dataframe\n",
    "\n",
    "    'handling grouped first index column'\n",
    "    a= []\n",
    "    for i in range(len(data)):\n",
    "        #print(i, data.index.get_level_values(0)[i])\n",
    "        if data.index.get_level_values(0)[i-1] == data.index.get_level_values(0)[i]:\n",
    "            a.append(i)\n",
    "    a.sort(reverse=True)\n",
    "\n",
    "    as_list = data.index.get_level_values(0).tolist()\n",
    "    for i in a:\n",
    "        as_list[i] = \"\"\n",
    "\n",
    "        \n",
    "    'flat dataframe'\n",
    "    data = data.reset_index()\n",
    "    'remove duplicated values from first column which was index before resetting index'\n",
    "    first_col_name = data.columns[0]\n",
    "    data[first_col_name] = as_list \n",
    "    \n",
    "    #data = dataframe.reset_index()\n",
    "    #colwidths = 800/len(data.columns) \n",
    "    data = [data.columns.to_list()] + data.values.tolist() \n",
    "\n",
    "    #tbl = Table(data) # \n",
    "    tbl = Table(data) #, colwidths ) #, rowheights)\n",
    "    tbl.setStyle(TableStyle([\n",
    "    ('INNERGRID', (0, 0), (-1, -1), 0.25, colors.black),\n",
    "    ('BOX', (0, 0), (-1, -1), 0.25, colors.black),\n",
    "    ('ALIGN', (1,1), (-1,-1), 'RIGHT'),\n",
    "    ('BACKGROUND', (0,0), (-1,0), colors.Color(0,0.7,0.7))\n",
    "    ]))\n",
    "    \n",
    "    return tbl"
   ]
  },
  {
   "cell_type": "code",
   "execution_count": 272,
   "metadata": {},
   "outputs": [],
   "source": [
    "story = []"
   ]
  },
  {
   "cell_type": "code",
   "execution_count": 273,
   "metadata": {
    "scrolled": true
   },
   "outputs": [],
   "source": [
    "story.append(Paragraph(\"Portfolio\", getSampleStyleSheet()['Heading1']))\n",
    "story.append(PrepareTableForReportLab(summary_output))\n",
    "\n",
    "story.append(PageBreak())"
   ]
  },
  {
   "cell_type": "code",
   "execution_count": null,
   "metadata": {},
   "outputs": [],
   "source": []
  },
  {
   "cell_type": "code",
   "execution_count": 274,
   "metadata": {},
   "outputs": [],
   "source": [
    "doc = SimpleDocTemplate(pdf_file_name, pagesize = landscape(letter), topMargin = inch * .25, bottomMargin = inch * .25)\n",
    "doc.build(story)"
   ]
  },
  {
   "cell_type": "code",
   "execution_count": 276,
   "metadata": {
    "scrolled": true
   },
   "outputs": [
    {
     "data": {
      "text/plain": [
       "CompletedProcess(args=['open', 'Report 2020-07-05.pdf'], returncode=0)"
      ]
     },
     "execution_count": 276,
     "metadata": {},
     "output_type": "execute_result"
    }
   ],
   "source": [
    "#Open pdf file generated\n",
    "subprocess.run(['open', pdf_file_name], check=True)"
   ]
  },
  {
   "cell_type": "code",
   "execution_count": null,
   "metadata": {},
   "outputs": [],
   "source": []
  }
 ],
 "metadata": {
  "kernelspec": {
   "display_name": "Python 3",
   "language": "python",
   "name": "python3"
  },
  "language_info": {
   "codemirror_mode": {
    "name": "ipython",
    "version": 3
   },
   "file_extension": ".py",
   "mimetype": "text/x-python",
   "name": "python",
   "nbconvert_exporter": "python",
   "pygments_lexer": "ipython3",
   "version": "3.7.7"
  }
 },
 "nbformat": 4,
 "nbformat_minor": 4
}
