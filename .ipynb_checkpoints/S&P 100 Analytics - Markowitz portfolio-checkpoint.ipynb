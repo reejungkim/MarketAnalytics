{
 "cells": [
  {
   "cell_type": "code",
   "execution_count": 1,
   "metadata": {},
   "outputs": [
    {
     "name": "stderr",
     "output_type": "stream",
     "text": [
      "/Users/reejungkim/opt/anaconda3/envs/myenv/lib/python3.7/site-packages/pandas_datareader/compat/__init__.py:7: FutureWarning: pandas.util.testing is deprecated. Use the functions in the public API at pandas.testing instead.\n",
      "  from pandas.util.testing import assert_frame_equal\n"
     ]
    }
   ],
   "source": [
    "import timeit\n",
    "import datetime as dt\n",
    "import os\n",
    "import subprocess \n",
    "\n",
    "import pandas as pd\n",
    "import numpy as np\n",
    "\n",
    "#for portofolio optimization \n",
    "import scipy.optimize as sco\n",
    "\n",
    "\n",
    "#visualization\n",
    "import matplotlib.pyplot as plt\n",
    "#import plotly.graph_objs as go\n",
    "%matplotlib inline\n",
    "#visualization with seaborn\n",
    "import seaborn as sns\n",
    "#visualization with plotly \n",
    "import plotly.graph_objects as go #for candle chart visualization\n",
    "import plotly.express as px #for html output\n",
    "\n",
    "\n",
    "#to get financial data\n",
    "from pandas_datareader import data as pdr\n",
    "\n",
    "\n",
    "#for webscraping \n",
    "import requests\n",
    "from bs4 import BeautifulSoup \n",
    "from selenium import webdriver\n",
    "from selenium.webdriver.common.keys import Keys\n",
    "import pandas as pd\n",
    "import requests\n",
    "\n",
    "\n",
    "#for pdf report generation\n",
    "from reportlab.pdfgen import canvas\n",
    "from reportlab.platypus import *\n",
    "from reportlab.lib import colors\n",
    "from reportlab.lib.pagesizes import letter, landscape\n",
    "from reportlab.lib.styles import getSampleStyleSheet, ParagraphStyle\n",
    "from reportlab.lib.units import inch\n",
    "from reportlab.platypus.tableofcontents import TableOfContents\n"
   ]
  },
  {
   "cell_type": "code",
   "execution_count": 2,
   "metadata": {},
   "outputs": [
    {
     "name": "stdout",
     "output_type": "stream",
     "text": [
      "days to search financial data:100\n"
     ]
    }
   ],
   "source": [
    "days_to_lookback = int (input('days to search financial data:'))"
   ]
  },
  {
   "cell_type": "code",
   "execution_count": 3,
   "metadata": {},
   "outputs": [],
   "source": [
    "date_end = dt.datetime.now() #.today()\n",
    "date_start = date_end - dt.timedelta(days_to_lookback)"
   ]
  },
  {
   "cell_type": "markdown",
   "metadata": {},
   "source": [
    "# Create timestamped folder to save reports created later"
   ]
  },
  {
   "cell_type": "code",
   "execution_count": 4,
   "metadata": {},
   "outputs": [
    {
     "data": {
      "text/plain": [
       "'2020-07-03 11-31-36'"
      ]
     },
     "execution_count": 4,
     "metadata": {},
     "output_type": "execute_result"
    }
   ],
   "source": [
    "#timestamp = str(dt.datetime.now()) <- '2020-06-26 20:26:08.775766'  \n",
    "timestamp =  dt.datetime.now().strftime('%Y-%m-%d %H-%M-%S')\n",
    "timestamp"
   ]
  },
  {
   "cell_type": "code",
   "execution_count": 5,
   "metadata": {},
   "outputs": [
    {
     "data": {
      "text/plain": [
       "'/Users/reejungkim/Documents/Git/reporting automation/2020-07-03 11-31-36'"
      ]
     },
     "execution_count": 5,
     "metadata": {},
     "output_type": "execute_result"
    }
   ],
   "source": [
    "path = os.getcwd() \n",
    "reportDir = os.path.join(path,timestamp)\n",
    "reportDir"
   ]
  },
  {
   "cell_type": "code",
   "execution_count": 6,
   "metadata": {},
   "outputs": [],
   "source": [
    "#create named folder\n",
    "os.makedirs(reportDir, exist_ok = False)"
   ]
  },
  {
   "cell_type": "code",
   "execution_count": 7,
   "metadata": {},
   "outputs": [],
   "source": [
    "os.chdir(reportDir)"
   ]
  },
  {
   "cell_type": "markdown",
   "metadata": {},
   "source": [
    "# Web scraping S&P100 companies from Wikipedia table"
   ]
  },
  {
   "cell_type": "code",
   "execution_count": 8,
   "metadata": {},
   "outputs": [],
   "source": [
    "website_url = requests.get(\"https://en.wikipedia.org/wiki/S%26P_100\").text\n",
    "\n",
    "soup = BeautifulSoup(website_url,'lxml')\n",
    "#print(soup.prettify())"
   ]
  },
  {
   "cell_type": "code",
   "execution_count": 9,
   "metadata": {},
   "outputs": [],
   "source": [
    "wiki_table = soup.find('table',{'class':'wikitable sortable'})"
   ]
  },
  {
   "cell_type": "code",
   "execution_count": 10,
   "metadata": {},
   "outputs": [],
   "source": [
    "data = []\n",
    "tHeader = []\n",
    "SP100_tickers = pd.DataFrame()\n",
    "\n",
    "for tr in wiki_table.find_all(\"tr\"):\n",
    "    for th in tr.find_all(\"th\")[:1]:\n",
    "        tHeader = th.get_text(strip=True)\n",
    "        SP100_tickers[tHeader] = []\n",
    "    for td in tr.find_all(\"td\")[:1]:\n",
    "        data.append( td.get_text(strip=True))\n",
    "        \n",
    "SP100_tickers[tHeader] = data"
   ]
  },
  {
   "cell_type": "code",
   "execution_count": 11,
   "metadata": {
    "scrolled": true
   },
   "outputs": [
    {
     "data": {
      "text/html": [
       "<div>\n",
       "<style scoped>\n",
       "    .dataframe tbody tr th:only-of-type {\n",
       "        vertical-align: middle;\n",
       "    }\n",
       "\n",
       "    .dataframe tbody tr th {\n",
       "        vertical-align: top;\n",
       "    }\n",
       "\n",
       "    .dataframe thead th {\n",
       "        text-align: right;\n",
       "    }\n",
       "</style>\n",
       "<table border=\"1\" class=\"dataframe\">\n",
       "  <thead>\n",
       "    <tr style=\"text-align: right;\">\n",
       "      <th></th>\n",
       "      <th>Symbol</th>\n",
       "    </tr>\n",
       "  </thead>\n",
       "  <tbody>\n",
       "    <tr>\n",
       "      <th>0</th>\n",
       "      <td>AAPL</td>\n",
       "    </tr>\n",
       "    <tr>\n",
       "      <th>1</th>\n",
       "      <td>ABBV</td>\n",
       "    </tr>\n",
       "    <tr>\n",
       "      <th>2</th>\n",
       "      <td>ABT</td>\n",
       "    </tr>\n",
       "    <tr>\n",
       "      <th>3</th>\n",
       "      <td>ACN</td>\n",
       "    </tr>\n",
       "    <tr>\n",
       "      <th>4</th>\n",
       "      <td>ADBE</td>\n",
       "    </tr>\n",
       "    <tr>\n",
       "      <th>...</th>\n",
       "      <td>...</td>\n",
       "    </tr>\n",
       "    <tr>\n",
       "      <th>96</th>\n",
       "      <td>VZ</td>\n",
       "    </tr>\n",
       "    <tr>\n",
       "      <th>97</th>\n",
       "      <td>WBA</td>\n",
       "    </tr>\n",
       "    <tr>\n",
       "      <th>98</th>\n",
       "      <td>WFC</td>\n",
       "    </tr>\n",
       "    <tr>\n",
       "      <th>99</th>\n",
       "      <td>WMT</td>\n",
       "    </tr>\n",
       "    <tr>\n",
       "      <th>100</th>\n",
       "      <td>XOM</td>\n",
       "    </tr>\n",
       "  </tbody>\n",
       "</table>\n",
       "<p>101 rows × 1 columns</p>\n",
       "</div>"
      ],
      "text/plain": [
       "    Symbol\n",
       "0     AAPL\n",
       "1     ABBV\n",
       "2      ABT\n",
       "3      ACN\n",
       "4     ADBE\n",
       "..     ...\n",
       "96      VZ\n",
       "97     WBA\n",
       "98     WFC\n",
       "99     WMT\n",
       "100    XOM\n",
       "\n",
       "[101 rows x 1 columns]"
      ]
     },
     "execution_count": 11,
     "metadata": {},
     "output_type": "execute_result"
    }
   ],
   "source": [
    "SP100_tickers"
   ]
  },
  {
   "cell_type": "markdown",
   "metadata": {},
   "source": [
    "# Use DataReader to get financial data of S&P100 companies from yahoo"
   ]
  },
  {
   "cell_type": "code",
   "execution_count": 12,
   "metadata": {
    "scrolled": true
   },
   "outputs": [
    {
     "name": "stdout",
     "output_type": "stream",
     "text": [
      "CPU times: user 7.91 s, sys: 746 ms, total: 8.66 s\n",
      "Wall time: 1min 8s\n"
     ]
    }
   ],
   "source": [
    "%%time\n",
    "\n",
    "df = pd.DataFrame()\n",
    "\n",
    "for i in data:\n",
    "    symbol = SP100_tickers.loc[SP100_tickers['Symbol']==i]\n",
    "    try:\n",
    "        symbol_data = pdr.DataReader(i, 'yahoo', date_start, date_end).reset_index()\n",
    "        #display(symbol_data)  \n",
    "    except (KeyError, ValueError):  # the error could possibly occur when there's \".\" in stock name \n",
    "        symbol_data = pdr.DataReader(i.replace('.','-'), 'yahoo', date_start, date_end).reset_index()\n",
    "        #symbol_data = pd.DataFrame()\n",
    "        pass\n",
    "    except:\n",
    "        print(i + \" - Error.\")\n",
    "        symbol_data = pd.DataFrame()\n",
    "        pass\n",
    "    single_table = pd.concat([symbol, symbol_data], axis=0, ignore_index=True) #axis=0 <- row. add frames by row and use fill down.\n",
    "    single_table['Symbol'].ffill(inplace=True)\n",
    "    df = df.append(single_table)\n",
    "    "
   ]
  },
  {
   "cell_type": "code",
   "execution_count": 13,
   "metadata": {
    "scrolled": true
   },
   "outputs": [],
   "source": [
    "df = df.loc[df['Date'].notnull()]"
   ]
  },
  {
   "cell_type": "code",
   "execution_count": 14,
   "metadata": {},
   "outputs": [],
   "source": [
    "df = df.reset_index(drop=True)"
   ]
  },
  {
   "cell_type": "markdown",
   "metadata": {
    "scrolled": true
   },
   "source": [
    "df.groupby(['Symbol']).describe().transpose()"
   ]
  },
  {
   "cell_type": "code",
   "execution_count": 15,
   "metadata": {},
   "outputs": [],
   "source": [
    "df_Flat = df"
   ]
  },
  {
   "cell_type": "code",
   "execution_count": 17,
   "metadata": {
    "scrolled": true
   },
   "outputs": [
    {
     "data": {
      "text/html": [
       "<div>\n",
       "<style scoped>\n",
       "    .dataframe tbody tr th:only-of-type {\n",
       "        vertical-align: middle;\n",
       "    }\n",
       "\n",
       "    .dataframe tbody tr th {\n",
       "        vertical-align: top;\n",
       "    }\n",
       "\n",
       "    .dataframe thead th {\n",
       "        text-align: right;\n",
       "    }\n",
       "</style>\n",
       "<table border=\"1\" class=\"dataframe\">\n",
       "  <thead>\n",
       "    <tr style=\"text-align: right;\">\n",
       "      <th>Symbol</th>\n",
       "      <th>AAPL</th>\n",
       "      <th>ABBV</th>\n",
       "      <th>ABT</th>\n",
       "      <th>ACN</th>\n",
       "      <th>ADBE</th>\n",
       "      <th>AIG</th>\n",
       "      <th>ALL</th>\n",
       "      <th>AMGN</th>\n",
       "      <th>AMT</th>\n",
       "      <th>AMZN</th>\n",
       "      <th>...</th>\n",
       "      <th>UNH</th>\n",
       "      <th>UNP</th>\n",
       "      <th>UPS</th>\n",
       "      <th>USB</th>\n",
       "      <th>V</th>\n",
       "      <th>VZ</th>\n",
       "      <th>WBA</th>\n",
       "      <th>WFC</th>\n",
       "      <th>WMT</th>\n",
       "      <th>XOM</th>\n",
       "    </tr>\n",
       "    <tr>\n",
       "      <th>Date</th>\n",
       "      <th></th>\n",
       "      <th></th>\n",
       "      <th></th>\n",
       "      <th></th>\n",
       "      <th></th>\n",
       "      <th></th>\n",
       "      <th></th>\n",
       "      <th></th>\n",
       "      <th></th>\n",
       "      <th></th>\n",
       "      <th></th>\n",
       "      <th></th>\n",
       "      <th></th>\n",
       "      <th></th>\n",
       "      <th></th>\n",
       "      <th></th>\n",
       "      <th></th>\n",
       "      <th></th>\n",
       "      <th></th>\n",
       "      <th></th>\n",
       "      <th></th>\n",
       "    </tr>\n",
       "  </thead>\n",
       "  <tbody>\n",
       "    <tr>\n",
       "      <th>2020-03-25</th>\n",
       "      <td>245.520004</td>\n",
       "      <td>67.910004</td>\n",
       "      <td>70.750000</td>\n",
       "      <td>151.820007</td>\n",
       "      <td>305.910004</td>\n",
       "      <td>25.719999</td>\n",
       "      <td>83.000000</td>\n",
       "      <td>193.139999</td>\n",
       "      <td>199.259995</td>\n",
       "      <td>1885.839966</td>\n",
       "      <td>...</td>\n",
       "      <td>234.490005</td>\n",
       "      <td>132.910004</td>\n",
       "      <td>94.500000</td>\n",
       "      <td>32.029999</td>\n",
       "      <td>161.779999</td>\n",
       "      <td>49.939999</td>\n",
       "      <td>41.439999</td>\n",
       "      <td>28.969999</td>\n",
       "      <td>109.400002</td>\n",
       "      <td>37.290001</td>\n",
       "    </tr>\n",
       "    <tr>\n",
       "      <th>2020-03-26</th>\n",
       "      <td>258.440002</td>\n",
       "      <td>73.830002</td>\n",
       "      <td>75.809998</td>\n",
       "      <td>171.339996</td>\n",
       "      <td>322.670013</td>\n",
       "      <td>27.510000</td>\n",
       "      <td>89.500000</td>\n",
       "      <td>198.490005</td>\n",
       "      <td>222.199997</td>\n",
       "      <td>1955.489990</td>\n",
       "      <td>...</td>\n",
       "      <td>255.389999</td>\n",
       "      <td>142.490005</td>\n",
       "      <td>99.779999</td>\n",
       "      <td>36.180000</td>\n",
       "      <td>168.880005</td>\n",
       "      <td>53.540001</td>\n",
       "      <td>45.669998</td>\n",
       "      <td>30.900000</td>\n",
       "      <td>109.820000</td>\n",
       "      <td>38.820000</td>\n",
       "    </tr>\n",
       "    <tr>\n",
       "      <th>2020-03-27</th>\n",
       "      <td>247.740005</td>\n",
       "      <td>72.669998</td>\n",
       "      <td>74.559998</td>\n",
       "      <td>162.880005</td>\n",
       "      <td>305.829987</td>\n",
       "      <td>25.510000</td>\n",
       "      <td>88.459999</td>\n",
       "      <td>198.270004</td>\n",
       "      <td>218.479996</td>\n",
       "      <td>1900.099976</td>\n",
       "      <td>...</td>\n",
       "      <td>242.449997</td>\n",
       "      <td>139.050003</td>\n",
       "      <td>97.519997</td>\n",
       "      <td>35.770000</td>\n",
       "      <td>161.559998</td>\n",
       "      <td>52.770000</td>\n",
       "      <td>44.000000</td>\n",
       "      <td>30.280001</td>\n",
       "      <td>109.580002</td>\n",
       "      <td>36.950001</td>\n",
       "    </tr>\n",
       "    <tr>\n",
       "      <th>2020-03-30</th>\n",
       "      <td>254.809998</td>\n",
       "      <td>75.239998</td>\n",
       "      <td>79.339996</td>\n",
       "      <td>169.820007</td>\n",
       "      <td>318.390015</td>\n",
       "      <td>25.709999</td>\n",
       "      <td>94.639999</td>\n",
       "      <td>208.479996</td>\n",
       "      <td>230.580002</td>\n",
       "      <td>1963.949951</td>\n",
       "      <td>...</td>\n",
       "      <td>251.279999</td>\n",
       "      <td>140.199997</td>\n",
       "      <td>97.839996</td>\n",
       "      <td>35.869999</td>\n",
       "      <td>165.570007</td>\n",
       "      <td>54.770000</td>\n",
       "      <td>45.160000</td>\n",
       "      <td>29.920000</td>\n",
       "      <td>115.190002</td>\n",
       "      <td>37.500000</td>\n",
       "    </tr>\n",
       "    <tr>\n",
       "      <th>2020-03-31</th>\n",
       "      <td>254.289993</td>\n",
       "      <td>76.190002</td>\n",
       "      <td>78.910004</td>\n",
       "      <td>163.259995</td>\n",
       "      <td>318.239990</td>\n",
       "      <td>24.250000</td>\n",
       "      <td>91.730003</td>\n",
       "      <td>202.729996</td>\n",
       "      <td>217.750000</td>\n",
       "      <td>1949.719971</td>\n",
       "      <td>...</td>\n",
       "      <td>249.380005</td>\n",
       "      <td>141.039993</td>\n",
       "      <td>93.419998</td>\n",
       "      <td>34.450001</td>\n",
       "      <td>161.119995</td>\n",
       "      <td>53.730000</td>\n",
       "      <td>45.750000</td>\n",
       "      <td>28.700001</td>\n",
       "      <td>113.620003</td>\n",
       "      <td>37.970001</td>\n",
       "    </tr>\n",
       "    <tr>\n",
       "      <th>...</th>\n",
       "      <td>...</td>\n",
       "      <td>...</td>\n",
       "      <td>...</td>\n",
       "      <td>...</td>\n",
       "      <td>...</td>\n",
       "      <td>...</td>\n",
       "      <td>...</td>\n",
       "      <td>...</td>\n",
       "      <td>...</td>\n",
       "      <td>...</td>\n",
       "      <td>...</td>\n",
       "      <td>...</td>\n",
       "      <td>...</td>\n",
       "      <td>...</td>\n",
       "      <td>...</td>\n",
       "      <td>...</td>\n",
       "      <td>...</td>\n",
       "      <td>...</td>\n",
       "      <td>...</td>\n",
       "      <td>...</td>\n",
       "      <td>...</td>\n",
       "    </tr>\n",
       "    <tr>\n",
       "      <th>2020-06-26</th>\n",
       "      <td>353.630005</td>\n",
       "      <td>96.129997</td>\n",
       "      <td>88.709999</td>\n",
       "      <td>212.470001</td>\n",
       "      <td>426.920013</td>\n",
       "      <td>29.709999</td>\n",
       "      <td>94.580002</td>\n",
       "      <td>232.839996</td>\n",
       "      <td>246.479996</td>\n",
       "      <td>2692.870117</td>\n",
       "      <td>...</td>\n",
       "      <td>286.880005</td>\n",
       "      <td>162.639999</td>\n",
       "      <td>107.320000</td>\n",
       "      <td>36.060001</td>\n",
       "      <td>189.270004</td>\n",
       "      <td>53.160000</td>\n",
       "      <td>41.169998</td>\n",
       "      <td>25.340000</td>\n",
       "      <td>118.320000</td>\n",
       "      <td>43.619999</td>\n",
       "    </tr>\n",
       "    <tr>\n",
       "      <th>2020-06-29</th>\n",
       "      <td>361.779999</td>\n",
       "      <td>96.440002</td>\n",
       "      <td>89.010002</td>\n",
       "      <td>212.720001</td>\n",
       "      <td>424.200012</td>\n",
       "      <td>30.680000</td>\n",
       "      <td>95.440002</td>\n",
       "      <td>231.559998</td>\n",
       "      <td>253.800003</td>\n",
       "      <td>2680.379883</td>\n",
       "      <td>...</td>\n",
       "      <td>289.760010</td>\n",
       "      <td>165.509995</td>\n",
       "      <td>109.480003</td>\n",
       "      <td>36.349998</td>\n",
       "      <td>191.380005</td>\n",
       "      <td>54.689999</td>\n",
       "      <td>42.320000</td>\n",
       "      <td>25.700001</td>\n",
       "      <td>119.059998</td>\n",
       "      <td>44.320000</td>\n",
       "    </tr>\n",
       "    <tr>\n",
       "      <th>2020-06-30</th>\n",
       "      <td>364.799988</td>\n",
       "      <td>98.180000</td>\n",
       "      <td>91.430000</td>\n",
       "      <td>214.720001</td>\n",
       "      <td>435.309998</td>\n",
       "      <td>31.180000</td>\n",
       "      <td>96.989998</td>\n",
       "      <td>235.860001</td>\n",
       "      <td>258.540009</td>\n",
       "      <td>2758.820068</td>\n",
       "      <td>...</td>\n",
       "      <td>294.950012</td>\n",
       "      <td>169.070007</td>\n",
       "      <td>111.180000</td>\n",
       "      <td>36.820000</td>\n",
       "      <td>193.169998</td>\n",
       "      <td>55.130001</td>\n",
       "      <td>42.389999</td>\n",
       "      <td>25.600000</td>\n",
       "      <td>119.779999</td>\n",
       "      <td>44.720001</td>\n",
       "    </tr>\n",
       "    <tr>\n",
       "      <th>2020-07-01</th>\n",
       "      <td>364.109985</td>\n",
       "      <td>99.139999</td>\n",
       "      <td>91.639999</td>\n",
       "      <td>214.589996</td>\n",
       "      <td>439.809998</td>\n",
       "      <td>29.580000</td>\n",
       "      <td>95.529999</td>\n",
       "      <td>255.119995</td>\n",
       "      <td>265.390015</td>\n",
       "      <td>2878.699951</td>\n",
       "      <td>...</td>\n",
       "      <td>297.730011</td>\n",
       "      <td>166.880005</td>\n",
       "      <td>114.419998</td>\n",
       "      <td>35.980000</td>\n",
       "      <td>193.779999</td>\n",
       "      <td>54.669998</td>\n",
       "      <td>40.880001</td>\n",
       "      <td>25.090000</td>\n",
       "      <td>119.690002</td>\n",
       "      <td>43.709999</td>\n",
       "    </tr>\n",
       "    <tr>\n",
       "      <th>2020-07-02</th>\n",
       "      <td>364.109985</td>\n",
       "      <td>98.879997</td>\n",
       "      <td>92.230003</td>\n",
       "      <td>215.720001</td>\n",
       "      <td>442.950012</td>\n",
       "      <td>29.920000</td>\n",
       "      <td>94.089996</td>\n",
       "      <td>258.239990</td>\n",
       "      <td>264.209991</td>\n",
       "      <td>2890.300049</td>\n",
       "      <td>...</td>\n",
       "      <td>298.260010</td>\n",
       "      <td>169.080002</td>\n",
       "      <td>114.360001</td>\n",
       "      <td>35.889999</td>\n",
       "      <td>195.669998</td>\n",
       "      <td>54.790001</td>\n",
       "      <td>41.980000</td>\n",
       "      <td>25.340000</td>\n",
       "      <td>119.209999</td>\n",
       "      <td>44.080002</td>\n",
       "    </tr>\n",
       "  </tbody>\n",
       "</table>\n",
       "<p>70 rows × 101 columns</p>\n",
       "</div>"
      ],
      "text/plain": [
       "Symbol            AAPL       ABBV        ABT         ACN        ADBE  \\\n",
       "Date                                                                   \n",
       "2020-03-25  245.520004  67.910004  70.750000  151.820007  305.910004   \n",
       "2020-03-26  258.440002  73.830002  75.809998  171.339996  322.670013   \n",
       "2020-03-27  247.740005  72.669998  74.559998  162.880005  305.829987   \n",
       "2020-03-30  254.809998  75.239998  79.339996  169.820007  318.390015   \n",
       "2020-03-31  254.289993  76.190002  78.910004  163.259995  318.239990   \n",
       "...                ...        ...        ...         ...         ...   \n",
       "2020-06-26  353.630005  96.129997  88.709999  212.470001  426.920013   \n",
       "2020-06-29  361.779999  96.440002  89.010002  212.720001  424.200012   \n",
       "2020-06-30  364.799988  98.180000  91.430000  214.720001  435.309998   \n",
       "2020-07-01  364.109985  99.139999  91.639999  214.589996  439.809998   \n",
       "2020-07-02  364.109985  98.879997  92.230003  215.720001  442.950012   \n",
       "\n",
       "Symbol            AIG        ALL        AMGN         AMT         AMZN  ...  \\\n",
       "Date                                                                   ...   \n",
       "2020-03-25  25.719999  83.000000  193.139999  199.259995  1885.839966  ...   \n",
       "2020-03-26  27.510000  89.500000  198.490005  222.199997  1955.489990  ...   \n",
       "2020-03-27  25.510000  88.459999  198.270004  218.479996  1900.099976  ...   \n",
       "2020-03-30  25.709999  94.639999  208.479996  230.580002  1963.949951  ...   \n",
       "2020-03-31  24.250000  91.730003  202.729996  217.750000  1949.719971  ...   \n",
       "...               ...        ...         ...         ...          ...  ...   \n",
       "2020-06-26  29.709999  94.580002  232.839996  246.479996  2692.870117  ...   \n",
       "2020-06-29  30.680000  95.440002  231.559998  253.800003  2680.379883  ...   \n",
       "2020-06-30  31.180000  96.989998  235.860001  258.540009  2758.820068  ...   \n",
       "2020-07-01  29.580000  95.529999  255.119995  265.390015  2878.699951  ...   \n",
       "2020-07-02  29.920000  94.089996  258.239990  264.209991  2890.300049  ...   \n",
       "\n",
       "Symbol             UNH         UNP         UPS        USB           V  \\\n",
       "Date                                                                    \n",
       "2020-03-25  234.490005  132.910004   94.500000  32.029999  161.779999   \n",
       "2020-03-26  255.389999  142.490005   99.779999  36.180000  168.880005   \n",
       "2020-03-27  242.449997  139.050003   97.519997  35.770000  161.559998   \n",
       "2020-03-30  251.279999  140.199997   97.839996  35.869999  165.570007   \n",
       "2020-03-31  249.380005  141.039993   93.419998  34.450001  161.119995   \n",
       "...                ...         ...         ...        ...         ...   \n",
       "2020-06-26  286.880005  162.639999  107.320000  36.060001  189.270004   \n",
       "2020-06-29  289.760010  165.509995  109.480003  36.349998  191.380005   \n",
       "2020-06-30  294.950012  169.070007  111.180000  36.820000  193.169998   \n",
       "2020-07-01  297.730011  166.880005  114.419998  35.980000  193.779999   \n",
       "2020-07-02  298.260010  169.080002  114.360001  35.889999  195.669998   \n",
       "\n",
       "Symbol             VZ        WBA        WFC         WMT        XOM  \n",
       "Date                                                                \n",
       "2020-03-25  49.939999  41.439999  28.969999  109.400002  37.290001  \n",
       "2020-03-26  53.540001  45.669998  30.900000  109.820000  38.820000  \n",
       "2020-03-27  52.770000  44.000000  30.280001  109.580002  36.950001  \n",
       "2020-03-30  54.770000  45.160000  29.920000  115.190002  37.500000  \n",
       "2020-03-31  53.730000  45.750000  28.700001  113.620003  37.970001  \n",
       "...               ...        ...        ...         ...        ...  \n",
       "2020-06-26  53.160000  41.169998  25.340000  118.320000  43.619999  \n",
       "2020-06-29  54.689999  42.320000  25.700001  119.059998  44.320000  \n",
       "2020-06-30  55.130001  42.389999  25.600000  119.779999  44.720001  \n",
       "2020-07-01  54.669998  40.880001  25.090000  119.690002  43.709999  \n",
       "2020-07-02  54.790001  41.980000  25.340000  119.209999  44.080002  \n",
       "\n",
       "[70 rows x 101 columns]"
      ]
     },
     "execution_count": 17,
     "metadata": {},
     "output_type": "execute_result"
    }
   ],
   "source": [
    "d = df.pivot_table(values='Close', index='Date', columns='Symbol', aggfunc=np.sum, margins=False)\n",
    "d\n"
   ]
  },
  {
   "cell_type": "code",
   "execution_count": 170,
   "metadata": {
    "scrolled": true
   },
   "outputs": [
    {
     "data": {
      "text/html": [
       "<div>\n",
       "<style scoped>\n",
       "    .dataframe tbody tr th:only-of-type {\n",
       "        vertical-align: middle;\n",
       "    }\n",
       "\n",
       "    .dataframe tbody tr th {\n",
       "        vertical-align: top;\n",
       "    }\n",
       "\n",
       "    .dataframe thead th {\n",
       "        text-align: right;\n",
       "    }\n",
       "</style>\n",
       "<table border=\"1\" class=\"dataframe\">\n",
       "  <thead>\n",
       "    <tr style=\"text-align: right;\">\n",
       "      <th>Symbol</th>\n",
       "      <th>AAPL</th>\n",
       "      <th>ABBV</th>\n",
       "      <th>ABT</th>\n",
       "      <th>ACN</th>\n",
       "      <th>ADBE</th>\n",
       "      <th>AIG</th>\n",
       "      <th>ALL</th>\n",
       "      <th>AMGN</th>\n",
       "      <th>AMT</th>\n",
       "      <th>AMZN</th>\n",
       "      <th>...</th>\n",
       "      <th>UNH</th>\n",
       "      <th>UNP</th>\n",
       "      <th>UPS</th>\n",
       "      <th>USB</th>\n",
       "      <th>V</th>\n",
       "      <th>VZ</th>\n",
       "      <th>WBA</th>\n",
       "      <th>WFC</th>\n",
       "      <th>WMT</th>\n",
       "      <th>XOM</th>\n",
       "    </tr>\n",
       "    <tr>\n",
       "      <th>Date</th>\n",
       "      <th></th>\n",
       "      <th></th>\n",
       "      <th></th>\n",
       "      <th></th>\n",
       "      <th></th>\n",
       "      <th></th>\n",
       "      <th></th>\n",
       "      <th></th>\n",
       "      <th></th>\n",
       "      <th></th>\n",
       "      <th></th>\n",
       "      <th></th>\n",
       "      <th></th>\n",
       "      <th></th>\n",
       "      <th></th>\n",
       "      <th></th>\n",
       "      <th></th>\n",
       "      <th></th>\n",
       "      <th></th>\n",
       "      <th></th>\n",
       "      <th></th>\n",
       "    </tr>\n",
       "  </thead>\n",
       "  <tbody>\n",
       "    <tr>\n",
       "      <th>2020-03-25</th>\n",
       "      <td>NaN</td>\n",
       "      <td>NaN</td>\n",
       "      <td>NaN</td>\n",
       "      <td>NaN</td>\n",
       "      <td>NaN</td>\n",
       "      <td>NaN</td>\n",
       "      <td>NaN</td>\n",
       "      <td>NaN</td>\n",
       "      <td>NaN</td>\n",
       "      <td>NaN</td>\n",
       "      <td>...</td>\n",
       "      <td>NaN</td>\n",
       "      <td>NaN</td>\n",
       "      <td>NaN</td>\n",
       "      <td>NaN</td>\n",
       "      <td>NaN</td>\n",
       "      <td>NaN</td>\n",
       "      <td>NaN</td>\n",
       "      <td>NaN</td>\n",
       "      <td>NaN</td>\n",
       "      <td>NaN</td>\n",
       "    </tr>\n",
       "    <tr>\n",
       "      <th>2020-03-26</th>\n",
       "      <td>0.051285</td>\n",
       "      <td>0.083582</td>\n",
       "      <td>0.069078</td>\n",
       "      <td>0.120954</td>\n",
       "      <td>0.053339</td>\n",
       "      <td>0.067281</td>\n",
       "      <td>0.075398</td>\n",
       "      <td>0.027323</td>\n",
       "      <td>0.108967</td>\n",
       "      <td>0.036267</td>\n",
       "      <td>...</td>\n",
       "      <td>0.085379</td>\n",
       "      <td>0.069600</td>\n",
       "      <td>0.054368</td>\n",
       "      <td>0.121834</td>\n",
       "      <td>0.042951</td>\n",
       "      <td>0.069607</td>\n",
       "      <td>0.097195</td>\n",
       "      <td>0.064495</td>\n",
       "      <td>0.003832</td>\n",
       "      <td>0.040210</td>\n",
       "    </tr>\n",
       "    <tr>\n",
       "      <th>2020-03-27</th>\n",
       "      <td>-0.042284</td>\n",
       "      <td>-0.015837</td>\n",
       "      <td>-0.016626</td>\n",
       "      <td>-0.050636</td>\n",
       "      <td>-0.053601</td>\n",
       "      <td>-0.075479</td>\n",
       "      <td>-0.011688</td>\n",
       "      <td>-0.001109</td>\n",
       "      <td>-0.016883</td>\n",
       "      <td>-0.028734</td>\n",
       "      <td>...</td>\n",
       "      <td>-0.051996</td>\n",
       "      <td>-0.024438</td>\n",
       "      <td>-0.022910</td>\n",
       "      <td>-0.011397</td>\n",
       "      <td>-0.044312</td>\n",
       "      <td>-0.014486</td>\n",
       "      <td>-0.037252</td>\n",
       "      <td>-0.020269</td>\n",
       "      <td>-0.002188</td>\n",
       "      <td>-0.049370</td>\n",
       "    </tr>\n",
       "    <tr>\n",
       "      <th>2020-03-30</th>\n",
       "      <td>0.028138</td>\n",
       "      <td>0.034754</td>\n",
       "      <td>0.062138</td>\n",
       "      <td>0.041725</td>\n",
       "      <td>0.040248</td>\n",
       "      <td>0.007809</td>\n",
       "      <td>0.067530</td>\n",
       "      <td>0.050213</td>\n",
       "      <td>0.053903</td>\n",
       "      <td>0.033051</td>\n",
       "      <td>...</td>\n",
       "      <td>0.035772</td>\n",
       "      <td>0.008236</td>\n",
       "      <td>0.003276</td>\n",
       "      <td>0.002792</td>\n",
       "      <td>0.024518</td>\n",
       "      <td>0.037200</td>\n",
       "      <td>0.026022</td>\n",
       "      <td>-0.011960</td>\n",
       "      <td>0.049928</td>\n",
       "      <td>0.014775</td>\n",
       "    </tr>\n",
       "    <tr>\n",
       "      <th>2020-03-31</th>\n",
       "      <td>-0.002043</td>\n",
       "      <td>0.012547</td>\n",
       "      <td>-0.005434</td>\n",
       "      <td>-0.039395</td>\n",
       "      <td>-0.000471</td>\n",
       "      <td>-0.058463</td>\n",
       "      <td>-0.031231</td>\n",
       "      <td>-0.027968</td>\n",
       "      <td>-0.057250</td>\n",
       "      <td>-0.007272</td>\n",
       "      <td>...</td>\n",
       "      <td>-0.007590</td>\n",
       "      <td>0.005974</td>\n",
       "      <td>-0.046228</td>\n",
       "      <td>-0.040392</td>\n",
       "      <td>-0.027245</td>\n",
       "      <td>-0.019171</td>\n",
       "      <td>0.012980</td>\n",
       "      <td>-0.041630</td>\n",
       "      <td>-0.013723</td>\n",
       "      <td>0.012455</td>\n",
       "    </tr>\n",
       "    <tr>\n",
       "      <th>...</th>\n",
       "      <td>...</td>\n",
       "      <td>...</td>\n",
       "      <td>...</td>\n",
       "      <td>...</td>\n",
       "      <td>...</td>\n",
       "      <td>...</td>\n",
       "      <td>...</td>\n",
       "      <td>...</td>\n",
       "      <td>...</td>\n",
       "      <td>...</td>\n",
       "      <td>...</td>\n",
       "      <td>...</td>\n",
       "      <td>...</td>\n",
       "      <td>...</td>\n",
       "      <td>...</td>\n",
       "      <td>...</td>\n",
       "      <td>...</td>\n",
       "      <td>...</td>\n",
       "      <td>...</td>\n",
       "      <td>...</td>\n",
       "      <td>...</td>\n",
       "    </tr>\n",
       "    <tr>\n",
       "      <th>2020-06-26</th>\n",
       "      <td>-0.031208</td>\n",
       "      <td>-0.008906</td>\n",
       "      <td>-0.010206</td>\n",
       "      <td>-0.022570</td>\n",
       "      <td>-0.023222</td>\n",
       "      <td>-0.050856</td>\n",
       "      <td>-0.013130</td>\n",
       "      <td>-0.009702</td>\n",
       "      <td>-0.031470</td>\n",
       "      <td>-0.022657</td>\n",
       "      <td>...</td>\n",
       "      <td>-0.032038</td>\n",
       "      <td>-0.026574</td>\n",
       "      <td>-0.029381</td>\n",
       "      <td>-0.053717</td>\n",
       "      <td>-0.024580</td>\n",
       "      <td>-0.020850</td>\n",
       "      <td>-0.020912</td>\n",
       "      <td>-0.077063</td>\n",
       "      <td>-0.011679</td>\n",
       "      <td>-0.034917</td>\n",
       "    </tr>\n",
       "    <tr>\n",
       "      <th>2020-06-29</th>\n",
       "      <td>0.022785</td>\n",
       "      <td>0.003220</td>\n",
       "      <td>0.003376</td>\n",
       "      <td>0.001176</td>\n",
       "      <td>-0.006392</td>\n",
       "      <td>0.032127</td>\n",
       "      <td>0.009052</td>\n",
       "      <td>-0.005512</td>\n",
       "      <td>0.029266</td>\n",
       "      <td>-0.004649</td>\n",
       "      <td>...</td>\n",
       "      <td>0.009989</td>\n",
       "      <td>0.017492</td>\n",
       "      <td>0.019927</td>\n",
       "      <td>0.008010</td>\n",
       "      <td>0.011086</td>\n",
       "      <td>0.028375</td>\n",
       "      <td>0.027550</td>\n",
       "      <td>0.014107</td>\n",
       "      <td>0.006235</td>\n",
       "      <td>0.015920</td>\n",
       "    </tr>\n",
       "    <tr>\n",
       "      <th>2020-06-30</th>\n",
       "      <td>0.008313</td>\n",
       "      <td>0.017881</td>\n",
       "      <td>0.026825</td>\n",
       "      <td>0.009358</td>\n",
       "      <td>0.025853</td>\n",
       "      <td>0.016166</td>\n",
       "      <td>0.016110</td>\n",
       "      <td>0.018399</td>\n",
       "      <td>0.018504</td>\n",
       "      <td>0.028845</td>\n",
       "      <td>...</td>\n",
       "      <td>0.017753</td>\n",
       "      <td>0.021281</td>\n",
       "      <td>0.015409</td>\n",
       "      <td>0.012847</td>\n",
       "      <td>0.009310</td>\n",
       "      <td>0.008013</td>\n",
       "      <td>0.001653</td>\n",
       "      <td>-0.003899</td>\n",
       "      <td>0.006029</td>\n",
       "      <td>0.008985</td>\n",
       "    </tr>\n",
       "    <tr>\n",
       "      <th>2020-07-01</th>\n",
       "      <td>-0.001893</td>\n",
       "      <td>0.009730</td>\n",
       "      <td>0.002294</td>\n",
       "      <td>-0.000606</td>\n",
       "      <td>0.010284</td>\n",
       "      <td>-0.052678</td>\n",
       "      <td>-0.015168</td>\n",
       "      <td>0.078496</td>\n",
       "      <td>0.026150</td>\n",
       "      <td>0.042536</td>\n",
       "      <td>...</td>\n",
       "      <td>0.009381</td>\n",
       "      <td>-0.013038</td>\n",
       "      <td>0.028725</td>\n",
       "      <td>-0.023078</td>\n",
       "      <td>0.003153</td>\n",
       "      <td>-0.008379</td>\n",
       "      <td>-0.036271</td>\n",
       "      <td>-0.020123</td>\n",
       "      <td>-0.000752</td>\n",
       "      <td>-0.022844</td>\n",
       "    </tr>\n",
       "    <tr>\n",
       "      <th>2020-07-02</th>\n",
       "      <td>0.000000</td>\n",
       "      <td>-0.002626</td>\n",
       "      <td>0.006418</td>\n",
       "      <td>0.005252</td>\n",
       "      <td>0.007114</td>\n",
       "      <td>0.011429</td>\n",
       "      <td>-0.015189</td>\n",
       "      <td>0.012155</td>\n",
       "      <td>-0.004456</td>\n",
       "      <td>0.004022</td>\n",
       "      <td>...</td>\n",
       "      <td>0.001779</td>\n",
       "      <td>0.013097</td>\n",
       "      <td>-0.000525</td>\n",
       "      <td>-0.002505</td>\n",
       "      <td>0.009706</td>\n",
       "      <td>0.002193</td>\n",
       "      <td>0.026552</td>\n",
       "      <td>0.009915</td>\n",
       "      <td>-0.004018</td>\n",
       "      <td>0.008429</td>\n",
       "    </tr>\n",
       "  </tbody>\n",
       "</table>\n",
       "<p>70 rows × 101 columns</p>\n",
       "</div>"
      ],
      "text/plain": [
       "Symbol          AAPL      ABBV       ABT       ACN      ADBE       AIG  \\\n",
       "Date                                                                     \n",
       "2020-03-25       NaN       NaN       NaN       NaN       NaN       NaN   \n",
       "2020-03-26  0.051285  0.083582  0.069078  0.120954  0.053339  0.067281   \n",
       "2020-03-27 -0.042284 -0.015837 -0.016626 -0.050636 -0.053601 -0.075479   \n",
       "2020-03-30  0.028138  0.034754  0.062138  0.041725  0.040248  0.007809   \n",
       "2020-03-31 -0.002043  0.012547 -0.005434 -0.039395 -0.000471 -0.058463   \n",
       "...              ...       ...       ...       ...       ...       ...   \n",
       "2020-06-26 -0.031208 -0.008906 -0.010206 -0.022570 -0.023222 -0.050856   \n",
       "2020-06-29  0.022785  0.003220  0.003376  0.001176 -0.006392  0.032127   \n",
       "2020-06-30  0.008313  0.017881  0.026825  0.009358  0.025853  0.016166   \n",
       "2020-07-01 -0.001893  0.009730  0.002294 -0.000606  0.010284 -0.052678   \n",
       "2020-07-02  0.000000 -0.002626  0.006418  0.005252  0.007114  0.011429   \n",
       "\n",
       "Symbol           ALL      AMGN       AMT      AMZN  ...       UNH       UNP  \\\n",
       "Date                                                ...                       \n",
       "2020-03-25       NaN       NaN       NaN       NaN  ...       NaN       NaN   \n",
       "2020-03-26  0.075398  0.027323  0.108967  0.036267  ...  0.085379  0.069600   \n",
       "2020-03-27 -0.011688 -0.001109 -0.016883 -0.028734  ... -0.051996 -0.024438   \n",
       "2020-03-30  0.067530  0.050213  0.053903  0.033051  ...  0.035772  0.008236   \n",
       "2020-03-31 -0.031231 -0.027968 -0.057250 -0.007272  ... -0.007590  0.005974   \n",
       "...              ...       ...       ...       ...  ...       ...       ...   \n",
       "2020-06-26 -0.013130 -0.009702 -0.031470 -0.022657  ... -0.032038 -0.026574   \n",
       "2020-06-29  0.009052 -0.005512  0.029266 -0.004649  ...  0.009989  0.017492   \n",
       "2020-06-30  0.016110  0.018399  0.018504  0.028845  ...  0.017753  0.021281   \n",
       "2020-07-01 -0.015168  0.078496  0.026150  0.042536  ...  0.009381 -0.013038   \n",
       "2020-07-02 -0.015189  0.012155 -0.004456  0.004022  ...  0.001779  0.013097   \n",
       "\n",
       "Symbol           UPS       USB         V        VZ       WBA       WFC  \\\n",
       "Date                                                                     \n",
       "2020-03-25       NaN       NaN       NaN       NaN       NaN       NaN   \n",
       "2020-03-26  0.054368  0.121834  0.042951  0.069607  0.097195  0.064495   \n",
       "2020-03-27 -0.022910 -0.011397 -0.044312 -0.014486 -0.037252 -0.020269   \n",
       "2020-03-30  0.003276  0.002792  0.024518  0.037200  0.026022 -0.011960   \n",
       "2020-03-31 -0.046228 -0.040392 -0.027245 -0.019171  0.012980 -0.041630   \n",
       "...              ...       ...       ...       ...       ...       ...   \n",
       "2020-06-26 -0.029381 -0.053717 -0.024580 -0.020850 -0.020912 -0.077063   \n",
       "2020-06-29  0.019927  0.008010  0.011086  0.028375  0.027550  0.014107   \n",
       "2020-06-30  0.015409  0.012847  0.009310  0.008013  0.001653 -0.003899   \n",
       "2020-07-01  0.028725 -0.023078  0.003153 -0.008379 -0.036271 -0.020123   \n",
       "2020-07-02 -0.000525 -0.002505  0.009706  0.002193  0.026552  0.009915   \n",
       "\n",
       "Symbol           WMT       XOM  \n",
       "Date                            \n",
       "2020-03-25       NaN       NaN  \n",
       "2020-03-26  0.003832  0.040210  \n",
       "2020-03-27 -0.002188 -0.049370  \n",
       "2020-03-30  0.049928  0.014775  \n",
       "2020-03-31 -0.013723  0.012455  \n",
       "...              ...       ...  \n",
       "2020-06-26 -0.011679 -0.034917  \n",
       "2020-06-29  0.006235  0.015920  \n",
       "2020-06-30  0.006029  0.008985  \n",
       "2020-07-01 -0.000752 -0.022844  \n",
       "2020-07-02 -0.004018  0.008429  \n",
       "\n",
       "[70 rows x 101 columns]"
      ]
     },
     "execution_count": 170,
     "metadata": {},
     "output_type": "execute_result"
    }
   ],
   "source": [
    "logChange = np.log(d / d.shift(1)) # geometric brownian motion. - make the errors being normally distributed.\n",
    "# more standardly used than pct_change.  df_temp['Close'] in this case.\n",
    "logChange"
   ]
  },
  {
   "cell_type": "code",
   "execution_count": 171,
   "metadata": {},
   "outputs": [],
   "source": [
    "tickers_bestPerformed = logChange.describe().transpose().sort_values(by='mean', ascending=False).head(5)\n",
    "symbols = tickers_bestPerformed.index.tolist()"
   ]
  },
  {
   "cell_type": "code",
   "execution_count": 173,
   "metadata": {},
   "outputs": [
    {
     "data": {
      "text/html": [
       "<div>\n",
       "<style scoped>\n",
       "    .dataframe tbody tr th:only-of-type {\n",
       "        vertical-align: middle;\n",
       "    }\n",
       "\n",
       "    .dataframe tbody tr th {\n",
       "        vertical-align: top;\n",
       "    }\n",
       "\n",
       "    .dataframe thead th {\n",
       "        text-align: right;\n",
       "    }\n",
       "</style>\n",
       "<table border=\"1\" class=\"dataframe\">\n",
       "  <thead>\n",
       "    <tr style=\"text-align: right;\">\n",
       "      <th>Symbol</th>\n",
       "      <th>PYPL</th>\n",
       "      <th>LOW</th>\n",
       "      <th>DD</th>\n",
       "      <th>NVDA</th>\n",
       "      <th>AMZN</th>\n",
       "    </tr>\n",
       "    <tr>\n",
       "      <th>Date</th>\n",
       "      <th></th>\n",
       "      <th></th>\n",
       "      <th></th>\n",
       "      <th></th>\n",
       "      <th></th>\n",
       "    </tr>\n",
       "  </thead>\n",
       "  <tbody>\n",
       "    <tr>\n",
       "      <th>2020-03-25</th>\n",
       "      <td>NaN</td>\n",
       "      <td>NaN</td>\n",
       "      <td>NaN</td>\n",
       "      <td>NaN</td>\n",
       "      <td>NaN</td>\n",
       "    </tr>\n",
       "    <tr>\n",
       "      <th>2020-03-26</th>\n",
       "      <td>0.050128</td>\n",
       "      <td>0.051108</td>\n",
       "      <td>0.078676</td>\n",
       "      <td>0.046224</td>\n",
       "      <td>0.036267</td>\n",
       "    </tr>\n",
       "    <tr>\n",
       "      <th>2020-03-27</th>\n",
       "      <td>-0.073703</td>\n",
       "      <td>-0.012908</td>\n",
       "      <td>-0.060781</td>\n",
       "      <td>-0.017688</td>\n",
       "      <td>-0.028734</td>\n",
       "    </tr>\n",
       "    <tr>\n",
       "      <th>2020-03-30</th>\n",
       "      <td>0.037273</td>\n",
       "      <td>0.019694</td>\n",
       "      <td>-0.006227</td>\n",
       "      <td>0.049632</td>\n",
       "      <td>0.033051</td>\n",
       "    </tr>\n",
       "    <tr>\n",
       "      <th>2020-03-31</th>\n",
       "      <td>-0.013384</td>\n",
       "      <td>-0.030444</td>\n",
       "      <td>0.014176</td>\n",
       "      <td>-0.007521</td>\n",
       "      <td>-0.007272</td>\n",
       "    </tr>\n",
       "    <tr>\n",
       "      <th>...</th>\n",
       "      <td>...</td>\n",
       "      <td>...</td>\n",
       "      <td>...</td>\n",
       "      <td>...</td>\n",
       "      <td>...</td>\n",
       "    </tr>\n",
       "    <tr>\n",
       "      <th>2020-06-26</th>\n",
       "      <td>-0.009494</td>\n",
       "      <td>-0.018072</td>\n",
       "      <td>-0.031961</td>\n",
       "      <td>-0.035938</td>\n",
       "      <td>-0.022657</td>\n",
       "    </tr>\n",
       "    <tr>\n",
       "      <th>2020-06-29</th>\n",
       "      <td>-0.014858</td>\n",
       "      <td>0.031266</td>\n",
       "      <td>0.020214</td>\n",
       "      <td>0.004903</td>\n",
       "      <td>-0.004649</td>\n",
       "    </tr>\n",
       "    <tr>\n",
       "      <th>2020-06-30</th>\n",
       "      <td>0.034331</td>\n",
       "      <td>0.011912</td>\n",
       "      <td>0.012500</td>\n",
       "      <td>0.031851</td>\n",
       "      <td>0.028845</td>\n",
       "    </tr>\n",
       "    <tr>\n",
       "      <th>2020-07-01</th>\n",
       "      <td>0.018200</td>\n",
       "      <td>0.003767</td>\n",
       "      <td>-0.015363</td>\n",
       "      <td>0.003390</td>\n",
       "      <td>0.042536</td>\n",
       "    </tr>\n",
       "    <tr>\n",
       "      <th>2020-07-02</th>\n",
       "      <td>-0.001241</td>\n",
       "      <td>0.000590</td>\n",
       "      <td>0.026407</td>\n",
       "      <td>0.008594</td>\n",
       "      <td>0.004022</td>\n",
       "    </tr>\n",
       "  </tbody>\n",
       "</table>\n",
       "<p>70 rows × 5 columns</p>\n",
       "</div>"
      ],
      "text/plain": [
       "Symbol          PYPL       LOW        DD      NVDA      AMZN\n",
       "Date                                                        \n",
       "2020-03-25       NaN       NaN       NaN       NaN       NaN\n",
       "2020-03-26  0.050128  0.051108  0.078676  0.046224  0.036267\n",
       "2020-03-27 -0.073703 -0.012908 -0.060781 -0.017688 -0.028734\n",
       "2020-03-30  0.037273  0.019694 -0.006227  0.049632  0.033051\n",
       "2020-03-31 -0.013384 -0.030444  0.014176 -0.007521 -0.007272\n",
       "...              ...       ...       ...       ...       ...\n",
       "2020-06-26 -0.009494 -0.018072 -0.031961 -0.035938 -0.022657\n",
       "2020-06-29 -0.014858  0.031266  0.020214  0.004903 -0.004649\n",
       "2020-06-30  0.034331  0.011912  0.012500  0.031851  0.028845\n",
       "2020-07-01  0.018200  0.003767 -0.015363  0.003390  0.042536\n",
       "2020-07-02 -0.001241  0.000590  0.026407  0.008594  0.004022\n",
       "\n",
       "[70 rows x 5 columns]"
      ]
     },
     "execution_count": 173,
     "metadata": {},
     "output_type": "execute_result"
    }
   ],
   "source": [
    "logChange = logChange[symbols]\n",
    "logChange"
   ]
  },
  {
   "cell_type": "code",
   "execution_count": 174,
   "metadata": {},
   "outputs": [
    {
     "data": {
      "text/plain": [
       "Symbol\n",
       "PYPL    2.249786\n",
       "LOW     1.764155\n",
       "DD      1.754257\n",
       "NVDA    1.636657\n",
       "AMZN    1.559431\n",
       "dtype: float64"
      ]
     },
     "execution_count": 174,
     "metadata": {},
     "output_type": "execute_result"
    }
   ],
   "source": [
    "logChange.mean()*252 #252 business days per year in general"
   ]
  },
  {
   "cell_type": "code",
   "execution_count": 175,
   "metadata": {},
   "outputs": [
    {
     "data": {
      "text/html": [
       "<div>\n",
       "<style scoped>\n",
       "    .dataframe tbody tr th:only-of-type {\n",
       "        vertical-align: middle;\n",
       "    }\n",
       "\n",
       "    .dataframe tbody tr th {\n",
       "        vertical-align: top;\n",
       "    }\n",
       "\n",
       "    .dataframe thead th {\n",
       "        text-align: right;\n",
       "    }\n",
       "</style>\n",
       "<table border=\"1\" class=\"dataframe\">\n",
       "  <thead>\n",
       "    <tr style=\"text-align: right;\">\n",
       "      <th>Symbol</th>\n",
       "      <th>PYPL</th>\n",
       "      <th>LOW</th>\n",
       "      <th>DD</th>\n",
       "      <th>NVDA</th>\n",
       "      <th>AMZN</th>\n",
       "    </tr>\n",
       "    <tr>\n",
       "      <th>Symbol</th>\n",
       "      <th></th>\n",
       "      <th></th>\n",
       "      <th></th>\n",
       "      <th></th>\n",
       "      <th></th>\n",
       "    </tr>\n",
       "  </thead>\n",
       "  <tbody>\n",
       "    <tr>\n",
       "      <th>PYPL</th>\n",
       "      <td>0.257393</td>\n",
       "      <td>0.118646</td>\n",
       "      <td>0.120828</td>\n",
       "      <td>0.177731</td>\n",
       "      <td>0.094196</td>\n",
       "    </tr>\n",
       "    <tr>\n",
       "      <th>LOW</th>\n",
       "      <td>0.118646</td>\n",
       "      <td>0.155679</td>\n",
       "      <td>0.137429</td>\n",
       "      <td>0.120294</td>\n",
       "      <td>0.039980</td>\n",
       "    </tr>\n",
       "    <tr>\n",
       "      <th>DD</th>\n",
       "      <td>0.120828</td>\n",
       "      <td>0.137429</td>\n",
       "      <td>0.297132</td>\n",
       "      <td>0.107507</td>\n",
       "      <td>0.039318</td>\n",
       "    </tr>\n",
       "    <tr>\n",
       "      <th>NVDA</th>\n",
       "      <td>0.177731</td>\n",
       "      <td>0.120294</td>\n",
       "      <td>0.107507</td>\n",
       "      <td>0.256939</td>\n",
       "      <td>0.112658</td>\n",
       "    </tr>\n",
       "    <tr>\n",
       "      <th>AMZN</th>\n",
       "      <td>0.094196</td>\n",
       "      <td>0.039980</td>\n",
       "      <td>0.039318</td>\n",
       "      <td>0.112658</td>\n",
       "      <td>0.121820</td>\n",
       "    </tr>\n",
       "  </tbody>\n",
       "</table>\n",
       "</div>"
      ],
      "text/plain": [
       "Symbol      PYPL       LOW        DD      NVDA      AMZN\n",
       "Symbol                                                  \n",
       "PYPL    0.257393  0.118646  0.120828  0.177731  0.094196\n",
       "LOW     0.118646  0.155679  0.137429  0.120294  0.039980\n",
       "DD      0.120828  0.137429  0.297132  0.107507  0.039318\n",
       "NVDA    0.177731  0.120294  0.107507  0.256939  0.112658\n",
       "AMZN    0.094196  0.039980  0.039318  0.112658  0.121820"
      ]
     },
     "execution_count": 175,
     "metadata": {},
     "output_type": "execute_result"
    }
   ],
   "source": [
    "logChange.cov()*252"
   ]
  },
  {
   "cell_type": "code",
   "execution_count": 176,
   "metadata": {
    "scrolled": true
   },
   "outputs": [
    {
     "data": {
      "text/plain": [
       "<matplotlib.axes._subplots.AxesSubplot at 0x7f9b53038910>"
      ]
     },
     "execution_count": 176,
     "metadata": {},
     "output_type": "execute_result"
    },
    {
     "data": {
      "image/png": "[encoded data removed]",
      "text/plain": [
       "<Figure size 432x288 with 2 Axes>"
      ]
     },
     "metadata": {
      "needs_background": "light"
     },
     "output_type": "display_data"
    }
   ],
   "source": [
    "sns.heatmap(logChange.cov()*252)"
   ]
  },
  {
   "cell_type": "code",
   "execution_count": 187,
   "metadata": {
    "scrolled": true
   },
   "outputs": [
    {
     "data": {
      "text/plain": [
       "array([0.19356424, 0.25224431, 0.21259213, 0.19217803, 0.14942128])"
      ]
     },
     "execution_count": 187,
     "metadata": {},
     "output_type": "execute_result"
    }
   ],
   "source": [
    "np.random.seed(0)\n",
    "weights = np.random.random(len(symbols))\n",
    "weights /= np.sum(weights)\n",
    "weights"
   ]
  },
  {
   "attachments": {
    "Screenshot%202020-07-03%20at%2009.20.58.png": {
     "image/png": "[encoded data removed]"
    }
   },
   "cell_type": "markdown",
   "metadata": {},
   "source": [
    "#### Expected return:\n",
    "![Screenshot%202020-07-03%20at%2009.20.58.png](attachment:Screenshot%202020-07-03%20at%2009.20.58.png)"
   ]
  },
  {
   "cell_type": "code",
   "execution_count": 188,
   "metadata": {
    "scrolled": true
   },
   "outputs": [
    {
     "data": {
      "text/plain": [
       "1.8009589211824246"
      ]
     },
     "execution_count": 188,
     "metadata": {},
     "output_type": "execute_result"
    }
   ],
   "source": [
    "#return of portfolio\n",
    "np.sum(logChange.mean()*weights)*252"
   ]
  },
  {
   "cell_type": "code",
   "execution_count": 189,
   "metadata": {},
   "outputs": [
    {
     "data": {
      "text/plain": [
       "0.13255728699833244"
      ]
     },
     "execution_count": 189,
     "metadata": {},
     "output_type": "execute_result"
    }
   ],
   "source": [
    "#variance of portfolio\n",
    "np.dot(weights.T, np.dot(logChange.cov() * 252, weights))"
   ]
  },
  {
   "cell_type": "code",
   "execution_count": 190,
   "metadata": {},
   "outputs": [
    {
     "data": {
      "text/plain": [
       "0.36408417570437257"
      ]
     },
     "execution_count": 190,
     "metadata": {},
     "output_type": "execute_result"
    }
   ],
   "source": [
    "#standard deviation of portfolio (volatility)\n",
    "np.sqrt(np.dot(weights.T, np.dot(logChange.cov() * 252, weights)))"
   ]
  },
  {
   "cell_type": "markdown",
   "metadata": {},
   "source": [
    "## simulation"
   ]
  },
  {
   "cell_type": "code",
   "execution_count": 192,
   "metadata": {},
   "outputs": [],
   "source": [
    "prets = []  #stores list of returns\n",
    "pvols = []  #stores list of volatilities\n",
    "\n",
    "for p in range (2000):\n",
    "    weights = np.random.random(len(symbols))\n",
    "    weights /= np.sum(weights)\n",
    "    prets.append(np.sum(logChange.mean() * weights) * 252)\n",
    "    pvols.append(np.sqrt(np.dot(weights.T, \n",
    "                        np.dot(logChange.cov() * 252, weights))))\n",
    "prets = np.array(prets)\n",
    "pvols = np.array(pvols)"
   ]
  },
  {
   "cell_type": "code",
   "execution_count": 193,
   "metadata": {},
   "outputs": [
    {
     "data": {
      "image/png": "[encoded data removed]",
      "text/plain": [
       "<Figure size 432x288 with 2 Axes>"
      ]
     },
     "metadata": {
      "needs_background": "light"
     },
     "output_type": "display_data"
    }
   ],
   "source": [
    "\n",
    "plt.scatter(pvols, prets, c=prets/pvols, marker='o', cmap='plasma')\n",
    "\n",
    "plt.grid(True)\n",
    "plt.xlabel('expected volatility')\n",
    "plt.ylabel('expected return')\n",
    "plt.colorbar(label='Sharpe ratio') #beta\n",
    "plt.show()"
   ]
  },
  {
   "cell_type": "code",
   "execution_count": 194,
   "metadata": {},
   "outputs": [],
   "source": [
    "def statistics(weights):\n",
    "    ''' Return portfolio statistics.\n",
    "    \n",
    "    Parameters\n",
    "    ==========\n",
    "    weights : array-like\n",
    "        포트폴리오 내의 증권 비중\n",
    "    \n",
    "    Returns\n",
    "    =======\n",
    "    pret : float\n",
    "        포트폴리오 수익률의 기댓값\n",
    "    pvol : float\n",
    "        포트폴리오 변동성의 기댓값\n",
    "    pret / pvol : float\n",
    "        무위험 이자율이 0일 때의 포트폴리오 샤프 지수\n",
    "    '''\n",
    "    weights = np.array(weights)\n",
    "    pret = np.sum(logChange.mean() * weights) * 252\n",
    "    pvol = np.sqrt(np.dot(weights.T, np.dot(logChange.cov() * 252, weights)))\n",
    "    return np.array([pret, pvol, pret / pvol])"
   ]
  },
  {
   "cell_type": "markdown",
   "metadata": {},
   "source": [
    "## Sharp ratio optimization"
   ]
  },
  {
   "cell_type": "code",
   "execution_count": 195,
   "metadata": {},
   "outputs": [],
   "source": [
    "def min_func_sharpe(weights):\n",
    "    return -statistics(weights)[2]"
   ]
  },
  {
   "cell_type": "code",
   "execution_count": 197,
   "metadata": {},
   "outputs": [
    {
     "data": {
      "text/plain": [
       "array([1.79285699, 0.35922903, 4.99084667])"
      ]
     },
     "execution_count": 197,
     "metadata": {},
     "output_type": "execute_result"
    }
   ],
   "source": [
    "cons = ({'type': 'eq', 'fun': lambda x:  np.sum(x) - 1})\n",
    "cons\n",
    "w = len(symbols)*[1. /len(symbols),]\n",
    "statistics(w)"
   ]
  },
  {
   "cell_type": "code",
   "execution_count": 199,
   "metadata": {
    "scrolled": true
   },
   "outputs": [
    {
     "data": {
      "text/plain": [
       "((0, 1), (0, 1), (0, 1), (0, 1), (0, 1))"
      ]
     },
     "execution_count": 199,
     "metadata": {},
     "output_type": "execute_result"
    }
   ],
   "source": [
    "bnds = tuple((0, 1) for x in range(len(symbols)))\n",
    "bnds"
   ]
  },
  {
   "cell_type": "code",
   "execution_count": 200,
   "metadata": {
    "scrolled": true
   },
   "outputs": [
    {
     "data": {
      "text/plain": [
       "[0.2, 0.2, 0.2, 0.2, 0.2]"
      ]
     },
     "execution_count": 200,
     "metadata": {},
     "output_type": "execute_result"
    }
   ],
   "source": [
    "#set initial point\n",
    "len(symbols)* [1./len(symbols),]"
   ]
  },
  {
   "cell_type": "markdown",
   "metadata": {},
   "source": [
    "#### Minimize a scalar function of one or more variables using Sequential Least Squares Programming (SLSQP)."
   ]
  },
  {
   "cell_type": "markdown",
   "metadata": {},
   "source": [
    "#### scipy.optimize.minimize(fun, x0, args=(), method=None, jac=None, hess=None, hessp=None, bounds=None, constraints=(), tol=None, callback=None, options=None)"
   ]
  },
  {
   "cell_type": "code",
   "execution_count": 201,
   "metadata": {
    "scrolled": true
   },
   "outputs": [
    {
     "name": "stdout",
     "output_type": "stream",
     "text": [
      "CPU times: user 60.5 ms, sys: 2.36 ms, total: 62.9 ms\n",
      "Wall time: 61.3 ms\n"
     ]
    }
   ],
   "source": [
    "%%time\n",
    "\n",
    "opts = sco.minimize(min_func_sharpe, len(symbols)* [1. / len(symbols),], method='SLSQP',\n",
    "                       bounds=bnds, constraints=cons)\n"
   ]
  },
  {
   "cell_type": "code",
   "execution_count": 202,
   "metadata": {
    "scrolled": true
   },
   "outputs": [
    {
     "data": {
      "text/plain": [
       "     fun: -5.624099400235101\n",
       "     jac: array([ 5.20944595e-04, -4.31954861e-04,  4.11868095e-05,  2.01310503e+00,\n",
       "        2.17437744e-04])\n",
       " message: 'Optimization terminated successfully.'\n",
       "    nfev: 53\n",
       "     nit: 7\n",
       "    njev: 7\n",
       "  status: 0\n",
       " success: True\n",
       "       x: array([1.09642717e-01, 3.75139344e-01, 4.00192241e-02, 3.88089396e-15,\n",
       "       4.75198715e-01])"
      ]
     },
     "execution_count": 202,
     "metadata": {},
     "output_type": "execute_result"
    }
   ],
   "source": [
    "opts"
   ]
  },
  {
   "cell_type": "code",
   "execution_count": 203,
   "metadata": {
    "scrolled": false
   },
   "outputs": [
    {
     "data": {
      "text/plain": [
       "1.7199343767093738"
      ]
     },
     "execution_count": 203,
     "metadata": {},
     "output_type": "execute_result"
    }
   ],
   "source": [
    "a=opts['x'].round(3)\n",
    "np.sum(logChange.mean()*a)*252\n"
   ]
  },
  {
   "cell_type": "code",
   "execution_count": 204,
   "metadata": {},
   "outputs": [
    {
     "data": {
      "text/plain": [
       "array([1.72 , 0.306, 5.624])"
      ]
     },
     "execution_count": 204,
     "metadata": {},
     "output_type": "execute_result"
    }
   ],
   "source": [
    "statistics(opts['x']).round(3)"
   ]
  },
  {
   "cell_type": "code",
   "execution_count": 205,
   "metadata": {
    "scrolled": true
   },
   "outputs": [
    {
     "data": {
      "image/png": "[encoded data removed]",
      "text/plain": [
       "<Figure size 432x288 with 2 Axes>"
      ]
     },
     "metadata": {
      "needs_background": "light"
     },
     "output_type": "display_data"
    }
   ],
   "source": [
    "plt.scatter(pvols, prets, c=prets/pvols, marker='o', cmap='plasma')\n",
    "plt.grid(True)\n",
    "plt.xlabel('expected volatility')\n",
    "plt.ylabel('expected return')\n",
    "plt.colorbar(label='Sharpe ratio')\n",
    "\n",
    "pt_opts = statistics(opts['x']).round(3)\n",
    "plt.scatter(pt_opts[1], pt_opts[0], marker=\"*\", s=500, alpha=0.5)\n",
    "plt.show()"
   ]
  },
  {
   "cell_type": "code",
   "execution_count": 206,
   "metadata": {},
   "outputs": [
    {
     "data": {
      "text/plain": [
       "array([1.72 , 0.306, 5.624])"
      ]
     },
     "execution_count": 206,
     "metadata": {},
     "output_type": "execute_result"
    }
   ],
   "source": [
    "statistics(opts['x']).round(3)"
   ]
  },
  {
   "cell_type": "markdown",
   "metadata": {},
   "source": [
    "#### Volatility Optimization"
   ]
  },
  {
   "cell_type": "code",
   "execution_count": 207,
   "metadata": {},
   "outputs": [],
   "source": [
    "def min_func_variance(weights):\n",
    "    return statistics(weights)[1] ** 2"
   ]
  },
  {
   "cell_type": "code",
   "execution_count": 209,
   "metadata": {},
   "outputs": [],
   "source": [
    "optv = sco.minimize(min_func_variance,  len(symbols) * [1. / len(symbols),], method='SLSQP',\n",
    "                       bounds=bnds, constraints=cons)"
   ]
  },
  {
   "cell_type": "code",
   "execution_count": 210,
   "metadata": {
    "scrolled": true
   },
   "outputs": [
    {
     "data": {
      "text/plain": [
       "     fun: 0.08755607169832164\n",
       "     jac: array([0.20900662, 0.17499237, 0.17465171, 0.23056719, 0.1752238 ])\n",
       " message: 'Optimization terminated successfully.'\n",
       "    nfev: 56\n",
       "     nit: 8\n",
       "    njev: 8\n",
       "  status: 0\n",
       " success: True\n",
       "       x: array([0.        , 0.37359503, 0.04403869, 0.        , 0.58236628])"
      ]
     },
     "execution_count": 210,
     "metadata": {},
     "output_type": "execute_result"
    }
   ],
   "source": [
    "optv"
   ]
  },
  {
   "cell_type": "code",
   "execution_count": 211,
   "metadata": {},
   "outputs": [
    {
     "data": {
      "text/plain": [
       "array([1.644, 0.296, 5.558])"
      ]
     },
     "execution_count": 211,
     "metadata": {},
     "output_type": "execute_result"
    }
   ],
   "source": [
    "statistics(optv['x']).round(3)"
   ]
  },
  {
   "cell_type": "code",
   "execution_count": 212,
   "metadata": {},
   "outputs": [
    {
     "data": {
      "image/png": "[encoded data removed]",
      "text/plain": [
       "<Figure size 432x288 with 2 Axes>"
      ]
     },
     "metadata": {
      "needs_background": "light"
     },
     "output_type": "display_data"
    }
   ],
   "source": [
    "plt.scatter(pvols, prets, c=prets/pvols, marker='o', cmap='plasma')\n",
    "plt.grid(True)\n",
    "plt.xlabel('expected volatility')\n",
    "plt.ylabel('expected return')\n",
    "plt.colorbar(label='Sharpe ratio')\n",
    "\n",
    "pt_optv = statistics(optv['x']).round(3)\n",
    "plt.scatter(pt_optv[1], pt_optv[0], marker=\"*\", s=500, alpha=0.5)\n",
    "plt.show()"
   ]
  },
  {
   "cell_type": "markdown",
   "metadata": {},
   "source": [
    "### Efficient Frontier"
   ]
  },
  {
   "cell_type": "code",
   "execution_count": 213,
   "metadata": {},
   "outputs": [],
   "source": [
    "cons = ({'type': 'eq', 'fun': lambda x:  statistics(x)[0] - tret},\n",
    "        {'type': 'eq', 'fun': lambda x:  np.sum(x) - 1})\n",
    "bnds = tuple((0, 1) for x in weights)"
   ]
  },
  {
   "cell_type": "code",
   "execution_count": 214,
   "metadata": {},
   "outputs": [],
   "source": [
    "def min_func_port(weights):\n",
    "    return statistics(weights)[1]"
   ]
  },
  {
   "cell_type": "code",
   "execution_count": 231,
   "metadata": {},
   "outputs": [
    {
     "data": {
      "text/plain": [
       "(1.603789180534093, 2.0461710019794483)"
      ]
     },
     "execution_count": 231,
     "metadata": {},
     "output_type": "execute_result"
    }
   ],
   "source": [
    "prets.min(), prets.max()"
   ]
  },
  {
   "cell_type": "code",
   "execution_count": 232,
   "metadata": {},
   "outputs": [
    {
     "name": "stdout",
     "output_type": "stream",
     "text": [
      "CPU times: user 4.7 s, sys: 19 ms, total: 4.72 s\n",
      "Wall time: 4.73 s\n"
     ]
    }
   ],
   "source": [
    "%%time\n",
    "trets = np.linspace(prets.min(), prets.max(), 50)\n",
    "tvols = []\n",
    "for tret in trets:\n",
    "    cons = ({'type': 'eq', 'fun': lambda x:  statistics(x)[0] - tret},\n",
    "            {'type': 'eq', 'fun': lambda x:  np.sum(x) - 1})\n",
    "    res = sco.minimize(min_func_port, len(symbols)* [1. / len(symbols),], method='SLSQP',\n",
    "                       bounds=bnds, constraints=cons)\n",
    "    tvols.append(res['fun'])\n",
    "tvols = np.array(tvols)"
   ]
  },
  {
   "cell_type": "code",
   "execution_count": 233,
   "metadata": {
    "scrolled": true
   },
   "outputs": [
    {
     "data": {
      "text/plain": [
       "array([0.30886893, 0.30383355, 0.29999423, 0.2973973 , 0.29607545,\n",
       "       0.29604577, 0.29693928, 0.29795645, 0.29906952, 0.3002774 ,\n",
       "       0.30157897, 0.30297305, 0.30445837, 0.30603358, 0.30769732,\n",
       "       0.30944816, 0.31128462, 0.31320521, 0.31520838, 0.31729258,\n",
       "       0.31945621, 0.32169768, 0.32401538, 0.32640767, 0.32887294,\n",
       "       0.33140956, 0.33401589, 0.33669031, 0.33943119, 0.34223694,\n",
       "       0.34510598, 0.34803677, 0.35102775, 0.35407739, 0.35718421,\n",
       "       0.36034672, 0.36356346, 0.36683294, 0.37015372, 0.37352453,\n",
       "       0.37694423, 0.38041123, 0.38392443, 0.38748248, 0.39108416,\n",
       "       0.39472829, 0.39841307, 0.40213845, 0.40590285, 0.4097052 ])"
      ]
     },
     "execution_count": 233,
     "metadata": {},
     "output_type": "execute_result"
    }
   ],
   "source": [
    "tvols"
   ]
  },
  {
   "cell_type": "code",
   "execution_count": 234,
   "metadata": {},
   "outputs": [
    {
     "data": {
      "image/png": "[encoded data removed]",
      "text/plain": [
       "<Figure size 432x288 with 2 Axes>"
      ]
     },
     "metadata": {
      "needs_background": "light"
     },
     "output_type": "display_data"
    }
   ],
   "source": [
    "plt.scatter(pvols, prets,\n",
    "            c=prets / pvols, marker='o', cmap='plasma')\n",
    "            # 무작위 포트폴리오\n",
    "    \n",
    "plt.scatter(tvols, trets,\n",
    "            c=trets / tvols, marker='x', s=70, linewidth=2, cmap='plasma')\n",
    "            # Efficient frontier\n",
    "    \n",
    "plt.plot(statistics(opts['x'])[1], statistics(opts['x'])[0],\n",
    "         'r*', markersize=30)\n",
    "            # Optimal Sharp ratio\n",
    "    \n",
    "plt.plot(statistics(optv['x'])[1], statistics(optv['x'])[0],\n",
    "         'y*', markersize=30)\n",
    "            # Optimal volatility\n",
    "plt.grid(True)\n",
    "plt.xlabel('expected volatility')\n",
    "plt.ylabel('expected return')\n",
    "plt.colorbar(label='Sharpe ratio')\n",
    "plt.show()"
   ]
  },
  {
   "cell_type": "markdown",
   "metadata": {},
   "source": [
    "### Capital Market Line\n",
    "Capital Asset Pricing Model, CAPM)"
   ]
  },
  {
   "cell_type": "code",
   "execution_count": 235,
   "metadata": {},
   "outputs": [],
   "source": [
    "import scipy.interpolate as sci"
   ]
  },
  {
   "cell_type": "code",
   "execution_count": 236,
   "metadata": {},
   "outputs": [],
   "source": [
    "ind = np.argmin(tvols)\n",
    "evols = tvols[ind:]\n",
    "erets = trets[ind:]"
   ]
  },
  {
   "cell_type": "code",
   "execution_count": 237,
   "metadata": {},
   "outputs": [],
   "source": [
    "tck = sci.splrep(evols, erets)"
   ]
  },
  {
   "cell_type": "code",
   "execution_count": 238,
   "metadata": {},
   "outputs": [],
   "source": [
    "def f(x):\n",
    "    ''' 효율적 투자선 함수 (스플라인 근사) '''\n",
    "    return sci.splev(x, tck, der=0)\n",
    "\n",
    "def df(x):\n",
    "    ''' 효율적 투자선 함수의 1차 도함수 '''\n",
    "    return sci.splev(x, tck, der=1)"
   ]
  },
  {
   "cell_type": "code",
   "execution_count": 239,
   "metadata": {},
   "outputs": [
    {
     "data": {
      "image/png": "[encoded data removed]",
      "text/plain": [
       "<Figure size 432x288 with 2 Axes>"
      ]
     },
     "metadata": {
      "needs_background": "light"
     },
     "output_type": "display_data"
    }
   ],
   "source": [
    "plt.scatter(pvols, prets,\n",
    "            c=prets / pvols, marker='o', cmap='plasma')\n",
    "            # 무작위 포트폴리오\n",
    "\n",
    "plt.plot(evols, f(evols), lw=7, alpha=0.5)    \n",
    "\n",
    "plt.grid(True)\n",
    "plt.xlabel('expected volatility')\n",
    "plt.ylabel('expected return')\n",
    "plt.colorbar(label='Sharpe ratio')\n",
    "plt.show()"
   ]
  },
  {
   "cell_type": "code",
   "execution_count": 240,
   "metadata": {},
   "outputs": [],
   "source": [
    "def equations(p, rf=0.01):\n",
    "    eq1 = rf - p[0]\n",
    "    eq2 = rf + p[1] * p[2] - f(p[2])\n",
    "    eq3 = p[1] - df(p[2])\n",
    "    return eq1, eq2, eq3"
   ]
  },
  {
   "cell_type": "code",
   "execution_count": 241,
   "metadata": {},
   "outputs": [
    {
     "data": {
      "text/plain": [
       "array([0.01      , 5.59140137, 0.30594074])"
      ]
     },
     "execution_count": 241,
     "metadata": {},
     "output_type": "execute_result"
    }
   ],
   "source": [
    "opt = sco.fsolve(equations, [0.01, 1.0, 0.1])\n",
    "opt"
   ]
  },
  {
   "cell_type": "code",
   "execution_count": 242,
   "metadata": {},
   "outputs": [
    {
     "data": {
      "text/plain": [
       "array([ 0., -0.,  0.])"
      ]
     },
     "execution_count": 242,
     "metadata": {},
     "output_type": "execute_result"
    }
   ],
   "source": [
    "np.round(equations(opt), 6)"
   ]
  },
  {
   "cell_type": "code",
   "execution_count": 243,
   "metadata": {},
   "outputs": [
    {
     "data": {
      "image/png": "[encoded data removed]",
      "text/plain": [
       "<Figure size 432x288 with 2 Axes>"
      ]
     },
     "metadata": {
      "needs_background": "light"
     },
     "output_type": "display_data"
    }
   ],
   "source": [
    "plt.scatter(pvols, prets,\n",
    "            c=(prets - 0.01) / pvols, marker='o', cmap='plasma')\n",
    "            # 무작위 포트폴리오\n",
    "plt.plot(evols, erets, 'g', lw=6, alpha=0.8)\n",
    "            # 효율적 투자선\n",
    "cx = np.linspace(0.0, 0.3)\n",
    "plt.plot(cx, opt[0] + opt[1] * cx, lw=2, alpha=0.8)\n",
    "            # 자본 시장선\n",
    "plt.plot(opt[2], f(opt[2]), 'r*', markersize=25.0) \n",
    "plt.grid(True)\n",
    "plt.axhline(0, color='k', ls='--', lw=2.0)\n",
    "plt.axvline(0, color='k', ls='--', lw=2.0)\n",
    "plt.xlabel('expected volatility')\n",
    "plt.ylabel('expected return')\n",
    "plt.colorbar(label='Sharpe ratio')\n",
    "plt.show()"
   ]
  },
  {
   "cell_type": "code",
   "execution_count": 245,
   "metadata": {},
   "outputs": [
    {
     "data": {
      "text/plain": [
       "array([0.111, 0.375, 0.039, 0.   , 0.474])"
      ]
     },
     "execution_count": 245,
     "metadata": {},
     "output_type": "execute_result"
    }
   ],
   "source": [
    "cons = ({'type': 'eq', 'fun': lambda x:  statistics(x)[0] - f(opt[2])},\n",
    "        {'type': 'eq', 'fun': lambda x:  np.sum(x) - 1})\n",
    "res = sco.minimize(min_func_port, len(symbols) * [1. / len(symbols),], method='SLSQP',\n",
    "                       bounds=bnds, constraints=cons)\n",
    "res['x'].round(3)"
   ]
  },
  {
   "cell_type": "code",
   "execution_count": null,
   "metadata": {},
   "outputs": [],
   "source": []
  },
  {
   "cell_type": "code",
   "execution_count": null,
   "metadata": {},
   "outputs": [],
   "source": []
  },
  {
   "cell_type": "code",
   "execution_count": null,
   "metadata": {},
   "outputs": [],
   "source": []
  },
  {
   "cell_type": "code",
   "execution_count": null,
   "metadata": {},
   "outputs": [],
   "source": []
  },
  {
   "cell_type": "code",
   "execution_count": null,
   "metadata": {},
   "outputs": [],
   "source": []
  },
  {
   "cell_type": "code",
   "execution_count": null,
   "metadata": {},
   "outputs": [],
   "source": []
  },
  {
   "cell_type": "code",
   "execution_count": null,
   "metadata": {},
   "outputs": [],
   "source": []
  },
  {
   "cell_type": "markdown",
   "metadata": {},
   "source": [
    "# Analytics"
   ]
  },
  {
   "cell_type": "markdown",
   "metadata": {},
   "source": [
    "###  main data frames to be used: \n",
    "#### 1. df_Flat\n",
    "#### 2. df  \n",
    "#### 3. df_Flat_pct_change"
   ]
  },
  {
   "cell_type": "code",
   "execution_count": null,
   "metadata": {},
   "outputs": [],
   "source": [
    "df_Flat"
   ]
  },
  {
   "cell_type": "code",
   "execution_count": null,
   "metadata": {},
   "outputs": [],
   "source": [
    "df = df.groupby(['Symbol', 'Date']).sum()\n",
    "\n",
    "df"
   ]
  },
  {
   "cell_type": "code",
   "execution_count": null,
   "metadata": {},
   "outputs": [],
   "source": [
    "df_Flat.groupby('Symbol')['Close'].pct_change()"
   ]
  },
  {
   "cell_type": "code",
   "execution_count": null,
   "metadata": {
    "scrolled": false
   },
   "outputs": [],
   "source": [
    "df_Flat_pct_change = pd.DataFrame()\n",
    "\n",
    "for i in df_Flat.columns.tolist():\n",
    "    if i !=\"Symbol\" and i!=\"Date\" :\n",
    "        data = df_Flat.groupby('Symbol')[i].pct_change()\n",
    "        df_Flat_pct_change[i] = data\n",
    "\n",
    "df_Flat_pct_change['Symbol'] = df_Flat['Symbol']\n",
    "df_Flat_pct_change['Date'] = df_Flat['Date']\n",
    "\n",
    "df_Flat_pct_change\n",
    "cols = df_Flat.columns.tolist()\n",
    "df_Flat_pct_change = df_Flat_pct_change[cols]\n",
    "\n",
    "df_Flat_pct_change"
   ]
  },
  {
   "cell_type": "code",
   "execution_count": null,
   "metadata": {
    "scrolled": true
   },
   "outputs": [],
   "source": [
    "df_temp = df.unstack(level=0).pct_change()  #df.groupby(['Symbol', 'Date']).sum().pct_change()\n",
    "\n",
    "df_temp"
   ]
  },
  {
   "cell_type": "markdown",
   "metadata": {},
   "source": [
    "## Functions defined"
   ]
  },
  {
   "cell_type": "code",
   "execution_count": null,
   "metadata": {},
   "outputs": [],
   "source": [
    "def format_column_number(dataframe, listCols):\n",
    "    for col in listCols:\n",
    "        try:\n",
    "            dataframe[col]= pd.Series([round(val, 2 ) for val in dataframe[col]], index= dataframe.index)\n",
    "        except ValueError:  #skips error when the column is in format already\n",
    "            dataframe[col] = dataframe[col]\n",
    "            pass\n",
    "    return dataframe\n",
    "\n",
    "def format_column_percentage(dataframe, listCols):\n",
    "    for col in listCols:\n",
    "        try:\n",
    "            dataframe[col] = pd.Series([\"{0:.2f}%\".format(val*100) for val in dataframe[col]], index= dataframe.index)\n",
    "        except ValueError:  #skips error when the column is in format already\n",
    "            dataframe[col] = dataframe[col]\n",
    "        \n",
    "    return dataframe"
   ]
  },
  {
   "cell_type": "code",
   "execution_count": null,
   "metadata": {},
   "outputs": [],
   "source": [
    "def CreatePctPlotAndSavefig(listTickers, stringTitle, stringYlabel, jpg_name):\n",
    "    sns.relplot(x='Date', y='Close', kind='line', hue ='Symbol',data=df_Flat_pct_change.groupby(['Symbol', 'Date']).sum().loc[listTickers].reset_index()).fig.autofmt_xdate()\n",
    "    plt.grid(which=\"major\", color='k', linestyle='-.', linewidth=0.5)\n",
    "    plt.title(stringTitle, fontsize=16)\n",
    "    plt.ylabel(stringYlabel, fontsize=14)\n",
    "    plt.xlabel('Date', fontsize=14)\n",
    "    #plt.tight_layout()\n",
    "\n",
    "    jpg_name = jpg_name + '.jpg'\n",
    "    plt.savefig(jpg_name, bbox_inches='tight')\n",
    "\n",
    "def CreatePlotAndSavefig(listTickers, stringTitle, stringYlabel, jpg_name):\n",
    "    sns.relplot(x='Date', y='Close', kind='line', hue ='Symbol',data=df.loc[listTickers].reset_index()).fig.autofmt_xdate()\n",
    "    plt.grid(which=\"major\", color='k', linestyle='-.', linewidth=0.5)\n",
    "    plt.title(stringTitle, fontsize=16)\n",
    "    plt.ylabel(stringYlabel, fontsize=14)\n",
    "    plt.xlabel('Date', fontsize=14)\n",
    "\n",
    "    jpg_name = jpg_name + '.jpg'\n",
    "    plt.savefig(jpg_name, bbox_inches='tight')"
   ]
  },
  {
   "cell_type": "markdown",
   "metadata": {},
   "source": [
    "### Best performed tickers based on percentage of of growth"
   ]
  },
  {
   "cell_type": "code",
   "execution_count": null,
   "metadata": {
    "scrolled": true
   },
   "outputs": [],
   "source": []
  },
  {
   "cell_type": "code",
   "execution_count": null,
   "metadata": {},
   "outputs": [],
   "source": [
    "tickers_bestPerformed = df_temp['Close'].describe().transpose().sort_values(by='mean', ascending=False).head(5) #df_pct_change['Close'].describe().transpose().sort_values(by='mean', ascending=False).head(5)\n",
    "\n"
   ]
  },
  {
   "cell_type": "code",
   "execution_count": null,
   "metadata": {},
   "outputs": [],
   "source": [
    "tickers_bestPerformed"
   ]
  },
  {
   "cell_type": "code",
   "execution_count": null,
   "metadata": {
    "scrolled": true
   },
   "outputs": [],
   "source": [
    "for i in range(len(tickers_bestPerformed.index)):\n",
    "    fig = go.Figure(data=[go.Candlestick(x= df_Flat.loc[df_Flat['Symbol']==tickers_bestPerformed.index[i]]['Date'],\n",
    "                open= df_Flat.loc[df_Flat['Symbol']==tickers_bestPerformed.index[i]]['Open'],\n",
    "                high= df_Flat.loc[df_Flat['Symbol']==tickers_bestPerformed.index[i]]['High'],\n",
    "                low= df_Flat.loc[df_Flat['Symbol']==tickers_bestPerformed.index[i]]['Low'],\n",
    "                close= df_Flat.loc[df_Flat['Symbol']==tickers_bestPerformed.index[i]]['Close'])])\n",
    "\n",
    "    fig.update_layout(xaxis_rangeslider_visible=False)\n",
    "    #fig.show()\n",
    "    fig_name = 'candle chart ' + tickers_bestPerformed.index[i] + '.html'\n",
    "    fig.write_html(fig_name)\n",
    "    "
   ]
  },
  {
   "cell_type": "code",
   "execution_count": null,
   "metadata": {
    "scrolled": true
   },
   "outputs": [],
   "source": [
    "tickers_bestPerformed = format_column_percentage(tickers_bestPerformed, tickers_bestPerformed.columns[1:])\n",
    "tickers_bestPerformed"
   ]
  },
  {
   "cell_type": "code",
   "execution_count": null,
   "metadata": {},
   "outputs": [],
   "source": []
  },
  {
   "cell_type": "code",
   "execution_count": null,
   "metadata": {
    "scrolled": true
   },
   "outputs": [],
   "source": [
    "CreatePlotAndSavefig(tickers_bestPerformed.index, 'Best performed companies based on % Changes in Close Price', 'change in closing price ($)', 'highest growth closing price')"
   ]
  },
  {
   "cell_type": "code",
   "execution_count": null,
   "metadata": {},
   "outputs": [],
   "source": [
    "CreatePctPlotAndSavefig(tickers_bestPerformed.index, 'Best performed companies based on % Changes in Close Price', 'change in closing price (%)', 'highest growth closing pct change')"
   ]
  },
  {
   "cell_type": "code",
   "execution_count": null,
   "metadata": {},
   "outputs": [],
   "source": []
  },
  {
   "cell_type": "markdown",
   "metadata": {},
   "source": [
    "## Volatility"
   ]
  },
  {
   "cell_type": "markdown",
   "metadata": {},
   "source": [
    "### most volatiled companies. (based on the standard deviation of percentage change)"
   ]
  },
  {
   "cell_type": "markdown",
   "metadata": {},
   "source": [
    "#### Top 5 companies with highest volatillity rates among S&P 100"
   ]
  },
  {
   "cell_type": "code",
   "execution_count": null,
   "metadata": {},
   "outputs": [],
   "source": [
    "tickers_volatile = df_temp['Close'].describe().transpose().sort_values(by='std', ascending=False).head(5)#.round(2)\n",
    "tickers_volatile = format_column_percentage(tickers_volatile, tickers_volatile.columns[1:])"
   ]
  },
  {
   "cell_type": "code",
   "execution_count": null,
   "metadata": {},
   "outputs": [],
   "source": [
    "tickers_volatile.index"
   ]
  },
  {
   "cell_type": "code",
   "execution_count": null,
   "metadata": {
    "scrolled": true
   },
   "outputs": [],
   "source": [
    "CreatePlotAndSavefig(tickers_volatile.index, 'Most volatiled companies based on % Changes in Close Price', 'change in closing price ($)', '2')"
   ]
  },
  {
   "cell_type": "code",
   "execution_count": null,
   "metadata": {},
   "outputs": [],
   "source": [
    "CreatePctPlotAndSavefig(tickers_volatile.index, 'Most volatiled companies based on % Changes in Close Price', 'change in closing price (%)', '1')"
   ]
  },
  {
   "cell_type": "code",
   "execution_count": null,
   "metadata": {},
   "outputs": [],
   "source": []
  },
  {
   "cell_type": "markdown",
   "metadata": {},
   "source": [
    "## Get date where highest drop and raise of closing price occured. "
   ]
  },
  {
   "cell_type": "code",
   "execution_count": null,
   "metadata": {
    "scrolled": true
   },
   "outputs": [],
   "source": [
    "highest_raise = df_Flat_pct_change.groupby(['Symbol'])['Close'].transform(max) == df_Flat_pct_change['Close']\n",
    "df_Flat_pct_change[highest_raise]"
   ]
  },
  {
   "cell_type": "code",
   "execution_count": null,
   "metadata": {
    "scrolled": true
   },
   "outputs": [],
   "source": [
    "highest_drop = df_Flat_pct_change.groupby(['Symbol'])['Close'].transform(min) == df_Flat_pct_change['Close']\n",
    "drops = df_Flat_pct_change[highest_drop]"
   ]
  },
  {
   "cell_type": "code",
   "execution_count": null,
   "metadata": {},
   "outputs": [],
   "source": [
    "drops"
   ]
  },
  {
   "cell_type": "code",
   "execution_count": null,
   "metadata": {
    "scrolled": true
   },
   "outputs": [],
   "source": [
    "drops['DateStr'] = drops['Date'].apply(lambda x: x.strftime('%Y/%m/%d'))"
   ]
  },
  {
   "cell_type": "code",
   "execution_count": null,
   "metadata": {
    "scrolled": false
   },
   "outputs": [],
   "source": [
    "drops['search_key'] = drops['Symbol']  + ' ' + drops['DateStr']"
   ]
  },
  {
   "cell_type": "markdown",
   "metadata": {},
   "source": [
    "## Search and scrap what happened to the stock on the date"
   ]
  },
  {
   "cell_type": "code",
   "execution_count": null,
   "metadata": {},
   "outputs": [],
   "source": [
    "search_list = drops.loc[drops['Symbol'].isin (tickers_bestPerformed.index)]['search_key'].tolist()"
   ]
  },
  {
   "cell_type": "code",
   "execution_count": null,
   "metadata": {
    "scrolled": true
   },
   "outputs": [],
   "source": [
    "search_list"
   ]
  },
  {
   "cell_type": "code",
   "execution_count": null,
   "metadata": {},
   "outputs": [],
   "source": []
  },
  {
   "cell_type": "code",
   "execution_count": null,
   "metadata": {},
   "outputs": [],
   "source": [
    "driver = webdriver.Chrome('/Users/reejungkim/opt/anaconda3/libexec/chromedriver')  \n",
    "driver.get('https://news.google.com/topstories?hl=en-GB&tab=wn&gl=GB&ceid=GB:en')\n",
    "driver.implicitly_wait(3)"
   ]
  },
  {
   "cell_type": "code",
   "execution_count": null,
   "metadata": {},
   "outputs": [],
   "source": [
    "xpath = '//*[@id=\"gb\"]/div[2]/div[2]/div/form/div[1]/div/div/div/div/div[1]/input[2]'\n",
    "search = driver.find_element_by_xpath(xpath)"
   ]
  },
  {
   "cell_type": "code",
   "execution_count": null,
   "metadata": {
    "scrolled": true
   },
   "outputs": [],
   "source": [
    "titles = []\n",
    "links = []\n",
    "searched=[]\n",
    "\n",
    "for keyword in search_list:\n",
    "    driver.implicitly_wait(30)\n",
    "    search.clear()\n",
    "    search.send_keys(keyword)\n",
    "    search.send_keys(Keys.ENTER)\n",
    "    driver.implicitly_wait(30)\n",
    "\n",
    "    url = driver.current_url\n",
    "    resp = requests.get(url)\n",
    "    soup = BeautifulSoup(resp.text, 'lxml')\n",
    "\n",
    "    for link in soup.select('h3 >a')[:5]:\n",
    "        href = 'https://news.google.com' + link.get('href')[1:]\n",
    "        title = link.string\n",
    "        searched.append(keyword)\n",
    "        titles.append(title)\n",
    "        links.append(href)\n",
    "    \n",
    "    search.clear()"
   ]
  },
  {
   "cell_type": "code",
   "execution_count": null,
   "metadata": {},
   "outputs": [],
   "source": [
    "news_data = { 'searched keyword': searched, 'title': titles, 'link': links}\n",
    "news_df = pd.DataFrame(news_data, columns=['searched keyword','title', 'link'])"
   ]
  },
  {
   "cell_type": "markdown",
   "metadata": {},
   "source": [
    "news_df['link'] = \"<a href=\" + \"\\\"{\" + news_df['link'] + \"}\" + \"\\\"\" + \">Click</a>\""
   ]
  },
  {
   "cell_type": "code",
   "execution_count": null,
   "metadata": {
    "scrolled": true
   },
   "outputs": [],
   "source": [
    "news_df"
   ]
  },
  {
   "cell_type": "code",
   "execution_count": null,
   "metadata": {},
   "outputs": [],
   "source": [
    "news_df.to_csv('./news.csv')"
   ]
  },
  {
   "cell_type": "markdown",
   "metadata": {},
   "source": [
    "#Open pdf file generated\n",
    "subprocess.run(['open', './news.csv'], check=True)"
   ]
  },
  {
   "cell_type": "code",
   "execution_count": null,
   "metadata": {},
   "outputs": [],
   "source": []
  },
  {
   "cell_type": "markdown",
   "metadata": {},
   "source": [
    "## S&P 100 total"
   ]
  },
  {
   "cell_type": "code",
   "execution_count": null,
   "metadata": {},
   "outputs": [],
   "source": [
    "import matplotlib.pyplot as plt\n",
    "import seaborn as sns\n",
    "\n",
    "sns.relplot(x='Date', y='Close', kind='line', data=df_Flat).fig.autofmt_xdate()\n",
    "\n",
    "plt.grid(which=\"major\", color='k', linestyle='-.', linewidth=0.5)\n",
    "plt.title('S&P100 Total', fontsize=16)\n",
    "plt.ylabel('Close', fontsize=14)\n",
    "plt.xlabel('Date', fontsize=14)\n",
    "\n",
    "jpg_name = 'SP100_total.jpg'\n",
    "plt.savefig(jpg_name, bbox_inches='tight')"
   ]
  },
  {
   "cell_type": "code",
   "execution_count": null,
   "metadata": {},
   "outputs": [],
   "source": []
  },
  {
   "cell_type": "markdown",
   "metadata": {},
   "source": [
    "pd.options.display.float_format = '{:,.2%}'.format\n",
    "display(tickers_volatile), display(tickers_bestPerformed)"
   ]
  },
  {
   "cell_type": "code",
   "execution_count": null,
   "metadata": {
    "scrolled": true
   },
   "outputs": [],
   "source": [
    "#pd.options.display.float_format = '{:,.2f}'.format\n",
    "dataToExport = df.loc[tickers_bestPerformed.index].unstack(0).describe()\n",
    "dataToExport = dataToExport.transpose().reset_index().groupby(['Symbol', 'level_0']).sum().round(2)\n",
    "\n",
    "dataToExport.rename_axis(index={\"level_0\":\"Type\"}, inplace=True)\n",
    "dataToExport"
   ]
  },
  {
   "cell_type": "code",
   "execution_count": null,
   "metadata": {},
   "outputs": [],
   "source": [
    "#format_column_percentage(dataToExport, dataToExport.columns[1:])"
   ]
  },
  {
   "cell_type": "markdown",
   "metadata": {},
   "source": [
    "dataToExport2 = df.loc[tickers_bestPerformed.index].unstack(0).describe().stack(0)\n",
    "dataToExport2"
   ]
  },
  {
   "cell_type": "markdown",
   "metadata": {},
   "source": [
    "# Create PDF file"
   ]
  },
  {
   "cell_type": "code",
   "execution_count": null,
   "metadata": {},
   "outputs": [],
   "source": [
    "today = dt.datetime.today().strftime('%Y-%m-%d')\n",
    "pdf_file_name = \"Report \"+ today +\".pdf\""
   ]
  },
  {
   "cell_type": "code",
   "execution_count": null,
   "metadata": {},
   "outputs": [],
   "source": [
    "def PrepareTableForReportLab(dataframe):\n",
    "    \n",
    "    data = dataframe\n",
    "\n",
    "    'handling grouped first index column'\n",
    "    a= []\n",
    "    for i in range(len(data)):\n",
    "        #print(i, data.index.get_level_values(0)[i])\n",
    "        if data.index.get_level_values(0)[i-1] == data.index.get_level_values(0)[i]:\n",
    "            a.append(i)\n",
    "    a.sort(reverse=True)\n",
    "\n",
    "    as_list = data.index.get_level_values(0).tolist()\n",
    "    for i in a:\n",
    "        as_list[i] = \"\"\n",
    "\n",
    "        \n",
    "    'flat dataframe'\n",
    "    data = data.reset_index()\n",
    "    'remove duplicated values from first column which was index before resetting index'\n",
    "    first_col_name = data.columns[0]\n",
    "    data[first_col_name] = as_list \n",
    "    \n",
    "    #data = dataframe.reset_index()\n",
    "    #colwidths = 800/len(data.columns) \n",
    "    data = [data.columns.to_list()] + data.values.tolist() \n",
    "\n",
    "    #tbl = Table(data) # \n",
    "    tbl = Table(data) #, colwidths ) #, rowheights)\n",
    "    tbl.setStyle(TableStyle([\n",
    "    ('INNERGRID', (0, 0), (-1, -1), 0.25, colors.black),\n",
    "    ('BOX', (0, 0), (-1, -1), 0.25, colors.black),\n",
    "    ('ALIGN', (1,1), (-1,-1), 'RIGHT'),\n",
    "    ('BACKGROUND', (0,0), (-1,0), colors.Color(0,0.7,0.7))\n",
    "    ]))\n",
    "    \n",
    "    return tbl"
   ]
  },
  {
   "cell_type": "markdown",
   "metadata": {},
   "source": [
    "def PrepareTableForReportLab_News_df(dataframe):\n",
    "    \n",
    "    data = dataframe\n",
    "\n",
    "    'handling grouped first index column'\n",
    "    a= []\n",
    "    for i in range(len(data)):\n",
    "        #print(i, data.index.get_level_values(0)[i])\n",
    "        if data.index.get_level_values(0)[i-1] == data.index.get_level_values(0)[i]:\n",
    "            a.append(i)\n",
    "    a.sort(reverse=True)\n",
    "\n",
    "    as_list = data.index.get_level_values(0).tolist()\n",
    "    for i in a:\n",
    "        as_list[i] = \"\"\n",
    "\n",
    "        \n",
    "    'flat dataframe'\n",
    "    data = data.reset_index()\n",
    "    'remove duplicated values from first column which was index before resetting index'\n",
    "    first_col_name = data.columns[0]\n",
    "    data[first_col_name] = as_list \n",
    "    \n",
    "    #data = dataframe.reset_index()\n",
    "    colwidths = 800/len(data.columns) \n",
    "    rowheights = 1.5*inch\n",
    "    data = [data.columns.to_list()] + data.values.tolist() \n",
    "\n",
    "    #tbl = Table(data) # \n",
    "    tbl = Table(data , colwidths, rowheights)\n",
    "    tbl.setStyle(TableStyle([\n",
    "    ('INNERGRID', (0, 0), (-1, -1), 0.25, colors.black),\n",
    "    ('BOX', (0, 0), (-1, -1), 0.25, colors.black),\n",
    "    ('ALIGN', (1,1), (-1,-1), 'RIGHT'),\n",
    "    ('BACKGROUND', (0,0), (-1,0), colors.Color(0,0.7,0.7))\n",
    "    ]))\n",
    "    \n",
    "    return tbl"
   ]
  },
  {
   "cell_type": "code",
   "execution_count": null,
   "metadata": {},
   "outputs": [],
   "source": [
    "story = []"
   ]
  },
  {
   "cell_type": "code",
   "execution_count": null,
   "metadata": {
    "scrolled": true
   },
   "outputs": [],
   "source": [
    "story.append(Paragraph(\"Highest growth rates\", getSampleStyleSheet()['Heading1']))\n",
    "story.append(Paragraph(\"highest growth rates in past <i>\" + str(days_to_lookback) + \" days</i>.\",  getSampleStyleSheet()['Normal']))\n",
    "story.append(Spacer(1,20))\n",
    "story.append((PrepareTableForReportLab(dataToExport)))\n",
    "story.append(Spacer(1,20))\n",
    "story.append(PrepareTableForReportLab(tickers_bestPerformed))\n",
    "story.append(PageBreak())\n",
    "\n",
    "story.append(Paragraph(\"Volatility\", getSampleStyleSheet()['Heading1']))\n",
    "story.append(Paragraph(\"highest volatility rates in past <i>\" + str(days_to_lookback)  + \" days</i>.\",  getSampleStyleSheet()['Normal']))\n",
    "story.append(Spacer(1,20))\n",
    "story.append(PrepareTableForReportLab(tickers_volatile))\n",
    "story.append(PageBreak())"
   ]
  },
  {
   "cell_type": "markdown",
   "metadata": {},
   "source": [
    "#### Add graph images saved in the timestamped folder"
   ]
  },
  {
   "cell_type": "code",
   "execution_count": null,
   "metadata": {},
   "outputs": [],
   "source": [
    "for file in sorted(os.listdir(reportDir), key=os.path.getmtime):\n",
    "    if file.endswith('jpg'):\n",
    "        temp = file\n",
    "        temp = 'image_'+ temp\n",
    "        print(temp)\n",
    "        temp = Image(file)\n",
    "        #story.append(Spacer(1, 20))\n",
    "        story.append(temp)"
   ]
  },
  {
   "cell_type": "markdown",
   "metadata": {},
   "source": [
    "story.append(PageBreak())\n",
    "story.append(PrepareTableForReportLab_News_df(news_df))"
   ]
  },
  {
   "cell_type": "code",
   "execution_count": null,
   "metadata": {},
   "outputs": [],
   "source": []
  },
  {
   "cell_type": "code",
   "execution_count": null,
   "metadata": {},
   "outputs": [],
   "source": [
    "doc = SimpleDocTemplate(pdf_file_name, pagesize = landscape(letter), topMargin = inch * .25, bottomMargin = inch * .25)\n",
    "doc.build(story)"
   ]
  },
  {
   "cell_type": "code",
   "execution_count": null,
   "metadata": {},
   "outputs": [],
   "source": [
    "#open folder\n",
    "subprocess.run(['open', reportDir], check=True)"
   ]
  },
  {
   "cell_type": "code",
   "execution_count": null,
   "metadata": {
    "scrolled": true
   },
   "outputs": [],
   "source": [
    "#Open pdf file generated\n",
    "subprocess.run(['open', pdf_file_name], check=True)"
   ]
  },
  {
   "cell_type": "code",
   "execution_count": null,
   "metadata": {},
   "outputs": [],
   "source": []
  }
 ],
 "metadata": {
  "kernelspec": {
   "display_name": "Python 3",
   "language": "python",
   "name": "python3"
  },
  "language_info": {
   "codemirror_mode": {
    "name": "ipython",
    "version": 3
   },
   "file_extension": ".py",
   "mimetype": "text/x-python",
   "name": "python",
   "nbconvert_exporter": "python",
   "pygments_lexer": "ipython3",
   "version": "3.7.7"
  }
 },
 "nbformat": 4,
 "nbformat_minor": 4
}
