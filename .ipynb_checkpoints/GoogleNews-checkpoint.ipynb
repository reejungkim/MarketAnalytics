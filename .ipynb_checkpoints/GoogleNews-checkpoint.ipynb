{
 "cells": [
  {
   "cell_type": "code",
   "execution_count": 1,
   "metadata": {},
   "outputs": [],
   "source": [
    "from GoogleNews import GoogleNews\n",
    "\n",
    "import pandas as pd\n",
    "from pandas import json_normalize\n"
   ]
  },
  {
   "cell_type": "code",
   "execution_count": 2,
   "metadata": {},
   "outputs": [
    {
     "name": "stdout",
     "output_type": "stream",
     "text": [
      "5 5\n"
     ]
    }
   ],
   "source": [
    "googlenews = GoogleNews()\n",
    "#googlenews.clear()\n",
    "googlenews.search('Trump')\n",
    "#googlenews.clear()\n",
    "#googlenews.getpage(8)\n",
    "result1 = googlenews.result()[:5]\n",
    "googlenews.clear()\n",
    "googlenews.search('South Korea')\n",
    "result2 = googlenews.result()[:5]\n",
    "print(len(result1), len(result2))"
   ]
  },
  {
   "cell_type": "markdown",
   "metadata": {},
   "source": [
    "for n in range(len(result)):\n",
    "    print(n)\n",
    "    for index in result[n]:\n",
    "        print(index, '\\n', result[n][index])\n",
    "\n",
    "    exit()"
   ]
  },
  {
   "cell_type": "code",
   "execution_count": 3,
   "metadata": {
    "scrolled": true
   },
   "outputs": [],
   "source": [
    "df = pd.DataFrame.from_dict(json_normalize(result1), orient='columns')"
   ]
  },
  {
   "cell_type": "code",
   "execution_count": 4,
   "metadata": {},
   "outputs": [
    {
     "data": {
      "text/html": [
       "<div>\n",
       "<style scoped>\n",
       "    .dataframe tbody tr th:only-of-type {\n",
       "        vertical-align: middle;\n",
       "    }\n",
       "\n",
       "    .dataframe tbody tr th {\n",
       "        vertical-align: top;\n",
       "    }\n",
       "\n",
       "    .dataframe thead th {\n",
       "        text-align: right;\n",
       "    }\n",
       "</style>\n",
       "<table border=\"1\" class=\"dataframe\">\n",
       "  <thead>\n",
       "    <tr style=\"text-align: right;\">\n",
       "      <th></th>\n",
       "      <th>title</th>\n",
       "      <th>media</th>\n",
       "      <th>date</th>\n",
       "      <th>desc</th>\n",
       "      <th>link</th>\n",
       "      <th>img</th>\n",
       "    </tr>\n",
       "  </thead>\n",
       "  <tbody>\n",
       "    <tr>\n",
       "      <th>0</th>\n",
       "      <td>Trump's brother tries again to block niece's t...</td>\n",
       "      <td>The Guardian</td>\n",
       "      <td>10 hours ago</td>\n",
       "      <td>Robert Trump takes his bid to stop publication...</td>\n",
       "      <td>https://www.theguardian.com/books/2020/jun/29/...</td>\n",
       "      <td>https://encrypted-tbn0.gstatic.com/images?q=tb...</td>\n",
       "    </tr>\n",
       "    <tr>\n",
       "      <th>1</th>\n",
       "      <td>This has got to be the worst of Trump's outrages</td>\n",
       "      <td>CNN</td>\n",
       "      <td>5 hours ago</td>\n",
       "      <td>Paul Begala, a Democratic strategist and CNN p...</td>\n",
       "      <td>https://www.cnn.com/2020/06/29/opinions/russia...</td>\n",
       "      <td>https://encrypted-tbn0.gstatic.com/images?q=tb...</td>\n",
       "    </tr>\n",
       "    <tr>\n",
       "      <th>2</th>\n",
       "      <td>Twitch temporarily bans President Trump</td>\n",
       "      <td>The Verge</td>\n",
       "      <td>4 hours ago</td>\n",
       "      <td>Twitch has temporarily banned President Donald...</td>\n",
       "      <td>https://www.theverge.com/2020/6/29/21307145/tw...</td>\n",
       "      <td>https://encrypted-tbn0.gstatic.com/images?q=tb...</td>\n",
       "    </tr>\n",
       "    <tr>\n",
       "      <th>3</th>\n",
       "      <td>Covid-19 turns battleground states into hotspo...</td>\n",
       "      <td>The Guardian</td>\n",
       "      <td>2 hours ago</td>\n",
       "      <td>Covid-19 turns battleground states into hotspo...</td>\n",
       "      <td>https://www.theguardian.com/us-news/2020/jun/2...</td>\n",
       "      <td>data:image/gif;base64,R0lGODlhAQABAIAAAP//////...</td>\n",
       "    </tr>\n",
       "    <tr>\n",
       "      <th>4</th>\n",
       "      <td>Qasem Soleimani: Iran seeks Trump's arrest ove...</td>\n",
       "      <td>BBC News</td>\n",
       "      <td>6 hours ago</td>\n",
       "      <td>Iran has issued an arrest warrant for US Presi...</td>\n",
       "      <td>https://www.bbc.co.uk/news/world-middle-east-5...</td>\n",
       "      <td>data:image/gif;base64,R0lGODlhAQABAIAAAP//////...</td>\n",
       "    </tr>\n",
       "  </tbody>\n",
       "</table>\n",
       "</div>"
      ],
      "text/plain": [
       "                                               title         media  \\\n",
       "0  Trump's brother tries again to block niece's t...  The Guardian   \n",
       "1   This has got to be the worst of Trump's outrages           CNN   \n",
       "2            Twitch temporarily bans President Trump     The Verge   \n",
       "3  Covid-19 turns battleground states into hotspo...  The Guardian   \n",
       "4  Qasem Soleimani: Iran seeks Trump's arrest ove...      BBC News   \n",
       "\n",
       "           date                                               desc  \\\n",
       "0  10 hours ago  Robert Trump takes his bid to stop publication...   \n",
       "1   5 hours ago  Paul Begala, a Democratic strategist and CNN p...   \n",
       "2   4 hours ago  Twitch has temporarily banned President Donald...   \n",
       "3   2 hours ago  Covid-19 turns battleground states into hotspo...   \n",
       "4   6 hours ago  Iran has issued an arrest warrant for US Presi...   \n",
       "\n",
       "                                                link  \\\n",
       "0  https://www.theguardian.com/books/2020/jun/29/...   \n",
       "1  https://www.cnn.com/2020/06/29/opinions/russia...   \n",
       "2  https://www.theverge.com/2020/6/29/21307145/tw...   \n",
       "3  https://www.theguardian.com/us-news/2020/jun/2...   \n",
       "4  https://www.bbc.co.uk/news/world-middle-east-5...   \n",
       "\n",
       "                                                 img  \n",
       "0  https://encrypted-tbn0.gstatic.com/images?q=tb...  \n",
       "1  https://encrypted-tbn0.gstatic.com/images?q=tb...  \n",
       "2  https://encrypted-tbn0.gstatic.com/images?q=tb...  \n",
       "3  data:image/gif;base64,R0lGODlhAQABAIAAAP//////...  \n",
       "4  data:image/gif;base64,R0lGODlhAQABAIAAAP//////...  "
      ]
     },
     "execution_count": 4,
     "metadata": {},
     "output_type": "execute_result"
    }
   ],
   "source": [
    "df"
   ]
  },
  {
   "cell_type": "code",
   "execution_count": 5,
   "metadata": {},
   "outputs": [
    {
     "data": {
      "text/html": [
       "<div>\n",
       "<style scoped>\n",
       "    .dataframe tbody tr th:only-of-type {\n",
       "        vertical-align: middle;\n",
       "    }\n",
       "\n",
       "    .dataframe tbody tr th {\n",
       "        vertical-align: top;\n",
       "    }\n",
       "\n",
       "    .dataframe thead th {\n",
       "        text-align: right;\n",
       "    }\n",
       "</style>\n",
       "<table border=\"1\" class=\"dataframe\">\n",
       "  <thead>\n",
       "    <tr style=\"text-align: right;\">\n",
       "      <th></th>\n",
       "      <th>title</th>\n",
       "      <th>media</th>\n",
       "      <th>date</th>\n",
       "      <th>desc</th>\n",
       "      <th>link</th>\n",
       "      <th>img</th>\n",
       "    </tr>\n",
       "  </thead>\n",
       "  <tbody>\n",
       "    <tr>\n",
       "      <th>0</th>\n",
       "      <td>South Korea Caught in Endless Coronavirus Whac...</td>\n",
       "      <td>Wall Street Journal</td>\n",
       "      <td>6 hours ago</td>\n",
       "      <td>South Korean health officials are contemplatin...</td>\n",
       "      <td>https://www.wsj.com/articles/south-korea-caugh...</td>\n",
       "      <td>https://encrypted-tbn0.gstatic.com/images?q=tb...</td>\n",
       "    </tr>\n",
       "    <tr>\n",
       "      <th>1</th>\n",
       "      <td>North Korea invades South Korea –archive, 1950</td>\n",
       "      <td>The Guardian</td>\n",
       "      <td>25 Jun 2020</td>\n",
       "      <td>26 June 1950: North Korean forces cross into t...</td>\n",
       "      <td>https://www.theguardian.com/world/2020/jun/26/...</td>\n",
       "      <td>https://encrypted-tbn0.gstatic.com/images?q=tb...</td>\n",
       "    </tr>\n",
       "    <tr>\n",
       "      <th>2</th>\n",
       "      <td>South Korea Accuses Japan of Shamelessness in ...</td>\n",
       "      <td>Wall Street Journal</td>\n",
       "      <td>9 hours ago</td>\n",
       "      <td>South Korean President Moon Jae-in and Prime M...</td>\n",
       "      <td>https://www.wsj.com/articles/south-korea-accus...</td>\n",
       "      <td>https://encrypted-tbn0.gstatic.com/images?q=tb...</td>\n",
       "    </tr>\n",
       "    <tr>\n",
       "      <th>3</th>\n",
       "      <td>South Korea to spend $2 billion on aircraft buy</td>\n",
       "      <td>DefenseNews.com</td>\n",
       "      <td>4 hours ago</td>\n",
       "      <td>MELBOURNE, Australia – South Korea is set to a...</td>\n",
       "      <td>https://www.defensenews.com/global/asia-pacifi...</td>\n",
       "      <td>data:image/gif;base64,R0lGODlhAQABAIAAAP//////...</td>\n",
       "    </tr>\n",
       "    <tr>\n",
       "      <th>4</th>\n",
       "      <td>South Korea to reallocate mid-band spectrum fo...</td>\n",
       "      <td>ZDNet</td>\n",
       "      <td>16 hours ago</td>\n",
       "      <td>South Korea will reallocate 3.7GHz to 4GHz spe...</td>\n",
       "      <td>https://www.zdnet.com/article/south-korea-to-r...</td>\n",
       "      <td>data:image/gif;base64,R0lGODlhAQABAIAAAP//////...</td>\n",
       "    </tr>\n",
       "  </tbody>\n",
       "</table>\n",
       "</div>"
      ],
      "text/plain": [
       "                                               title                media  \\\n",
       "0  South Korea Caught in Endless Coronavirus Whac...  Wall Street Journal   \n",
       "1     North Korea invades South Korea –archive, 1950         The Guardian   \n",
       "2  South Korea Accuses Japan of Shamelessness in ...  Wall Street Journal   \n",
       "3    South Korea to spend $2 billion on aircraft buy      DefenseNews.com   \n",
       "4  South Korea to reallocate mid-band spectrum fo...                ZDNet   \n",
       "\n",
       "           date                                               desc  \\\n",
       "0   6 hours ago  South Korean health officials are contemplatin...   \n",
       "1   25 Jun 2020  26 June 1950: North Korean forces cross into t...   \n",
       "2   9 hours ago  South Korean President Moon Jae-in and Prime M...   \n",
       "3   4 hours ago  MELBOURNE, Australia – South Korea is set to a...   \n",
       "4  16 hours ago  South Korea will reallocate 3.7GHz to 4GHz spe...   \n",
       "\n",
       "                                                link  \\\n",
       "0  https://www.wsj.com/articles/south-korea-caugh...   \n",
       "1  https://www.theguardian.com/world/2020/jun/26/...   \n",
       "2  https://www.wsj.com/articles/south-korea-accus...   \n",
       "3  https://www.defensenews.com/global/asia-pacifi...   \n",
       "4  https://www.zdnet.com/article/south-korea-to-r...   \n",
       "\n",
       "                                                 img  \n",
       "0  https://encrypted-tbn0.gstatic.com/images?q=tb...  \n",
       "1  https://encrypted-tbn0.gstatic.com/images?q=tb...  \n",
       "2  https://encrypted-tbn0.gstatic.com/images?q=tb...  \n",
       "3  data:image/gif;base64,R0lGODlhAQABAIAAAP//////...  \n",
       "4  data:image/gif;base64,R0lGODlhAQABAIAAAP//////...  "
      ]
     },
     "execution_count": 5,
     "metadata": {},
     "output_type": "execute_result"
    }
   ],
   "source": [
    "pd.DataFrame.from_dict(json_normalize(result2), orient='columns')"
   ]
  },
  {
   "cell_type": "code",
   "execution_count": null,
   "metadata": {},
   "outputs": [],
   "source": []
  }
 ],
 "metadata": {
  "kernelspec": {
   "display_name": "Python 3",
   "language": "python",
   "name": "python3"
  },
  "language_info": {
   "codemirror_mode": {
    "name": "ipython",
    "version": 3
   },
   "file_extension": ".py",
   "mimetype": "text/x-python",
   "name": "python",
   "nbconvert_exporter": "python",
   "pygments_lexer": "ipython3",
   "version": "3.7.7"
  }
 },
 "nbformat": 4,
 "nbformat_minor": 4
}
