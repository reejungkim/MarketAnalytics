{
 "cells": [
  {
   "cell_type": "code",
   "execution_count": 1,
   "metadata": {},
   "outputs": [],
   "source": [
    "from reportlab.lib.pagesizes import letter\n",
    "from reportlab.pdfgen import canvas\n",
    "\n",
    "canvas = canvas.Canvas(\"form.pdf\", pagesize=letter)\n",
    "canvas.setLineWidth(.3)\n",
    "canvas.setFont('Helvetica', 12)\n",
    "\n",
    "canvas.drawString(30,750,'OFFICIAL COMMUNIQUE')\n",
    "canvas.drawString(30,735,'OF ACME INDUSTRIES')\n",
    "canvas.drawString(500,750,\"12/12/2010\")\n",
    "canvas.line(480,747,580,747)\n",
    "\n",
    "canvas.drawString(275,725,'AMOUNT OWED:')\n",
    "canvas.drawString(500,725,\"$1,000.00\")\n",
    "canvas.line(378,723,580,723)\n",
    "\n",
    "canvas.drawString(30,703,'RECEIVED BY:')\n",
    "canvas.line(120,700,580,700)\n",
    "canvas.drawString(120,703,\"JOHN DOE\")\n",
    "\n",
    "canvas.save()"
   ]
  }
 ],
 "metadata": {
  "kernelspec": {
   "display_name": "Python 3",
   "language": "python",
   "name": "python3"
  },
  "language_info": {
   "codemirror_mode": {
    "name": "ipython",
    "version": 3
   },
   "file_extension": ".py",
   "mimetype": "text/x-python",
   "name": "python",
   "nbconvert_exporter": "python",
   "pygments_lexer": "ipython3",
   "version": "3.7.7"
  }
 },
 "nbformat": 4,
 "nbformat_minor": 4
}
